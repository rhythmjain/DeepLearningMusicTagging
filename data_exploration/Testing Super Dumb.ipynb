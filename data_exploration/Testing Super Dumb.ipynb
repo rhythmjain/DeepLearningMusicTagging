{
 "cells": [
  {
   "cell_type": "code",
   "execution_count": 1,
   "id": "8dde38ab",
   "metadata": {},
   "outputs": [],
   "source": [
    "from torch import nn\n",
    "import torch"
   ]
  },
  {
   "cell_type": "code",
   "execution_count": 2,
   "id": "0c0b7a64",
   "metadata": {},
   "outputs": [],
   "source": [
    "from torch.nn.utils.rnn import pad_sequence"
   ]
  },
  {
   "cell_type": "code",
   "execution_count": 3,
   "id": "eb94593b",
   "metadata": {},
   "outputs": [],
   "source": [
    "import numpy as np"
   ]
  },
  {
   "cell_type": "code",
   "execution_count": 4,
   "id": "26f5b02f",
   "metadata": {},
   "outputs": [],
   "source": [
    "import pandas as pd"
   ]
  },
  {
   "cell_type": "code",
   "execution_count": 5,
   "id": "a58fb134",
   "metadata": {},
   "outputs": [],
   "source": [
    "import os"
   ]
  },
  {
   "cell_type": "code",
   "execution_count": 6,
   "id": "42b6ccad",
   "metadata": {},
   "outputs": [],
   "source": [
    "from einops import rearrange"
   ]
  },
  {
   "cell_type": "code",
   "execution_count": 7,
   "id": "7214728f",
   "metadata": {},
   "outputs": [],
   "source": [
    "import random"
   ]
  },
  {
   "cell_type": "code",
   "execution_count": 8,
   "id": "a68cbc3e",
   "metadata": {},
   "outputs": [],
   "source": [
    "from torch.utils.data import DataLoader"
   ]
  },
  {
   "cell_type": "code",
   "execution_count": 9,
   "id": "f41473dd",
   "metadata": {},
   "outputs": [],
   "source": [
    "import torchvision.transforms as T"
   ]
  },
  {
   "cell_type": "code",
   "execution_count": 10,
   "id": "0e72087d",
   "metadata": {},
   "outputs": [],
   "source": [
    "from skimage.util import random_noise"
   ]
  },
  {
   "cell_type": "code",
   "execution_count": 11,
   "id": "65c3dcbb",
   "metadata": {},
   "outputs": [],
   "source": [
    "import matplotlib.pyplot as plt\n",
    "import seaborn as sns\n",
    "sns.set_theme()"
   ]
  },
  {
   "cell_type": "code",
   "execution_count": 12,
   "id": "ef921677",
   "metadata": {},
   "outputs": [
    {
     "name": "stderr",
     "output_type": "stream",
     "text": [
      "C:\\Users\\aag12\\anaconda3\\envs\\ml_env\\lib\\site-packages\\torchaudio\\backend\\utils.py:62: UserWarning: No audio backend is available.\n",
      "  warnings.warn(\"No audio backend is available.\")\n"
     ]
    }
   ],
   "source": [
    "import torchaudio"
   ]
  },
  {
   "cell_type": "code",
   "execution_count": 13,
   "id": "10dd49da",
   "metadata": {},
   "outputs": [],
   "source": [
    "from sklearn import preprocessing"
   ]
  },
  {
   "cell_type": "code",
   "execution_count": 14,
   "id": "0b4914d1",
   "metadata": {},
   "outputs": [],
   "source": [
    "from sklearn.model_selection import train_test_split"
   ]
  },
  {
   "cell_type": "code",
   "execution_count": 15,
   "id": "dc6dbff6",
   "metadata": {},
   "outputs": [],
   "source": [
    "from tqdm import tqdm"
   ]
  },
  {
   "cell_type": "code",
   "execution_count": 16,
   "id": "6e2c9c19",
   "metadata": {},
   "outputs": [],
   "source": [
    "from tqdm import tqdm\n",
    "import torch.optim as optim"
   ]
  },
  {
   "cell_type": "code",
   "execution_count": 423,
   "id": "27195803",
   "metadata": {},
   "outputs": [],
   "source": [
    "from sklearn.preprocessing import MinMaxScaler"
   ]
  },
  {
   "cell_type": "markdown",
   "id": "8864ad63",
   "metadata": {},
   "source": [
    "# Defining Dataseat"
   ]
  },
  {
   "cell_type": "code",
   "execution_count": 17,
   "id": "3c432a88",
   "metadata": {},
   "outputs": [],
   "source": [
    "from datasets import load_dataset"
   ]
  },
  {
   "cell_type": "code",
   "execution_count": 18,
   "id": "c2e2a3ed",
   "metadata": {},
   "outputs": [],
   "source": [
    "from datasets import disable_caching\n",
    "disable_caching()"
   ]
  },
  {
   "cell_type": "code",
   "execution_count": 19,
   "id": "d735a169",
   "metadata": {},
   "outputs": [],
   "source": [
    "# good_files = []\n",
    "# for i in range(1, 6):\n",
    "#     new_files = [f\"0{i}/{fname.replace('npy', '')}mp3\" for fname in os.listdir(f\"../../subset_moodtheme/0{i}\")]\n",
    "#     good_files.extend(new_files)\n",
    "\n",
    "# test_files = [f\"00/{fname.replace('npy', '')}mp3\" for fname in os.listdir(\"../../subset_moodtheme/00\")]\n",
    "# print(good_files)\n",
    "# print(test_files)"
   ]
  },
  {
   "cell_type": "code",
   "execution_count": 20,
   "id": "6386c2a5",
   "metadata": {},
   "outputs": [],
   "source": [
    "with open(\"goodfiles.txt\", 'r') as f:\n",
    "    all_files = f.readlines()\n",
    "all_files = [g.strip().replace(\"npy\", 'mp3') for g in all_files if len(g.strip()) > 0]"
   ]
  },
  {
   "cell_type": "code",
   "execution_count": 21,
   "id": "e64a05c5",
   "metadata": {},
   "outputs": [
    {
     "data": {
      "text/plain": [
       "['01/846501.mp3', '34/1288334.mp3', '98/1082098.mp3']"
      ]
     },
     "execution_count": 21,
     "metadata": {},
     "output_type": "execute_result"
    }
   ],
   "source": [
    "all_files[:3]"
   ]
  },
  {
   "cell_type": "code",
   "execution_count": null,
   "id": "ae153e5e",
   "metadata": {},
   "outputs": [],
   "source": []
  },
  {
   "cell_type": "code",
   "execution_count": 22,
   "id": "cc07061d",
   "metadata": {},
   "outputs": [],
   "source": [
    "good_files, test_files = train_test_split(all_files, test_size=0.2)"
   ]
  },
  {
   "cell_type": "code",
   "execution_count": 23,
   "id": "98d6ecc7",
   "metadata": {},
   "outputs": [
    {
     "data": {
      "text/plain": [
       "(2200, 551)"
      ]
     },
     "execution_count": 23,
     "metadata": {},
     "output_type": "execute_result"
    }
   ],
   "source": [
    "len(good_files), len(test_files)"
   ]
  },
  {
   "cell_type": "code",
   "execution_count": 24,
   "id": "b668f4e6",
   "metadata": {},
   "outputs": [],
   "source": [
    "def files_to_labels(files):\n",
    "    col_names = ['TRACK_ID',\n",
    "     'ARTIST_ID',\n",
    "     'ALBUM_ID',\n",
    "     'PATH',\n",
    "     'DURATION',\n",
    "     'TAGS',\n",
    "     'TAGS2',\n",
    "     'TAGS3',\n",
    "     'TAGS4',\n",
    "     'TAGS5',\n",
    "     'TAGS6',\n",
    "     'TAGS7',\n",
    "     'TAGS8',\n",
    "     'TAGS9']\n",
    "    MOODPATH = \"../../../Downloads/autotagging_moodtheme.tsv.txt\"\n",
    "    df = pd.read_csv(MOODPATH, sep='\\t', names=col_names)\n",
    "    df = df[df[\"PATH\"].isin(files)]\n",
    "    inds = {'fast': 0,\n",
    "     'sexy': 1,\n",
    "     'mellow': 2,\n",
    "     'heavy': 3,\n",
    "     'horror': 4,\n",
    "     'travel': 5,\n",
    "     'holiday': 6,\n",
    "     'groovy': 7,\n",
    "     'funny': 8,\n",
    "     'retro': 9,\n",
    "     'hopeful': 10,\n",
    "     'powerful': 11,\n",
    "     'cool': 12,\n",
    "     'nature': 13,\n",
    "     'game': 14}\n",
    "\n",
    "    final_labels = []\n",
    "    for i in range(len(df)):\n",
    "        curr = np.zeros(len(inds))\n",
    "        moods = list(df.iloc[i])[5:]\n",
    "        for theme in moods:\n",
    "            if type(theme) == str and \"mood\" in theme:\n",
    "                check = theme.split(\"---\")[-1]\n",
    "                if check in inds:\n",
    "                    curr[inds[check]] = 1\n",
    "            else:\n",
    "                pass\n",
    "\n",
    "        final_labels.append(curr)\n",
    "    return final_labels"
   ]
  },
  {
   "cell_type": "code",
   "execution_count": null,
   "id": "2a533963",
   "metadata": {},
   "outputs": [],
   "source": []
  },
  {
   "cell_type": "code",
   "execution_count": 25,
   "id": "07d2d0ea",
   "metadata": {},
   "outputs": [],
   "source": [
    "train_labels = files_to_labels(good_files)"
   ]
  },
  {
   "cell_type": "code",
   "execution_count": 26,
   "id": "d874d298",
   "metadata": {},
   "outputs": [],
   "source": [
    "test_labels = files_to_labels(test_files)"
   ]
  },
  {
   "cell_type": "code",
   "execution_count": 27,
   "id": "678f7c66",
   "metadata": {},
   "outputs": [
    {
     "data": {
      "text/plain": [
       "[array([0., 0., 0., 0., 0., 0., 0., 0., 0., 0., 0., 0., 1., 0., 0.]),\n",
       " array([0., 0., 0., 0., 0., 0., 0., 0., 0., 0., 0., 0., 1., 0., 0.])]"
      ]
     },
     "execution_count": 27,
     "metadata": {},
     "output_type": "execute_result"
    }
   ],
   "source": [
    "train_labels[:2]"
   ]
  },
  {
   "cell_type": "code",
   "execution_count": 28,
   "id": "545d632d",
   "metadata": {},
   "outputs": [],
   "source": [
    "# train_np_files = [(\"../../subset_moodtheme/\" + g).replace(\".mp3\", \".npy\") for g in good_files]\n",
    "# test_np_files = [(\"../../subset_moodtheme/\" + g).replace(\".mp3\", \".npy\") for g in test_files]\n",
    "train_np_files = [\"../../mtg-jamendo-dataset/all_data/\" + g.replace(\"mp3\", \"npy\") for g in good_files]\n",
    "test_np_files = [\"../../mtg-jamendo-dataset/all_data/\" + g.replace(\"mp3\", \"npy\") for g in test_files]"
   ]
  },
  {
   "cell_type": "code",
   "execution_count": 29,
   "id": "e9b18b4c",
   "metadata": {},
   "outputs": [
    {
     "data": {
      "text/plain": [
       "(['../../mtg-jamendo-dataset/all_data/31/78731.npy',\n",
       "  '../../mtg-jamendo-dataset/all_data/71/1346171.npy'],\n",
       " ['../../mtg-jamendo-dataset/all_data/48/1223148.npy',\n",
       "  '../../mtg-jamendo-dataset/all_data/92/1394892.npy'])"
      ]
     },
     "execution_count": 29,
     "metadata": {},
     "output_type": "execute_result"
    }
   ],
   "source": [
    "train_np_files[:2], test_np_files[:2]"
   ]
  },
  {
   "cell_type": "code",
   "execution_count": 30,
   "id": "dd90cdfb",
   "metadata": {},
   "outputs": [],
   "source": [
    "import time"
   ]
  },
  {
   "cell_type": "code",
   "execution_count": 31,
   "id": "284ea16b",
   "metadata": {},
   "outputs": [],
   "source": [
    "# SEQ_LEN = 10000\n",
    "# SEQ_LEN = 3000\n",
    "SEQ_LEN = 1000\n",
    "# SEQ_LEN = 5000"
   ]
  },
  {
   "cell_type": "code",
   "execution_count": null,
   "id": "7382b18b",
   "metadata": {},
   "outputs": [],
   "source": []
  },
  {
   "cell_type": "markdown",
   "id": "b65833fe",
   "metadata": {},
   "source": [
    "## Super Dumb Model"
   ]
  },
  {
   "cell_type": "code",
   "execution_count": 32,
   "id": "b55983e5",
   "metadata": {},
   "outputs": [],
   "source": [
    "from torchvision import transforms"
   ]
  },
  {
   "cell_type": "code",
   "execution_count": 33,
   "id": "494ba95b",
   "metadata": {},
   "outputs": [],
   "source": [
    "class FinetuningMusicDataset(torch.utils.data.Dataset):   \n",
    "    def __init__(self, np_file_paths, labels, transforms, seq_len=10000, random_start=True, upsample_factor=10):\n",
    "        self.seq_len = seq_len\n",
    "        self.files = np_file_paths\n",
    "        self.labels = labels\n",
    "        self.transforms = transforms\n",
    "        self.random_start = random_start\n",
    "        self.upsample_factor = upsample_factor\n",
    "        self.padder = torch.zeros(96, seq_len)\n",
    "    def __len__(self):\n",
    "        return len(self.files) * self.upsample_factor\n",
    "\n",
    "    def __getitem__(self, index):\n",
    "        effective_index = index % len(self.files)\n",
    "        x = np.load(self.files[effective_index])\n",
    "        x = torch.from_numpy(x).float()\n",
    "        if self.random_start and x.shape[-1] > self.seq_len:\n",
    "            # longer than 3000, select random subset\n",
    "            start = random.randint(0, x.shape[-1] - self.seq_len)\n",
    "            x = x[:,start:start+self.seq_len]\n",
    "        else:\n",
    "            x = x[:,:self.seq_len]\n",
    "        x = pad_sequence([x.T, self.padder.T], padding_value=-90, batch_first=True)[0].T\n",
    "        old_x = x.unsqueeze(0)\n",
    "        \n",
    "        compressed_x = (torch.clamp(old_x, min=-90, max=30) + 90) / 120\n",
    "        \n",
    "        x = self.transforms(compressed_x)\n",
    "        \n",
    "        item = {\"input\": x, \"label_ids\":[index], \"labels\": torch.tensor(self.labels[effective_index])}\n",
    "        \n",
    "        return item"
   ]
  },
  {
   "cell_type": "code",
   "execution_count": 34,
   "id": "7b3edaab",
   "metadata": {},
   "outputs": [],
   "source": [
    "class AddGaussianNoise(object):\n",
    "    def __init__(self, mean=0., std=1.):\n",
    "        self.std = std\n",
    "        self.mean = mean\n",
    "        \n",
    "    def __call__(self, tensor):\n",
    "        return tensor + torch.randn(tensor.size()) * self.std + self.mean\n",
    "    \n",
    "    def __repr__(self):\n",
    "        return self.__class__.__name__ + '(mean={0}, std={1})'.format(self.mean, self.std)"
   ]
  },
  {
   "cell_type": "code",
   "execution_count": 35,
   "id": "5c51ea24",
   "metadata": {},
   "outputs": [],
   "source": [
    "noise_composed = transforms.Compose([\n",
    "   transforms.Resize((224, 224)),\n",
    "    transforms.Normalize((0.5542), (0.1604)),\n",
    "    AddGaussianNoise(0., 0.04)\n",
    "])\n",
    "nonoise_composed = transforms.Compose([\n",
    "   transforms.Resize((224, 224)),\n",
    "    transforms.Normalize((0.5542), (0.1604))\n",
    "#     transforms.Resize((500, 500)),\n",
    "])"
   ]
  },
  {
   "cell_type": "code",
   "execution_count": 36,
   "id": "0e2fadf4",
   "metadata": {},
   "outputs": [],
   "source": [
    "longnoise_composed =  transforms.Compose([\n",
    "    transforms.Normalize((0.5542), (0.1604)),\n",
    "    AddGaussianNoise(0., 0.04)\n",
    "])\n",
    "longnonoise_composed =  transforms.Compose([\n",
    "    transforms.Normalize((0.5542), (0.1604)),\n",
    "])"
   ]
  },
  {
   "cell_type": "code",
   "execution_count": 37,
   "id": "c5732717",
   "metadata": {},
   "outputs": [],
   "source": [
    "# len(all_train)"
   ]
  },
  {
   "cell_type": "code",
   "execution_count": 38,
   "id": "647d3cca",
   "metadata": {},
   "outputs": [],
   "source": [
    "# torch.cat(all_train).mean(), torch.cat(all_train).std()"
   ]
  },
  {
   "cell_type": "code",
   "execution_count": 39,
   "id": "34175453",
   "metadata": {},
   "outputs": [],
   "source": [
    "# transforms.Normalize((0.5542), (0.1604))(new_r)"
   ]
  },
  {
   "cell_type": "code",
   "execution_count": 40,
   "id": "caa90d0b",
   "metadata": {},
   "outputs": [],
   "source": [
    "# (torch.clamp(r, min=-90, max=30) + 90) / 120"
   ]
  },
  {
   "cell_type": "code",
   "execution_count": 41,
   "id": "da3068ce",
   "metadata": {},
   "outputs": [],
   "source": [
    "longft_train_dataset = FinetuningMusicDataset(train_np_files, train_labels, longnoise_composed, seq_len=SEQ_LEN, random_start=True, upsample_factor=5)\n",
    "longft_test_dataset = FinetuningMusicDataset(test_np_files, test_labels, longnonoise_composed, seq_len=SEQ_LEN, random_start=False, upsample_factor=1)"
   ]
  },
  {
   "cell_type": "code",
   "execution_count": 42,
   "id": "a3220d1c",
   "metadata": {},
   "outputs": [
    {
     "data": {
      "text/plain": [
       "torch.Size([1, 96, 1000])"
      ]
     },
     "execution_count": 42,
     "metadata": {},
     "output_type": "execute_result"
    }
   ],
   "source": [
    "longft_train_dataset[0]['input'].shape"
   ]
  },
  {
   "cell_type": "code",
   "execution_count": 43,
   "id": "589cde02",
   "metadata": {},
   "outputs": [],
   "source": [
    "ft_train_dataset = FinetuningMusicDataset(train_np_files, train_labels, noise_composed, seq_len=SEQ_LEN, random_start=True, upsample_factor=5)\n",
    "ft_test_dataset = FinetuningMusicDataset(test_np_files, test_labels, nonoise_composed, seq_len=SEQ_LEN, random_start=False, upsample_factor=1)"
   ]
  },
  {
   "cell_type": "code",
   "execution_count": 44,
   "id": "4d888cbd",
   "metadata": {},
   "outputs": [],
   "source": [
    "batch_size=16"
   ]
  },
  {
   "cell_type": "code",
   "execution_count": 351,
   "id": "be54c8ab",
   "metadata": {},
   "outputs": [],
   "source": [
    "# ft_train_dl = DataLoader(\n",
    "#     ft_train_dataset,\n",
    "#     batch_size=batch_size,\n",
    "#     shuffle=True,\n",
    "#     num_workers=0,\n",
    "#     collate_fn=None,\n",
    "#     pin_memory=False,\n",
    "#  )\n",
    "\n",
    "# ft_test_dl = DataLoader(\n",
    "#     ft_test_dataset,\n",
    "#     batch_size=1,\n",
    "#     shuffle=False,\n",
    "#     num_workers=0,\n",
    "#     collate_fn=None,\n",
    "#     pin_memory=False,\n",
    "#  )\n",
    "\n",
    "ft_train_dl = DataLoader(\n",
    "    longft_train_dataset,\n",
    "    batch_size=batch_size,\n",
    "    shuffle=True,\n",
    "    num_workers=0,\n",
    "    collate_fn=None,\n",
    "    pin_memory=False,\n",
    " )\n",
    "\n",
    "ft_test_dl = DataLoader(\n",
    "    longft_test_dataset,\n",
    "    batch_size=1,\n",
    "    shuffle=False,\n",
    "    num_workers=0,\n",
    "    collate_fn=None,\n",
    "    pin_memory=False,\n",
    " )"
   ]
  },
  {
   "cell_type": "code",
   "execution_count": null,
   "id": "11a3eb0e",
   "metadata": {},
   "outputs": [],
   "source": []
  },
  {
   "cell_type": "code",
   "execution_count": 447,
   "id": "b1095edf",
   "metadata": {},
   "outputs": [],
   "source": [
    "c = nn.Conv2d(1, 16, kernel_size=3, stride=(1, 1), padding=0)"
   ]
  },
  {
   "cell_type": "code",
   "execution_count": 448,
   "id": "5c0adaea",
   "metadata": {},
   "outputs": [],
   "source": [
    "# start = torch.rand(1, 1, 500, 500)\n",
    "# start = torch.rand(1, 1, 96, 3000)\n",
    "start = torch.rand(1, 1, 96, 1000)"
   ]
  },
  {
   "cell_type": "code",
   "execution_count": 449,
   "id": "388a3a98",
   "metadata": {},
   "outputs": [
    {
     "data": {
      "text/plain": [
       "torch.Size([1, 1, 96, 1000])"
      ]
     },
     "execution_count": 449,
     "metadata": {},
     "output_type": "execute_result"
    }
   ],
   "source": [
    "start.shape"
   ]
  },
  {
   "cell_type": "code",
   "execution_count": 450,
   "id": "741dec5e",
   "metadata": {},
   "outputs": [
    {
     "data": {
      "text/plain": [
       "torch.Size([1, 16, 94, 998])"
      ]
     },
     "execution_count": 450,
     "metadata": {},
     "output_type": "execute_result"
    }
   ],
   "source": [
    "c(start).shape"
   ]
  },
  {
   "cell_type": "code",
   "execution_count": 357,
   "id": "54a1e74b",
   "metadata": {},
   "outputs": [],
   "source": [
    "c2 = nn.Conv2d(3, 1, kernel_size=5, stride=(1, 1), padding=0)"
   ]
  },
  {
   "cell_type": "code",
   "execution_count": 358,
   "id": "b7798abc",
   "metadata": {},
   "outputs": [
    {
     "data": {
      "text/plain": [
       "torch.Size([1, 1, 83, 327])"
      ]
     },
     "execution_count": 358,
     "metadata": {},
     "output_type": "execute_result"
    }
   ],
   "source": [
    "c2(c(start)).shape"
   ]
  },
  {
   "cell_type": "code",
   "execution_count": 359,
   "id": "9a588fa9",
   "metadata": {},
   "outputs": [],
   "source": [
    "avg = nn.AvgPool2d(kernel_size=5, stride=(1, 1), padding=0)"
   ]
  },
  {
   "cell_type": "code",
   "execution_count": 360,
   "id": "7b4a4dad",
   "metadata": {},
   "outputs": [
    {
     "data": {
      "text/plain": [
       "torch.Size([1, 1, 79, 323])"
      ]
     },
     "execution_count": 360,
     "metadata": {},
     "output_type": "execute_result"
    }
   ],
   "source": [
    "avg(c2(c(start))).shape"
   ]
  },
  {
   "cell_type": "code",
   "execution_count": 361,
   "id": "ac53bd5c",
   "metadata": {},
   "outputs": [
    {
     "data": {
      "text/plain": [
       "20643"
      ]
     },
     "execution_count": 361,
     "metadata": {},
     "output_type": "execute_result"
    }
   ],
   "source": [
    "21 * 983"
   ]
  },
  {
   "cell_type": "code",
   "execution_count": 362,
   "id": "0ed7385d",
   "metadata": {},
   "outputs": [
    {
     "data": {
      "text/plain": [
       "288000"
      ]
     },
     "execution_count": 362,
     "metadata": {},
     "output_type": "execute_result"
    }
   ],
   "source": [
    "96 * 3000"
   ]
  },
  {
   "cell_type": "code",
   "execution_count": 363,
   "id": "c0dc4798",
   "metadata": {},
   "outputs": [],
   "source": [
    "class MultiHeadedOutput(nn.Module):\n",
    "    def __init__(self):\n",
    "        super(MultiHeadedOutput, self).__init__()\n",
    "        \n",
    "        self.heads = nn.ModuleList([\n",
    "            nn.Sequential(\n",
    "                    nn.Linear(512, 512),\n",
    "                    nn.LeakyReLU(),\n",
    "                    nn.Dropout(0.1),\n",
    "                    nn.Linear(512, 1)\n",
    "            ) for i in range(15)\n",
    "#             ) for i in range(1)\n",
    "        ])\n",
    "        \n",
    "    def forward(self, x: torch.Tensor):\n",
    "        outputs = torch.concat([h(x) for h in self.heads], dim=1)\n",
    "        return outputs"
   ]
  },
  {
   "cell_type": "code",
   "execution_count": 484,
   "id": "cd192131",
   "metadata": {},
   "outputs": [],
   "source": [
    "model = torch.nn.Sequential(\n",
    "    nn.Conv2d(1, 16, kernel_size=3, stride=(1, 1), padding=0),\n",
    "    nn.LeakyReLU(),\n",
    "    nn.MaxPool2d(2),\n",
    "    nn.Conv2d(16, 32, kernel_size=3, stride=(1, 1), padding=0),\n",
    "    nn.LeakyReLU(),\n",
    "    nn.MaxPool2d(2),\n",
    "    nn.Conv2d(32, 64, kernel_size=3, stride=(1, 1), padding=0),\n",
    "    nn.LeakyReLU(),\n",
    "    nn.MaxPool2d(2),\n",
    "    nn.Flatten(),\n",
    "    nn.Linear(78720, 512),\n",
    "    nn.LeakyReLU(),\n",
    "    MultiHeadedOutput()\n",
    ")"
   ]
  },
  {
   "cell_type": "code",
   "execution_count": 485,
   "id": "9f348c16",
   "metadata": {},
   "outputs": [],
   "source": [
    "# model = torch.nn.Sequential(\n",
    "#     nn.Conv2d(1, 3, kernel_size=10, stride=(1, 3), padding=0),\n",
    "#     nn.LeakyReLU(),\n",
    "#     nn.BatchNorm2d(3),\n",
    "#     nn.Dropout2d(0.1),\n",
    "#     nn.Conv2d(3, 1, kernel_size=10, stride=(1, 2), padding=0),\n",
    "#     nn.LeakyReLU(),\n",
    "#     nn.BatchNorm2d(1),\n",
    "#     nn.Dropout2d(0.1),\n",
    "#     nn.Conv2d(1, 1, kernel_size=10, stride=(1, 2), padding=0),\n",
    "#     nn.LeakyReLU(),\n",
    "#     nn.BatchNorm2d(1),\n",
    "#     nn.AvgPool2d(kernel_size=5, stride=(1, 1), padding=0),\n",
    "#     nn.Dropout2d(0.1),\n",
    "    \n",
    "#     nn.Flatten(),\n",
    "#     nn.Linear(4680, 1024),\n",
    "# #     nn.Linear(50176, 512),\n",
    "#     nn.LeakyReLU(),\n",
    "#     nn.Dropout(0.1),\n",
    "#     nn.Linear(1024, 512),\n",
    "#     nn.LeakyReLU(),\n",
    "#     nn.Dropout(0.1),\n",
    "#     MultiHeadedOutput()\n",
    "# )\n",
    "\n",
    "# # model = torch.nn.Sequential(\n",
    "# #     nn.Flatten(),\n",
    "# #     nn.Linear(50176, 1024),\n",
    "# #     nn.Dropout(0.1),\n",
    "# # #     nn.Linear(54 * 164, 1024),\n",
    "# #     nn.LeakyReLU(),\n",
    "# # #     nn.Dropout(0.1),\n",
    "# #     nn.Linear(1024, 512),\n",
    "# #     nn.LeakyReLU(),\n",
    "# #     nn.Dropout(0.1)\n",
    "# # )"
   ]
  },
  {
   "cell_type": "code",
   "execution_count": 486,
   "id": "80cf3764",
   "metadata": {},
   "outputs": [],
   "source": [
    "device = torch.device('cuda' if torch.cuda.is_available() else 'cpu')"
   ]
  },
  {
   "cell_type": "code",
   "execution_count": 487,
   "id": "011ec1f5",
   "metadata": {},
   "outputs": [],
   "source": [
    "# model = m = MyModel()"
   ]
  },
  {
   "cell_type": "code",
   "execution_count": null,
   "id": "a27ab0cf",
   "metadata": {},
   "outputs": [],
   "source": []
  },
  {
   "cell_type": "code",
   "execution_count": 488,
   "id": "76f77129",
   "metadata": {},
   "outputs": [],
   "source": [
    "model = model.to(device)"
   ]
  },
  {
   "cell_type": "code",
   "execution_count": 489,
   "id": "c8a80989",
   "metadata": {},
   "outputs": [],
   "source": [
    "# pos_weight = 1 / (torch.sum(torch.tensor(train_labels), dim=0) / len(train_labels))\n",
    "pos_weight = 1 / (torch.sum(torch.tensor(test_labels), dim=0) / len(test_labels))"
   ]
  },
  {
   "cell_type": "code",
   "execution_count": 490,
   "id": "15c04418",
   "metadata": {},
   "outputs": [
    {
     "data": {
      "text/plain": [
       "tensor([22.0400, 22.0400, 16.2059, 14.8919, 16.6970, 16.6970, 15.7429, 15.3056,\n",
       "        14.8919, 11.2449, 14.5000, 11.7234,  8.8871, 12.8140, 11.7234],\n",
       "       dtype=torch.float64)"
      ]
     },
     "execution_count": 490,
     "metadata": {},
     "output_type": "execute_result"
    }
   ],
   "source": [
    "pos_weight"
   ]
  },
  {
   "cell_type": "code",
   "execution_count": 491,
   "id": "2ee9a947",
   "metadata": {},
   "outputs": [
    {
     "data": {
      "text/plain": [
       "tensor([[ 0.0576,  0.0120,  0.0163, -0.0054,  0.0072, -0.0123,  0.0001,  0.0167,\n",
       "         -0.0475,  0.0119,  0.0097, -0.0060,  0.0410,  0.0049,  0.0443]],\n",
       "       device='cuda:0', grad_fn=<CatBackward0>)"
      ]
     },
     "execution_count": 491,
     "metadata": {},
     "output_type": "execute_result"
    }
   ],
   "source": [
    "model(start.to(device))"
   ]
  },
  {
   "cell_type": "code",
   "execution_count": 492,
   "id": "49f12abe",
   "metadata": {},
   "outputs": [],
   "source": [
    "# optimizer = optim.AdamW(model.parameters(), lr=1e-2, weight_decay=0.05, betas=(0.9, 0.95))\n",
    "optimizer = optim.AdamW(model.parameters(), lr=1e-4, weight_decay=0.05, betas=(0.9, 0.95))\n",
    "criterion = nn.BCEWithLogitsLoss(pos_weight = pos_weight.to(device), reduction=\"sum\")"
   ]
  },
  {
   "cell_type": "code",
   "execution_count": 493,
   "id": "be42138b",
   "metadata": {},
   "outputs": [],
   "source": [
    "def get_total_loss(model, dataloader):\n",
    "    total_loss = 0\n",
    "    for batch_idx, data in enumerate(dataloader):\n",
    "        inputs, labels = data['input'].to(device), data['labels'].to(device)\n",
    "\n",
    "        outputs = model(inputs)\n",
    "        total_loss += criterion(outputs, labels.float())\n",
    "    return total_loss.item()"
   ]
  },
  {
   "cell_type": "code",
   "execution_count": 494,
   "id": "02e2c3f0",
   "metadata": {},
   "outputs": [
    {
     "name": "stderr",
     "output_type": "stream",
     "text": [
      "100%|████████████████████████████████████████████████████████████████████████████████████████| 688/688 [01:03<00:00, 10.87it/s]\n"
     ]
    },
    {
     "name": "stdout",
     "output_type": "stream",
     "text": [
      "Epoch: 0; Loss: 220103.48268406597; Test Loss: 11151.76171875\n"
     ]
    },
    {
     "name": "stderr",
     "output_type": "stream",
     "text": [
      "100%|████████████████████████████████████████████████████████████████████████████████████████| 688/688 [01:02<00:00, 10.95it/s]\n"
     ]
    },
    {
     "name": "stdout",
     "output_type": "stream",
     "text": [
      "Epoch: 1; Loss: 219142.80058147482; Test Loss: 11218.0205078125\n"
     ]
    },
    {
     "name": "stderr",
     "output_type": "stream",
     "text": [
      "100%|████████████████████████████████████████████████████████████████████████████████████████| 688/688 [01:02<00:00, 11.05it/s]\n"
     ]
    },
    {
     "name": "stdout",
     "output_type": "stream",
     "text": [
      "Epoch: 2; Loss: 217685.9232781526; Test Loss: 11457.7568359375\n"
     ]
    },
    {
     "name": "stderr",
     "output_type": "stream",
     "text": [
      "100%|████████████████████████████████████████████████████████████████████████████████████████| 688/688 [01:03<00:00, 10.91it/s]\n"
     ]
    },
    {
     "name": "stdout",
     "output_type": "stream",
     "text": [
      "Epoch: 3; Loss: 216309.40068170722; Test Loss: 11344.892578125\n"
     ]
    },
    {
     "name": "stderr",
     "output_type": "stream",
     "text": [
      "100%|████████████████████████████████████████████████████████████████████████████████████████| 688/688 [01:03<00:00, 10.85it/s]\n"
     ]
    },
    {
     "name": "stdout",
     "output_type": "stream",
     "text": [
      "Epoch: 4; Loss: 214812.13810857738; Test Loss: 11448.1064453125\n"
     ]
    },
    {
     "name": "stderr",
     "output_type": "stream",
     "text": [
      "100%|████████████████████████████████████████████████████████████████████████████████████████| 688/688 [01:03<00:00, 10.87it/s]\n"
     ]
    },
    {
     "name": "stdout",
     "output_type": "stream",
     "text": [
      "Epoch: 5; Loss: 212123.14825779002; Test Loss: 11807.369140625\n"
     ]
    },
    {
     "name": "stderr",
     "output_type": "stream",
     "text": [
      "100%|████████████████████████████████████████████████████████████████████████████████████████| 688/688 [01:04<00:00, 10.73it/s]\n"
     ]
    },
    {
     "name": "stdout",
     "output_type": "stream",
     "text": [
      "Epoch: 6; Loss: 210830.300028444; Test Loss: 11888.376953125\n"
     ]
    },
    {
     "name": "stderr",
     "output_type": "stream",
     "text": [
      "100%|████████████████████████████████████████████████████████████████████████████████████████| 688/688 [01:04<00:00, 10.70it/s]\n"
     ]
    },
    {
     "name": "stdout",
     "output_type": "stream",
     "text": [
      "Epoch: 7; Loss: 208858.39593909547; Test Loss: 11843.19140625\n"
     ]
    },
    {
     "name": "stderr",
     "output_type": "stream",
     "text": [
      "100%|████████████████████████████████████████████████████████████████████████████████████████| 688/688 [01:06<00:00, 10.38it/s]\n"
     ]
    },
    {
     "name": "stdout",
     "output_type": "stream",
     "text": [
      "Epoch: 8; Loss: 207445.10960722927; Test Loss: 11802.40625\n"
     ]
    },
    {
     "name": "stderr",
     "output_type": "stream",
     "text": [
      "100%|████████████████████████████████████████████████████████████████████████████████████████| 688/688 [01:04<00:00, 10.65it/s]\n"
     ]
    },
    {
     "name": "stdout",
     "output_type": "stream",
     "text": [
      "Epoch: 9; Loss: 205364.8991895425; Test Loss: 14689.9111328125\n"
     ]
    }
   ],
   "source": [
    "model.train()\n",
    "ft_train_losses = []\n",
    "ft_test_losses = []\n",
    "for epoch in range(10):\n",
    "# for epoch in range(5):\n",
    "    total_loss = 0\n",
    "#     for batch in train_loader:\n",
    "#     for batch_idx, data in tqdm(enumerate(ft_train_dl), total=len(ft_train_dl)):\n",
    "    for batch_idx, data in tqdm(enumerate(ft_train_dl), total=len(ft_train_dl)):\n",
    "#     for batch_idx, data in tqdm(enumerate(ft_train_dl), total=len(ft_train_dl)):\n",
    "        these_losses = []\n",
    "        optimizer.zero_grad()\n",
    "        inputs, labels = data['input'].to(device), data['labels'].to(device)\n",
    "        outputs = model(inputs)\n",
    "#         outputs = torch.concat([h(outputs) for h in heads], dim=1)  \n",
    "        \n",
    "        loss = criterion(outputs, labels)\n",
    "\n",
    "        loss.backward()\n",
    "        optimizer.step()\n",
    "        # for bookkeeping\n",
    "        total_loss += loss.item()\n",
    "        \n",
    "    with torch.no_grad():\n",
    "        train_total_loss = total_loss\n",
    "        test_loss = get_total_loss(model, ft_test_dl)\n",
    "        ft_train_losses.append(train_total_loss)\n",
    "        ft_test_losses.append(test_loss)\n",
    "        print(f\"Epoch: {epoch}; Loss: {train_total_loss}; Test Loss: {test_loss}\")\n",
    "\n",
    "_ = model.eval()"
   ]
  },
  {
   "cell_type": "code",
   "execution_count": null,
   "id": "01a0eae7",
   "metadata": {},
   "outputs": [],
   "source": []
  },
  {
   "cell_type": "code",
   "execution_count": 495,
   "id": "65821da5",
   "metadata": {},
   "outputs": [
    {
     "data": {
      "text/plain": [
       "Text(0.5, 1.0, 'Dumb so stupid Finetuning Train/Test Loss')"
      ]
     },
     "execution_count": 495,
     "metadata": {},
     "output_type": "execute_result"
    },
    {
     "data": {
      "image/png": "[encoded data removed]",
      "text/plain": [
       "<Figure size 1152x720 with 2 Axes>"
      ]
     },
     "metadata": {
      "needs_background": "light"
     },
     "output_type": "display_data"
    }
   ],
   "source": [
    "plt.figure(figsize=(16, 10))\n",
    "ranger = list(range(len(ft_train_losses)))\n",
    "sns.lineplot(x=ranger, y=ft_train_losses, label=\"total train loss\", alpha=1)\n",
    "# sns.lineplot(x=ranger, y=adjusted_train_losses, label=\"adjusted train loss\")\n",
    "ax2 = plt.twinx()\n",
    "sns.lineplot(x=ranger, y=ft_test_losses, label=\"test loss\", ax=ax2, color=\"orange\", alpha=1)\n",
    "# sns.lineplot(x=ranger, y=ft_test_losses, label=\"test loss\", color=\"orange\", alpha=0.5)\n",
    "plt.title(\"Dumb so stupid Finetuning Train/Test Loss\")\n",
    "# plt.savefig(\"mae_v1.png\")"
   ]
  },
  {
   "cell_type": "code",
   "execution_count": null,
   "id": "6bf340bb",
   "metadata": {},
   "outputs": [],
   "source": []
  },
  {
   "cell_type": "code",
   "execution_count": 496,
   "id": "4c9226ff",
   "metadata": {},
   "outputs": [],
   "source": [
    "# ft_trainnosample_dataset = FinetuningMusicDataset(train_np_files, train_labels, nonoise_composed, seq_len=SEQ_LEN, random_start=True, upsample_factor=1)"
   ]
  },
  {
   "cell_type": "code",
   "execution_count": 497,
   "id": "ee5d20e4",
   "metadata": {},
   "outputs": [],
   "source": [
    "# ft_train_eval_dl = DataLoader(\n",
    "#     ft_trainnosample_dataset,\n",
    "#     batch_size=batch_size,\n",
    "#     shuffle=True,\n",
    "#     num_workers=0,\n",
    "#     collate_fn=None,\n",
    "#     pin_memory=False,\n",
    "#  )"
   ]
  },
  {
   "cell_type": "code",
   "execution_count": 498,
   "id": "2dfb7c96",
   "metadata": {},
   "outputs": [],
   "source": [
    "import torch.nn.functional as F"
   ]
  },
  {
   "cell_type": "code",
   "execution_count": 499,
   "id": "01d778e5",
   "metadata": {},
   "outputs": [
    {
     "data": {
      "text/plain": [
       "torch.Size([8, 1, 96, 1000])"
      ]
     },
     "execution_count": 499,
     "metadata": {},
     "output_type": "execute_result"
    }
   ],
   "source": [
    "inputs.shape"
   ]
  },
  {
   "cell_type": "code",
   "execution_count": null,
   "id": "41d9c5c8",
   "metadata": {},
   "outputs": [],
   "source": []
  },
  {
   "cell_type": "code",
   "execution_count": 507,
   "id": "4f7287ec",
   "metadata": {},
   "outputs": [
    {
     "name": "stdout",
     "output_type": "stream",
     "text": [
      "0.5732666666666667\n",
      "94589 out of 165000\n",
      "Performance on positive labels\n",
      "0.6559307359307359\n",
      "7576 out of 11550.0\n",
      "WHAT IF WE JUST PREDICTED ZERO\n",
      "0.93\n",
      "153450 out of 165000\n"
     ]
    }
   ],
   "source": [
    "model.eval()\n",
    "# for h in heads:\n",
    "#     h.eval()\n",
    "\n",
    "combined_preds = []\n",
    "combined_labels = []\n",
    "\n",
    "with torch.no_grad():\n",
    "    total_correct = 0\n",
    "    zero_correct = 0\n",
    "    total_values = 0\n",
    "    only_positives = [0, 0]\n",
    "#     for batch_idx, data in enumerate(ft_test_dl):\n",
    "    for batch_idx, data in enumerate(ft_train_dl):\n",
    "#     for batch_idx, data in enumerate(longft_test_dataset):\n",
    "#     for batch_idx, data in enumerate(ft_train_eval_dl):\n",
    "        inputs, labels = data['input'].to(device), data['labels'].to(device)\n",
    "\n",
    "        outputs = model(inputs)\n",
    "#         outputs = torch.concat([h(outputs) for h in heads], dim=1)\n",
    "        outputs = torch.sigmoid(outputs)\n",
    "        \n",
    "        combined_preds.append(outputs)\n",
    "        combined_labels.append(labels)\n",
    "        \n",
    "        outlabels = torch.zeros_like(outputs)\n",
    "        outlabels[outputs >= 0.5] = 1\n",
    "        outlabels[outputs < 0.5] = 0\n",
    "        \n",
    "        num_correct = torch.sum(outlabels == labels).item()\n",
    "        num = len(labels) * 15\n",
    "        \n",
    "        total_correct += num_correct\n",
    "        total_values += num\n",
    "        zero_correct += torch.sum(labels == 0).item()\n",
    "        \n",
    "        only_positives[0] += torch.sum(labels).item()\n",
    "        only_positives[1] += torch.sum(labels[labels == 1] == outlabels[labels == 1]).item()\n",
    "        \n",
    "\n",
    "print(total_correct / total_values)\n",
    "\n",
    "print(f\"{total_correct} out of {total_values}\")\n",
    "\n",
    "print(\"Performance on positive labels\")\n",
    "\n",
    "print(only_positives[1] / only_positives[0])\n",
    "\n",
    "print(f\"{only_positives[1]} out of {only_positives[0]}\")\n",
    "\n",
    "print(\"WHAT IF WE JUST PREDICTED ZERO\")\n",
    "\n",
    "print(zero_correct / total_values)\n",
    "\n",
    "print(f\"{zero_correct} out of {total_values}\")"
   ]
  },
  {
   "cell_type": "code",
   "execution_count": null,
   "id": "cf93a6ad",
   "metadata": {},
   "outputs": [],
   "source": []
  },
  {
   "cell_type": "code",
   "execution_count": 508,
   "id": "9ff61d98",
   "metadata": {},
   "outputs": [
    {
     "data": {
      "text/plain": [
       "(torch.Size([11000, 15]), torch.Size([11000, 15]))"
      ]
     },
     "execution_count": 508,
     "metadata": {},
     "output_type": "execute_result"
    }
   ],
   "source": [
    "all_preds = torch.cat(combined_preds)\n",
    "all_labels = torch.cat(combined_labels)\n",
    "all_preds.shape, all_labels.shape"
   ]
  },
  {
   "cell_type": "code",
   "execution_count": 509,
   "id": "9a795fea",
   "metadata": {},
   "outputs": [
    {
     "data": {
      "text/plain": [
       "551"
      ]
     },
     "execution_count": 509,
     "metadata": {},
     "output_type": "execute_result"
    }
   ],
   "source": [
    "len(ft_test_dataset)"
   ]
  },
  {
   "cell_type": "code",
   "execution_count": 510,
   "id": "683eef2b",
   "metadata": {},
   "outputs": [],
   "source": [
    "from sklearn import metrics"
   ]
  },
  {
   "cell_type": "code",
   "execution_count": null,
   "id": "a69fcc78",
   "metadata": {},
   "outputs": [],
   "source": []
  },
  {
   "cell_type": "code",
   "execution_count": 511,
   "id": "6a73785a",
   "metadata": {},
   "outputs": [
    {
     "data": {
      "text/plain": [
       "tensor([[0.0313, 0.0918, 0.3369,  ..., 0.0310, 0.2721, 0.3678],\n",
       "        [0.7087, 0.6196, 0.4376,  ..., 0.3985, 0.6437, 0.5471],\n",
       "        [0.5242, 0.1320, 0.3732,  ..., 0.3582, 0.6567, 0.6663],\n",
       "        ...,\n",
       "        [0.6152, 0.2744, 0.3949,  ..., 0.4431, 0.5532, 0.5270],\n",
       "        [0.0304, 0.2965, 0.0584,  ..., 0.3331, 0.3612, 0.3082],\n",
       "        [0.4198, 0.4499, 0.3191,  ..., 0.4451, 0.5631, 0.5464]],\n",
       "       device='cuda:0')"
      ]
     },
     "execution_count": 511,
     "metadata": {},
     "output_type": "execute_result"
    }
   ],
   "source": [
    "all_preds"
   ]
  },
  {
   "cell_type": "code",
   "execution_count": null,
   "id": "b0ac283b",
   "metadata": {},
   "outputs": [],
   "source": []
  },
  {
   "cell_type": "code",
   "execution_count": 512,
   "id": "b411a48c",
   "metadata": {},
   "outputs": [
    {
     "name": "stdout",
     "output_type": "stream",
     "text": [
      "Head: 0; AUC: 0.7553868380109515\n",
      "Head: 1; AUC: 0.7144591673162051\n",
      "Head: 2; AUC: 0.6805911057692309\n",
      "Head: 3; AUC: 0.6469893675874964\n",
      "Head: 4; AUC: 0.7085325879518072\n",
      "Head: 5; AUC: 0.7255519475955524\n",
      "Head: 6; AUC: 0.6543126698562616\n",
      "Head: 7; AUC: 0.716203647454097\n",
      "Head: 8; AUC: 0.5894502493750815\n",
      "Head: 9; AUC: 0.6820330394364847\n",
      "Head: 10; AUC: 0.6641418553217974\n",
      "Head: 11; AUC: 0.6047781840357137\n",
      "Head: 12; AUC: 0.6512410840904127\n",
      "Head: 13; AUC: 0.6635438134707289\n",
      "Head: 14; AUC: 0.6507766044554875\n"
     ]
    }
   ],
   "source": [
    "aucs = []\n",
    "for i in range(15):\n",
    "    preds = all_preds[:,i].cpu()\n",
    "    targs = all_labels[:,i].cpu()\n",
    "#     fpr, tpr, thresholds = metrics.roc_curve(targs, preds, pos_label=1)\n",
    "    fpr, tpr, thresholds = metrics.roc_curve(targs, preds, pos_label=1)\n",
    "    auc = metrics.auc(fpr, tpr)\n",
    "    aucs.append(auc)\n",
    "    print(f\"Head: {i}; AUC: {auc}\")"
   ]
  },
  {
   "cell_type": "code",
   "execution_count": 513,
   "id": "36e8cff8",
   "metadata": {},
   "outputs": [
    {
     "data": {
      "text/plain": [
       "0.673866144115154"
      ]
     },
     "execution_count": 513,
     "metadata": {},
     "output_type": "execute_result"
    }
   ],
   "source": [
    "sum(aucs) / len(aucs)"
   ]
  },
  {
   "cell_type": "code",
   "execution_count": null,
   "id": "7c2496d5",
   "metadata": {},
   "outputs": [],
   "source": []
  },
  {
   "cell_type": "code",
   "execution_count": 239,
   "id": "41565af1",
   "metadata": {},
   "outputs": [],
   "source": [
    "import torch\n",
    "import torch.nn as nn\n",
    "\n",
    "class MyModel(nn.Module):\n",
    "    # You can use pre-existing models but change layers to recieve full credit.\n",
    "    def __init__(self):\n",
    "        super(MyModel, self).__init__()\n",
    "        #############################################################################\n",
    "        # TODO: Initialize the network weights                                      #\n",
    "        #############################################################################\n",
    "        \n",
    "        # Try a resnet like thing\n",
    "        self.conv1 = nn.Sequential(\n",
    "                        nn.Conv2d(1, 64, kernel_size = 3, stride = (1, 2), padding = 0),\n",
    "                        # nn.Conv2d(3, 128, kernel_size = 3, stride = 2, padding = 1),\n",
    "                        # nn.BatchNorm2d(128),\n",
    "                        nn.ReLU(),\n",
    "                        nn.BatchNorm2d(64),\n",
    "                        nn.Conv2d(64, 64, kernel_size = 3, stride = (1, 2), padding = 0),\n",
    "                        # nn.Conv2d(64, 64, kernel_size = 3, stride = 2, padding = 1),\n",
    "                        # nn.Conv2d(128, 128, kernel_size = 3, stride = 2, padding = 1),\n",
    "                        # nn.BatchNorm2d(128),\n",
    "                        nn.ReLU(),\n",
    "                        nn.BatchNorm2d(64),\n",
    "                        # nn.ReLU(),\n",
    "                        # nn.AvgPool2d(kernel_size=3, stride=1, padding=1)\n",
    "                        nn.MaxPool2d(kernel_size = 3, stride = (1, 2), padding = 0),\n",
    "                    )\n",
    "\n",
    "        self.extraconv1 = nn.Sequential(\n",
    "            nn.Conv2d(64, 128, kernel_size = 3, stride = 1, padding = 1),\n",
    "            nn.BatchNorm2d(128),\n",
    "        )\n",
    "\n",
    "        self.conv2 = nn.Sequential(\n",
    "                        nn.Conv2d(64, 128, kernel_size = 3, stride = 1, padding = 1),\n",
    "                        nn.ReLU(),\n",
    "                        nn.BatchNorm2d(128),\n",
    "\n",
    "                        nn.Conv2d(128, 128, kernel_size = 3, stride = 1, padding = 1),\n",
    "                        nn.ReLU(),\n",
    "                        nn.BatchNorm2d(128),\n",
    "                        nn.Conv2d(128, 128, kernel_size = 3, stride = 1, padding = 1),\n",
    "                    )\n",
    "\n",
    "        self.after_res1 = nn.Sequential(\n",
    "            nn.ReLU(),\n",
    "            nn.BatchNorm2d(128),\n",
    "            nn.MaxPool2d(kernel_size = 3, stride = 1, padding = 1)\n",
    "        )\n",
    "        \n",
    "        self.extraconv2 = nn.Sequential(\n",
    "            nn.Conv2d(128, 128, kernel_size = 3, stride = 1, padding = 1),\n",
    "            nn.BatchNorm2d(128),\n",
    "        )\n",
    "        \n",
    "        self.conv3 = nn.Sequential(\n",
    "                        nn.Conv2d(128, 128, kernel_size = 3, stride = 1, padding = 1),\n",
    "                        nn.ReLU(),\n",
    "                        nn.BatchNorm2d(128),\n",
    "                        nn.Conv2d(128, 128, kernel_size = 3, stride = 1, padding = 1),\n",
    "                        nn.ReLU(),\n",
    "                        nn.BatchNorm2d(128),\n",
    "                        nn.Conv2d(128, 128, kernel_size = 3, stride = 1, padding = 1),\n",
    "                    )\n",
    "        \n",
    "        # Do Global? AvgPool since this is the last layer\n",
    "        self.after_res2 = nn.Sequential(\n",
    "            nn.ReLU(),\n",
    "            nn.BatchNorm2d(128),\n",
    "            nn.AvgPool2d(kernel_size=5, stride=3, padding=1)\n",
    "        )\n",
    "\n",
    "        self.linear1 = nn.Sequential(\n",
    "#             nn.Linear(12800, 512),\n",
    "            nn.Linear(157440, 512),\n",
    "            nn.ReLU(),\n",
    "        )\n",
    "        self.linear_out = MultiHeadedOutput()\n",
    "#         self.linear2 = nn.Sequential(\n",
    "#             nn.Linear(512, 256),\n",
    "#             nn.ReLU(),\n",
    "#         )\n",
    "#         self.linear3 = nn.Linear(256, 15)\n",
    "\n",
    "        #############################################################################\n",
    "        #                              END OF YOUR CODE                             #\n",
    "        #############################################################################\n",
    "\n",
    "    def forward(self, x):\n",
    "        outs = None\n",
    "        #############################################################################\n",
    "        # TODO: Implement forward pass of the network                               #\n",
    "        #############################################################################\n",
    "        def flatten(x):\n",
    "            return torch.flatten(x, 1)\n",
    "\n",
    "        outs = x\n",
    "        outs = self.conv1(outs)\n",
    "        res = self.extraconv1(outs)\n",
    "        outs = self.conv2(outs)\n",
    "        outs = outs + res\n",
    "        \n",
    "        outs = self.after_res1(outs)\n",
    "        \n",
    "        res2 = self.extraconv2(outs)\n",
    "\n",
    "        outs = self.conv3(outs)\n",
    "\n",
    "        outs = outs + res2\n",
    "\n",
    "        outs = self.after_res2(outs)\n",
    "\n",
    "        outs = flatten(outs)\n",
    "        outs = self.linear1(outs)\n",
    "#         outs = self.linear2(outs)\n",
    "#         outs = self.linear3(outs)\n",
    "        outs = self.linear_out(outs)\n",
    "\n",
    "        #############################################################################\n",
    "        #                              END OF YOUR CODE                             #\n",
    "        #############################################################################\n",
    "        return outs"
   ]
  },
  {
   "cell_type": "code",
   "execution_count": 240,
   "id": "b866b95b",
   "metadata": {},
   "outputs": [],
   "source": [
    "m = MyModel()"
   ]
  },
  {
   "cell_type": "code",
   "execution_count": 242,
   "id": "e92ba5f0",
   "metadata": {},
   "outputs": [
    {
     "data": {
      "text/plain": [
       "torch.Size([1, 15])"
      ]
     },
     "execution_count": 242,
     "metadata": {},
     "output_type": "execute_result"
    }
   ],
   "source": [
    "m(start).shape"
   ]
  },
  {
   "cell_type": "code",
   "execution_count": null,
   "id": "14cce3ca",
   "metadata": {},
   "outputs": [],
   "source": []
  },
  {
   "cell_type": "code",
   "execution_count": null,
   "id": "aa4bce53",
   "metadata": {},
   "outputs": [],
   "source": []
  }
 ],
 "metadata": {
  "kernelspec": {
   "display_name": "ml_env",
   "language": "python",
   "name": "ml_env"
  },
  "language_info": {
   "codemirror_mode": {
    "name": "ipython",
    "version": 3
   },
   "file_extension": ".py",
   "mimetype": "text/x-python",
   "name": "python",
   "nbconvert_exporter": "python",
   "pygments_lexer": "ipython3",
   "version": "3.8.13"
  }
 },
 "nbformat": 4,
 "nbformat_minor": 5
}
