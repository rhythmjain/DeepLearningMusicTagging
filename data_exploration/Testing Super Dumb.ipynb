{
 "cells": [
  {
   "cell_type": "code",
   "execution_count": 1,
   "id": "8dde38ab",
   "metadata": {},
   "outputs": [],
   "source": [
    "from torch import nn\n",
    "import torch"
   ]
  },
  {
   "cell_type": "code",
   "execution_count": 2,
   "id": "0c0b7a64",
   "metadata": {},
   "outputs": [],
   "source": [
    "from torch.nn.utils.rnn import pad_sequence"
   ]
  },
  {
   "cell_type": "code",
   "execution_count": 3,
   "id": "eb94593b",
   "metadata": {},
   "outputs": [],
   "source": [
    "import numpy as np"
   ]
  },
  {
   "cell_type": "code",
   "execution_count": 4,
   "id": "26f5b02f",
   "metadata": {},
   "outputs": [],
   "source": [
    "import pandas as pd"
   ]
  },
  {
   "cell_type": "code",
   "execution_count": 5,
   "id": "a58fb134",
   "metadata": {},
   "outputs": [],
   "source": [
    "import os"
   ]
  },
  {
   "cell_type": "code",
   "execution_count": 6,
   "id": "42b6ccad",
   "metadata": {},
   "outputs": [],
   "source": [
    "from einops import rearrange"
   ]
  },
  {
   "cell_type": "code",
   "execution_count": 7,
   "id": "7214728f",
   "metadata": {},
   "outputs": [],
   "source": [
    "import random"
   ]
  },
  {
   "cell_type": "code",
   "execution_count": 8,
   "id": "a68cbc3e",
   "metadata": {},
   "outputs": [],
   "source": [
    "from torch.utils.data import DataLoader"
   ]
  },
  {
   "cell_type": "code",
   "execution_count": 9,
   "id": "f41473dd",
   "metadata": {},
   "outputs": [],
   "source": [
    "import torchvision.transforms as T"
   ]
  },
  {
   "cell_type": "code",
   "execution_count": 10,
   "id": "0e72087d",
   "metadata": {},
   "outputs": [],
   "source": [
    "from skimage.util import random_noise"
   ]
  },
  {
   "cell_type": "code",
   "execution_count": 11,
   "id": "65c3dcbb",
   "metadata": {},
   "outputs": [],
   "source": [
    "import matplotlib.pyplot as plt\n",
    "import seaborn as sns\n",
    "sns.set_theme()"
   ]
  },
  {
   "cell_type": "code",
   "execution_count": 12,
   "id": "ef921677",
   "metadata": {},
   "outputs": [
    {
     "name": "stderr",
     "output_type": "stream",
     "text": [
      "C:\\Users\\aag12\\anaconda3\\envs\\ml_env\\lib\\site-packages\\torchaudio\\backend\\utils.py:62: UserWarning: No audio backend is available.\n",
      "  warnings.warn(\"No audio backend is available.\")\n"
     ]
    }
   ],
   "source": [
    "import torchaudio"
   ]
  },
  {
   "cell_type": "code",
   "execution_count": 13,
   "id": "10dd49da",
   "metadata": {},
   "outputs": [],
   "source": [
    "from sklearn import preprocessing"
   ]
  },
  {
   "cell_type": "code",
   "execution_count": 14,
   "id": "0b4914d1",
   "metadata": {},
   "outputs": [],
   "source": [
    "from sklearn.model_selection import train_test_split"
   ]
  },
  {
   "cell_type": "code",
   "execution_count": 54,
   "id": "dc6dbff6",
   "metadata": {},
   "outputs": [],
   "source": [
    "from tqdm import tqdm"
   ]
  },
  {
   "cell_type": "code",
   "execution_count": 226,
   "id": "6e2c9c19",
   "metadata": {},
   "outputs": [],
   "source": [
    "from tqdm import tqdm\n",
    "import torch.optim as optim"
   ]
  },
  {
   "cell_type": "markdown",
   "id": "8864ad63",
   "metadata": {},
   "source": [
    "# Defining Dataseat"
   ]
  },
  {
   "cell_type": "code",
   "execution_count": 55,
   "id": "3c432a88",
   "metadata": {},
   "outputs": [],
   "source": [
    "from datasets import load_dataset"
   ]
  },
  {
   "cell_type": "code",
   "execution_count": 56,
   "id": "c2e2a3ed",
   "metadata": {},
   "outputs": [],
   "source": [
    "from datasets import disable_caching\n",
    "disable_caching()"
   ]
  },
  {
   "cell_type": "code",
   "execution_count": 57,
   "id": "d735a169",
   "metadata": {},
   "outputs": [],
   "source": [
    "# good_files = []\n",
    "# for i in range(1, 6):\n",
    "#     new_files = [f\"0{i}/{fname.replace('npy', '')}mp3\" for fname in os.listdir(f\"../../subset_moodtheme/0{i}\")]\n",
    "#     good_files.extend(new_files)\n",
    "\n",
    "# test_files = [f\"00/{fname.replace('npy', '')}mp3\" for fname in os.listdir(\"../../subset_moodtheme/00\")]\n",
    "# print(good_files)\n",
    "# print(test_files)"
   ]
  },
  {
   "cell_type": "code",
   "execution_count": 58,
   "id": "6386c2a5",
   "metadata": {},
   "outputs": [],
   "source": [
    "with open(\"goodfiles.txt\", 'r') as f:\n",
    "    all_files = f.readlines()\n",
    "all_files = [g.strip().replace(\"npy\", 'mp3') for g in all_files if len(g.strip()) > 0]"
   ]
  },
  {
   "cell_type": "code",
   "execution_count": 59,
   "id": "e64a05c5",
   "metadata": {},
   "outputs": [
    {
     "data": {
      "text/plain": [
       "['01/846501.mp3', '34/1288334.mp3', '98/1082098.mp3']"
      ]
     },
     "execution_count": 59,
     "metadata": {},
     "output_type": "execute_result"
    }
   ],
   "source": [
    "all_files[:3]"
   ]
  },
  {
   "cell_type": "code",
   "execution_count": null,
   "id": "ae153e5e",
   "metadata": {},
   "outputs": [],
   "source": []
  },
  {
   "cell_type": "code",
   "execution_count": 60,
   "id": "cc07061d",
   "metadata": {},
   "outputs": [],
   "source": [
    "good_files, test_files = train_test_split(all_files, test_size=0.2)"
   ]
  },
  {
   "cell_type": "code",
   "execution_count": 61,
   "id": "98d6ecc7",
   "metadata": {},
   "outputs": [
    {
     "data": {
      "text/plain": [
       "(2200, 551)"
      ]
     },
     "execution_count": 61,
     "metadata": {},
     "output_type": "execute_result"
    }
   ],
   "source": [
    "len(good_files), len(test_files)"
   ]
  },
  {
   "cell_type": "code",
   "execution_count": 62,
   "id": "b668f4e6",
   "metadata": {},
   "outputs": [],
   "source": [
    "def files_to_labels(files):\n",
    "    col_names = ['TRACK_ID',\n",
    "     'ARTIST_ID',\n",
    "     'ALBUM_ID',\n",
    "     'PATH',\n",
    "     'DURATION',\n",
    "     'TAGS',\n",
    "     'TAGS2',\n",
    "     'TAGS3',\n",
    "     'TAGS4',\n",
    "     'TAGS5',\n",
    "     'TAGS6',\n",
    "     'TAGS7',\n",
    "     'TAGS8',\n",
    "     'TAGS9']\n",
    "    MOODPATH = \"../../../Downloads/autotagging_moodtheme.tsv.txt\"\n",
    "    df = pd.read_csv(MOODPATH, sep='\\t', names=col_names)\n",
    "    df = df[df[\"PATH\"].isin(files)]\n",
    "    inds = {'fast': 0,\n",
    "     'sexy': 1,\n",
    "     'mellow': 2,\n",
    "     'heavy': 3,\n",
    "     'horror': 4,\n",
    "     'travel': 5,\n",
    "     'holiday': 6,\n",
    "     'groovy': 7,\n",
    "     'funny': 8,\n",
    "     'retro': 9,\n",
    "     'hopeful': 10,\n",
    "     'powerful': 11,\n",
    "     'cool': 12,\n",
    "     'nature': 13,\n",
    "     'game': 14}\n",
    "\n",
    "    final_labels = []\n",
    "    for i in range(len(df)):\n",
    "        curr = np.zeros(len(inds))\n",
    "        moods = list(df.iloc[i])[5:]\n",
    "        for theme in moods:\n",
    "            if type(theme) == str and \"mood\" in theme:\n",
    "                check = theme.split(\"---\")[-1]\n",
    "                if check in inds:\n",
    "                    curr[inds[check]] = 1\n",
    "            else:\n",
    "                pass\n",
    "\n",
    "        final_labels.append(curr)\n",
    "    return final_labels"
   ]
  },
  {
   "cell_type": "code",
   "execution_count": null,
   "id": "2a533963",
   "metadata": {},
   "outputs": [],
   "source": []
  },
  {
   "cell_type": "code",
   "execution_count": 63,
   "id": "07d2d0ea",
   "metadata": {},
   "outputs": [],
   "source": [
    "train_labels = files_to_labels(good_files)"
   ]
  },
  {
   "cell_type": "code",
   "execution_count": 64,
   "id": "d874d298",
   "metadata": {},
   "outputs": [],
   "source": [
    "test_labels = files_to_labels(test_files)"
   ]
  },
  {
   "cell_type": "code",
   "execution_count": 65,
   "id": "678f7c66",
   "metadata": {},
   "outputs": [
    {
     "data": {
      "text/plain": [
       "[array([0., 0., 0., 0., 0., 0., 0., 0., 0., 0., 0., 0., 1., 0., 0.]),\n",
       " array([0., 0., 0., 0., 0., 0., 0., 0., 0., 0., 0., 0., 1., 0., 0.])]"
      ]
     },
     "execution_count": 65,
     "metadata": {},
     "output_type": "execute_result"
    }
   ],
   "source": [
    "train_labels[:2]"
   ]
  },
  {
   "cell_type": "code",
   "execution_count": 66,
   "id": "545d632d",
   "metadata": {},
   "outputs": [],
   "source": [
    "# train_np_files = [(\"../../subset_moodtheme/\" + g).replace(\".mp3\", \".npy\") for g in good_files]\n",
    "# test_np_files = [(\"../../subset_moodtheme/\" + g).replace(\".mp3\", \".npy\") for g in test_files]\n",
    "train_np_files = [\"../../mtg-jamendo-dataset/all_data/\" + g.replace(\"mp3\", \"npy\") for g in good_files]\n",
    "test_np_files = [\"../../mtg-jamendo-dataset/all_data/\" + g.replace(\"mp3\", \"npy\") for g in test_files]"
   ]
  },
  {
   "cell_type": "code",
   "execution_count": 67,
   "id": "e9b18b4c",
   "metadata": {},
   "outputs": [
    {
     "data": {
      "text/plain": [
       "(['../../mtg-jamendo-dataset/all_data/50/783250.npy',\n",
       "  '../../mtg-jamendo-dataset/all_data/51/572351.npy'],\n",
       " ['../../mtg-jamendo-dataset/all_data/49/684249.npy',\n",
       "  '../../mtg-jamendo-dataset/all_data/52/361552.npy'])"
      ]
     },
     "execution_count": 67,
     "metadata": {},
     "output_type": "execute_result"
    }
   ],
   "source": [
    "train_np_files[:2], test_np_files[:2]"
   ]
  },
  {
   "cell_type": "code",
   "execution_count": 68,
   "id": "dd90cdfb",
   "metadata": {},
   "outputs": [],
   "source": [
    "import time"
   ]
  },
  {
   "cell_type": "code",
   "execution_count": 637,
   "id": "284ea16b",
   "metadata": {},
   "outputs": [],
   "source": [
    "# SEQ_LEN = 10000\n",
    "SEQ_LEN = 3000\n",
    "# SEQ_LEN = 5000"
   ]
  },
  {
   "cell_type": "code",
   "execution_count": null,
   "id": "7382b18b",
   "metadata": {},
   "outputs": [],
   "source": []
  },
  {
   "cell_type": "markdown",
   "id": "b65833fe",
   "metadata": {},
   "source": [
    "## Super Dumb Model"
   ]
  },
  {
   "cell_type": "code",
   "execution_count": 638,
   "id": "b55983e5",
   "metadata": {},
   "outputs": [],
   "source": [
    "from torchvision import transforms"
   ]
  },
  {
   "cell_type": "code",
   "execution_count": 712,
   "id": "494ba95b",
   "metadata": {},
   "outputs": [],
   "source": [
    "class FinetuningMusicDataset(torch.utils.data.Dataset):   \n",
    "    def __init__(self, np_file_paths, labels, transforms, seq_len=10000, random_start=True, upsample_factor=10):\n",
    "        self.seq_len = seq_len\n",
    "        self.files = np_file_paths\n",
    "        self.labels = labels\n",
    "        self.transforms = transforms\n",
    "        self.random_start = random_start\n",
    "        self.upsample_factor = upsample_factor\n",
    "    def __len__(self):\n",
    "        return len(self.files) * self.upsample_factor\n",
    "\n",
    "    def __getitem__(self, index):\n",
    "        effective_index = index % len(self.files)\n",
    "        x = np.load(self.files[effective_index])\n",
    "        x = torch.from_numpy(x).float()\n",
    "        if self.random_start and x.shape[-1] > self.seq_len:\n",
    "            # longer than 3000, select random subset\n",
    "            start = random.randint(0, x.shape[-1] - self.seq_len)\n",
    "            x = x[:,start:start+self.seq_len]\n",
    "        else:\n",
    "            x = x[:,:self.seq_len]\n",
    "        old_x = x.unsqueeze(0)\n",
    "        \n",
    "        compressed_x = (torch.clamp(old_x, min=-90, max=30) + 90) / 120\n",
    "        \n",
    "        x = self.transforms(compressed_x)\n",
    "        \n",
    "        item = {\"input\": x, \"label_ids\":[index], \"labels\": torch.tensor(self.labels[effective_index])}\n",
    "        \n",
    "        return item"
   ]
  },
  {
   "cell_type": "code",
   "execution_count": 713,
   "id": "7b3edaab",
   "metadata": {},
   "outputs": [],
   "source": [
    "class AddGaussianNoise(object):\n",
    "    def __init__(self, mean=0., std=1.):\n",
    "        self.std = std\n",
    "        self.mean = mean\n",
    "        \n",
    "    def __call__(self, tensor):\n",
    "        return tensor + torch.randn(tensor.size()) * self.std + self.mean\n",
    "    \n",
    "    def __repr__(self):\n",
    "        return self.__class__.__name__ + '(mean={0}, std={1})'.format(self.mean, self.std)"
   ]
  },
  {
   "cell_type": "code",
   "execution_count": 714,
   "id": "5c51ea24",
   "metadata": {},
   "outputs": [],
   "source": [
    "noise_composed = transforms.Compose([\n",
    "   transforms.Resize((224, 224)),\n",
    "    transforms.Normalize((0.5542), (0.1604)),\n",
    "    AddGaussianNoise(0., 0.04)\n",
    "])\n",
    "nonoise_composed = transforms.Compose([\n",
    "   transforms.Resize((224, 224)),\n",
    "    transforms.Normalize((0.5542), (0.1604))\n",
    "#     transforms.Resize((500, 500)),\n",
    "])"
   ]
  },
  {
   "cell_type": "code",
   "execution_count": 715,
   "id": "66ce8205",
   "metadata": {},
   "outputs": [],
   "source": [
    "# all_train = []\n",
    "# for t in train_np_files:\n",
    "#     d = np.load(t)\n",
    "#     d = torch.tensor(d)\n",
    "#     d = d.unsqueeze(0)\n",
    "#     r = transforms.Resize((224, 224))(d)\n",
    "#     new_r = (torch.clamp(r, min=-90, max=30) + 90) / 120\n",
    "#     all_train.append(new_r)"
   ]
  },
  {
   "cell_type": "code",
   "execution_count": 716,
   "id": "c5732717",
   "metadata": {},
   "outputs": [],
   "source": [
    "# len(all_train)"
   ]
  },
  {
   "cell_type": "code",
   "execution_count": 717,
   "id": "647d3cca",
   "metadata": {},
   "outputs": [],
   "source": [
    "# torch.cat(all_train).mean(), torch.cat(all_train).std()"
   ]
  },
  {
   "cell_type": "code",
   "execution_count": 718,
   "id": "34175453",
   "metadata": {},
   "outputs": [],
   "source": [
    "# transforms.Normalize((0.5542), (0.1604))(new_r)"
   ]
  },
  {
   "cell_type": "code",
   "execution_count": 719,
   "id": "caa90d0b",
   "metadata": {},
   "outputs": [],
   "source": [
    "# (torch.clamp(r, min=-90, max=30) + 90) / 120"
   ]
  },
  {
   "cell_type": "code",
   "execution_count": null,
   "id": "da3068ce",
   "metadata": {},
   "outputs": [],
   "source": []
  },
  {
   "cell_type": "code",
   "execution_count": 720,
   "id": "589cde02",
   "metadata": {},
   "outputs": [],
   "source": [
    "ft_train_dataset = FinetuningMusicDataset(train_np_files, train_labels, noise_composed, seq_len=SEQ_LEN, random_start=True, upsample_factor=5)\n",
    "ft_test_dataset = FinetuningMusicDataset(test_np_files, test_labels, nonoise_composed, seq_len=SEQ_LEN, random_start=False, upsample_factor=1)"
   ]
  },
  {
   "cell_type": "code",
   "execution_count": 721,
   "id": "4d888cbd",
   "metadata": {},
   "outputs": [],
   "source": [
    "batch_size=16"
   ]
  },
  {
   "cell_type": "code",
   "execution_count": 722,
   "id": "be54c8ab",
   "metadata": {},
   "outputs": [],
   "source": [
    "ft_train_dl = DataLoader(\n",
    "    ft_train_dataset,\n",
    "    batch_size=batch_size,\n",
    "    shuffle=True,\n",
    "    num_workers=0,\n",
    "    collate_fn=None,\n",
    "    pin_memory=False,\n",
    " )\n",
    "\n",
    "ft_test_dl = DataLoader(\n",
    "    ft_test_dataset,\n",
    "    batch_size=1,\n",
    "    shuffle=False,\n",
    "    num_workers=0,\n",
    "    collate_fn=None,\n",
    "    pin_memory=False,\n",
    " )"
   ]
  },
  {
   "cell_type": "code",
   "execution_count": null,
   "id": "11a3eb0e",
   "metadata": {},
   "outputs": [],
   "source": []
  },
  {
   "cell_type": "code",
   "execution_count": 723,
   "id": "b1095edf",
   "metadata": {},
   "outputs": [],
   "source": [
    "c = nn.Conv2d(1, 3, kernel_size=5, stride=(3, 1), padding=0)"
   ]
  },
  {
   "cell_type": "code",
   "execution_count": 724,
   "id": "5c0adaea",
   "metadata": {},
   "outputs": [],
   "source": [
    "start = torch.rand(1, 1, 500, 500)"
   ]
  },
  {
   "cell_type": "code",
   "execution_count": 725,
   "id": "388a3a98",
   "metadata": {},
   "outputs": [
    {
     "data": {
      "text/plain": [
       "torch.Size([1, 1, 500, 500])"
      ]
     },
     "execution_count": 725,
     "metadata": {},
     "output_type": "execute_result"
    }
   ],
   "source": [
    "start.shape"
   ]
  },
  {
   "cell_type": "code",
   "execution_count": 726,
   "id": "741dec5e",
   "metadata": {},
   "outputs": [
    {
     "data": {
      "text/plain": [
       "torch.Size([1, 3, 166, 496])"
      ]
     },
     "execution_count": 726,
     "metadata": {},
     "output_type": "execute_result"
    }
   ],
   "source": [
    "c(start).shape"
   ]
  },
  {
   "cell_type": "code",
   "execution_count": 727,
   "id": "54a1e74b",
   "metadata": {},
   "outputs": [],
   "source": [
    "c2 = nn.Conv2d(3, 1, kernel_size=5, stride=(3, 3), padding=0)"
   ]
  },
  {
   "cell_type": "code",
   "execution_count": 728,
   "id": "b7798abc",
   "metadata": {},
   "outputs": [
    {
     "data": {
      "text/plain": [
       "torch.Size([1, 1, 54, 164])"
      ]
     },
     "execution_count": 728,
     "metadata": {},
     "output_type": "execute_result"
    }
   ],
   "source": [
    "c2(c(start)).shape"
   ]
  },
  {
   "cell_type": "code",
   "execution_count": 729,
   "id": "ac53bd5c",
   "metadata": {},
   "outputs": [
    {
     "data": {
      "text/plain": [
       "1728"
      ]
     },
     "execution_count": 729,
     "metadata": {},
     "output_type": "execute_result"
    }
   ],
   "source": [
    "24 * 72"
   ]
  },
  {
   "cell_type": "code",
   "execution_count": 730,
   "id": "9f348c16",
   "metadata": {},
   "outputs": [],
   "source": [
    "# model = torch.nn.Sequential(\n",
    "#     nn.Flatten(),\n",
    "# #     nn.Linear(250000, 512),\n",
    "#     nn.Linear(50176, 512),\n",
    "#     nn.LeakyReLU(),\n",
    "#     nn.Dropout(0.1)\n",
    "# )\n",
    "\n",
    "# model = torch.nn.Sequential(\n",
    "#     nn.Flatten(),\n",
    "#     nn.Linear(50176, 1024),\n",
    "#     nn.Dropout(0.1),\n",
    "# #     nn.Linear(54 * 164, 1024),\n",
    "#     nn.LeakyReLU(),\n",
    "# #     nn.Dropout(0.1),\n",
    "#     nn.Linear(1024, 512),\n",
    "#     nn.LeakyReLU(),\n",
    "#     nn.Dropout(0.1)\n",
    "# )"
   ]
  },
  {
   "cell_type": "code",
   "execution_count": 731,
   "id": "80cf3764",
   "metadata": {},
   "outputs": [],
   "source": [
    "device = torch.device('cuda' if torch.cuda.is_available() else 'cpu')"
   ]
  },
  {
   "cell_type": "code",
   "execution_count": 732,
   "id": "76f77129",
   "metadata": {},
   "outputs": [],
   "source": [
    "model = model.to(device)"
   ]
  },
  {
   "cell_type": "code",
   "execution_count": 733,
   "id": "a9fe0e50",
   "metadata": {},
   "outputs": [],
   "source": [
    "heads = [nn.Sequential(nn.Linear(512, 512), nn.LeakyReLU(), nn.Linear(512, 1)) for i in range(15)]"
   ]
  },
  {
   "cell_type": "code",
   "execution_count": 734,
   "id": "0efbc146",
   "metadata": {},
   "outputs": [],
   "source": [
    "heads = [h.to(device) for h in heads]"
   ]
  },
  {
   "cell_type": "code",
   "execution_count": 735,
   "id": "c8a80989",
   "metadata": {},
   "outputs": [],
   "source": [
    "# pos_weight = 1 / (torch.sum(torch.tensor(train_labels), dim=0) / len(train_labels))\n",
    "pos_weight = 1 / (torch.sum(torch.tensor(test_labels), dim=0) / len(test_labels))"
   ]
  },
  {
   "cell_type": "code",
   "execution_count": 736,
   "id": "15c04418",
   "metadata": {},
   "outputs": [
    {
     "data": {
      "text/plain": [
       "tensor([27.5500, 23.9565, 15.7429, 19.0000, 14.8919, 15.7429, 15.3056, 14.8919,\n",
       "        14.5000, 13.7750, 12.8140, 13.4390, 10.0182,  9.8393,  9.8393],\n",
       "       dtype=torch.float64)"
      ]
     },
     "execution_count": 736,
     "metadata": {},
     "output_type": "execute_result"
    }
   ],
   "source": [
    "pos_weight"
   ]
  },
  {
   "cell_type": "code",
   "execution_count": 737,
   "id": "49f12abe",
   "metadata": {},
   "outputs": [],
   "source": [
    "# optimizer = optim.AdamW(model.parameters(), lr=1e-2, weight_decay=0.05, betas=(0.9, 0.95))\n",
    "optimizer = optim.AdamW(model.parameters(), lr=5e-3, weight_decay=0.05, betas=(0.9, 0.95))\n",
    "criterion = nn.BCEWithLogitsLoss(pos_weight = pos_weight.to(device))"
   ]
  },
  {
   "cell_type": "code",
   "execution_count": 738,
   "id": "be42138b",
   "metadata": {},
   "outputs": [],
   "source": [
    "def get_total_loss(model, dataloader):\n",
    "    total_loss = 0\n",
    "    for batch_idx, data in enumerate(dataloader):\n",
    "        inputs, labels = data['input'].to(device), data['labels'].to(device)\n",
    "\n",
    "        outputs = model(inputs)\n",
    "        outputs = torch.concat([h(outputs) for h in heads], dim=1)\n",
    "        total_loss += criterion(outputs, labels.float())\n",
    "    return total_loss.item()"
   ]
  },
  {
   "cell_type": "code",
   "execution_count": 739,
   "id": "02e2c3f0",
   "metadata": {},
   "outputs": [
    {
     "name": "stderr",
     "output_type": "stream",
     "text": [
      "100%|████████████████████████████████████████████████████████████████████████████████████████| 688/688 [01:15<00:00,  9.11it/s]\n"
     ]
    },
    {
     "name": "stdout",
     "output_type": "stream",
     "text": [
      "Epoch: 0; Loss: 4739.797083332047; Test Loss: 2888.208740234375\n"
     ]
    },
    {
     "name": "stderr",
     "output_type": "stream",
     "text": [
      "100%|████████████████████████████████████████████████████████████████████████████████████████| 688/688 [01:13<00:00,  9.38it/s]\n"
     ]
    },
    {
     "name": "stdout",
     "output_type": "stream",
     "text": [
      "Epoch: 1; Loss: 2694.6315145370013; Test Loss: 5013.52490234375\n"
     ]
    },
    {
     "name": "stderr",
     "output_type": "stream",
     "text": [
      "100%|████████████████████████████████████████████████████████████████████████████████████████| 688/688 [01:12<00:00,  9.51it/s]\n"
     ]
    },
    {
     "name": "stdout",
     "output_type": "stream",
     "text": [
      "Epoch: 2; Loss: 3154.5414133056206; Test Loss: 4930.10009765625\n"
     ]
    },
    {
     "name": "stderr",
     "output_type": "stream",
     "text": [
      "100%|████████████████████████████████████████████████████████████████████████████████████████| 688/688 [01:16<00:00,  8.98it/s]\n"
     ]
    },
    {
     "name": "stdout",
     "output_type": "stream",
     "text": [
      "Epoch: 3; Loss: 2526.483926955386; Test Loss: 3850.4521484375\n"
     ]
    },
    {
     "name": "stderr",
     "output_type": "stream",
     "text": [
      "100%|████████████████████████████████████████████████████████████████████████████████████████| 688/688 [01:14<00:00,  9.22it/s]\n"
     ]
    },
    {
     "name": "stdout",
     "output_type": "stream",
     "text": [
      "Epoch: 4; Loss: 2539.823655427852; Test Loss: 3800.432861328125\n"
     ]
    },
    {
     "name": "stderr",
     "output_type": "stream",
     "text": [
      "100%|████████████████████████████████████████████████████████████████████████████████████████| 688/688 [01:13<00:00,  9.38it/s]\n"
     ]
    },
    {
     "name": "stdout",
     "output_type": "stream",
     "text": [
      "Epoch: 5; Loss: 2605.2551147603954; Test Loss: 3242.58935546875\n"
     ]
    },
    {
     "name": "stderr",
     "output_type": "stream",
     "text": [
      "100%|████████████████████████████████████████████████████████████████████████████████████████| 688/688 [01:17<00:00,  8.89it/s]\n"
     ]
    },
    {
     "name": "stdout",
     "output_type": "stream",
     "text": [
      "Epoch: 6; Loss: 2670.8615570126603; Test Loss: 3217.201904296875\n"
     ]
    },
    {
     "name": "stderr",
     "output_type": "stream",
     "text": [
      "100%|████████████████████████████████████████████████████████████████████████████████████████| 688/688 [01:14<00:00,  9.19it/s]\n"
     ]
    },
    {
     "name": "stdout",
     "output_type": "stream",
     "text": [
      "Epoch: 7; Loss: 2664.4630642275342; Test Loss: 3746.198974609375\n"
     ]
    },
    {
     "name": "stderr",
     "output_type": "stream",
     "text": [
      "100%|████████████████████████████████████████████████████████████████████████████████████████| 688/688 [01:12<00:00,  9.49it/s]\n"
     ]
    },
    {
     "name": "stdout",
     "output_type": "stream",
     "text": [
      "Epoch: 8; Loss: 2646.5476412939047; Test Loss: 3628.9755859375\n"
     ]
    },
    {
     "name": "stderr",
     "output_type": "stream",
     "text": [
      "100%|████████████████████████████████████████████████████████████████████████████████████████| 688/688 [01:16<00:00,  9.05it/s]\n"
     ]
    },
    {
     "name": "stdout",
     "output_type": "stream",
     "text": [
      "Epoch: 9; Loss: 2579.4972847686477; Test Loss: 3555.541015625\n"
     ]
    }
   ],
   "source": [
    "model.train()\n",
    "ft_train_losses = []\n",
    "ft_test_losses = []\n",
    "for epoch in range(10):\n",
    "# for epoch in range(5):\n",
    "    total_loss = 0\n",
    "#     for batch in train_loader:\n",
    "    for batch_idx, data in tqdm(enumerate(ft_train_dl), total=len(ft_train_dl)):\n",
    "        these_losses = []\n",
    "        optimizer.zero_grad()\n",
    "        inputs, labels = data['input'].to(device), data['labels'].to(device)\n",
    "        outputs = model(inputs)\n",
    "        outputs = torch.concat([h(outputs) for h in heads], dim=1)\n",
    "        \n",
    "        loss = criterion(outputs, labels)\n",
    "\n",
    "        loss.backward()\n",
    "        optimizer.step()\n",
    "        # for bookkeeping\n",
    "        total_loss += loss.item()\n",
    "        \n",
    "    with torch.no_grad():\n",
    "        train_total_loss = total_loss\n",
    "        test_loss = get_total_loss(model, ft_test_dl)\n",
    "        ft_train_losses.append(train_total_loss)\n",
    "        ft_test_losses.append(test_loss)\n",
    "        print(f\"Epoch: {epoch}; Loss: {train_total_loss}; Test Loss: {test_loss}\")\n",
    "\n",
    "_ = model.eval()"
   ]
  },
  {
   "cell_type": "code",
   "execution_count": null,
   "id": "01a0eae7",
   "metadata": {},
   "outputs": [],
   "source": []
  },
  {
   "cell_type": "code",
   "execution_count": 740,
   "id": "65821da5",
   "metadata": {},
   "outputs": [
    {
     "data": {
      "text/plain": [
       "Text(0.5, 1.0, 'MAE v1: Finetuning Train/Test Loss')"
      ]
     },
     "execution_count": 740,
     "metadata": {},
     "output_type": "execute_result"
    },
    {
     "data": {
      "image/png": "[encoded data removed]",
      "text/plain": [
       "<Figure size 1152x720 with 2 Axes>"
      ]
     },
     "metadata": {
      "needs_background": "light"
     },
     "output_type": "display_data"
    }
   ],
   "source": [
    "plt.figure(figsize=(16, 10))\n",
    "ranger = list(range(len(ft_train_losses)))\n",
    "sns.lineplot(x=ranger, y=ft_train_losses, label=\"total train loss\", alpha=1)\n",
    "# sns.lineplot(x=ranger, y=adjusted_train_losses, label=\"adjusted train loss\")\n",
    "ax2 = plt.twinx()\n",
    "sns.lineplot(x=ranger, y=ft_test_losses, label=\"test loss\", ax=ax2, color=\"orange\", alpha=1)\n",
    "# sns.lineplot(x=ranger, y=ft_test_losses, label=\"test loss\", color=\"orange\", alpha=0.5)\n",
    "plt.title(\"MAE v1: Finetuning Train/Test Loss\")\n",
    "# plt.savefig(\"mae_v1.png\")"
   ]
  },
  {
   "cell_type": "code",
   "execution_count": null,
   "id": "6bf340bb",
   "metadata": {},
   "outputs": [],
   "source": []
  },
  {
   "cell_type": "code",
   "execution_count": 741,
   "id": "4c9226ff",
   "metadata": {},
   "outputs": [],
   "source": [
    "ft_trainnosample_dataset = FinetuningMusicDataset(train_np_files, train_labels, nonoise_composed, seq_len=SEQ_LEN, random_start=True, upsample_factor=1)"
   ]
  },
  {
   "cell_type": "code",
   "execution_count": 742,
   "id": "ee5d20e4",
   "metadata": {},
   "outputs": [],
   "source": [
    "ft_train_eval_dl = DataLoader(\n",
    "    ft_trainnosample_dataset,\n",
    "    batch_size=batch_size,\n",
    "    shuffle=True,\n",
    "    num_workers=0,\n",
    "    collate_fn=None,\n",
    "    pin_memory=False,\n",
    " )"
   ]
  },
  {
   "cell_type": "code",
   "execution_count": 743,
   "id": "2dfb7c96",
   "metadata": {},
   "outputs": [],
   "source": [
    "import torch.nn.functional as F"
   ]
  },
  {
   "cell_type": "code",
   "execution_count": 744,
   "id": "01d778e5",
   "metadata": {},
   "outputs": [
    {
     "data": {
      "text/plain": [
       "torch.Size([8, 1, 224, 224])"
      ]
     },
     "execution_count": 744,
     "metadata": {},
     "output_type": "execute_result"
    }
   ],
   "source": [
    "inputs.shape"
   ]
  },
  {
   "cell_type": "code",
   "execution_count": null,
   "id": "8e38fbbb",
   "metadata": {},
   "outputs": [],
   "source": []
  },
  {
   "cell_type": "code",
   "execution_count": 745,
   "id": "bd75fe27",
   "metadata": {},
   "outputs": [],
   "source": [
    "ft = torch.cat([ft_test_dataset[0]['input'], ft_test_dataset[1]['input'], ft_test_dataset[2]['input']])"
   ]
  },
  {
   "cell_type": "code",
   "execution_count": 746,
   "id": "e9f5e8a1",
   "metadata": {},
   "outputs": [
    {
     "data": {
      "text/plain": [
       "tensor([[[-2.1618, -1.7138, -1.0910,  ...,  0.2644,  0.8954,  0.8528],\n",
       "         [-2.2165, -1.7538, -1.1410,  ...,  0.3398,  0.9601,  0.9209],\n",
       "         [-2.3805, -1.8739, -1.2908,  ...,  0.5661,  1.1541,  1.1250],\n",
       "         ...,\n",
       "         [-2.6041, -1.7394, -2.7676,  ..., -2.8768, -2.8583, -2.8909],\n",
       "         [-3.0006, -2.1107, -3.1830,  ..., -3.1366, -3.2540, -3.2450],\n",
       "         [-3.1327, -2.2344, -3.3214,  ..., -3.2232, -3.3859, -3.3630]],\n",
       "\n",
       "        [[ 0.4983,  0.9033, -0.3487,  ...,  0.7118,  0.4439,  1.0078],\n",
       "         [ 0.4989,  0.8855, -0.3586,  ...,  0.7131,  0.4305,  1.0466],\n",
       "         [ 0.5007,  0.8320, -0.3881,  ...,  0.7169,  0.3902,  1.1630],\n",
       "         ...,\n",
       "         [-1.7732, -2.0033, -1.6005,  ..., -0.9355, -0.9586, -0.7985],\n",
       "         [-1.9305, -2.2169, -1.5112,  ..., -1.3635, -1.4280, -1.1643],\n",
       "         [-1.9829, -2.2881, -1.4815,  ..., -1.5061, -1.5844, -1.2862]],\n",
       "\n",
       "        [[ 1.5071, -0.1729,  0.6593,  ...,  1.1868,  0.5588,  0.9677],\n",
       "         [ 1.5446, -0.0963,  0.6882,  ...,  1.2132,  0.6467,  1.0065],\n",
       "         [ 1.6568,  0.1337,  0.7748,  ...,  1.2923,  0.9104,  1.1229],\n",
       "         ...,\n",
       "         [-1.8595, -2.0934, -2.8983,  ..., -0.8905, -1.4329, -1.4074],\n",
       "         [-2.1733, -2.3552, -3.3135,  ..., -1.1700, -1.8358, -1.7241],\n",
       "         [-2.2778, -2.4425, -3.4519,  ..., -1.2632, -1.9701, -1.8297]]])"
      ]
     },
     "execution_count": 746,
     "metadata": {},
     "output_type": "execute_result"
    }
   ],
   "source": [
    "ft"
   ]
  },
  {
   "cell_type": "code",
   "execution_count": 750,
   "id": "f7ab384a",
   "metadata": {},
   "outputs": [
    {
     "data": {
      "text/plain": [
       "torch.Size([3, 224, 224])"
      ]
     },
     "execution_count": 750,
     "metadata": {},
     "output_type": "execute_result"
    }
   ],
   "source": [
    "ft.shape"
   ]
  },
  {
   "cell_type": "code",
   "execution_count": 751,
   "id": "908bf22b",
   "metadata": {},
   "outputs": [
    {
     "data": {
      "text/plain": [
       "tensor([[ -6.2683,  -9.3228, -29.8884,  ..., -12.5783, -13.3075, -10.9991],\n",
       "        [ -4.2696,  -6.7793, -16.1107,  ...,  -9.8461,  -9.9517,  -6.3355],\n",
       "        [ -8.8096,  -7.7522, -19.3843,  ..., -19.5715,  -9.1783,  -3.4315]],\n",
       "       device='cuda:0', grad_fn=<LeakyReluBackward0>)"
      ]
     },
     "execution_count": 751,
     "metadata": {},
     "output_type": "execute_result"
    }
   ],
   "source": [
    "model(ft.unsqueeze(1).to(device))"
   ]
  },
  {
   "cell_type": "code",
   "execution_count": null,
   "id": "41d9c5c8",
   "metadata": {},
   "outputs": [],
   "source": []
  },
  {
   "cell_type": "code",
   "execution_count": 752,
   "id": "4f7287ec",
   "metadata": {},
   "outputs": [
    {
     "name": "stdout",
     "output_type": "stream",
     "text": [
      "0.5245009074410163\n",
      "4335 out of 8265\n",
      "Performance on positive labels\n",
      "0.47676419965576594\n",
      "277 out of 581.0\n",
      "WHAT IF WE JUST PREDICTED ZERO\n",
      "0.9297035692679976\n",
      "7684 out of 8265\n"
     ]
    }
   ],
   "source": [
    "model.eval()\n",
    "for h in heads:\n",
    "    h.eval()\n",
    "\n",
    "combined_preds = []\n",
    "combined_labels = []\n",
    "\n",
    "with torch.no_grad():\n",
    "    total_correct = 0\n",
    "    zero_correct = 0\n",
    "    total_values = 0\n",
    "    only_positives = [0, 0]\n",
    "    for batch_idx, data in enumerate(ft_test_dl):\n",
    "#     for batch_idx, data in enumerate(ft_train_eval_dl):\n",
    "        inputs, labels = data['input'].to(device), data['labels'].to(device)\n",
    "\n",
    "        outputs = model(inputs)\n",
    "        outputs = torch.concat([h(outputs) for h in heads], dim=1)\n",
    "        outputs = torch.sigmoid(outputs)\n",
    "        \n",
    "        combined_preds.append(outputs)\n",
    "        combined_labels.append(labels)\n",
    "        \n",
    "        outlabels = torch.zeros_like(outputs)\n",
    "        outlabels[outputs >= 0.5] = 1\n",
    "        outlabels[outputs < 0.5] = 0\n",
    "        \n",
    "        num_correct = torch.sum(outlabels == labels).item()\n",
    "        num = len(labels) * 15\n",
    "        \n",
    "        total_correct += num_correct\n",
    "        total_values += num\n",
    "        zero_correct += torch.sum(labels == 0).item()\n",
    "        \n",
    "        only_positives[0] += torch.sum(labels).item()\n",
    "        only_positives[1] += torch.sum(labels[labels == 1] == outlabels[labels == 1]).item()\n",
    "        \n",
    "\n",
    "print(total_correct / total_values)\n",
    "\n",
    "print(f\"{total_correct} out of {total_values}\")\n",
    "\n",
    "print(\"Performance on positive labels\")\n",
    "\n",
    "print(only_positives[1] / only_positives[0])\n",
    "\n",
    "print(f\"{only_positives[1]} out of {only_positives[0]}\")\n",
    "\n",
    "print(\"WHAT IF WE JUST PREDICTED ZERO\")\n",
    "\n",
    "print(zero_correct / total_values)\n",
    "\n",
    "print(f\"{zero_correct} out of {total_values}\")"
   ]
  },
  {
   "cell_type": "code",
   "execution_count": null,
   "id": "cf93a6ad",
   "metadata": {},
   "outputs": [],
   "source": []
  },
  {
   "cell_type": "code",
   "execution_count": 753,
   "id": "9ff61d98",
   "metadata": {},
   "outputs": [
    {
     "data": {
      "text/plain": [
       "(torch.Size([551, 15]), torch.Size([551, 15]))"
      ]
     },
     "execution_count": 753,
     "metadata": {},
     "output_type": "execute_result"
    }
   ],
   "source": [
    "all_preds = torch.cat(combined_preds)\n",
    "all_labels = torch.cat(combined_labels)\n",
    "all_preds.shape, all_labels.shape"
   ]
  },
  {
   "cell_type": "code",
   "execution_count": 754,
   "id": "9a795fea",
   "metadata": {},
   "outputs": [
    {
     "data": {
      "text/plain": [
       "551"
      ]
     },
     "execution_count": 754,
     "metadata": {},
     "output_type": "execute_result"
    }
   ],
   "source": [
    "len(ft_test_dataset)"
   ]
  },
  {
   "cell_type": "code",
   "execution_count": 755,
   "id": "683eef2b",
   "metadata": {},
   "outputs": [],
   "source": [
    "from sklearn import metrics"
   ]
  },
  {
   "cell_type": "code",
   "execution_count": null,
   "id": "a69fcc78",
   "metadata": {},
   "outputs": [],
   "source": []
  },
  {
   "cell_type": "code",
   "execution_count": 756,
   "id": "6a73785a",
   "metadata": {},
   "outputs": [
    {
     "data": {
      "text/plain": [
       "tensor([[0.0718, 0.9693, 0.7051,  ..., 0.5147, 0.2806, 0.5417],\n",
       "        [0.3435, 0.7405, 0.6251,  ..., 0.4832, 0.3126, 0.4968],\n",
       "        [0.3802, 0.4915, 0.4302,  ..., 0.5173, 0.3640, 0.6169],\n",
       "        ...,\n",
       "        [0.3259, 0.4062, 0.4129,  ..., 0.5321, 0.3744, 0.4907],\n",
       "        [0.0992, 0.8336, 0.3250,  ..., 0.2235, 0.2717, 0.3893],\n",
       "        [0.2294, 0.5050, 0.4613,  ..., 0.6728, 0.2511, 0.6295]],\n",
       "       device='cuda:0')"
      ]
     },
     "execution_count": 756,
     "metadata": {},
     "output_type": "execute_result"
    }
   ],
   "source": [
    "all_preds"
   ]
  },
  {
   "cell_type": "code",
   "execution_count": null,
   "id": "b0ac283b",
   "metadata": {},
   "outputs": [],
   "source": []
  },
  {
   "cell_type": "code",
   "execution_count": 757,
   "id": "b411a48c",
   "metadata": {},
   "outputs": [
    {
     "name": "stdout",
     "output_type": "stream",
     "text": [
      "Head: 0; AUC: 0.5332862523540489\n",
      "Head: 1; AUC: 0.5167160737812911\n",
      "Head: 2; AUC: 0.5141749723145072\n",
      "Head: 3; AUC: 0.4991742634429911\n",
      "Head: 4; AUC: 0.5152750026290883\n",
      "Head: 5; AUC: 0.5118493909191583\n",
      "Head: 6; AUC: 0.5199568500539373\n",
      "Head: 7; AUC: 0.48766957619097695\n",
      "Head: 8; AUC: 0.49615266235764854\n",
      "Head: 9; AUC: 0.48850293542074363\n",
      "Head: 10; AUC: 0.45930232558139533\n",
      "Head: 11; AUC: 0.5125059780009565\n",
      "Head: 12; AUC: 0.45130131964809383\n",
      "Head: 13; AUC: 0.5311327561327561\n",
      "Head: 14; AUC: 0.5827200577200577\n"
     ]
    }
   ],
   "source": [
    "aucs = []\n",
    "for i in range(15):\n",
    "    preds = all_preds[:,i].cpu()\n",
    "    targs = all_labels[:,i].cpu()\n",
    "#     fpr, tpr, thresholds = metrics.roc_curve(targs, preds, pos_label=1)\n",
    "    fpr, tpr, thresholds = metrics.roc_curve(targs, preds, pos_label=1)\n",
    "    auc = metrics.auc(fpr, tpr)\n",
    "    aucs.append(auc)\n",
    "    print(f\"Head: {i}; AUC: {auc}\")"
   ]
  },
  {
   "cell_type": "code",
   "execution_count": null,
   "id": "36e8cff8",
   "metadata": {},
   "outputs": [],
   "source": []
  },
  {
   "cell_type": "code",
   "execution_count": null,
   "id": "7c2496d5",
   "metadata": {},
   "outputs": [],
   "source": []
  }
 ],
 "metadata": {
  "kernelspec": {
   "display_name": "ml_env",
   "language": "python",
   "name": "ml_env"
  },
  "language_info": {
   "codemirror_mode": {
    "name": "ipython",
    "version": 3
   },
   "file_extension": ".py",
   "mimetype": "text/x-python",
   "name": "python",
   "nbconvert_exporter": "python",
   "pygments_lexer": "ipython3",
   "version": "3.8.13"
  }
 },
 "nbformat": 4,
 "nbformat_minor": 5
}
