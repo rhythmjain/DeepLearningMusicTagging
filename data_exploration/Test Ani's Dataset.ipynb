{
 "cells": [
  {
   "cell_type": "code",
   "execution_count": 2,
   "id": "06ad3c05",
   "metadata": {},
   "outputs": [],
   "source": [
    "import pandas as pd"
   ]
  },
  {
   "cell_type": "code",
   "execution_count": 30,
   "id": "37b8f1d5",
   "metadata": {},
   "outputs": [],
   "source": [
    "import numpy as np"
   ]
  },
  {
   "cell_type": "code",
   "execution_count": null,
   "id": "37b77f5d",
   "metadata": {},
   "outputs": [],
   "source": []
  },
  {
   "cell_type": "code",
   "execution_count": 14,
   "id": "7f9c18f6",
   "metadata": {},
   "outputs": [],
   "source": [
    "good_files = ['00/1164200.mp3',\n",
    " '00/12100.mp3',\n",
    " '00/1295900.mp3',\n",
    " '00/985000.mp3',\n",
    " '00/1398500.mp3',\n",
    " '00/1210700.mp3',\n",
    " '00/818600.mp3',\n",
    " '00/1339600.mp3',\n",
    " '00/506100.mp3',\n",
    " '00/390000.mp3',\n",
    " '00/16000.mp3',\n",
    " '00/1052800.mp3',\n",
    " '00/699100.mp3']"
   ]
  },
  {
   "cell_type": "code",
   "execution_count": 4,
   "id": "71f60599",
   "metadata": {},
   "outputs": [],
   "source": [
    "MOODPATH = \"/mnt/c/Users/aag12/Downloads/autotagging_moodtheme.tsv.txt\""
   ]
  },
  {
   "cell_type": "code",
   "execution_count": 5,
   "id": "c1bf522d",
   "metadata": {},
   "outputs": [],
   "source": [
    "with open(MOODPATH, 'r') as f:\n",
    "    moodraw = f.read()"
   ]
  },
  {
   "cell_type": "code",
   "execution_count": 9,
   "id": "970f2228",
   "metadata": {},
   "outputs": [],
   "source": [
    "col_names = ['TRACK_ID',\n",
    " 'ARTIST_ID',\n",
    " 'ALBUM_ID',\n",
    " 'PATH',\n",
    " 'DURATION',\n",
    " 'TAGS',\n",
    " 'TAGS2',\n",
    " 'TAGS3',\n",
    " 'TAGS4',\n",
    " 'TAGS5',\n",
    " 'TAGS6',\n",
    " 'TAGS7',\n",
    " 'TAGS8',\n",
    " 'TAGS9']"
   ]
  },
  {
   "cell_type": "code",
   "execution_count": 20,
   "id": "0f0afb6c",
   "metadata": {},
   "outputs": [],
   "source": [
    "df = pd.read_csv(MOODPATH, sep='\\t', names=col_names)"
   ]
  },
  {
   "cell_type": "code",
   "execution_count": 21,
   "id": "3f053b65",
   "metadata": {},
   "outputs": [],
   "source": [
    "# df[\"PATH\"] = [p.replace(\".mp3\", \".npy\") for p in df[\"PATH\"].values]"
   ]
  },
  {
   "cell_type": "code",
   "execution_count": 97,
   "id": "f6c99eda",
   "metadata": {},
   "outputs": [],
   "source": [
    "df = df[df[\"PATH\"].isin(good_files)]"
   ]
  },
  {
   "cell_type": "code",
   "execution_count": null,
   "id": "1a8802dd",
   "metadata": {},
   "outputs": [],
   "source": []
  },
  {
   "cell_type": "code",
   "execution_count": null,
   "id": "60e0d86a",
   "metadata": {},
   "outputs": [],
   "source": []
  },
  {
   "cell_type": "code",
   "execution_count": null,
   "id": "1f644ea5",
   "metadata": {},
   "outputs": [],
   "source": []
  },
  {
   "cell_type": "code",
   "execution_count": 55,
   "id": "3ff97282",
   "metadata": {},
   "outputs": [],
   "source": [
    "# num_seen = 0\n",
    "# for t in set(track_ids):\n",
    "#     if t in moodraw:\n",
    "#         num_seen += 1"
   ]
  },
  {
   "cell_type": "code",
   "execution_count": null,
   "id": "04ddf540",
   "metadata": {},
   "outputs": [],
   "source": []
  },
  {
   "cell_type": "code",
   "execution_count": 56,
   "id": "f840d81d",
   "metadata": {},
   "outputs": [],
   "source": [
    "num_moods = 15"
   ]
  },
  {
   "cell_type": "code",
   "execution_count": 57,
   "id": "c602728f",
   "metadata": {},
   "outputs": [],
   "source": [
    "inds ={'fast': 0,\n",
    " 'sexy': 1,\n",
    " 'mellow': 2,\n",
    " 'heavy': 3,\n",
    " 'horror': 4,\n",
    " 'travel': 5,\n",
    " 'holiday': 6,\n",
    " 'groovy': 7,\n",
    " 'funny': 8,\n",
    " 'retro': 9,\n",
    " 'hopeful': 10,\n",
    " 'powerful': 11,\n",
    " 'cool': 12,\n",
    " 'nature': 13,\n",
    " 'game': 14}"
   ]
  },
  {
   "cell_type": "code",
   "execution_count": 58,
   "id": "3e97df96",
   "metadata": {},
   "outputs": [
    {
     "data": {
      "text/plain": [
       "15"
      ]
     },
     "execution_count": 58,
     "metadata": {},
     "output_type": "execute_result"
    }
   ],
   "source": [
    "len(inds)"
   ]
  },
  {
   "cell_type": "code",
   "execution_count": 59,
   "id": "0e1370d2",
   "metadata": {},
   "outputs": [],
   "source": [
    "def sudo_one_hot(df, inds):\n",
    "#     mini_df = df[df['PATH'].isin(soi)]\n",
    "    final = []\n",
    "    for i in range(len(df)):\n",
    "        curr = np.zeros(len(inds))\n",
    "        moods = list(df.iloc[i])[5:]\n",
    "        for theme in moods:\n",
    "            if type(theme) == str and \"mood\" in theme:\n",
    "                check = theme.split(\"---\")[-1]\n",
    "                if check in inds:\n",
    "                    curr[inds[check]] = 1\n",
    "                else:\n",
    "                    break\n",
    "        final.append(curr)\n",
    "    return final"
   ]
  },
  {
   "cell_type": "code",
   "execution_count": 74,
   "id": "58e04ff8",
   "metadata": {},
   "outputs": [
    {
     "data": {
      "text/plain": [
       "['mood/theme---christmas',\n",
       " 'mood/theme---holiday',\n",
       " nan,\n",
       " nan,\n",
       " nan,\n",
       " nan,\n",
       " nan,\n",
       " nan,\n",
       " nan]"
      ]
     },
     "execution_count": 74,
     "metadata": {},
     "output_type": "execute_result"
    }
   ],
   "source": [
    "moods"
   ]
  },
  {
   "cell_type": "code",
   "execution_count": 75,
   "id": "d92abdec",
   "metadata": {},
   "outputs": [
    {
     "data": {
      "text/plain": [
       "TRACK_ID              track_1398500\n",
       "ARTIST_ID             artist_439371\n",
       "ALBUM_ID               album_163742\n",
       "PATH                 00/1398500.mp3\n",
       "DURATION                      166.7\n",
       "TAGS         mood/theme---christmas\n",
       "TAGS2          mood/theme---holiday\n",
       "TAGS3                           NaN\n",
       "TAGS4                           NaN\n",
       "TAGS5                           NaN\n",
       "TAGS6                           NaN\n",
       "TAGS7                           NaN\n",
       "TAGS8                           NaN\n",
       "TAGS9                           NaN\n",
       "Name: 17530, dtype: object"
      ]
     },
     "execution_count": 75,
     "metadata": {},
     "output_type": "execute_result"
    }
   ],
   "source": [
    "df.iloc[i]"
   ]
  },
  {
   "cell_type": "code",
   "execution_count": 88,
   "id": "a05d30e0",
   "metadata": {},
   "outputs": [],
   "source": [
    "final = []\n",
    "for i in range(len(df)):\n",
    "    curr = np.zeros(len(inds))\n",
    "    moods = list(df.iloc[i])[5:]\n",
    "    for theme in moods:\n",
    "        if type(theme) == str and \"mood\" in theme:\n",
    "            check = theme.split(\"---\")[-1]\n",
    "            if check in inds:\n",
    "                curr[inds[check]] = 1\n",
    "        else:\n",
    "            pass\n",
    "        \n",
    "    final.append(curr)"
   ]
  },
  {
   "cell_type": "code",
   "execution_count": 89,
   "id": "b0aca024",
   "metadata": {},
   "outputs": [
    {
     "data": {
      "text/plain": [
       "array([0., 0., 0., 0., 0., 0., 1., 0., 0., 0., 0., 0., 0., 0., 0.])"
      ]
     },
     "execution_count": 89,
     "metadata": {},
     "output_type": "execute_result"
    }
   ],
   "source": [
    "curr"
   ]
  },
  {
   "cell_type": "code",
   "execution_count": 90,
   "id": "0bf7664c",
   "metadata": {},
   "outputs": [
    {
     "data": {
      "text/plain": [
       "array([0., 0., 0., 0., 0., 0., 1., 0., 0., 0., 0., 0., 0., 0., 0.])"
      ]
     },
     "execution_count": 90,
     "metadata": {},
     "output_type": "execute_result"
    }
   ],
   "source": [
    "curr"
   ]
  },
  {
   "cell_type": "code",
   "execution_count": 91,
   "id": "81fefe88",
   "metadata": {},
   "outputs": [
    {
     "data": {
      "text/plain": [
       "['mood/theme---christmas',\n",
       " 'mood/theme---holiday',\n",
       " nan,\n",
       " nan,\n",
       " nan,\n",
       " nan,\n",
       " nan,\n",
       " nan,\n",
       " nan]"
      ]
     },
     "execution_count": 91,
     "metadata": {},
     "output_type": "execute_result"
    }
   ],
   "source": [
    "moods"
   ]
  },
  {
   "cell_type": "code",
   "execution_count": 92,
   "id": "58563749",
   "metadata": {},
   "outputs": [
    {
     "data": {
      "text/plain": [
       "15"
      ]
     },
     "execution_count": 92,
     "metadata": {},
     "output_type": "execute_result"
    }
   ],
   "source": [
    "len(inds)"
   ]
  },
  {
   "cell_type": "code",
   "execution_count": 96,
   "id": "41384e87",
   "metadata": {},
   "outputs": [
    {
     "data": {
      "text/plain": [
       "[array([0., 0., 0., 1., 0., 0., 0., 0., 0., 0., 0., 0., 0., 0., 0.]),\n",
       " array([0., 0., 0., 0., 0., 0., 0., 0., 0., 0., 0., 1., 0., 0., 0.]),\n",
       " array([0., 0., 0., 0., 0., 0., 0., 0., 0., 0., 1., 0., 0., 0., 0.]),\n",
       " array([0., 0., 0., 0., 0., 0., 0., 0., 0., 0., 0., 0., 0., 0., 1.]),\n",
       " array([0., 0., 0., 0., 0., 0., 0., 0., 0., 0., 0., 0., 0., 0., 1.]),\n",
       " array([0., 0., 0., 0., 0., 0., 0., 0., 0., 0., 0., 1., 0., 0., 0.]),\n",
       " array([0., 0., 0., 0., 0., 1., 0., 0., 0., 0., 0., 0., 0., 0., 0.]),\n",
       " array([0., 0., 0., 0., 0., 0., 0., 0., 0., 0., 1., 0., 0., 0., 0.]),\n",
       " array([0., 0., 0., 0., 0., 0., 0., 0., 0., 1., 0., 0., 0., 0., 0.]),\n",
       " array([0., 0., 0., 0., 0., 0., 0., 1., 0., 0., 0., 0., 1., 0., 0.]),\n",
       " array([0., 0., 0., 0., 0., 0., 0., 0., 0., 0., 0., 1., 0., 0., 0.]),\n",
       " array([0., 1., 0., 0., 0., 0., 0., 0., 0., 0., 0., 0., 0., 0., 0.]),\n",
       " array([0., 0., 0., 0., 0., 0., 1., 0., 0., 0., 0., 0., 0., 0., 0.])]"
      ]
     },
     "execution_count": 96,
     "metadata": {},
     "output_type": "execute_result"
    }
   ],
   "source": [
    "final"
   ]
  },
  {
   "cell_type": "code",
   "execution_count": 93,
   "id": "0171613a",
   "metadata": {},
   "outputs": [
    {
     "data": {
      "text/plain": [
       "{'fast': 0,\n",
       " 'sexy': 1,\n",
       " 'mellow': 2,\n",
       " 'heavy': 3,\n",
       " 'horror': 4,\n",
       " 'travel': 5,\n",
       " 'holiday': 6,\n",
       " 'groovy': 7,\n",
       " 'funny': 8,\n",
       " 'retro': 9,\n",
       " 'hopeful': 10,\n",
       " 'powerful': 11,\n",
       " 'cool': 12,\n",
       " 'nature': 13,\n",
       " 'game': 14}"
      ]
     },
     "execution_count": 93,
     "metadata": {},
     "output_type": "execute_result"
    }
   ],
   "source": [
    "inds"
   ]
  },
  {
   "cell_type": "code",
   "execution_count": 95,
   "id": "3582a2aa",
   "metadata": {},
   "outputs": [],
   "source": [
    "# sudo_one_hot(df, inds)\n"
   ]
  },
  {
   "cell_type": "code",
   "execution_count": null,
   "id": "410b87a5",
   "metadata": {},
   "outputs": [],
   "source": []
  },
  {
   "cell_type": "code",
   "execution_count": null,
   "id": "a3d431fb",
   "metadata": {},
   "outputs": [],
   "source": []
  },
  {
   "cell_type": "code",
   "execution_count": null,
   "id": "64ad2350",
   "metadata": {},
   "outputs": [],
   "source": []
  },
  {
   "cell_type": "code",
   "execution_count": null,
   "id": "d493f3f4",
   "metadata": {},
   "outputs": [],
   "source": []
  }
 ],
 "metadata": {
  "kernelspec": {
   "display_name": "Python (py38)",
   "language": "python",
   "name": "py38"
  },
  "language_info": {
   "codemirror_mode": {
    "name": "ipython",
    "version": 3
   },
   "file_extension": ".py",
   "mimetype": "text/x-python",
   "name": "python",
   "nbconvert_exporter": "python",
   "pygments_lexer": "ipython3",
   "version": "3.8.13"
  }
 },
 "nbformat": 4,
 "nbformat_minor": 5
}
