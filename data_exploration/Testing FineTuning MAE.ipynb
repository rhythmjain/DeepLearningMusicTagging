{
 "cells": [
  {
   "cell_type": "code",
   "execution_count": 1,
   "id": "8dde38ab",
   "metadata": {},
   "outputs": [],
   "source": [
    "from torch import nn\n",
    "import torch"
   ]
  },
  {
   "cell_type": "code",
   "execution_count": 2,
   "id": "0c0b7a64",
   "metadata": {},
   "outputs": [],
   "source": [
    "from torch.nn.utils.rnn import pad_sequence"
   ]
  },
  {
   "cell_type": "code",
   "execution_count": 3,
   "id": "eb94593b",
   "metadata": {},
   "outputs": [],
   "source": [
    "import numpy as np"
   ]
  },
  {
   "cell_type": "code",
   "execution_count": 4,
   "id": "26f5b02f",
   "metadata": {},
   "outputs": [],
   "source": [
    "import pandas as pd"
   ]
  },
  {
   "cell_type": "code",
   "execution_count": 5,
   "id": "a58fb134",
   "metadata": {},
   "outputs": [],
   "source": [
    "import os"
   ]
  },
  {
   "cell_type": "code",
   "execution_count": 6,
   "id": "42b6ccad",
   "metadata": {},
   "outputs": [],
   "source": [
    "from einops import rearrange"
   ]
  },
  {
   "cell_type": "code",
   "execution_count": 7,
   "id": "7214728f",
   "metadata": {},
   "outputs": [],
   "source": [
    "import random"
   ]
  },
  {
   "cell_type": "code",
   "execution_count": 8,
   "id": "a68cbc3e",
   "metadata": {},
   "outputs": [],
   "source": [
    "from torch.utils.data import DataLoader"
   ]
  },
  {
   "cell_type": "code",
   "execution_count": 9,
   "id": "f41473dd",
   "metadata": {},
   "outputs": [],
   "source": [
    "import torchvision.transforms as T"
   ]
  },
  {
   "cell_type": "code",
   "execution_count": 10,
   "id": "0e72087d",
   "metadata": {},
   "outputs": [],
   "source": [
    "from skimage.util import random_noise"
   ]
  },
  {
   "cell_type": "code",
   "execution_count": 11,
   "id": "65c3dcbb",
   "metadata": {},
   "outputs": [],
   "source": [
    "import matplotlib.pyplot as plt\n",
    "import seaborn as sns\n",
    "sns.set_theme()"
   ]
  },
  {
   "cell_type": "code",
   "execution_count": 12,
   "id": "ef921677",
   "metadata": {},
   "outputs": [
    {
     "name": "stderr",
     "output_type": "stream",
     "text": [
      "C:\\Users\\aag12\\anaconda3\\envs\\ml_env\\lib\\site-packages\\torchaudio\\backend\\utils.py:62: UserWarning: No audio backend is available.\n",
      "  warnings.warn(\"No audio backend is available.\")\n"
     ]
    }
   ],
   "source": [
    "import torchaudio"
   ]
  },
  {
   "cell_type": "code",
   "execution_count": 13,
   "id": "10dd49da",
   "metadata": {},
   "outputs": [],
   "source": [
    "from sklearn import preprocessing"
   ]
  },
  {
   "cell_type": "code",
   "execution_count": 14,
   "id": "0b4914d1",
   "metadata": {},
   "outputs": [],
   "source": [
    "from sklearn.model_selection import train_test_split"
   ]
  },
  {
   "cell_type": "code",
   "execution_count": null,
   "id": "dc6dbff6",
   "metadata": {},
   "outputs": [],
   "source": []
  },
  {
   "cell_type": "markdown",
   "id": "8864ad63",
   "metadata": {},
   "source": [
    "# Defining Dataseat"
   ]
  },
  {
   "cell_type": "code",
   "execution_count": 15,
   "id": "3c432a88",
   "metadata": {},
   "outputs": [],
   "source": [
    "from datasets import load_dataset"
   ]
  },
  {
   "cell_type": "code",
   "execution_count": 16,
   "id": "c2e2a3ed",
   "metadata": {},
   "outputs": [],
   "source": [
    "from datasets import disable_caching\n",
    "disable_caching()"
   ]
  },
  {
   "cell_type": "code",
   "execution_count": 17,
   "id": "d735a169",
   "metadata": {},
   "outputs": [],
   "source": [
    "# good_files = []\n",
    "# for i in range(1, 6):\n",
    "#     new_files = [f\"0{i}/{fname.replace('npy', '')}mp3\" for fname in os.listdir(f\"../../subset_moodtheme/0{i}\")]\n",
    "#     good_files.extend(new_files)\n",
    "\n",
    "# test_files = [f\"00/{fname.replace('npy', '')}mp3\" for fname in os.listdir(\"../../subset_moodtheme/00\")]\n",
    "# print(good_files)\n",
    "# print(test_files)"
   ]
  },
  {
   "cell_type": "code",
   "execution_count": 18,
   "id": "6386c2a5",
   "metadata": {},
   "outputs": [],
   "source": [
    "with open(\"goodfiles.txt\", 'r') as f:\n",
    "    all_files = f.readlines()\n",
    "all_files = [g.strip().replace(\"npy\", 'mp3') for g in all_files if len(g.strip()) > 0]"
   ]
  },
  {
   "cell_type": "code",
   "execution_count": 19,
   "id": "e64a05c5",
   "metadata": {},
   "outputs": [
    {
     "data": {
      "text/plain": [
       "['01/846501.mp3', '34/1288334.mp3', '98/1082098.mp3']"
      ]
     },
     "execution_count": 19,
     "metadata": {},
     "output_type": "execute_result"
    }
   ],
   "source": [
    "all_files[:3]"
   ]
  },
  {
   "cell_type": "code",
   "execution_count": null,
   "id": "ae153e5e",
   "metadata": {},
   "outputs": [],
   "source": []
  },
  {
   "cell_type": "code",
   "execution_count": 20,
   "id": "cc07061d",
   "metadata": {},
   "outputs": [],
   "source": [
    "good_files, test_files = train_test_split(all_files, test_size=0.2)"
   ]
  },
  {
   "cell_type": "code",
   "execution_count": 21,
   "id": "98d6ecc7",
   "metadata": {},
   "outputs": [
    {
     "data": {
      "text/plain": [
       "(2200, 551)"
      ]
     },
     "execution_count": 21,
     "metadata": {},
     "output_type": "execute_result"
    }
   ],
   "source": [
    "len(good_files), len(test_files)"
   ]
  },
  {
   "cell_type": "code",
   "execution_count": 22,
   "id": "b668f4e6",
   "metadata": {},
   "outputs": [],
   "source": [
    "def files_to_labels(files):\n",
    "    col_names = ['TRACK_ID',\n",
    "     'ARTIST_ID',\n",
    "     'ALBUM_ID',\n",
    "     'PATH',\n",
    "     'DURATION',\n",
    "     'TAGS',\n",
    "     'TAGS2',\n",
    "     'TAGS3',\n",
    "     'TAGS4',\n",
    "     'TAGS5',\n",
    "     'TAGS6',\n",
    "     'TAGS7',\n",
    "     'TAGS8',\n",
    "     'TAGS9']\n",
    "    MOODPATH = \"../../../Downloads/autotagging_moodtheme.tsv.txt\"\n",
    "    df = pd.read_csv(MOODPATH, sep='\\t', names=col_names)\n",
    "    df = df[df[\"PATH\"].isin(files)]\n",
    "    inds = {'fast': 0,\n",
    "     'sexy': 1,\n",
    "     'mellow': 2,\n",
    "     'heavy': 3,\n",
    "     'horror': 4,\n",
    "     'travel': 5,\n",
    "     'holiday': 6,\n",
    "     'groovy': 7,\n",
    "     'funny': 8,\n",
    "     'retro': 9,\n",
    "     'hopeful': 10,\n",
    "     'powerful': 11,\n",
    "     'cool': 12,\n",
    "     'nature': 13,\n",
    "     'game': 14}\n",
    "\n",
    "    final_labels = []\n",
    "    for i in range(len(df)):\n",
    "        curr = np.zeros(len(inds))\n",
    "        moods = list(df.iloc[i])[5:]\n",
    "        for theme in moods:\n",
    "            if type(theme) == str and \"mood\" in theme:\n",
    "                check = theme.split(\"---\")[-1]\n",
    "                if check in inds:\n",
    "                    curr[inds[check]] = 1\n",
    "            else:\n",
    "                pass\n",
    "\n",
    "        final_labels.append(curr)\n",
    "    return final_labels"
   ]
  },
  {
   "cell_type": "code",
   "execution_count": 23,
   "id": "0bb7f856",
   "metadata": {},
   "outputs": [
    {
     "data": {
      "text/plain": [
       "'50/1387550.mp3'"
      ]
     },
     "execution_count": 23,
     "metadata": {},
     "output_type": "execute_result"
    }
   ],
   "source": [
    "good_files[0]"
   ]
  },
  {
   "cell_type": "code",
   "execution_count": 24,
   "id": "c2682ea7",
   "metadata": {},
   "outputs": [
    {
     "data": {
      "text/plain": [
       "9140.625"
      ]
     },
     "execution_count": 24,
     "metadata": {},
     "output_type": "execute_result"
    }
   ],
   "source": [
    "195 * 12000 / 256"
   ]
  },
  {
   "cell_type": "code",
   "execution_count": 25,
   "id": "d5afc52f",
   "metadata": {},
   "outputs": [
    {
     "data": {
      "text/plain": [
       "53.01025641025641"
      ]
     },
     "execution_count": 25,
     "metadata": {},
     "output_type": "execute_result"
    }
   ],
   "source": [
    "10337 / 195"
   ]
  },
  {
   "cell_type": "code",
   "execution_count": null,
   "id": "5b09d0b3",
   "metadata": {},
   "outputs": [],
   "source": []
  },
  {
   "cell_type": "code",
   "execution_count": 26,
   "id": "07d2d0ea",
   "metadata": {},
   "outputs": [],
   "source": [
    "train_labels = files_to_labels(good_files)"
   ]
  },
  {
   "cell_type": "code",
   "execution_count": 27,
   "id": "d874d298",
   "metadata": {},
   "outputs": [],
   "source": [
    "test_labels = files_to_labels(test_files)"
   ]
  },
  {
   "cell_type": "code",
   "execution_count": 28,
   "id": "678f7c66",
   "metadata": {},
   "outputs": [
    {
     "data": {
      "text/plain": [
       "[array([0., 0., 0., 0., 0., 0., 0., 0., 0., 0., 0., 0., 1., 0., 0.]),\n",
       " array([0., 0., 0., 0., 0., 0., 0., 0., 0., 0., 0., 0., 1., 0., 0.])]"
      ]
     },
     "execution_count": 28,
     "metadata": {},
     "output_type": "execute_result"
    }
   ],
   "source": [
    "train_labels[:2]"
   ]
  },
  {
   "cell_type": "code",
   "execution_count": 29,
   "id": "545d632d",
   "metadata": {},
   "outputs": [],
   "source": [
    "# train_np_files = [(\"../../subset_moodtheme/\" + g).replace(\".mp3\", \".npy\") for g in good_files]\n",
    "# test_np_files = [(\"../../subset_moodtheme/\" + g).replace(\".mp3\", \".npy\") for g in test_files]\n",
    "train_np_files = [\"../../mtg-jamendo-dataset/all_data/\" + g.replace(\"mp3\", \"npy\") for g in good_files]\n",
    "test_np_files = [\"../../mtg-jamendo-dataset/all_data/\" + g.replace(\"mp3\", \"npy\") for g in test_files]"
   ]
  },
  {
   "cell_type": "code",
   "execution_count": 30,
   "id": "e9b18b4c",
   "metadata": {},
   "outputs": [
    {
     "data": {
      "text/plain": [
       "(['../../mtg-jamendo-dataset/all_data/50/1387550.npy',\n",
       "  '../../mtg-jamendo-dataset/all_data/44/1344444.npy'],\n",
       " ['../../mtg-jamendo-dataset/all_data/21/1329121.npy',\n",
       "  '../../mtg-jamendo-dataset/all_data/19/1124319.npy'])"
      ]
     },
     "execution_count": 30,
     "metadata": {},
     "output_type": "execute_result"
    }
   ],
   "source": [
    "train_np_files[:2], test_np_files[:2]"
   ]
  },
  {
   "cell_type": "code",
   "execution_count": 31,
   "id": "dd90cdfb",
   "metadata": {},
   "outputs": [],
   "source": [
    "import time"
   ]
  },
  {
   "cell_type": "code",
   "execution_count": 32,
   "id": "284ea16b",
   "metadata": {},
   "outputs": [],
   "source": [
    "# SEQ_LEN = 10000\n",
    "SEQ_LEN = 3000\n",
    "# SEQ_LEN = 5000"
   ]
  },
  {
   "cell_type": "markdown",
   "id": "4bc34141",
   "metadata": {},
   "source": [
    "# Dataset"
   ]
  },
  {
   "cell_type": "code",
   "execution_count": 33,
   "id": "41b7382f",
   "metadata": {},
   "outputs": [],
   "source": [
    "from torchvision import transforms"
   ]
  },
  {
   "cell_type": "code",
   "execution_count": 363,
   "id": "607d4798",
   "metadata": {},
   "outputs": [],
   "source": [
    "class MusicDataset(torch.utils.data.Dataset):   \n",
    "    def __init__(self, np_file_paths, labels, transforms, seq_len=10000, random_start=True, rolling=False, upsample_factor=10):\n",
    "        self.seq_len = seq_len\n",
    "        self.files = np_file_paths\n",
    "        self.labels = labels\n",
    "        self.transforms = transforms\n",
    "        self.random_start = random_start\n",
    "        self.upsample_factor = upsample_factor\n",
    "        self.rolling = rolling\n",
    "        \n",
    "    def __len__(self):\n",
    "        return len(self.files) * self.upsample_factor\n",
    "\n",
    "    def __getitem__(self, index):\n",
    "        if index > len(self.files) * self.upsample_factor:\n",
    "            self.files[index]\n",
    "        effective_index = index % len(self.files)\n",
    "        fname = self.files[effective_index]\n",
    "        x = np.load(fname)\n",
    "        x = torch.from_numpy(x).float()\n",
    "        rolls = []\n",
    "        if self.rolling:\n",
    "            cur_start = 0\n",
    "            while cur_start < x.shape[1]:\n",
    "                old_x = x[:,cur_start:cur_start + self.seq_len].unsqueeze(0)\n",
    "                # clamp between bounds and scale\n",
    "                compressed_x = (torch.clamp(old_x, min=-90, max=30) + 90) / 120\n",
    "\n",
    "                new_x = self.transforms(compressed_x)\n",
    "                cur_start += self.seq_len\n",
    "                rolls.append(new_x)\n",
    "        if self.random_start and x.shape[-1] > self.seq_len:\n",
    "            # longer than seqlen, select random subset\n",
    "            start = random.randint(0, x.shape[-1] - self.seq_len)\n",
    "            x = x[:,start:start+self.seq_len]    \n",
    "        else:\n",
    "            x = x[:,:self.seq_len]\n",
    "\n",
    "        old_x = x.unsqueeze(0)\n",
    "        compressed_x = (torch.clamp(old_x, min=-90, max=30) + 90) / 120\n",
    "        x = self.transforms(compressed_x)\n",
    "        \n",
    "#         item = {\"input\": x, \"label_ids\":[effective_index], \"labels\": torch.tensor(self.labels[effective_index]), \"pixel_values\":x}\n",
    "        item = {\"input\": x, \"rolls\":rolls, \"label_ids\":[effective_index], \"labels\": torch.tensor(self.labels[effective_index]), \"pixel_values\":x}\n",
    "#         item = {\"input\": x, \"pixel_values\":x}\n",
    "        \n",
    "        return item"
   ]
  },
  {
   "cell_type": "code",
   "execution_count": 364,
   "id": "6e5863bb",
   "metadata": {},
   "outputs": [],
   "source": [
    "class AddGaussianNoise(object):\n",
    "    def __init__(self, mean=0., std=1.):\n",
    "        self.std = std\n",
    "        self.mean = mean\n",
    "        \n",
    "    def __call__(self, tensor):\n",
    "        return tensor + torch.randn(tensor.size()) * self.std + self.mean\n",
    "    \n",
    "    def __repr__(self):\n",
    "        return self.__class__.__name__ + '(mean={0}, std={1})'.format(self.mean, self.std)"
   ]
  },
  {
   "cell_type": "code",
   "execution_count": 456,
   "id": "47de11a0",
   "metadata": {},
   "outputs": [],
   "source": [
    "# img_size = 224\n",
    "img_size = 496\n",
    "noise_composed = transforms.Compose([\n",
    "#    transforms.Resize((img_size, img_size)),\n",
    "       transforms.Resize((96, img_size)),\n",
    "#     transforms.Normalize((0.5542), (0.1604)),\n",
    "#     AddGaussianNoise(0., 0.04)\n",
    "])\n",
    "nonoise_composed = transforms.Compose([\n",
    "#    transforms.Resize((img_size, img_size)),\n",
    "       transforms.Resize((96, img_size)),\n",
    "#     transforms.Normalize((0.5542), (0.1604))\n",
    "])"
   ]
  },
  {
   "cell_type": "code",
   "execution_count": 460,
   "id": "59d7afb6",
   "metadata": {},
   "outputs": [],
   "source": [
    "# ft_train_dataset = MusicDataset(train_np_files, train_labels, noise_composed, seq_len=SEQ_LEN, random_start=True, upsample_factor=2)\n",
    "# ft_test_dataset = MusicDataset(test_np_files, test_labels, nonoise_composed, seq_len=SEQ_LEN, random_start=False, upsample_factor=1)\n",
    "\n",
    "ft_train_dataset = MusicDataset(train_np_files, train_labels, noise_composed, seq_len=SEQ_LEN, random_start=False, upsample_factor=2)\n",
    "ft_test_dataset = MusicDataset(test_np_files, test_labels, nonoise_composed, seq_len=SEQ_LEN, random_start=False, upsample_factor=1)"
   ]
  },
  {
   "cell_type": "code",
   "execution_count": 461,
   "id": "2dd2c99b",
   "metadata": {},
   "outputs": [],
   "source": [
    "ft_random_test_dataset = MusicDataset(test_np_files, test_labels, nonoise_composed, seq_len=SEQ_LEN, random_start=True, upsample_factor=1)"
   ]
  },
  {
   "cell_type": "code",
   "execution_count": 462,
   "id": "dd6ac7fe",
   "metadata": {},
   "outputs": [],
   "source": [
    "ft_roll_test_dataset = MusicDataset(test_np_files, test_labels, nonoise_composed, seq_len=SEQ_LEN, rolling=True, random_start=False, upsample_factor=1)\n",
    "ft_roll_train_dataset = MusicDataset(train_np_files, train_labels, nonoise_composed, seq_len=SEQ_LEN, rolling=True, random_start=False, upsample_factor=1)"
   ]
  },
  {
   "cell_type": "code",
   "execution_count": null,
   "id": "3c1fa00f",
   "metadata": {},
   "outputs": [],
   "source": []
  },
  {
   "cell_type": "code",
   "execution_count": null,
   "id": "93479274",
   "metadata": {},
   "outputs": [],
   "source": []
  },
  {
   "cell_type": "code",
   "execution_count": 466,
   "id": "22ab1b9f",
   "metadata": {},
   "outputs": [],
   "source": [
    "batch_size = 8"
   ]
  },
  {
   "cell_type": "code",
   "execution_count": 467,
   "id": "c7ba2a63",
   "metadata": {},
   "outputs": [],
   "source": [
    "# train_dl = DataLoader(\n",
    "#     pt_train_dataset,\n",
    "#     batch_size=batch_size,\n",
    "#     shuffle=True,\n",
    "#     num_workers=0,\n",
    "#     collate_fn=None,\n",
    "#     pin_memory=False,\n",
    "#  )\n",
    "\n",
    "# test_dl = DataLoader(\n",
    "#     pt_test_dataset,\n",
    "#     batch_size=1,\n",
    "#     shuffle=False,\n",
    "#     num_workers=0,\n",
    "#     collate_fn=None,\n",
    "#     pin_memory=False,\n",
    "#  )"
   ]
  },
  {
   "cell_type": "code",
   "execution_count": null,
   "id": "cf574a31",
   "metadata": {},
   "outputs": [],
   "source": []
  },
  {
   "cell_type": "code",
   "execution_count": null,
   "id": "51eb638d",
   "metadata": {},
   "outputs": [],
   "source": []
  },
  {
   "cell_type": "code",
   "execution_count": null,
   "id": "003da31f",
   "metadata": {},
   "outputs": [],
   "source": []
  },
  {
   "cell_type": "markdown",
   "id": "82d06691",
   "metadata": {},
   "source": [
    "## MAE"
   ]
  },
  {
   "cell_type": "code",
   "execution_count": 468,
   "id": "1dac1ed5",
   "metadata": {},
   "outputs": [],
   "source": [
    "from vit_pytorch import ViT, MAE"
   ]
  },
  {
   "cell_type": "code",
   "execution_count": 469,
   "id": "e688cba8",
   "metadata": {},
   "outputs": [],
   "source": [
    "from tqdm import tqdm\n",
    "import torch.optim as optim"
   ]
  },
  {
   "cell_type": "code",
   "execution_count": 560,
   "id": "10401d7c",
   "metadata": {},
   "outputs": [],
   "source": [
    "class MultiHeadedOutput(nn.Module):\n",
    "    def __init__(self):\n",
    "        super(MultiHeadedOutput, self).__init__()\n",
    "        \n",
    "        self.heads = nn.ModuleList([\n",
    "            nn.Sequential(\n",
    "                    nn.LayerNorm(512),\n",
    "                    nn.Linear(512, 1024),\n",
    "                    nn.LeakyReLU(), \n",
    "                    nn.Dropout(0.1),\n",
    "                    nn.Linear(1024, 512),\n",
    "                    nn.LeakyReLU(), \n",
    "                    nn.Linear(512, 1)\n",
    "#                     nn.Linear(512, 2)\n",
    "            ) for i in range(15)\n",
    "#             ) for i in range(1)\n",
    "        ])\n",
    "        \n",
    "    def forward(self, x: torch.Tensor):\n",
    "        outputs = torch.stack([h(x) for h in self.heads], dim=1)\n",
    "        return outputs"
   ]
  },
  {
   "cell_type": "markdown",
   "id": "c8821646",
   "metadata": {},
   "source": [
    "# Finetuning MAE for Task"
   ]
  },
  {
   "cell_type": "code",
   "execution_count": 561,
   "id": "f39073fc",
   "metadata": {},
   "outputs": [],
   "source": [
    "h = MultiHeadedOutput()"
   ]
  },
  {
   "cell_type": "code",
   "execution_count": 562,
   "id": "99d8c99f",
   "metadata": {},
   "outputs": [],
   "source": [
    "device = torch.device('cuda') if torch.cuda.is_available() else torch.device('cpu')"
   ]
  },
  {
   "cell_type": "code",
   "execution_count": 563,
   "id": "eb3e1cd7",
   "metadata": {},
   "outputs": [],
   "source": [
    "# batch_size = 32\n",
    "# batch_size = 64\n",
    "batch_size = 128"
   ]
  },
  {
   "cell_type": "code",
   "execution_count": 564,
   "id": "bd8dcfd8",
   "metadata": {},
   "outputs": [],
   "source": [
    "ft_train_dl = DataLoader(\n",
    "    ft_train_dataset,\n",
    "    batch_size=batch_size,\n",
    "    shuffle=True,\n",
    "    num_workers=0,\n",
    "    collate_fn=None,\n",
    "    pin_memory=False,\n",
    " )\n",
    "\n",
    "ft_test_dl = DataLoader(\n",
    "    ft_test_dataset,\n",
    "    batch_size=1,\n",
    "    shuffle=False,\n",
    "    num_workers=0,\n",
    "    collate_fn=None,\n",
    "    pin_memory=False,\n",
    " )\n",
    "\n",
    "\n",
    "ft_random_test_dl = DataLoader(\n",
    "    ft_random_test_dataset,\n",
    "    batch_size=1,\n",
    "    shuffle=False,\n",
    "    num_workers=0,\n",
    "    collate_fn=None,\n",
    "    pin_memory=False,\n",
    " )\n"
   ]
  },
  {
   "cell_type": "code",
   "execution_count": 599,
   "id": "647174de",
   "metadata": {},
   "outputs": [],
   "source": [
    "from transformers import ViTConfig, ViTModel\n",
    "from vit_pytorch import ViT, MAE"
   ]
  },
  {
   "cell_type": "code",
   "execution_count": 600,
   "id": "be5de8d7",
   "metadata": {},
   "outputs": [],
   "source": [
    "# v_for_downstream = ViT(\n",
    "#     image_size = 224,\n",
    "# #     patch_size = 32,\n",
    "#     patch_size = 16,\n",
    "#     num_classes = 15,\n",
    "# #     dim = 1024,\n",
    "#     dim = 512,\n",
    "#     depth = 6,\n",
    "#     heads = 8,\n",
    "# #     mlp_dim = 2048,\n",
    "#     mlp_dim = 512,\n",
    "#     channels=1\n",
    "# )\n",
    "\n",
    "v_for_downstream = ViT(\n",
    "    image_size = (96, 496),\n",
    "#     patch_size = 32,\n",
    "    patch_size = 16,\n",
    "    num_classes = 15,\n",
    "#     dim = 1024,\n",
    "    dim = 512,\n",
    "    depth = 4,\n",
    "    heads = 6,\n",
    "    mlp_dim = 1024,\n",
    "#     mlp_dim = 512,\n",
    "    channels=1\n",
    ")\n",
    "mae = MAE(\n",
    "    encoder = v_for_downstream,\n",
    "    masking_ratio = 0.75,   # the paper recommended 75% masked patches\n",
    "    decoder_dim = 512,      # paper showed good results with just 512\n",
    "    decoder_depth = 4       # anywhere from 1 to 8\n",
    ")"
   ]
  },
  {
   "cell_type": "code",
   "execution_count": 601,
   "id": "be5186a4",
   "metadata": {},
   "outputs": [
    {
     "data": {
      "text/plain": [
       "<All keys matched successfully>"
      ]
     },
     "execution_count": 601,
     "metadata": {},
     "output_type": "execute_result"
    }
   ],
   "source": [
    "# mae.load_state_dict(torch.load(f\"./v2-maeklastnotbest-trained-vit-199.pt\"))\n",
    "mae.load_state_dict(torch.load(f\"./v2-nonorm-maeklastnotbest-trained-vit-99.pt\"))"
   ]
  },
  {
   "cell_type": "code",
   "execution_count": 602,
   "id": "8b2e7f03",
   "metadata": {},
   "outputs": [],
   "source": [
    "v_for_downstream = mae.encoder"
   ]
  },
  {
   "cell_type": "code",
   "execution_count": 603,
   "id": "16008b62",
   "metadata": {},
   "outputs": [
    {
     "data": {
      "text/plain": [
       "Sequential(\n",
       "  (0): LayerNorm((512,), eps=1e-05, elementwise_affine=True)\n",
       "  (1): Linear(in_features=512, out_features=15, bias=True)\n",
       ")"
      ]
     },
     "execution_count": 603,
     "metadata": {},
     "output_type": "execute_result"
    }
   ],
   "source": [
    "v_for_downstream.mlp_head"
   ]
  },
  {
   "cell_type": "code",
   "execution_count": 604,
   "id": "589f3967",
   "metadata": {},
   "outputs": [],
   "source": [
    "def set_module_requires_grad_(module, requires_grad):\n",
    "    for param in module.parameters():\n",
    "        param.requires_grad = requires_grad\n",
    "def freeze_all_layers_(module):\n",
    "    set_module_requires_grad_(module, False)"
   ]
  },
  {
   "cell_type": "code",
   "execution_count": 605,
   "id": "a85d33db",
   "metadata": {},
   "outputs": [],
   "source": [
    "freeze_all_layers_(v_for_downstream)"
   ]
  },
  {
   "cell_type": "code",
   "execution_count": 606,
   "id": "cb794574",
   "metadata": {},
   "outputs": [],
   "source": [
    "new_head = MultiHeadedOutput()"
   ]
  },
  {
   "cell_type": "code",
   "execution_count": 607,
   "id": "10b3920e",
   "metadata": {},
   "outputs": [],
   "source": [
    "v_for_downstream.mlp_head = new_head"
   ]
  },
  {
   "cell_type": "code",
   "execution_count": 608,
   "id": "d9fb8fae",
   "metadata": {},
   "outputs": [],
   "source": [
    "model = v_for_downstream"
   ]
  },
  {
   "cell_type": "code",
   "execution_count": 609,
   "id": "0a0b7f45",
   "metadata": {},
   "outputs": [],
   "source": [
    "model = model.to(device)"
   ]
  },
  {
   "cell_type": "code",
   "execution_count": null,
   "id": "af70528e",
   "metadata": {},
   "outputs": [],
   "source": []
  },
  {
   "cell_type": "code",
   "execution_count": 610,
   "id": "f50d6015",
   "metadata": {},
   "outputs": [],
   "source": [
    "from tqdm import tqdm\n",
    "import torch.optim as optim"
   ]
  },
  {
   "cell_type": "code",
   "execution_count": null,
   "id": "3b1fd579",
   "metadata": {},
   "outputs": [],
   "source": []
  },
  {
   "cell_type": "code",
   "execution_count": 611,
   "id": "99f6e3fb",
   "metadata": {},
   "outputs": [
    {
     "name": "stderr",
     "output_type": "stream",
     "text": [
      "C:\\Users\\aag12\\AppData\\Local\\Temp\\ipykernel_67408\\2238443094.py:2: UserWarning: To copy construct from a tensor, it is recommended to use sourceTensor.clone().detach() or sourceTensor.clone().detach().requires_grad_(True), rather than torch.tensor(sourceTensor).\n",
      "  pos_weight = 0 * torch.tensor(pos_weight) + 1\n"
     ]
    }
   ],
   "source": [
    "pos_weight = 1 / (torch.sum(torch.tensor(test_labels), dim=0) / len(test_labels))\n",
    "pos_weight = 0 * torch.tensor(pos_weight) + 1\n",
    "# pos_weight = pos_weight / 2"
   ]
  },
  {
   "cell_type": "code",
   "execution_count": 612,
   "id": "fc3c1af9",
   "metadata": {},
   "outputs": [
    {
     "data": {
      "text/plain": [
       "tensor([1., 1., 1., 1., 1., 1., 1., 1., 1., 1., 1., 1., 1., 1., 1.],\n",
       "       dtype=torch.float64)"
      ]
     },
     "execution_count": 612,
     "metadata": {},
     "output_type": "execute_result"
    }
   ],
   "source": [
    "pos_weight"
   ]
  },
  {
   "cell_type": "code",
   "execution_count": 613,
   "id": "29a7e045",
   "metadata": {},
   "outputs": [],
   "source": [
    "# optimizer = optim.AdamW(model.parameters(), lr=1e-3)\n",
    "# optimizer = optim.AdamW(model.parameters(), lr=1e-4)\n",
    "# optimizer = optim.AdamW(model.mlp_head.parameters(), lr=1e-3)\n",
    "# optimizer = optim.AdamW(model.mlp_head.parameters(), lr=1e-2)\n",
    "optimizer = optim.AdamW(model.mlp_head.parameters(), lr=1e-5, weight_decay=0.05, betas=(0.9, 0.95))\n",
    "# optimizer = optim.AdamW(model.mlp_head.parameters(), lr=1e-3, weight_decay=0.1, betas=(0.9, 0.95))\n",
    "# optimizer = optim.AdamW(model.mlp_head.parameters(), lr=5e-3, weight_decay=0.1, betas=(0.9, 0.95))\n",
    "# criterion = nn.BCELoss()\n",
    "# criterion = nn.BCEWithLogitsLoss(pos_weight = pos_weight.to(device))\n",
    "# criterions = [nn.BCEWithLogitsLoss(pos_weight=pos_weight[i].unsqueeze(0).to(device)) for i in range(15)]\n",
    "criterions = [nn.BCEWithLogitsLoss() for i in range(15)]"
   ]
  },
  {
   "cell_type": "code",
   "execution_count": null,
   "id": "eec7a3eb",
   "metadata": {},
   "outputs": [],
   "source": []
  },
  {
   "cell_type": "code",
   "execution_count": 614,
   "id": "fbdaaf88",
   "metadata": {},
   "outputs": [],
   "source": [
    "def get_mask(targs):\n",
    "    mask = []\n",
    "    for val in targs:\n",
    "        m = int(val) == 1 or random.random() < (1/15)\n",
    "        mask.append(m)\n",
    "    return mask"
   ]
  },
  {
   "cell_type": "code",
   "execution_count": 615,
   "id": "14040d25",
   "metadata": {},
   "outputs": [],
   "source": [
    "def get_total_loss(model, dataloader):\n",
    "    total_loss = 0\n",
    "    for batch_idx, data in enumerate(dataloader):\n",
    "        inputs, labels = data['input'].to(device), data['labels'].to(device)\n",
    "\n",
    "        outputs = model(inputs)\n",
    "\n",
    "#         total_loss += criterion(outputs, labels.float())\n",
    "        for i in range(15):\n",
    "            criterion = criterions[i]\n",
    "#             target = torch.zeros_like(outputs[:,i])\n",
    "#             target = outputs[:,i,1]\n",
    "#             target[:,labels[:,i].long()] = 1\n",
    "#             for ind in range(len(target)):\n",
    "#                 target[ind,labels[ind,i].long()] = 1\n",
    "#             target = target.to(device)\n",
    "#             total_loss += criterion(outputs[:,i], target)\n",
    "#             total_loss += criterion(outputs[:,i], labels[:,i])\n",
    "            total_loss += criterion(outputs[:,i,0], labels[:,i])\n",
    "    return total_loss.item()"
   ]
  },
  {
   "cell_type": "code",
   "execution_count": null,
   "id": "9486c6fc",
   "metadata": {},
   "outputs": [],
   "source": []
  },
  {
   "cell_type": "code",
   "execution_count": 616,
   "id": "a301de6d",
   "metadata": {},
   "outputs": [
    {
     "name": "stderr",
     "output_type": "stream",
     "text": [
      "100%|██████████████████████████████████████████████████████████████████████████████████████████| 35/35 [00:52<00:00,  1.51s/it]\n"
     ]
    },
    {
     "name": "stdout",
     "output_type": "stream",
     "text": [
      "Epoch: 0; Total Loss: 275.2723586360432; Test Loss: 3286.8731791973114\n"
     ]
    },
    {
     "name": "stderr",
     "output_type": "stream",
     "text": [
      "100%|██████████████████████████████████████████████████████████████████████████████████████████| 35/35 [00:51<00:00,  1.47s/it]\n"
     ]
    },
    {
     "name": "stdout",
     "output_type": "stream",
     "text": [
      "Epoch: 1; Total Loss: 172.3447522552451; Test Loss: 2299.70730856061\n"
     ]
    },
    {
     "name": "stderr",
     "output_type": "stream",
     "text": [
      "100%|██████████████████████████████████████████████████████████████████████████████████████████| 35/35 [00:49<00:00,  1.41s/it]\n"
     ]
    },
    {
     "name": "stdout",
     "output_type": "stream",
     "text": [
      "Epoch: 2; Total Loss: 136.80165603641458; Test Loss: 2098.4118934869766\n"
     ]
    },
    {
     "name": "stderr",
     "output_type": "stream",
     "text": [
      "100%|██████████████████████████████████████████████████████████████████████████████████████████| 35/35 [00:52<00:00,  1.49s/it]\n"
     ]
    },
    {
     "name": "stdout",
     "output_type": "stream",
     "text": [
      "Epoch: 3; Total Loss: 132.23753545196573; Test Loss: 2096.1393433213234\n"
     ]
    },
    {
     "name": "stderr",
     "output_type": "stream",
     "text": [
      "100%|██████████████████████████████████████████████████████████████████████████████████████████| 35/35 [00:36<00:00,  1.05s/it]\n"
     ]
    },
    {
     "name": "stdout",
     "output_type": "stream",
     "text": [
      "Epoch: 4; Total Loss: 132.05171116262014; Test Loss: 2098.40201343596\n"
     ]
    },
    {
     "name": "stderr",
     "output_type": "stream",
     "text": [
      "100%|██████████████████████████████████████████████████████████████████████████████████████████| 35/35 [00:37<00:00,  1.08s/it]\n"
     ]
    },
    {
     "name": "stdout",
     "output_type": "stream",
     "text": [
      "Epoch: 5; Total Loss: 131.86175676528364; Test Loss: 2099.343549117446\n"
     ]
    },
    {
     "name": "stderr",
     "output_type": "stream",
     "text": [
      "100%|██████████████████████████████████████████████████████████████████████████████████████████| 35/35 [00:36<00:00,  1.05s/it]\n"
     ]
    },
    {
     "name": "stdout",
     "output_type": "stream",
     "text": [
      "Epoch: 6; Total Loss: 132.00799734819643; Test Loss: 2094.456270650029\n"
     ]
    },
    {
     "name": "stderr",
     "output_type": "stream",
     "text": [
      "100%|██████████████████████████████████████████████████████████████████████████████████████████| 35/35 [00:36<00:00,  1.04s/it]\n"
     ]
    },
    {
     "name": "stdout",
     "output_type": "stream",
     "text": [
      "Epoch: 7; Total Loss: 131.89366911640778; Test Loss: 2096.745333123952\n"
     ]
    },
    {
     "name": "stderr",
     "output_type": "stream",
     "text": [
      "100%|██████████████████████████████████████████████████████████████████████████████████████████| 35/35 [00:36<00:00,  1.05s/it]\n"
     ]
    },
    {
     "name": "stdout",
     "output_type": "stream",
     "text": [
      "Epoch: 8; Total Loss: 131.9221305982404; Test Loss: 2097.7300713919103\n"
     ]
    },
    {
     "name": "stderr",
     "output_type": "stream",
     "text": [
      "100%|██████████████████████████████████████████████████████████████████████████████████████████| 35/35 [00:35<00:00,  1.03s/it]\n"
     ]
    },
    {
     "name": "stdout",
     "output_type": "stream",
     "text": [
      "Epoch: 9; Total Loss: 131.92146315888385; Test Loss: 2097.9754231087863\n"
     ]
    }
   ],
   "source": [
    "model.train()\n",
    "ft_train_losses = []\n",
    "ft_test_losses = []\n",
    "for epoch in range(10):\n",
    "# for epoch in range(5):\n",
    "    total_loss = 0\n",
    "#     for batch in train_loader:\n",
    "    for batch_idx, data in tqdm(enumerate(ft_train_dl), total=len(ft_train_dl)):\n",
    "        these_losses = []\n",
    "        optimizer.zero_grad()\n",
    "        inputs, labels = data['input'].to(device), data['labels'].to(device)\n",
    "        outputs = model(inputs)\n",
    "        \n",
    "#         loss = criterion(outputs, labels)\n",
    "        loss = 0\n",
    "        for i in range(15):\n",
    "            criterion = criterions[i]\n",
    "#             target = torch.zeros_like(outputs[:,i])\n",
    "#             target = outputs[:,i, 1]\n",
    "#             target[:,labels[:,i].long()] = 1\n",
    "#             for ind in range(len(target)):\n",
    "#                 target[ind,labels[ind,i].long()] = 1\n",
    "#             target = target.to(device)\n",
    "#             loss += criterion(outputs[:,i,1], target)\n",
    "            \n",
    "            cur_outs = outputs[:,i,0]\n",
    "            cur_targs = labels[:,i]\n",
    "            \n",
    "            num_pos = int(cur_targs.sum()) - 2\n",
    "            num_neg_to_include = max(num_pos, 1)\n",
    "            pos_outs = cur_outs[cur_targs == 1]\n",
    "            neg_outs = cur_outs[cur_targs == 0]\n",
    "            \n",
    "            pos_targs = cur_targs[cur_targs == 1]\n",
    "            neg_targs = cur_targs[cur_targs == 0]\n",
    "            \n",
    "            balanced_outs = torch.cat([pos_outs, neg_outs[:num_neg_to_include]])\n",
    "            balanced_targs = torch.cat([pos_targs, neg_targs[:num_neg_to_include]])\n",
    "            \n",
    "            loss += criterion(cur_outs, cur_targs)\n",
    "        loss.backward()\n",
    "        optimizer.step()\n",
    "        # for bookkeeping\n",
    "        total_loss += loss.item()\n",
    "        \n",
    "    with torch.no_grad():\n",
    "        train_total_loss = total_loss\n",
    "        test_loss = get_total_loss(model, ft_test_dl)\n",
    "        ft_train_losses.append(train_total_loss)\n",
    "        ft_test_losses.append(test_loss)\n",
    "        print(f\"Epoch: {epoch}; Total Loss: {train_total_loss}; Test Loss: {test_loss}\")\n",
    "#         print(f\"Epoch: {epoch}; Loss: {adjusted}; Test Loss: {test_loss}\")\n",
    "\n",
    "_ = model.eval()"
   ]
  },
  {
   "cell_type": "code",
   "execution_count": null,
   "id": "1f5efff6",
   "metadata": {},
   "outputs": [],
   "source": []
  },
  {
   "cell_type": "code",
   "execution_count": 643,
   "id": "f2e59c8b",
   "metadata": {},
   "outputs": [
    {
     "data": {
      "text/plain": [
       "Text(0.5, 1.0, 'MAE Finetuning Train/Test Loss')"
      ]
     },
     "execution_count": 643,
     "metadata": {},
     "output_type": "execute_result"
    },
    {
     "data": {
      "image/png": "[encoded data removed]",
      "text/plain": [
       "<Figure size 1152x720 with 2 Axes>"
      ]
     },
     "metadata": {
      "needs_background": "light"
     },
     "output_type": "display_data"
    }
   ],
   "source": [
    "plt.figure(figsize=(16, 10))\n",
    "ranger = list(range(len(ft_train_losses)))\n",
    "sns.lineplot(x=ranger, y=ft_train_losses, label=\"total train loss\", alpha=1)\n",
    "# sns.lineplot(x=ranger, y=adjusted_train_losses, label=\"adjusted train loss\")\n",
    "ax2 = plt.twinx()\n",
    "sns.lineplot(x=ranger, y=ft_test_losses, label=\"test loss\", ax=ax2, color=\"orange\", alpha=1)\n",
    "# sns.lineplot(x=ranger, y=ft_test_losses, label=\"test loss\", color=\"orange\", alpha=0.5)\n",
    "# plt.title(\"MAE v1: Finetuning Train/Test Loss\")\n",
    "plt.title(\"MAE Finetuning Train/Test Loss\")\n",
    "# plt.savefig(\"mae_v1.png\")"
   ]
  },
  {
   "cell_type": "code",
   "execution_count": null,
   "id": "4c814ff7",
   "metadata": {},
   "outputs": [],
   "source": []
  },
  {
   "cell_type": "code",
   "execution_count": null,
   "id": "8149ad69",
   "metadata": {},
   "outputs": [],
   "source": []
  },
  {
   "cell_type": "code",
   "execution_count": 644,
   "id": "898dbaaa",
   "metadata": {},
   "outputs": [
    {
     "data": {
      "text/plain": [
       "torch.Size([1, 15])"
      ]
     },
     "execution_count": 644,
     "metadata": {},
     "output_type": "execute_result"
    }
   ],
   "source": [
    "outputs.shape"
   ]
  },
  {
   "cell_type": "code",
   "execution_count": 645,
   "id": "ee589419",
   "metadata": {},
   "outputs": [
    {
     "data": {
      "text/plain": [
       "tensor([0.0446, 0.0358, 0.0789, 0.0434, 0.0378, 0.0501, 0.0672, 0.0793, 0.0637,\n",
       "        0.0981, 0.0787, 0.1072, 0.0853, 0.0823, 0.0920], device='cuda:0')"
      ]
     },
     "execution_count": 645,
     "metadata": {},
     "output_type": "execute_result"
    }
   ],
   "source": [
    "torch.cat(all_outputs).mean(dim=0)"
   ]
  },
  {
   "cell_type": "code",
   "execution_count": 646,
   "id": "8bf1cb3b",
   "metadata": {},
   "outputs": [
    {
     "data": {
      "text/plain": [
       "torch.Size([1, 1, 15])"
      ]
     },
     "execution_count": 646,
     "metadata": {},
     "output_type": "execute_result"
    }
   ],
   "source": [
    "outputs.unsqueeze(0).shape"
   ]
  },
  {
   "cell_type": "code",
   "execution_count": 677,
   "id": "2629a017",
   "metadata": {},
   "outputs": [
    {
     "name": "stdout",
     "output_type": "stream",
     "text": [
      "0.93\n",
      "61380 out of 66000\n",
      "Performance on positive labels\n",
      "0.0\n",
      "0 out of 4620.0\n",
      "WHAT IF WE JUST PREDICTED ZERO\n",
      "0.93\n",
      "61380 out of 66000\n"
     ]
    }
   ],
   "source": [
    "model.eval()\n",
    "\n",
    "combined_preds = []\n",
    "combined_labels = []\n",
    "\n",
    "with torch.no_grad():\n",
    "#     a = model(dataset[2]['input'].to(device))\n",
    "    total_correct = 0\n",
    "    zero_correct = 0\n",
    "    total_values = 0\n",
    "    only_positives = [0, 0]\n",
    "#     for batch_idx, data in enumerate(ft_test_dl):\n",
    "#     for batch_idx, data in enumerate(ft_random_test_dl):\n",
    "#     for batch_idx, data in enumerate(ft_roll_test_dataset):\n",
    "#     for batch_idx, data in enumerate(ft_roll_train_dataset):\n",
    "    for batch_idx, data in enumerate(ft_train_dl):\n",
    "        if 'rolls' not in data or len(data['rolls']) == 0:\n",
    "            inputs, labels = data['input'].to(device), data['labels'].to(device)\n",
    "            outputs = model(inputs)\n",
    "            outputs = torch.sigmoid(outputs[:,:,0])\n",
    "        else:\n",
    "            all_outputs = []\n",
    "            labels = data['labels'].to(device)\n",
    "            labels = labels.unsqueeze(0)\n",
    "            for inputs in data['rolls']:\n",
    "                cur_inputs = inputs.unsqueeze(0).to(device)\n",
    "                outputs = model(cur_inputs)\n",
    "                outputs = torch.sigmoid(outputs[:,:,0])\n",
    "                all_outputs.append(outputs)\n",
    "            outputs = torch.cat(all_outputs).mean(dim=0)\n",
    "            outputs = outputs.unsqueeze(0)\n",
    "#         combined_preds.append(outputs)\n",
    "        combined_labels.append(labels)\n",
    "        \n",
    "        outlabels = torch.zeros_like(outputs)\n",
    "#         outlabels = torch.argmax(outputs, dim=-1)\n",
    "#         outlabels = torch.outputs\n",
    "        combined_preds.append(outputs)\n",
    "        outlabels[outputs >= 0.5] = 1\n",
    "        outlabels[outputs < 0.5] = 0\n",
    "        \n",
    "        num_correct = torch.sum(outlabels == labels).item()\n",
    "        \n",
    "        num = len(labels) * 15\n",
    "        \n",
    "        total_correct += num_correct\n",
    "        total_values += num\n",
    "        zero_correct += torch.sum(labels == 0).item()\n",
    "        \n",
    "        only_positives[0] += torch.sum(labels).item()\n",
    "        only_positives[1] += torch.sum(labels[labels == 1] == outlabels[labels == 1]).item()\n",
    "        \n",
    "\n",
    "print(total_correct / total_values)\n",
    "\n",
    "print(f\"{total_correct} out of {total_values}\")\n",
    "\n",
    "print(\"Performance on positive labels\")\n",
    "\n",
    "print(only_positives[1] / only_positives[0])\n",
    "\n",
    "print(f\"{only_positives[1]} out of {only_positives[0]}\")\n",
    "\n",
    "print(\"WHAT IF WE JUST PREDICTED ZERO\")\n",
    "\n",
    "print(zero_correct / total_values)\n",
    "\n",
    "print(f\"{zero_correct} out of {total_values}\")"
   ]
  },
  {
   "cell_type": "code",
   "execution_count": 678,
   "id": "9ff61d98",
   "metadata": {},
   "outputs": [
    {
     "data": {
      "text/plain": [
       "(torch.Size([4400, 15]), torch.Size([4400, 15]))"
      ]
     },
     "execution_count": 678,
     "metadata": {},
     "output_type": "execute_result"
    }
   ],
   "source": [
    "all_preds = torch.cat(combined_preds)\n",
    "all_labels = torch.cat(combined_labels)\n",
    "all_preds.shape, all_labels.shape"
   ]
  },
  {
   "cell_type": "code",
   "execution_count": 679,
   "id": "9a795fea",
   "metadata": {},
   "outputs": [
    {
     "data": {
      "text/plain": [
       "551"
      ]
     },
     "execution_count": 679,
     "metadata": {},
     "output_type": "execute_result"
    }
   ],
   "source": [
    "len(ft_test_dataset)"
   ]
  },
  {
   "cell_type": "code",
   "execution_count": 680,
   "id": "683eef2b",
   "metadata": {},
   "outputs": [],
   "source": [
    "from sklearn import metrics"
   ]
  },
  {
   "cell_type": "code",
   "execution_count": 681,
   "id": "fc1f1d1f",
   "metadata": {},
   "outputs": [
    {
     "data": {
      "text/plain": [
       "tensor([ 537.1429,  542.8571,  651.4286,  691.4286,  714.2857,  771.4286,\n",
       "         805.7143,  897.1429,  960.0000,  982.8571, 1005.7143, 1068.5714,\n",
       "        1160.0000, 1177.1429, 1234.2857], device='cuda:0', dtype=torch.float64)"
      ]
     },
     "execution_count": 681,
     "metadata": {},
     "output_type": "execute_result"
    }
   ],
   "source": [
    "torch.cat(combined_labels).sum(dim=0) / len(combined_labels) * 100"
   ]
  },
  {
   "cell_type": "code",
   "execution_count": 687,
   "id": "b411a48c",
   "metadata": {
    "scrolled": true
   },
   "outputs": [
    {
     "name": "stdout",
     "output_type": "stream",
     "text": [
      "Head: 0; AUC: 0.595\n",
      "Head: 1; AUC: 0.574\n",
      "Head: 2; AUC: 0.556\n",
      "Head: 3; AUC: 0.520\n",
      "Head: 4; AUC: 0.571\n",
      "Head: 5; AUC: 0.544\n",
      "Head: 6; AUC: 0.542\n",
      "Head: 7; AUC: 0.546\n",
      "Head: 8; AUC: 0.561\n",
      "Head: 9; AUC: 0.538\n",
      "Head: 10; AUC: 0.562\n",
      "Head: 11; AUC: 0.550\n",
      "Head: 12; AUC: 0.548\n",
      "Head: 13; AUC: 0.539\n",
      "Head: 14; AUC: 0.539\n"
     ]
    }
   ],
   "source": [
    "aucs = []\n",
    "for i in range(15):\n",
    "    preds = all_preds[:,i].cpu()\n",
    "    targs = all_labels[:,i].cpu()\n",
    "#     fpr, tpr, thresholds = metrics.roc_curve(targs, preds, pos_label=1)\n",
    "    fpr, tpr, thresholds = metrics.roc_curve(targs, preds, pos_label=1)\n",
    "    auc = metrics.auc(fpr, tpr)\n",
    "    aucs.append(auc)\n",
    "    print(f\"Head: {i}; AUC: {auc:.03f}\")"
   ]
  },
  {
   "cell_type": "code",
   "execution_count": null,
   "id": "9d456a5d",
   "metadata": {},
   "outputs": [],
   "source": []
  },
  {
   "cell_type": "code",
   "execution_count": null,
   "id": "375475fd",
   "metadata": {},
   "outputs": [],
   "source": []
  },
  {
   "cell_type": "code",
   "execution_count": 683,
   "id": "8c15dd73",
   "metadata": {},
   "outputs": [],
   "source": [
    "good_aucs = [a for a in aucs if a > 0.5]"
   ]
  },
  {
   "cell_type": "code",
   "execution_count": 684,
   "id": "994ae24e",
   "metadata": {},
   "outputs": [
    {
     "data": {
      "text/plain": [
       "0.5523238442791223"
      ]
     },
     "execution_count": 684,
     "metadata": {},
     "output_type": "execute_result"
    }
   ],
   "source": [
    "sum(good_aucs) / len(good_aucs)"
   ]
  },
  {
   "cell_type": "code",
   "execution_count": 685,
   "id": "5178fde5",
   "metadata": {},
   "outputs": [
    {
     "data": {
      "text/plain": [
       "0.5523238442791223"
      ]
     },
     "execution_count": 685,
     "metadata": {},
     "output_type": "execute_result"
    }
   ],
   "source": [
    "sum(aucs) / (len(aucs))"
   ]
  },
  {
   "cell_type": "code",
   "execution_count": null,
   "id": "fdce3658",
   "metadata": {},
   "outputs": [],
   "source": []
  },
  {
   "cell_type": "code",
   "execution_count": 657,
   "id": "83701838",
   "metadata": {},
   "outputs": [],
   "source": [
    "from sklearn.metrics import roc_auc_score"
   ]
  },
  {
   "cell_type": "code",
   "execution_count": 658,
   "id": "80e81aba",
   "metadata": {},
   "outputs": [
    {
     "data": {
      "text/plain": [
       "0.5355292050944225"
      ]
     },
     "execution_count": 658,
     "metadata": {},
     "output_type": "execute_result"
    }
   ],
   "source": [
    "roc_auc_score(targs, preds)"
   ]
  },
  {
   "cell_type": "code",
   "execution_count": null,
   "id": "bcb0dd84",
   "metadata": {},
   "outputs": [],
   "source": []
  },
  {
   "cell_type": "code",
   "execution_count": 659,
   "id": "0b089756",
   "metadata": {},
   "outputs": [],
   "source": [
    "import scikitplot as skplt\n",
    "import matplotlib.pyplot as plt"
   ]
  },
  {
   "cell_type": "code",
   "execution_count": null,
   "id": "3927effd",
   "metadata": {},
   "outputs": [],
   "source": []
  },
  {
   "cell_type": "code",
   "execution_count": 660,
   "id": "1f1991d2",
   "metadata": {},
   "outputs": [],
   "source": [
    "from vit_pytorch.learnable_memory_vit import ViT, Adapter"
   ]
  },
  {
   "cell_type": "code",
   "execution_count": null,
   "id": "57b64beb",
   "metadata": {},
   "outputs": [],
   "source": []
  },
  {
   "cell_type": "code",
   "execution_count": 673,
   "id": "bad99b7b",
   "metadata": {},
   "outputs": [
    {
     "data": {
      "image/png": "[encoded data removed]",
      "text/plain": [
       "<Figure size 1152x720 with 1 Axes>"
      ]
     },
     "metadata": {
      "needs_background": "light"
     },
     "output_type": "display_data"
    }
   ],
   "source": [
    "index = 1\n",
    "plt.figure(figsize=(16, 10))\n",
    "preds = all_preds[:,index].cpu()\n",
    "targs = all_labels[:,index].cpu()\n",
    "fpr, tpr, _ = metrics.roc_curve(targs, preds)\n",
    "auc = metrics.roc_auc_score(targs, preds)\n",
    "plt.plot(fpr,tpr,label=f\"MAE ViT model, feature {index}, auc=\"+str(auc))\n",
    "\n",
    "fpr, tpr, _ = metrics.roc_curve(targs, np.zeros_like(targs))\n",
    "auc = metrics.roc_auc_score(targs, np.zeros_like(targs))\n",
    "plt.plot(fpr,tpr,label=\"y=x, auc=\"+str(auc))\n",
    "\n",
    "plt.legend(loc=4)\n",
    "plt.show()"
   ]
  },
  {
   "cell_type": "code",
   "execution_count": null,
   "id": "fbb34ad5",
   "metadata": {},
   "outputs": [],
   "source": []
  },
  {
   "cell_type": "code",
   "execution_count": null,
   "id": "ed2870b0",
   "metadata": {},
   "outputs": [],
   "source": []
  },
  {
   "cell_type": "markdown",
   "id": "7032030a",
   "metadata": {},
   "source": [
    "# SMALL HFACE TESTING"
   ]
  },
  {
   "cell_type": "code",
   "execution_count": 946,
   "id": "ae863a2b",
   "metadata": {},
   "outputs": [],
   "source": [
    "device = torch.device('cuda' if torch.cuda.is_available() else 'cpu')"
   ]
  },
  {
   "cell_type": "code",
   "execution_count": 947,
   "id": "617c7720",
   "metadata": {},
   "outputs": [],
   "source": [
    "from transformers import ViTForImageClassification, ViTMAEForPreTraining, ViTMAEConfig, ViTFeatureExtractor"
   ]
  },
  {
   "cell_type": "code",
   "execution_count": 948,
   "id": "5899d913",
   "metadata": {},
   "outputs": [],
   "source": [
    "from transformers import Trainer, TrainingArguments\n",
    "from transformers.trainer_utils import get_last_checkpoint"
   ]
  },
  {
   "cell_type": "code",
   "execution_count": 949,
   "id": "84bc56c7",
   "metadata": {},
   "outputs": [],
   "source": [
    "configuration = ViTMAEConfig(\n",
    "                    image_size=224, \n",
    "                    num_channels=1, \n",
    "#                     norm_pix_loss=True, \n",
    "                    num_attention_heads=6, \n",
    "                    num_hidden_layers=3,\n",
    "                    decoder_intermediate_size=1024,\n",
    "                    intermediate_size=2048,\n",
    "                    num_labels=15\n",
    ")"
   ]
  },
  {
   "cell_type": "code",
   "execution_count": 971,
   "id": "d70ca6ab",
   "metadata": {},
   "outputs": [
    {
     "name": "stderr",
     "output_type": "stream",
     "text": [
      "loading configuration file hface_test_v0/final_mae.pt/config.json\n",
      "Model config ViTMAEConfig {\n",
      "  \"architectures\": [\n",
      "    \"ViTMAEForPreTraining\"\n",
      "  ],\n",
      "  \"attention_probs_dropout_prob\": 0.0,\n",
      "  \"decoder_hidden_size\": 512,\n",
      "  \"decoder_intermediate_size\": 1024,\n",
      "  \"decoder_num_attention_heads\": 16,\n",
      "  \"decoder_num_hidden_layers\": 8,\n",
      "  \"hidden_act\": \"gelu\",\n",
      "  \"hidden_dropout_prob\": 0.0,\n",
      "  \"hidden_size\": 768,\n",
      "  \"image_size\": 224,\n",
      "  \"initializer_range\": 0.02,\n",
      "  \"intermediate_size\": 2048,\n",
      "  \"layer_norm_eps\": 1e-12,\n",
      "  \"mask_ratio\": 0.75,\n",
      "  \"model_type\": \"vit_mae\",\n",
      "  \"norm_pix_loss\": false,\n",
      "  \"num_attention_heads\": 6,\n",
      "  \"num_channels\": 1,\n",
      "  \"num_hidden_layers\": 3,\n",
      "  \"patch_size\": 16,\n",
      "  \"qkv_bias\": true,\n",
      "  \"torch_dtype\": \"float32\",\n",
      "  \"transformers_version\": \"4.23.1\"\n",
      "}\n",
      "\n",
      "loading weights file hface_test_v0/final_mae.pt/pytorch_model.bin\n",
      "All model checkpoint weights were used when initializing ViTMAEForPreTraining.\n",
      "\n",
      "All the weights of ViTMAEForPreTraining were initialized from the model checkpoint at hface_test_v0/final_mae.pt/.\n",
      "If your task is similar to the task the model of the checkpoint was trained on, you can already use ViTMAEForPreTraining for predictions without further training.\n"
     ]
    }
   ],
   "source": [
    "v = ViTMAEForPreTraining.from_pretrained(\"hface_test_v0/final_mae.pt/\")"
   ]
  },
  {
   "cell_type": "code",
   "execution_count": 972,
   "id": "fc6af427",
   "metadata": {},
   "outputs": [],
   "source": [
    "vit_for_class = ViTForImageClassification(configuration)"
   ]
  },
  {
   "cell_type": "code",
   "execution_count": 973,
   "id": "2eac6dff",
   "metadata": {},
   "outputs": [
    {
     "data": {
      "text/plain": [
       "<All keys matched successfully>"
      ]
     },
     "execution_count": 973,
     "metadata": {},
     "output_type": "execute_result"
    }
   ],
   "source": [
    "vit_for_class.vit.load_state_dict(v.vit.state_dict())"
   ]
  },
  {
   "cell_type": "code",
   "execution_count": 974,
   "id": "16af8259",
   "metadata": {},
   "outputs": [],
   "source": [
    "model = vit_for_class"
   ]
  },
  {
   "cell_type": "code",
   "execution_count": 1032,
   "id": "d222d36c",
   "metadata": {},
   "outputs": [],
   "source": [
    "class MultiHeadedOutput(nn.Module):\n",
    "    def __init__(self):\n",
    "        super(MultiHeadedOutput, self).__init__()\n",
    "        \n",
    "        self.heads = nn.ModuleList([\n",
    "            nn.Sequential(\n",
    "                    nn.Linear(768, 512),\n",
    "                    nn.LeakyReLU(), \n",
    "                    nn.Linear(512, 1)\n",
    "            ) for i in range(15)\n",
    "#             ) for i in range(1)\n",
    "        ])\n",
    "        \n",
    "    def forward(self, x: torch.Tensor):\n",
    "        outputs = torch.concat([h(x) for h in self.heads], dim=1)\n",
    "        return outputs"
   ]
  },
  {
   "cell_type": "code",
   "execution_count": 976,
   "id": "aeee757b",
   "metadata": {},
   "outputs": [],
   "source": [
    "model.classifier = MultiHeadedOutput().to(device)"
   ]
  },
  {
   "cell_type": "code",
   "execution_count": 977,
   "id": "4ecd0f01",
   "metadata": {},
   "outputs": [],
   "source": [
    "# for p in model.classifier.parameters():\n",
    "#     print(p)\n",
    "#     print(p.requires_grad)"
   ]
  },
  {
   "cell_type": "code",
   "execution_count": 978,
   "id": "dc896388",
   "metadata": {},
   "outputs": [],
   "source": [
    "_ = model.to(device)"
   ]
  },
  {
   "cell_type": "code",
   "execution_count": 979,
   "id": "00dafb90",
   "metadata": {},
   "outputs": [],
   "source": [
    "test_inp = ft_test_dataset[0]['input']\n",
    "\n",
    "test_inp = torch.stack([test_inp, test_inp, test_inp]).to(device)"
   ]
  },
  {
   "cell_type": "code",
   "execution_count": 980,
   "id": "131a097c",
   "metadata": {},
   "outputs": [
    {
     "data": {
      "text/plain": [
       "(torch.Size([3, 1, 224, 224]), device(type='cuda', index=0))"
      ]
     },
     "execution_count": 980,
     "metadata": {},
     "output_type": "execute_result"
    }
   ],
   "source": [
    "test_inp.shape, test_inp.device"
   ]
  },
  {
   "cell_type": "code",
   "execution_count": 981,
   "id": "1a1a3853",
   "metadata": {},
   "outputs": [
    {
     "data": {
      "text/plain": [
       "device(type='cuda', index=0)"
      ]
     },
     "execution_count": 981,
     "metadata": {},
     "output_type": "execute_result"
    }
   ],
   "source": [
    "model.device"
   ]
  },
  {
   "cell_type": "code",
   "execution_count": 982,
   "id": "8bcdead4",
   "metadata": {},
   "outputs": [],
   "source": [
    "# model"
   ]
  },
  {
   "cell_type": "code",
   "execution_count": 983,
   "id": "be82f2a5",
   "metadata": {},
   "outputs": [
    {
     "data": {
      "text/plain": [
       "ImageClassifierOutput(loss=None, logits=tensor([[ 0.9649,  0.2288,  0.4724,  0.4789,  0.3184, -0.4264,  0.1967,  0.2315,\n",
       "         -0.2087, -0.4156, -0.1587, -0.2711,  0.0495, -0.5745, -0.4414],\n",
       "        [ 0.9649,  0.2288,  0.4724,  0.4789,  0.3184, -0.4264,  0.1967,  0.2315,\n",
       "         -0.2087, -0.4156, -0.1587, -0.2711,  0.0495, -0.5745, -0.4414],\n",
       "        [ 0.9649,  0.2288,  0.4724,  0.4789,  0.3184, -0.4264,  0.1967,  0.2315,\n",
       "         -0.2087, -0.4156, -0.1587, -0.2711,  0.0495, -0.5745, -0.4414]],\n",
       "       device='cuda:0', grad_fn=<CatBackward0>), hidden_states=None, attentions=None)"
      ]
     },
     "execution_count": 983,
     "metadata": {},
     "output_type": "execute_result"
    }
   ],
   "source": [
    "model(test_inp)"
   ]
  },
  {
   "cell_type": "code",
   "execution_count": null,
   "id": "0080b161",
   "metadata": {},
   "outputs": [],
   "source": []
  },
  {
   "cell_type": "code",
   "execution_count": 984,
   "id": "74fe8da5",
   "metadata": {},
   "outputs": [],
   "source": [
    "! rm -rf hface_classtest_v0/"
   ]
  },
  {
   "cell_type": "code",
   "execution_count": 985,
   "id": "6db053f7",
   "metadata": {},
   "outputs": [],
   "source": [
    "import torch.optim as optim"
   ]
  },
  {
   "cell_type": "code",
   "execution_count": 986,
   "id": "987ccc09",
   "metadata": {},
   "outputs": [
    {
     "name": "stderr",
     "output_type": "stream",
     "text": [
      "PyTorch: setting up devices\n"
     ]
    }
   ],
   "source": [
    "training_args = TrainingArguments(\n",
    "    \"hface_classtest_v0\",\n",
    "#     learning_rate=1.5e-4,\n",
    "    learning_rate=5e-4,\n",
    "    weight_decay=0.05,\n",
    "#     num_train_epochs=10,\n",
    "    num_train_epochs=5,\n",
    "#     per_device_train_batch_size=8,\n",
    "    per_device_train_batch_size=32,\n",
    "    per_device_eval_batch_size=1,\n",
    "    logging_steps=10,\n",
    "    lr_scheduler_type=\"cosine\",\n",
    "    warmup_ratio=0.05,\n",
    "    evaluation_strategy=\"epoch\",\n",
    "    save_strategy=\"epoch\",\n",
    "    load_best_model_at_end=True,\n",
    "    save_total_limit=3,\n",
    "    label_names=[\"labels\"],\n",
    "    disable_tqdm=True,\n",
    "    report_to=\"none\",\n",
    ")"
   ]
  },
  {
   "cell_type": "code",
   "execution_count": 987,
   "id": "a2afde5a",
   "metadata": {},
   "outputs": [],
   "source": [
    "pos_weight = 1 / (torch.sum(torch.tensor(test_labels), dim=0) / len(test_labels))\n",
    "# pos_weight = pos_weight / 2"
   ]
  },
  {
   "cell_type": "code",
   "execution_count": 988,
   "id": "2efeab28",
   "metadata": {},
   "outputs": [
    {
     "data": {
      "text/plain": [
       "tensor([22.0400, 36.7333, 21.1923, 18.3667, 14.8919, 16.6970, 13.7750, 12.5227,\n",
       "        11.9783, 15.3056, 11.7234, 10.8039, 12.2444, 11.0200, 11.0200],\n",
       "       dtype=torch.float64)"
      ]
     },
     "execution_count": 988,
     "metadata": {},
     "output_type": "execute_result"
    }
   ],
   "source": [
    "pos_weight"
   ]
  },
  {
   "cell_type": "code",
   "execution_count": 989,
   "id": "42bf7cc3",
   "metadata": {},
   "outputs": [
    {
     "data": {
      "text/plain": [
       "tensor(0.0500)"
      ]
     },
     "execution_count": 989,
     "metadata": {},
     "output_type": "execute_result"
    }
   ],
   "source": [
    "torch.clamp(torch.tensor(0.001), torch.tensor(0.05), torch.tensor(0.95))"
   ]
  },
  {
   "cell_type": "code",
   "execution_count": 990,
   "id": "45e3108a",
   "metadata": {},
   "outputs": [
    {
     "data": {
      "text/plain": [
       "tensor([27.5500, 45.9167, 26.4904, 22.9583, 18.6149, 20.8712, 17.2187, 15.6534,\n",
       "        14.9728, 19.1319, 14.6543, 13.5049, 15.3056, 13.7750, 13.7750],\n",
       "       dtype=torch.float64)"
      ]
     },
     "execution_count": 990,
     "metadata": {},
     "output_type": "execute_result"
    }
   ],
   "source": [
    "pos_weight / 0.8"
   ]
  },
  {
   "cell_type": "code",
   "execution_count": 991,
   "id": "cc10d1cb",
   "metadata": {},
   "outputs": [],
   "source": [
    "class WeightedTrainer(Trainer):\n",
    "    def __init__(self, *args, **kwargs):\n",
    "        super().__init__(*args, **kwargs)\n",
    "        self.rolling_mean_matrix = None\n",
    "        self.max_factor = torch.tensor(1.5).to(device)\n",
    "        self.min_factor = torch.tensor(0.8).to(device)\n",
    "        \n",
    "    def compute_loss(self, model, inputs, return_outputs=False):\n",
    "        labels = inputs.get(\"labels\")\n",
    "        outputs = model(inputs.get(\"pixel_values\"))\n",
    "        logits = outputs.get('logits')\n",
    "        preds = torch.sigmoid(torch.tensor(logits))\n",
    "        preds[preds >= 0.5] = 1\n",
    "        preds[preds < 0.5] = 0\n",
    "        mean = preds.mean(dim=0)\n",
    "        if self.rolling_mean_matrix is None:\n",
    "            self.rolling_mean_matrix = []\n",
    "        \n",
    "        this_batch_weight = pos_weight.to(device)\n",
    "        \n",
    "        self.rolling_mean_matrix.append(mean)\n",
    "        cur_means = torch.stack(self.rolling_mean_matrix).mean(dim=0)\n",
    "        for i in range(cur_means.shape[0]):\n",
    "            if cur_means[i] > 0:\n",
    "                factor = torch.clamp((cur_means[i] / 0.5), self.min_factor, self.max_factor)\n",
    "#                 this_batch_weight[i] = this_batch_weight[i] / factor\n",
    "                this_batch_weight[i] = factor\n",
    "        \n",
    "        if len(self.rolling_mean_matrix) > 5:\n",
    "            self.rolling_mean_matrix = self.rolling_mean_matrix[1:]\n",
    "        \n",
    "        \n",
    "        loss_fct = nn.BCEWithLogitsLoss(pos_weight = this_batch_weight, reduction=\"sum\")\n",
    "        loss = loss_fct(logits, labels)\n",
    "        return (loss, outputs) if return_outputs else loss"
   ]
  },
  {
   "cell_type": "code",
   "execution_count": 1026,
   "id": "e619dc60",
   "metadata": {},
   "outputs": [
    {
     "data": {
      "text/plain": [
       "ViTForImageClassification(\n",
       "  (vit): ViTModel(\n",
       "    (embeddings): ViTEmbeddings(\n",
       "      (patch_embeddings): ViTPatchEmbeddings(\n",
       "        (projection): Conv2d(1, 768, kernel_size=(16, 16), stride=(16, 16))\n",
       "      )\n",
       "      (dropout): Dropout(p=0.0, inplace=False)\n",
       "    )\n",
       "    (encoder): ViTEncoder(\n",
       "      (layer): ModuleList(\n",
       "        (0): ViTLayer(\n",
       "          (attention): ViTAttention(\n",
       "            (attention): ViTSelfAttention(\n",
       "              (query): Linear(in_features=768, out_features=768, bias=True)\n",
       "              (key): Linear(in_features=768, out_features=768, bias=True)\n",
       "              (value): Linear(in_features=768, out_features=768, bias=True)\n",
       "              (dropout): Dropout(p=0.0, inplace=False)\n",
       "            )\n",
       "            (output): ViTSelfOutput(\n",
       "              (dense): Linear(in_features=768, out_features=768, bias=True)\n",
       "              (dropout): Dropout(p=0.0, inplace=False)\n",
       "            )\n",
       "          )\n",
       "          (intermediate): ViTIntermediate(\n",
       "            (dense): Linear(in_features=768, out_features=2048, bias=True)\n",
       "            (intermediate_act_fn): GELUActivation()\n",
       "          )\n",
       "          (output): ViTOutput(\n",
       "            (dense): Linear(in_features=2048, out_features=768, bias=True)\n",
       "            (dropout): Dropout(p=0.0, inplace=False)\n",
       "          )\n",
       "          (layernorm_before): LayerNorm((768,), eps=1e-12, elementwise_affine=True)\n",
       "          (layernorm_after): LayerNorm((768,), eps=1e-12, elementwise_affine=True)\n",
       "        )\n",
       "        (1): ViTLayer(\n",
       "          (attention): ViTAttention(\n",
       "            (attention): ViTSelfAttention(\n",
       "              (query): Linear(in_features=768, out_features=768, bias=True)\n",
       "              (key): Linear(in_features=768, out_features=768, bias=True)\n",
       "              (value): Linear(in_features=768, out_features=768, bias=True)\n",
       "              (dropout): Dropout(p=0.0, inplace=False)\n",
       "            )\n",
       "            (output): ViTSelfOutput(\n",
       "              (dense): Linear(in_features=768, out_features=768, bias=True)\n",
       "              (dropout): Dropout(p=0.0, inplace=False)\n",
       "            )\n",
       "          )\n",
       "          (intermediate): ViTIntermediate(\n",
       "            (dense): Linear(in_features=768, out_features=2048, bias=True)\n",
       "            (intermediate_act_fn): GELUActivation()\n",
       "          )\n",
       "          (output): ViTOutput(\n",
       "            (dense): Linear(in_features=2048, out_features=768, bias=True)\n",
       "            (dropout): Dropout(p=0.0, inplace=False)\n",
       "          )\n",
       "          (layernorm_before): LayerNorm((768,), eps=1e-12, elementwise_affine=True)\n",
       "          (layernorm_after): LayerNorm((768,), eps=1e-12, elementwise_affine=True)\n",
       "        )\n",
       "        (2): ViTLayer(\n",
       "          (attention): ViTAttention(\n",
       "            (attention): ViTSelfAttention(\n",
       "              (query): Linear(in_features=768, out_features=768, bias=True)\n",
       "              (key): Linear(in_features=768, out_features=768, bias=True)\n",
       "              (value): Linear(in_features=768, out_features=768, bias=True)\n",
       "              (dropout): Dropout(p=0.0, inplace=False)\n",
       "            )\n",
       "            (output): ViTSelfOutput(\n",
       "              (dense): Linear(in_features=768, out_features=768, bias=True)\n",
       "              (dropout): Dropout(p=0.0, inplace=False)\n",
       "            )\n",
       "          )\n",
       "          (intermediate): ViTIntermediate(\n",
       "            (dense): Linear(in_features=768, out_features=2048, bias=True)\n",
       "            (intermediate_act_fn): GELUActivation()\n",
       "          )\n",
       "          (output): ViTOutput(\n",
       "            (dense): Linear(in_features=2048, out_features=768, bias=True)\n",
       "            (dropout): Dropout(p=0.0, inplace=False)\n",
       "          )\n",
       "          (layernorm_before): LayerNorm((768,), eps=1e-12, elementwise_affine=True)\n",
       "          (layernorm_after): LayerNorm((768,), eps=1e-12, elementwise_affine=True)\n",
       "        )\n",
       "      )\n",
       "    )\n",
       "    (layernorm): LayerNorm((768,), eps=1e-12, elementwise_affine=True)\n",
       "  )\n",
       "  (classifier): MultiHeadedOutput(\n",
       "    (heads): ModuleList(\n",
       "      (0): Sequential(\n",
       "        (0): Linear(in_features=768, out_features=512, bias=True)\n",
       "        (1): LeakyReLU(negative_slope=0.01)\n",
       "        (2): Linear(in_features=512, out_features=1, bias=True)\n",
       "      )\n",
       "      (1): Sequential(\n",
       "        (0): Linear(in_features=768, out_features=512, bias=True)\n",
       "        (1): LeakyReLU(negative_slope=0.01)\n",
       "        (2): Linear(in_features=512, out_features=1, bias=True)\n",
       "      )\n",
       "      (2): Sequential(\n",
       "        (0): Linear(in_features=768, out_features=512, bias=True)\n",
       "        (1): LeakyReLU(negative_slope=0.01)\n",
       "        (2): Linear(in_features=512, out_features=1, bias=True)\n",
       "      )\n",
       "      (3): Sequential(\n",
       "        (0): Linear(in_features=768, out_features=512, bias=True)\n",
       "        (1): LeakyReLU(negative_slope=0.01)\n",
       "        (2): Linear(in_features=512, out_features=1, bias=True)\n",
       "      )\n",
       "      (4): Sequential(\n",
       "        (0): Linear(in_features=768, out_features=512, bias=True)\n",
       "        (1): LeakyReLU(negative_slope=0.01)\n",
       "        (2): Linear(in_features=512, out_features=1, bias=True)\n",
       "      )\n",
       "      (5): Sequential(\n",
       "        (0): Linear(in_features=768, out_features=512, bias=True)\n",
       "        (1): LeakyReLU(negative_slope=0.01)\n",
       "        (2): Linear(in_features=512, out_features=1, bias=True)\n",
       "      )\n",
       "      (6): Sequential(\n",
       "        (0): Linear(in_features=768, out_features=512, bias=True)\n",
       "        (1): LeakyReLU(negative_slope=0.01)\n",
       "        (2): Linear(in_features=512, out_features=1, bias=True)\n",
       "      )\n",
       "      (7): Sequential(\n",
       "        (0): Linear(in_features=768, out_features=512, bias=True)\n",
       "        (1): LeakyReLU(negative_slope=0.01)\n",
       "        (2): Linear(in_features=512, out_features=1, bias=True)\n",
       "      )\n",
       "      (8): Sequential(\n",
       "        (0): Linear(in_features=768, out_features=512, bias=True)\n",
       "        (1): LeakyReLU(negative_slope=0.01)\n",
       "        (2): Linear(in_features=512, out_features=1, bias=True)\n",
       "      )\n",
       "      (9): Sequential(\n",
       "        (0): Linear(in_features=768, out_features=512, bias=True)\n",
       "        (1): LeakyReLU(negative_slope=0.01)\n",
       "        (2): Linear(in_features=512, out_features=1, bias=True)\n",
       "      )\n",
       "      (10): Sequential(\n",
       "        (0): Linear(in_features=768, out_features=512, bias=True)\n",
       "        (1): LeakyReLU(negative_slope=0.01)\n",
       "        (2): Linear(in_features=512, out_features=1, bias=True)\n",
       "      )\n",
       "      (11): Sequential(\n",
       "        (0): Linear(in_features=768, out_features=512, bias=True)\n",
       "        (1): LeakyReLU(negative_slope=0.01)\n",
       "        (2): Linear(in_features=512, out_features=1, bias=True)\n",
       "      )\n",
       "      (12): Sequential(\n",
       "        (0): Linear(in_features=768, out_features=512, bias=True)\n",
       "        (1): LeakyReLU(negative_slope=0.01)\n",
       "        (2): Linear(in_features=512, out_features=1, bias=True)\n",
       "      )\n",
       "      (13): Sequential(\n",
       "        (0): Linear(in_features=768, out_features=512, bias=True)\n",
       "        (1): LeakyReLU(negative_slope=0.01)\n",
       "        (2): Linear(in_features=512, out_features=1, bias=True)\n",
       "      )\n",
       "      (14): Sequential(\n",
       "        (0): Linear(in_features=768, out_features=512, bias=True)\n",
       "        (1): LeakyReLU(negative_slope=0.01)\n",
       "        (2): Linear(in_features=512, out_features=1, bias=True)\n",
       "      )\n",
       "    )\n",
       "  )\n",
       ")"
      ]
     },
     "execution_count": 1026,
     "metadata": {},
     "output_type": "execute_result"
    }
   ],
   "source": [
    "model"
   ]
  },
  {
   "cell_type": "code",
   "execution_count": 992,
   "id": "9b46b332",
   "metadata": {},
   "outputs": [],
   "source": [
    "for p in model.vit.parameters():\n",
    "    p.requires_grad = False"
   ]
  },
  {
   "cell_type": "code",
   "execution_count": 995,
   "id": "d9a2b698",
   "metadata": {},
   "outputs": [],
   "source": [
    "import transformers"
   ]
  },
  {
   "cell_type": "code",
   "execution_count": 997,
   "id": "339e87ab",
   "metadata": {},
   "outputs": [],
   "source": [
    "optimizer = optim.AdamW(model.classifier.parameters(), lr=1e-3, weight_decay=0.05, betas=(0.9, 0.95))"
   ]
  },
  {
   "cell_type": "code",
   "execution_count": 1000,
   "id": "bdae8e4e",
   "metadata": {},
   "outputs": [],
   "source": [
    "lr = transformers.get_linear_schedule_with_warmup(optimizer, num_warmup_steps=0, num_training_steps=5 * len(ft_train_dataset))"
   ]
  },
  {
   "cell_type": "code",
   "execution_count": 1001,
   "id": "f163873c",
   "metadata": {},
   "outputs": [],
   "source": [
    "trainer = WeightedTrainer(\n",
    "        model=model,\n",
    "        args=training_args,\n",
    "        train_dataset=ft_train_dataset,\n",
    "        eval_dataset=ft_test_dataset,\n",
    "        optimizers=[optimizer, lr]\n",
    "    )"
   ]
  },
  {
   "cell_type": "code",
   "execution_count": 1002,
   "id": "ba0aa22d",
   "metadata": {},
   "outputs": [],
   "source": [
    "# trainer.evaluate()\n",
    "# # trainer.predict(ft_train_dataset)"
   ]
  },
  {
   "cell_type": "code",
   "execution_count": 1003,
   "id": "2bcc8592",
   "metadata": {},
   "outputs": [
    {
     "name": "stderr",
     "output_type": "stream",
     "text": [
      "***** Running Evaluation *****\n",
      "  Num examples = 551\n",
      "  Batch size = 1\n",
      "The following columns in the evaluation set don't have a corresponding argument in `ViTForImageClassification.forward` and have been ignored: input. If input are not expected by `ViTForImageClassification.forward`,  you can safely ignore this message.\n",
      "C:\\Users\\aag12\\AppData\\Local\\Temp\\ipykernel_16152\\3559753343.py:12: UserWarning: To copy construct from a tensor, it is recommended to use sourceTensor.clone().detach() or sourceTensor.clone().detach().requires_grad_(True), rather than torch.tensor(sourceTensor).\n",
      "  preds = torch.sigmoid(torch.tensor(logits))\n"
     ]
    },
    {
     "name": "stdout",
     "output_type": "stream",
     "text": [
      "{'eval_loss': 15.265395311984737, 'eval_runtime': 5.0218, 'eval_samples_per_second': 109.721, 'eval_steps_per_second': 109.721}\n"
     ]
    },
    {
     "data": {
      "text/plain": [
       "{'eval_loss': 15.265395311984737,\n",
       " 'eval_runtime': 5.0218,\n",
       " 'eval_samples_per_second': 109.721,\n",
       " 'eval_steps_per_second': 109.721}"
      ]
     },
     "execution_count": 1003,
     "metadata": {},
     "output_type": "execute_result"
    }
   ],
   "source": [
    "trainer.evaluate()"
   ]
  },
  {
   "cell_type": "code",
   "execution_count": 1004,
   "id": "a9efa6fa",
   "metadata": {},
   "outputs": [],
   "source": [
    "# preds = trainer.predict(ft_test_dataset)"
   ]
  },
  {
   "cell_type": "code",
   "execution_count": 1005,
   "id": "491aef81",
   "metadata": {},
   "outputs": [
    {
     "name": "stderr",
     "output_type": "stream",
     "text": [
      "***** Running training *****\n",
      "  Num examples = 4400\n",
      "  Num Epochs = 5\n",
      "  Instantaneous batch size per device = 32\n",
      "  Total train batch size (w. parallel, distributed & accumulation) = 32\n",
      "  Gradient Accumulation steps = 1\n",
      "  Total optimization steps = 690\n",
      "The following columns in the training set don't have a corresponding argument in `ViTForImageClassification.forward` and have been ignored: input. If input are not expected by `ViTForImageClassification.forward`,  you can safely ignore this message.\n",
      "C:\\Users\\aag12\\AppData\\Local\\Temp\\ipykernel_16152\\3559753343.py:12: UserWarning: To copy construct from a tensor, it is recommended to use sourceTensor.clone().detach() or sourceTensor.clone().detach().requires_grad_(True), rather than torch.tensor(sourceTensor).\n",
      "  preds = torch.sigmoid(torch.tensor(logits))\n"
     ]
    },
    {
     "name": "stdout",
     "output_type": "stream",
     "text": [
      "{'loss': 1430.5021, 'learning_rate': 0.0009995454545454546, 'epoch': 0.07}\n",
      "{'loss': 694.3522, 'learning_rate': 0.0009990909090909091, 'epoch': 0.14}\n",
      "{'loss': 965.9942, 'learning_rate': 0.0009986363636363637, 'epoch': 0.22}\n",
      "{'loss': 680.2544, 'learning_rate': 0.0009981818181818182, 'epoch': 0.29}\n",
      "{'loss': 471.8683, 'learning_rate': 0.0009977272727272727, 'epoch': 0.36}\n",
      "{'loss': 728.0873, 'learning_rate': 0.0009972727272727273, 'epoch': 0.43}\n",
      "{'loss': 461.1983, 'learning_rate': 0.0009968181818181818, 'epoch': 0.51}\n",
      "{'loss': 636.2798, 'learning_rate': 0.0009963636363636364, 'epoch': 0.58}\n",
      "{'loss': 600.5546, 'learning_rate': 0.000995909090909091, 'epoch': 0.65}\n",
      "{'loss': 458.4179, 'learning_rate': 0.0009954545454545455, 'epoch': 0.72}\n",
      "{'loss': 623.5829, 'learning_rate': 0.000995, 'epoch': 0.8}\n",
      "{'loss': 506.1412, 'learning_rate': 0.0009945454545454546, 'epoch': 0.87}\n",
      "{'loss': 564.8225, 'learning_rate': 0.000994090909090909, 'epoch': 0.94}\n"
     ]
    },
    {
     "name": "stderr",
     "output_type": "stream",
     "text": [
      "***** Running Evaluation *****\n",
      "  Num examples = 551\n",
      "  Batch size = 1\n",
      "The following columns in the evaluation set don't have a corresponding argument in `ViTForImageClassification.forward` and have been ignored: input. If input are not expected by `ViTForImageClassification.forward`,  you can safely ignore this message.\n",
      "Saving model checkpoint to hface_classtest_v0\\checkpoint-138\n",
      "Configuration saved in hface_classtest_v0\\checkpoint-138\\config.json\n",
      "Model weights saved in hface_classtest_v0\\checkpoint-138\\pytorch_model.bin\n"
     ]
    },
    {
     "name": "stdout",
     "output_type": "stream",
     "text": [
      "{'eval_loss': 18.80177927534273, 'eval_runtime': 4.4643, 'eval_samples_per_second': 123.424, 'eval_steps_per_second': 123.424, 'epoch': 1.0}\n"
     ]
    },
    {
     "name": "stderr",
     "output_type": "stream",
     "text": [
      "C:\\Users\\aag12\\AppData\\Local\\Temp\\ipykernel_16152\\3559753343.py:12: UserWarning: To copy construct from a tensor, it is recommended to use sourceTensor.clone().detach() or sourceTensor.clone().detach().requires_grad_(True), rather than torch.tensor(sourceTensor).\n",
      "  preds = torch.sigmoid(torch.tensor(logits))\n"
     ]
    },
    {
     "name": "stdout",
     "output_type": "stream",
     "text": [
      "{'loss': 530.0035, 'learning_rate': 0.0009936363636363636, 'epoch': 1.01}\n",
      "{'loss': 532.9232, 'learning_rate': 0.0009931818181818182, 'epoch': 1.09}\n",
      "{'loss': 533.319, 'learning_rate': 0.0009927272727272727, 'epoch': 1.16}\n",
      "{'loss': 542.5402, 'learning_rate': 0.0009922727272727273, 'epoch': 1.23}\n",
      "{'loss': 475.969, 'learning_rate': 0.0009918181818181818, 'epoch': 1.3}\n",
      "{'loss': 611.4777, 'learning_rate': 0.0009913636363636364, 'epoch': 1.38}\n",
      "{'loss': 586.8733, 'learning_rate': 0.000990909090909091, 'epoch': 1.45}\n",
      "{'loss': 548.6574, 'learning_rate': 0.0009904545454545455, 'epoch': 1.52}\n",
      "{'loss': 584.7776, 'learning_rate': 0.00099, 'epoch': 1.59}\n",
      "{'loss': 497.8968, 'learning_rate': 0.0009895454545454545, 'epoch': 1.67}\n",
      "{'loss': 596.6399, 'learning_rate': 0.000989090909090909, 'epoch': 1.74}\n",
      "{'loss': 648.8338, 'learning_rate': 0.0009886363636363636, 'epoch': 1.81}\n",
      "{'loss': 459.3218, 'learning_rate': 0.0009881818181818182, 'epoch': 1.88}\n",
      "{'loss': 639.9444, 'learning_rate': 0.0009877272727272727, 'epoch': 1.96}\n"
     ]
    },
    {
     "name": "stderr",
     "output_type": "stream",
     "text": [
      "***** Running Evaluation *****\n",
      "  Num examples = 551\n",
      "  Batch size = 1\n",
      "The following columns in the evaluation set don't have a corresponding argument in `ViTForImageClassification.forward` and have been ignored: input. If input are not expected by `ViTForImageClassification.forward`,  you can safely ignore this message.\n",
      "Saving model checkpoint to hface_classtest_v0\\checkpoint-276\n",
      "Configuration saved in hface_classtest_v0\\checkpoint-276\\config.json\n",
      "Model weights saved in hface_classtest_v0\\checkpoint-276\\pytorch_model.bin\n"
     ]
    },
    {
     "name": "stdout",
     "output_type": "stream",
     "text": [
      "{'eval_loss': 19.2113256032601, 'eval_runtime': 4.5308, 'eval_samples_per_second': 121.611, 'eval_steps_per_second': 121.611, 'epoch': 2.0}\n"
     ]
    },
    {
     "name": "stderr",
     "output_type": "stream",
     "text": [
      "C:\\Users\\aag12\\AppData\\Local\\Temp\\ipykernel_16152\\3559753343.py:12: UserWarning: To copy construct from a tensor, it is recommended to use sourceTensor.clone().detach() or sourceTensor.clone().detach().requires_grad_(True), rather than torch.tensor(sourceTensor).\n",
      "  preds = torch.sigmoid(torch.tensor(logits))\n"
     ]
    },
    {
     "name": "stdout",
     "output_type": "stream",
     "text": [
      "{'loss': 580.7096, 'learning_rate': 0.0009872727272727273, 'epoch': 2.03}\n",
      "{'loss': 554.9038, 'learning_rate': 0.0009868181818181818, 'epoch': 2.1}\n",
      "{'loss': 578.0779, 'learning_rate': 0.0009863636363636363, 'epoch': 2.17}\n",
      "{'loss': 487.4337, 'learning_rate': 0.000985909090909091, 'epoch': 2.25}\n",
      "{'loss': 643.2579, 'learning_rate': 0.0009854545454545454, 'epoch': 2.32}\n",
      "{'loss': 532.3359, 'learning_rate': 0.000985, 'epoch': 2.39}\n",
      "{'loss': 550.7402, 'learning_rate': 0.0009845454545454545, 'epoch': 2.46}\n",
      "{'loss': 560.4978, 'learning_rate': 0.000984090909090909, 'epoch': 2.54}\n",
      "{'loss': 570.1198, 'learning_rate': 0.0009836363636363636, 'epoch': 2.61}\n",
      "{'loss': 610.0007, 'learning_rate': 0.0009831818181818182, 'epoch': 2.68}\n",
      "{'loss': 539.0846, 'learning_rate': 0.0009827272727272727, 'epoch': 2.75}\n",
      "{'loss': 555.0501, 'learning_rate': 0.0009822727272727272, 'epoch': 2.83}\n",
      "{'loss': 600.8706, 'learning_rate': 0.0009818181818181818, 'epoch': 2.9}\n",
      "{'loss': 541.3888, 'learning_rate': 0.0009813636363636363, 'epoch': 2.97}\n"
     ]
    },
    {
     "name": "stderr",
     "output_type": "stream",
     "text": [
      "***** Running Evaluation *****\n",
      "  Num examples = 551\n",
      "  Batch size = 1\n",
      "The following columns in the evaluation set don't have a corresponding argument in `ViTForImageClassification.forward` and have been ignored: input. If input are not expected by `ViTForImageClassification.forward`,  you can safely ignore this message.\n",
      "Saving model checkpoint to hface_classtest_v0\\checkpoint-414\n",
      "Configuration saved in hface_classtest_v0\\checkpoint-414\\config.json\n",
      "Model weights saved in hface_classtest_v0\\checkpoint-414\\pytorch_model.bin\n"
     ]
    },
    {
     "name": "stdout",
     "output_type": "stream",
     "text": [
      "{'eval_loss': 21.09870660231369, 'eval_runtime': 4.5148, 'eval_samples_per_second': 122.043, 'eval_steps_per_second': 122.043, 'epoch': 3.0}\n"
     ]
    },
    {
     "name": "stderr",
     "output_type": "stream",
     "text": [
      "C:\\Users\\aag12\\AppData\\Local\\Temp\\ipykernel_16152\\3559753343.py:12: UserWarning: To copy construct from a tensor, it is recommended to use sourceTensor.clone().detach() or sourceTensor.clone().detach().requires_grad_(True), rather than torch.tensor(sourceTensor).\n",
      "  preds = torch.sigmoid(torch.tensor(logits))\n"
     ]
    },
    {
     "name": "stdout",
     "output_type": "stream",
     "text": [
      "{'loss': 547.2057, 'learning_rate': 0.0009809090909090909, 'epoch': 3.04}\n",
      "{'loss': 531.8199, 'learning_rate': 0.0009804545454545454, 'epoch': 3.12}\n",
      "{'loss': 588.2907, 'learning_rate': 0.00098, 'epoch': 3.19}\n",
      "{'loss': 548.5395, 'learning_rate': 0.0009795454545454545, 'epoch': 3.26}\n",
      "{'loss': 491.8589, 'learning_rate': 0.000979090909090909, 'epoch': 3.33}\n",
      "{'loss': 641.0481, 'learning_rate': 0.0009786363636363636, 'epoch': 3.41}\n",
      "{'loss': 558.2191, 'learning_rate': 0.0009781818181818181, 'epoch': 3.48}\n",
      "{'loss': 547.6961, 'learning_rate': 0.000977727272727273, 'epoch': 3.55}\n",
      "{'loss': 563.2959, 'learning_rate': 0.0009772727272727272, 'epoch': 3.62}\n",
      "{'loss': 529.456, 'learning_rate': 0.0009768181818181818, 'epoch': 3.7}\n",
      "{'loss': 545.2715, 'learning_rate': 0.0009763636363636363, 'epoch': 3.77}\n",
      "{'loss': 558.7799, 'learning_rate': 0.000975909090909091, 'epoch': 3.84}\n",
      "{'loss': 556.7791, 'learning_rate': 0.0009754545454545455, 'epoch': 3.91}\n",
      "{'loss': 648.9919, 'learning_rate': 0.000975, 'epoch': 3.99}\n"
     ]
    },
    {
     "name": "stderr",
     "output_type": "stream",
     "text": [
      "***** Running Evaluation *****\n",
      "  Num examples = 551\n",
      "  Batch size = 1\n",
      "The following columns in the evaluation set don't have a corresponding argument in `ViTForImageClassification.forward` and have been ignored: input. If input are not expected by `ViTForImageClassification.forward`,  you can safely ignore this message.\n",
      "Saving model checkpoint to hface_classtest_v0\\checkpoint-552\n",
      "Configuration saved in hface_classtest_v0\\checkpoint-552\\config.json\n",
      "Model weights saved in hface_classtest_v0\\checkpoint-552\\pytorch_model.bin\n",
      "Deleting older checkpoint [hface_classtest_v0\\checkpoint-138] due to args.save_total_limit\n"
     ]
    },
    {
     "name": "stdout",
     "output_type": "stream",
     "text": [
      "{'eval_loss': 18.764401430564128, 'eval_runtime': 4.6555, 'eval_samples_per_second': 118.355, 'eval_steps_per_second': 118.355, 'epoch': 4.0}\n"
     ]
    },
    {
     "name": "stderr",
     "output_type": "stream",
     "text": [
      "C:\\Users\\aag12\\AppData\\Local\\Temp\\ipykernel_16152\\3559753343.py:12: UserWarning: To copy construct from a tensor, it is recommended to use sourceTensor.clone().detach() or sourceTensor.clone().detach().requires_grad_(True), rather than torch.tensor(sourceTensor).\n",
      "  preds = torch.sigmoid(torch.tensor(logits))\n"
     ]
    },
    {
     "name": "stdout",
     "output_type": "stream",
     "text": [
      "{'loss': 453.8943, 'learning_rate': 0.0009745454545454545, 'epoch': 4.06}\n",
      "{'loss': 715.5841, 'learning_rate': 0.0009740909090909092, 'epoch': 4.13}\n",
      "{'loss': 553.5013, 'learning_rate': 0.0009736363636363637, 'epoch': 4.2}\n",
      "{'loss': 510.041, 'learning_rate': 0.0009731818181818181, 'epoch': 4.28}\n",
      "{'loss': 797.363, 'learning_rate': 0.0009727272727272728, 'epoch': 4.35}\n",
      "{'loss': 458.838, 'learning_rate': 0.0009722727272727273, 'epoch': 4.42}\n",
      "{'loss': 644.5192, 'learning_rate': 0.0009718181818181819, 'epoch': 4.49}\n",
      "{'loss': 650.0948, 'learning_rate': 0.0009713636363636363, 'epoch': 4.57}\n",
      "{'loss': 482.7236, 'learning_rate': 0.000970909090909091, 'epoch': 4.64}\n",
      "{'loss': 598.9382, 'learning_rate': 0.0009704545454545455, 'epoch': 4.71}\n",
      "{'loss': 507.3214, 'learning_rate': 0.0009699999999999999, 'epoch': 4.78}\n",
      "{'loss': 577.7528, 'learning_rate': 0.0009695454545454546, 'epoch': 4.86}\n",
      "{'loss': 611.0751, 'learning_rate': 0.0009690909090909091, 'epoch': 4.93}\n"
     ]
    },
    {
     "name": "stderr",
     "output_type": "stream",
     "text": [
      "***** Running Evaluation *****\n",
      "  Num examples = 551\n",
      "  Batch size = 1\n",
      "The following columns in the evaluation set don't have a corresponding argument in `ViTForImageClassification.forward` and have been ignored: input. If input are not expected by `ViTForImageClassification.forward`,  you can safely ignore this message.\n"
     ]
    },
    {
     "name": "stdout",
     "output_type": "stream",
     "text": [
      "{'loss': 490.9439, 'learning_rate': 0.0009686363636363637, 'epoch': 5.0}\n"
     ]
    },
    {
     "name": "stderr",
     "output_type": "stream",
     "text": [
      "Saving model checkpoint to hface_classtest_v0\\checkpoint-690\n",
      "Configuration saved in hface_classtest_v0\\checkpoint-690\\config.json\n",
      "Model weights saved in hface_classtest_v0\\checkpoint-690\\pytorch_model.bin\n",
      "Deleting older checkpoint [hface_classtest_v0\\checkpoint-276] due to args.save_total_limit\n",
      "\n",
      "\n",
      "Training completed. Do not forget to share your model on huggingface.co/models =)\n",
      "\n",
      "\n",
      "Loading best model from hface_classtest_v0\\checkpoint-552 (score: 18.764401430564128).\n"
     ]
    },
    {
     "name": "stdout",
     "output_type": "stream",
     "text": [
      "{'eval_loss': 23.409171355434093, 'eval_runtime': 4.6563, 'eval_samples_per_second': 118.334, 'eval_steps_per_second': 118.334, 'epoch': 5.0}\n",
      "{'train_runtime': 145.102, 'train_samples_per_second': 151.617, 'train_steps_per_second': 4.755, 'train_loss': 585.8775100486866, 'epoch': 5.0}\n"
     ]
    },
    {
     "data": {
      "text/plain": [
       "TrainOutput(global_step=690, training_loss=585.8775100486866, metrics={'train_runtime': 145.102, 'train_samples_per_second': 151.617, 'train_steps_per_second': 4.755, 'train_loss': 585.8775100486866, 'epoch': 5.0})"
      ]
     },
     "execution_count": 1005,
     "metadata": {},
     "output_type": "execute_result"
    }
   ],
   "source": [
    "trainer.train()"
   ]
  },
  {
   "cell_type": "code",
   "execution_count": null,
   "id": "623b042d",
   "metadata": {},
   "outputs": [],
   "source": []
  },
  {
   "cell_type": "code",
   "execution_count": 1006,
   "id": "ae30e467",
   "metadata": {},
   "outputs": [],
   "source": [
    "# trainer.evaluate(ft_train_dataset)"
   ]
  },
  {
   "cell_type": "code",
   "execution_count": 1007,
   "id": "7d4b3e90",
   "metadata": {},
   "outputs": [],
   "source": [
    "# trainer.evaluate(ft_test_dataset)"
   ]
  },
  {
   "cell_type": "code",
   "execution_count": null,
   "id": "cab68e59",
   "metadata": {},
   "outputs": [],
   "source": []
  },
  {
   "cell_type": "code",
   "execution_count": 1008,
   "id": "10048de6",
   "metadata": {},
   "outputs": [
    {
     "name": "stderr",
     "output_type": "stream",
     "text": [
      "***** Running Prediction *****\n",
      "  Num examples = 551\n",
      "  Batch size = 1\n",
      "The following columns in the test set don't have a corresponding argument in `ViTForImageClassification.forward` and have been ignored: input. If input are not expected by `ViTForImageClassification.forward`,  you can safely ignore this message.\n",
      "C:\\Users\\aag12\\AppData\\Local\\Temp\\ipykernel_16152\\3559753343.py:12: UserWarning: To copy construct from a tensor, it is recommended to use sourceTensor.clone().detach() or sourceTensor.clone().detach().requires_grad_(True), rather than torch.tensor(sourceTensor).\n",
      "  preds = torch.sigmoid(torch.tensor(logits))\n"
     ]
    }
   ],
   "source": [
    "test_preds = trainer.predict(ft_test_dataset)"
   ]
  },
  {
   "cell_type": "code",
   "execution_count": 1009,
   "id": "0c15a7e9",
   "metadata": {},
   "outputs": [
    {
     "data": {
      "text/plain": [
       "{'test_loss': 18.81619772479288,\n",
       " 'test_runtime': 5.3725,\n",
       " 'test_samples_per_second': 102.56,\n",
       " 'test_steps_per_second': 102.56}"
      ]
     },
     "execution_count": 1009,
     "metadata": {},
     "output_type": "execute_result"
    }
   ],
   "source": [
    "test_preds.metrics"
   ]
  },
  {
   "cell_type": "code",
   "execution_count": 1010,
   "id": "157abd92",
   "metadata": {},
   "outputs": [],
   "source": [
    "labels = torch.stack([ft_test_dataset[i]['labels'] for i in range(len(ft_test_dataset))])"
   ]
  },
  {
   "cell_type": "code",
   "execution_count": 1011,
   "id": "fd33c196",
   "metadata": {},
   "outputs": [
    {
     "data": {
      "text/plain": [
       "torch.Size([551, 15])"
      ]
     },
     "execution_count": 1011,
     "metadata": {},
     "output_type": "execute_result"
    }
   ],
   "source": [
    "labels.shape"
   ]
  },
  {
   "cell_type": "code",
   "execution_count": 1012,
   "id": "fe13a177",
   "metadata": {},
   "outputs": [
    {
     "data": {
      "text/plain": [
       "tensor([25., 15., 26., 30., 37., 33., 40., 44., 46., 36., 47., 51., 45., 50.,\n",
       "        50.], dtype=torch.float64)"
      ]
     },
     "execution_count": 1012,
     "metadata": {},
     "output_type": "execute_result"
    }
   ],
   "source": [
    "labels.sum(dim=0)"
   ]
  },
  {
   "cell_type": "code",
   "execution_count": 1013,
   "id": "366edbc7",
   "metadata": {},
   "outputs": [],
   "source": [
    "preds = torch.sigmoid(torch.tensor(test_preds.predictions))\n",
    "\n",
    "preds[preds >= 0.5] = 1\n",
    "preds[preds < 0.5] = 0"
   ]
  },
  {
   "cell_type": "code",
   "execution_count": 1014,
   "id": "b2170ccc",
   "metadata": {},
   "outputs": [],
   "source": [
    "num_correct = torch.sum(preds == labels).item()\n",
    "num = len(labels) * 15\n",
    "zero_correct = torch.sum(labels == 0).item()"
   ]
  },
  {
   "cell_type": "code",
   "execution_count": 1015,
   "id": "cfae2d5c",
   "metadata": {},
   "outputs": [
    {
     "data": {
      "text/plain": [
       "0.7805202661826981"
      ]
     },
     "execution_count": 1015,
     "metadata": {},
     "output_type": "execute_result"
    }
   ],
   "source": [
    "num_correct / num"
   ]
  },
  {
   "cell_type": "code",
   "execution_count": 1016,
   "id": "854f28c4",
   "metadata": {},
   "outputs": [],
   "source": [
    "preds = torch.sigmoid(torch.tensor(test_preds.predictions))"
   ]
  },
  {
   "cell_type": "code",
   "execution_count": 1017,
   "id": "1820f11f",
   "metadata": {},
   "outputs": [
    {
     "data": {
      "text/plain": [
       "tensor([[0.4653, 0.5330, 0.4733,  ..., 0.4504, 0.4625, 0.4772],\n",
       "        [0.4664, 0.5317, 0.4913,  ..., 0.4770, 0.4662, 0.4790],\n",
       "        [0.4097, 0.5536, 0.4759,  ..., 0.3993, 0.4166, 0.4968],\n",
       "        ...,\n",
       "        [0.4280, 0.5448, 0.4572,  ..., 0.4366, 0.4440, 0.4826],\n",
       "        [0.2717, 0.5389, 0.4200,  ..., 0.3869, 0.3801, 0.4872],\n",
       "        [0.4440, 0.5441, 0.4650,  ..., 0.4292, 0.4570, 0.4855]])"
      ]
     },
     "execution_count": 1017,
     "metadata": {},
     "output_type": "execute_result"
    }
   ],
   "source": [
    "preds"
   ]
  },
  {
   "cell_type": "code",
   "execution_count": 1018,
   "id": "d742272e",
   "metadata": {},
   "outputs": [],
   "source": [
    "preds[preds >= 0.5] = 1\n",
    "preds[preds < 0.5] = 0"
   ]
  },
  {
   "cell_type": "code",
   "execution_count": 1019,
   "id": "cb161131",
   "metadata": {},
   "outputs": [
    {
     "data": {
      "text/plain": [
       "tensor([[0., 1., 0.,  ..., 0., 0., 0.],\n",
       "        [0., 1., 0.,  ..., 0., 0., 0.],\n",
       "        [0., 1., 0.,  ..., 0., 0., 0.],\n",
       "        ...,\n",
       "        [0., 1., 0.,  ..., 0., 0., 0.],\n",
       "        [0., 1., 0.,  ..., 0., 0., 0.],\n",
       "        [0., 1., 0.,  ..., 0., 0., 0.]])"
      ]
     },
     "execution_count": 1019,
     "metadata": {},
     "output_type": "execute_result"
    }
   ],
   "source": [
    "preds"
   ]
  },
  {
   "cell_type": "code",
   "execution_count": 1020,
   "id": "25adccd0",
   "metadata": {},
   "outputs": [
    {
     "data": {
      "text/plain": [
       "0.12173913043478261"
      ]
     },
     "execution_count": 1020,
     "metadata": {},
     "output_type": "execute_result"
    }
   ],
   "source": [
    "torch.sum(labels[labels == 1] == preds[labels == 1]).item() / torch.sum(labels).item()"
   ]
  },
  {
   "cell_type": "code",
   "execution_count": 1021,
   "id": "9650567c",
   "metadata": {},
   "outputs": [],
   "source": [
    "all_preds = preds\n",
    "all_labels = labels"
   ]
  },
  {
   "cell_type": "code",
   "execution_count": 1022,
   "id": "c85dffe4",
   "metadata": {},
   "outputs": [],
   "source": [
    "from sklearn import metrics"
   ]
  },
  {
   "cell_type": "code",
   "execution_count": 1023,
   "id": "eaf29686",
   "metadata": {},
   "outputs": [
    {
     "data": {
      "text/plain": [
       "tensor([0.0000, 0.9891, 0.0163, 0.0000, 0.0000, 0.9256, 0.0000, 0.0000, 0.0000,\n",
       "        0.2958, 0.2577, 0.0000, 0.0000, 0.0000, 0.0181])"
      ]
     },
     "execution_count": 1023,
     "metadata": {},
     "output_type": "execute_result"
    }
   ],
   "source": [
    "all_preds.mean(dim=0)"
   ]
  },
  {
   "cell_type": "code",
   "execution_count": 1024,
   "id": "7b07fe7c",
   "metadata": {},
   "outputs": [
    {
     "name": "stdout",
     "output_type": "stream",
     "text": [
      "Head: 0; AUC: 0.5\n",
      "Head: 1; AUC: 0.5055970149253731\n",
      "Head: 2; AUC: 0.49142857142857144\n",
      "Head: 3; AUC: 0.5\n",
      "Head: 4; AUC: 0.5\n",
      "Head: 5; AUC: 0.4912249912249912\n",
      "Head: 6; AUC: 0.5\n",
      "Head: 7; AUC: 0.5\n",
      "Head: 8; AUC: 0.5\n",
      "Head: 9; AUC: 0.5646440129449839\n",
      "Head: 10; AUC: 0.47543059777102337\n",
      "Head: 11; AUC: 0.5\n",
      "Head: 12; AUC: 0.5\n",
      "Head: 13; AUC: 0.5\n",
      "Head: 14; AUC: 0.49001996007984033\n"
     ]
    }
   ],
   "source": [
    "aucs = []\n",
    "for i in range(15):\n",
    "    cur_preds = all_preds[:,i].cpu()\n",
    "    targs = all_labels[:,i].cpu()\n",
    "#     fpr, tpr, thresholds = metrics.roc_curve(targs, preds, pos_label=1)\n",
    "    fpr, tpr, thresholds = metrics.roc_curve(targs, cur_preds, pos_label=1)\n",
    "    auc = metrics.auc(fpr, tpr)\n",
    "    aucs.append(auc)\n",
    "    print(f\"Head: {i}; AUC: {auc}\")"
   ]
  },
  {
   "cell_type": "code",
   "execution_count": 1025,
   "id": "8354e203",
   "metadata": {},
   "outputs": [
    {
     "data": {
      "text/plain": [
       "0.5012230098916522"
      ]
     },
     "execution_count": 1025,
     "metadata": {},
     "output_type": "execute_result"
    }
   ],
   "source": [
    "sum(aucs) / len(aucs)"
   ]
  },
  {
   "cell_type": "code",
   "execution_count": null,
   "id": "60ca696e",
   "metadata": {},
   "outputs": [],
   "source": []
  },
  {
   "cell_type": "code",
   "execution_count": null,
   "id": "49883f3d",
   "metadata": {},
   "outputs": [],
   "source": []
  },
  {
   "cell_type": "code",
   "execution_count": null,
   "id": "bd785fe5",
   "metadata": {},
   "outputs": [],
   "source": []
  },
  {
   "cell_type": "code",
   "execution_count": null,
   "id": "97213596",
   "metadata": {},
   "outputs": [],
   "source": []
  }
 ],
 "metadata": {
  "kernelspec": {
   "display_name": "ml_env",
   "language": "python",
   "name": "ml_env"
  },
  "language_info": {
   "codemirror_mode": {
    "name": "ipython",
    "version": 3
   },
   "file_extension": ".py",
   "mimetype": "text/x-python",
   "name": "python",
   "nbconvert_exporter": "python",
   "pygments_lexer": "ipython3",
   "version": "3.8.13"
  }
 },
 "nbformat": 4,
 "nbformat_minor": 5
}
