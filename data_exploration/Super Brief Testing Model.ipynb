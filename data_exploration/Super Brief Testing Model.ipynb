{
 "cells": [
  {
   "cell_type": "code",
   "execution_count": 1,
   "id": "23771264",
   "metadata": {},
   "outputs": [
    {
     "data": {
      "application/vnd.jupyter.widget-view+json": {
       "model_id": "0ade5112afab4b43882c9acf5e8fb6e6",
       "version_major": 2,
       "version_minor": 0
      },
      "text/plain": [
       "Downloading preprocessor_config.json:   0%|          | 0.00/160 [00:00<?, ?B/s]"
      ]
     },
     "metadata": {},
     "output_type": "display_data"
    }
   ],
   "source": [
    "from transformers import ViTFeatureExtractor\n",
    "\n",
    "model_name_or_path = 'google/vit-base-patch16-224-in21k'\n",
    "feature_extractor = ViTFeatureExtractor.from_pretrained(model_name_or_path)"
   ]
  },
  {
   "cell_type": "code",
   "execution_count": 31,
   "id": "7f981880",
   "metadata": {},
   "outputs": [],
   "source": [
    "from transformers import ViTFeatureExtractor, ViTModel"
   ]
  },
  {
   "cell_type": "code",
   "execution_count": 32,
   "id": "de644a49",
   "metadata": {},
   "outputs": [
    {
     "data": {
      "application/vnd.jupyter.widget-view+json": {
       "model_id": "82035cdfb93848e9ab6e8e8d3676680d",
       "version_major": 2,
       "version_minor": 0
      },
      "text/plain": [
       "Downloading config.json:   0%|          | 0.00/502 [00:00<?, ?B/s]"
      ]
     },
     "metadata": {},
     "output_type": "display_data"
    },
    {
     "data": {
      "application/vnd.jupyter.widget-view+json": {
       "model_id": "29104b7d76ee42a4a4ff56e148164460",
       "version_major": 2,
       "version_minor": 0
      },
      "text/plain": [
       "Downloading pytorch_model.bin:   0%|          | 0.00/330M [00:00<?, ?B/s]"
      ]
     },
     "metadata": {},
     "output_type": "display_data"
    }
   ],
   "source": [
    "model = ViTModel.from_pretrained('google/vit-base-patch16-224-in21k')"
   ]
  },
  {
   "cell_type": "code",
   "execution_count": null,
   "id": "7b70d5ed",
   "metadata": {},
   "outputs": [],
   "source": []
  },
  {
   "cell_type": "code",
   "execution_count": 2,
   "id": "3d0869ef",
   "metadata": {},
   "outputs": [
    {
     "data": {
      "text/plain": [
       "ViTFeatureExtractor {\n",
       "  \"do_normalize\": true,\n",
       "  \"do_resize\": true,\n",
       "  \"feature_extractor_type\": \"ViTFeatureExtractor\",\n",
       "  \"image_mean\": [\n",
       "    0.5,\n",
       "    0.5,\n",
       "    0.5\n",
       "  ],\n",
       "  \"image_std\": [\n",
       "    0.5,\n",
       "    0.5,\n",
       "    0.5\n",
       "  ],\n",
       "  \"resample\": 2,\n",
       "  \"size\": 224\n",
       "}"
      ]
     },
     "execution_count": 2,
     "metadata": {},
     "output_type": "execute_result"
    }
   ],
   "source": [
    "feature_extractor"
   ]
  },
  {
   "cell_type": "code",
   "execution_count": 3,
   "id": "943baa18",
   "metadata": {},
   "outputs": [],
   "source": [
    "import numpy as np"
   ]
  },
  {
   "cell_type": "code",
   "execution_count": null,
   "id": "43e254cd",
   "metadata": {},
   "outputs": [],
   "source": []
  },
  {
   "cell_type": "code",
   "execution_count": 26,
   "id": "4e8db393",
   "metadata": {},
   "outputs": [],
   "source": [
    "import os"
   ]
  },
  {
   "cell_type": "code",
   "execution_count": null,
   "id": "5ec1f2bb",
   "metadata": {},
   "outputs": [],
   "source": [
    "for f in "
   ]
  },
  {
   "cell_type": "code",
   "execution_count": null,
   "id": "5140b6f4",
   "metadata": {},
   "outputs": [],
   "source": [
    "biggest = 0\n",
    "for f in "
   ]
  },
  {
   "cell_type": "code",
   "execution_count": 12,
   "id": "288a64cb",
   "metadata": {},
   "outputs": [],
   "source": [
    "a = np.load(\"/mnt/c/Users/aag12/Documents/subset_moodtheme/00/1062500.npy\")\n",
    "b = np.load(\"/mnt/c/Users/aag12/Documents/subset_moodtheme/00/1052800.npy\")"
   ]
  },
  {
   "cell_type": "code",
   "execution_count": 9,
   "id": "6f8254fa",
   "metadata": {},
   "outputs": [
    {
     "data": {
      "text/plain": [
       "array([-90.      , -89.999794, -89.99772 , ...,  16.418941,  16.554367,\n",
       "        16.653383], dtype=float32)"
      ]
     },
     "execution_count": 9,
     "metadata": {},
     "output_type": "execute_result"
    }
   ],
   "source": [
    "np.unique(a)"
   ]
  },
  {
   "cell_type": "code",
   "execution_count": 13,
   "id": "b6255c8c",
   "metadata": {},
   "outputs": [
    {
     "data": {
      "text/plain": [
       "(96, 10571)"
      ]
     },
     "execution_count": 13,
     "metadata": {},
     "output_type": "execute_result"
    }
   ],
   "source": [
    "a.shape"
   ]
  },
  {
   "cell_type": "code",
   "execution_count": 14,
   "id": "0a58942d",
   "metadata": {},
   "outputs": [
    {
     "data": {
      "text/plain": [
       "(96, 6440)"
      ]
     },
     "execution_count": 14,
     "metadata": {},
     "output_type": "execute_result"
    }
   ],
   "source": [
    "b.shape"
   ]
  },
  {
   "cell_type": "code",
   "execution_count": 15,
   "id": "57970d76",
   "metadata": {},
   "outputs": [
    {
     "data": {
      "text/plain": [
       "array([[-35.978523, -36.871532, -39.021667, ..., -51.462288, -58.39413 ,\n",
       "        -78.5748  ],\n",
       "       [-30.365103, -30.160393, -30.31949 , ..., -53.218292, -50.194256,\n",
       "        -71.49284 ],\n",
       "       [-25.871809, -21.388107, -20.183218, ..., -51.226227, -45.24926 ,\n",
       "        -64.30715 ],\n",
       "       ...,\n",
       "       [-90.      , -90.      , -90.      , ..., -90.      , -90.      ,\n",
       "        -90.      ],\n",
       "       [-90.      , -90.      , -90.      , ..., -90.      , -90.      ,\n",
       "        -90.      ],\n",
       "       [-90.      , -90.      , -90.      , ..., -90.      , -90.      ,\n",
       "        -90.      ]], dtype=float32)"
      ]
     },
     "execution_count": 15,
     "metadata": {},
     "output_type": "execute_result"
    }
   ],
   "source": [
    "b"
   ]
  },
  {
   "cell_type": "code",
   "execution_count": null,
   "id": "e1b24273",
   "metadata": {},
   "outputs": [],
   "source": []
  },
  {
   "cell_type": "code",
   "execution_count": 22,
   "id": "06ceebf0",
   "metadata": {},
   "outputs": [],
   "source": [
    "def mul(a):\n",
    "    e = 1\n",
    "    for v in a.shape:\n",
    "        e = e * v\n",
    "    return e"
   ]
  },
  {
   "cell_type": "code",
   "execution_count": 28,
   "id": "59390287",
   "metadata": {},
   "outputs": [
    {
     "data": {
      "text/plain": [
       "(96, 10571)"
      ]
     },
     "execution_count": 28,
     "metadata": {},
     "output_type": "execute_result"
    }
   ],
   "source": [
    "a.shape"
   ]
  },
  {
   "cell_type": "code",
   "execution_count": 27,
   "id": "064c49df",
   "metadata": {},
   "outputs": [
    {
     "data": {
      "text/plain": [
       "178608"
      ]
     },
     "execution_count": 27,
     "metadata": {},
     "output_type": "execute_result"
    }
   ],
   "source": [
    "(3 * 244 * 244)"
   ]
  },
  {
   "cell_type": "code",
   "execution_count": 30,
   "id": "6dc1e6c6",
   "metadata": {},
   "outputs": [
    {
     "data": {
      "text/plain": [
       "-439632"
      ]
     },
     "execution_count": 30,
     "metadata": {},
     "output_type": "execute_result"
    }
   ],
   "source": [
    "(3 * 244 * 244) - mul(b)"
   ]
  },
  {
   "cell_type": "code",
   "execution_count": 25,
   "id": "a8d295d4",
   "metadata": {},
   "outputs": [
    {
     "data": {
      "text/plain": [
       "-836208"
      ]
     },
     "execution_count": 25,
     "metadata": {},
     "output_type": "execute_result"
    }
   ],
   "source": [
    "(3 * 244 * 244) - mul(a)"
   ]
  },
  {
   "cell_type": "code",
   "execution_count": null,
   "id": "24356fa0",
   "metadata": {},
   "outputs": [],
   "source": []
  },
  {
   "cell_type": "code",
   "execution_count": null,
   "id": "6f8a622a",
   "metadata": {},
   "outputs": [],
   "source": []
  }
 ],
 "metadata": {
  "kernelspec": {
   "display_name": "Python (py38)",
   "language": "python",
   "name": "py38"
  },
  "language_info": {
   "codemirror_mode": {
    "name": "ipython",
    "version": 3
   },
   "file_extension": ".py",
   "mimetype": "text/x-python",
   "name": "python",
   "nbconvert_exporter": "python",
   "pygments_lexer": "ipython3",
   "version": "3.8.13"
  }
 },
 "nbformat": 4,
 "nbformat_minor": 5
}
