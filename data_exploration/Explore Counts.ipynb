{
 "cells": [
  {
   "cell_type": "code",
   "execution_count": 1,
   "id": "1ef6f31e",
   "metadata": {},
   "outputs": [],
   "source": [
    "import pandas as pd"
   ]
  },
  {
   "cell_type": "code",
   "execution_count": 25,
   "id": "5c54707a",
   "metadata": {},
   "outputs": [],
   "source": [
    "import seaborn as sns"
   ]
  },
  {
   "cell_type": "code",
   "execution_count": 2,
   "id": "85a0b3a4",
   "metadata": {},
   "outputs": [],
   "source": [
    "PATH = \"/mnt/c/Users/aag12/Downloads/autotagging_genre.tsv.txt\""
   ]
  },
  {
   "cell_type": "code",
   "execution_count": null,
   "id": "d9d77f59",
   "metadata": {},
   "outputs": [],
   "source": []
  },
  {
   "cell_type": "code",
   "execution_count": 57,
   "id": "8ae36df9",
   "metadata": {},
   "outputs": [],
   "source": [
    "with open(PATH, 'r') as f:\n",
    "    raw = f.readlines()"
   ]
  },
  {
   "cell_type": "code",
   "execution_count": 58,
   "id": "e23b1aaa",
   "metadata": {},
   "outputs": [
    {
     "data": {
      "text/plain": [
       "55216"
      ]
     },
     "execution_count": 58,
     "metadata": {},
     "output_type": "execute_result"
    }
   ],
   "source": [
    "len(raw)"
   ]
  },
  {
   "cell_type": "code",
   "execution_count": 59,
   "id": "2d0a38e5",
   "metadata": {},
   "outputs": [
    {
     "data": {
      "text/plain": [
       "'track_0000214\\tartist_000014\\talbum_000031\\t14/214.mp3\\t124.6\\tgenre---punkrock\\n'"
      ]
     },
     "execution_count": 59,
     "metadata": {},
     "output_type": "execute_result"
    }
   ],
   "source": [
    "raw[1]"
   ]
  },
  {
   "cell_type": "code",
   "execution_count": 60,
   "id": "2781aeaf",
   "metadata": {},
   "outputs": [],
   "source": [
    "better_d = []\n",
    "for line in raw[1:]:\n",
    "    split = line.split(\"\\t\")\n",
    "    new_row = split[:5]\n",
    "    extra = \",\".join(split[5:]).strip()\n",
    "    extra = \",\".join([g.replace(\"genre---\", \"\") for g in extra.split(\",\") if g.startswith(\"genre---\")])\n",
    "    new_row.append(extra)\n",
    "    better_d.append(new_row)"
   ]
  },
  {
   "cell_type": "code",
   "execution_count": 61,
   "id": "c3970c20",
   "metadata": {},
   "outputs": [
    {
     "data": {
      "text/plain": [
       "['TRACK_ID', 'ARTIST_ID', 'ALBUM_ID', 'PATH', 'DURATION', 'TAGS']"
      ]
     },
     "execution_count": 61,
     "metadata": {},
     "output_type": "execute_result"
    }
   ],
   "source": [
    "raw[0].strip().split(\"\\t\")"
   ]
  },
  {
   "cell_type": "code",
   "execution_count": 62,
   "id": "97d4a263",
   "metadata": {},
   "outputs": [],
   "source": [
    "df = pd.DataFrame(data=better_d, columns=raw[0].strip().split(\"\\t\"))"
   ]
  },
  {
   "cell_type": "code",
   "execution_count": 27,
   "id": "5533c652",
   "metadata": {},
   "outputs": [
    {
     "data": {
      "text/html": [
       "<div>\n",
       "<style scoped>\n",
       "    .dataframe tbody tr th:only-of-type {\n",
       "        vertical-align: middle;\n",
       "    }\n",
       "\n",
       "    .dataframe tbody tr th {\n",
       "        vertical-align: top;\n",
       "    }\n",
       "\n",
       "    .dataframe thead th {\n",
       "        text-align: right;\n",
       "    }\n",
       "</style>\n",
       "<table border=\"1\" class=\"dataframe\">\n",
       "  <thead>\n",
       "    <tr style=\"text-align: right;\">\n",
       "      <th></th>\n",
       "      <th>TRACK_ID</th>\n",
       "      <th>ARTIST_ID</th>\n",
       "      <th>ALBUM_ID</th>\n",
       "      <th>PATH</th>\n",
       "      <th>DURATION</th>\n",
       "      <th>TAGS</th>\n",
       "    </tr>\n",
       "  </thead>\n",
       "  <tbody>\n",
       "    <tr>\n",
       "      <th>0</th>\n",
       "      <td>track_0000214</td>\n",
       "      <td>artist_000014</td>\n",
       "      <td>album_000031</td>\n",
       "      <td>14/214.mp3</td>\n",
       "      <td>124.6</td>\n",
       "      <td>punkrock</td>\n",
       "    </tr>\n",
       "    <tr>\n",
       "      <th>1</th>\n",
       "      <td>track_0000215</td>\n",
       "      <td>artist_000014</td>\n",
       "      <td>album_000031</td>\n",
       "      <td>15/215.mp3</td>\n",
       "      <td>151.4</td>\n",
       "      <td>metal</td>\n",
       "    </tr>\n",
       "    <tr>\n",
       "      <th>2</th>\n",
       "      <td>track_0000216</td>\n",
       "      <td>artist_000014</td>\n",
       "      <td>album_000031</td>\n",
       "      <td>16/216.mp3</td>\n",
       "      <td>234.9</td>\n",
       "      <td>metal</td>\n",
       "    </tr>\n",
       "    <tr>\n",
       "      <th>3</th>\n",
       "      <td>track_0000217</td>\n",
       "      <td>artist_000014</td>\n",
       "      <td>album_000031</td>\n",
       "      <td>17/217.mp3</td>\n",
       "      <td>127.9</td>\n",
       "      <td>punkrock</td>\n",
       "    </tr>\n",
       "    <tr>\n",
       "      <th>4</th>\n",
       "      <td>track_0000218</td>\n",
       "      <td>artist_000014</td>\n",
       "      <td>album_000031</td>\n",
       "      <td>18/218.mp3</td>\n",
       "      <td>180.7</td>\n",
       "      <td>punkrock</td>\n",
       "    </tr>\n",
       "    <tr>\n",
       "      <th>...</th>\n",
       "      <td>...</td>\n",
       "      <td>...</td>\n",
       "      <td>...</td>\n",
       "      <td>...</td>\n",
       "      <td>...</td>\n",
       "      <td>...</td>\n",
       "    </tr>\n",
       "    <tr>\n",
       "      <th>55210</th>\n",
       "      <td>track_1422056</td>\n",
       "      <td>artist_496314</td>\n",
       "      <td>album_165847</td>\n",
       "      <td>56/1422056.mp3</td>\n",
       "      <td>516.0</td>\n",
       "      <td>soundtrack</td>\n",
       "    </tr>\n",
       "    <tr>\n",
       "      <th>55211</th>\n",
       "      <td>track_1422057</td>\n",
       "      <td>artist_496314</td>\n",
       "      <td>album_165847</td>\n",
       "      <td>57/1422057.mp3</td>\n",
       "      <td>374.9</td>\n",
       "      <td>soundtrack</td>\n",
       "    </tr>\n",
       "    <tr>\n",
       "      <th>55212</th>\n",
       "      <td>track_1422058</td>\n",
       "      <td>artist_496314</td>\n",
       "      <td>album_165847</td>\n",
       "      <td>58/1422058.mp3</td>\n",
       "      <td>315.8</td>\n",
       "      <td>soundtrack</td>\n",
       "    </tr>\n",
       "    <tr>\n",
       "      <th>55213</th>\n",
       "      <td>track_1422059</td>\n",
       "      <td>artist_496314</td>\n",
       "      <td>album_165847</td>\n",
       "      <td>59/1422059.mp3</td>\n",
       "      <td>201.3</td>\n",
       "      <td>soundtrack</td>\n",
       "    </tr>\n",
       "    <tr>\n",
       "      <th>55214</th>\n",
       "      <td>track_1422060</td>\n",
       "      <td>artist_496314</td>\n",
       "      <td>album_165847</td>\n",
       "      <td>60/1422060.mp3</td>\n",
       "      <td>336.0</td>\n",
       "      <td>soundtrack</td>\n",
       "    </tr>\n",
       "  </tbody>\n",
       "</table>\n",
       "<p>55215 rows × 6 columns</p>\n",
       "</div>"
      ],
      "text/plain": [
       "            TRACK_ID      ARTIST_ID      ALBUM_ID            PATH DURATION  \\\n",
       "0      track_0000214  artist_000014  album_000031      14/214.mp3    124.6   \n",
       "1      track_0000215  artist_000014  album_000031      15/215.mp3    151.4   \n",
       "2      track_0000216  artist_000014  album_000031      16/216.mp3    234.9   \n",
       "3      track_0000217  artist_000014  album_000031      17/217.mp3    127.9   \n",
       "4      track_0000218  artist_000014  album_000031      18/218.mp3    180.7   \n",
       "...              ...            ...           ...             ...      ...   \n",
       "55210  track_1422056  artist_496314  album_165847  56/1422056.mp3    516.0   \n",
       "55211  track_1422057  artist_496314  album_165847  57/1422057.mp3    374.9   \n",
       "55212  track_1422058  artist_496314  album_165847  58/1422058.mp3    315.8   \n",
       "55213  track_1422059  artist_496314  album_165847  59/1422059.mp3    201.3   \n",
       "55214  track_1422060  artist_496314  album_165847  60/1422060.mp3    336.0   \n",
       "\n",
       "             TAGS  \n",
       "0        punkrock  \n",
       "1           metal  \n",
       "2           metal  \n",
       "3        punkrock  \n",
       "4        punkrock  \n",
       "...           ...  \n",
       "55210  soundtrack  \n",
       "55211  soundtrack  \n",
       "55212  soundtrack  \n",
       "55213  soundtrack  \n",
       "55214  soundtrack  \n",
       "\n",
       "[55215 rows x 6 columns]"
      ]
     },
     "execution_count": 27,
     "metadata": {},
     "output_type": "execute_result"
    }
   ],
   "source": [
    "df"
   ]
  },
  {
   "cell_type": "code",
   "execution_count": 30,
   "id": "941ceb1f",
   "metadata": {},
   "outputs": [
    {
     "data": {
      "text/plain": [
       "TRACK_ID     track_0000247\n",
       "ARTIST_ID    artist_000005\n",
       "ALBUM_ID      album_000033\n",
       "PATH            47/247.mp3\n",
       "DURATION              85.9\n",
       "TAGS              pop,rock\n",
       "Name: 24, dtype: object"
      ]
     },
     "execution_count": 30,
     "metadata": {},
     "output_type": "execute_result"
    }
   ],
   "source": [
    "df.iloc[24]"
   ]
  },
  {
   "cell_type": "code",
   "execution_count": 31,
   "id": "9d230a1f",
   "metadata": {},
   "outputs": [],
   "source": [
    "all_tags = []\n",
    "for v in df[\"TAGS\"].values:\n",
    "    all_tags.extend(v.split(\",\"))"
   ]
  },
  {
   "cell_type": "code",
   "execution_count": null,
   "id": "ba025536",
   "metadata": {},
   "outputs": [],
   "source": []
  },
  {
   "cell_type": "code",
   "execution_count": 32,
   "id": "0db5db60",
   "metadata": {},
   "outputs": [],
   "source": [
    "from collections import Counter"
   ]
  },
  {
   "cell_type": "code",
   "execution_count": null,
   "id": "db5e40b1",
   "metadata": {},
   "outputs": [],
   "source": []
  },
  {
   "cell_type": "code",
   "execution_count": 34,
   "id": "930297bb",
   "metadata": {},
   "outputs": [
    {
     "data": {
      "text/plain": [
       "[('electronic', 16480),\n",
       " ('soundtrack', 8094),\n",
       " ('pop', 7805),\n",
       " ('ambient', 7570),\n",
       " ('rock', 6865),\n",
       " ('classical', 5602),\n",
       " ('easylistening', 4833),\n",
       " ('experimental', 3941),\n",
       " ('alternative', 3761),\n",
       " ('chillout', 3678),\n",
       " ('dance', 2827),\n",
       " ('hiphop', 2657),\n",
       " ('indie', 2632),\n",
       " ('folk', 2498),\n",
       " ('orchestral', 2434),\n",
       " ('jazz', 2371),\n",
       " ('lounge', 2259),\n",
       " ('newage', 2202),\n",
       " ('techno', 2179),\n",
       " ('poprock', 2172),\n",
       " ('house', 2169),\n",
       " ('world', 1887),\n",
       " ('popfolk', 1808),\n",
       " ('trance', 1528),\n",
       " ('instrumentalpop', 1477),\n",
       " ('metal', 1435),\n",
       " ('downtempo', 1431),\n",
       " ('atmospheric', 1395),\n",
       " ('triphop', 1343),\n",
       " ('funk', 1283),\n",
       " ('reggae', 1245),\n",
       " ('blues', 1082),\n",
       " ('progressive', 1078),\n",
       " ('electropop', 1003),\n",
       " ('rap', 993),\n",
       " ('singersongwriter', 776),\n",
       " ('punkrock', 729),\n",
       " ('symphonic', 712),\n",
       " ('latin', 704),\n",
       " ('industrial', 696),\n",
       " ('synthpop', 635),\n",
       " ('minimal', 629),\n",
       " ('instrumentalrock', 598),\n",
       " ('psychedelic', 590),\n",
       " ('country', 584),\n",
       " ('club', 579),\n",
       " ('rnb', 568),\n",
       " ('dubstep', 547),\n",
       " ('fusion', 512),\n",
       " ('darkambient', 509),\n",
       " ('soul', 504),\n",
       " ('drumnbass', 501),\n",
       " ('hardrock', 490),\n",
       " ('disco', 447),\n",
       " ('dub', 445),\n",
       " ('ethno', 429),\n",
       " ('deephouse', 427),\n",
       " ('breakbeat', 382),\n",
       " ('postrock', 377),\n",
       " ('grunge', 375),\n",
       " ('90s', 359),\n",
       " ('rocknroll', 342),\n",
       " ('improvisation', 332),\n",
       " ('electronica', 325),\n",
       " ('contemporary', 318),\n",
       " ('80s', 312),\n",
       " ('chanson', 310),\n",
       " ('celtic', 308),\n",
       " ('acidjazz', 304),\n",
       " ('idm', 287),\n",
       " ('darkwave', 282),\n",
       " ('edm', 281),\n",
       " ('ska', 267),\n",
       " ('eurodance', 244),\n",
       " ('heavymetal', 222),\n",
       " ('classicrock', 222),\n",
       " ('jazzfusion', 221),\n",
       " ('groove', 216),\n",
       " ('alternativerock', 215),\n",
       " ('worldfusion', 214),\n",
       " ('gothic', 213),\n",
       " ('70s', 202),\n",
       " ('jazzfunk', 191),\n",
       " ('newwave', 187),\n",
       " ('60s', 179),\n",
       " ('hard', 177),\n",
       " ('tribal', 175),\n",
       " ('swing', 169),\n",
       " ('choir', 167),\n",
       " ('bossanova', 148),\n",
       " ('ethnicrock', 140),\n",
       " ('bluesrock', 139),\n",
       " ('medieval', 135),\n",
       " ('oriental', 134),\n",
       " ('african', 121)]"
      ]
     },
     "execution_count": 34,
     "metadata": {},
     "output_type": "execute_result"
    }
   ],
   "source": [
    "Counter(all_tags).most_common()"
   ]
  },
  {
   "cell_type": "code",
   "execution_count": 48,
   "id": "fed1d8ca",
   "metadata": {},
   "outputs": [],
   "source": [
    "cmap = Counter(all_tags).most_common()"
   ]
  },
  {
   "cell_type": "code",
   "execution_count": 38,
   "id": "a614a307",
   "metadata": {},
   "outputs": [],
   "source": [
    "counts = [c[1] for c in Counter(all_tags).items()]"
   ]
  },
  {
   "cell_type": "code",
   "execution_count": null,
   "id": "2d3d6daf",
   "metadata": {},
   "outputs": [],
   "source": []
  },
  {
   "cell_type": "code",
   "execution_count": 40,
   "id": "dd69e1ec",
   "metadata": {},
   "outputs": [
    {
     "data": {
      "text/plain": [
       "<AxesSubplot:ylabel='Count'>"
      ]
     },
     "execution_count": 40,
     "metadata": {},
     "output_type": "execute_result"
    },
    {
     "data": {
      "image/png": "[encoded data removed]",
      "text/plain": [
       "<Figure size 432x288 with 1 Axes>"
      ]
     },
     "metadata": {
      "needs_background": "light"
     },
     "output_type": "display_data"
    }
   ],
   "source": [
    "sns.histplot(counts)"
   ]
  },
  {
   "cell_type": "code",
   "execution_count": 41,
   "id": "747efefd",
   "metadata": {},
   "outputs": [
    {
     "name": "stderr",
     "output_type": "stream",
     "text": [
      "/home/aag1234/anaconda3/envs/py38/lib/python3.8/site-packages/seaborn/_decorators.py:36: FutureWarning: Pass the following variable as a keyword arg: x. From version 0.12, the only valid positional argument will be `data`, and passing other arguments without an explicit keyword will result in an error or misinterpretation.\n",
      "  warnings.warn(\n"
     ]
    },
    {
     "data": {
      "text/plain": [
       "<AxesSubplot:>"
      ]
     },
     "execution_count": 41,
     "metadata": {},
     "output_type": "execute_result"
    },
    {
     "data": {
      "image/png": "[encoded data removed]",
      "text/plain": [
       "<Figure size 432x288 with 1 Axes>"
      ]
     },
     "metadata": {
      "needs_background": "light"
     },
     "output_type": "display_data"
    }
   ],
   "source": [
    "sns.boxplot(counts)"
   ]
  },
  {
   "cell_type": "code",
   "execution_count": 43,
   "id": "64e4d16f",
   "metadata": {},
   "outputs": [],
   "source": [
    "from scipy.stats import iqr\n",
    "import numpy as np"
   ]
  },
  {
   "cell_type": "code",
   "execution_count": null,
   "id": "d15fb6e3",
   "metadata": {},
   "outputs": [],
   "source": []
  },
  {
   "cell_type": "code",
   "execution_count": 44,
   "id": "86ade58a",
   "metadata": {},
   "outputs": [
    {
     "data": {
      "text/plain": [
       "(281.5, 547.0, 1502.5)"
      ]
     },
     "execution_count": 44,
     "metadata": {},
     "output_type": "execute_result"
    }
   ],
   "source": [
    "np.percentile(counts, 25), np.percentile(counts, 50), np.percentile(counts, 75)"
   ]
  },
  {
   "cell_type": "code",
   "execution_count": 47,
   "id": "d7ad384a",
   "metadata": {},
   "outputs": [
    {
     "data": {
      "text/plain": [
       "1221.0"
      ]
     },
     "execution_count": 47,
     "metadata": {},
     "output_type": "execute_result"
    }
   ],
   "source": [
    "iqr(counts)"
   ]
  },
  {
   "cell_type": "code",
   "execution_count": 90,
   "id": "72db6dd1",
   "metadata": {},
   "outputs": [],
   "source": [
    "low_genres = []\n",
    "for k, v in cmap:\n",
    "#     if v < np.percentile(counts, 25):\n",
    "    if v < np.percentile(counts, 75):\n",
    "        low_genres.append(k)"
   ]
  },
  {
   "cell_type": "code",
   "execution_count": null,
   "id": "b6098833",
   "metadata": {},
   "outputs": [],
   "source": []
  },
  {
   "cell_type": "code",
   "execution_count": 91,
   "id": "9ff85111",
   "metadata": {},
   "outputs": [],
   "source": [
    "num_songs = 0\n",
    "track_ids = []\n",
    "for i, row in df.iterrows():\n",
    "    for g in low_genres:\n",
    "        if g in row[\"TAGS\"].split(\",\"):\n",
    "            num_songs += 1\n",
    "#             print(row)\n",
    "            track_ids.append(row['TRACK_ID'])\n",
    "            break"
   ]
  },
  {
   "cell_type": "code",
   "execution_count": 92,
   "id": "419afe2d",
   "metadata": {},
   "outputs": [
    {
     "data": {
      "text/plain": [
       "25879"
      ]
     },
     "execution_count": 92,
     "metadata": {},
     "output_type": "execute_result"
    }
   ],
   "source": [
    "num_songs"
   ]
  },
  {
   "cell_type": "code",
   "execution_count": 93,
   "id": "fe3c7226",
   "metadata": {},
   "outputs": [
    {
     "data": {
      "text/plain": [
       "55215"
      ]
     },
     "execution_count": 93,
     "metadata": {},
     "output_type": "execute_result"
    }
   ],
   "source": [
    "len(df)"
   ]
  },
  {
   "cell_type": "code",
   "execution_count": 94,
   "id": "9b4f13cf",
   "metadata": {},
   "outputs": [
    {
     "data": {
      "text/plain": [
       "0.4686951009689396"
      ]
     },
     "execution_count": 94,
     "metadata": {},
     "output_type": "execute_result"
    }
   ],
   "source": [
    "num_songs / 55215"
   ]
  },
  {
   "cell_type": "code",
   "execution_count": 95,
   "id": "45c34485",
   "metadata": {},
   "outputs": [
    {
     "data": {
      "text/plain": [
       "25879"
      ]
     },
     "execution_count": 95,
     "metadata": {},
     "output_type": "execute_result"
    }
   ],
   "source": [
    "len(set(track_ids))"
   ]
  },
  {
   "cell_type": "code",
   "execution_count": 96,
   "id": "c79ad812",
   "metadata": {},
   "outputs": [],
   "source": [
    "MOODPATH = \"/mnt/c/Users/aag12/Downloads/autotagging_moodtheme.tsv.txt\""
   ]
  },
  {
   "cell_type": "code",
   "execution_count": 97,
   "id": "302ad354",
   "metadata": {},
   "outputs": [],
   "source": [
    "with open(MOODPATH, 'r') as f:\n",
    "    moodraw = f.read()"
   ]
  },
  {
   "cell_type": "code",
   "execution_count": 98,
   "id": "e3109a68",
   "metadata": {},
   "outputs": [],
   "source": [
    "num_seen = 0\n",
    "for t in set(track_ids):\n",
    "    if t in moodraw:\n",
    "        num_seen += 1"
   ]
  },
  {
   "cell_type": "code",
   "execution_count": 99,
   "id": "8ed3641e",
   "metadata": {},
   "outputs": [
    {
     "data": {
      "text/plain": [
       "7613"
      ]
     },
     "execution_count": 99,
     "metadata": {},
     "output_type": "execute_result"
    }
   ],
   "source": [
    "num_seen"
   ]
  },
  {
   "cell_type": "code",
   "execution_count": 100,
   "id": "2a7260a0",
   "metadata": {},
   "outputs": [
    {
     "data": {
      "text/plain": [
       "0.2941767456238649"
      ]
     },
     "execution_count": 100,
     "metadata": {},
     "output_type": "execute_result"
    }
   ],
   "source": [
    "num_seen / len(set(track_ids))"
   ]
  },
  {
   "cell_type": "code",
   "execution_count": null,
   "id": "1fce7d1a",
   "metadata": {},
   "outputs": [],
   "source": []
  },
  {
   "cell_type": "code",
   "execution_count": null,
   "id": "592ab750",
   "metadata": {},
   "outputs": [],
   "source": []
  },
  {
   "cell_type": "code",
   "execution_count": null,
   "id": "b91ea689",
   "metadata": {},
   "outputs": [],
   "source": []
  }
 ],
 "metadata": {
  "kernelspec": {
   "display_name": "Python (py38)",
   "language": "python",
   "name": "py38"
  },
  "language_info": {
   "codemirror_mode": {
    "name": "ipython",
    "version": 3
   },
   "file_extension": ".py",
   "mimetype": "text/x-python",
   "name": "python",
   "nbconvert_exporter": "python",
   "pygments_lexer": "ipython3",
   "version": "3.8.13"
  }
 },
 "nbformat": 4,
 "nbformat_minor": 5
}
