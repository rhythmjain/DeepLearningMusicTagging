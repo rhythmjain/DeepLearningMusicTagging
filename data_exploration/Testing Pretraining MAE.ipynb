{
 "cells": [
  {
   "cell_type": "code",
   "execution_count": 1,
   "id": "8dde38ab",
   "metadata": {},
   "outputs": [],
   "source": [
    "from torch import nn\n",
    "import torch"
   ]
  },
  {
   "cell_type": "code",
   "execution_count": 2,
   "id": "0c0b7a64",
   "metadata": {},
   "outputs": [],
   "source": [
    "from torch.nn.utils.rnn import pad_sequence"
   ]
  },
  {
   "cell_type": "code",
   "execution_count": 3,
   "id": "eb94593b",
   "metadata": {},
   "outputs": [],
   "source": [
    "import numpy as np"
   ]
  },
  {
   "cell_type": "code",
   "execution_count": 4,
   "id": "26f5b02f",
   "metadata": {},
   "outputs": [],
   "source": [
    "import pandas as pd"
   ]
  },
  {
   "cell_type": "code",
   "execution_count": 5,
   "id": "a58fb134",
   "metadata": {},
   "outputs": [],
   "source": [
    "import os"
   ]
  },
  {
   "cell_type": "code",
   "execution_count": 6,
   "id": "42b6ccad",
   "metadata": {},
   "outputs": [],
   "source": [
    "from einops import rearrange"
   ]
  },
  {
   "cell_type": "code",
   "execution_count": 7,
   "id": "7214728f",
   "metadata": {},
   "outputs": [],
   "source": [
    "import random"
   ]
  },
  {
   "cell_type": "code",
   "execution_count": 8,
   "id": "a68cbc3e",
   "metadata": {},
   "outputs": [],
   "source": [
    "from torch.utils.data import DataLoader"
   ]
  },
  {
   "cell_type": "code",
   "execution_count": 9,
   "id": "f41473dd",
   "metadata": {},
   "outputs": [],
   "source": [
    "import torchvision.transforms as T"
   ]
  },
  {
   "cell_type": "code",
   "execution_count": 10,
   "id": "0e72087d",
   "metadata": {},
   "outputs": [],
   "source": [
    "from skimage.util import random_noise"
   ]
  },
  {
   "cell_type": "code",
   "execution_count": 11,
   "id": "65c3dcbb",
   "metadata": {},
   "outputs": [],
   "source": [
    "import matplotlib.pyplot as plt\n",
    "import seaborn as sns\n",
    "sns.set_theme()"
   ]
  },
  {
   "cell_type": "code",
   "execution_count": 12,
   "id": "ef921677",
   "metadata": {},
   "outputs": [
    {
     "name": "stderr",
     "output_type": "stream",
     "text": [
      "C:\\Users\\aag12\\anaconda3\\envs\\ml_env\\lib\\site-packages\\torchaudio\\backend\\utils.py:62: UserWarning: No audio backend is available.\n",
      "  warnings.warn(\"No audio backend is available.\")\n"
     ]
    }
   ],
   "source": [
    "import torchaudio"
   ]
  },
  {
   "cell_type": "code",
   "execution_count": 13,
   "id": "10dd49da",
   "metadata": {},
   "outputs": [],
   "source": [
    "from sklearn import preprocessing"
   ]
  },
  {
   "cell_type": "code",
   "execution_count": 14,
   "id": "0b4914d1",
   "metadata": {},
   "outputs": [],
   "source": [
    "from sklearn.model_selection import train_test_split"
   ]
  },
  {
   "cell_type": "code",
   "execution_count": null,
   "id": "dc6dbff6",
   "metadata": {},
   "outputs": [],
   "source": []
  },
  {
   "cell_type": "markdown",
   "id": "8864ad63",
   "metadata": {},
   "source": [
    "# Defining Dataseat"
   ]
  },
  {
   "cell_type": "code",
   "execution_count": 15,
   "id": "3c432a88",
   "metadata": {},
   "outputs": [],
   "source": [
    "from datasets import load_dataset"
   ]
  },
  {
   "cell_type": "code",
   "execution_count": 16,
   "id": "c2e2a3ed",
   "metadata": {},
   "outputs": [],
   "source": [
    "from datasets import disable_caching\n",
    "disable_caching()"
   ]
  },
  {
   "cell_type": "code",
   "execution_count": 17,
   "id": "6386c2a5",
   "metadata": {},
   "outputs": [],
   "source": [
    "with open(\"goodfiles.txt\", 'r') as f:\n",
    "    all_files = f.readlines()\n",
    "all_files = [g.strip().replace(\"npy\", 'mp3') for g in all_files if len(g.strip()) > 0]"
   ]
  },
  {
   "cell_type": "code",
   "execution_count": 18,
   "id": "e64a05c5",
   "metadata": {},
   "outputs": [
    {
     "data": {
      "text/plain": [
       "['01/846501.mp3', '34/1288334.mp3', '98/1082098.mp3']"
      ]
     },
     "execution_count": 18,
     "metadata": {},
     "output_type": "execute_result"
    }
   ],
   "source": [
    "all_files[:3]"
   ]
  },
  {
   "cell_type": "code",
   "execution_count": null,
   "id": "ae153e5e",
   "metadata": {},
   "outputs": [],
   "source": []
  },
  {
   "cell_type": "code",
   "execution_count": 19,
   "id": "cc07061d",
   "metadata": {},
   "outputs": [],
   "source": [
    "good_files, test_files = train_test_split(all_files, test_size=0.2)"
   ]
  },
  {
   "cell_type": "code",
   "execution_count": 20,
   "id": "98d6ecc7",
   "metadata": {},
   "outputs": [
    {
     "data": {
      "text/plain": [
       "(2200, 551)"
      ]
     },
     "execution_count": 20,
     "metadata": {},
     "output_type": "execute_result"
    }
   ],
   "source": [
    "len(good_files), len(test_files)"
   ]
  },
  {
   "cell_type": "code",
   "execution_count": 21,
   "id": "b668f4e6",
   "metadata": {},
   "outputs": [],
   "source": [
    "def files_to_labels(files):\n",
    "    col_names = ['TRACK_ID',\n",
    "     'ARTIST_ID',\n",
    "     'ALBUM_ID',\n",
    "     'PATH',\n",
    "     'DURATION',\n",
    "     'TAGS',\n",
    "     'TAGS2',\n",
    "     'TAGS3',\n",
    "     'TAGS4',\n",
    "     'TAGS5',\n",
    "     'TAGS6',\n",
    "     'TAGS7',\n",
    "     'TAGS8',\n",
    "     'TAGS9']\n",
    "    MOODPATH = \"../../../Downloads/autotagging_moodtheme.tsv.txt\"\n",
    "    df = pd.read_csv(MOODPATH, sep='\\t', names=col_names)\n",
    "    df = df[df[\"PATH\"].isin(files)]\n",
    "    inds = {'fast': 0,\n",
    "     'sexy': 1,\n",
    "     'mellow': 2,\n",
    "     'heavy': 3,\n",
    "     'horror': 4,\n",
    "     'travel': 5,\n",
    "     'holiday': 6,\n",
    "     'groovy': 7,\n",
    "     'funny': 8,\n",
    "     'retro': 9,\n",
    "     'hopeful': 10,\n",
    "     'powerful': 11,\n",
    "     'cool': 12,\n",
    "     'nature': 13,\n",
    "     'game': 14}\n",
    "\n",
    "    final_labels = []\n",
    "    for i in range(len(df)):\n",
    "        curr = np.zeros(len(inds))\n",
    "        moods = list(df.iloc[i])[5:]\n",
    "        for theme in moods:\n",
    "            if type(theme) == str and \"mood\" in theme:\n",
    "                check = theme.split(\"---\")[-1]\n",
    "                if check in inds:\n",
    "                    curr[inds[check]] = 1\n",
    "            else:\n",
    "                pass\n",
    "\n",
    "        final_labels.append(curr)\n",
    "    return final_labels"
   ]
  },
  {
   "cell_type": "code",
   "execution_count": 22,
   "id": "07d2d0ea",
   "metadata": {},
   "outputs": [],
   "source": [
    "train_labels = files_to_labels(good_files)"
   ]
  },
  {
   "cell_type": "code",
   "execution_count": 23,
   "id": "d874d298",
   "metadata": {},
   "outputs": [],
   "source": [
    "test_labels = files_to_labels(test_files)"
   ]
  },
  {
   "cell_type": "code",
   "execution_count": 24,
   "id": "678f7c66",
   "metadata": {},
   "outputs": [
    {
     "data": {
      "text/plain": [
       "[array([0., 0., 0., 0., 0., 0., 0., 0., 0., 0., 0., 0., 1., 0., 0.]),\n",
       " array([0., 0., 0., 0., 0., 0., 0., 0., 0., 0., 0., 0., 1., 0., 0.])]"
      ]
     },
     "execution_count": 24,
     "metadata": {},
     "output_type": "execute_result"
    }
   ],
   "source": [
    "train_labels[:2]"
   ]
  },
  {
   "cell_type": "code",
   "execution_count": 25,
   "id": "545d632d",
   "metadata": {},
   "outputs": [],
   "source": [
    "# train_np_files = [(\"../../subset_moodtheme/\" + g).replace(\".mp3\", \".npy\") for g in good_files]\n",
    "# test_np_files = [(\"../../subset_moodtheme/\" + g).replace(\".mp3\", \".npy\") for g in test_files]\n",
    "train_np_files = [\"../../mtg-jamendo-dataset/all_data/\" + g.replace(\"mp3\", \"npy\") for g in good_files]\n",
    "test_np_files = [\"../../mtg-jamendo-dataset/all_data/\" + g.replace(\"mp3\", \"npy\") for g in test_files]"
   ]
  },
  {
   "cell_type": "code",
   "execution_count": 26,
   "id": "e9b18b4c",
   "metadata": {},
   "outputs": [
    {
     "data": {
      "text/plain": [
       "(['../../mtg-jamendo-dataset/all_data/93/1393193.npy',\n",
       "  '../../mtg-jamendo-dataset/all_data/37/600037.npy'],\n",
       " ['../../mtg-jamendo-dataset/all_data/62/1190862.npy',\n",
       "  '../../mtg-jamendo-dataset/all_data/38/1149238.npy'])"
      ]
     },
     "execution_count": 26,
     "metadata": {},
     "output_type": "execute_result"
    }
   ],
   "source": [
    "train_np_files[:2], test_np_files[:2]"
   ]
  },
  {
   "cell_type": "code",
   "execution_count": 27,
   "id": "dd90cdfb",
   "metadata": {},
   "outputs": [],
   "source": [
    "import time"
   ]
  },
  {
   "cell_type": "code",
   "execution_count": 28,
   "id": "284ea16b",
   "metadata": {},
   "outputs": [],
   "source": [
    "# SEQ_LEN = 10000\n",
    "SEQ_LEN = 3000\n",
    "# SEQ_LEN = 5000"
   ]
  },
  {
   "cell_type": "code",
   "execution_count": null,
   "id": "865cda14",
   "metadata": {},
   "outputs": [],
   "source": []
  },
  {
   "cell_type": "markdown",
   "id": "534389a3",
   "metadata": {},
   "source": [
    "# Dataset"
   ]
  },
  {
   "cell_type": "code",
   "execution_count": 29,
   "id": "bb187354",
   "metadata": {},
   "outputs": [],
   "source": [
    "from torchvision import transforms"
   ]
  },
  {
   "cell_type": "code",
   "execution_count": 30,
   "id": "d2848d8e",
   "metadata": {},
   "outputs": [],
   "source": [
    "class MusicDataset(torch.utils.data.Dataset):   \n",
    "    def __init__(self, np_file_paths, labels, transforms, seq_len=10000, random_start=True, upsample_factor=10):\n",
    "        self.seq_len = seq_len\n",
    "        self.files = np_file_paths\n",
    "        self.labels = labels\n",
    "        self.transforms = transforms\n",
    "        self.random_start = random_start\n",
    "        self.upsample_factor = upsample_factor\n",
    "        \n",
    "    def __len__(self):\n",
    "        return len(self.files) * self.upsample_factor\n",
    "\n",
    "    def __getitem__(self, index):\n",
    "        effective_index = index % len(self.files)\n",
    "        fname = self.files[effective_index]\n",
    "        x = np.load(fname)\n",
    "        x = torch.from_numpy(x).float()\n",
    "        if self.random_start and x.shape[-1] > self.seq_len:\n",
    "            # longer than seqlen, select random subset\n",
    "            start = random.randint(0, x.shape[-1] - self.seq_len)\n",
    "            x = x[:,start:start+self.seq_len]\n",
    "        else:\n",
    "            x = x[:,:self.seq_len]\n",
    "        old_x = x.unsqueeze(0)\n",
    "        # clamp between bounds and scale\n",
    "        compressed_x = (torch.clamp(old_x, min=-90, max=30) + 90) / 120\n",
    "        \n",
    "        x = self.transforms(compressed_x)\n",
    "        \n",
    "#         item = {\"input\": x, \"label_ids\":[effective_index], \"labels\": torch.tensor(self.labels[effective_index])}\n",
    "        item = {\"input\": x, \"pixel_values\":x}\n",
    "        \n",
    "        return item"
   ]
  },
  {
   "cell_type": "code",
   "execution_count": 31,
   "id": "c9cac8bd",
   "metadata": {},
   "outputs": [],
   "source": [
    "class AddGaussianNoise(object):\n",
    "    def __init__(self, mean=0., std=1.):\n",
    "        self.std = std\n",
    "        self.mean = mean\n",
    "        \n",
    "    def __call__(self, tensor):\n",
    "        return tensor + torch.randn(tensor.size()) * self.std + self.mean\n",
    "    \n",
    "    def __repr__(self):\n",
    "        return self.__class__.__name__ + '(mean={0}, std={1})'.format(self.mean, self.std)"
   ]
  },
  {
   "cell_type": "code",
   "execution_count": 32,
   "id": "a17ea4bd",
   "metadata": {},
   "outputs": [],
   "source": [
    "img_size = 224\n",
    "noise_composed = transforms.Compose([\n",
    "   transforms.Resize((img_size, img_size)),\n",
    "    transforms.Normalize((0.5542), (0.1604)),\n",
    "    AddGaussianNoise(0., 0.04)\n",
    "])\n",
    "nonoise_composed = transforms.Compose([\n",
    "   transforms.Resize((img_size, img_size)),\n",
    "    transforms.Normalize((0.5542), (0.1604))\n",
    "])"
   ]
  },
  {
   "cell_type": "code",
   "execution_count": 33,
   "id": "3532051a",
   "metadata": {},
   "outputs": [],
   "source": [
    "pt_train_dataset = MusicDataset(train_np_files, train_labels, noise_composed, seq_len=SEQ_LEN, random_start=True, upsample_factor=5)\n",
    "pt_test_dataset = MusicDataset(test_np_files, test_labels, nonoise_composed, seq_len=SEQ_LEN, random_start=False, upsample_factor=1)"
   ]
  },
  {
   "cell_type": "code",
   "execution_count": 34,
   "id": "6bc6528e",
   "metadata": {},
   "outputs": [],
   "source": [
    "batch_size = 8"
   ]
  },
  {
   "cell_type": "code",
   "execution_count": 35,
   "id": "c7d3fb8e",
   "metadata": {},
   "outputs": [],
   "source": [
    "train_dl = DataLoader(\n",
    "    pt_train_dataset,\n",
    "    batch_size=batch_size,\n",
    "    shuffle=True,\n",
    "    num_workers=0,\n",
    "    collate_fn=None,\n",
    "    pin_memory=False,\n",
    " )\n",
    "\n",
    "test_dl = DataLoader(\n",
    "    pt_test_dataset,\n",
    "    batch_size=1,\n",
    "    shuffle=False,\n",
    "    num_workers=0,\n",
    "    collate_fn=None,\n",
    "    pin_memory=False,\n",
    " )"
   ]
  },
  {
   "cell_type": "code",
   "execution_count": null,
   "id": "25eac68e",
   "metadata": {},
   "outputs": [],
   "source": []
  },
  {
   "cell_type": "markdown",
   "id": "c59702e3",
   "metadata": {},
   "source": [
    "# Small hface testing"
   ]
  },
  {
   "cell_type": "code",
   "execution_count": 36,
   "id": "5ee6d019",
   "metadata": {},
   "outputs": [],
   "source": [
    "from transformers import ViTMAEConfig, ViTMAEModel, ViTMAEForPreTraining, ViTFeatureExtractor"
   ]
  },
  {
   "cell_type": "code",
   "execution_count": 37,
   "id": "a1a3892e",
   "metadata": {},
   "outputs": [],
   "source": [
    "from transformers import ViTForImageClassification"
   ]
  },
  {
   "cell_type": "code",
   "execution_count": null,
   "id": "3bde8435",
   "metadata": {},
   "outputs": [],
   "source": []
  },
  {
   "cell_type": "code",
   "execution_count": 38,
   "id": "6a665238",
   "metadata": {},
   "outputs": [],
   "source": [
    "configuration = ViTMAEConfig(\n",
    "                    image_size=224, \n",
    "                    num_channels=1, \n",
    "#                     norm_pix_loss=True, \n",
    "                    num_attention_heads=6, \n",
    "                    num_hidden_layers=3,\n",
    "                    decoder_intermediate_size=1024,\n",
    "                    intermediate_size=2048\n",
    ")"
   ]
  },
  {
   "cell_type": "code",
   "execution_count": 39,
   "id": "e5a95468",
   "metadata": {},
   "outputs": [
    {
     "data": {
      "text/plain": [
       "ViTMAEConfig {\n",
       "  \"attention_probs_dropout_prob\": 0.0,\n",
       "  \"decoder_hidden_size\": 512,\n",
       "  \"decoder_intermediate_size\": 1024,\n",
       "  \"decoder_num_attention_heads\": 16,\n",
       "  \"decoder_num_hidden_layers\": 8,\n",
       "  \"hidden_act\": \"gelu\",\n",
       "  \"hidden_dropout_prob\": 0.0,\n",
       "  \"hidden_size\": 768,\n",
       "  \"image_size\": 224,\n",
       "  \"initializer_range\": 0.02,\n",
       "  \"intermediate_size\": 2048,\n",
       "  \"layer_norm_eps\": 1e-12,\n",
       "  \"mask_ratio\": 0.75,\n",
       "  \"model_type\": \"vit_mae\",\n",
       "  \"norm_pix_loss\": false,\n",
       "  \"num_attention_heads\": 6,\n",
       "  \"num_channels\": 1,\n",
       "  \"num_hidden_layers\": 3,\n",
       "  \"patch_size\": 16,\n",
       "  \"qkv_bias\": true,\n",
       "  \"transformers_version\": \"4.23.1\"\n",
       "}"
      ]
     },
     "execution_count": 39,
     "metadata": {},
     "output_type": "execute_result"
    }
   ],
   "source": [
    "configuration"
   ]
  },
  {
   "cell_type": "code",
   "execution_count": 40,
   "id": "21b81053",
   "metadata": {},
   "outputs": [],
   "source": [
    "# model = ViTMAEModel(configuration)\n",
    "model = ViTMAEForPreTraining(configuration)"
   ]
  },
  {
   "cell_type": "code",
   "execution_count": 41,
   "id": "b75fa91d",
   "metadata": {},
   "outputs": [
    {
     "data": {
      "text/plain": [
       "ViTMAEForPreTraining(\n",
       "  (vit): ViTMAEModel(\n",
       "    (embeddings): ViTMAEEmbeddings(\n",
       "      (patch_embeddings): ViTMAEPatchEmbeddings(\n",
       "        (projection): Conv2d(1, 768, kernel_size=(16, 16), stride=(16, 16))\n",
       "      )\n",
       "    )\n",
       "    (encoder): ViTMAEEncoder(\n",
       "      (layer): ModuleList(\n",
       "        (0): ViTMAELayer(\n",
       "          (attention): ViTMAEAttention(\n",
       "            (attention): ViTMAESelfAttention(\n",
       "              (query): Linear(in_features=768, out_features=768, bias=True)\n",
       "              (key): Linear(in_features=768, out_features=768, bias=True)\n",
       "              (value): Linear(in_features=768, out_features=768, bias=True)\n",
       "              (dropout): Dropout(p=0.0, inplace=False)\n",
       "            )\n",
       "            (output): ViTMAESelfOutput(\n",
       "              (dense): Linear(in_features=768, out_features=768, bias=True)\n",
       "              (dropout): Dropout(p=0.0, inplace=False)\n",
       "            )\n",
       "          )\n",
       "          (intermediate): ViTMAEIntermediate(\n",
       "            (dense): Linear(in_features=768, out_features=2048, bias=True)\n",
       "            (intermediate_act_fn): GELUActivation()\n",
       "          )\n",
       "          (output): ViTMAEOutput(\n",
       "            (dense): Linear(in_features=2048, out_features=768, bias=True)\n",
       "            (dropout): Dropout(p=0.0, inplace=False)\n",
       "          )\n",
       "          (layernorm_before): LayerNorm((768,), eps=1e-12, elementwise_affine=True)\n",
       "          (layernorm_after): LayerNorm((768,), eps=1e-12, elementwise_affine=True)\n",
       "        )\n",
       "        (1): ViTMAELayer(\n",
       "          (attention): ViTMAEAttention(\n",
       "            (attention): ViTMAESelfAttention(\n",
       "              (query): Linear(in_features=768, out_features=768, bias=True)\n",
       "              (key): Linear(in_features=768, out_features=768, bias=True)\n",
       "              (value): Linear(in_features=768, out_features=768, bias=True)\n",
       "              (dropout): Dropout(p=0.0, inplace=False)\n",
       "            )\n",
       "            (output): ViTMAESelfOutput(\n",
       "              (dense): Linear(in_features=768, out_features=768, bias=True)\n",
       "              (dropout): Dropout(p=0.0, inplace=False)\n",
       "            )\n",
       "          )\n",
       "          (intermediate): ViTMAEIntermediate(\n",
       "            (dense): Linear(in_features=768, out_features=2048, bias=True)\n",
       "            (intermediate_act_fn): GELUActivation()\n",
       "          )\n",
       "          (output): ViTMAEOutput(\n",
       "            (dense): Linear(in_features=2048, out_features=768, bias=True)\n",
       "            (dropout): Dropout(p=0.0, inplace=False)\n",
       "          )\n",
       "          (layernorm_before): LayerNorm((768,), eps=1e-12, elementwise_affine=True)\n",
       "          (layernorm_after): LayerNorm((768,), eps=1e-12, elementwise_affine=True)\n",
       "        )\n",
       "        (2): ViTMAELayer(\n",
       "          (attention): ViTMAEAttention(\n",
       "            (attention): ViTMAESelfAttention(\n",
       "              (query): Linear(in_features=768, out_features=768, bias=True)\n",
       "              (key): Linear(in_features=768, out_features=768, bias=True)\n",
       "              (value): Linear(in_features=768, out_features=768, bias=True)\n",
       "              (dropout): Dropout(p=0.0, inplace=False)\n",
       "            )\n",
       "            (output): ViTMAESelfOutput(\n",
       "              (dense): Linear(in_features=768, out_features=768, bias=True)\n",
       "              (dropout): Dropout(p=0.0, inplace=False)\n",
       "            )\n",
       "          )\n",
       "          (intermediate): ViTMAEIntermediate(\n",
       "            (dense): Linear(in_features=768, out_features=2048, bias=True)\n",
       "            (intermediate_act_fn): GELUActivation()\n",
       "          )\n",
       "          (output): ViTMAEOutput(\n",
       "            (dense): Linear(in_features=2048, out_features=768, bias=True)\n",
       "            (dropout): Dropout(p=0.0, inplace=False)\n",
       "          )\n",
       "          (layernorm_before): LayerNorm((768,), eps=1e-12, elementwise_affine=True)\n",
       "          (layernorm_after): LayerNorm((768,), eps=1e-12, elementwise_affine=True)\n",
       "        )\n",
       "      )\n",
       "    )\n",
       "    (layernorm): LayerNorm((768,), eps=1e-12, elementwise_affine=True)\n",
       "  )\n",
       "  (decoder): ViTMAEDecoder(\n",
       "    (decoder_embed): Linear(in_features=768, out_features=512, bias=True)\n",
       "    (decoder_layers): ModuleList(\n",
       "      (0): ViTMAELayer(\n",
       "        (attention): ViTMAEAttention(\n",
       "          (attention): ViTMAESelfAttention(\n",
       "            (query): Linear(in_features=512, out_features=512, bias=True)\n",
       "            (key): Linear(in_features=512, out_features=512, bias=True)\n",
       "            (value): Linear(in_features=512, out_features=512, bias=True)\n",
       "            (dropout): Dropout(p=0.0, inplace=False)\n",
       "          )\n",
       "          (output): ViTMAESelfOutput(\n",
       "            (dense): Linear(in_features=512, out_features=512, bias=True)\n",
       "            (dropout): Dropout(p=0.0, inplace=False)\n",
       "          )\n",
       "        )\n",
       "        (intermediate): ViTMAEIntermediate(\n",
       "          (dense): Linear(in_features=512, out_features=1024, bias=True)\n",
       "          (intermediate_act_fn): GELUActivation()\n",
       "        )\n",
       "        (output): ViTMAEOutput(\n",
       "          (dense): Linear(in_features=1024, out_features=512, bias=True)\n",
       "          (dropout): Dropout(p=0.0, inplace=False)\n",
       "        )\n",
       "        (layernorm_before): LayerNorm((512,), eps=1e-12, elementwise_affine=True)\n",
       "        (layernorm_after): LayerNorm((512,), eps=1e-12, elementwise_affine=True)\n",
       "      )\n",
       "      (1): ViTMAELayer(\n",
       "        (attention): ViTMAEAttention(\n",
       "          (attention): ViTMAESelfAttention(\n",
       "            (query): Linear(in_features=512, out_features=512, bias=True)\n",
       "            (key): Linear(in_features=512, out_features=512, bias=True)\n",
       "            (value): Linear(in_features=512, out_features=512, bias=True)\n",
       "            (dropout): Dropout(p=0.0, inplace=False)\n",
       "          )\n",
       "          (output): ViTMAESelfOutput(\n",
       "            (dense): Linear(in_features=512, out_features=512, bias=True)\n",
       "            (dropout): Dropout(p=0.0, inplace=False)\n",
       "          )\n",
       "        )\n",
       "        (intermediate): ViTMAEIntermediate(\n",
       "          (dense): Linear(in_features=512, out_features=1024, bias=True)\n",
       "          (intermediate_act_fn): GELUActivation()\n",
       "        )\n",
       "        (output): ViTMAEOutput(\n",
       "          (dense): Linear(in_features=1024, out_features=512, bias=True)\n",
       "          (dropout): Dropout(p=0.0, inplace=False)\n",
       "        )\n",
       "        (layernorm_before): LayerNorm((512,), eps=1e-12, elementwise_affine=True)\n",
       "        (layernorm_after): LayerNorm((512,), eps=1e-12, elementwise_affine=True)\n",
       "      )\n",
       "      (2): ViTMAELayer(\n",
       "        (attention): ViTMAEAttention(\n",
       "          (attention): ViTMAESelfAttention(\n",
       "            (query): Linear(in_features=512, out_features=512, bias=True)\n",
       "            (key): Linear(in_features=512, out_features=512, bias=True)\n",
       "            (value): Linear(in_features=512, out_features=512, bias=True)\n",
       "            (dropout): Dropout(p=0.0, inplace=False)\n",
       "          )\n",
       "          (output): ViTMAESelfOutput(\n",
       "            (dense): Linear(in_features=512, out_features=512, bias=True)\n",
       "            (dropout): Dropout(p=0.0, inplace=False)\n",
       "          )\n",
       "        )\n",
       "        (intermediate): ViTMAEIntermediate(\n",
       "          (dense): Linear(in_features=512, out_features=1024, bias=True)\n",
       "          (intermediate_act_fn): GELUActivation()\n",
       "        )\n",
       "        (output): ViTMAEOutput(\n",
       "          (dense): Linear(in_features=1024, out_features=512, bias=True)\n",
       "          (dropout): Dropout(p=0.0, inplace=False)\n",
       "        )\n",
       "        (layernorm_before): LayerNorm((512,), eps=1e-12, elementwise_affine=True)\n",
       "        (layernorm_after): LayerNorm((512,), eps=1e-12, elementwise_affine=True)\n",
       "      )\n",
       "      (3): ViTMAELayer(\n",
       "        (attention): ViTMAEAttention(\n",
       "          (attention): ViTMAESelfAttention(\n",
       "            (query): Linear(in_features=512, out_features=512, bias=True)\n",
       "            (key): Linear(in_features=512, out_features=512, bias=True)\n",
       "            (value): Linear(in_features=512, out_features=512, bias=True)\n",
       "            (dropout): Dropout(p=0.0, inplace=False)\n",
       "          )\n",
       "          (output): ViTMAESelfOutput(\n",
       "            (dense): Linear(in_features=512, out_features=512, bias=True)\n",
       "            (dropout): Dropout(p=0.0, inplace=False)\n",
       "          )\n",
       "        )\n",
       "        (intermediate): ViTMAEIntermediate(\n",
       "          (dense): Linear(in_features=512, out_features=1024, bias=True)\n",
       "          (intermediate_act_fn): GELUActivation()\n",
       "        )\n",
       "        (output): ViTMAEOutput(\n",
       "          (dense): Linear(in_features=1024, out_features=512, bias=True)\n",
       "          (dropout): Dropout(p=0.0, inplace=False)\n",
       "        )\n",
       "        (layernorm_before): LayerNorm((512,), eps=1e-12, elementwise_affine=True)\n",
       "        (layernorm_after): LayerNorm((512,), eps=1e-12, elementwise_affine=True)\n",
       "      )\n",
       "      (4): ViTMAELayer(\n",
       "        (attention): ViTMAEAttention(\n",
       "          (attention): ViTMAESelfAttention(\n",
       "            (query): Linear(in_features=512, out_features=512, bias=True)\n",
       "            (key): Linear(in_features=512, out_features=512, bias=True)\n",
       "            (value): Linear(in_features=512, out_features=512, bias=True)\n",
       "            (dropout): Dropout(p=0.0, inplace=False)\n",
       "          )\n",
       "          (output): ViTMAESelfOutput(\n",
       "            (dense): Linear(in_features=512, out_features=512, bias=True)\n",
       "            (dropout): Dropout(p=0.0, inplace=False)\n",
       "          )\n",
       "        )\n",
       "        (intermediate): ViTMAEIntermediate(\n",
       "          (dense): Linear(in_features=512, out_features=1024, bias=True)\n",
       "          (intermediate_act_fn): GELUActivation()\n",
       "        )\n",
       "        (output): ViTMAEOutput(\n",
       "          (dense): Linear(in_features=1024, out_features=512, bias=True)\n",
       "          (dropout): Dropout(p=0.0, inplace=False)\n",
       "        )\n",
       "        (layernorm_before): LayerNorm((512,), eps=1e-12, elementwise_affine=True)\n",
       "        (layernorm_after): LayerNorm((512,), eps=1e-12, elementwise_affine=True)\n",
       "      )\n",
       "      (5): ViTMAELayer(\n",
       "        (attention): ViTMAEAttention(\n",
       "          (attention): ViTMAESelfAttention(\n",
       "            (query): Linear(in_features=512, out_features=512, bias=True)\n",
       "            (key): Linear(in_features=512, out_features=512, bias=True)\n",
       "            (value): Linear(in_features=512, out_features=512, bias=True)\n",
       "            (dropout): Dropout(p=0.0, inplace=False)\n",
       "          )\n",
       "          (output): ViTMAESelfOutput(\n",
       "            (dense): Linear(in_features=512, out_features=512, bias=True)\n",
       "            (dropout): Dropout(p=0.0, inplace=False)\n",
       "          )\n",
       "        )\n",
       "        (intermediate): ViTMAEIntermediate(\n",
       "          (dense): Linear(in_features=512, out_features=1024, bias=True)\n",
       "          (intermediate_act_fn): GELUActivation()\n",
       "        )\n",
       "        (output): ViTMAEOutput(\n",
       "          (dense): Linear(in_features=1024, out_features=512, bias=True)\n",
       "          (dropout): Dropout(p=0.0, inplace=False)\n",
       "        )\n",
       "        (layernorm_before): LayerNorm((512,), eps=1e-12, elementwise_affine=True)\n",
       "        (layernorm_after): LayerNorm((512,), eps=1e-12, elementwise_affine=True)\n",
       "      )\n",
       "      (6): ViTMAELayer(\n",
       "        (attention): ViTMAEAttention(\n",
       "          (attention): ViTMAESelfAttention(\n",
       "            (query): Linear(in_features=512, out_features=512, bias=True)\n",
       "            (key): Linear(in_features=512, out_features=512, bias=True)\n",
       "            (value): Linear(in_features=512, out_features=512, bias=True)\n",
       "            (dropout): Dropout(p=0.0, inplace=False)\n",
       "          )\n",
       "          (output): ViTMAESelfOutput(\n",
       "            (dense): Linear(in_features=512, out_features=512, bias=True)\n",
       "            (dropout): Dropout(p=0.0, inplace=False)\n",
       "          )\n",
       "        )\n",
       "        (intermediate): ViTMAEIntermediate(\n",
       "          (dense): Linear(in_features=512, out_features=1024, bias=True)\n",
       "          (intermediate_act_fn): GELUActivation()\n",
       "        )\n",
       "        (output): ViTMAEOutput(\n",
       "          (dense): Linear(in_features=1024, out_features=512, bias=True)\n",
       "          (dropout): Dropout(p=0.0, inplace=False)\n",
       "        )\n",
       "        (layernorm_before): LayerNorm((512,), eps=1e-12, elementwise_affine=True)\n",
       "        (layernorm_after): LayerNorm((512,), eps=1e-12, elementwise_affine=True)\n",
       "      )\n",
       "      (7): ViTMAELayer(\n",
       "        (attention): ViTMAEAttention(\n",
       "          (attention): ViTMAESelfAttention(\n",
       "            (query): Linear(in_features=512, out_features=512, bias=True)\n",
       "            (key): Linear(in_features=512, out_features=512, bias=True)\n",
       "            (value): Linear(in_features=512, out_features=512, bias=True)\n",
       "            (dropout): Dropout(p=0.0, inplace=False)\n",
       "          )\n",
       "          (output): ViTMAESelfOutput(\n",
       "            (dense): Linear(in_features=512, out_features=512, bias=True)\n",
       "            (dropout): Dropout(p=0.0, inplace=False)\n",
       "          )\n",
       "        )\n",
       "        (intermediate): ViTMAEIntermediate(\n",
       "          (dense): Linear(in_features=512, out_features=1024, bias=True)\n",
       "          (intermediate_act_fn): GELUActivation()\n",
       "        )\n",
       "        (output): ViTMAEOutput(\n",
       "          (dense): Linear(in_features=1024, out_features=512, bias=True)\n",
       "          (dropout): Dropout(p=0.0, inplace=False)\n",
       "        )\n",
       "        (layernorm_before): LayerNorm((512,), eps=1e-12, elementwise_affine=True)\n",
       "        (layernorm_after): LayerNorm((512,), eps=1e-12, elementwise_affine=True)\n",
       "      )\n",
       "    )\n",
       "    (decoder_norm): LayerNorm((512,), eps=1e-12, elementwise_affine=True)\n",
       "    (decoder_pred): Linear(in_features=512, out_features=256, bias=True)\n",
       "  )\n",
       ")"
      ]
     },
     "execution_count": 41,
     "metadata": {},
     "output_type": "execute_result"
    }
   ],
   "source": [
    "model"
   ]
  },
  {
   "cell_type": "code",
   "execution_count": 42,
   "id": "f905b633",
   "metadata": {},
   "outputs": [
    {
     "data": {
      "text/plain": [
       "torch.Size([1, 224, 224])"
      ]
     },
     "execution_count": 42,
     "metadata": {},
     "output_type": "execute_result"
    }
   ],
   "source": [
    "pt_train_dataset[0]['input'].shape"
   ]
  },
  {
   "cell_type": "code",
   "execution_count": 43,
   "id": "b392e591",
   "metadata": {},
   "outputs": [],
   "source": [
    "ii = pt_train_dataset[0]['input']\n",
    "iii = torch.stack([ii, ii, ii])"
   ]
  },
  {
   "cell_type": "code",
   "execution_count": 44,
   "id": "797e9287",
   "metadata": {},
   "outputs": [
    {
     "data": {
      "text/plain": [
       "torch.Size([3, 1, 224, 224])"
      ]
     },
     "execution_count": 44,
     "metadata": {},
     "output_type": "execute_result"
    }
   ],
   "source": [
    "iii.shape"
   ]
  },
  {
   "cell_type": "code",
   "execution_count": 46,
   "id": "9fe04409",
   "metadata": {},
   "outputs": [],
   "source": [
    "# model(iii)"
   ]
  },
  {
   "cell_type": "code",
   "execution_count": null,
   "id": "faa5ec25",
   "metadata": {},
   "outputs": [],
   "source": []
  },
  {
   "cell_type": "code",
   "execution_count": 47,
   "id": "1b4e0077",
   "metadata": {},
   "outputs": [],
   "source": [
    "from transformers import Trainer, TrainingArguments\n",
    "from transformers.trainer_utils import get_last_checkpoint"
   ]
  },
  {
   "cell_type": "code",
   "execution_count": 48,
   "id": "70d5e85f",
   "metadata": {},
   "outputs": [],
   "source": [
    "training_args = TrainingArguments(\n",
    "    \"hface_test_v0\",\n",
    "#     learning_rate=1.5e-4,\n",
    "    learning_rate=5e-3,\n",
    "    weight_decay=0.05,\n",
    "    num_train_epochs=100,\n",
    "    per_device_train_batch_size=8,\n",
    "    per_gpu_eval_batch_size=1,\n",
    "    logging_steps=10,\n",
    "    lr_scheduler_type=\"cosine\",\n",
    "    warmup_ratio=0.05,\n",
    "    evaluation_strategy=\"epoch\",\n",
    "    save_strategy=\"epoch\",\n",
    "    load_best_model_at_end=True,\n",
    "    save_total_limit=3,\n",
    "    label_names=[\"pixel_values\"],\n",
    ")"
   ]
  },
  {
   "cell_type": "code",
   "execution_count": 49,
   "id": "ca085bf4",
   "metadata": {},
   "outputs": [],
   "source": [
    "def collate_fn(examples):\n",
    "    pixel_values = torch.stack([example[\"pixel_values\"] for example in examples])\n",
    "    return {\"pixel_values\": pixel_values}"
   ]
  },
  {
   "cell_type": "code",
   "execution_count": 50,
   "id": "2b2e8942",
   "metadata": {},
   "outputs": [],
   "source": [
    "trainer = Trainer(\n",
    "        model=model,\n",
    "        args=training_args,\n",
    "        train_dataset=pt_train_dataset,\n",
    "        eval_dataset=pt_test_dataset,\n",
    "        tokenizer=ViTFeatureExtractor(do_resize=False, do_normalize=False),\n",
    "        data_collator=collate_fn,\n",
    "    )"
   ]
  },
  {
   "cell_type": "code",
   "execution_count": 51,
   "id": "ee427177",
   "metadata": {},
   "outputs": [
    {
     "name": "stderr",
     "output_type": "stream",
     "text": [
      "C:\\Users\\aag12\\anaconda3\\envs\\ml_env\\lib\\site-packages\\transformers\\optimization.py:306: FutureWarning: This implementation of AdamW is deprecated and will be removed in a future version. Use the PyTorch implementation torch.optim.AdamW instead, or set `no_deprecation_warning=True` to disable this warning\n",
      "  warnings.warn(\n",
      "***** Running training *****\n",
      "  Num examples = 11000\n",
      "  Num Epochs = 100\n",
      "  Instantaneous batch size per device = 8\n",
      "  Total train batch size (w. parallel, distributed & accumulation) = 8\n",
      "  Gradient Accumulation steps = 1\n",
      "  Total optimization steps = 137500\n",
      "The following columns in the training set don't have a corresponding argument in `ViTMAEForPreTraining.forward` and have been ignored: input. If input are not expected by `ViTMAEForPreTraining.forward`,  you can safely ignore this message.\n"
     ]
    },
    {
     "data": {
      "text/html": [
       "\n",
       "    <div>\n",
       "      \n",
       "      <progress value='137500' max='137500' style='width:300px; height:20px; vertical-align: middle;'></progress>\n",
       "      [137500/137500 4:47:14, Epoch 100/100]\n",
       "    </div>\n",
       "    <table border=\"1\" class=\"dataframe\">\n",
       "  <thead>\n",
       " <tr style=\"text-align: left;\">\n",
       "      <th>Epoch</th>\n",
       "      <th>Training Loss</th>\n",
       "      <th>Validation Loss</th>\n",
       "    </tr>\n",
       "  </thead>\n",
       "  <tbody>\n",
       "    <tr>\n",
       "      <td>1</td>\n",
       "      <td>0.327600</td>\n",
       "      <td>0.419200</td>\n",
       "    </tr>\n",
       "    <tr>\n",
       "      <td>2</td>\n",
       "      <td>0.487600</td>\n",
       "      <td>0.547053</td>\n",
       "    </tr>\n",
       "    <tr>\n",
       "      <td>3</td>\n",
       "      <td>0.473300</td>\n",
       "      <td>0.659032</td>\n",
       "    </tr>\n",
       "    <tr>\n",
       "      <td>4</td>\n",
       "      <td>0.395400</td>\n",
       "      <td>0.556165</td>\n",
       "    </tr>\n",
       "    <tr>\n",
       "      <td>5</td>\n",
       "      <td>0.398500</td>\n",
       "      <td>0.580979</td>\n",
       "    </tr>\n",
       "    <tr>\n",
       "      <td>6</td>\n",
       "      <td>0.415900</td>\n",
       "      <td>0.619614</td>\n",
       "    </tr>\n",
       "    <tr>\n",
       "      <td>7</td>\n",
       "      <td>0.451400</td>\n",
       "      <td>0.578727</td>\n",
       "    </tr>\n",
       "    <tr>\n",
       "      <td>8</td>\n",
       "      <td>0.368200</td>\n",
       "      <td>0.524327</td>\n",
       "    </tr>\n",
       "    <tr>\n",
       "      <td>9</td>\n",
       "      <td>0.358500</td>\n",
       "      <td>0.469495</td>\n",
       "    </tr>\n",
       "    <tr>\n",
       "      <td>10</td>\n",
       "      <td>0.374500</td>\n",
       "      <td>0.482712</td>\n",
       "    </tr>\n",
       "    <tr>\n",
       "      <td>11</td>\n",
       "      <td>0.430100</td>\n",
       "      <td>0.551811</td>\n",
       "    </tr>\n",
       "    <tr>\n",
       "      <td>12</td>\n",
       "      <td>0.342000</td>\n",
       "      <td>0.463263</td>\n",
       "    </tr>\n",
       "    <tr>\n",
       "      <td>13</td>\n",
       "      <td>0.513400</td>\n",
       "      <td>0.619925</td>\n",
       "    </tr>\n",
       "    <tr>\n",
       "      <td>14</td>\n",
       "      <td>0.284400</td>\n",
       "      <td>0.501139</td>\n",
       "    </tr>\n",
       "    <tr>\n",
       "      <td>15</td>\n",
       "      <td>0.305900</td>\n",
       "      <td>0.471713</td>\n",
       "    </tr>\n",
       "    <tr>\n",
       "      <td>16</td>\n",
       "      <td>0.424200</td>\n",
       "      <td>0.481747</td>\n",
       "    </tr>\n",
       "    <tr>\n",
       "      <td>17</td>\n",
       "      <td>0.371200</td>\n",
       "      <td>0.471042</td>\n",
       "    </tr>\n",
       "    <tr>\n",
       "      <td>18</td>\n",
       "      <td>0.292500</td>\n",
       "      <td>0.462118</td>\n",
       "    </tr>\n",
       "    <tr>\n",
       "      <td>19</td>\n",
       "      <td>0.407800</td>\n",
       "      <td>0.470300</td>\n",
       "    </tr>\n",
       "    <tr>\n",
       "      <td>20</td>\n",
       "      <td>0.394000</td>\n",
       "      <td>0.477383</td>\n",
       "    </tr>\n",
       "    <tr>\n",
       "      <td>21</td>\n",
       "      <td>0.348600</td>\n",
       "      <td>0.464780</td>\n",
       "    </tr>\n",
       "    <tr>\n",
       "      <td>22</td>\n",
       "      <td>0.318000</td>\n",
       "      <td>0.477360</td>\n",
       "    </tr>\n",
       "    <tr>\n",
       "      <td>23</td>\n",
       "      <td>0.310500</td>\n",
       "      <td>0.468399</td>\n",
       "    </tr>\n",
       "    <tr>\n",
       "      <td>24</td>\n",
       "      <td>0.289900</td>\n",
       "      <td>0.465891</td>\n",
       "    </tr>\n",
       "    <tr>\n",
       "      <td>25</td>\n",
       "      <td>0.408700</td>\n",
       "      <td>0.597800</td>\n",
       "    </tr>\n",
       "    <tr>\n",
       "      <td>26</td>\n",
       "      <td>0.359200</td>\n",
       "      <td>0.472725</td>\n",
       "    </tr>\n",
       "    <tr>\n",
       "      <td>27</td>\n",
       "      <td>0.495200</td>\n",
       "      <td>0.695403</td>\n",
       "    </tr>\n",
       "    <tr>\n",
       "      <td>28</td>\n",
       "      <td>0.377100</td>\n",
       "      <td>0.493932</td>\n",
       "    </tr>\n",
       "    <tr>\n",
       "      <td>29</td>\n",
       "      <td>0.340300</td>\n",
       "      <td>0.562441</td>\n",
       "    </tr>\n",
       "    <tr>\n",
       "      <td>30</td>\n",
       "      <td>0.285100</td>\n",
       "      <td>0.467039</td>\n",
       "    </tr>\n",
       "    <tr>\n",
       "      <td>31</td>\n",
       "      <td>0.339500</td>\n",
       "      <td>0.487563</td>\n",
       "    </tr>\n",
       "    <tr>\n",
       "      <td>32</td>\n",
       "      <td>0.339500</td>\n",
       "      <td>0.457743</td>\n",
       "    </tr>\n",
       "    <tr>\n",
       "      <td>33</td>\n",
       "      <td>0.331300</td>\n",
       "      <td>0.471095</td>\n",
       "    </tr>\n",
       "    <tr>\n",
       "      <td>34</td>\n",
       "      <td>0.284200</td>\n",
       "      <td>0.458214</td>\n",
       "    </tr>\n",
       "    <tr>\n",
       "      <td>35</td>\n",
       "      <td>0.362100</td>\n",
       "      <td>0.471185</td>\n",
       "    </tr>\n",
       "    <tr>\n",
       "      <td>36</td>\n",
       "      <td>0.323600</td>\n",
       "      <td>0.468192</td>\n",
       "    </tr>\n",
       "    <tr>\n",
       "      <td>37</td>\n",
       "      <td>0.397200</td>\n",
       "      <td>0.459378</td>\n",
       "    </tr>\n",
       "    <tr>\n",
       "      <td>38</td>\n",
       "      <td>0.315200</td>\n",
       "      <td>0.472611</td>\n",
       "    </tr>\n",
       "    <tr>\n",
       "      <td>39</td>\n",
       "      <td>0.345100</td>\n",
       "      <td>0.484868</td>\n",
       "    </tr>\n",
       "    <tr>\n",
       "      <td>40</td>\n",
       "      <td>0.322400</td>\n",
       "      <td>0.476628</td>\n",
       "    </tr>\n",
       "    <tr>\n",
       "      <td>41</td>\n",
       "      <td>0.349800</td>\n",
       "      <td>0.470492</td>\n",
       "    </tr>\n",
       "    <tr>\n",
       "      <td>42</td>\n",
       "      <td>0.324500</td>\n",
       "      <td>0.465149</td>\n",
       "    </tr>\n",
       "    <tr>\n",
       "      <td>43</td>\n",
       "      <td>0.346300</td>\n",
       "      <td>0.472690</td>\n",
       "    </tr>\n",
       "    <tr>\n",
       "      <td>44</td>\n",
       "      <td>0.356500</td>\n",
       "      <td>0.462760</td>\n",
       "    </tr>\n",
       "    <tr>\n",
       "      <td>45</td>\n",
       "      <td>0.390400</td>\n",
       "      <td>0.464789</td>\n",
       "    </tr>\n",
       "    <tr>\n",
       "      <td>46</td>\n",
       "      <td>0.346300</td>\n",
       "      <td>0.469972</td>\n",
       "    </tr>\n",
       "    <tr>\n",
       "      <td>47</td>\n",
       "      <td>0.368800</td>\n",
       "      <td>0.465620</td>\n",
       "    </tr>\n",
       "    <tr>\n",
       "      <td>48</td>\n",
       "      <td>0.322300</td>\n",
       "      <td>0.478106</td>\n",
       "    </tr>\n",
       "    <tr>\n",
       "      <td>49</td>\n",
       "      <td>0.259800</td>\n",
       "      <td>0.464069</td>\n",
       "    </tr>\n",
       "    <tr>\n",
       "      <td>50</td>\n",
       "      <td>0.353300</td>\n",
       "      <td>0.468035</td>\n",
       "    </tr>\n",
       "    <tr>\n",
       "      <td>51</td>\n",
       "      <td>0.388000</td>\n",
       "      <td>0.481816</td>\n",
       "    </tr>\n",
       "    <tr>\n",
       "      <td>52</td>\n",
       "      <td>0.277800</td>\n",
       "      <td>0.460699</td>\n",
       "    </tr>\n",
       "    <tr>\n",
       "      <td>53</td>\n",
       "      <td>0.360700</td>\n",
       "      <td>0.479803</td>\n",
       "    </tr>\n",
       "    <tr>\n",
       "      <td>54</td>\n",
       "      <td>0.324000</td>\n",
       "      <td>0.461353</td>\n",
       "    </tr>\n",
       "    <tr>\n",
       "      <td>55</td>\n",
       "      <td>0.318000</td>\n",
       "      <td>0.456814</td>\n",
       "    </tr>\n",
       "    <tr>\n",
       "      <td>56</td>\n",
       "      <td>0.284900</td>\n",
       "      <td>0.453185</td>\n",
       "    </tr>\n",
       "    <tr>\n",
       "      <td>57</td>\n",
       "      <td>0.305500</td>\n",
       "      <td>0.452215</td>\n",
       "    </tr>\n",
       "    <tr>\n",
       "      <td>58</td>\n",
       "      <td>0.338900</td>\n",
       "      <td>0.451872</td>\n",
       "    </tr>\n",
       "    <tr>\n",
       "      <td>59</td>\n",
       "      <td>0.312400</td>\n",
       "      <td>0.451264</td>\n",
       "    </tr>\n",
       "    <tr>\n",
       "      <td>60</td>\n",
       "      <td>0.352600</td>\n",
       "      <td>0.452942</td>\n",
       "    </tr>\n",
       "    <tr>\n",
       "      <td>61</td>\n",
       "      <td>0.291900</td>\n",
       "      <td>0.450536</td>\n",
       "    </tr>\n",
       "    <tr>\n",
       "      <td>62</td>\n",
       "      <td>0.351500</td>\n",
       "      <td>0.445770</td>\n",
       "    </tr>\n",
       "    <tr>\n",
       "      <td>63</td>\n",
       "      <td>0.310900</td>\n",
       "      <td>0.447327</td>\n",
       "    </tr>\n",
       "    <tr>\n",
       "      <td>64</td>\n",
       "      <td>0.271200</td>\n",
       "      <td>0.435681</td>\n",
       "    </tr>\n",
       "    <tr>\n",
       "      <td>65</td>\n",
       "      <td>0.328100</td>\n",
       "      <td>0.446085</td>\n",
       "    </tr>\n",
       "    <tr>\n",
       "      <td>66</td>\n",
       "      <td>0.267400</td>\n",
       "      <td>0.458439</td>\n",
       "    </tr>\n",
       "    <tr>\n",
       "      <td>67</td>\n",
       "      <td>0.273900</td>\n",
       "      <td>0.446298</td>\n",
       "    </tr>\n",
       "    <tr>\n",
       "      <td>68</td>\n",
       "      <td>0.359000</td>\n",
       "      <td>0.443231</td>\n",
       "    </tr>\n",
       "    <tr>\n",
       "      <td>69</td>\n",
       "      <td>0.338800</td>\n",
       "      <td>0.447765</td>\n",
       "    </tr>\n",
       "    <tr>\n",
       "      <td>70</td>\n",
       "      <td>0.274200</td>\n",
       "      <td>0.430797</td>\n",
       "    </tr>\n",
       "    <tr>\n",
       "      <td>71</td>\n",
       "      <td>0.289200</td>\n",
       "      <td>0.427928</td>\n",
       "    </tr>\n",
       "    <tr>\n",
       "      <td>72</td>\n",
       "      <td>0.341700</td>\n",
       "      <td>0.430327</td>\n",
       "    </tr>\n",
       "    <tr>\n",
       "      <td>73</td>\n",
       "      <td>0.299900</td>\n",
       "      <td>0.429264</td>\n",
       "    </tr>\n",
       "    <tr>\n",
       "      <td>74</td>\n",
       "      <td>0.267000</td>\n",
       "      <td>0.424126</td>\n",
       "    </tr>\n",
       "    <tr>\n",
       "      <td>75</td>\n",
       "      <td>0.301600</td>\n",
       "      <td>0.437881</td>\n",
       "    </tr>\n",
       "    <tr>\n",
       "      <td>76</td>\n",
       "      <td>0.295000</td>\n",
       "      <td>0.446910</td>\n",
       "    </tr>\n",
       "    <tr>\n",
       "      <td>77</td>\n",
       "      <td>0.353600</td>\n",
       "      <td>0.425171</td>\n",
       "    </tr>\n",
       "    <tr>\n",
       "      <td>78</td>\n",
       "      <td>0.273400</td>\n",
       "      <td>0.437160</td>\n",
       "    </tr>\n",
       "    <tr>\n",
       "      <td>79</td>\n",
       "      <td>0.287500</td>\n",
       "      <td>0.414908</td>\n",
       "    </tr>\n",
       "    <tr>\n",
       "      <td>80</td>\n",
       "      <td>0.260400</td>\n",
       "      <td>0.412606</td>\n",
       "    </tr>\n",
       "    <tr>\n",
       "      <td>81</td>\n",
       "      <td>0.267500</td>\n",
       "      <td>0.412836</td>\n",
       "    </tr>\n",
       "    <tr>\n",
       "      <td>82</td>\n",
       "      <td>0.251200</td>\n",
       "      <td>0.401676</td>\n",
       "    </tr>\n",
       "    <tr>\n",
       "      <td>83</td>\n",
       "      <td>0.278400</td>\n",
       "      <td>0.406023</td>\n",
       "    </tr>\n",
       "    <tr>\n",
       "      <td>84</td>\n",
       "      <td>0.271700</td>\n",
       "      <td>0.397658</td>\n",
       "    </tr>\n",
       "    <tr>\n",
       "      <td>85</td>\n",
       "      <td>0.325600</td>\n",
       "      <td>0.402674</td>\n",
       "    </tr>\n",
       "    <tr>\n",
       "      <td>86</td>\n",
       "      <td>0.248900</td>\n",
       "      <td>0.400716</td>\n",
       "    </tr>\n",
       "    <tr>\n",
       "      <td>87</td>\n",
       "      <td>0.270600</td>\n",
       "      <td>0.405151</td>\n",
       "    </tr>\n",
       "    <tr>\n",
       "      <td>88</td>\n",
       "      <td>0.254000</td>\n",
       "      <td>0.397091</td>\n",
       "    </tr>\n",
       "    <tr>\n",
       "      <td>89</td>\n",
       "      <td>0.252100</td>\n",
       "      <td>0.391885</td>\n",
       "    </tr>\n",
       "    <tr>\n",
       "      <td>90</td>\n",
       "      <td>0.306000</td>\n",
       "      <td>0.388956</td>\n",
       "    </tr>\n",
       "    <tr>\n",
       "      <td>91</td>\n",
       "      <td>0.273600</td>\n",
       "      <td>0.393694</td>\n",
       "    </tr>\n",
       "    <tr>\n",
       "      <td>92</td>\n",
       "      <td>0.262100</td>\n",
       "      <td>0.383252</td>\n",
       "    </tr>\n",
       "    <tr>\n",
       "      <td>93</td>\n",
       "      <td>0.257700</td>\n",
       "      <td>0.384940</td>\n",
       "    </tr>\n",
       "    <tr>\n",
       "      <td>94</td>\n",
       "      <td>0.237000</td>\n",
       "      <td>0.386641</td>\n",
       "    </tr>\n",
       "    <tr>\n",
       "      <td>95</td>\n",
       "      <td>0.244300</td>\n",
       "      <td>0.381251</td>\n",
       "    </tr>\n",
       "    <tr>\n",
       "      <td>96</td>\n",
       "      <td>0.242500</td>\n",
       "      <td>0.390263</td>\n",
       "    </tr>\n",
       "    <tr>\n",
       "      <td>97</td>\n",
       "      <td>0.270000</td>\n",
       "      <td>0.386548</td>\n",
       "    </tr>\n",
       "    <tr>\n",
       "      <td>98</td>\n",
       "      <td>0.265800</td>\n",
       "      <td>0.380255</td>\n",
       "    </tr>\n",
       "    <tr>\n",
       "      <td>99</td>\n",
       "      <td>0.233300</td>\n",
       "      <td>0.386539</td>\n",
       "    </tr>\n",
       "    <tr>\n",
       "      <td>100</td>\n",
       "      <td>0.235300</td>\n",
       "      <td>0.382570</td>\n",
       "    </tr>\n",
       "  </tbody>\n",
       "</table><p>"
      ],
      "text/plain": [
       "<IPython.core.display.HTML object>"
      ]
     },
     "metadata": {},
     "output_type": "display_data"
    },
    {
     "name": "stderr",
     "output_type": "stream",
     "text": [
      "Using deprecated `--per_gpu_eval_batch_size` argument which will be removed in a future version. Using `--per_device_eval_batch_size` is preferred.\n",
      "Using deprecated `--per_gpu_eval_batch_size` argument which will be removed in a future version. Using `--per_device_eval_batch_size` is preferred.\n",
      "***** Running Evaluation *****\n",
      "  Num examples = 551\n",
      "  Batch size = 1\n",
      "The following columns in the evaluation set don't have a corresponding argument in `ViTMAEForPreTraining.forward` and have been ignored: input. If input are not expected by `ViTMAEForPreTraining.forward`,  you can safely ignore this message.\n",
      "Using deprecated `--per_gpu_eval_batch_size` argument which will be removed in a future version. Using `--per_device_eval_batch_size` is preferred.\n",
      "Saving model checkpoint to hface_test_v0\\checkpoint-1375\n",
      "Configuration saved in hface_test_v0\\checkpoint-1375\\config.json\n",
      "Model weights saved in hface_test_v0\\checkpoint-1375\\pytorch_model.bin\n",
      "Feature extractor saved in hface_test_v0\\checkpoint-1375\\preprocessor_config.json\n",
      "Using deprecated `--per_gpu_eval_batch_size` argument which will be removed in a future version. Using `--per_device_eval_batch_size` is preferred.\n",
      "Using deprecated `--per_gpu_eval_batch_size` argument which will be removed in a future version. Using `--per_device_eval_batch_size` is preferred.\n",
      "***** Running Evaluation *****\n",
      "  Num examples = 551\n",
      "  Batch size = 1\n",
      "The following columns in the evaluation set don't have a corresponding argument in `ViTMAEForPreTraining.forward` and have been ignored: input. If input are not expected by `ViTMAEForPreTraining.forward`,  you can safely ignore this message.\n",
      "Using deprecated `--per_gpu_eval_batch_size` argument which will be removed in a future version. Using `--per_device_eval_batch_size` is preferred.\n",
      "Saving model checkpoint to hface_test_v0\\checkpoint-2750\n",
      "Configuration saved in hface_test_v0\\checkpoint-2750\\config.json\n",
      "Model weights saved in hface_test_v0\\checkpoint-2750\\pytorch_model.bin\n",
      "Feature extractor saved in hface_test_v0\\checkpoint-2750\\preprocessor_config.json\n",
      "Using deprecated `--per_gpu_eval_batch_size` argument which will be removed in a future version. Using `--per_device_eval_batch_size` is preferred.\n",
      "Using deprecated `--per_gpu_eval_batch_size` argument which will be removed in a future version. Using `--per_device_eval_batch_size` is preferred.\n",
      "***** Running Evaluation *****\n",
      "  Num examples = 551\n",
      "  Batch size = 1\n",
      "The following columns in the evaluation set don't have a corresponding argument in `ViTMAEForPreTraining.forward` and have been ignored: input. If input are not expected by `ViTMAEForPreTraining.forward`,  you can safely ignore this message.\n",
      "Using deprecated `--per_gpu_eval_batch_size` argument which will be removed in a future version. Using `--per_device_eval_batch_size` is preferred.\n",
      "Saving model checkpoint to hface_test_v0\\checkpoint-4125\n",
      "Configuration saved in hface_test_v0\\checkpoint-4125\\config.json\n",
      "Model weights saved in hface_test_v0\\checkpoint-4125\\pytorch_model.bin\n",
      "Feature extractor saved in hface_test_v0\\checkpoint-4125\\preprocessor_config.json\n",
      "Using deprecated `--per_gpu_eval_batch_size` argument which will be removed in a future version. Using `--per_device_eval_batch_size` is preferred.\n",
      "Using deprecated `--per_gpu_eval_batch_size` argument which will be removed in a future version. Using `--per_device_eval_batch_size` is preferred.\n",
      "***** Running Evaluation *****\n",
      "  Num examples = 551\n",
      "  Batch size = 1\n",
      "The following columns in the evaluation set don't have a corresponding argument in `ViTMAEForPreTraining.forward` and have been ignored: input. If input are not expected by `ViTMAEForPreTraining.forward`,  you can safely ignore this message.\n",
      "Using deprecated `--per_gpu_eval_batch_size` argument which will be removed in a future version. Using `--per_device_eval_batch_size` is preferred.\n",
      "Saving model checkpoint to hface_test_v0\\checkpoint-5500\n",
      "Configuration saved in hface_test_v0\\checkpoint-5500\\config.json\n",
      "Model weights saved in hface_test_v0\\checkpoint-5500\\pytorch_model.bin\n",
      "Feature extractor saved in hface_test_v0\\checkpoint-5500\\preprocessor_config.json\n",
      "Deleting older checkpoint [hface_test_v0\\checkpoint-2750] due to args.save_total_limit\n",
      "Using deprecated `--per_gpu_eval_batch_size` argument which will be removed in a future version. Using `--per_device_eval_batch_size` is preferred.\n",
      "Using deprecated `--per_gpu_eval_batch_size` argument which will be removed in a future version. Using `--per_device_eval_batch_size` is preferred.\n",
      "***** Running Evaluation *****\n",
      "  Num examples = 551\n",
      "  Batch size = 1\n",
      "The following columns in the evaluation set don't have a corresponding argument in `ViTMAEForPreTraining.forward` and have been ignored: input. If input are not expected by `ViTMAEForPreTraining.forward`,  you can safely ignore this message.\n",
      "Using deprecated `--per_gpu_eval_batch_size` argument which will be removed in a future version. Using `--per_device_eval_batch_size` is preferred.\n",
      "Saving model checkpoint to hface_test_v0\\checkpoint-6875\n",
      "Configuration saved in hface_test_v0\\checkpoint-6875\\config.json\n",
      "Model weights saved in hface_test_v0\\checkpoint-6875\\pytorch_model.bin\n",
      "Feature extractor saved in hface_test_v0\\checkpoint-6875\\preprocessor_config.json\n",
      "Deleting older checkpoint [hface_test_v0\\checkpoint-4125] due to args.save_total_limit\n",
      "Using deprecated `--per_gpu_eval_batch_size` argument which will be removed in a future version. Using `--per_device_eval_batch_size` is preferred.\n",
      "Using deprecated `--per_gpu_eval_batch_size` argument which will be removed in a future version. Using `--per_device_eval_batch_size` is preferred.\n",
      "***** Running Evaluation *****\n",
      "  Num examples = 551\n",
      "  Batch size = 1\n",
      "The following columns in the evaluation set don't have a corresponding argument in `ViTMAEForPreTraining.forward` and have been ignored: input. If input are not expected by `ViTMAEForPreTraining.forward`,  you can safely ignore this message.\n",
      "Using deprecated `--per_gpu_eval_batch_size` argument which will be removed in a future version. Using `--per_device_eval_batch_size` is preferred.\n",
      "Saving model checkpoint to hface_test_v0\\checkpoint-8250\n",
      "Configuration saved in hface_test_v0\\checkpoint-8250\\config.json\n",
      "Model weights saved in hface_test_v0\\checkpoint-8250\\pytorch_model.bin\n",
      "Feature extractor saved in hface_test_v0\\checkpoint-8250\\preprocessor_config.json\n",
      "Deleting older checkpoint [hface_test_v0\\checkpoint-5500] due to args.save_total_limit\n",
      "Using deprecated `--per_gpu_eval_batch_size` argument which will be removed in a future version. Using `--per_device_eval_batch_size` is preferred.\n",
      "Using deprecated `--per_gpu_eval_batch_size` argument which will be removed in a future version. Using `--per_device_eval_batch_size` is preferred.\n",
      "***** Running Evaluation *****\n",
      "  Num examples = 551\n",
      "  Batch size = 1\n",
      "The following columns in the evaluation set don't have a corresponding argument in `ViTMAEForPreTraining.forward` and have been ignored: input. If input are not expected by `ViTMAEForPreTraining.forward`,  you can safely ignore this message.\n",
      "Using deprecated `--per_gpu_eval_batch_size` argument which will be removed in a future version. Using `--per_device_eval_batch_size` is preferred.\n",
      "Saving model checkpoint to hface_test_v0\\checkpoint-9625\n",
      "Configuration saved in hface_test_v0\\checkpoint-9625\\config.json\n",
      "Model weights saved in hface_test_v0\\checkpoint-9625\\pytorch_model.bin\n",
      "Feature extractor saved in hface_test_v0\\checkpoint-9625\\preprocessor_config.json\n",
      "Deleting older checkpoint [hface_test_v0\\checkpoint-6875] due to args.save_total_limit\n",
      "Using deprecated `--per_gpu_eval_batch_size` argument which will be removed in a future version. Using `--per_device_eval_batch_size` is preferred.\n",
      "Using deprecated `--per_gpu_eval_batch_size` argument which will be removed in a future version. Using `--per_device_eval_batch_size` is preferred.\n",
      "***** Running Evaluation *****\n",
      "  Num examples = 551\n",
      "  Batch size = 1\n",
      "The following columns in the evaluation set don't have a corresponding argument in `ViTMAEForPreTraining.forward` and have been ignored: input. If input are not expected by `ViTMAEForPreTraining.forward`,  you can safely ignore this message.\n",
      "Using deprecated `--per_gpu_eval_batch_size` argument which will be removed in a future version. Using `--per_device_eval_batch_size` is preferred.\n"
     ]
    },
    {
     "name": "stderr",
     "output_type": "stream",
     "text": [
      "Saving model checkpoint to hface_test_v0\\checkpoint-11000\n",
      "Configuration saved in hface_test_v0\\checkpoint-11000\\config.json\n",
      "Model weights saved in hface_test_v0\\checkpoint-11000\\pytorch_model.bin\n",
      "Feature extractor saved in hface_test_v0\\checkpoint-11000\\preprocessor_config.json\n",
      "Deleting older checkpoint [hface_test_v0\\checkpoint-8250] due to args.save_total_limit\n",
      "Using deprecated `--per_gpu_eval_batch_size` argument which will be removed in a future version. Using `--per_device_eval_batch_size` is preferred.\n",
      "Using deprecated `--per_gpu_eval_batch_size` argument which will be removed in a future version. Using `--per_device_eval_batch_size` is preferred.\n",
      "***** Running Evaluation *****\n",
      "  Num examples = 551\n",
      "  Batch size = 1\n",
      "The following columns in the evaluation set don't have a corresponding argument in `ViTMAEForPreTraining.forward` and have been ignored: input. If input are not expected by `ViTMAEForPreTraining.forward`,  you can safely ignore this message.\n",
      "Using deprecated `--per_gpu_eval_batch_size` argument which will be removed in a future version. Using `--per_device_eval_batch_size` is preferred.\n",
      "Saving model checkpoint to hface_test_v0\\checkpoint-12375\n",
      "Configuration saved in hface_test_v0\\checkpoint-12375\\config.json\n",
      "Model weights saved in hface_test_v0\\checkpoint-12375\\pytorch_model.bin\n",
      "Feature extractor saved in hface_test_v0\\checkpoint-12375\\preprocessor_config.json\n",
      "Deleting older checkpoint [hface_test_v0\\checkpoint-9625] due to args.save_total_limit\n",
      "Using deprecated `--per_gpu_eval_batch_size` argument which will be removed in a future version. Using `--per_device_eval_batch_size` is preferred.\n",
      "Using deprecated `--per_gpu_eval_batch_size` argument which will be removed in a future version. Using `--per_device_eval_batch_size` is preferred.\n",
      "***** Running Evaluation *****\n",
      "  Num examples = 551\n",
      "  Batch size = 1\n",
      "The following columns in the evaluation set don't have a corresponding argument in `ViTMAEForPreTraining.forward` and have been ignored: input. If input are not expected by `ViTMAEForPreTraining.forward`,  you can safely ignore this message.\n",
      "Using deprecated `--per_gpu_eval_batch_size` argument which will be removed in a future version. Using `--per_device_eval_batch_size` is preferred.\n",
      "Saving model checkpoint to hface_test_v0\\checkpoint-13750\n",
      "Configuration saved in hface_test_v0\\checkpoint-13750\\config.json\n",
      "Model weights saved in hface_test_v0\\checkpoint-13750\\pytorch_model.bin\n",
      "Feature extractor saved in hface_test_v0\\checkpoint-13750\\preprocessor_config.json\n",
      "Deleting older checkpoint [hface_test_v0\\checkpoint-11000] due to args.save_total_limit\n",
      "Using deprecated `--per_gpu_eval_batch_size` argument which will be removed in a future version. Using `--per_device_eval_batch_size` is preferred.\n",
      "Using deprecated `--per_gpu_eval_batch_size` argument which will be removed in a future version. Using `--per_device_eval_batch_size` is preferred.\n",
      "***** Running Evaluation *****\n",
      "  Num examples = 551\n",
      "  Batch size = 1\n",
      "The following columns in the evaluation set don't have a corresponding argument in `ViTMAEForPreTraining.forward` and have been ignored: input. If input are not expected by `ViTMAEForPreTraining.forward`,  you can safely ignore this message.\n",
      "Using deprecated `--per_gpu_eval_batch_size` argument which will be removed in a future version. Using `--per_device_eval_batch_size` is preferred.\n",
      "Saving model checkpoint to hface_test_v0\\checkpoint-15125\n",
      "Configuration saved in hface_test_v0\\checkpoint-15125\\config.json\n",
      "Model weights saved in hface_test_v0\\checkpoint-15125\\pytorch_model.bin\n",
      "Feature extractor saved in hface_test_v0\\checkpoint-15125\\preprocessor_config.json\n",
      "Deleting older checkpoint [hface_test_v0\\checkpoint-12375] due to args.save_total_limit\n",
      "Using deprecated `--per_gpu_eval_batch_size` argument which will be removed in a future version. Using `--per_device_eval_batch_size` is preferred.\n",
      "Using deprecated `--per_gpu_eval_batch_size` argument which will be removed in a future version. Using `--per_device_eval_batch_size` is preferred.\n",
      "***** Running Evaluation *****\n",
      "  Num examples = 551\n",
      "  Batch size = 1\n",
      "The following columns in the evaluation set don't have a corresponding argument in `ViTMAEForPreTraining.forward` and have been ignored: input. If input are not expected by `ViTMAEForPreTraining.forward`,  you can safely ignore this message.\n",
      "Using deprecated `--per_gpu_eval_batch_size` argument which will be removed in a future version. Using `--per_device_eval_batch_size` is preferred.\n",
      "Saving model checkpoint to hface_test_v0\\checkpoint-16500\n",
      "Configuration saved in hface_test_v0\\checkpoint-16500\\config.json\n",
      "Model weights saved in hface_test_v0\\checkpoint-16500\\pytorch_model.bin\n",
      "Feature extractor saved in hface_test_v0\\checkpoint-16500\\preprocessor_config.json\n",
      "Deleting older checkpoint [hface_test_v0\\checkpoint-13750] due to args.save_total_limit\n",
      "Using deprecated `--per_gpu_eval_batch_size` argument which will be removed in a future version. Using `--per_device_eval_batch_size` is preferred.\n",
      "Using deprecated `--per_gpu_eval_batch_size` argument which will be removed in a future version. Using `--per_device_eval_batch_size` is preferred.\n",
      "***** Running Evaluation *****\n",
      "  Num examples = 551\n",
      "  Batch size = 1\n",
      "The following columns in the evaluation set don't have a corresponding argument in `ViTMAEForPreTraining.forward` and have been ignored: input. If input are not expected by `ViTMAEForPreTraining.forward`,  you can safely ignore this message.\n",
      "Using deprecated `--per_gpu_eval_batch_size` argument which will be removed in a future version. Using `--per_device_eval_batch_size` is preferred.\n",
      "Saving model checkpoint to hface_test_v0\\checkpoint-17875\n",
      "Configuration saved in hface_test_v0\\checkpoint-17875\\config.json\n",
      "Model weights saved in hface_test_v0\\checkpoint-17875\\pytorch_model.bin\n",
      "Feature extractor saved in hface_test_v0\\checkpoint-17875\\preprocessor_config.json\n",
      "Deleting older checkpoint [hface_test_v0\\checkpoint-15125] due to args.save_total_limit\n",
      "Using deprecated `--per_gpu_eval_batch_size` argument which will be removed in a future version. Using `--per_device_eval_batch_size` is preferred.\n",
      "Using deprecated `--per_gpu_eval_batch_size` argument which will be removed in a future version. Using `--per_device_eval_batch_size` is preferred.\n",
      "***** Running Evaluation *****\n",
      "  Num examples = 551\n",
      "  Batch size = 1\n",
      "The following columns in the evaluation set don't have a corresponding argument in `ViTMAEForPreTraining.forward` and have been ignored: input. If input are not expected by `ViTMAEForPreTraining.forward`,  you can safely ignore this message.\n",
      "Using deprecated `--per_gpu_eval_batch_size` argument which will be removed in a future version. Using `--per_device_eval_batch_size` is preferred.\n",
      "Saving model checkpoint to hface_test_v0\\checkpoint-19250\n",
      "Configuration saved in hface_test_v0\\checkpoint-19250\\config.json\n",
      "Model weights saved in hface_test_v0\\checkpoint-19250\\pytorch_model.bin\n",
      "Feature extractor saved in hface_test_v0\\checkpoint-19250\\preprocessor_config.json\n",
      "Deleting older checkpoint [hface_test_v0\\checkpoint-16500] due to args.save_total_limit\n",
      "Using deprecated `--per_gpu_eval_batch_size` argument which will be removed in a future version. Using `--per_device_eval_batch_size` is preferred.\n",
      "Using deprecated `--per_gpu_eval_batch_size` argument which will be removed in a future version. Using `--per_device_eval_batch_size` is preferred.\n",
      "***** Running Evaluation *****\n",
      "  Num examples = 551\n",
      "  Batch size = 1\n",
      "The following columns in the evaluation set don't have a corresponding argument in `ViTMAEForPreTraining.forward` and have been ignored: input. If input are not expected by `ViTMAEForPreTraining.forward`,  you can safely ignore this message.\n",
      "Using deprecated `--per_gpu_eval_batch_size` argument which will be removed in a future version. Using `--per_device_eval_batch_size` is preferred.\n",
      "Saving model checkpoint to hface_test_v0\\checkpoint-20625\n",
      "Configuration saved in hface_test_v0\\checkpoint-20625\\config.json\n",
      "Model weights saved in hface_test_v0\\checkpoint-20625\\pytorch_model.bin\n",
      "Feature extractor saved in hface_test_v0\\checkpoint-20625\\preprocessor_config.json\n",
      "Deleting older checkpoint [hface_test_v0\\checkpoint-17875] due to args.save_total_limit\n"
     ]
    },
    {
     "name": "stderr",
     "output_type": "stream",
     "text": [
      "Using deprecated `--per_gpu_eval_batch_size` argument which will be removed in a future version. Using `--per_device_eval_batch_size` is preferred.\n",
      "Using deprecated `--per_gpu_eval_batch_size` argument which will be removed in a future version. Using `--per_device_eval_batch_size` is preferred.\n",
      "***** Running Evaluation *****\n",
      "  Num examples = 551\n",
      "  Batch size = 1\n",
      "The following columns in the evaluation set don't have a corresponding argument in `ViTMAEForPreTraining.forward` and have been ignored: input. If input are not expected by `ViTMAEForPreTraining.forward`,  you can safely ignore this message.\n",
      "Using deprecated `--per_gpu_eval_batch_size` argument which will be removed in a future version. Using `--per_device_eval_batch_size` is preferred.\n",
      "Saving model checkpoint to hface_test_v0\\checkpoint-22000\n",
      "Configuration saved in hface_test_v0\\checkpoint-22000\\config.json\n",
      "Model weights saved in hface_test_v0\\checkpoint-22000\\pytorch_model.bin\n",
      "Feature extractor saved in hface_test_v0\\checkpoint-22000\\preprocessor_config.json\n",
      "Deleting older checkpoint [hface_test_v0\\checkpoint-19250] due to args.save_total_limit\n",
      "Using deprecated `--per_gpu_eval_batch_size` argument which will be removed in a future version. Using `--per_device_eval_batch_size` is preferred.\n",
      "Using deprecated `--per_gpu_eval_batch_size` argument which will be removed in a future version. Using `--per_device_eval_batch_size` is preferred.\n",
      "***** Running Evaluation *****\n",
      "  Num examples = 551\n",
      "  Batch size = 1\n",
      "The following columns in the evaluation set don't have a corresponding argument in `ViTMAEForPreTraining.forward` and have been ignored: input. If input are not expected by `ViTMAEForPreTraining.forward`,  you can safely ignore this message.\n",
      "Using deprecated `--per_gpu_eval_batch_size` argument which will be removed in a future version. Using `--per_device_eval_batch_size` is preferred.\n",
      "Saving model checkpoint to hface_test_v0\\checkpoint-23375\n",
      "Configuration saved in hface_test_v0\\checkpoint-23375\\config.json\n",
      "Model weights saved in hface_test_v0\\checkpoint-23375\\pytorch_model.bin\n",
      "Feature extractor saved in hface_test_v0\\checkpoint-23375\\preprocessor_config.json\n",
      "Deleting older checkpoint [hface_test_v0\\checkpoint-20625] due to args.save_total_limit\n",
      "Using deprecated `--per_gpu_eval_batch_size` argument which will be removed in a future version. Using `--per_device_eval_batch_size` is preferred.\n",
      "Using deprecated `--per_gpu_eval_batch_size` argument which will be removed in a future version. Using `--per_device_eval_batch_size` is preferred.\n",
      "***** Running Evaluation *****\n",
      "  Num examples = 551\n",
      "  Batch size = 1\n",
      "The following columns in the evaluation set don't have a corresponding argument in `ViTMAEForPreTraining.forward` and have been ignored: input. If input are not expected by `ViTMAEForPreTraining.forward`,  you can safely ignore this message.\n",
      "Using deprecated `--per_gpu_eval_batch_size` argument which will be removed in a future version. Using `--per_device_eval_batch_size` is preferred.\n",
      "Saving model checkpoint to hface_test_v0\\checkpoint-24750\n",
      "Configuration saved in hface_test_v0\\checkpoint-24750\\config.json\n",
      "Model weights saved in hface_test_v0\\checkpoint-24750\\pytorch_model.bin\n",
      "Feature extractor saved in hface_test_v0\\checkpoint-24750\\preprocessor_config.json\n",
      "Deleting older checkpoint [hface_test_v0\\checkpoint-22000] due to args.save_total_limit\n",
      "Using deprecated `--per_gpu_eval_batch_size` argument which will be removed in a future version. Using `--per_device_eval_batch_size` is preferred.\n",
      "Using deprecated `--per_gpu_eval_batch_size` argument which will be removed in a future version. Using `--per_device_eval_batch_size` is preferred.\n",
      "***** Running Evaluation *****\n",
      "  Num examples = 551\n",
      "  Batch size = 1\n",
      "The following columns in the evaluation set don't have a corresponding argument in `ViTMAEForPreTraining.forward` and have been ignored: input. If input are not expected by `ViTMAEForPreTraining.forward`,  you can safely ignore this message.\n",
      "Using deprecated `--per_gpu_eval_batch_size` argument which will be removed in a future version. Using `--per_device_eval_batch_size` is preferred.\n",
      "Saving model checkpoint to hface_test_v0\\checkpoint-26125\n",
      "Configuration saved in hface_test_v0\\checkpoint-26125\\config.json\n",
      "Model weights saved in hface_test_v0\\checkpoint-26125\\pytorch_model.bin\n",
      "Feature extractor saved in hface_test_v0\\checkpoint-26125\\preprocessor_config.json\n",
      "Deleting older checkpoint [hface_test_v0\\checkpoint-23375] due to args.save_total_limit\n",
      "Using deprecated `--per_gpu_eval_batch_size` argument which will be removed in a future version. Using `--per_device_eval_batch_size` is preferred.\n",
      "Using deprecated `--per_gpu_eval_batch_size` argument which will be removed in a future version. Using `--per_device_eval_batch_size` is preferred.\n",
      "***** Running Evaluation *****\n",
      "  Num examples = 551\n",
      "  Batch size = 1\n",
      "The following columns in the evaluation set don't have a corresponding argument in `ViTMAEForPreTraining.forward` and have been ignored: input. If input are not expected by `ViTMAEForPreTraining.forward`,  you can safely ignore this message.\n",
      "Using deprecated `--per_gpu_eval_batch_size` argument which will be removed in a future version. Using `--per_device_eval_batch_size` is preferred.\n",
      "Saving model checkpoint to hface_test_v0\\checkpoint-27500\n",
      "Configuration saved in hface_test_v0\\checkpoint-27500\\config.json\n",
      "Model weights saved in hface_test_v0\\checkpoint-27500\\pytorch_model.bin\n",
      "Feature extractor saved in hface_test_v0\\checkpoint-27500\\preprocessor_config.json\n",
      "Deleting older checkpoint [hface_test_v0\\checkpoint-24750] due to args.save_total_limit\n",
      "Using deprecated `--per_gpu_eval_batch_size` argument which will be removed in a future version. Using `--per_device_eval_batch_size` is preferred.\n",
      "Using deprecated `--per_gpu_eval_batch_size` argument which will be removed in a future version. Using `--per_device_eval_batch_size` is preferred.\n",
      "***** Running Evaluation *****\n",
      "  Num examples = 551\n",
      "  Batch size = 1\n",
      "The following columns in the evaluation set don't have a corresponding argument in `ViTMAEForPreTraining.forward` and have been ignored: input. If input are not expected by `ViTMAEForPreTraining.forward`,  you can safely ignore this message.\n",
      "Using deprecated `--per_gpu_eval_batch_size` argument which will be removed in a future version. Using `--per_device_eval_batch_size` is preferred.\n",
      "Saving model checkpoint to hface_test_v0\\checkpoint-28875\n",
      "Configuration saved in hface_test_v0\\checkpoint-28875\\config.json\n",
      "Model weights saved in hface_test_v0\\checkpoint-28875\\pytorch_model.bin\n",
      "Feature extractor saved in hface_test_v0\\checkpoint-28875\\preprocessor_config.json\n",
      "Deleting older checkpoint [hface_test_v0\\checkpoint-26125] due to args.save_total_limit\n",
      "Using deprecated `--per_gpu_eval_batch_size` argument which will be removed in a future version. Using `--per_device_eval_batch_size` is preferred.\n",
      "Using deprecated `--per_gpu_eval_batch_size` argument which will be removed in a future version. Using `--per_device_eval_batch_size` is preferred.\n",
      "***** Running Evaluation *****\n",
      "  Num examples = 551\n",
      "  Batch size = 1\n",
      "The following columns in the evaluation set don't have a corresponding argument in `ViTMAEForPreTraining.forward` and have been ignored: input. If input are not expected by `ViTMAEForPreTraining.forward`,  you can safely ignore this message.\n",
      "Using deprecated `--per_gpu_eval_batch_size` argument which will be removed in a future version. Using `--per_device_eval_batch_size` is preferred.\n",
      "Saving model checkpoint to hface_test_v0\\checkpoint-30250\n",
      "Configuration saved in hface_test_v0\\checkpoint-30250\\config.json\n",
      "Model weights saved in hface_test_v0\\checkpoint-30250\\pytorch_model.bin\n",
      "Feature extractor saved in hface_test_v0\\checkpoint-30250\\preprocessor_config.json\n",
      "Deleting older checkpoint [hface_test_v0\\checkpoint-27500] due to args.save_total_limit\n",
      "Using deprecated `--per_gpu_eval_batch_size` argument which will be removed in a future version. Using `--per_device_eval_batch_size` is preferred.\n",
      "Using deprecated `--per_gpu_eval_batch_size` argument which will be removed in a future version. Using `--per_device_eval_batch_size` is preferred.\n",
      "***** Running Evaluation *****\n",
      "  Num examples = 551\n"
     ]
    },
    {
     "name": "stderr",
     "output_type": "stream",
     "text": [
      "  Batch size = 1\n",
      "The following columns in the evaluation set don't have a corresponding argument in `ViTMAEForPreTraining.forward` and have been ignored: input. If input are not expected by `ViTMAEForPreTraining.forward`,  you can safely ignore this message.\n",
      "Using deprecated `--per_gpu_eval_batch_size` argument which will be removed in a future version. Using `--per_device_eval_batch_size` is preferred.\n",
      "Saving model checkpoint to hface_test_v0\\checkpoint-31625\n",
      "Configuration saved in hface_test_v0\\checkpoint-31625\\config.json\n",
      "Model weights saved in hface_test_v0\\checkpoint-31625\\pytorch_model.bin\n",
      "Feature extractor saved in hface_test_v0\\checkpoint-31625\\preprocessor_config.json\n",
      "Deleting older checkpoint [hface_test_v0\\checkpoint-28875] due to args.save_total_limit\n",
      "Using deprecated `--per_gpu_eval_batch_size` argument which will be removed in a future version. Using `--per_device_eval_batch_size` is preferred.\n",
      "Using deprecated `--per_gpu_eval_batch_size` argument which will be removed in a future version. Using `--per_device_eval_batch_size` is preferred.\n",
      "***** Running Evaluation *****\n",
      "  Num examples = 551\n",
      "  Batch size = 1\n",
      "The following columns in the evaluation set don't have a corresponding argument in `ViTMAEForPreTraining.forward` and have been ignored: input. If input are not expected by `ViTMAEForPreTraining.forward`,  you can safely ignore this message.\n",
      "Using deprecated `--per_gpu_eval_batch_size` argument which will be removed in a future version. Using `--per_device_eval_batch_size` is preferred.\n",
      "Saving model checkpoint to hface_test_v0\\checkpoint-33000\n",
      "Configuration saved in hface_test_v0\\checkpoint-33000\\config.json\n",
      "Model weights saved in hface_test_v0\\checkpoint-33000\\pytorch_model.bin\n",
      "Feature extractor saved in hface_test_v0\\checkpoint-33000\\preprocessor_config.json\n",
      "Deleting older checkpoint [hface_test_v0\\checkpoint-30250] due to args.save_total_limit\n",
      "Using deprecated `--per_gpu_eval_batch_size` argument which will be removed in a future version. Using `--per_device_eval_batch_size` is preferred.\n",
      "Using deprecated `--per_gpu_eval_batch_size` argument which will be removed in a future version. Using `--per_device_eval_batch_size` is preferred.\n",
      "***** Running Evaluation *****\n",
      "  Num examples = 551\n",
      "  Batch size = 1\n",
      "The following columns in the evaluation set don't have a corresponding argument in `ViTMAEForPreTraining.forward` and have been ignored: input. If input are not expected by `ViTMAEForPreTraining.forward`,  you can safely ignore this message.\n",
      "Using deprecated `--per_gpu_eval_batch_size` argument which will be removed in a future version. Using `--per_device_eval_batch_size` is preferred.\n",
      "Saving model checkpoint to hface_test_v0\\checkpoint-34375\n",
      "Configuration saved in hface_test_v0\\checkpoint-34375\\config.json\n",
      "Model weights saved in hface_test_v0\\checkpoint-34375\\pytorch_model.bin\n",
      "Feature extractor saved in hface_test_v0\\checkpoint-34375\\preprocessor_config.json\n",
      "Deleting older checkpoint [hface_test_v0\\checkpoint-31625] due to args.save_total_limit\n",
      "Using deprecated `--per_gpu_eval_batch_size` argument which will be removed in a future version. Using `--per_device_eval_batch_size` is preferred.\n",
      "Using deprecated `--per_gpu_eval_batch_size` argument which will be removed in a future version. Using `--per_device_eval_batch_size` is preferred.\n",
      "***** Running Evaluation *****\n",
      "  Num examples = 551\n",
      "  Batch size = 1\n",
      "The following columns in the evaluation set don't have a corresponding argument in `ViTMAEForPreTraining.forward` and have been ignored: input. If input are not expected by `ViTMAEForPreTraining.forward`,  you can safely ignore this message.\n",
      "Using deprecated `--per_gpu_eval_batch_size` argument which will be removed in a future version. Using `--per_device_eval_batch_size` is preferred.\n",
      "Saving model checkpoint to hface_test_v0\\checkpoint-35750\n",
      "Configuration saved in hface_test_v0\\checkpoint-35750\\config.json\n",
      "Model weights saved in hface_test_v0\\checkpoint-35750\\pytorch_model.bin\n",
      "Feature extractor saved in hface_test_v0\\checkpoint-35750\\preprocessor_config.json\n",
      "Deleting older checkpoint [hface_test_v0\\checkpoint-33000] due to args.save_total_limit\n",
      "Using deprecated `--per_gpu_eval_batch_size` argument which will be removed in a future version. Using `--per_device_eval_batch_size` is preferred.\n",
      "Using deprecated `--per_gpu_eval_batch_size` argument which will be removed in a future version. Using `--per_device_eval_batch_size` is preferred.\n",
      "***** Running Evaluation *****\n",
      "  Num examples = 551\n",
      "  Batch size = 1\n",
      "The following columns in the evaluation set don't have a corresponding argument in `ViTMAEForPreTraining.forward` and have been ignored: input. If input are not expected by `ViTMAEForPreTraining.forward`,  you can safely ignore this message.\n",
      "Using deprecated `--per_gpu_eval_batch_size` argument which will be removed in a future version. Using `--per_device_eval_batch_size` is preferred.\n",
      "Saving model checkpoint to hface_test_v0\\checkpoint-37125\n",
      "Configuration saved in hface_test_v0\\checkpoint-37125\\config.json\n",
      "Model weights saved in hface_test_v0\\checkpoint-37125\\pytorch_model.bin\n",
      "Feature extractor saved in hface_test_v0\\checkpoint-37125\\preprocessor_config.json\n",
      "Deleting older checkpoint [hface_test_v0\\checkpoint-34375] due to args.save_total_limit\n",
      "Using deprecated `--per_gpu_eval_batch_size` argument which will be removed in a future version. Using `--per_device_eval_batch_size` is preferred.\n",
      "Using deprecated `--per_gpu_eval_batch_size` argument which will be removed in a future version. Using `--per_device_eval_batch_size` is preferred.\n",
      "***** Running Evaluation *****\n",
      "  Num examples = 551\n",
      "  Batch size = 1\n",
      "The following columns in the evaluation set don't have a corresponding argument in `ViTMAEForPreTraining.forward` and have been ignored: input. If input are not expected by `ViTMAEForPreTraining.forward`,  you can safely ignore this message.\n",
      "Using deprecated `--per_gpu_eval_batch_size` argument which will be removed in a future version. Using `--per_device_eval_batch_size` is preferred.\n",
      "Saving model checkpoint to hface_test_v0\\checkpoint-38500\n",
      "Configuration saved in hface_test_v0\\checkpoint-38500\\config.json\n",
      "Model weights saved in hface_test_v0\\checkpoint-38500\\pytorch_model.bin\n",
      "Feature extractor saved in hface_test_v0\\checkpoint-38500\\preprocessor_config.json\n",
      "Deleting older checkpoint [hface_test_v0\\checkpoint-35750] due to args.save_total_limit\n",
      "Using deprecated `--per_gpu_eval_batch_size` argument which will be removed in a future version. Using `--per_device_eval_batch_size` is preferred.\n",
      "Using deprecated `--per_gpu_eval_batch_size` argument which will be removed in a future version. Using `--per_device_eval_batch_size` is preferred.\n",
      "***** Running Evaluation *****\n",
      "  Num examples = 551\n",
      "  Batch size = 1\n",
      "The following columns in the evaluation set don't have a corresponding argument in `ViTMAEForPreTraining.forward` and have been ignored: input. If input are not expected by `ViTMAEForPreTraining.forward`,  you can safely ignore this message.\n",
      "Using deprecated `--per_gpu_eval_batch_size` argument which will be removed in a future version. Using `--per_device_eval_batch_size` is preferred.\n",
      "Saving model checkpoint to hface_test_v0\\checkpoint-39875\n",
      "Configuration saved in hface_test_v0\\checkpoint-39875\\config.json\n",
      "Model weights saved in hface_test_v0\\checkpoint-39875\\pytorch_model.bin\n",
      "Feature extractor saved in hface_test_v0\\checkpoint-39875\\preprocessor_config.json\n",
      "Deleting older checkpoint [hface_test_v0\\checkpoint-37125] due to args.save_total_limit\n",
      "Using deprecated `--per_gpu_eval_batch_size` argument which will be removed in a future version. Using `--per_device_eval_batch_size` is preferred.\n",
      "Using deprecated `--per_gpu_eval_batch_size` argument which will be removed in a future version. Using `--per_device_eval_batch_size` is preferred.\n",
      "***** Running Evaluation *****\n",
      "  Num examples = 551\n",
      "  Batch size = 1\n",
      "The following columns in the evaluation set don't have a corresponding argument in `ViTMAEForPreTraining.forward` and have been ignored: input. If input are not expected by `ViTMAEForPreTraining.forward`,  you can safely ignore this message.\n",
      "Using deprecated `--per_gpu_eval_batch_size` argument which will be removed in a future version. Using `--per_device_eval_batch_size` is preferred.\n"
     ]
    },
    {
     "name": "stderr",
     "output_type": "stream",
     "text": [
      "Saving model checkpoint to hface_test_v0\\checkpoint-41250\n",
      "Configuration saved in hface_test_v0\\checkpoint-41250\\config.json\n",
      "Model weights saved in hface_test_v0\\checkpoint-41250\\pytorch_model.bin\n",
      "Feature extractor saved in hface_test_v0\\checkpoint-41250\\preprocessor_config.json\n",
      "Deleting older checkpoint [hface_test_v0\\checkpoint-38500] due to args.save_total_limit\n",
      "Using deprecated `--per_gpu_eval_batch_size` argument which will be removed in a future version. Using `--per_device_eval_batch_size` is preferred.\n",
      "Using deprecated `--per_gpu_eval_batch_size` argument which will be removed in a future version. Using `--per_device_eval_batch_size` is preferred.\n",
      "***** Running Evaluation *****\n",
      "  Num examples = 551\n",
      "  Batch size = 1\n",
      "The following columns in the evaluation set don't have a corresponding argument in `ViTMAEForPreTraining.forward` and have been ignored: input. If input are not expected by `ViTMAEForPreTraining.forward`,  you can safely ignore this message.\n",
      "Using deprecated `--per_gpu_eval_batch_size` argument which will be removed in a future version. Using `--per_device_eval_batch_size` is preferred.\n",
      "Saving model checkpoint to hface_test_v0\\checkpoint-42625\n",
      "Configuration saved in hface_test_v0\\checkpoint-42625\\config.json\n",
      "Model weights saved in hface_test_v0\\checkpoint-42625\\pytorch_model.bin\n",
      "Feature extractor saved in hface_test_v0\\checkpoint-42625\\preprocessor_config.json\n",
      "Deleting older checkpoint [hface_test_v0\\checkpoint-39875] due to args.save_total_limit\n",
      "Using deprecated `--per_gpu_eval_batch_size` argument which will be removed in a future version. Using `--per_device_eval_batch_size` is preferred.\n",
      "Using deprecated `--per_gpu_eval_batch_size` argument which will be removed in a future version. Using `--per_device_eval_batch_size` is preferred.\n",
      "***** Running Evaluation *****\n",
      "  Num examples = 551\n",
      "  Batch size = 1\n",
      "The following columns in the evaluation set don't have a corresponding argument in `ViTMAEForPreTraining.forward` and have been ignored: input. If input are not expected by `ViTMAEForPreTraining.forward`,  you can safely ignore this message.\n",
      "Using deprecated `--per_gpu_eval_batch_size` argument which will be removed in a future version. Using `--per_device_eval_batch_size` is preferred.\n",
      "Saving model checkpoint to hface_test_v0\\checkpoint-44000\n",
      "Configuration saved in hface_test_v0\\checkpoint-44000\\config.json\n",
      "Model weights saved in hface_test_v0\\checkpoint-44000\\pytorch_model.bin\n",
      "Feature extractor saved in hface_test_v0\\checkpoint-44000\\preprocessor_config.json\n",
      "Deleting older checkpoint [hface_test_v0\\checkpoint-41250] due to args.save_total_limit\n",
      "Using deprecated `--per_gpu_eval_batch_size` argument which will be removed in a future version. Using `--per_device_eval_batch_size` is preferred.\n",
      "Using deprecated `--per_gpu_eval_batch_size` argument which will be removed in a future version. Using `--per_device_eval_batch_size` is preferred.\n",
      "***** Running Evaluation *****\n",
      "  Num examples = 551\n",
      "  Batch size = 1\n",
      "The following columns in the evaluation set don't have a corresponding argument in `ViTMAEForPreTraining.forward` and have been ignored: input. If input are not expected by `ViTMAEForPreTraining.forward`,  you can safely ignore this message.\n",
      "Using deprecated `--per_gpu_eval_batch_size` argument which will be removed in a future version. Using `--per_device_eval_batch_size` is preferred.\n",
      "Saving model checkpoint to hface_test_v0\\checkpoint-45375\n",
      "Configuration saved in hface_test_v0\\checkpoint-45375\\config.json\n",
      "Model weights saved in hface_test_v0\\checkpoint-45375\\pytorch_model.bin\n",
      "Feature extractor saved in hface_test_v0\\checkpoint-45375\\preprocessor_config.json\n",
      "Deleting older checkpoint [hface_test_v0\\checkpoint-42625] due to args.save_total_limit\n",
      "Using deprecated `--per_gpu_eval_batch_size` argument which will be removed in a future version. Using `--per_device_eval_batch_size` is preferred.\n",
      "Using deprecated `--per_gpu_eval_batch_size` argument which will be removed in a future version. Using `--per_device_eval_batch_size` is preferred.\n",
      "***** Running Evaluation *****\n",
      "  Num examples = 551\n",
      "  Batch size = 1\n",
      "The following columns in the evaluation set don't have a corresponding argument in `ViTMAEForPreTraining.forward` and have been ignored: input. If input are not expected by `ViTMAEForPreTraining.forward`,  you can safely ignore this message.\n",
      "Using deprecated `--per_gpu_eval_batch_size` argument which will be removed in a future version. Using `--per_device_eval_batch_size` is preferred.\n",
      "Saving model checkpoint to hface_test_v0\\checkpoint-46750\n",
      "Configuration saved in hface_test_v0\\checkpoint-46750\\config.json\n",
      "Model weights saved in hface_test_v0\\checkpoint-46750\\pytorch_model.bin\n",
      "Feature extractor saved in hface_test_v0\\checkpoint-46750\\preprocessor_config.json\n",
      "Deleting older checkpoint [hface_test_v0\\checkpoint-44000] due to args.save_total_limit\n",
      "Using deprecated `--per_gpu_eval_batch_size` argument which will be removed in a future version. Using `--per_device_eval_batch_size` is preferred.\n",
      "Using deprecated `--per_gpu_eval_batch_size` argument which will be removed in a future version. Using `--per_device_eval_batch_size` is preferred.\n",
      "***** Running Evaluation *****\n",
      "  Num examples = 551\n",
      "  Batch size = 1\n",
      "The following columns in the evaluation set don't have a corresponding argument in `ViTMAEForPreTraining.forward` and have been ignored: input. If input are not expected by `ViTMAEForPreTraining.forward`,  you can safely ignore this message.\n",
      "Using deprecated `--per_gpu_eval_batch_size` argument which will be removed in a future version. Using `--per_device_eval_batch_size` is preferred.\n",
      "Saving model checkpoint to hface_test_v0\\checkpoint-48125\n",
      "Configuration saved in hface_test_v0\\checkpoint-48125\\config.json\n",
      "Model weights saved in hface_test_v0\\checkpoint-48125\\pytorch_model.bin\n",
      "Feature extractor saved in hface_test_v0\\checkpoint-48125\\preprocessor_config.json\n",
      "Deleting older checkpoint [hface_test_v0\\checkpoint-45375] due to args.save_total_limit\n",
      "Using deprecated `--per_gpu_eval_batch_size` argument which will be removed in a future version. Using `--per_device_eval_batch_size` is preferred.\n",
      "Using deprecated `--per_gpu_eval_batch_size` argument which will be removed in a future version. Using `--per_device_eval_batch_size` is preferred.\n",
      "***** Running Evaluation *****\n",
      "  Num examples = 551\n",
      "  Batch size = 1\n",
      "The following columns in the evaluation set don't have a corresponding argument in `ViTMAEForPreTraining.forward` and have been ignored: input. If input are not expected by `ViTMAEForPreTraining.forward`,  you can safely ignore this message.\n",
      "Using deprecated `--per_gpu_eval_batch_size` argument which will be removed in a future version. Using `--per_device_eval_batch_size` is preferred.\n",
      "Saving model checkpoint to hface_test_v0\\checkpoint-49500\n",
      "Configuration saved in hface_test_v0\\checkpoint-49500\\config.json\n",
      "Model weights saved in hface_test_v0\\checkpoint-49500\\pytorch_model.bin\n",
      "Feature extractor saved in hface_test_v0\\checkpoint-49500\\preprocessor_config.json\n",
      "Deleting older checkpoint [hface_test_v0\\checkpoint-46750] due to args.save_total_limit\n",
      "Using deprecated `--per_gpu_eval_batch_size` argument which will be removed in a future version. Using `--per_device_eval_batch_size` is preferred.\n",
      "Using deprecated `--per_gpu_eval_batch_size` argument which will be removed in a future version. Using `--per_device_eval_batch_size` is preferred.\n",
      "***** Running Evaluation *****\n",
      "  Num examples = 551\n",
      "  Batch size = 1\n",
      "The following columns in the evaluation set don't have a corresponding argument in `ViTMAEForPreTraining.forward` and have been ignored: input. If input are not expected by `ViTMAEForPreTraining.forward`,  you can safely ignore this message.\n",
      "Using deprecated `--per_gpu_eval_batch_size` argument which will be removed in a future version. Using `--per_device_eval_batch_size` is preferred.\n",
      "Saving model checkpoint to hface_test_v0\\checkpoint-50875\n",
      "Configuration saved in hface_test_v0\\checkpoint-50875\\config.json\n",
      "Model weights saved in hface_test_v0\\checkpoint-50875\\pytorch_model.bin\n",
      "Feature extractor saved in hface_test_v0\\checkpoint-50875\\preprocessor_config.json\n",
      "Deleting older checkpoint [hface_test_v0\\checkpoint-48125] due to args.save_total_limit\n"
     ]
    },
    {
     "name": "stderr",
     "output_type": "stream",
     "text": [
      "Using deprecated `--per_gpu_eval_batch_size` argument which will be removed in a future version. Using `--per_device_eval_batch_size` is preferred.\n",
      "Using deprecated `--per_gpu_eval_batch_size` argument which will be removed in a future version. Using `--per_device_eval_batch_size` is preferred.\n",
      "***** Running Evaluation *****\n",
      "  Num examples = 551\n",
      "  Batch size = 1\n",
      "The following columns in the evaluation set don't have a corresponding argument in `ViTMAEForPreTraining.forward` and have been ignored: input. If input are not expected by `ViTMAEForPreTraining.forward`,  you can safely ignore this message.\n",
      "Using deprecated `--per_gpu_eval_batch_size` argument which will be removed in a future version. Using `--per_device_eval_batch_size` is preferred.\n",
      "Saving model checkpoint to hface_test_v0\\checkpoint-52250\n",
      "Configuration saved in hface_test_v0\\checkpoint-52250\\config.json\n",
      "Model weights saved in hface_test_v0\\checkpoint-52250\\pytorch_model.bin\n",
      "Feature extractor saved in hface_test_v0\\checkpoint-52250\\preprocessor_config.json\n",
      "Deleting older checkpoint [hface_test_v0\\checkpoint-49500] due to args.save_total_limit\n",
      "Using deprecated `--per_gpu_eval_batch_size` argument which will be removed in a future version. Using `--per_device_eval_batch_size` is preferred.\n",
      "Using deprecated `--per_gpu_eval_batch_size` argument which will be removed in a future version. Using `--per_device_eval_batch_size` is preferred.\n",
      "***** Running Evaluation *****\n",
      "  Num examples = 551\n",
      "  Batch size = 1\n",
      "The following columns in the evaluation set don't have a corresponding argument in `ViTMAEForPreTraining.forward` and have been ignored: input. If input are not expected by `ViTMAEForPreTraining.forward`,  you can safely ignore this message.\n",
      "Using deprecated `--per_gpu_eval_batch_size` argument which will be removed in a future version. Using `--per_device_eval_batch_size` is preferred.\n",
      "Saving model checkpoint to hface_test_v0\\checkpoint-53625\n",
      "Configuration saved in hface_test_v0\\checkpoint-53625\\config.json\n",
      "Model weights saved in hface_test_v0\\checkpoint-53625\\pytorch_model.bin\n",
      "Feature extractor saved in hface_test_v0\\checkpoint-53625\\preprocessor_config.json\n",
      "Deleting older checkpoint [hface_test_v0\\checkpoint-50875] due to args.save_total_limit\n",
      "Using deprecated `--per_gpu_eval_batch_size` argument which will be removed in a future version. Using `--per_device_eval_batch_size` is preferred.\n",
      "Using deprecated `--per_gpu_eval_batch_size` argument which will be removed in a future version. Using `--per_device_eval_batch_size` is preferred.\n",
      "***** Running Evaluation *****\n",
      "  Num examples = 551\n",
      "  Batch size = 1\n",
      "The following columns in the evaluation set don't have a corresponding argument in `ViTMAEForPreTraining.forward` and have been ignored: input. If input are not expected by `ViTMAEForPreTraining.forward`,  you can safely ignore this message.\n",
      "Using deprecated `--per_gpu_eval_batch_size` argument which will be removed in a future version. Using `--per_device_eval_batch_size` is preferred.\n",
      "Saving model checkpoint to hface_test_v0\\checkpoint-55000\n",
      "Configuration saved in hface_test_v0\\checkpoint-55000\\config.json\n",
      "Model weights saved in hface_test_v0\\checkpoint-55000\\pytorch_model.bin\n",
      "Feature extractor saved in hface_test_v0\\checkpoint-55000\\preprocessor_config.json\n",
      "Deleting older checkpoint [hface_test_v0\\checkpoint-52250] due to args.save_total_limit\n",
      "Using deprecated `--per_gpu_eval_batch_size` argument which will be removed in a future version. Using `--per_device_eval_batch_size` is preferred.\n",
      "Using deprecated `--per_gpu_eval_batch_size` argument which will be removed in a future version. Using `--per_device_eval_batch_size` is preferred.\n",
      "***** Running Evaluation *****\n",
      "  Num examples = 551\n",
      "  Batch size = 1\n",
      "The following columns in the evaluation set don't have a corresponding argument in `ViTMAEForPreTraining.forward` and have been ignored: input. If input are not expected by `ViTMAEForPreTraining.forward`,  you can safely ignore this message.\n",
      "Using deprecated `--per_gpu_eval_batch_size` argument which will be removed in a future version. Using `--per_device_eval_batch_size` is preferred.\n",
      "Saving model checkpoint to hface_test_v0\\checkpoint-56375\n",
      "Configuration saved in hface_test_v0\\checkpoint-56375\\config.json\n",
      "Model weights saved in hface_test_v0\\checkpoint-56375\\pytorch_model.bin\n",
      "Feature extractor saved in hface_test_v0\\checkpoint-56375\\preprocessor_config.json\n",
      "Deleting older checkpoint [hface_test_v0\\checkpoint-53625] due to args.save_total_limit\n",
      "Using deprecated `--per_gpu_eval_batch_size` argument which will be removed in a future version. Using `--per_device_eval_batch_size` is preferred.\n",
      "Using deprecated `--per_gpu_eval_batch_size` argument which will be removed in a future version. Using `--per_device_eval_batch_size` is preferred.\n",
      "***** Running Evaluation *****\n",
      "  Num examples = 551\n",
      "  Batch size = 1\n",
      "The following columns in the evaluation set don't have a corresponding argument in `ViTMAEForPreTraining.forward` and have been ignored: input. If input are not expected by `ViTMAEForPreTraining.forward`,  you can safely ignore this message.\n",
      "Using deprecated `--per_gpu_eval_batch_size` argument which will be removed in a future version. Using `--per_device_eval_batch_size` is preferred.\n",
      "Saving model checkpoint to hface_test_v0\\checkpoint-57750\n",
      "Configuration saved in hface_test_v0\\checkpoint-57750\\config.json\n",
      "Model weights saved in hface_test_v0\\checkpoint-57750\\pytorch_model.bin\n",
      "Feature extractor saved in hface_test_v0\\checkpoint-57750\\preprocessor_config.json\n",
      "Deleting older checkpoint [hface_test_v0\\checkpoint-55000] due to args.save_total_limit\n",
      "Using deprecated `--per_gpu_eval_batch_size` argument which will be removed in a future version. Using `--per_device_eval_batch_size` is preferred.\n",
      "Using deprecated `--per_gpu_eval_batch_size` argument which will be removed in a future version. Using `--per_device_eval_batch_size` is preferred.\n",
      "***** Running Evaluation *****\n",
      "  Num examples = 551\n",
      "  Batch size = 1\n",
      "The following columns in the evaluation set don't have a corresponding argument in `ViTMAEForPreTraining.forward` and have been ignored: input. If input are not expected by `ViTMAEForPreTraining.forward`,  you can safely ignore this message.\n",
      "Using deprecated `--per_gpu_eval_batch_size` argument which will be removed in a future version. Using `--per_device_eval_batch_size` is preferred.\n",
      "Saving model checkpoint to hface_test_v0\\checkpoint-59125\n",
      "Configuration saved in hface_test_v0\\checkpoint-59125\\config.json\n",
      "Model weights saved in hface_test_v0\\checkpoint-59125\\pytorch_model.bin\n",
      "Feature extractor saved in hface_test_v0\\checkpoint-59125\\preprocessor_config.json\n",
      "Deleting older checkpoint [hface_test_v0\\checkpoint-56375] due to args.save_total_limit\n",
      "Using deprecated `--per_gpu_eval_batch_size` argument which will be removed in a future version. Using `--per_device_eval_batch_size` is preferred.\n",
      "Using deprecated `--per_gpu_eval_batch_size` argument which will be removed in a future version. Using `--per_device_eval_batch_size` is preferred.\n",
      "***** Running Evaluation *****\n",
      "  Num examples = 551\n",
      "  Batch size = 1\n",
      "The following columns in the evaluation set don't have a corresponding argument in `ViTMAEForPreTraining.forward` and have been ignored: input. If input are not expected by `ViTMAEForPreTraining.forward`,  you can safely ignore this message.\n",
      "Using deprecated `--per_gpu_eval_batch_size` argument which will be removed in a future version. Using `--per_device_eval_batch_size` is preferred.\n",
      "Saving model checkpoint to hface_test_v0\\checkpoint-60500\n",
      "Configuration saved in hface_test_v0\\checkpoint-60500\\config.json\n",
      "Model weights saved in hface_test_v0\\checkpoint-60500\\pytorch_model.bin\n",
      "Feature extractor saved in hface_test_v0\\checkpoint-60500\\preprocessor_config.json\n",
      "Deleting older checkpoint [hface_test_v0\\checkpoint-57750] due to args.save_total_limit\n",
      "Using deprecated `--per_gpu_eval_batch_size` argument which will be removed in a future version. Using `--per_device_eval_batch_size` is preferred.\n",
      "Using deprecated `--per_gpu_eval_batch_size` argument which will be removed in a future version. Using `--per_device_eval_batch_size` is preferred.\n",
      "***** Running Evaluation *****\n",
      "  Num examples = 551\n"
     ]
    },
    {
     "name": "stderr",
     "output_type": "stream",
     "text": [
      "  Batch size = 1\n",
      "The following columns in the evaluation set don't have a corresponding argument in `ViTMAEForPreTraining.forward` and have been ignored: input. If input are not expected by `ViTMAEForPreTraining.forward`,  you can safely ignore this message.\n",
      "Using deprecated `--per_gpu_eval_batch_size` argument which will be removed in a future version. Using `--per_device_eval_batch_size` is preferred.\n",
      "Saving model checkpoint to hface_test_v0\\checkpoint-61875\n",
      "Configuration saved in hface_test_v0\\checkpoint-61875\\config.json\n",
      "Model weights saved in hface_test_v0\\checkpoint-61875\\pytorch_model.bin\n",
      "Feature extractor saved in hface_test_v0\\checkpoint-61875\\preprocessor_config.json\n",
      "Deleting older checkpoint [hface_test_v0\\checkpoint-59125] due to args.save_total_limit\n",
      "Using deprecated `--per_gpu_eval_batch_size` argument which will be removed in a future version. Using `--per_device_eval_batch_size` is preferred.\n",
      "Using deprecated `--per_gpu_eval_batch_size` argument which will be removed in a future version. Using `--per_device_eval_batch_size` is preferred.\n",
      "***** Running Evaluation *****\n",
      "  Num examples = 551\n",
      "  Batch size = 1\n",
      "The following columns in the evaluation set don't have a corresponding argument in `ViTMAEForPreTraining.forward` and have been ignored: input. If input are not expected by `ViTMAEForPreTraining.forward`,  you can safely ignore this message.\n",
      "Using deprecated `--per_gpu_eval_batch_size` argument which will be removed in a future version. Using `--per_device_eval_batch_size` is preferred.\n",
      "Saving model checkpoint to hface_test_v0\\checkpoint-63250\n",
      "Configuration saved in hface_test_v0\\checkpoint-63250\\config.json\n",
      "Model weights saved in hface_test_v0\\checkpoint-63250\\pytorch_model.bin\n",
      "Feature extractor saved in hface_test_v0\\checkpoint-63250\\preprocessor_config.json\n",
      "Deleting older checkpoint [hface_test_v0\\checkpoint-60500] due to args.save_total_limit\n",
      "Using deprecated `--per_gpu_eval_batch_size` argument which will be removed in a future version. Using `--per_device_eval_batch_size` is preferred.\n",
      "Using deprecated `--per_gpu_eval_batch_size` argument which will be removed in a future version. Using `--per_device_eval_batch_size` is preferred.\n",
      "***** Running Evaluation *****\n",
      "  Num examples = 551\n",
      "  Batch size = 1\n",
      "The following columns in the evaluation set don't have a corresponding argument in `ViTMAEForPreTraining.forward` and have been ignored: input. If input are not expected by `ViTMAEForPreTraining.forward`,  you can safely ignore this message.\n",
      "Using deprecated `--per_gpu_eval_batch_size` argument which will be removed in a future version. Using `--per_device_eval_batch_size` is preferred.\n",
      "Saving model checkpoint to hface_test_v0\\checkpoint-64625\n",
      "Configuration saved in hface_test_v0\\checkpoint-64625\\config.json\n",
      "Model weights saved in hface_test_v0\\checkpoint-64625\\pytorch_model.bin\n",
      "Feature extractor saved in hface_test_v0\\checkpoint-64625\\preprocessor_config.json\n",
      "Deleting older checkpoint [hface_test_v0\\checkpoint-61875] due to args.save_total_limit\n",
      "Using deprecated `--per_gpu_eval_batch_size` argument which will be removed in a future version. Using `--per_device_eval_batch_size` is preferred.\n",
      "Using deprecated `--per_gpu_eval_batch_size` argument which will be removed in a future version. Using `--per_device_eval_batch_size` is preferred.\n",
      "***** Running Evaluation *****\n",
      "  Num examples = 551\n",
      "  Batch size = 1\n",
      "The following columns in the evaluation set don't have a corresponding argument in `ViTMAEForPreTraining.forward` and have been ignored: input. If input are not expected by `ViTMAEForPreTraining.forward`,  you can safely ignore this message.\n",
      "Using deprecated `--per_gpu_eval_batch_size` argument which will be removed in a future version. Using `--per_device_eval_batch_size` is preferred.\n",
      "Saving model checkpoint to hface_test_v0\\checkpoint-66000\n",
      "Configuration saved in hface_test_v0\\checkpoint-66000\\config.json\n",
      "Model weights saved in hface_test_v0\\checkpoint-66000\\pytorch_model.bin\n",
      "Feature extractor saved in hface_test_v0\\checkpoint-66000\\preprocessor_config.json\n",
      "Deleting older checkpoint [hface_test_v0\\checkpoint-63250] due to args.save_total_limit\n",
      "Using deprecated `--per_gpu_eval_batch_size` argument which will be removed in a future version. Using `--per_device_eval_batch_size` is preferred.\n",
      "Using deprecated `--per_gpu_eval_batch_size` argument which will be removed in a future version. Using `--per_device_eval_batch_size` is preferred.\n",
      "***** Running Evaluation *****\n",
      "  Num examples = 551\n",
      "  Batch size = 1\n",
      "The following columns in the evaluation set don't have a corresponding argument in `ViTMAEForPreTraining.forward` and have been ignored: input. If input are not expected by `ViTMAEForPreTraining.forward`,  you can safely ignore this message.\n",
      "Using deprecated `--per_gpu_eval_batch_size` argument which will be removed in a future version. Using `--per_device_eval_batch_size` is preferred.\n",
      "Saving model checkpoint to hface_test_v0\\checkpoint-67375\n",
      "Configuration saved in hface_test_v0\\checkpoint-67375\\config.json\n",
      "Model weights saved in hface_test_v0\\checkpoint-67375\\pytorch_model.bin\n",
      "Feature extractor saved in hface_test_v0\\checkpoint-67375\\preprocessor_config.json\n",
      "Deleting older checkpoint [hface_test_v0\\checkpoint-64625] due to args.save_total_limit\n",
      "Using deprecated `--per_gpu_eval_batch_size` argument which will be removed in a future version. Using `--per_device_eval_batch_size` is preferred.\n",
      "Using deprecated `--per_gpu_eval_batch_size` argument which will be removed in a future version. Using `--per_device_eval_batch_size` is preferred.\n",
      "***** Running Evaluation *****\n",
      "  Num examples = 551\n",
      "  Batch size = 1\n",
      "The following columns in the evaluation set don't have a corresponding argument in `ViTMAEForPreTraining.forward` and have been ignored: input. If input are not expected by `ViTMAEForPreTraining.forward`,  you can safely ignore this message.\n",
      "Using deprecated `--per_gpu_eval_batch_size` argument which will be removed in a future version. Using `--per_device_eval_batch_size` is preferred.\n",
      "Saving model checkpoint to hface_test_v0\\checkpoint-68750\n",
      "Configuration saved in hface_test_v0\\checkpoint-68750\\config.json\n",
      "Model weights saved in hface_test_v0\\checkpoint-68750\\pytorch_model.bin\n",
      "Feature extractor saved in hface_test_v0\\checkpoint-68750\\preprocessor_config.json\n",
      "Deleting older checkpoint [hface_test_v0\\checkpoint-66000] due to args.save_total_limit\n",
      "Using deprecated `--per_gpu_eval_batch_size` argument which will be removed in a future version. Using `--per_device_eval_batch_size` is preferred.\n",
      "Using deprecated `--per_gpu_eval_batch_size` argument which will be removed in a future version. Using `--per_device_eval_batch_size` is preferred.\n",
      "***** Running Evaluation *****\n",
      "  Num examples = 551\n",
      "  Batch size = 1\n",
      "The following columns in the evaluation set don't have a corresponding argument in `ViTMAEForPreTraining.forward` and have been ignored: input. If input are not expected by `ViTMAEForPreTraining.forward`,  you can safely ignore this message.\n",
      "Using deprecated `--per_gpu_eval_batch_size` argument which will be removed in a future version. Using `--per_device_eval_batch_size` is preferred.\n",
      "Saving model checkpoint to hface_test_v0\\checkpoint-70125\n",
      "Configuration saved in hface_test_v0\\checkpoint-70125\\config.json\n",
      "Model weights saved in hface_test_v0\\checkpoint-70125\\pytorch_model.bin\n",
      "Feature extractor saved in hface_test_v0\\checkpoint-70125\\preprocessor_config.json\n",
      "Deleting older checkpoint [hface_test_v0\\checkpoint-67375] due to args.save_total_limit\n",
      "Using deprecated `--per_gpu_eval_batch_size` argument which will be removed in a future version. Using `--per_device_eval_batch_size` is preferred.\n",
      "Using deprecated `--per_gpu_eval_batch_size` argument which will be removed in a future version. Using `--per_device_eval_batch_size` is preferred.\n",
      "***** Running Evaluation *****\n",
      "  Num examples = 551\n",
      "  Batch size = 1\n",
      "The following columns in the evaluation set don't have a corresponding argument in `ViTMAEForPreTraining.forward` and have been ignored: input. If input are not expected by `ViTMAEForPreTraining.forward`,  you can safely ignore this message.\n",
      "Using deprecated `--per_gpu_eval_batch_size` argument which will be removed in a future version. Using `--per_device_eval_batch_size` is preferred.\n"
     ]
    },
    {
     "name": "stderr",
     "output_type": "stream",
     "text": [
      "Saving model checkpoint to hface_test_v0\\checkpoint-71500\n",
      "Configuration saved in hface_test_v0\\checkpoint-71500\\config.json\n",
      "Model weights saved in hface_test_v0\\checkpoint-71500\\pytorch_model.bin\n",
      "Feature extractor saved in hface_test_v0\\checkpoint-71500\\preprocessor_config.json\n",
      "Deleting older checkpoint [hface_test_v0\\checkpoint-68750] due to args.save_total_limit\n",
      "Using deprecated `--per_gpu_eval_batch_size` argument which will be removed in a future version. Using `--per_device_eval_batch_size` is preferred.\n",
      "Using deprecated `--per_gpu_eval_batch_size` argument which will be removed in a future version. Using `--per_device_eval_batch_size` is preferred.\n",
      "***** Running Evaluation *****\n",
      "  Num examples = 551\n",
      "  Batch size = 1\n",
      "The following columns in the evaluation set don't have a corresponding argument in `ViTMAEForPreTraining.forward` and have been ignored: input. If input are not expected by `ViTMAEForPreTraining.forward`,  you can safely ignore this message.\n",
      "Using deprecated `--per_gpu_eval_batch_size` argument which will be removed in a future version. Using `--per_device_eval_batch_size` is preferred.\n",
      "Saving model checkpoint to hface_test_v0\\checkpoint-72875\n",
      "Configuration saved in hface_test_v0\\checkpoint-72875\\config.json\n",
      "Model weights saved in hface_test_v0\\checkpoint-72875\\pytorch_model.bin\n",
      "Feature extractor saved in hface_test_v0\\checkpoint-72875\\preprocessor_config.json\n",
      "Deleting older checkpoint [hface_test_v0\\checkpoint-70125] due to args.save_total_limit\n",
      "Using deprecated `--per_gpu_eval_batch_size` argument which will be removed in a future version. Using `--per_device_eval_batch_size` is preferred.\n",
      "Using deprecated `--per_gpu_eval_batch_size` argument which will be removed in a future version. Using `--per_device_eval_batch_size` is preferred.\n",
      "***** Running Evaluation *****\n",
      "  Num examples = 551\n",
      "  Batch size = 1\n",
      "The following columns in the evaluation set don't have a corresponding argument in `ViTMAEForPreTraining.forward` and have been ignored: input. If input are not expected by `ViTMAEForPreTraining.forward`,  you can safely ignore this message.\n",
      "Using deprecated `--per_gpu_eval_batch_size` argument which will be removed in a future version. Using `--per_device_eval_batch_size` is preferred.\n",
      "Saving model checkpoint to hface_test_v0\\checkpoint-74250\n",
      "Configuration saved in hface_test_v0\\checkpoint-74250\\config.json\n",
      "Model weights saved in hface_test_v0\\checkpoint-74250\\pytorch_model.bin\n",
      "Feature extractor saved in hface_test_v0\\checkpoint-74250\\preprocessor_config.json\n",
      "Deleting older checkpoint [hface_test_v0\\checkpoint-71500] due to args.save_total_limit\n",
      "Using deprecated `--per_gpu_eval_batch_size` argument which will be removed in a future version. Using `--per_device_eval_batch_size` is preferred.\n",
      "Using deprecated `--per_gpu_eval_batch_size` argument which will be removed in a future version. Using `--per_device_eval_batch_size` is preferred.\n",
      "***** Running Evaluation *****\n",
      "  Num examples = 551\n",
      "  Batch size = 1\n",
      "The following columns in the evaluation set don't have a corresponding argument in `ViTMAEForPreTraining.forward` and have been ignored: input. If input are not expected by `ViTMAEForPreTraining.forward`,  you can safely ignore this message.\n",
      "Using deprecated `--per_gpu_eval_batch_size` argument which will be removed in a future version. Using `--per_device_eval_batch_size` is preferred.\n",
      "Saving model checkpoint to hface_test_v0\\checkpoint-75625\n",
      "Configuration saved in hface_test_v0\\checkpoint-75625\\config.json\n",
      "Model weights saved in hface_test_v0\\checkpoint-75625\\pytorch_model.bin\n",
      "Feature extractor saved in hface_test_v0\\checkpoint-75625\\preprocessor_config.json\n",
      "Deleting older checkpoint [hface_test_v0\\checkpoint-72875] due to args.save_total_limit\n",
      "Using deprecated `--per_gpu_eval_batch_size` argument which will be removed in a future version. Using `--per_device_eval_batch_size` is preferred.\n",
      "Using deprecated `--per_gpu_eval_batch_size` argument which will be removed in a future version. Using `--per_device_eval_batch_size` is preferred.\n",
      "***** Running Evaluation *****\n",
      "  Num examples = 551\n",
      "  Batch size = 1\n",
      "The following columns in the evaluation set don't have a corresponding argument in `ViTMAEForPreTraining.forward` and have been ignored: input. If input are not expected by `ViTMAEForPreTraining.forward`,  you can safely ignore this message.\n",
      "Using deprecated `--per_gpu_eval_batch_size` argument which will be removed in a future version. Using `--per_device_eval_batch_size` is preferred.\n",
      "Saving model checkpoint to hface_test_v0\\checkpoint-77000\n",
      "Configuration saved in hface_test_v0\\checkpoint-77000\\config.json\n",
      "Model weights saved in hface_test_v0\\checkpoint-77000\\pytorch_model.bin\n",
      "Feature extractor saved in hface_test_v0\\checkpoint-77000\\preprocessor_config.json\n",
      "Deleting older checkpoint [hface_test_v0\\checkpoint-74250] due to args.save_total_limit\n",
      "Using deprecated `--per_gpu_eval_batch_size` argument which will be removed in a future version. Using `--per_device_eval_batch_size` is preferred.\n",
      "Using deprecated `--per_gpu_eval_batch_size` argument which will be removed in a future version. Using `--per_device_eval_batch_size` is preferred.\n",
      "***** Running Evaluation *****\n",
      "  Num examples = 551\n",
      "  Batch size = 1\n",
      "The following columns in the evaluation set don't have a corresponding argument in `ViTMAEForPreTraining.forward` and have been ignored: input. If input are not expected by `ViTMAEForPreTraining.forward`,  you can safely ignore this message.\n",
      "Using deprecated `--per_gpu_eval_batch_size` argument which will be removed in a future version. Using `--per_device_eval_batch_size` is preferred.\n",
      "Saving model checkpoint to hface_test_v0\\checkpoint-78375\n",
      "Configuration saved in hface_test_v0\\checkpoint-78375\\config.json\n",
      "Model weights saved in hface_test_v0\\checkpoint-78375\\pytorch_model.bin\n",
      "Feature extractor saved in hface_test_v0\\checkpoint-78375\\preprocessor_config.json\n",
      "Deleting older checkpoint [hface_test_v0\\checkpoint-75625] due to args.save_total_limit\n",
      "Using deprecated `--per_gpu_eval_batch_size` argument which will be removed in a future version. Using `--per_device_eval_batch_size` is preferred.\n",
      "Using deprecated `--per_gpu_eval_batch_size` argument which will be removed in a future version. Using `--per_device_eval_batch_size` is preferred.\n",
      "***** Running Evaluation *****\n",
      "  Num examples = 551\n",
      "  Batch size = 1\n",
      "The following columns in the evaluation set don't have a corresponding argument in `ViTMAEForPreTraining.forward` and have been ignored: input. If input are not expected by `ViTMAEForPreTraining.forward`,  you can safely ignore this message.\n",
      "Using deprecated `--per_gpu_eval_batch_size` argument which will be removed in a future version. Using `--per_device_eval_batch_size` is preferred.\n",
      "Saving model checkpoint to hface_test_v0\\checkpoint-79750\n",
      "Configuration saved in hface_test_v0\\checkpoint-79750\\config.json\n",
      "Model weights saved in hface_test_v0\\checkpoint-79750\\pytorch_model.bin\n",
      "Feature extractor saved in hface_test_v0\\checkpoint-79750\\preprocessor_config.json\n",
      "Deleting older checkpoint [hface_test_v0\\checkpoint-77000] due to args.save_total_limit\n",
      "Using deprecated `--per_gpu_eval_batch_size` argument which will be removed in a future version. Using `--per_device_eval_batch_size` is preferred.\n",
      "Using deprecated `--per_gpu_eval_batch_size` argument which will be removed in a future version. Using `--per_device_eval_batch_size` is preferred.\n",
      "***** Running Evaluation *****\n",
      "  Num examples = 551\n",
      "  Batch size = 1\n",
      "The following columns in the evaluation set don't have a corresponding argument in `ViTMAEForPreTraining.forward` and have been ignored: input. If input are not expected by `ViTMAEForPreTraining.forward`,  you can safely ignore this message.\n",
      "Using deprecated `--per_gpu_eval_batch_size` argument which will be removed in a future version. Using `--per_device_eval_batch_size` is preferred.\n",
      "Saving model checkpoint to hface_test_v0\\checkpoint-81125\n",
      "Configuration saved in hface_test_v0\\checkpoint-81125\\config.json\n",
      "Model weights saved in hface_test_v0\\checkpoint-81125\\pytorch_model.bin\n",
      "Feature extractor saved in hface_test_v0\\checkpoint-81125\\preprocessor_config.json\n",
      "Deleting older checkpoint [hface_test_v0\\checkpoint-78375] due to args.save_total_limit\n"
     ]
    },
    {
     "name": "stderr",
     "output_type": "stream",
     "text": [
      "Using deprecated `--per_gpu_eval_batch_size` argument which will be removed in a future version. Using `--per_device_eval_batch_size` is preferred.\n",
      "Using deprecated `--per_gpu_eval_batch_size` argument which will be removed in a future version. Using `--per_device_eval_batch_size` is preferred.\n",
      "***** Running Evaluation *****\n",
      "  Num examples = 551\n",
      "  Batch size = 1\n",
      "The following columns in the evaluation set don't have a corresponding argument in `ViTMAEForPreTraining.forward` and have been ignored: input. If input are not expected by `ViTMAEForPreTraining.forward`,  you can safely ignore this message.\n",
      "Using deprecated `--per_gpu_eval_batch_size` argument which will be removed in a future version. Using `--per_device_eval_batch_size` is preferred.\n",
      "Saving model checkpoint to hface_test_v0\\checkpoint-82500\n",
      "Configuration saved in hface_test_v0\\checkpoint-82500\\config.json\n",
      "Model weights saved in hface_test_v0\\checkpoint-82500\\pytorch_model.bin\n",
      "Feature extractor saved in hface_test_v0\\checkpoint-82500\\preprocessor_config.json\n",
      "Deleting older checkpoint [hface_test_v0\\checkpoint-79750] due to args.save_total_limit\n",
      "Using deprecated `--per_gpu_eval_batch_size` argument which will be removed in a future version. Using `--per_device_eval_batch_size` is preferred.\n",
      "Using deprecated `--per_gpu_eval_batch_size` argument which will be removed in a future version. Using `--per_device_eval_batch_size` is preferred.\n",
      "***** Running Evaluation *****\n",
      "  Num examples = 551\n",
      "  Batch size = 1\n",
      "The following columns in the evaluation set don't have a corresponding argument in `ViTMAEForPreTraining.forward` and have been ignored: input. If input are not expected by `ViTMAEForPreTraining.forward`,  you can safely ignore this message.\n",
      "Using deprecated `--per_gpu_eval_batch_size` argument which will be removed in a future version. Using `--per_device_eval_batch_size` is preferred.\n",
      "Saving model checkpoint to hface_test_v0\\checkpoint-83875\n",
      "Configuration saved in hface_test_v0\\checkpoint-83875\\config.json\n",
      "Model weights saved in hface_test_v0\\checkpoint-83875\\pytorch_model.bin\n",
      "Feature extractor saved in hface_test_v0\\checkpoint-83875\\preprocessor_config.json\n",
      "Deleting older checkpoint [hface_test_v0\\checkpoint-81125] due to args.save_total_limit\n",
      "Using deprecated `--per_gpu_eval_batch_size` argument which will be removed in a future version. Using `--per_device_eval_batch_size` is preferred.\n",
      "Using deprecated `--per_gpu_eval_batch_size` argument which will be removed in a future version. Using `--per_device_eval_batch_size` is preferred.\n",
      "***** Running Evaluation *****\n",
      "  Num examples = 551\n",
      "  Batch size = 1\n",
      "The following columns in the evaluation set don't have a corresponding argument in `ViTMAEForPreTraining.forward` and have been ignored: input. If input are not expected by `ViTMAEForPreTraining.forward`,  you can safely ignore this message.\n",
      "Using deprecated `--per_gpu_eval_batch_size` argument which will be removed in a future version. Using `--per_device_eval_batch_size` is preferred.\n",
      "Saving model checkpoint to hface_test_v0\\checkpoint-85250\n",
      "Configuration saved in hface_test_v0\\checkpoint-85250\\config.json\n",
      "Model weights saved in hface_test_v0\\checkpoint-85250\\pytorch_model.bin\n",
      "Feature extractor saved in hface_test_v0\\checkpoint-85250\\preprocessor_config.json\n",
      "Deleting older checkpoint [hface_test_v0\\checkpoint-82500] due to args.save_total_limit\n",
      "Using deprecated `--per_gpu_eval_batch_size` argument which will be removed in a future version. Using `--per_device_eval_batch_size` is preferred.\n",
      "Using deprecated `--per_gpu_eval_batch_size` argument which will be removed in a future version. Using `--per_device_eval_batch_size` is preferred.\n",
      "***** Running Evaluation *****\n",
      "  Num examples = 551\n",
      "  Batch size = 1\n",
      "The following columns in the evaluation set don't have a corresponding argument in `ViTMAEForPreTraining.forward` and have been ignored: input. If input are not expected by `ViTMAEForPreTraining.forward`,  you can safely ignore this message.\n",
      "Using deprecated `--per_gpu_eval_batch_size` argument which will be removed in a future version. Using `--per_device_eval_batch_size` is preferred.\n",
      "Saving model checkpoint to hface_test_v0\\checkpoint-86625\n",
      "Configuration saved in hface_test_v0\\checkpoint-86625\\config.json\n",
      "Model weights saved in hface_test_v0\\checkpoint-86625\\pytorch_model.bin\n",
      "Feature extractor saved in hface_test_v0\\checkpoint-86625\\preprocessor_config.json\n",
      "Deleting older checkpoint [hface_test_v0\\checkpoint-83875] due to args.save_total_limit\n",
      "Using deprecated `--per_gpu_eval_batch_size` argument which will be removed in a future version. Using `--per_device_eval_batch_size` is preferred.\n",
      "Using deprecated `--per_gpu_eval_batch_size` argument which will be removed in a future version. Using `--per_device_eval_batch_size` is preferred.\n",
      "***** Running Evaluation *****\n",
      "  Num examples = 551\n",
      "  Batch size = 1\n",
      "The following columns in the evaluation set don't have a corresponding argument in `ViTMAEForPreTraining.forward` and have been ignored: input. If input are not expected by `ViTMAEForPreTraining.forward`,  you can safely ignore this message.\n",
      "Using deprecated `--per_gpu_eval_batch_size` argument which will be removed in a future version. Using `--per_device_eval_batch_size` is preferred.\n",
      "Saving model checkpoint to hface_test_v0\\checkpoint-88000\n",
      "Configuration saved in hface_test_v0\\checkpoint-88000\\config.json\n",
      "Model weights saved in hface_test_v0\\checkpoint-88000\\pytorch_model.bin\n",
      "Feature extractor saved in hface_test_v0\\checkpoint-88000\\preprocessor_config.json\n",
      "Deleting older checkpoint [hface_test_v0\\checkpoint-85250] due to args.save_total_limit\n",
      "Using deprecated `--per_gpu_eval_batch_size` argument which will be removed in a future version. Using `--per_device_eval_batch_size` is preferred.\n",
      "Using deprecated `--per_gpu_eval_batch_size` argument which will be removed in a future version. Using `--per_device_eval_batch_size` is preferred.\n",
      "***** Running Evaluation *****\n",
      "  Num examples = 551\n",
      "  Batch size = 1\n",
      "The following columns in the evaluation set don't have a corresponding argument in `ViTMAEForPreTraining.forward` and have been ignored: input. If input are not expected by `ViTMAEForPreTraining.forward`,  you can safely ignore this message.\n",
      "Using deprecated `--per_gpu_eval_batch_size` argument which will be removed in a future version. Using `--per_device_eval_batch_size` is preferred.\n",
      "Saving model checkpoint to hface_test_v0\\checkpoint-89375\n",
      "Configuration saved in hface_test_v0\\checkpoint-89375\\config.json\n",
      "Model weights saved in hface_test_v0\\checkpoint-89375\\pytorch_model.bin\n",
      "Feature extractor saved in hface_test_v0\\checkpoint-89375\\preprocessor_config.json\n",
      "Deleting older checkpoint [hface_test_v0\\checkpoint-86625] due to args.save_total_limit\n",
      "Using deprecated `--per_gpu_eval_batch_size` argument which will be removed in a future version. Using `--per_device_eval_batch_size` is preferred.\n",
      "Using deprecated `--per_gpu_eval_batch_size` argument which will be removed in a future version. Using `--per_device_eval_batch_size` is preferred.\n",
      "***** Running Evaluation *****\n",
      "  Num examples = 551\n",
      "  Batch size = 1\n",
      "The following columns in the evaluation set don't have a corresponding argument in `ViTMAEForPreTraining.forward` and have been ignored: input. If input are not expected by `ViTMAEForPreTraining.forward`,  you can safely ignore this message.\n",
      "Using deprecated `--per_gpu_eval_batch_size` argument which will be removed in a future version. Using `--per_device_eval_batch_size` is preferred.\n",
      "Saving model checkpoint to hface_test_v0\\checkpoint-90750\n",
      "Configuration saved in hface_test_v0\\checkpoint-90750\\config.json\n",
      "Model weights saved in hface_test_v0\\checkpoint-90750\\pytorch_model.bin\n",
      "Feature extractor saved in hface_test_v0\\checkpoint-90750\\preprocessor_config.json\n",
      "Deleting older checkpoint [hface_test_v0\\checkpoint-88000] due to args.save_total_limit\n",
      "Using deprecated `--per_gpu_eval_batch_size` argument which will be removed in a future version. Using `--per_device_eval_batch_size` is preferred.\n",
      "Using deprecated `--per_gpu_eval_batch_size` argument which will be removed in a future version. Using `--per_device_eval_batch_size` is preferred.\n",
      "***** Running Evaluation *****\n",
      "  Num examples = 551\n"
     ]
    },
    {
     "name": "stderr",
     "output_type": "stream",
     "text": [
      "  Batch size = 1\n",
      "The following columns in the evaluation set don't have a corresponding argument in `ViTMAEForPreTraining.forward` and have been ignored: input. If input are not expected by `ViTMAEForPreTraining.forward`,  you can safely ignore this message.\n",
      "Using deprecated `--per_gpu_eval_batch_size` argument which will be removed in a future version. Using `--per_device_eval_batch_size` is preferred.\n",
      "Saving model checkpoint to hface_test_v0\\checkpoint-92125\n",
      "Configuration saved in hface_test_v0\\checkpoint-92125\\config.json\n",
      "Model weights saved in hface_test_v0\\checkpoint-92125\\pytorch_model.bin\n",
      "Feature extractor saved in hface_test_v0\\checkpoint-92125\\preprocessor_config.json\n",
      "Deleting older checkpoint [hface_test_v0\\checkpoint-89375] due to args.save_total_limit\n",
      "Using deprecated `--per_gpu_eval_batch_size` argument which will be removed in a future version. Using `--per_device_eval_batch_size` is preferred.\n",
      "Using deprecated `--per_gpu_eval_batch_size` argument which will be removed in a future version. Using `--per_device_eval_batch_size` is preferred.\n",
      "***** Running Evaluation *****\n",
      "  Num examples = 551\n",
      "  Batch size = 1\n",
      "The following columns in the evaluation set don't have a corresponding argument in `ViTMAEForPreTraining.forward` and have been ignored: input. If input are not expected by `ViTMAEForPreTraining.forward`,  you can safely ignore this message.\n",
      "Using deprecated `--per_gpu_eval_batch_size` argument which will be removed in a future version. Using `--per_device_eval_batch_size` is preferred.\n",
      "Saving model checkpoint to hface_test_v0\\checkpoint-93500\n",
      "Configuration saved in hface_test_v0\\checkpoint-93500\\config.json\n",
      "Model weights saved in hface_test_v0\\checkpoint-93500\\pytorch_model.bin\n",
      "Feature extractor saved in hface_test_v0\\checkpoint-93500\\preprocessor_config.json\n",
      "Deleting older checkpoint [hface_test_v0\\checkpoint-90750] due to args.save_total_limit\n",
      "Using deprecated `--per_gpu_eval_batch_size` argument which will be removed in a future version. Using `--per_device_eval_batch_size` is preferred.\n",
      "Using deprecated `--per_gpu_eval_batch_size` argument which will be removed in a future version. Using `--per_device_eval_batch_size` is preferred.\n",
      "***** Running Evaluation *****\n",
      "  Num examples = 551\n",
      "  Batch size = 1\n",
      "The following columns in the evaluation set don't have a corresponding argument in `ViTMAEForPreTraining.forward` and have been ignored: input. If input are not expected by `ViTMAEForPreTraining.forward`,  you can safely ignore this message.\n",
      "Using deprecated `--per_gpu_eval_batch_size` argument which will be removed in a future version. Using `--per_device_eval_batch_size` is preferred.\n",
      "Saving model checkpoint to hface_test_v0\\checkpoint-94875\n",
      "Configuration saved in hface_test_v0\\checkpoint-94875\\config.json\n",
      "Model weights saved in hface_test_v0\\checkpoint-94875\\pytorch_model.bin\n",
      "Feature extractor saved in hface_test_v0\\checkpoint-94875\\preprocessor_config.json\n",
      "Deleting older checkpoint [hface_test_v0\\checkpoint-92125] due to args.save_total_limit\n",
      "Using deprecated `--per_gpu_eval_batch_size` argument which will be removed in a future version. Using `--per_device_eval_batch_size` is preferred.\n",
      "Using deprecated `--per_gpu_eval_batch_size` argument which will be removed in a future version. Using `--per_device_eval_batch_size` is preferred.\n",
      "***** Running Evaluation *****\n",
      "  Num examples = 551\n",
      "  Batch size = 1\n",
      "The following columns in the evaluation set don't have a corresponding argument in `ViTMAEForPreTraining.forward` and have been ignored: input. If input are not expected by `ViTMAEForPreTraining.forward`,  you can safely ignore this message.\n",
      "Using deprecated `--per_gpu_eval_batch_size` argument which will be removed in a future version. Using `--per_device_eval_batch_size` is preferred.\n",
      "Saving model checkpoint to hface_test_v0\\checkpoint-96250\n",
      "Configuration saved in hface_test_v0\\checkpoint-96250\\config.json\n",
      "Model weights saved in hface_test_v0\\checkpoint-96250\\pytorch_model.bin\n",
      "Feature extractor saved in hface_test_v0\\checkpoint-96250\\preprocessor_config.json\n",
      "Deleting older checkpoint [hface_test_v0\\checkpoint-93500] due to args.save_total_limit\n",
      "Using deprecated `--per_gpu_eval_batch_size` argument which will be removed in a future version. Using `--per_device_eval_batch_size` is preferred.\n",
      "Using deprecated `--per_gpu_eval_batch_size` argument which will be removed in a future version. Using `--per_device_eval_batch_size` is preferred.\n",
      "***** Running Evaluation *****\n",
      "  Num examples = 551\n",
      "  Batch size = 1\n",
      "The following columns in the evaluation set don't have a corresponding argument in `ViTMAEForPreTraining.forward` and have been ignored: input. If input are not expected by `ViTMAEForPreTraining.forward`,  you can safely ignore this message.\n",
      "Using deprecated `--per_gpu_eval_batch_size` argument which will be removed in a future version. Using `--per_device_eval_batch_size` is preferred.\n",
      "Saving model checkpoint to hface_test_v0\\checkpoint-97625\n",
      "Configuration saved in hface_test_v0\\checkpoint-97625\\config.json\n",
      "Model weights saved in hface_test_v0\\checkpoint-97625\\pytorch_model.bin\n",
      "Feature extractor saved in hface_test_v0\\checkpoint-97625\\preprocessor_config.json\n",
      "Deleting older checkpoint [hface_test_v0\\checkpoint-94875] due to args.save_total_limit\n",
      "Using deprecated `--per_gpu_eval_batch_size` argument which will be removed in a future version. Using `--per_device_eval_batch_size` is preferred.\n",
      "Using deprecated `--per_gpu_eval_batch_size` argument which will be removed in a future version. Using `--per_device_eval_batch_size` is preferred.\n",
      "***** Running Evaluation *****\n",
      "  Num examples = 551\n",
      "  Batch size = 1\n",
      "The following columns in the evaluation set don't have a corresponding argument in `ViTMAEForPreTraining.forward` and have been ignored: input. If input are not expected by `ViTMAEForPreTraining.forward`,  you can safely ignore this message.\n",
      "Using deprecated `--per_gpu_eval_batch_size` argument which will be removed in a future version. Using `--per_device_eval_batch_size` is preferred.\n",
      "Saving model checkpoint to hface_test_v0\\checkpoint-99000\n",
      "Configuration saved in hface_test_v0\\checkpoint-99000\\config.json\n",
      "Model weights saved in hface_test_v0\\checkpoint-99000\\pytorch_model.bin\n",
      "Feature extractor saved in hface_test_v0\\checkpoint-99000\\preprocessor_config.json\n",
      "Deleting older checkpoint [hface_test_v0\\checkpoint-96250] due to args.save_total_limit\n",
      "Using deprecated `--per_gpu_eval_batch_size` argument which will be removed in a future version. Using `--per_device_eval_batch_size` is preferred.\n",
      "Using deprecated `--per_gpu_eval_batch_size` argument which will be removed in a future version. Using `--per_device_eval_batch_size` is preferred.\n",
      "***** Running Evaluation *****\n",
      "  Num examples = 551\n",
      "  Batch size = 1\n",
      "The following columns in the evaluation set don't have a corresponding argument in `ViTMAEForPreTraining.forward` and have been ignored: input. If input are not expected by `ViTMAEForPreTraining.forward`,  you can safely ignore this message.\n",
      "Using deprecated `--per_gpu_eval_batch_size` argument which will be removed in a future version. Using `--per_device_eval_batch_size` is preferred.\n",
      "Saving model checkpoint to hface_test_v0\\checkpoint-100375\n",
      "Configuration saved in hface_test_v0\\checkpoint-100375\\config.json\n",
      "Model weights saved in hface_test_v0\\checkpoint-100375\\pytorch_model.bin\n",
      "Feature extractor saved in hface_test_v0\\checkpoint-100375\\preprocessor_config.json\n",
      "Deleting older checkpoint [hface_test_v0\\checkpoint-97625] due to args.save_total_limit\n",
      "Using deprecated `--per_gpu_eval_batch_size` argument which will be removed in a future version. Using `--per_device_eval_batch_size` is preferred.\n",
      "Using deprecated `--per_gpu_eval_batch_size` argument which will be removed in a future version. Using `--per_device_eval_batch_size` is preferred.\n",
      "***** Running Evaluation *****\n",
      "  Num examples = 551\n",
      "  Batch size = 1\n",
      "The following columns in the evaluation set don't have a corresponding argument in `ViTMAEForPreTraining.forward` and have been ignored: input. If input are not expected by `ViTMAEForPreTraining.forward`,  you can safely ignore this message.\n",
      "Using deprecated `--per_gpu_eval_batch_size` argument which will be removed in a future version. Using `--per_device_eval_batch_size` is preferred.\n"
     ]
    },
    {
     "name": "stderr",
     "output_type": "stream",
     "text": [
      "Saving model checkpoint to hface_test_v0\\checkpoint-101750\n",
      "Configuration saved in hface_test_v0\\checkpoint-101750\\config.json\n",
      "Model weights saved in hface_test_v0\\checkpoint-101750\\pytorch_model.bin\n",
      "Feature extractor saved in hface_test_v0\\checkpoint-101750\\preprocessor_config.json\n",
      "Deleting older checkpoint [hface_test_v0\\checkpoint-99000] due to args.save_total_limit\n",
      "Using deprecated `--per_gpu_eval_batch_size` argument which will be removed in a future version. Using `--per_device_eval_batch_size` is preferred.\n",
      "Using deprecated `--per_gpu_eval_batch_size` argument which will be removed in a future version. Using `--per_device_eval_batch_size` is preferred.\n",
      "***** Running Evaluation *****\n",
      "  Num examples = 551\n",
      "  Batch size = 1\n",
      "The following columns in the evaluation set don't have a corresponding argument in `ViTMAEForPreTraining.forward` and have been ignored: input. If input are not expected by `ViTMAEForPreTraining.forward`,  you can safely ignore this message.\n",
      "Using deprecated `--per_gpu_eval_batch_size` argument which will be removed in a future version. Using `--per_device_eval_batch_size` is preferred.\n",
      "Saving model checkpoint to hface_test_v0\\checkpoint-103125\n",
      "Configuration saved in hface_test_v0\\checkpoint-103125\\config.json\n",
      "Model weights saved in hface_test_v0\\checkpoint-103125\\pytorch_model.bin\n",
      "Feature extractor saved in hface_test_v0\\checkpoint-103125\\preprocessor_config.json\n",
      "Deleting older checkpoint [hface_test_v0\\checkpoint-100375] due to args.save_total_limit\n",
      "Using deprecated `--per_gpu_eval_batch_size` argument which will be removed in a future version. Using `--per_device_eval_batch_size` is preferred.\n",
      "Using deprecated `--per_gpu_eval_batch_size` argument which will be removed in a future version. Using `--per_device_eval_batch_size` is preferred.\n",
      "***** Running Evaluation *****\n",
      "  Num examples = 551\n",
      "  Batch size = 1\n",
      "The following columns in the evaluation set don't have a corresponding argument in `ViTMAEForPreTraining.forward` and have been ignored: input. If input are not expected by `ViTMAEForPreTraining.forward`,  you can safely ignore this message.\n",
      "Using deprecated `--per_gpu_eval_batch_size` argument which will be removed in a future version. Using `--per_device_eval_batch_size` is preferred.\n",
      "Saving model checkpoint to hface_test_v0\\checkpoint-104500\n",
      "Configuration saved in hface_test_v0\\checkpoint-104500\\config.json\n",
      "Model weights saved in hface_test_v0\\checkpoint-104500\\pytorch_model.bin\n",
      "Feature extractor saved in hface_test_v0\\checkpoint-104500\\preprocessor_config.json\n",
      "Deleting older checkpoint [hface_test_v0\\checkpoint-101750] due to args.save_total_limit\n",
      "Using deprecated `--per_gpu_eval_batch_size` argument which will be removed in a future version. Using `--per_device_eval_batch_size` is preferred.\n",
      "Using deprecated `--per_gpu_eval_batch_size` argument which will be removed in a future version. Using `--per_device_eval_batch_size` is preferred.\n",
      "***** Running Evaluation *****\n",
      "  Num examples = 551\n",
      "  Batch size = 1\n",
      "The following columns in the evaluation set don't have a corresponding argument in `ViTMAEForPreTraining.forward` and have been ignored: input. If input are not expected by `ViTMAEForPreTraining.forward`,  you can safely ignore this message.\n",
      "Using deprecated `--per_gpu_eval_batch_size` argument which will be removed in a future version. Using `--per_device_eval_batch_size` is preferred.\n",
      "Saving model checkpoint to hface_test_v0\\checkpoint-105875\n",
      "Configuration saved in hface_test_v0\\checkpoint-105875\\config.json\n",
      "Model weights saved in hface_test_v0\\checkpoint-105875\\pytorch_model.bin\n",
      "Feature extractor saved in hface_test_v0\\checkpoint-105875\\preprocessor_config.json\n",
      "Deleting older checkpoint [hface_test_v0\\checkpoint-103125] due to args.save_total_limit\n",
      "Using deprecated `--per_gpu_eval_batch_size` argument which will be removed in a future version. Using `--per_device_eval_batch_size` is preferred.\n",
      "Using deprecated `--per_gpu_eval_batch_size` argument which will be removed in a future version. Using `--per_device_eval_batch_size` is preferred.\n",
      "***** Running Evaluation *****\n",
      "  Num examples = 551\n",
      "  Batch size = 1\n",
      "The following columns in the evaluation set don't have a corresponding argument in `ViTMAEForPreTraining.forward` and have been ignored: input. If input are not expected by `ViTMAEForPreTraining.forward`,  you can safely ignore this message.\n",
      "Using deprecated `--per_gpu_eval_batch_size` argument which will be removed in a future version. Using `--per_device_eval_batch_size` is preferred.\n",
      "Saving model checkpoint to hface_test_v0\\checkpoint-107250\n",
      "Configuration saved in hface_test_v0\\checkpoint-107250\\config.json\n",
      "Model weights saved in hface_test_v0\\checkpoint-107250\\pytorch_model.bin\n",
      "Feature extractor saved in hface_test_v0\\checkpoint-107250\\preprocessor_config.json\n",
      "Deleting older checkpoint [hface_test_v0\\checkpoint-104500] due to args.save_total_limit\n",
      "Using deprecated `--per_gpu_eval_batch_size` argument which will be removed in a future version. Using `--per_device_eval_batch_size` is preferred.\n",
      "Using deprecated `--per_gpu_eval_batch_size` argument which will be removed in a future version. Using `--per_device_eval_batch_size` is preferred.\n",
      "***** Running Evaluation *****\n",
      "  Num examples = 551\n",
      "  Batch size = 1\n",
      "The following columns in the evaluation set don't have a corresponding argument in `ViTMAEForPreTraining.forward` and have been ignored: input. If input are not expected by `ViTMAEForPreTraining.forward`,  you can safely ignore this message.\n",
      "Using deprecated `--per_gpu_eval_batch_size` argument which will be removed in a future version. Using `--per_device_eval_batch_size` is preferred.\n",
      "Saving model checkpoint to hface_test_v0\\checkpoint-108625\n",
      "Configuration saved in hface_test_v0\\checkpoint-108625\\config.json\n",
      "Model weights saved in hface_test_v0\\checkpoint-108625\\pytorch_model.bin\n",
      "Feature extractor saved in hface_test_v0\\checkpoint-108625\\preprocessor_config.json\n",
      "Deleting older checkpoint [hface_test_v0\\checkpoint-1375] due to args.save_total_limit\n",
      "Using deprecated `--per_gpu_eval_batch_size` argument which will be removed in a future version. Using `--per_device_eval_batch_size` is preferred.\n",
      "Using deprecated `--per_gpu_eval_batch_size` argument which will be removed in a future version. Using `--per_device_eval_batch_size` is preferred.\n",
      "***** Running Evaluation *****\n",
      "  Num examples = 551\n",
      "  Batch size = 1\n",
      "The following columns in the evaluation set don't have a corresponding argument in `ViTMAEForPreTraining.forward` and have been ignored: input. If input are not expected by `ViTMAEForPreTraining.forward`,  you can safely ignore this message.\n",
      "Using deprecated `--per_gpu_eval_batch_size` argument which will be removed in a future version. Using `--per_device_eval_batch_size` is preferred.\n",
      "Saving model checkpoint to hface_test_v0\\checkpoint-110000\n",
      "Configuration saved in hface_test_v0\\checkpoint-110000\\config.json\n",
      "Model weights saved in hface_test_v0\\checkpoint-110000\\pytorch_model.bin\n",
      "Feature extractor saved in hface_test_v0\\checkpoint-110000\\preprocessor_config.json\n",
      "Deleting older checkpoint [hface_test_v0\\checkpoint-105875] due to args.save_total_limit\n",
      "Using deprecated `--per_gpu_eval_batch_size` argument which will be removed in a future version. Using `--per_device_eval_batch_size` is preferred.\n",
      "Using deprecated `--per_gpu_eval_batch_size` argument which will be removed in a future version. Using `--per_device_eval_batch_size` is preferred.\n",
      "***** Running Evaluation *****\n",
      "  Num examples = 551\n",
      "  Batch size = 1\n",
      "The following columns in the evaluation set don't have a corresponding argument in `ViTMAEForPreTraining.forward` and have been ignored: input. If input are not expected by `ViTMAEForPreTraining.forward`,  you can safely ignore this message.\n",
      "Using deprecated `--per_gpu_eval_batch_size` argument which will be removed in a future version. Using `--per_device_eval_batch_size` is preferred.\n",
      "Saving model checkpoint to hface_test_v0\\checkpoint-111375\n",
      "Configuration saved in hface_test_v0\\checkpoint-111375\\config.json\n",
      "Model weights saved in hface_test_v0\\checkpoint-111375\\pytorch_model.bin\n",
      "Feature extractor saved in hface_test_v0\\checkpoint-111375\\preprocessor_config.json\n",
      "Deleting older checkpoint [hface_test_v0\\checkpoint-107250] due to args.save_total_limit\n"
     ]
    },
    {
     "name": "stderr",
     "output_type": "stream",
     "text": [
      "Using deprecated `--per_gpu_eval_batch_size` argument which will be removed in a future version. Using `--per_device_eval_batch_size` is preferred.\n",
      "Using deprecated `--per_gpu_eval_batch_size` argument which will be removed in a future version. Using `--per_device_eval_batch_size` is preferred.\n",
      "***** Running Evaluation *****\n",
      "  Num examples = 551\n",
      "  Batch size = 1\n",
      "The following columns in the evaluation set don't have a corresponding argument in `ViTMAEForPreTraining.forward` and have been ignored: input. If input are not expected by `ViTMAEForPreTraining.forward`,  you can safely ignore this message.\n",
      "Using deprecated `--per_gpu_eval_batch_size` argument which will be removed in a future version. Using `--per_device_eval_batch_size` is preferred.\n",
      "Saving model checkpoint to hface_test_v0\\checkpoint-112750\n",
      "Configuration saved in hface_test_v0\\checkpoint-112750\\config.json\n",
      "Model weights saved in hface_test_v0\\checkpoint-112750\\pytorch_model.bin\n",
      "Feature extractor saved in hface_test_v0\\checkpoint-112750\\preprocessor_config.json\n",
      "Deleting older checkpoint [hface_test_v0\\checkpoint-108625] due to args.save_total_limit\n",
      "Using deprecated `--per_gpu_eval_batch_size` argument which will be removed in a future version. Using `--per_device_eval_batch_size` is preferred.\n",
      "Using deprecated `--per_gpu_eval_batch_size` argument which will be removed in a future version. Using `--per_device_eval_batch_size` is preferred.\n",
      "***** Running Evaluation *****\n",
      "  Num examples = 551\n",
      "  Batch size = 1\n",
      "The following columns in the evaluation set don't have a corresponding argument in `ViTMAEForPreTraining.forward` and have been ignored: input. If input are not expected by `ViTMAEForPreTraining.forward`,  you can safely ignore this message.\n",
      "Using deprecated `--per_gpu_eval_batch_size` argument which will be removed in a future version. Using `--per_device_eval_batch_size` is preferred.\n",
      "Saving model checkpoint to hface_test_v0\\checkpoint-114125\n",
      "Configuration saved in hface_test_v0\\checkpoint-114125\\config.json\n",
      "Model weights saved in hface_test_v0\\checkpoint-114125\\pytorch_model.bin\n",
      "Feature extractor saved in hface_test_v0\\checkpoint-114125\\preprocessor_config.json\n",
      "Deleting older checkpoint [hface_test_v0\\checkpoint-110000] due to args.save_total_limit\n",
      "Using deprecated `--per_gpu_eval_batch_size` argument which will be removed in a future version. Using `--per_device_eval_batch_size` is preferred.\n",
      "Using deprecated `--per_gpu_eval_batch_size` argument which will be removed in a future version. Using `--per_device_eval_batch_size` is preferred.\n",
      "***** Running Evaluation *****\n",
      "  Num examples = 551\n",
      "  Batch size = 1\n",
      "The following columns in the evaluation set don't have a corresponding argument in `ViTMAEForPreTraining.forward` and have been ignored: input. If input are not expected by `ViTMAEForPreTraining.forward`,  you can safely ignore this message.\n",
      "Using deprecated `--per_gpu_eval_batch_size` argument which will be removed in a future version. Using `--per_device_eval_batch_size` is preferred.\n",
      "Saving model checkpoint to hface_test_v0\\checkpoint-115500\n",
      "Configuration saved in hface_test_v0\\checkpoint-115500\\config.json\n",
      "Model weights saved in hface_test_v0\\checkpoint-115500\\pytorch_model.bin\n",
      "Feature extractor saved in hface_test_v0\\checkpoint-115500\\preprocessor_config.json\n",
      "Deleting older checkpoint [hface_test_v0\\checkpoint-111375] due to args.save_total_limit\n",
      "Using deprecated `--per_gpu_eval_batch_size` argument which will be removed in a future version. Using `--per_device_eval_batch_size` is preferred.\n",
      "Using deprecated `--per_gpu_eval_batch_size` argument which will be removed in a future version. Using `--per_device_eval_batch_size` is preferred.\n",
      "***** Running Evaluation *****\n",
      "  Num examples = 551\n",
      "  Batch size = 1\n",
      "The following columns in the evaluation set don't have a corresponding argument in `ViTMAEForPreTraining.forward` and have been ignored: input. If input are not expected by `ViTMAEForPreTraining.forward`,  you can safely ignore this message.\n",
      "Using deprecated `--per_gpu_eval_batch_size` argument which will be removed in a future version. Using `--per_device_eval_batch_size` is preferred.\n",
      "Saving model checkpoint to hface_test_v0\\checkpoint-116875\n",
      "Configuration saved in hface_test_v0\\checkpoint-116875\\config.json\n",
      "Model weights saved in hface_test_v0\\checkpoint-116875\\pytorch_model.bin\n",
      "Feature extractor saved in hface_test_v0\\checkpoint-116875\\preprocessor_config.json\n",
      "Deleting older checkpoint [hface_test_v0\\checkpoint-112750] due to args.save_total_limit\n",
      "Using deprecated `--per_gpu_eval_batch_size` argument which will be removed in a future version. Using `--per_device_eval_batch_size` is preferred.\n",
      "Using deprecated `--per_gpu_eval_batch_size` argument which will be removed in a future version. Using `--per_device_eval_batch_size` is preferred.\n",
      "***** Running Evaluation *****\n",
      "  Num examples = 551\n",
      "  Batch size = 1\n",
      "The following columns in the evaluation set don't have a corresponding argument in `ViTMAEForPreTraining.forward` and have been ignored: input. If input are not expected by `ViTMAEForPreTraining.forward`,  you can safely ignore this message.\n",
      "Using deprecated `--per_gpu_eval_batch_size` argument which will be removed in a future version. Using `--per_device_eval_batch_size` is preferred.\n",
      "Saving model checkpoint to hface_test_v0\\checkpoint-118250\n",
      "Configuration saved in hface_test_v0\\checkpoint-118250\\config.json\n",
      "Model weights saved in hface_test_v0\\checkpoint-118250\\pytorch_model.bin\n",
      "Feature extractor saved in hface_test_v0\\checkpoint-118250\\preprocessor_config.json\n",
      "Deleting older checkpoint [hface_test_v0\\checkpoint-114125] due to args.save_total_limit\n",
      "Using deprecated `--per_gpu_eval_batch_size` argument which will be removed in a future version. Using `--per_device_eval_batch_size` is preferred.\n",
      "Using deprecated `--per_gpu_eval_batch_size` argument which will be removed in a future version. Using `--per_device_eval_batch_size` is preferred.\n",
      "***** Running Evaluation *****\n",
      "  Num examples = 551\n",
      "  Batch size = 1\n",
      "The following columns in the evaluation set don't have a corresponding argument in `ViTMAEForPreTraining.forward` and have been ignored: input. If input are not expected by `ViTMAEForPreTraining.forward`,  you can safely ignore this message.\n",
      "Using deprecated `--per_gpu_eval_batch_size` argument which will be removed in a future version. Using `--per_device_eval_batch_size` is preferred.\n",
      "Saving model checkpoint to hface_test_v0\\checkpoint-119625\n",
      "Configuration saved in hface_test_v0\\checkpoint-119625\\config.json\n",
      "Model weights saved in hface_test_v0\\checkpoint-119625\\pytorch_model.bin\n",
      "Feature extractor saved in hface_test_v0\\checkpoint-119625\\preprocessor_config.json\n",
      "Deleting older checkpoint [hface_test_v0\\checkpoint-116875] due to args.save_total_limit\n",
      "Using deprecated `--per_gpu_eval_batch_size` argument which will be removed in a future version. Using `--per_device_eval_batch_size` is preferred.\n",
      "Using deprecated `--per_gpu_eval_batch_size` argument which will be removed in a future version. Using `--per_device_eval_batch_size` is preferred.\n",
      "***** Running Evaluation *****\n",
      "  Num examples = 551\n",
      "  Batch size = 1\n",
      "The following columns in the evaluation set don't have a corresponding argument in `ViTMAEForPreTraining.forward` and have been ignored: input. If input are not expected by `ViTMAEForPreTraining.forward`,  you can safely ignore this message.\n",
      "Using deprecated `--per_gpu_eval_batch_size` argument which will be removed in a future version. Using `--per_device_eval_batch_size` is preferred.\n",
      "Saving model checkpoint to hface_test_v0\\checkpoint-121000\n",
      "Configuration saved in hface_test_v0\\checkpoint-121000\\config.json\n",
      "Model weights saved in hface_test_v0\\checkpoint-121000\\pytorch_model.bin\n",
      "Feature extractor saved in hface_test_v0\\checkpoint-121000\\preprocessor_config.json\n",
      "Deleting older checkpoint [hface_test_v0\\checkpoint-115500] due to args.save_total_limit\n",
      "Using deprecated `--per_gpu_eval_batch_size` argument which will be removed in a future version. Using `--per_device_eval_batch_size` is preferred.\n",
      "Using deprecated `--per_gpu_eval_batch_size` argument which will be removed in a future version. Using `--per_device_eval_batch_size` is preferred.\n",
      "***** Running Evaluation *****\n"
     ]
    },
    {
     "name": "stderr",
     "output_type": "stream",
     "text": [
      "  Num examples = 551\n",
      "  Batch size = 1\n",
      "The following columns in the evaluation set don't have a corresponding argument in `ViTMAEForPreTraining.forward` and have been ignored: input. If input are not expected by `ViTMAEForPreTraining.forward`,  you can safely ignore this message.\n",
      "Using deprecated `--per_gpu_eval_batch_size` argument which will be removed in a future version. Using `--per_device_eval_batch_size` is preferred.\n",
      "Saving model checkpoint to hface_test_v0\\checkpoint-122375\n",
      "Configuration saved in hface_test_v0\\checkpoint-122375\\config.json\n",
      "Model weights saved in hface_test_v0\\checkpoint-122375\\pytorch_model.bin\n",
      "Feature extractor saved in hface_test_v0\\checkpoint-122375\\preprocessor_config.json\n",
      "Deleting older checkpoint [hface_test_v0\\checkpoint-118250] due to args.save_total_limit\n",
      "Using deprecated `--per_gpu_eval_batch_size` argument which will be removed in a future version. Using `--per_device_eval_batch_size` is preferred.\n",
      "Using deprecated `--per_gpu_eval_batch_size` argument which will be removed in a future version. Using `--per_device_eval_batch_size` is preferred.\n",
      "***** Running Evaluation *****\n",
      "  Num examples = 551\n",
      "  Batch size = 1\n",
      "The following columns in the evaluation set don't have a corresponding argument in `ViTMAEForPreTraining.forward` and have been ignored: input. If input are not expected by `ViTMAEForPreTraining.forward`,  you can safely ignore this message.\n",
      "Using deprecated `--per_gpu_eval_batch_size` argument which will be removed in a future version. Using `--per_device_eval_batch_size` is preferred.\n",
      "Saving model checkpoint to hface_test_v0\\checkpoint-123750\n",
      "Configuration saved in hface_test_v0\\checkpoint-123750\\config.json\n",
      "Model weights saved in hface_test_v0\\checkpoint-123750\\pytorch_model.bin\n",
      "Feature extractor saved in hface_test_v0\\checkpoint-123750\\preprocessor_config.json\n",
      "Deleting older checkpoint [hface_test_v0\\checkpoint-119625] due to args.save_total_limit\n",
      "Using deprecated `--per_gpu_eval_batch_size` argument which will be removed in a future version. Using `--per_device_eval_batch_size` is preferred.\n",
      "Using deprecated `--per_gpu_eval_batch_size` argument which will be removed in a future version. Using `--per_device_eval_batch_size` is preferred.\n",
      "***** Running Evaluation *****\n",
      "  Num examples = 551\n",
      "  Batch size = 1\n",
      "The following columns in the evaluation set don't have a corresponding argument in `ViTMAEForPreTraining.forward` and have been ignored: input. If input are not expected by `ViTMAEForPreTraining.forward`,  you can safely ignore this message.\n",
      "Using deprecated `--per_gpu_eval_batch_size` argument which will be removed in a future version. Using `--per_device_eval_batch_size` is preferred.\n",
      "Saving model checkpoint to hface_test_v0\\checkpoint-125125\n",
      "Configuration saved in hface_test_v0\\checkpoint-125125\\config.json\n",
      "Model weights saved in hface_test_v0\\checkpoint-125125\\pytorch_model.bin\n",
      "Feature extractor saved in hface_test_v0\\checkpoint-125125\\preprocessor_config.json\n",
      "Deleting older checkpoint [hface_test_v0\\checkpoint-121000] due to args.save_total_limit\n",
      "Using deprecated `--per_gpu_eval_batch_size` argument which will be removed in a future version. Using `--per_device_eval_batch_size` is preferred.\n",
      "Using deprecated `--per_gpu_eval_batch_size` argument which will be removed in a future version. Using `--per_device_eval_batch_size` is preferred.\n",
      "***** Running Evaluation *****\n",
      "  Num examples = 551\n",
      "  Batch size = 1\n",
      "The following columns in the evaluation set don't have a corresponding argument in `ViTMAEForPreTraining.forward` and have been ignored: input. If input are not expected by `ViTMAEForPreTraining.forward`,  you can safely ignore this message.\n",
      "Using deprecated `--per_gpu_eval_batch_size` argument which will be removed in a future version. Using `--per_device_eval_batch_size` is preferred.\n",
      "Saving model checkpoint to hface_test_v0\\checkpoint-126500\n",
      "Configuration saved in hface_test_v0\\checkpoint-126500\\config.json\n",
      "Model weights saved in hface_test_v0\\checkpoint-126500\\pytorch_model.bin\n",
      "Feature extractor saved in hface_test_v0\\checkpoint-126500\\preprocessor_config.json\n",
      "Deleting older checkpoint [hface_test_v0\\checkpoint-122375] due to args.save_total_limit\n",
      "Using deprecated `--per_gpu_eval_batch_size` argument which will be removed in a future version. Using `--per_device_eval_batch_size` is preferred.\n",
      "Using deprecated `--per_gpu_eval_batch_size` argument which will be removed in a future version. Using `--per_device_eval_batch_size` is preferred.\n",
      "***** Running Evaluation *****\n",
      "  Num examples = 551\n",
      "  Batch size = 1\n",
      "The following columns in the evaluation set don't have a corresponding argument in `ViTMAEForPreTraining.forward` and have been ignored: input. If input are not expected by `ViTMAEForPreTraining.forward`,  you can safely ignore this message.\n",
      "Using deprecated `--per_gpu_eval_batch_size` argument which will be removed in a future version. Using `--per_device_eval_batch_size` is preferred.\n",
      "Saving model checkpoint to hface_test_v0\\checkpoint-127875\n",
      "Configuration saved in hface_test_v0\\checkpoint-127875\\config.json\n",
      "Model weights saved in hface_test_v0\\checkpoint-127875\\pytorch_model.bin\n",
      "Feature extractor saved in hface_test_v0\\checkpoint-127875\\preprocessor_config.json\n",
      "Deleting older checkpoint [hface_test_v0\\checkpoint-123750] due to args.save_total_limit\n",
      "Using deprecated `--per_gpu_eval_batch_size` argument which will be removed in a future version. Using `--per_device_eval_batch_size` is preferred.\n",
      "Using deprecated `--per_gpu_eval_batch_size` argument which will be removed in a future version. Using `--per_device_eval_batch_size` is preferred.\n",
      "***** Running Evaluation *****\n",
      "  Num examples = 551\n",
      "  Batch size = 1\n",
      "The following columns in the evaluation set don't have a corresponding argument in `ViTMAEForPreTraining.forward` and have been ignored: input. If input are not expected by `ViTMAEForPreTraining.forward`,  you can safely ignore this message.\n",
      "Using deprecated `--per_gpu_eval_batch_size` argument which will be removed in a future version. Using `--per_device_eval_batch_size` is preferred.\n",
      "Saving model checkpoint to hface_test_v0\\checkpoint-129250\n",
      "Configuration saved in hface_test_v0\\checkpoint-129250\\config.json\n",
      "Model weights saved in hface_test_v0\\checkpoint-129250\\pytorch_model.bin\n",
      "Feature extractor saved in hface_test_v0\\checkpoint-129250\\preprocessor_config.json\n",
      "Deleting older checkpoint [hface_test_v0\\checkpoint-125125] due to args.save_total_limit\n",
      "Using deprecated `--per_gpu_eval_batch_size` argument which will be removed in a future version. Using `--per_device_eval_batch_size` is preferred.\n",
      "Using deprecated `--per_gpu_eval_batch_size` argument which will be removed in a future version. Using `--per_device_eval_batch_size` is preferred.\n",
      "***** Running Evaluation *****\n",
      "  Num examples = 551\n",
      "  Batch size = 1\n",
      "The following columns in the evaluation set don't have a corresponding argument in `ViTMAEForPreTraining.forward` and have been ignored: input. If input are not expected by `ViTMAEForPreTraining.forward`,  you can safely ignore this message.\n",
      "Using deprecated `--per_gpu_eval_batch_size` argument which will be removed in a future version. Using `--per_device_eval_batch_size` is preferred.\n",
      "Saving model checkpoint to hface_test_v0\\checkpoint-130625\n",
      "Configuration saved in hface_test_v0\\checkpoint-130625\\config.json\n",
      "Model weights saved in hface_test_v0\\checkpoint-130625\\pytorch_model.bin\n",
      "Feature extractor saved in hface_test_v0\\checkpoint-130625\\preprocessor_config.json\n",
      "Deleting older checkpoint [hface_test_v0\\checkpoint-126500] due to args.save_total_limit\n",
      "Using deprecated `--per_gpu_eval_batch_size` argument which will be removed in a future version. Using `--per_device_eval_batch_size` is preferred.\n",
      "Using deprecated `--per_gpu_eval_batch_size` argument which will be removed in a future version. Using `--per_device_eval_batch_size` is preferred.\n",
      "***** Running Evaluation *****\n",
      "  Num examples = 551\n",
      "  Batch size = 1\n",
      "The following columns in the evaluation set don't have a corresponding argument in `ViTMAEForPreTraining.forward` and have been ignored: input. If input are not expected by `ViTMAEForPreTraining.forward`,  you can safely ignore this message.\n",
      "Using deprecated `--per_gpu_eval_batch_size` argument which will be removed in a future version. Using `--per_device_eval_batch_size` is preferred.\n"
     ]
    },
    {
     "name": "stderr",
     "output_type": "stream",
     "text": [
      "Saving model checkpoint to hface_test_v0\\checkpoint-132000\n",
      "Configuration saved in hface_test_v0\\checkpoint-132000\\config.json\n",
      "Model weights saved in hface_test_v0\\checkpoint-132000\\pytorch_model.bin\n",
      "Feature extractor saved in hface_test_v0\\checkpoint-132000\\preprocessor_config.json\n",
      "Deleting older checkpoint [hface_test_v0\\checkpoint-127875] due to args.save_total_limit\n",
      "Using deprecated `--per_gpu_eval_batch_size` argument which will be removed in a future version. Using `--per_device_eval_batch_size` is preferred.\n",
      "Using deprecated `--per_gpu_eval_batch_size` argument which will be removed in a future version. Using `--per_device_eval_batch_size` is preferred.\n",
      "***** Running Evaluation *****\n",
      "  Num examples = 551\n",
      "  Batch size = 1\n",
      "The following columns in the evaluation set don't have a corresponding argument in `ViTMAEForPreTraining.forward` and have been ignored: input. If input are not expected by `ViTMAEForPreTraining.forward`,  you can safely ignore this message.\n",
      "Using deprecated `--per_gpu_eval_batch_size` argument which will be removed in a future version. Using `--per_device_eval_batch_size` is preferred.\n",
      "Saving model checkpoint to hface_test_v0\\checkpoint-133375\n",
      "Configuration saved in hface_test_v0\\checkpoint-133375\\config.json\n",
      "Model weights saved in hface_test_v0\\checkpoint-133375\\pytorch_model.bin\n",
      "Feature extractor saved in hface_test_v0\\checkpoint-133375\\preprocessor_config.json\n",
      "Deleting older checkpoint [hface_test_v0\\checkpoint-129250] due to args.save_total_limit\n",
      "Using deprecated `--per_gpu_eval_batch_size` argument which will be removed in a future version. Using `--per_device_eval_batch_size` is preferred.\n",
      "Using deprecated `--per_gpu_eval_batch_size` argument which will be removed in a future version. Using `--per_device_eval_batch_size` is preferred.\n",
      "***** Running Evaluation *****\n",
      "  Num examples = 551\n",
      "  Batch size = 1\n",
      "The following columns in the evaluation set don't have a corresponding argument in `ViTMAEForPreTraining.forward` and have been ignored: input. If input are not expected by `ViTMAEForPreTraining.forward`,  you can safely ignore this message.\n",
      "Using deprecated `--per_gpu_eval_batch_size` argument which will be removed in a future version. Using `--per_device_eval_batch_size` is preferred.\n",
      "Saving model checkpoint to hface_test_v0\\checkpoint-134750\n",
      "Configuration saved in hface_test_v0\\checkpoint-134750\\config.json\n",
      "Model weights saved in hface_test_v0\\checkpoint-134750\\pytorch_model.bin\n",
      "Feature extractor saved in hface_test_v0\\checkpoint-134750\\preprocessor_config.json\n",
      "Deleting older checkpoint [hface_test_v0\\checkpoint-130625] due to args.save_total_limit\n",
      "Using deprecated `--per_gpu_eval_batch_size` argument which will be removed in a future version. Using `--per_device_eval_batch_size` is preferred.\n",
      "Using deprecated `--per_gpu_eval_batch_size` argument which will be removed in a future version. Using `--per_device_eval_batch_size` is preferred.\n",
      "***** Running Evaluation *****\n",
      "  Num examples = 551\n",
      "  Batch size = 1\n",
      "The following columns in the evaluation set don't have a corresponding argument in `ViTMAEForPreTraining.forward` and have been ignored: input. If input are not expected by `ViTMAEForPreTraining.forward`,  you can safely ignore this message.\n",
      "Using deprecated `--per_gpu_eval_batch_size` argument which will be removed in a future version. Using `--per_device_eval_batch_size` is preferred.\n",
      "Saving model checkpoint to hface_test_v0\\checkpoint-136125\n",
      "Configuration saved in hface_test_v0\\checkpoint-136125\\config.json\n",
      "Model weights saved in hface_test_v0\\checkpoint-136125\\pytorch_model.bin\n",
      "Feature extractor saved in hface_test_v0\\checkpoint-136125\\preprocessor_config.json\n",
      "Deleting older checkpoint [hface_test_v0\\checkpoint-132000] due to args.save_total_limit\n",
      "Using deprecated `--per_gpu_eval_batch_size` argument which will be removed in a future version. Using `--per_device_eval_batch_size` is preferred.\n",
      "Using deprecated `--per_gpu_eval_batch_size` argument which will be removed in a future version. Using `--per_device_eval_batch_size` is preferred.\n",
      "***** Running Evaluation *****\n",
      "  Num examples = 551\n",
      "  Batch size = 1\n",
      "The following columns in the evaluation set don't have a corresponding argument in `ViTMAEForPreTraining.forward` and have been ignored: input. If input are not expected by `ViTMAEForPreTraining.forward`,  you can safely ignore this message.\n",
      "Using deprecated `--per_gpu_eval_batch_size` argument which will be removed in a future version. Using `--per_device_eval_batch_size` is preferred.\n",
      "Saving model checkpoint to hface_test_v0\\checkpoint-137500\n",
      "Configuration saved in hface_test_v0\\checkpoint-137500\\config.json\n",
      "Model weights saved in hface_test_v0\\checkpoint-137500\\pytorch_model.bin\n",
      "Feature extractor saved in hface_test_v0\\checkpoint-137500\\preprocessor_config.json\n",
      "Deleting older checkpoint [hface_test_v0\\checkpoint-133375] due to args.save_total_limit\n",
      "\n",
      "\n",
      "Training completed. Do not forget to share your model on huggingface.co/models =)\n",
      "\n",
      "\n",
      "Loading best model from hface_test_v0\\checkpoint-134750 (score: 0.3802545666694641).\n"
     ]
    },
    {
     "data": {
      "text/plain": [
       "TrainOutput(global_step=137500, training_loss=0.33032580840024084, metrics={'train_runtime': 17236.2479, 'train_samples_per_second': 63.819, 'train_steps_per_second': 7.977, 'total_flos': 1.13729689092096e+19, 'train_loss': 0.33032580840024084, 'epoch': 100.0})"
      ]
     },
     "execution_count": 51,
     "metadata": {},
     "output_type": "execute_result"
    }
   ],
   "source": [
    "trainer.train()"
   ]
  },
  {
   "cell_type": "code",
   "execution_count": null,
   "id": "93a059b4",
   "metadata": {},
   "outputs": [],
   "source": []
  },
  {
   "cell_type": "code",
   "execution_count": 52,
   "id": "adfc46e8",
   "metadata": {},
   "outputs": [
    {
     "name": "stderr",
     "output_type": "stream",
     "text": [
      "Saving model checkpoint to hface_test_v0/final.pt\n",
      "Configuration saved in hface_test_v0/final.pt\\config.json\n",
      "Model weights saved in hface_test_v0/final.pt\\pytorch_model.bin\n",
      "Feature extractor saved in hface_test_v0/final.pt\\preprocessor_config.json\n"
     ]
    }
   ],
   "source": [
    "trainer.save_model(\"hface_test_v0/final.pt\")"
   ]
  },
  {
   "cell_type": "code",
   "execution_count": 53,
   "id": "d4bc0cbc",
   "metadata": {},
   "outputs": [
    {
     "name": "stderr",
     "output_type": "stream",
     "text": [
      "Configuration saved in hface_test_v0/final_mae.pt\\config.json\n",
      "Model weights saved in hface_test_v0/final_mae.pt\\pytorch_model.bin\n"
     ]
    }
   ],
   "source": [
    "model.save_pretrained(\"hface_test_v0/final_mae.pt\")"
   ]
  },
  {
   "cell_type": "code",
   "execution_count": 157,
   "id": "334adc37",
   "metadata": {},
   "outputs": [],
   "source": [
    "# -mask_ratio 0.75 \\\n",
    "#     --norm_pix_loss \\\n",
    "#     --do_train \\\n",
    "#     --do_eval \\\n",
    "#     --base_learning_rate 1.5e-4 \\\n",
    "#     --lr_scheduler_type cosine \\\n",
    "#     --weight_decay 0.05 \\\n",
    "#     --num_train_epochs 800 \\\n",
    "#     --warmup_ratio 0.05 \\\n",
    "#     --per_device_train_batch_size 8 \\\n",
    "#     --per_device_eval_batch_size 8 \\\n",
    "#     --logging_strategy steps \\\n",
    "#     --logging_steps 10 \\\n",
    "#     --evaluation_strategy epoch \\\n",
    "#     --save_strategy epoch \\\n",
    "#     --load_best_model_at_end True \\\n",
    "#     --save_total_limit 3 \\\n",
    "#     --seed 1337"
   ]
  },
  {
   "cell_type": "code",
   "execution_count": null,
   "id": "e6943caf",
   "metadata": {},
   "outputs": [],
   "source": []
  },
  {
   "cell_type": "code",
   "execution_count": null,
   "id": "5ddb5188",
   "metadata": {},
   "outputs": [],
   "source": []
  },
  {
   "cell_type": "code",
   "execution_count": null,
   "id": "0b8023d4",
   "metadata": {},
   "outputs": [],
   "source": []
  },
  {
   "cell_type": "code",
   "execution_count": null,
   "id": "fd4727bb",
   "metadata": {},
   "outputs": [],
   "source": []
  },
  {
   "cell_type": "code",
   "execution_count": null,
   "id": "028d06a7",
   "metadata": {},
   "outputs": [],
   "source": []
  },
  {
   "cell_type": "code",
   "execution_count": null,
   "id": "a4372fab",
   "metadata": {},
   "outputs": [],
   "source": []
  },
  {
   "cell_type": "code",
   "execution_count": null,
   "id": "c1eeec4d",
   "metadata": {},
   "outputs": [],
   "source": []
  },
  {
   "cell_type": "markdown",
   "id": "82d06691",
   "metadata": {},
   "source": [
    "## MAE"
   ]
  },
  {
   "cell_type": "code",
   "execution_count": null,
   "id": "1aa38b7c",
   "metadata": {},
   "outputs": [],
   "source": []
  },
  {
   "cell_type": "code",
   "execution_count": 249,
   "id": "78f7bb56",
   "metadata": {},
   "outputs": [],
   "source": [
    "v = ViT(\n",
    "    image_size = 500,\n",
    "#     patch_size = 32,\n",
    "    patch_size = 16,\n",
    "    num_classes = 15,\n",
    "#     dim = 1024,\n",
    "    dim = 512,\n",
    "    depth = 6,\n",
    "    heads = 8,\n",
    "#     mlp_dim = 2048,\n",
    "    mlp_dim = 512,\n",
    "    channels=1\n",
    ")\n",
    "mae = MAE(\n",
    "    encoder = v,\n",
    "    masking_ratio = 0.75,   # the paper recommended 75% masked patches\n",
    "    decoder_dim = 512,      # paper showed good results with just 512\n",
    "    decoder_depth = 6       # anywhere from 1 to 8\n",
    ")"
   ]
  },
  {
   "cell_type": "code",
   "execution_count": 250,
   "id": "5da82a33",
   "metadata": {},
   "outputs": [],
   "source": []
  },
  {
   "cell_type": "code",
   "execution_count": null,
   "id": "b2186212",
   "metadata": {},
   "outputs": [],
   "source": []
  },
  {
   "cell_type": "code",
   "execution_count": 251,
   "id": "e688cba8",
   "metadata": {},
   "outputs": [],
   "source": [
    "from tqdm import tqdm\n",
    "import torch.optim as optim"
   ]
  },
  {
   "cell_type": "code",
   "execution_count": 252,
   "id": "559dcd34",
   "metadata": {},
   "outputs": [],
   "source": [
    "mae = mae.to(DEVICE)"
   ]
  },
  {
   "cell_type": "code",
   "execution_count": 253,
   "id": "5ff81ca2",
   "metadata": {},
   "outputs": [
    {
     "data": {
      "text/plain": [
       "torch.Size([8, 1, 224, 224])"
      ]
     },
     "execution_count": 253,
     "metadata": {},
     "output_type": "execute_result"
    }
   ],
   "source": [
    "data.shape"
   ]
  },
  {
   "cell_type": "code",
   "execution_count": 254,
   "id": "7e2aff07",
   "metadata": {},
   "outputs": [],
   "source": [
    "def get_total_loss(model, dataloader):\n",
    "    total_loss = 0\n",
    "    for batch_idx, data in enumerate(dataloader):\n",
    "        loss = mae(data.to(device))\n",
    "        total_loss += loss.item()\n",
    "    return total_loss"
   ]
  },
  {
   "cell_type": "code",
   "execution_count": 255,
   "id": "45e57a8d",
   "metadata": {},
   "outputs": [],
   "source": [
    "# optimizer = optim.AdamW(mae.parameters(), lr=1e-2)\n",
    "# optimizer = optim.AdamW(mae.parameters(), lr=5e-2, weight_decay=0.05, betas=(0.9, 0.95))\n",
    "optimizer = optim.AdamW(mae.parameters(), lr=5e-3, weight_decay=0.05, betas=(0.9, 0.95))"
   ]
  },
  {
   "cell_type": "code",
   "execution_count": null,
   "id": "89b0d26c",
   "metadata": {},
   "outputs": [],
   "source": []
  },
  {
   "cell_type": "code",
   "execution_count": 256,
   "id": "34d2aaec",
   "metadata": {},
   "outputs": [
    {
     "name": "stderr",
     "output_type": "stream",
     "text": [
      "100%|████████████████████████████████████████████████████████████████████████████████████████| 275/275 [00:25<00:00, 10.84it/s]\n"
     ]
    },
    {
     "name": "stdout",
     "output_type": "stream",
     "text": [
      "Epoch: 0; Loss: 276080.3042449951; Test Loss: 246350.5579147339\n"
     ]
    },
    {
     "name": "stderr",
     "output_type": "stream",
     "text": [
      "100%|████████████████████████████████████████████████████████████████████████████████████████| 275/275 [00:25<00:00, 10.83it/s]\n"
     ]
    },
    {
     "name": "stdout",
     "output_type": "stream",
     "text": [
      "Epoch: 1; Loss: 89291.69067382812; Test Loss: 140533.61388397217\n"
     ]
    },
    {
     "name": "stderr",
     "output_type": "stream",
     "text": [
      "100%|████████████████████████████████████████████████████████████████████████████████████████| 275/275 [00:23<00:00, 11.78it/s]\n"
     ]
    },
    {
     "name": "stdout",
     "output_type": "stream",
     "text": [
      "Epoch: 2; Loss: 54749.39376068115; Test Loss: 96360.1615486145\n"
     ]
    },
    {
     "name": "stderr",
     "output_type": "stream",
     "text": [
      "100%|████████████████████████████████████████████████████████████████████████████████████████| 275/275 [00:23<00:00, 11.81it/s]\n"
     ]
    },
    {
     "name": "stdout",
     "output_type": "stream",
     "text": [
      "Epoch: 3; Loss: 48744.62087249756; Test Loss: 83770.93311691284\n"
     ]
    },
    {
     "name": "stderr",
     "output_type": "stream",
     "text": [
      "100%|████████████████████████████████████████████████████████████████████████████████████████| 275/275 [00:23<00:00, 11.63it/s]\n"
     ]
    },
    {
     "name": "stdout",
     "output_type": "stream",
     "text": [
      "Epoch: 4; Loss: 43921.656311035156; Test Loss: 78264.68698692322\n"
     ]
    },
    {
     "name": "stderr",
     "output_type": "stream",
     "text": [
      "100%|████████████████████████████████████████████████████████████████████████████████████████| 275/275 [00:24<00:00, 11.33it/s]\n"
     ]
    },
    {
     "name": "stdout",
     "output_type": "stream",
     "text": [
      "Epoch: 5; Loss: 40744.013359069824; Test Loss: 81621.57325744629\n"
     ]
    },
    {
     "name": "stderr",
     "output_type": "stream",
     "text": [
      "100%|████████████████████████████████████████████████████████████████████████████████████████| 275/275 [00:23<00:00, 11.77it/s]\n"
     ]
    },
    {
     "name": "stdout",
     "output_type": "stream",
     "text": [
      "Epoch: 6; Loss: 38521.14498138428; Test Loss: 76112.8122215271\n"
     ]
    },
    {
     "name": "stderr",
     "output_type": "stream",
     "text": [
      "100%|████████████████████████████████████████████████████████████████████████████████████████| 275/275 [00:23<00:00, 11.79it/s]\n"
     ]
    },
    {
     "name": "stdout",
     "output_type": "stream",
     "text": [
      "Epoch: 7; Loss: 39314.981216430664; Test Loss: 78907.4281539917\n"
     ]
    },
    {
     "name": "stderr",
     "output_type": "stream",
     "text": [
      "100%|████████████████████████████████████████████████████████████████████████████████████████| 275/275 [00:24<00:00, 11.20it/s]\n"
     ]
    },
    {
     "name": "stdout",
     "output_type": "stream",
     "text": [
      "Epoch: 8; Loss: 37101.98306274414; Test Loss: 72873.41133499146\n"
     ]
    },
    {
     "name": "stderr",
     "output_type": "stream",
     "text": [
      "100%|████████████████████████████████████████████████████████████████████████████████████████| 275/275 [00:23<00:00, 11.54it/s]\n"
     ]
    },
    {
     "name": "stdout",
     "output_type": "stream",
     "text": [
      "Epoch: 9; Loss: 37447.97604370117; Test Loss: 74116.89520454407\n"
     ]
    },
    {
     "name": "stderr",
     "output_type": "stream",
     "text": [
      "100%|████████████████████████████████████████████████████████████████████████████████████████| 275/275 [00:23<00:00, 11.77it/s]\n"
     ]
    },
    {
     "name": "stdout",
     "output_type": "stream",
     "text": [
      "Epoch: 10; Loss: 38564.417976379395; Test Loss: 71480.00602912903\n"
     ]
    },
    {
     "name": "stderr",
     "output_type": "stream",
     "text": [
      "100%|████████████████████████████████████████████████████████████████████████████████████████| 275/275 [00:23<00:00, 11.77it/s]\n"
     ]
    },
    {
     "name": "stdout",
     "output_type": "stream",
     "text": [
      "Epoch: 11; Loss: 37344.94650268555; Test Loss: 69573.21865081787\n"
     ]
    },
    {
     "name": "stderr",
     "output_type": "stream",
     "text": [
      "100%|████████████████████████████████████████████████████████████████████████████████████████| 275/275 [00:25<00:00, 10.96it/s]\n"
     ]
    },
    {
     "name": "stdout",
     "output_type": "stream",
     "text": [
      "Epoch: 12; Loss: 35259.97687149048; Test Loss: 68291.31255722046\n"
     ]
    },
    {
     "name": "stderr",
     "output_type": "stream",
     "text": [
      "100%|████████████████████████████████████████████████████████████████████████████████████████| 275/275 [00:23<00:00, 11.77it/s]\n"
     ]
    },
    {
     "name": "stdout",
     "output_type": "stream",
     "text": [
      "Epoch: 13; Loss: 34774.32368469238; Test Loss: 70128.72945213318\n"
     ]
    },
    {
     "name": "stderr",
     "output_type": "stream",
     "text": [
      "100%|████████████████████████████████████████████████████████████████████████████████████████| 275/275 [00:23<00:00, 11.77it/s]\n"
     ]
    },
    {
     "name": "stdout",
     "output_type": "stream",
     "text": [
      "Epoch: 14; Loss: 34367.07344055176; Test Loss: 64517.289363861084\n"
     ]
    },
    {
     "name": "stderr",
     "output_type": "stream",
     "text": [
      "100%|████████████████████████████████████████████████████████████████████████████████████████| 275/275 [00:23<00:00, 11.79it/s]\n"
     ]
    },
    {
     "name": "stdout",
     "output_type": "stream",
     "text": [
      "Epoch: 15; Loss: 34087.94969558716; Test Loss: 64260.59979057312\n"
     ]
    },
    {
     "name": "stderr",
     "output_type": "stream",
     "text": [
      "100%|████████████████████████████████████████████████████████████████████████████████████████| 275/275 [00:24<00:00, 11.01it/s]\n"
     ]
    },
    {
     "name": "stdout",
     "output_type": "stream",
     "text": [
      "Epoch: 16; Loss: 39253.41689300537; Test Loss: 63982.686040878296\n"
     ]
    },
    {
     "name": "stderr",
     "output_type": "stream",
     "text": [
      "100%|████████████████████████████████████████████████████████████████████████████████████████| 275/275 [00:23<00:00, 11.79it/s]\n"
     ]
    },
    {
     "name": "stdout",
     "output_type": "stream",
     "text": [
      "Epoch: 17; Loss: 33696.09609222412; Test Loss: 64116.94851875305\n"
     ]
    },
    {
     "name": "stderr",
     "output_type": "stream",
     "text": [
      "100%|████████████████████████████████████████████████████████████████████████████████████████| 275/275 [00:23<00:00, 11.80it/s]\n"
     ]
    },
    {
     "name": "stdout",
     "output_type": "stream",
     "text": [
      "Epoch: 18; Loss: 33439.7018737793; Test Loss: 62960.07576942444\n"
     ]
    },
    {
     "name": "stderr",
     "output_type": "stream",
     "text": [
      "100%|████████████████████████████████████████████████████████████████████████████████████████| 275/275 [00:24<00:00, 11.45it/s]\n"
     ]
    },
    {
     "name": "stdout",
     "output_type": "stream",
     "text": [
      "Epoch: 19; Loss: 33231.4119720459; Test Loss: 63414.529989242554\n"
     ]
    },
    {
     "name": "stderr",
     "output_type": "stream",
     "text": [
      "100%|████████████████████████████████████████████████████████████████████████████████████████| 275/275 [00:24<00:00, 11.41it/s]\n"
     ]
    },
    {
     "name": "stdout",
     "output_type": "stream",
     "text": [
      "Epoch: 20; Loss: 33528.21862792969; Test Loss: 64198.66967201233\n"
     ]
    },
    {
     "name": "stderr",
     "output_type": "stream",
     "text": [
      "100%|████████████████████████████████████████████████████████████████████████████████████████| 275/275 [00:23<00:00, 11.77it/s]\n"
     ]
    },
    {
     "name": "stdout",
     "output_type": "stream",
     "text": [
      "Epoch: 21; Loss: 33123.91159057617; Test Loss: 62405.891607284546\n"
     ]
    },
    {
     "name": "stderr",
     "output_type": "stream",
     "text": [
      "100%|████████████████████████████████████████████████████████████████████████████████████████| 275/275 [00:23<00:00, 11.74it/s]\n"
     ]
    },
    {
     "name": "stdout",
     "output_type": "stream",
     "text": [
      "Epoch: 22; Loss: 32624.351928710938; Test Loss: 62492.674715042114\n"
     ]
    },
    {
     "name": "stderr",
     "output_type": "stream",
     "text": [
      "100%|████████████████████████████████████████████████████████████████████████████████████████| 275/275 [00:24<00:00, 11.11it/s]\n"
     ]
    },
    {
     "name": "stdout",
     "output_type": "stream",
     "text": [
      "Epoch: 23; Loss: 32692.774353027344; Test Loss: 62482.71595954895\n"
     ]
    },
    {
     "name": "stderr",
     "output_type": "stream",
     "text": [
      "100%|████████████████████████████████████████████████████████████████████████████████████████| 275/275 [00:23<00:00, 11.78it/s]\n"
     ]
    },
    {
     "name": "stdout",
     "output_type": "stream",
     "text": [
      "Epoch: 24; Loss: 32527.833568572998; Test Loss: 64123.42633628845\n"
     ]
    },
    {
     "name": "stderr",
     "output_type": "stream",
     "text": [
      "100%|████████████████████████████████████████████████████████████████████████████████████████| 275/275 [00:23<00:00, 11.83it/s]\n"
     ]
    },
    {
     "name": "stdout",
     "output_type": "stream",
     "text": [
      "Epoch: 25; Loss: 32729.608673095703; Test Loss: 64575.148067474365\n"
     ]
    },
    {
     "name": "stderr",
     "output_type": "stream",
     "text": [
      "100%|████████████████████████████████████████████████████████████████████████████████████████| 275/275 [00:23<00:00, 11.79it/s]\n"
     ]
    },
    {
     "name": "stdout",
     "output_type": "stream",
     "text": [
      "Epoch: 26; Loss: 32585.535484313965; Test Loss: 64037.85218048096\n"
     ]
    },
    {
     "name": "stderr",
     "output_type": "stream",
     "text": [
      "100%|████████████████████████████████████████████████████████████████████████████████████████| 275/275 [00:25<00:00, 10.92it/s]\n"
     ]
    },
    {
     "name": "stdout",
     "output_type": "stream",
     "text": [
      "Epoch: 27; Loss: 32540.621856689453; Test Loss: 58861.048990249634\n"
     ]
    },
    {
     "name": "stderr",
     "output_type": "stream",
     "text": [
      "100%|████████████████████████████████████████████████████████████████████████████████████████| 275/275 [00:23<00:00, 11.78it/s]\n"
     ]
    },
    {
     "name": "stdout",
     "output_type": "stream",
     "text": [
      "Epoch: 28; Loss: 32262.860801696777; Test Loss: 62310.73246002197\n"
     ]
    },
    {
     "name": "stderr",
     "output_type": "stream",
     "text": [
      "100%|████████████████████████████████████████████████████████████████████████████████████████| 275/275 [00:23<00:00, 11.76it/s]\n"
     ]
    },
    {
     "name": "stdout",
     "output_type": "stream",
     "text": [
      "Epoch: 29; Loss: 32077.321975708008; Test Loss: 61365.99906539917\n"
     ]
    },
    {
     "name": "stderr",
     "output_type": "stream",
     "text": [
      "100%|████████████████████████████████████████████████████████████████████████████████████████| 275/275 [00:23<00:00, 11.62it/s]\n"
     ]
    },
    {
     "name": "stdout",
     "output_type": "stream",
     "text": [
      "Epoch: 30; Loss: 32290.115825653076; Test Loss: 62180.878032684326\n"
     ]
    },
    {
     "name": "stderr",
     "output_type": "stream",
     "text": [
      "100%|████████████████████████████████████████████████████████████████████████████████████████| 275/275 [00:32<00:00,  8.54it/s]\n"
     ]
    },
    {
     "name": "stdout",
     "output_type": "stream",
     "text": [
      "Epoch: 31; Loss: 31770.214351654053; Test Loss: 63384.885791778564\n"
     ]
    },
    {
     "name": "stderr",
     "output_type": "stream",
     "text": [
      "100%|████████████████████████████████████████████████████████████████████████████████████████| 275/275 [00:25<00:00, 10.89it/s]\n"
     ]
    },
    {
     "name": "stdout",
     "output_type": "stream",
     "text": [
      "Epoch: 32; Loss: 32172.485313415527; Test Loss: 67790.1958732605\n"
     ]
    },
    {
     "name": "stderr",
     "output_type": "stream",
     "text": [
      "100%|████████████████████████████████████████████████████████████████████████████████████████| 275/275 [00:23<00:00, 11.76it/s]\n"
     ]
    },
    {
     "name": "stdout",
     "output_type": "stream",
     "text": [
      "Epoch: 33; Loss: 32014.1664352417; Test Loss: 62485.85102844238\n"
     ]
    },
    {
     "name": "stderr",
     "output_type": "stream",
     "text": [
      "100%|████████████████████████████████████████████████████████████████████████████████████████| 275/275 [00:25<00:00, 10.95it/s]\n"
     ]
    },
    {
     "name": "stdout",
     "output_type": "stream",
     "text": [
      "Epoch: 34; Loss: 31977.01109313965; Test Loss: 62845.21714782715\n"
     ]
    },
    {
     "name": "stderr",
     "output_type": "stream",
     "text": [
      "100%|████████████████████████████████████████████████████████████████████████████████████████| 275/275 [00:23<00:00, 11.73it/s]\n"
     ]
    },
    {
     "name": "stdout",
     "output_type": "stream",
     "text": [
      "Epoch: 35; Loss: 32266.510864257812; Test Loss: 62610.413579940796\n"
     ]
    },
    {
     "name": "stderr",
     "output_type": "stream",
     "text": [
      "100%|████████████████████████████████████████████████████████████████████████████████████████| 275/275 [00:23<00:00, 11.75it/s]\n"
     ]
    },
    {
     "name": "stdout",
     "output_type": "stream",
     "text": [
      "Epoch: 36; Loss: 31842.93252182007; Test Loss: 60536.518907547\n"
     ]
    },
    {
     "name": "stderr",
     "output_type": "stream",
     "text": [
      "100%|████████████████████████████████████████████████████████████████████████████████████████| 275/275 [00:23<00:00, 11.64it/s]\n"
     ]
    },
    {
     "name": "stdout",
     "output_type": "stream",
     "text": [
      "Epoch: 37; Loss: 32036.33642578125; Test Loss: 69159.2629070282\n"
     ]
    },
    {
     "name": "stderr",
     "output_type": "stream",
     "text": [
      "100%|████████████████████████████████████████████████████████████████████████████████████████| 275/275 [00:24<00:00, 11.28it/s]\n"
     ]
    },
    {
     "name": "stdout",
     "output_type": "stream",
     "text": [
      "Epoch: 38; Loss: 31939.500198364258; Test Loss: 61691.8097076416\n"
     ]
    },
    {
     "name": "stderr",
     "output_type": "stream",
     "text": [
      "100%|████████████████████████████████████████████████████████████████████████████████████████| 275/275 [00:23<00:00, 11.77it/s]\n"
     ]
    },
    {
     "name": "stdout",
     "output_type": "stream",
     "text": [
      "Epoch: 39; Loss: 31813.528816223145; Test Loss: 63400.95610618591\n"
     ]
    },
    {
     "name": "stderr",
     "output_type": "stream",
     "text": [
      "100%|████████████████████████████████████████████████████████████████████████████████████████| 275/275 [00:23<00:00, 11.82it/s]\n"
     ]
    },
    {
     "name": "stdout",
     "output_type": "stream",
     "text": [
      "Epoch: 40; Loss: 31659.230533599854; Test Loss: 64084.54666137695\n"
     ]
    },
    {
     "name": "stderr",
     "output_type": "stream",
     "text": [
      "100%|████████████████████████████████████████████████████████████████████████████████████████| 275/275 [00:23<00:00, 11.52it/s]\n"
     ]
    },
    {
     "name": "stdout",
     "output_type": "stream",
     "text": [
      "Epoch: 41; Loss: 31789.322193145752; Test Loss: 63040.64032936096\n"
     ]
    },
    {
     "name": "stderr",
     "output_type": "stream",
     "text": [
      "100%|████████████████████████████████████████████████████████████████████████████████████████| 275/275 [00:24<00:00, 11.45it/s]\n"
     ]
    },
    {
     "name": "stdout",
     "output_type": "stream",
     "text": [
      "Epoch: 42; Loss: 31776.0304107666; Test Loss: 62634.44348335266\n"
     ]
    },
    {
     "name": "stderr",
     "output_type": "stream",
     "text": [
      "100%|████████████████████████████████████████████████████████████████████████████████████████| 275/275 [00:23<00:00, 11.80it/s]\n"
     ]
    },
    {
     "name": "stdout",
     "output_type": "stream",
     "text": [
      "Epoch: 43; Loss: 31546.23041152954; Test Loss: 60606.60872268677\n"
     ]
    },
    {
     "name": "stderr",
     "output_type": "stream",
     "text": [
      "100%|████████████████████████████████████████████████████████████████████████████████████████| 275/275 [00:23<00:00, 11.82it/s]\n"
     ]
    },
    {
     "name": "stdout",
     "output_type": "stream",
     "text": [
      "Epoch: 44; Loss: 31711.528747558594; Test Loss: 61192.1139755249\n"
     ]
    },
    {
     "name": "stderr",
     "output_type": "stream",
     "text": [
      "100%|████████████████████████████████████████████████████████████████████████████████████████| 275/275 [00:24<00:00, 11.15it/s]\n"
     ]
    },
    {
     "name": "stdout",
     "output_type": "stream",
     "text": [
      "Epoch: 45; Loss: 31438.24723815918; Test Loss: 62366.50410270691\n"
     ]
    },
    {
     "name": "stderr",
     "output_type": "stream",
     "text": [
      "100%|████████████████████████████████████████████████████████████████████████████████████████| 275/275 [00:23<00:00, 11.80it/s]\n"
     ]
    },
    {
     "name": "stdout",
     "output_type": "stream",
     "text": [
      "Epoch: 46; Loss: 31485.332569122314; Test Loss: 59283.84027290344\n"
     ]
    },
    {
     "name": "stderr",
     "output_type": "stream",
     "text": [
      "100%|████████████████████████████████████████████████████████████████████████████████████████| 275/275 [00:23<00:00, 11.79it/s]\n"
     ]
    },
    {
     "name": "stdout",
     "output_type": "stream",
     "text": [
      "Epoch: 47; Loss: 31516.596271514893; Test Loss: 60040.50053024292\n"
     ]
    },
    {
     "name": "stderr",
     "output_type": "stream",
     "text": [
      "100%|████████████████████████████████████████████████████████████████████████████████████████| 275/275 [00:23<00:00, 11.81it/s]\n"
     ]
    },
    {
     "name": "stdout",
     "output_type": "stream",
     "text": [
      "Epoch: 48; Loss: 31627.313526153564; Test Loss: 59621.68665885925\n"
     ]
    },
    {
     "name": "stderr",
     "output_type": "stream",
     "text": [
      "100%|████████████████████████████████████████████████████████████████████████████████████████| 275/275 [00:24<00:00, 11.20it/s]\n"
     ]
    },
    {
     "name": "stdout",
     "output_type": "stream",
     "text": [
      "Epoch: 49; Loss: 31377.757362365723; Test Loss: 59619.49256324768\n"
     ]
    },
    {
     "name": "stderr",
     "output_type": "stream",
     "text": [
      "100%|████████████████████████████████████████████████████████████████████████████████████████| 275/275 [00:23<00:00, 11.80it/s]\n"
     ]
    },
    {
     "name": "stdout",
     "output_type": "stream",
     "text": [
      "Epoch: 50; Loss: 31536.31558227539; Test Loss: 59540.72929382324\n"
     ]
    },
    {
     "name": "stderr",
     "output_type": "stream",
     "text": [
      "100%|████████████████████████████████████████████████████████████████████████████████████████| 275/275 [00:23<00:00, 11.80it/s]\n"
     ]
    },
    {
     "name": "stdout",
     "output_type": "stream",
     "text": [
      "Epoch: 51; Loss: 31206.057327270508; Test Loss: 61438.022062301636\n"
     ]
    },
    {
     "name": "stderr",
     "output_type": "stream",
     "text": [
      "100%|████████████████████████████████████████████████████████████████████████████████████████| 275/275 [00:23<00:00, 11.70it/s]\n"
     ]
    },
    {
     "name": "stdout",
     "output_type": "stream",
     "text": [
      "Epoch: 52; Loss: 31353.19784927368; Test Loss: 58263.9245929718\n"
     ]
    },
    {
     "name": "stderr",
     "output_type": "stream",
     "text": [
      "100%|████████████████████████████████████████████████████████████████████████████████████████| 275/275 [00:24<00:00, 11.28it/s]\n"
     ]
    },
    {
     "name": "stdout",
     "output_type": "stream",
     "text": [
      "Epoch: 53; Loss: 31330.62195968628; Test Loss: 58904.20904922485\n"
     ]
    },
    {
     "name": "stderr",
     "output_type": "stream",
     "text": [
      "100%|████████████████████████████████████████████████████████████████████████████████████████| 275/275 [00:23<00:00, 11.82it/s]\n"
     ]
    },
    {
     "name": "stdout",
     "output_type": "stream",
     "text": [
      "Epoch: 54; Loss: 31120.392684936523; Test Loss: 60504.27367019653\n"
     ]
    },
    {
     "name": "stderr",
     "output_type": "stream",
     "text": [
      "100%|████████████████████████████████████████████████████████████████████████████████████████| 275/275 [00:23<00:00, 11.79it/s]\n"
     ]
    },
    {
     "name": "stdout",
     "output_type": "stream",
     "text": [
      "Epoch: 55; Loss: 31487.384742736816; Test Loss: 71139.6710472107\n"
     ]
    },
    {
     "name": "stderr",
     "output_type": "stream",
     "text": [
      "100%|████████████████████████████████████████████████████████████████████████████████████████| 275/275 [00:23<00:00, 11.53it/s]\n"
     ]
    },
    {
     "name": "stdout",
     "output_type": "stream",
     "text": [
      "Epoch: 56; Loss: 31281.676010131836; Test Loss: 62416.58356285095\n"
     ]
    },
    {
     "name": "stderr",
     "output_type": "stream",
     "text": [
      "100%|████████████████████████████████████████████████████████████████████████████████████████| 275/275 [00:23<00:00, 11.54it/s]\n"
     ]
    },
    {
     "name": "stdout",
     "output_type": "stream",
     "text": [
      "Epoch: 57; Loss: 31330.523864746094; Test Loss: 65686.55772399902\n"
     ]
    },
    {
     "name": "stderr",
     "output_type": "stream",
     "text": [
      "100%|████████████████████████████████████████████████████████████████████████████████████████| 275/275 [00:23<00:00, 11.80it/s]\n"
     ]
    },
    {
     "name": "stdout",
     "output_type": "stream",
     "text": [
      "Epoch: 58; Loss: 31054.891708374023; Test Loss: 62164.995641708374\n"
     ]
    },
    {
     "name": "stderr",
     "output_type": "stream",
     "text": [
      "100%|████████████████████████████████████████████████████████████████████████████████████████| 275/275 [00:23<00:00, 11.83it/s]\n"
     ]
    },
    {
     "name": "stdout",
     "output_type": "stream",
     "text": [
      "Epoch: 59; Loss: 31307.556316375732; Test Loss: 64342.106439590454\n"
     ]
    },
    {
     "name": "stderr",
     "output_type": "stream",
     "text": [
      "100%|████████████████████████████████████████████████████████████████████████████████████████| 275/275 [00:24<00:00, 11.03it/s]\n"
     ]
    },
    {
     "name": "stdout",
     "output_type": "stream",
     "text": [
      "Epoch: 60; Loss: 31212.03783416748; Test Loss: 60124.2713470459\n"
     ]
    },
    {
     "name": "stderr",
     "output_type": "stream",
     "text": [
      "100%|████████████████████████████████████████████████████████████████████████████████████████| 275/275 [00:23<00:00, 11.71it/s]\n"
     ]
    },
    {
     "name": "stdout",
     "output_type": "stream",
     "text": [
      "Epoch: 61; Loss: 31233.347076416016; Test Loss: 59062.84935760498\n"
     ]
    },
    {
     "name": "stderr",
     "output_type": "stream",
     "text": [
      "100%|████████████████████████████████████████████████████████████████████████████████████████| 275/275 [00:23<00:00, 11.78it/s]\n"
     ]
    },
    {
     "name": "stdout",
     "output_type": "stream",
     "text": [
      "Epoch: 62; Loss: 31084.09398651123; Test Loss: 60232.30786895752\n"
     ]
    },
    {
     "name": "stderr",
     "output_type": "stream",
     "text": [
      "100%|████████████████████████████████████████████████████████████████████████████████████████| 275/275 [00:23<00:00, 11.78it/s]\n"
     ]
    },
    {
     "name": "stdout",
     "output_type": "stream",
     "text": [
      "Epoch: 63; Loss: 31249.912872314453; Test Loss: 60855.75570678711\n"
     ]
    },
    {
     "name": "stderr",
     "output_type": "stream",
     "text": [
      "100%|████████████████████████████████████████████████████████████████████████████████████████| 275/275 [00:25<00:00, 11.00it/s]\n"
     ]
    },
    {
     "name": "stdout",
     "output_type": "stream",
     "text": [
      "Epoch: 64; Loss: 31176.66524887085; Test Loss: 59502.97692871094\n"
     ]
    },
    {
     "name": "stderr",
     "output_type": "stream",
     "text": [
      "100%|████████████████████████████████████████████████████████████████████████████████████████| 275/275 [00:23<00:00, 11.71it/s]\n"
     ]
    },
    {
     "name": "stdout",
     "output_type": "stream",
     "text": [
      "Epoch: 65; Loss: 31194.1668510437; Test Loss: 61483.98736000061\n"
     ]
    },
    {
     "name": "stderr",
     "output_type": "stream",
     "text": [
      "100%|████████████████████████████████████████████████████████████████████████████████████████| 275/275 [00:23<00:00, 11.75it/s]\n"
     ]
    },
    {
     "name": "stdout",
     "output_type": "stream",
     "text": [
      "Epoch: 66; Loss: 31039.03722000122; Test Loss: 59375.24447631836\n"
     ]
    },
    {
     "name": "stderr",
     "output_type": "stream",
     "text": [
      "100%|████████████████████████████████████████████████████████████████████████████████████████| 275/275 [00:24<00:00, 11.46it/s]\n"
     ]
    },
    {
     "name": "stdout",
     "output_type": "stream",
     "text": [
      "Epoch: 67; Loss: 30878.195476531982; Test Loss: 58671.19668006897\n"
     ]
    },
    {
     "name": "stderr",
     "output_type": "stream",
     "text": [
      "100%|████████████████████████████████████████████████████████████████████████████████████████| 275/275 [00:24<00:00, 11.33it/s]\n"
     ]
    },
    {
     "name": "stdout",
     "output_type": "stream",
     "text": [
      "Epoch: 68; Loss: 31101.62539291382; Test Loss: 59497.98830413818\n"
     ]
    },
    {
     "name": "stderr",
     "output_type": "stream",
     "text": [
      "100%|████████████████████████████████████████████████████████████████████████████████████████| 275/275 [00:23<00:00, 11.76it/s]\n"
     ]
    },
    {
     "name": "stdout",
     "output_type": "stream",
     "text": [
      "Epoch: 69; Loss: 31255.86809539795; Test Loss: 57928.4369392395\n"
     ]
    },
    {
     "name": "stderr",
     "output_type": "stream",
     "text": [
      "100%|████████████████████████████████████████████████████████████████████████████████████████| 275/275 [00:23<00:00, 11.74it/s]\n"
     ]
    },
    {
     "name": "stdout",
     "output_type": "stream",
     "text": [
      "Epoch: 70; Loss: 30859.056114196777; Test Loss: 58360.06322669983\n"
     ]
    },
    {
     "name": "stderr",
     "output_type": "stream",
     "text": [
      "100%|████████████████████████████████████████████████████████████████████████████████████████| 275/275 [00:24<00:00, 11.25it/s]\n"
     ]
    },
    {
     "name": "stdout",
     "output_type": "stream",
     "text": [
      "Epoch: 71; Loss: 30945.903812408447; Test Loss: 59921.462911605835\n"
     ]
    },
    {
     "name": "stderr",
     "output_type": "stream",
     "text": [
      "100%|████████████████████████████████████████████████████████████████████████████████████████| 275/275 [00:23<00:00, 11.69it/s]\n"
     ]
    },
    {
     "name": "stdout",
     "output_type": "stream",
     "text": [
      "Epoch: 72; Loss: 31021.851440429688; Test Loss: 60211.430028915405\n"
     ]
    },
    {
     "name": "stderr",
     "output_type": "stream",
     "text": [
      "100%|████████████████████████████████████████████████████████████████████████████████████████| 275/275 [00:23<00:00, 11.73it/s]\n"
     ]
    },
    {
     "name": "stdout",
     "output_type": "stream",
     "text": [
      "Epoch: 73; Loss: 30954.92714691162; Test Loss: 60183.2161655426\n"
     ]
    },
    {
     "name": "stderr",
     "output_type": "stream",
     "text": [
      "100%|████████████████████████████████████████████████████████████████████████████████████████| 275/275 [00:23<00:00, 11.80it/s]\n"
     ]
    },
    {
     "name": "stdout",
     "output_type": "stream",
     "text": [
      "Epoch: 74; Loss: 31194.60179901123; Test Loss: 60798.046617507935\n"
     ]
    },
    {
     "name": "stderr",
     "output_type": "stream",
     "text": [
      "100%|████████████████████████████████████████████████████████████████████████████████████████| 275/275 [00:25<00:00, 10.83it/s]\n"
     ]
    },
    {
     "name": "stdout",
     "output_type": "stream",
     "text": [
      "Epoch: 75; Loss: 31070.525840759277; Test Loss: 59354.38853645325\n"
     ]
    },
    {
     "name": "stderr",
     "output_type": "stream",
     "text": [
      "100%|████████████████████████████████████████████████████████████████████████████████████████| 275/275 [00:23<00:00, 11.73it/s]\n"
     ]
    },
    {
     "name": "stdout",
     "output_type": "stream",
     "text": [
      "Epoch: 76; Loss: 31174.45948791504; Test Loss: 69144.55572891235\n"
     ]
    },
    {
     "name": "stderr",
     "output_type": "stream",
     "text": [
      "100%|████████████████████████████████████████████████████████████████████████████████████████| 275/275 [00:23<00:00, 11.70it/s]\n"
     ]
    },
    {
     "name": "stdout",
     "output_type": "stream",
     "text": [
      "Epoch: 77; Loss: 30934.80707168579; Test Loss: 59280.320837020874\n"
     ]
    },
    {
     "name": "stderr",
     "output_type": "stream",
     "text": [
      "100%|████████████████████████████████████████████████████████████████████████████████████████| 275/275 [00:23<00:00, 11.72it/s]\n"
     ]
    },
    {
     "name": "stdout",
     "output_type": "stream",
     "text": [
      "Epoch: 78; Loss: 30928.584762573242; Test Loss: 61938.89379310608\n"
     ]
    },
    {
     "name": "stderr",
     "output_type": "stream",
     "text": [
      "100%|████████████████████████████████████████████████████████████████████████████████████████| 275/275 [00:24<00:00, 11.07it/s]\n"
     ]
    },
    {
     "name": "stdout",
     "output_type": "stream",
     "text": [
      "Epoch: 79; Loss: 30884.75291824341; Test Loss: 59649.7091255188\n"
     ]
    },
    {
     "name": "stderr",
     "output_type": "stream",
     "text": [
      "100%|████████████████████████████████████████████████████████████████████████████████████████| 275/275 [00:23<00:00, 11.82it/s]\n"
     ]
    },
    {
     "name": "stdout",
     "output_type": "stream",
     "text": [
      "Epoch: 80; Loss: 31047.251041412354; Test Loss: 63060.00495529175\n"
     ]
    },
    {
     "name": "stderr",
     "output_type": "stream",
     "text": [
      "100%|████████████████████████████████████████████████████████████████████████████████████████| 275/275 [00:23<00:00, 11.75it/s]\n"
     ]
    },
    {
     "name": "stdout",
     "output_type": "stream",
     "text": [
      "Epoch: 81; Loss: 30755.207469940186; Test Loss: 59032.56268310547\n"
     ]
    },
    {
     "name": "stderr",
     "output_type": "stream",
     "text": [
      "100%|████████████████████████████████████████████████████████████████████████████████████████| 275/275 [00:23<00:00, 11.49it/s]\n"
     ]
    },
    {
     "name": "stdout",
     "output_type": "stream",
     "text": [
      "Epoch: 82; Loss: 30642.4167137146; Test Loss: 59811.915309906006\n"
     ]
    },
    {
     "name": "stderr",
     "output_type": "stream",
     "text": [
      "100%|████████████████████████████████████████████████████████████████████████████████████████| 275/275 [00:23<00:00, 11.53it/s]\n"
     ]
    },
    {
     "name": "stdout",
     "output_type": "stream",
     "text": [
      "Epoch: 83; Loss: 31015.34331893921; Test Loss: 59629.43381690979\n"
     ]
    },
    {
     "name": "stderr",
     "output_type": "stream",
     "text": [
      "100%|████████████████████████████████████████████████████████████████████████████████████████| 275/275 [00:23<00:00, 11.74it/s]\n"
     ]
    },
    {
     "name": "stdout",
     "output_type": "stream",
     "text": [
      "Epoch: 84; Loss: 30912.756088256836; Test Loss: 61631.67461967468\n"
     ]
    },
    {
     "name": "stderr",
     "output_type": "stream",
     "text": [
      "100%|████████████████████████████████████████████████████████████████████████████████████████| 275/275 [00:23<00:00, 11.71it/s]\n"
     ]
    },
    {
     "name": "stdout",
     "output_type": "stream",
     "text": [
      "Epoch: 85; Loss: 30863.185497283936; Test Loss: 61497.50419807434\n"
     ]
    },
    {
     "name": "stderr",
     "output_type": "stream",
     "text": [
      "100%|████████████████████████████████████████████████████████████████████████████████████████| 275/275 [00:24<00:00, 11.02it/s]\n"
     ]
    },
    {
     "name": "stdout",
     "output_type": "stream",
     "text": [
      "Epoch: 86; Loss: 31043.876613616943; Test Loss: 60640.17737197876\n"
     ]
    },
    {
     "name": "stderr",
     "output_type": "stream",
     "text": [
      "100%|████████████████████████████████████████████████████████████████████████████████████████| 275/275 [00:23<00:00, 11.75it/s]\n"
     ]
    },
    {
     "name": "stdout",
     "output_type": "stream",
     "text": [
      "Epoch: 87; Loss: 30665.318630218506; Test Loss: 59728.285568237305\n"
     ]
    },
    {
     "name": "stderr",
     "output_type": "stream",
     "text": [
      "100%|████████████████████████████████████████████████████████████████████████████████████████| 275/275 [00:23<00:00, 11.75it/s]\n"
     ]
    },
    {
     "name": "stdout",
     "output_type": "stream",
     "text": [
      "Epoch: 88; Loss: 31147.4487991333; Test Loss: 58179.90757369995\n"
     ]
    },
    {
     "name": "stderr",
     "output_type": "stream",
     "text": [
      "100%|████████████████████████████████████████████████████████████████████████████████████████| 275/275 [00:23<00:00, 11.76it/s]\n"
     ]
    },
    {
     "name": "stdout",
     "output_type": "stream",
     "text": [
      "Epoch: 89; Loss: 30914.44522857666; Test Loss: 60071.09903717041\n"
     ]
    },
    {
     "name": "stderr",
     "output_type": "stream",
     "text": [
      "100%|████████████████████████████████████████████████████████████████████████████████████████| 275/275 [00:25<00:00, 10.92it/s]\n"
     ]
    },
    {
     "name": "stdout",
     "output_type": "stream",
     "text": [
      "Epoch: 90; Loss: 30964.728981018066; Test Loss: 58520.20722961426\n"
     ]
    },
    {
     "name": "stderr",
     "output_type": "stream",
     "text": [
      "100%|████████████████████████████████████████████████████████████████████████████████████████| 275/275 [00:23<00:00, 11.73it/s]\n"
     ]
    },
    {
     "name": "stdout",
     "output_type": "stream",
     "text": [
      "Epoch: 91; Loss: 30785.10216140747; Test Loss: 58938.9517288208\n"
     ]
    },
    {
     "name": "stderr",
     "output_type": "stream",
     "text": [
      "100%|████████████████████████████████████████████████████████████████████████████████████████| 275/275 [00:23<00:00, 11.76it/s]\n"
     ]
    },
    {
     "name": "stdout",
     "output_type": "stream",
     "text": [
      "Epoch: 92; Loss: 31053.523887634277; Test Loss: 60718.51557159424\n"
     ]
    },
    {
     "name": "stderr",
     "output_type": "stream",
     "text": [
      "100%|████████████████████████████████████████████████████████████████████████████████████████| 275/275 [00:23<00:00, 11.54it/s]\n"
     ]
    },
    {
     "name": "stdout",
     "output_type": "stream",
     "text": [
      "Epoch: 93; Loss: 30698.90421295166; Test Loss: 66016.17458724976\n"
     ]
    },
    {
     "name": "stderr",
     "output_type": "stream",
     "text": [
      "100%|████████████████████████████████████████████████████████████████████████████████████████| 275/275 [00:24<00:00, 11.22it/s]\n"
     ]
    },
    {
     "name": "stdout",
     "output_type": "stream",
     "text": [
      "Epoch: 94; Loss: 30831.16035079956; Test Loss: 58507.77581214905\n"
     ]
    },
    {
     "name": "stderr",
     "output_type": "stream",
     "text": [
      "100%|████████████████████████████████████████████████████████████████████████████████████████| 275/275 [00:23<00:00, 11.76it/s]\n"
     ]
    },
    {
     "name": "stdout",
     "output_type": "stream",
     "text": [
      "Epoch: 95; Loss: 30737.15912628174; Test Loss: 65662.72535133362\n"
     ]
    },
    {
     "name": "stderr",
     "output_type": "stream",
     "text": [
      "100%|████████████████████████████████████████████████████████████████████████████████████████| 275/275 [00:23<00:00, 11.78it/s]\n"
     ]
    },
    {
     "name": "stdout",
     "output_type": "stream",
     "text": [
      "Epoch: 96; Loss: 31069.696098327637; Test Loss: 58491.41403198242\n"
     ]
    },
    {
     "name": "stderr",
     "output_type": "stream",
     "text": [
      "100%|████████████████████████████████████████████████████████████████████████████████████████| 275/275 [00:24<00:00, 11.22it/s]\n"
     ]
    },
    {
     "name": "stdout",
     "output_type": "stream",
     "text": [
      "Epoch: 97; Loss: 30868.474266052246; Test Loss: 63202.20079994202\n"
     ]
    },
    {
     "name": "stderr",
     "output_type": "stream",
     "text": [
      "100%|████████████████████████████████████████████████████████████████████████████████████████| 275/275 [00:23<00:00, 11.54it/s]\n"
     ]
    },
    {
     "name": "stdout",
     "output_type": "stream",
     "text": [
      "Epoch: 98; Loss: 30767.019939422607; Test Loss: 59759.9649105072\n"
     ]
    },
    {
     "name": "stderr",
     "output_type": "stream",
     "text": [
      "100%|████████████████████████████████████████████████████████████████████████████████████████| 275/275 [00:23<00:00, 11.74it/s]\n"
     ]
    },
    {
     "name": "stdout",
     "output_type": "stream",
     "text": [
      "Epoch: 99; Loss: 31040.607460021973; Test Loss: 58119.37052536011\n"
     ]
    }
   ],
   "source": [
    "train_losses = []\n",
    "test_losses = []\n",
    "for epoch in range(100):\n",
    "    total_loss = 0\n",
    "    for batch_idx, data in tqdm(enumerate(train_dl), total=len(train_dl)):\n",
    "        optimizer.zero_grad()\n",
    "        \n",
    "        loss = mae(data.to(device))\n",
    "        \n",
    "        loss.backward()\n",
    "        optimizer.step()\n",
    "        total_loss += loss.item()\n",
    "        \n",
    "    with torch.no_grad():\n",
    "        test_loss = get_total_loss(model, test_dl)\n",
    "        train_losses.append(total_loss)\n",
    "        test_losses.append(test_loss)\n",
    "        print(f\"Epoch: {epoch}; Loss: {total_loss}; Test Loss: {test_loss}\")\n",
    "    if test_loss == min(test_losses):\n",
    "        torch.save(v.state_dict(), f\"./trained-vit-{epoch}.pt\")\n",
    "\n",
    "_ = mae.eval()"
   ]
  },
  {
   "cell_type": "code",
   "execution_count": 269,
   "id": "e9194fd9",
   "metadata": {},
   "outputs": [],
   "source": [
    "# torch.save(v.state_dict(), f\"./lastnotbest-trained-vit-{epoch}.pt\")\n",
    "torch.save(mae.state_dict(), f\"./maeklastnotbest-trained-vit-{epoch}.pt\")"
   ]
  },
  {
   "cell_type": "code",
   "execution_count": 257,
   "id": "e32cd7a0",
   "metadata": {},
   "outputs": [
    {
     "data": {
      "text/plain": [
       "6.666666666666667"
      ]
     },
     "execution_count": 257,
     "metadata": {},
     "output_type": "execute_result"
    }
   ],
   "source": [
    "30 * 800 / 60 / 60"
   ]
  },
  {
   "cell_type": "code",
   "execution_count": 272,
   "id": "992c28c7",
   "metadata": {},
   "outputs": [
    {
     "data": {
      "image/png": "[encoded data removed]",
      "text/plain": [
       "<Figure size 1152x720 with 1 Axes>"
      ]
     },
     "metadata": {
      "needs_background": "light"
     },
     "output_type": "display_data"
    }
   ],
   "source": [
    "plt.figure(figsize=(16, 10))\n",
    "ranger = list(range(len(train_losses)))\n",
    "sns.lineplot(x=ranger, y=train_losses, label=\"total train loss\", alpha=0.5)\n",
    "# sns.lineplot(x=ranger, y=adjusted_train_losses, label=\"adjusted train loss\")\n",
    "# ax2 = plt.twinx()\n",
    "# sns.lineplot(x=ranger, y=test_losses, label=\"test loss\", ax=ax2, color=\"orange\", alpha=0.5)\n",
    "sns.lineplot(x=ranger, y=test_losses, label=\"test loss\", color=\"orange\", alpha=0.5)\n",
    "plt.title(\"MAE v1: Train/Test Loss on Pretraining Task\")\n",
    "plt.savefig(\"mae_v1.png\")"
   ]
  },
  {
   "cell_type": "code",
   "execution_count": null,
   "id": "5363ba3f",
   "metadata": {},
   "outputs": [],
   "source": []
  },
  {
   "cell_type": "code",
   "execution_count": null,
   "id": "8d2edb53",
   "metadata": {},
   "outputs": [],
   "source": []
  },
  {
   "cell_type": "code",
   "execution_count": null,
   "id": "f680c7b4",
   "metadata": {},
   "outputs": [],
   "source": []
  },
  {
   "cell_type": "markdown",
   "id": "c8821646",
   "metadata": {},
   "source": [
    "# Finetuning MAE for Task"
   ]
  },
  {
   "cell_type": "code",
   "execution_count": 64,
   "id": "36b52c47",
   "metadata": {},
   "outputs": [],
   "source": [
    "batch_size = 8"
   ]
  },
  {
   "cell_type": "code",
   "execution_count": 265,
   "id": "0f955b1c",
   "metadata": {},
   "outputs": [],
   "source": [
    "class FinetuningMusicDataset(torch.utils.data.Dataset):   \n",
    "    def __init__(self, np_file_paths, labels, transforms, seq_len=10000, random_start=True, upsample_factor=10):\n",
    "        self.seq_len = seq_len\n",
    "        self.files = np_file_paths\n",
    "        self.labels = labels\n",
    "        self.transforms = transforms\n",
    "        self.random_start = random_start\n",
    "        self.upsample_factor = upsample_factor\n",
    "    def __len__(self):\n",
    "        return len(self.files)\n",
    "\n",
    "    def __getitem__(self, index):\n",
    "        x = np.load(self.files[index])\n",
    "        x = torch.from_numpy(x).float()\n",
    "        if self.random_start and x.shape[-1] > self.seq_len:\n",
    "            # longer than 3000, select random subset\n",
    "            start = random.randint(0, x.shape[-1] - self.seq_len)\n",
    "            x = x[:,start:start+self.seq_len]\n",
    "        else:\n",
    "            x = x[:,:self.seq_len]\n",
    "        old_x = x.unsqueeze(0)\n",
    "        xs = []\n",
    "        for i in range(self.upsample_factor):\n",
    "            x = self.transforms(old_x)\n",
    "            xs.append(x)\n",
    "        x = torch.cat(xs)\n",
    "        item = {\"input\": x, \"label_ids\":[index for i in range(self.upsample_factor)], \"labels\": torch.tensor(self.labels[index])}\n",
    "        \n",
    "        return item"
   ]
  },
  {
   "cell_type": "code",
   "execution_count": 266,
   "id": "9d75fe4d",
   "metadata": {},
   "outputs": [],
   "source": [
    "class AddGaussianNoise(object):\n",
    "    def __init__(self, mean=0., std=1.):\n",
    "        self.std = std\n",
    "        self.mean = mean\n",
    "        \n",
    "    def __call__(self, tensor):\n",
    "        return tensor + torch.randn(tensor.size()) * self.std + self.mean\n",
    "    \n",
    "    def __repr__(self):\n",
    "        return self.__class__.__name__ + '(mean={0}, std={1})'.format(self.mean, self.std)"
   ]
  },
  {
   "cell_type": "code",
   "execution_count": 267,
   "id": "3bc99c8c",
   "metadata": {},
   "outputs": [],
   "source": [
    "noise_composed = transforms.Compose([\n",
    "   transforms.Resize((224, 224)),\n",
    "    AddGaussianNoise(0., 1.)\n",
    "])\n",
    "nonoise_composed = transforms.Compose([\n",
    "   transforms.Resize((224, 224)),\n",
    "])"
   ]
  },
  {
   "cell_type": "code",
   "execution_count": 268,
   "id": "f23b8543",
   "metadata": {},
   "outputs": [
    {
     "data": {
      "text/plain": [
       "torch.Size([1, 224, 224])"
      ]
     },
     "execution_count": 268,
     "metadata": {},
     "output_type": "execute_result"
    }
   ],
   "source": [
    "composed(inp).shape"
   ]
  },
  {
   "cell_type": "code",
   "execution_count": 269,
   "id": "0c526c68",
   "metadata": {},
   "outputs": [
    {
     "data": {
      "text/plain": [
       "torch.Size([1, 224, 224])"
      ]
     },
     "execution_count": 269,
     "metadata": {},
     "output_type": "execute_result"
    }
   ],
   "source": [
    "res.shape"
   ]
  },
  {
   "cell_type": "code",
   "execution_count": 272,
   "id": "f3b05cf0",
   "metadata": {},
   "outputs": [],
   "source": [
    "ft_train_dataset = FinetuningMusicDataset(train_np_files, train_labels, noise_composed, seq_len=SEQ_LEN, random_start=True)\n",
    "ft_test_dataset = FinetuningMusicDataset(test_np_files, test_labels, nonoise_composed, seq_len=SEQ_LEN, random_start=False)"
   ]
  },
  {
   "cell_type": "code",
   "execution_count": 271,
   "id": "bd8dcfd8",
   "metadata": {},
   "outputs": [],
   "source": [
    "ft_train_dl = DataLoader(\n",
    "    ft_train_dataset,\n",
    "    batch_size=batch_size,\n",
    "    shuffle=True,\n",
    "    num_workers=0,\n",
    "    collate_fn=None,\n",
    "    pin_memory=False,\n",
    " )\n",
    "\n",
    "ft_test_dl = DataLoader(\n",
    "    ft_test_dataset,\n",
    "    batch_size=1,\n",
    "    shuffle=False,\n",
    "    num_workers=0,\n",
    "    collate_fn=None,\n",
    "    pin_memory=False,\n",
    " )"
   ]
  },
  {
   "cell_type": "code",
   "execution_count": 72,
   "id": "647174de",
   "metadata": {},
   "outputs": [],
   "source": [
    "from transformers import ViTConfig, ViTModel\n",
    "from vit_pytorch import ViT, MAE"
   ]
  },
  {
   "cell_type": "code",
   "execution_count": 73,
   "id": "be5de8d7",
   "metadata": {},
   "outputs": [],
   "source": [
    "v_for_downstream = ViT(\n",
    "    image_size = 224,\n",
    "#     patch_size = 32,\n",
    "    patch_size = 16,\n",
    "    num_classes = 15,\n",
    "#     dim = 1024,\n",
    "    dim = 512,\n",
    "    depth = 6,\n",
    "    heads = 8,\n",
    "#     mlp_dim = 2048,\n",
    "    mlp_dim = 512,\n",
    "    channels=1\n",
    ")"
   ]
  },
  {
   "cell_type": "code",
   "execution_count": 74,
   "id": "be5186a4",
   "metadata": {},
   "outputs": [
    {
     "data": {
      "text/plain": [
       "<All keys matched successfully>"
      ]
     },
     "execution_count": 74,
     "metadata": {},
     "output_type": "execute_result"
    }
   ],
   "source": [
    "v_for_downstream.load_state_dict(torch.load(f\"./trained-vit-69.pt\"))"
   ]
  },
  {
   "cell_type": "code",
   "execution_count": 75,
   "id": "16008b62",
   "metadata": {},
   "outputs": [
    {
     "data": {
      "text/plain": [
       "Sequential(\n",
       "  (0): LayerNorm((512,), eps=1e-05, elementwise_affine=True)\n",
       "  (1): Linear(in_features=512, out_features=15, bias=True)\n",
       ")"
      ]
     },
     "execution_count": 75,
     "metadata": {},
     "output_type": "execute_result"
    }
   ],
   "source": [
    "v_for_downstream.mlp_head"
   ]
  },
  {
   "cell_type": "code",
   "execution_count": 78,
   "id": "589f3967",
   "metadata": {},
   "outputs": [],
   "source": [
    "def set_module_requires_grad_(module, requires_grad):\n",
    "    for param in module.parameters():\n",
    "        param.requires_grad = requires_grad\n",
    "def freeze_all_layers_(module):\n",
    "    set_module_requires_grad_(module, False)"
   ]
  },
  {
   "cell_type": "code",
   "execution_count": 79,
   "id": "a85d33db",
   "metadata": {},
   "outputs": [],
   "source": [
    "freeze_all_layers_(v_for_downstream)"
   ]
  },
  {
   "cell_type": "code",
   "execution_count": 91,
   "id": "cb794574",
   "metadata": {},
   "outputs": [],
   "source": [
    "new_head = nn.Sequential(\n",
    "    nn.LayerNorm(512),\n",
    "    nn.Linear(512, 512),\n",
    "    nn.Linear(512, 15),\n",
    "#     nn.Sigmoid()\n",
    ")"
   ]
  },
  {
   "cell_type": "code",
   "execution_count": 93,
   "id": "9d0418cd",
   "metadata": {},
   "outputs": [],
   "source": [
    "# for param in v_for_downstream.transformer.parameters():\n",
    "#     print(param.requires_grad)"
   ]
  },
  {
   "cell_type": "code",
   "execution_count": 94,
   "id": "b6d0fff4",
   "metadata": {},
   "outputs": [],
   "source": [
    "# model = nn.Sequential(\n",
    "#     v_for_downstream,\n",
    "#     nn.Sigmoid()\n",
    "# )"
   ]
  },
  {
   "cell_type": "code",
   "execution_count": 95,
   "id": "310f2cb3",
   "metadata": {},
   "outputs": [
    {
     "data": {
      "text/plain": [
       "tensor([[-0.2859,  0.2516,  0.2906, -0.2965,  0.1036, -0.4781, -0.2801,  0.2640,\n",
       "         -0.1523,  0.1146, -0.2998, -0.4838,  0.0065, -0.2667, -0.0189]],\n",
       "       device='cuda:0', grad_fn=<AddmmBackward0>)"
      ]
     },
     "execution_count": 95,
     "metadata": {},
     "output_type": "execute_result"
    }
   ],
   "source": [
    "v_for_downstream.to(device)(go)"
   ]
  },
  {
   "cell_type": "code",
   "execution_count": 96,
   "id": "6d3217ae",
   "metadata": {},
   "outputs": [],
   "source": [
    "model = v_for_downstream.to(device)"
   ]
  },
  {
   "cell_type": "code",
   "execution_count": 97,
   "id": "f50d6015",
   "metadata": {},
   "outputs": [],
   "source": [
    "from tqdm import tqdm\n",
    "import torch.optim as optim"
   ]
  },
  {
   "cell_type": "code",
   "execution_count": null,
   "id": "3b1fd579",
   "metadata": {},
   "outputs": [],
   "source": []
  },
  {
   "cell_type": "code",
   "execution_count": 99,
   "id": "80b3f1c6",
   "metadata": {},
   "outputs": [
    {
     "data": {
      "text/plain": [
       "tensor([0.0418, 0.0432, 0.0605, 0.0595, 0.0577, 0.0573, 0.0641, 0.0727, 0.0709,\n",
       "        0.0759, 0.0777, 0.0850, 0.0877, 0.0991, 0.0936], dtype=torch.float64)"
      ]
     },
     "execution_count": 99,
     "metadata": {},
     "output_type": "execute_result"
    }
   ],
   "source": [
    "torch.sum(torch.tensor(train_labels), dim=0) / len(train_labels)"
   ]
  },
  {
   "cell_type": "code",
   "execution_count": 100,
   "id": "c6ee01d0",
   "metadata": {},
   "outputs": [
    {
     "data": {
      "text/plain": [
       "2200"
      ]
     },
     "execution_count": 100,
     "metadata": {},
     "output_type": "execute_result"
    }
   ],
   "source": [
    "len(train_labels)"
   ]
  },
  {
   "cell_type": "code",
   "execution_count": 110,
   "id": "6b3bb132",
   "metadata": {},
   "outputs": [
    {
     "data": {
      "text/plain": [
       "tensor([0.0418, 0.0432, 0.0605, 0.0595, 0.0577, 0.0573, 0.0641, 0.0727, 0.0709,\n",
       "        0.0759, 0.0777, 0.0850, 0.0877, 0.0991, 0.0936], dtype=torch.float64)"
      ]
     },
     "execution_count": 110,
     "metadata": {},
     "output_type": "execute_result"
    }
   ],
   "source": [
    "torch.sum(torch.tensor(train_labels), dim=0) / len(train_labels)"
   ]
  },
  {
   "cell_type": "code",
   "execution_count": 111,
   "id": "99f6e3fb",
   "metadata": {},
   "outputs": [],
   "source": [
    "# pos_weight = torch.ones([15]) * (14/1)\n",
    "# pos_weight = torch.ones([15]) * (13/1)\n",
    "pos_weight = 1 / (torch.sum(torch.tensor(train_labels), dim=0) / len(train_labels))"
   ]
  },
  {
   "cell_type": "code",
   "execution_count": 112,
   "id": "fc3c1af9",
   "metadata": {},
   "outputs": [
    {
     "data": {
      "text/plain": [
       "tensor([23.9130, 23.1579, 16.5414, 16.7939, 17.3228, 17.4603, 15.6028, 13.7500,\n",
       "        14.1026, 13.1737, 12.8655, 11.7647, 11.3990, 10.0917, 10.6796],\n",
       "       dtype=torch.float64)"
      ]
     },
     "execution_count": 112,
     "metadata": {},
     "output_type": "execute_result"
    }
   ],
   "source": [
    "pos_weight"
   ]
  },
  {
   "cell_type": "code",
   "execution_count": 113,
   "id": "7659ea45",
   "metadata": {},
   "outputs": [
    {
     "data": {
      "text/plain": [
       "<generator object Module.parameters at 0x000001C4D40DB120>"
      ]
     },
     "execution_count": 113,
     "metadata": {},
     "output_type": "execute_result"
    }
   ],
   "source": [
    "model.parameters()"
   ]
  },
  {
   "cell_type": "code",
   "execution_count": 114,
   "id": "29a7e045",
   "metadata": {},
   "outputs": [],
   "source": [
    "# optimizer = optim.AdamW(model.parameters(), lr=1e-3)\n",
    "# optimizer = optim.AdamW(model.parameters(), lr=1e-4)\n",
    "# optimizer = optim.AdamW(model.mlp_head.parameters(), lr=1e-3)\n",
    "# optimizer = optim.AdamW(model.mlp_head.parameters(), lr=1e-2)\n",
    "optimizer = optim.AdamW(model.mlp_head.parameters(), lr=1e-2, weight_decay=0.05, betas=(0.9, 0.95))\n",
    "# criterion = nn.BCELoss()\n",
    "criterion = nn.BCEWithLogitsLoss(pos_weight = pos_weight.to(device))"
   ]
  },
  {
   "cell_type": "code",
   "execution_count": 115,
   "id": "fbdaaf88",
   "metadata": {},
   "outputs": [],
   "source": [
    "def get_mask(targs):\n",
    "    mask = []\n",
    "    for val in targs:\n",
    "        m = int(val) == 1 or random.random() < (1/15)\n",
    "        mask.append(m)\n",
    "    return mask"
   ]
  },
  {
   "cell_type": "code",
   "execution_count": 116,
   "id": "14040d25",
   "metadata": {},
   "outputs": [],
   "source": [
    "def get_total_loss(model, dataloader):\n",
    "    total_loss = 0\n",
    "    for batch_idx, data in enumerate(dataloader):\n",
    "        inputs, labels = data['input'].to(device), data['labels'].to(device)\n",
    "\n",
    "        outputs = model(inputs)\n",
    "        total_loss += criterion(outputs, labels.float())\n",
    "#         for i in range(15):\n",
    "#             cur_loss = criterion(outputs[:,i], labels[:,i].float())\n",
    "#             total_loss += cur_loss\n",
    "    return total_loss.item()"
   ]
  },
  {
   "cell_type": "code",
   "execution_count": null,
   "id": "2b44c947",
   "metadata": {},
   "outputs": [],
   "source": []
  },
  {
   "cell_type": "code",
   "execution_count": 163,
   "id": "e5e2098b",
   "metadata": {},
   "outputs": [
    {
     "data": {
      "text/plain": [
       "{'input': tensor([[[  3.9402,   7.9499,   7.8935,  ..., -21.0093, -21.9212, -54.1739],\n",
       "          [  8.6965,  10.3651,   9.0643,  ..., -22.3698, -21.4546, -51.6610],\n",
       "          [  5.7967,   6.3847,   5.8797,  ..., -15.6461, -25.2399, -45.4402],\n",
       "          ...,\n",
       "          [ -2.4321,  -0.3850,  -4.3144,  ..., -27.1652, -30.1625, -52.6164],\n",
       "          [ -7.9795,  -7.5831,  -8.7472,  ..., -22.3573, -28.2247, -49.4764],\n",
       "          [  0.8661,   1.4261,   5.6780,  ..., -22.2884, -27.2021, -47.2621]]]),\n",
       " 'label_ids': [0],\n",
       " 'labels': tensor([0., 0., 0., 0., 0., 0., 0., 0., 0., 0., 0., 0., 1., 0., 0.],\n",
       "        dtype=torch.float64)}"
      ]
     },
     "execution_count": 163,
     "metadata": {},
     "output_type": "execute_result"
    }
   ],
   "source": [
    "train_dataset[0]"
   ]
  },
  {
   "cell_type": "code",
   "execution_count": 117,
   "id": "a301de6d",
   "metadata": {},
   "outputs": [
    {
     "name": "stderr",
     "output_type": "stream",
     "text": [
      "  0%|                                                                                                  | 0/275 [00:00<?, ?it/s]\n"
     ]
    },
    {
     "ename": "ZeroDivisionError",
     "evalue": "division by zero",
     "output_type": "error",
     "traceback": [
      "\u001b[1;31m---------------------------------------------------------------------------\u001b[0m",
      "\u001b[1;31mZeroDivisionError\u001b[0m                         Traceback (most recent call last)",
      "Input \u001b[1;32mIn [117]\u001b[0m, in \u001b[0;36m<cell line: 4>\u001b[1;34m()\u001b[0m\n\u001b[0;32m     10\u001b[0m optimizer\u001b[38;5;241m.\u001b[39mzero_grad()\n\u001b[0;32m     11\u001b[0m inputs, labels \u001b[38;5;241m=\u001b[39m data[\u001b[38;5;124m'\u001b[39m\u001b[38;5;124minput\u001b[39m\u001b[38;5;124m'\u001b[39m]\u001b[38;5;241m.\u001b[39mto(device), data[\u001b[38;5;124m'\u001b[39m\u001b[38;5;124mlabels\u001b[39m\u001b[38;5;124m'\u001b[39m]\u001b[38;5;241m.\u001b[39mto(device)\n\u001b[1;32m---> 12\u001b[0m x \u001b[38;5;241m=\u001b[39m \u001b[38;5;241;43m1\u001b[39;49m\u001b[38;5;241;43m/\u001b[39;49m\u001b[38;5;241;43m0\u001b[39;49m\n\u001b[0;32m     13\u001b[0m outputs \u001b[38;5;241m=\u001b[39m model(inputs)\n\u001b[0;32m     15\u001b[0m loss \u001b[38;5;241m=\u001b[39m criterion(outputs, labels)\n",
      "\u001b[1;31mZeroDivisionError\u001b[0m: division by zero"
     ]
    }
   ],
   "source": [
    "model.train()\n",
    "ft_train_losses = []\n",
    "ft_test_losses = []\n",
    "for epoch in range(10):\n",
    "# for epoch in range(5):\n",
    "    total_loss = 0\n",
    "#     for batch in train_loader:\n",
    "    for batch_idx, data in tqdm(enumerate(ft_train_dl), total=len(ft_train_dl)):\n",
    "        these_losses = []\n",
    "        optimizer.zero_grad()\n",
    "        inputs, labels = data['input'].to(device), data['labels'].to(device)\n",
    "        outputs = model(inputs)\n",
    "        \n",
    "        loss = criterion(outputs, labels)\n",
    "\n",
    "        loss.backward()\n",
    "        optimizer.step()\n",
    "        # for bookkeeping\n",
    "        total_loss += loss.item()\n",
    "        \n",
    "    with torch.no_grad():\n",
    "        train_total_loss = total_loss\n",
    "        test_loss = get_total_loss(model, ft_test_dl)\n",
    "        ft_train_losses.append(train_total_loss)\n",
    "        ft_test_losses.append(test_loss)\n",
    "        print(f\"Epoch: {epoch}; Loss: {adjusted}; Total Loss: {train_total_loss}; Test Loss: {test_loss}\")\n",
    "#         print(f\"Epoch: {epoch}; Loss: {adjusted}; Test Loss: {test_loss}\")\n",
    "\n",
    "_ = model.eval()"
   ]
  },
  {
   "cell_type": "code",
   "execution_count": null,
   "id": "1f5efff6",
   "metadata": {},
   "outputs": [],
   "source": []
  },
  {
   "cell_type": "code",
   "execution_count": 718,
   "id": "f2e59c8b",
   "metadata": {},
   "outputs": [
    {
     "data": {
      "text/plain": [
       "Text(0.5, 1.0, 'MAE v1: Finetuning Train/Test Loss')"
      ]
     },
     "execution_count": 718,
     "metadata": {},
     "output_type": "execute_result"
    },
    {
     "data": {
      "image/png": "[encoded data removed]",
      "text/plain": [
       "<Figure size 1152x720 with 2 Axes>"
      ]
     },
     "metadata": {
      "needs_background": "light"
     },
     "output_type": "display_data"
    }
   ],
   "source": [
    "plt.figure(figsize=(16, 10))\n",
    "ranger = list(range(len(ft_train_losses)))\n",
    "sns.lineplot(x=ranger, y=ft_train_losses, label=\"total train loss\", alpha=1)\n",
    "# sns.lineplot(x=ranger, y=adjusted_train_losses, label=\"adjusted train loss\")\n",
    "ax2 = plt.twinx()\n",
    "sns.lineplot(x=ranger, y=ft_test_losses, label=\"test loss\", ax=ax2, color=\"orange\", alpha=1)\n",
    "# sns.lineplot(x=ranger, y=ft_test_losses, label=\"test loss\", color=\"orange\", alpha=0.5)\n",
    "plt.title(\"MAE v1: Finetuning Train/Test Loss\")\n",
    "# plt.savefig(\"mae_v1.png\")"
   ]
  },
  {
   "cell_type": "code",
   "execution_count": null,
   "id": "4c814ff7",
   "metadata": {},
   "outputs": [],
   "source": []
  },
  {
   "cell_type": "code",
   "execution_count": 719,
   "id": "615e1b9d",
   "metadata": {},
   "outputs": [],
   "source": [
    "import torch.nn.functional as F"
   ]
  },
  {
   "cell_type": "code",
   "execution_count": 720,
   "id": "2629a017",
   "metadata": {},
   "outputs": [
    {
     "name": "stderr",
     "output_type": "stream",
     "text": [
      "C:\\Users\\aag12\\anaconda3\\envs\\ml_env\\lib\\site-packages\\torch\\nn\\functional.py:1967: UserWarning: nn.functional.sigmoid is deprecated. Use torch.sigmoid instead.\n",
      "  warnings.warn(\"nn.functional.sigmoid is deprecated. Use torch.sigmoid instead.\")\n"
     ]
    },
    {
     "name": "stdout",
     "output_type": "stream",
     "text": [
      "0.47017543859649125\n",
      "3886 out of 8265\n",
      "Performance on positive labels\n",
      "0.6313993174061433\n",
      "370 out of 586.0\n",
      "WHAT IF WE JUST PREDICTED ZERO\n",
      "0.9290986085904416\n",
      "7679 out of 8265\n"
     ]
    }
   ],
   "source": [
    "model.eval()\n",
    "\n",
    "combined_preds = []\n",
    "combined_labels = []\n",
    "\n",
    "with torch.no_grad():\n",
    "#     a = model(dataset[2]['input'].to(device))\n",
    "    total_correct = 0\n",
    "    zero_correct = 0\n",
    "    total_values = 0\n",
    "    only_positives = [0, 0]\n",
    "    for batch_idx, data in enumerate(ft_test_dl):\n",
    "        inputs, labels = data['input'].to(device), data['labels'].to(device)\n",
    "\n",
    "        outputs = model(inputs)\n",
    "        \n",
    "        outputs = F.sigmoid(outputs)\n",
    "        \n",
    "        combined_preds.append(outputs)\n",
    "        combined_labels.append(labels)\n",
    "        \n",
    "        outlabels = torch.zeros_like(outputs)\n",
    "        outlabels[outputs >= 0.5] = 1\n",
    "        outlabels[outputs < 0.5] = 0\n",
    "        \n",
    "        num_correct = torch.sum(outlabels == labels).item()\n",
    "        num = len(labels) * 15\n",
    "        \n",
    "        total_correct += num_correct\n",
    "        total_values += num\n",
    "        zero_correct += torch.sum(labels == 0).item()\n",
    "        \n",
    "        only_positives[0] += torch.sum(labels).item()\n",
    "        only_positives[1] += torch.sum(labels[labels == 1] == outlabels[labels == 1]).item()\n",
    "        \n",
    "\n",
    "print(total_correct / total_values)\n",
    "\n",
    "print(f\"{total_correct} out of {total_values}\")\n",
    "\n",
    "print(\"Performance on positive labels\")\n",
    "\n",
    "print(only_positives[1] / only_positives[0])\n",
    "\n",
    "print(f\"{only_positives[1]} out of {only_positives[0]}\")\n",
    "\n",
    "print(\"WHAT IF WE JUST PREDICTED ZERO\")\n",
    "\n",
    "print(zero_correct / total_values)\n",
    "\n",
    "print(f\"{zero_correct} out of {total_values}\")"
   ]
  },
  {
   "cell_type": "code",
   "execution_count": 721,
   "id": "9ff61d98",
   "metadata": {},
   "outputs": [
    {
     "data": {
      "text/plain": [
       "(torch.Size([551, 15]), torch.Size([551, 15]))"
      ]
     },
     "execution_count": 721,
     "metadata": {},
     "output_type": "execute_result"
    }
   ],
   "source": [
    "all_preds = torch.cat(combined_preds)\n",
    "all_labels = torch.cat(combined_labels)\n",
    "all_preds.shape, all_labels.shape"
   ]
  },
  {
   "cell_type": "code",
   "execution_count": 722,
   "id": "9a795fea",
   "metadata": {},
   "outputs": [
    {
     "data": {
      "text/plain": [
       "551"
      ]
     },
     "execution_count": 722,
     "metadata": {},
     "output_type": "execute_result"
    }
   ],
   "source": [
    "len(ft_test_dataset)"
   ]
  },
  {
   "cell_type": "code",
   "execution_count": 723,
   "id": "683eef2b",
   "metadata": {},
   "outputs": [],
   "source": [
    "from sklearn import metrics"
   ]
  },
  {
   "cell_type": "code",
   "execution_count": null,
   "id": "a69fcc78",
   "metadata": {},
   "outputs": [],
   "source": []
  },
  {
   "cell_type": "code",
   "execution_count": 724,
   "id": "b411a48c",
   "metadata": {},
   "outputs": [
    {
     "name": "stdout",
     "output_type": "stream",
     "text": [
      "Head: 0; AUC: 0.49550763701707096\n",
      "Head: 1; AUC: 0.4770579137308816\n",
      "Head: 2; AUC: 0.5974904942965779\n",
      "Head: 3; AUC: 0.5150930150930151\n",
      "Head: 4; AUC: 0.5039867109634552\n",
      "Head: 5; AUC: 0.4518659881255301\n",
      "Head: 6; AUC: 0.4548867903060644\n",
      "Head: 7; AUC: 0.47853399105904115\n",
      "Head: 8; AUC: 0.545631067961165\n",
      "Head: 9; AUC: 0.5038710135663045\n",
      "Head: 10; AUC: 0.47422046552481334\n",
      "Head: 11; AUC: 0.5870875179340029\n",
      "Head: 12; AUC: 0.48699932111337413\n",
      "Head: 13; AUC: 0.5397166935628475\n",
      "Head: 14; AUC: 0.5077129443326627\n"
     ]
    }
   ],
   "source": [
    "aucs = []\n",
    "for i in range(15):\n",
    "    preds = all_preds[:,i].cpu()\n",
    "    targs = all_labels[:,i].cpu()\n",
    "#     fpr, tpr, thresholds = metrics.roc_curve(targs, preds, pos_label=1)\n",
    "    fpr, tpr, thresholds = metrics.roc_curve(targs, preds, pos_label=1)\n",
    "    auc = metrics.auc(fpr, tpr)\n",
    "    aucs.append(auc)\n",
    "    print(f\"Head: {i}; AUC: {auc}\")"
   ]
  },
  {
   "cell_type": "code",
   "execution_count": 618,
   "id": "547fe673",
   "metadata": {},
   "outputs": [
    {
     "data": {
      "text/plain": [
       "0.49143731402460067"
      ]
     },
     "execution_count": 618,
     "metadata": {},
     "output_type": "execute_result"
    }
   ],
   "source": [
    "sum(aucs) / len(aucs)"
   ]
  },
  {
   "cell_type": "code",
   "execution_count": 556,
   "id": "83701838",
   "metadata": {},
   "outputs": [],
   "source": [
    "from sklearn.metrics import roc_auc_score"
   ]
  },
  {
   "cell_type": "code",
   "execution_count": 557,
   "id": "80e81aba",
   "metadata": {},
   "outputs": [
    {
     "data": {
      "text/plain": [
       "0.5556300767568373"
      ]
     },
     "execution_count": 557,
     "metadata": {},
     "output_type": "execute_result"
    }
   ],
   "source": [
    "roc_auc_score(targs, preds)"
   ]
  },
  {
   "cell_type": "code",
   "execution_count": null,
   "id": "bcb0dd84",
   "metadata": {},
   "outputs": [],
   "source": []
  },
  {
   "cell_type": "code",
   "execution_count": 558,
   "id": "0b089756",
   "metadata": {},
   "outputs": [],
   "source": [
    "import scikitplot as skplt\n",
    "import matplotlib.pyplot as plt"
   ]
  },
  {
   "cell_type": "code",
   "execution_count": null,
   "id": "3927effd",
   "metadata": {},
   "outputs": [],
   "source": []
  },
  {
   "cell_type": "code",
   "execution_count": 559,
   "id": "1f1991d2",
   "metadata": {},
   "outputs": [],
   "source": [
    "from vit_pytorch.learnable_memory_vit import ViT, Adapter"
   ]
  },
  {
   "cell_type": "code",
   "execution_count": null,
   "id": "57b64beb",
   "metadata": {},
   "outputs": [],
   "source": []
  },
  {
   "cell_type": "code",
   "execution_count": 565,
   "id": "bad99b7b",
   "metadata": {},
   "outputs": [
    {
     "data": {
      "image/png": "[encoded data removed]",
      "text/plain": [
       "<Figure size 1152x720 with 1 Axes>"
      ]
     },
     "metadata": {
      "needs_background": "light"
     },
     "output_type": "display_data"
    }
   ],
   "source": [
    "plt.figure(figsize=(16, 10))\n",
    "preds = all_preds[:,3].cpu()\n",
    "targs = all_labels[:,3].cpu()\n",
    "fpr, tpr, _ = metrics.roc_curve(targs, preds)\n",
    "auc = metrics.roc_auc_score(targs, preds)\n",
    "plt.plot(fpr,tpr,label=\"MAE v1 model, feature 3, auc=\"+str(auc))\n",
    "\n",
    "fpr, tpr, _ = metrics.roc_curve(targs, np.zeros_like(targs))\n",
    "auc = metrics.roc_auc_score(targs, np.zeros_like(targs))\n",
    "plt.plot(fpr,tpr,label=\"y=x, auc=\"+str(auc))\n",
    "\n",
    "plt.legend(loc=4)\n",
    "plt.show()"
   ]
  },
  {
   "cell_type": "code",
   "execution_count": null,
   "id": "fbb34ad5",
   "metadata": {},
   "outputs": [],
   "source": []
  },
  {
   "cell_type": "code",
   "execution_count": null,
   "id": "ed2870b0",
   "metadata": {},
   "outputs": [],
   "source": []
  },
  {
   "cell_type": "code",
   "execution_count": null,
   "id": "49883f3d",
   "metadata": {},
   "outputs": [],
   "source": []
  },
  {
   "cell_type": "code",
   "execution_count": null,
   "id": "bd785fe5",
   "metadata": {},
   "outputs": [],
   "source": []
  },
  {
   "cell_type": "code",
   "execution_count": null,
   "id": "97213596",
   "metadata": {},
   "outputs": [],
   "source": []
  }
 ],
 "metadata": {
  "kernelspec": {
   "display_name": "ml_env",
   "language": "python",
   "name": "ml_env"
  },
  "language_info": {
   "codemirror_mode": {
    "name": "ipython",
    "version": 3
   },
   "file_extension": ".py",
   "mimetype": "text/x-python",
   "name": "python",
   "nbconvert_exporter": "python",
   "pygments_lexer": "ipython3",
   "version": "3.8.13"
  }
 },
 "nbformat": 4,
 "nbformat_minor": 5
}
