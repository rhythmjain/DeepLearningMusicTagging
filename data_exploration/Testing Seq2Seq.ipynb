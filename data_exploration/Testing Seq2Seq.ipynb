{
 "cells": [
  {
   "cell_type": "code",
   "execution_count": 1,
   "id": "8dde38ab",
   "metadata": {},
   "outputs": [],
   "source": [
    "from torch import nn\n",
    "import torch"
   ]
  },
  {
   "cell_type": "code",
   "execution_count": 2,
   "id": "0c0b7a64",
   "metadata": {},
   "outputs": [],
   "source": [
    "from torch.nn.utils.rnn import pad_sequence"
   ]
  },
  {
   "cell_type": "code",
   "execution_count": 3,
   "id": "eb94593b",
   "metadata": {},
   "outputs": [],
   "source": [
    "import numpy as np"
   ]
  },
  {
   "cell_type": "code",
   "execution_count": 4,
   "id": "26f5b02f",
   "metadata": {},
   "outputs": [],
   "source": [
    "import pandas as pd"
   ]
  },
  {
   "cell_type": "code",
   "execution_count": 5,
   "id": "a58fb134",
   "metadata": {},
   "outputs": [],
   "source": [
    "import os"
   ]
  },
  {
   "cell_type": "code",
   "execution_count": 6,
   "id": "42b6ccad",
   "metadata": {},
   "outputs": [],
   "source": [
    "from einops import rearrange"
   ]
  },
  {
   "cell_type": "code",
   "execution_count": 7,
   "id": "7214728f",
   "metadata": {},
   "outputs": [],
   "source": [
    "import random"
   ]
  },
  {
   "cell_type": "code",
   "execution_count": 8,
   "id": "a68cbc3e",
   "metadata": {},
   "outputs": [],
   "source": [
    "from torch.utils.data import DataLoader"
   ]
  },
  {
   "cell_type": "code",
   "execution_count": 9,
   "id": "f41473dd",
   "metadata": {},
   "outputs": [],
   "source": [
    "import torchvision.transforms as T"
   ]
  },
  {
   "cell_type": "code",
   "execution_count": 10,
   "id": "0e72087d",
   "metadata": {},
   "outputs": [],
   "source": [
    "from skimage.util import random_noise"
   ]
  },
  {
   "cell_type": "code",
   "execution_count": 11,
   "id": "65c3dcbb",
   "metadata": {},
   "outputs": [],
   "source": [
    "import matplotlib.pyplot as plt\n",
    "import seaborn as sns\n",
    "sns.set_theme()"
   ]
  },
  {
   "cell_type": "code",
   "execution_count": 12,
   "id": "ef921677",
   "metadata": {},
   "outputs": [
    {
     "name": "stderr",
     "output_type": "stream",
     "text": [
      "C:\\Users\\aag12\\anaconda3\\envs\\ml_env\\lib\\site-packages\\torchaudio\\backend\\utils.py:62: UserWarning: No audio backend is available.\n",
      "  warnings.warn(\"No audio backend is available.\")\n"
     ]
    }
   ],
   "source": [
    "import torchaudio"
   ]
  },
  {
   "cell_type": "code",
   "execution_count": 13,
   "id": "10dd49da",
   "metadata": {},
   "outputs": [],
   "source": [
    "from sklearn import preprocessing"
   ]
  },
  {
   "cell_type": "code",
   "execution_count": 14,
   "id": "0b4914d1",
   "metadata": {},
   "outputs": [],
   "source": [
    "from sklearn.model_selection import train_test_split"
   ]
  },
  {
   "cell_type": "code",
   "execution_count": null,
   "id": "dc6dbff6",
   "metadata": {},
   "outputs": [],
   "source": []
  },
  {
   "cell_type": "markdown",
   "id": "8864ad63",
   "metadata": {},
   "source": [
    "# Defining Dataseat"
   ]
  },
  {
   "cell_type": "code",
   "execution_count": 15,
   "id": "494e5fed",
   "metadata": {},
   "outputs": [],
   "source": [
    "class MusicDataset(torch.utils.data.Dataset):   \n",
    "    def __init__(self, np_file_paths, labels, seq_len=10000, random_start=True, noise=True):\n",
    "        self.seq_len = seq_len\n",
    "        self.files = np_file_paths\n",
    "        self.padder = torch.zeros(96, seq_len)\n",
    "        self.labels = labels\n",
    "        self.noise = noise\n",
    "        self.random_start = random_start\n",
    "#         self.labels = []\n",
    "#         for i in range(len(self.files)):\n",
    "#             label = np.random.randint(0, 10, size=15)\n",
    "#             label[label > 8] = 0\n",
    "#             label[label >= 1] = 1\n",
    "#             self.labels.append(label)\n",
    "#         for i in range(len(self.files)):\n",
    "#             label = np.array([1, 0, 0, 0, 0, 0, 0, 0, 0, 0, 0, 0, 0, 0, 0])\n",
    "#             self.labels.append(label)\n",
    "    def __len__(self):\n",
    "        return len(self.files)\n",
    "\n",
    "#     def __getitem__(self, index):\n",
    "#         return (self.X[index:index+self.seq_len], self.y[index+self.seq_len-1])\n",
    "    def __getitem__(self, index):\n",
    "        x = np.load(self.files[index])\n",
    "        x = torch.from_numpy(x).float()\n",
    "#         print(x.shape)\n",
    "        if self.random_start and x.shape[-1] > self.seq_len:\n",
    "            # longer than 3000, select random subset\n",
    "            start = random.randint(0, x.shape[-1] - self.seq_len)\n",
    "            x = x[:,start:start+self.seq_len]\n",
    "        else:\n",
    "            x = x[:,:self.seq_len]\n",
    "        x = pad_sequence([x.T, self.padder.T], padding_value=-90, batch_first=True)[0].T\n",
    "        x = x.unsqueeze(0)\n",
    "        x = x.permute(0, 2, 1)\n",
    "\n",
    "        if self.noise:\n",
    "#             x = torch.tensor(random_noise(x, mode='gaussian', mean=0, var=0.05, clip=False)).float()\n",
    "            x = torch.tensor(random_noise(x, mode='gaussian', mean=0, var=0.1, clip=False)).float()\n",
    "#         input,label_ids,label\n",
    "        item = {\"input\": x, \"label_ids\":[index], \"labels\": torch.tensor(self.labels[index])}\n",
    "        return item\n",
    "#         return x"
   ]
  },
  {
   "cell_type": "code",
   "execution_count": null,
   "id": "8b81fdb3",
   "metadata": {},
   "outputs": [],
   "source": []
  },
  {
   "cell_type": "code",
   "execution_count": 16,
   "id": "3c432a88",
   "metadata": {},
   "outputs": [],
   "source": [
    "from datasets import load_dataset"
   ]
  },
  {
   "cell_type": "code",
   "execution_count": 17,
   "id": "c2e2a3ed",
   "metadata": {},
   "outputs": [],
   "source": [
    "from datasets import disable_caching\n",
    "disable_caching()"
   ]
  },
  {
   "cell_type": "code",
   "execution_count": 18,
   "id": "d735a169",
   "metadata": {},
   "outputs": [],
   "source": [
    "# good_files = []\n",
    "# for i in range(1, 6):\n",
    "#     new_files = [f\"0{i}/{fname.replace('npy', '')}mp3\" for fname in os.listdir(f\"../../subset_moodtheme/0{i}\")]\n",
    "#     good_files.extend(new_files)\n",
    "\n",
    "# test_files = [f\"00/{fname.replace('npy', '')}mp3\" for fname in os.listdir(\"../../subset_moodtheme/00\")]\n",
    "# print(good_files)\n",
    "# print(test_files)"
   ]
  },
  {
   "cell_type": "code",
   "execution_count": 19,
   "id": "6386c2a5",
   "metadata": {},
   "outputs": [],
   "source": [
    "with open(\"goodfiles.txt\", 'r') as f:\n",
    "    all_files = f.readlines()\n",
    "all_files = [g.strip().replace(\"npy\", 'mp3') for g in all_files if len(g.strip()) > 0]"
   ]
  },
  {
   "cell_type": "code",
   "execution_count": 20,
   "id": "e64a05c5",
   "metadata": {},
   "outputs": [
    {
     "data": {
      "text/plain": [
       "['01/846501.mp3', '34/1288334.mp3', '98/1082098.mp3']"
      ]
     },
     "execution_count": 20,
     "metadata": {},
     "output_type": "execute_result"
    }
   ],
   "source": [
    "all_files[:3]"
   ]
  },
  {
   "cell_type": "code",
   "execution_count": null,
   "id": "ae153e5e",
   "metadata": {},
   "outputs": [],
   "source": []
  },
  {
   "cell_type": "code",
   "execution_count": 21,
   "id": "cc07061d",
   "metadata": {},
   "outputs": [],
   "source": [
    "good_files, test_files = train_test_split(all_files, test_size=0.2)"
   ]
  },
  {
   "cell_type": "code",
   "execution_count": 22,
   "id": "98d6ecc7",
   "metadata": {},
   "outputs": [
    {
     "data": {
      "text/plain": [
       "(2200, 551)"
      ]
     },
     "execution_count": 22,
     "metadata": {},
     "output_type": "execute_result"
    }
   ],
   "source": [
    "len(good_files), len(test_files)"
   ]
  },
  {
   "cell_type": "code",
   "execution_count": 23,
   "id": "b668f4e6",
   "metadata": {},
   "outputs": [],
   "source": [
    "def files_to_labels(files):\n",
    "    col_names = ['TRACK_ID',\n",
    "     'ARTIST_ID',\n",
    "     'ALBUM_ID',\n",
    "     'PATH',\n",
    "     'DURATION',\n",
    "     'TAGS',\n",
    "     'TAGS2',\n",
    "     'TAGS3',\n",
    "     'TAGS4',\n",
    "     'TAGS5',\n",
    "     'TAGS6',\n",
    "     'TAGS7',\n",
    "     'TAGS8',\n",
    "     'TAGS9']\n",
    "    MOODPATH = \"../../../Downloads/autotagging_moodtheme.tsv.txt\"\n",
    "    df = pd.read_csv(MOODPATH, sep='\\t', names=col_names)\n",
    "    df = df[df[\"PATH\"].isin(files)]\n",
    "    inds = {'fast': 0,\n",
    "     'sexy': 1,\n",
    "     'mellow': 2,\n",
    "     'heavy': 3,\n",
    "     'horror': 4,\n",
    "     'travel': 5,\n",
    "     'holiday': 6,\n",
    "     'groovy': 7,\n",
    "     'funny': 8,\n",
    "     'retro': 9,\n",
    "     'hopeful': 10,\n",
    "     'powerful': 11,\n",
    "     'cool': 12,\n",
    "     'nature': 13,\n",
    "     'game': 14}\n",
    "\n",
    "    final_labels = []\n",
    "    for i in range(len(df)):\n",
    "        curr = np.zeros(len(inds))\n",
    "        moods = list(df.iloc[i])[5:]\n",
    "        for theme in moods:\n",
    "            if type(theme) == str and \"mood\" in theme:\n",
    "                check = theme.split(\"---\")[-1]\n",
    "                if check in inds:\n",
    "                    curr[inds[check]] = 1\n",
    "            else:\n",
    "                pass\n",
    "\n",
    "        final_labels.append(curr)\n",
    "    return final_labels"
   ]
  },
  {
   "cell_type": "code",
   "execution_count": 24,
   "id": "07d2d0ea",
   "metadata": {},
   "outputs": [],
   "source": [
    "train_labels = files_to_labels(good_files)"
   ]
  },
  {
   "cell_type": "code",
   "execution_count": 25,
   "id": "d874d298",
   "metadata": {},
   "outputs": [],
   "source": [
    "test_labels = files_to_labels(test_files)"
   ]
  },
  {
   "cell_type": "code",
   "execution_count": 26,
   "id": "678f7c66",
   "metadata": {},
   "outputs": [
    {
     "data": {
      "text/plain": [
       "[array([0., 0., 0., 0., 0., 0., 0., 0., 0., 0., 0., 0., 1., 0., 0.]),\n",
       " array([0., 0., 0., 0., 0., 0., 0., 0., 0., 0., 0., 0., 1., 0., 0.])]"
      ]
     },
     "execution_count": 26,
     "metadata": {},
     "output_type": "execute_result"
    }
   ],
   "source": [
    "train_labels[:2]"
   ]
  },
  {
   "cell_type": "code",
   "execution_count": 27,
   "id": "545d632d",
   "metadata": {},
   "outputs": [],
   "source": [
    "# train_np_files = [(\"../../subset_moodtheme/\" + g).replace(\".mp3\", \".npy\") for g in good_files]\n",
    "# test_np_files = [(\"../../subset_moodtheme/\" + g).replace(\".mp3\", \".npy\") for g in test_files]\n",
    "train_np_files = [\"../../mtg-jamendo-dataset/all_data/\" + g.replace(\"mp3\", \"npy\") for g in good_files]\n",
    "test_np_files = [\"../../mtg-jamendo-dataset/all_data/\" + g.replace(\"mp3\", \"npy\") for g in test_files]"
   ]
  },
  {
   "cell_type": "code",
   "execution_count": 28,
   "id": "e9b18b4c",
   "metadata": {},
   "outputs": [
    {
     "data": {
      "text/plain": [
       "(['../../mtg-jamendo-dataset/all_data/49/1045249.npy',\n",
       "  '../../mtg-jamendo-dataset/all_data/45/1113645.npy'],\n",
       " ['../../mtg-jamendo-dataset/all_data/33/1359333.npy',\n",
       "  '../../mtg-jamendo-dataset/all_data/24/1222824.npy'])"
      ]
     },
     "execution_count": 28,
     "metadata": {},
     "output_type": "execute_result"
    }
   ],
   "source": [
    "train_np_files[:2], test_np_files[:2]"
   ]
  },
  {
   "cell_type": "code",
   "execution_count": 29,
   "id": "dd90cdfb",
   "metadata": {},
   "outputs": [],
   "source": [
    "import time"
   ]
  },
  {
   "cell_type": "code",
   "execution_count": 30,
   "id": "284ea16b",
   "metadata": {},
   "outputs": [],
   "source": [
    "# SEQ_LEN = 10000\n",
    "SEQ_LEN = 3000\n",
    "# SEQ_LEN = 5000"
   ]
  },
  {
   "cell_type": "code",
   "execution_count": 31,
   "id": "50166183",
   "metadata": {},
   "outputs": [],
   "source": [
    "train_dataset = MusicDataset(train_np_files, train_labels, seq_len=SEQ_LEN, noise=True, random_start=True)\n",
    "test_dataset = MusicDataset(test_np_files, test_labels, seq_len=SEQ_LEN, noise=False, random_start=True)"
   ]
  },
  {
   "cell_type": "code",
   "execution_count": null,
   "id": "05cb3a0a",
   "metadata": {},
   "outputs": [],
   "source": []
  },
  {
   "cell_type": "markdown",
   "id": "3316f135",
   "metadata": {},
   "source": [
    "# MODEL TESTING\n",
    "run dataset stuff first"
   ]
  },
  {
   "cell_type": "code",
   "execution_count": 42,
   "id": "950a9681",
   "metadata": {},
   "outputs": [],
   "source": [
    "from torchvision import transforms"
   ]
  },
  {
   "cell_type": "code",
   "execution_count": null,
   "id": "99c3acc3",
   "metadata": {},
   "outputs": [],
   "source": [
    "from transformers import ViTConfig, ViTModel"
   ]
  },
  {
   "cell_type": "code",
   "execution_count": 43,
   "id": "1663f186",
   "metadata": {},
   "outputs": [],
   "source": [
    "device = torch.device('cuda' if torch.cuda.is_available() else 'cpu')"
   ]
  },
  {
   "cell_type": "code",
   "execution_count": null,
   "id": "7b5c4b37",
   "metadata": {},
   "outputs": [],
   "source": []
  },
  {
   "cell_type": "code",
   "execution_count": 44,
   "id": "65cad72f",
   "metadata": {},
   "outputs": [],
   "source": []
  },
  {
   "cell_type": "code",
   "execution_count": 45,
   "id": "0a8fbf6e",
   "metadata": {},
   "outputs": [],
   "source": [
    "batch_size=16"
   ]
  },
  {
   "cell_type": "code",
   "execution_count": null,
   "id": "cebf99f0",
   "metadata": {},
   "outputs": [],
   "source": []
  },
  {
   "cell_type": "code",
   "execution_count": 46,
   "id": "f57a09df",
   "metadata": {},
   "outputs": [],
   "source": [
    "configuration = ViTConfig()"
   ]
  },
  {
   "cell_type": "code",
   "execution_count": 47,
   "id": "44c61a07",
   "metadata": {},
   "outputs": [
    {
     "data": {
      "text/plain": [
       "224"
      ]
     },
     "execution_count": 47,
     "metadata": {},
     "output_type": "execute_result"
    }
   ],
   "source": [
    "configuration.image_size"
   ]
  },
  {
   "cell_type": "code",
   "execution_count": null,
   "id": "1b32d4ed",
   "metadata": {},
   "outputs": [],
   "source": []
  },
  {
   "cell_type": "code",
   "execution_count": 48,
   "id": "1eeb026c",
   "metadata": {},
   "outputs": [],
   "source": [
    "configuration.num_channels = 1\n",
    "# configuration.image_size = 225"
   ]
  },
  {
   "cell_type": "code",
   "execution_count": null,
   "id": "ceb31ec0",
   "metadata": {},
   "outputs": [],
   "source": []
  },
  {
   "cell_type": "code",
   "execution_count": 49,
   "id": "10c354f2",
   "metadata": {},
   "outputs": [],
   "source": [
    "model = ViTModel(configuration)"
   ]
  },
  {
   "cell_type": "code",
   "execution_count": 50,
   "id": "299b7db5",
   "metadata": {},
   "outputs": [
    {
     "data": {
      "text/plain": [
       "ViTConfig {\n",
       "  \"attention_probs_dropout_prob\": 0.0,\n",
       "  \"encoder_stride\": 16,\n",
       "  \"hidden_act\": \"gelu\",\n",
       "  \"hidden_dropout_prob\": 0.0,\n",
       "  \"hidden_size\": 768,\n",
       "  \"image_size\": 224,\n",
       "  \"initializer_range\": 0.02,\n",
       "  \"intermediate_size\": 3072,\n",
       "  \"layer_norm_eps\": 1e-12,\n",
       "  \"model_type\": \"vit\",\n",
       "  \"num_attention_heads\": 12,\n",
       "  \"num_channels\": 1,\n",
       "  \"num_hidden_layers\": 12,\n",
       "  \"patch_size\": 16,\n",
       "  \"qkv_bias\": true,\n",
       "  \"transformers_version\": \"4.23.1\"\n",
       "}"
      ]
     },
     "execution_count": 50,
     "metadata": {},
     "output_type": "execute_result"
    }
   ],
   "source": [
    "model.config"
   ]
  },
  {
   "cell_type": "code",
   "execution_count": null,
   "id": "7dbd20c7",
   "metadata": {},
   "outputs": [],
   "source": []
  },
  {
   "cell_type": "code",
   "execution_count": 51,
   "id": "53b6d8e9",
   "metadata": {},
   "outputs": [],
   "source": [
    "inp = train_dataset[0]['input']\n",
    "start_data = inp.unsqueeze(0)"
   ]
  },
  {
   "cell_type": "code",
   "execution_count": null,
   "id": "1b11a3ca",
   "metadata": {},
   "outputs": [],
   "source": []
  },
  {
   "cell_type": "code",
   "execution_count": 52,
   "id": "07476a19",
   "metadata": {},
   "outputs": [],
   "source": [
    "tr = transforms.Resize((224, 224))"
   ]
  },
  {
   "cell_type": "code",
   "execution_count": 53,
   "id": "b8cc2b53",
   "metadata": {},
   "outputs": [],
   "source": [
    "res = tr(inp)"
   ]
  },
  {
   "cell_type": "code",
   "execution_count": 54,
   "id": "9af6b7a3",
   "metadata": {},
   "outputs": [
    {
     "data": {
      "text/plain": [
       "torch.Size([1, 224, 224])"
      ]
     },
     "execution_count": 54,
     "metadata": {},
     "output_type": "execute_result"
    }
   ],
   "source": [
    "res.shape"
   ]
  },
  {
   "cell_type": "code",
   "execution_count": 55,
   "id": "96c7f9be",
   "metadata": {},
   "outputs": [],
   "source": [
    "import matplotlib.pyplot as plt"
   ]
  },
  {
   "cell_type": "code",
   "execution_count": 56,
   "id": "6004c87c",
   "metadata": {},
   "outputs": [
    {
     "data": {
      "text/plain": [
       "<matplotlib.image.AxesImage at 0x13999eb4d60>"
      ]
     },
     "execution_count": 56,
     "metadata": {},
     "output_type": "execute_result"
    },
    {
     "data": {
      "image/png": "[encoded data removed]",
      "text/plain": [
       "<Figure size 1152x432 with 1 Axes>"
      ]
     },
     "metadata": {
      "needs_background": "light"
     },
     "output_type": "display_data"
    }
   ],
   "source": [
    "plt.figure(figsize=(16, 6))\n",
    "plt.imshow(inp[0].permute(1, 0))"
   ]
  },
  {
   "cell_type": "code",
   "execution_count": 57,
   "id": "037c2099",
   "metadata": {},
   "outputs": [
    {
     "data": {
      "text/plain": [
       "<matplotlib.image.AxesImage at 0x1399a042130>"
      ]
     },
     "execution_count": 57,
     "metadata": {},
     "output_type": "execute_result"
    },
    {
     "data": {
      "image/png": "[encoded data removed]",
      "text/plain": [
       "<Figure size 1152x432 with 1 Axes>"
      ]
     },
     "metadata": {
      "needs_background": "light"
     },
     "output_type": "display_data"
    }
   ],
   "source": [
    "plt.figure(figsize=(16, 6))\n",
    "plt.imshow(res[0].permute(1, 0))"
   ]
  },
  {
   "cell_type": "code",
   "execution_count": 58,
   "id": "e7acb8c8",
   "metadata": {},
   "outputs": [
    {
     "data": {
      "text/plain": [
       "torch.Size([224, 224])"
      ]
     },
     "execution_count": 58,
     "metadata": {},
     "output_type": "execute_result"
    }
   ],
   "source": [
    "res[0].shape"
   ]
  },
  {
   "cell_type": "code",
   "execution_count": null,
   "id": "d0b14229",
   "metadata": {},
   "outputs": [],
   "source": []
  },
  {
   "cell_type": "code",
   "execution_count": 59,
   "id": "b4bad4a4",
   "metadata": {},
   "outputs": [
    {
     "data": {
      "text/plain": [
       "tensor([[[ -5.0495,  -3.9592,  -0.6885,  ..., -84.4419, -88.8425, -90.3093],\n",
       "         [-35.6501, -35.0531, -33.2622,  ..., -87.1897, -89.1975, -89.8668],\n",
       "         [-10.2010,  -9.3612,  -6.8418,  ..., -82.8060, -84.8585, -85.5426],\n",
       "         ...,\n",
       "         [-73.3483, -69.6051, -58.3754,  ..., -90.2603, -90.3009, -90.3144],\n",
       "         [-75.9351, -72.1995, -60.9925,  ..., -89.7647, -89.9710, -90.0398],\n",
       "         [-77.7232, -74.3543, -64.2475,  ..., -89.8924, -89.9706, -89.9967]]])"
      ]
     },
     "execution_count": 59,
     "metadata": {},
     "output_type": "execute_result"
    }
   ],
   "source": [
    "res"
   ]
  },
  {
   "cell_type": "code",
   "execution_count": 60,
   "id": "bc002a18",
   "metadata": {},
   "outputs": [
    {
     "data": {
      "text/plain": [
       "tensor([[[-30.9667, -31.5189, -26.1063,  ..., -60.0523, -75.6249, -90.0798],\n",
       "         [-14.4872,  -8.9839,  -8.3938,  ..., -51.6175, -58.1785, -70.4256],\n",
       "         [ -8.8643,  -6.9824,  -0.3497,  ..., -57.1014, -74.2113, -85.4595],\n",
       "         ...,\n",
       "         [-72.7853, -51.2411, -40.7030,  ..., -90.3196, -90.2025, -90.3611],\n",
       "         [-73.4438, -50.5015, -39.5264,  ..., -89.7515, -90.3158, -89.8375],\n",
       "         [-70.9137, -50.7764, -39.7551,  ..., -89.8172, -89.2611, -90.2712]]])"
      ]
     },
     "execution_count": 60,
     "metadata": {},
     "output_type": "execute_result"
    }
   ],
   "source": [
    "inp"
   ]
  },
  {
   "cell_type": "code",
   "execution_count": 61,
   "id": "bb75c139",
   "metadata": {},
   "outputs": [
    {
     "data": {
      "text/plain": [
       "torch.Size([1, 3000, 96])"
      ]
     },
     "execution_count": 61,
     "metadata": {},
     "output_type": "execute_result"
    }
   ],
   "source": [
    "inp.shape"
   ]
  },
  {
   "cell_type": "code",
   "execution_count": 62,
   "id": "16c0bca4",
   "metadata": {},
   "outputs": [
    {
     "data": {
      "text/plain": [
       "<function Tensor.reshape>"
      ]
     },
     "execution_count": 62,
     "metadata": {},
     "output_type": "execute_result"
    }
   ],
   "source": [
    "start_data.reshape"
   ]
  },
  {
   "cell_type": "code",
   "execution_count": 63,
   "id": "5ae12981",
   "metadata": {},
   "outputs": [
    {
     "data": {
      "text/plain": [
       "torch.Size([1, 224, 224])"
      ]
     },
     "execution_count": 63,
     "metadata": {},
     "output_type": "execute_result"
    }
   ],
   "source": [
    "res.shape"
   ]
  },
  {
   "cell_type": "code",
   "execution_count": 64,
   "id": "516a2898",
   "metadata": {},
   "outputs": [],
   "source": [
    "model = model.to(device)"
   ]
  },
  {
   "cell_type": "code",
   "execution_count": 65,
   "id": "a0a6cff1",
   "metadata": {},
   "outputs": [],
   "source": [
    "go = res.unsqueeze(0).to(device)"
   ]
  },
  {
   "cell_type": "code",
   "execution_count": 134,
   "id": "27077fa2",
   "metadata": {},
   "outputs": [],
   "source": [
    "# model(go)"
   ]
  },
  {
   "cell_type": "code",
   "execution_count": null,
   "id": "eaefd00b",
   "metadata": {},
   "outputs": [],
   "source": []
  },
  {
   "cell_type": "markdown",
   "id": "82d06691",
   "metadata": {},
   "source": [
    "## MAE"
   ]
  },
  {
   "cell_type": "code",
   "execution_count": 436,
   "id": "1dac1ed5",
   "metadata": {},
   "outputs": [],
   "source": [
    "from vit_pytorch import ViT, MAE"
   ]
  },
  {
   "cell_type": "code",
   "execution_count": 437,
   "id": "3501625b",
   "metadata": {},
   "outputs": [],
   "source": [
    "class MusicDataset(torch.utils.data.Dataset):   \n",
    "    def __init__(self, np_file_paths, labels, transforms, seq_len=10000):\n",
    "        self.seq_len = seq_len\n",
    "        self.files = np_file_paths\n",
    "        self.transforms = transforms\n",
    "        \n",
    "    def __len__(self):\n",
    "        return len(self.files)\n",
    "\n",
    "    def __getitem__(self, index):\n",
    "        x = np.load(self.files[index])\n",
    "        x = torch.from_numpy(x).float()\n",
    "        x = x[:,:self.seq_len]\n",
    "        x = x.unsqueeze(0)\n",
    "        x = self.transforms(x)\n",
    "#         item = {\"input\": x, \"label_ids\":[index], \"labels\": torch.tensor(self.labels[index])}\n",
    "#         return item\n",
    "        return x"
   ]
  },
  {
   "cell_type": "code",
   "execution_count": 438,
   "id": "c1fe60d6",
   "metadata": {},
   "outputs": [],
   "source": [
    "composed = transforms.Compose([\n",
    "   transforms.Resize((224, 224)),\n",
    "])"
   ]
  },
  {
   "cell_type": "code",
   "execution_count": 187,
   "id": "6c4e3838",
   "metadata": {},
   "outputs": [
    {
     "data": {
      "text/plain": [
       "torch.Size([1, 224, 224])"
      ]
     },
     "execution_count": 187,
     "metadata": {},
     "output_type": "execute_result"
    }
   ],
   "source": [
    "composed(res).shape"
   ]
  },
  {
   "cell_type": "code",
   "execution_count": 188,
   "id": "2112bf96",
   "metadata": {},
   "outputs": [],
   "source": [
    "train_dataset = MusicDataset(train_np_files, train_labels, composed, seq_len=SEQ_LEN)\n",
    "test_dataset = MusicDataset(test_np_files, test_labels, composed, seq_len=SEQ_LEN)"
   ]
  },
  {
   "cell_type": "code",
   "execution_count": 189,
   "id": "fc9d90ac",
   "metadata": {},
   "outputs": [],
   "source": [
    "batch_size = 8"
   ]
  },
  {
   "cell_type": "code",
   "execution_count": 190,
   "id": "e8896201",
   "metadata": {},
   "outputs": [],
   "source": [
    "train_dl = DataLoader(\n",
    "    train_dataset,\n",
    "    batch_size=batch_size,\n",
    "    shuffle=True,\n",
    "    num_workers=0,\n",
    "    collate_fn=None,\n",
    "    pin_memory=False,\n",
    " )\n",
    "\n",
    "test_dl = DataLoader(\n",
    "    test_dataset,\n",
    "    batch_size=1,\n",
    "    shuffle=False,\n",
    "    num_workers=0,\n",
    "    collate_fn=None,\n",
    "    pin_memory=False,\n",
    " )"
   ]
  },
  {
   "cell_type": "code",
   "execution_count": null,
   "id": "1aa38b7c",
   "metadata": {},
   "outputs": [],
   "source": []
  },
  {
   "cell_type": "code",
   "execution_count": 249,
   "id": "78f7bb56",
   "metadata": {},
   "outputs": [],
   "source": [
    "v = ViT(\n",
    "    image_size = 224,\n",
    "#     patch_size = 32,\n",
    "    patch_size = 16,\n",
    "    num_classes = 15,\n",
    "#     dim = 1024,\n",
    "    dim = 512,\n",
    "    depth = 6,\n",
    "    heads = 8,\n",
    "#     mlp_dim = 2048,\n",
    "    mlp_dim = 512,\n",
    "    channels=1\n",
    ")\n",
    "mae = MAE(\n",
    "    encoder = v,\n",
    "    masking_ratio = 0.75,   # the paper recommended 75% masked patches\n",
    "    decoder_dim = 512,      # paper showed good results with just 512\n",
    "    decoder_depth = 6       # anywhere from 1 to 8\n",
    ")"
   ]
  },
  {
   "cell_type": "code",
   "execution_count": 250,
   "id": "5da82a33",
   "metadata": {},
   "outputs": [],
   "source": []
  },
  {
   "cell_type": "code",
   "execution_count": null,
   "id": "b2186212",
   "metadata": {},
   "outputs": [],
   "source": []
  },
  {
   "cell_type": "code",
   "execution_count": 251,
   "id": "e688cba8",
   "metadata": {},
   "outputs": [],
   "source": [
    "from tqdm import tqdm\n",
    "import torch.optim as optim"
   ]
  },
  {
   "cell_type": "code",
   "execution_count": 252,
   "id": "559dcd34",
   "metadata": {},
   "outputs": [],
   "source": [
    "mae = mae.to(DEVICE)"
   ]
  },
  {
   "cell_type": "code",
   "execution_count": 253,
   "id": "5ff81ca2",
   "metadata": {},
   "outputs": [
    {
     "data": {
      "text/plain": [
       "torch.Size([8, 1, 224, 224])"
      ]
     },
     "execution_count": 253,
     "metadata": {},
     "output_type": "execute_result"
    }
   ],
   "source": [
    "data.shape"
   ]
  },
  {
   "cell_type": "code",
   "execution_count": 254,
   "id": "7e2aff07",
   "metadata": {},
   "outputs": [],
   "source": [
    "def get_total_loss(model, dataloader):\n",
    "    total_loss = 0\n",
    "    for batch_idx, data in enumerate(dataloader):\n",
    "        loss = mae(data.to(device))\n",
    "        total_loss += loss.item()\n",
    "    return total_loss"
   ]
  },
  {
   "cell_type": "code",
   "execution_count": 255,
   "id": "45e57a8d",
   "metadata": {},
   "outputs": [],
   "source": [
    "# optimizer = optim.AdamW(mae.parameters(), lr=1e-2)\n",
    "# optimizer = optim.AdamW(mae.parameters(), lr=5e-2, weight_decay=0.05, betas=(0.9, 0.95))\n",
    "optimizer = optim.AdamW(mae.parameters(), lr=5e-3, weight_decay=0.05, betas=(0.9, 0.95))"
   ]
  },
  {
   "cell_type": "code",
   "execution_count": null,
   "id": "89b0d26c",
   "metadata": {},
   "outputs": [],
   "source": []
  },
  {
   "cell_type": "code",
   "execution_count": 256,
   "id": "34d2aaec",
   "metadata": {},
   "outputs": [
    {
     "name": "stderr",
     "output_type": "stream",
     "text": [
      "100%|████████████████████████████████████████████████████████████████████████████████████████| 275/275 [00:25<00:00, 10.84it/s]\n"
     ]
    },
    {
     "name": "stdout",
     "output_type": "stream",
     "text": [
      "Epoch: 0; Loss: 276080.3042449951; Test Loss: 246350.5579147339\n"
     ]
    },
    {
     "name": "stderr",
     "output_type": "stream",
     "text": [
      "100%|████████████████████████████████████████████████████████████████████████████████████████| 275/275 [00:25<00:00, 10.83it/s]\n"
     ]
    },
    {
     "name": "stdout",
     "output_type": "stream",
     "text": [
      "Epoch: 1; Loss: 89291.69067382812; Test Loss: 140533.61388397217\n"
     ]
    },
    {
     "name": "stderr",
     "output_type": "stream",
     "text": [
      "100%|████████████████████████████████████████████████████████████████████████████████████████| 275/275 [00:23<00:00, 11.78it/s]\n"
     ]
    },
    {
     "name": "stdout",
     "output_type": "stream",
     "text": [
      "Epoch: 2; Loss: 54749.39376068115; Test Loss: 96360.1615486145\n"
     ]
    },
    {
     "name": "stderr",
     "output_type": "stream",
     "text": [
      "100%|████████████████████████████████████████████████████████████████████████████████████████| 275/275 [00:23<00:00, 11.81it/s]\n"
     ]
    },
    {
     "name": "stdout",
     "output_type": "stream",
     "text": [
      "Epoch: 3; Loss: 48744.62087249756; Test Loss: 83770.93311691284\n"
     ]
    },
    {
     "name": "stderr",
     "output_type": "stream",
     "text": [
      "100%|████████████████████████████████████████████████████████████████████████████████████████| 275/275 [00:23<00:00, 11.63it/s]\n"
     ]
    },
    {
     "name": "stdout",
     "output_type": "stream",
     "text": [
      "Epoch: 4; Loss: 43921.656311035156; Test Loss: 78264.68698692322\n"
     ]
    },
    {
     "name": "stderr",
     "output_type": "stream",
     "text": [
      "100%|████████████████████████████████████████████████████████████████████████████████████████| 275/275 [00:24<00:00, 11.33it/s]\n"
     ]
    },
    {
     "name": "stdout",
     "output_type": "stream",
     "text": [
      "Epoch: 5; Loss: 40744.013359069824; Test Loss: 81621.57325744629\n"
     ]
    },
    {
     "name": "stderr",
     "output_type": "stream",
     "text": [
      "100%|████████████████████████████████████████████████████████████████████████████████████████| 275/275 [00:23<00:00, 11.77it/s]\n"
     ]
    },
    {
     "name": "stdout",
     "output_type": "stream",
     "text": [
      "Epoch: 6; Loss: 38521.14498138428; Test Loss: 76112.8122215271\n"
     ]
    },
    {
     "name": "stderr",
     "output_type": "stream",
     "text": [
      "100%|████████████████████████████████████████████████████████████████████████████████████████| 275/275 [00:23<00:00, 11.79it/s]\n"
     ]
    },
    {
     "name": "stdout",
     "output_type": "stream",
     "text": [
      "Epoch: 7; Loss: 39314.981216430664; Test Loss: 78907.4281539917\n"
     ]
    },
    {
     "name": "stderr",
     "output_type": "stream",
     "text": [
      "100%|████████████████████████████████████████████████████████████████████████████████████████| 275/275 [00:24<00:00, 11.20it/s]\n"
     ]
    },
    {
     "name": "stdout",
     "output_type": "stream",
     "text": [
      "Epoch: 8; Loss: 37101.98306274414; Test Loss: 72873.41133499146\n"
     ]
    },
    {
     "name": "stderr",
     "output_type": "stream",
     "text": [
      "100%|████████████████████████████████████████████████████████████████████████████████████████| 275/275 [00:23<00:00, 11.54it/s]\n"
     ]
    },
    {
     "name": "stdout",
     "output_type": "stream",
     "text": [
      "Epoch: 9; Loss: 37447.97604370117; Test Loss: 74116.89520454407\n"
     ]
    },
    {
     "name": "stderr",
     "output_type": "stream",
     "text": [
      "100%|████████████████████████████████████████████████████████████████████████████████████████| 275/275 [00:23<00:00, 11.77it/s]\n"
     ]
    },
    {
     "name": "stdout",
     "output_type": "stream",
     "text": [
      "Epoch: 10; Loss: 38564.417976379395; Test Loss: 71480.00602912903\n"
     ]
    },
    {
     "name": "stderr",
     "output_type": "stream",
     "text": [
      "100%|████████████████████████████████████████████████████████████████████████████████████████| 275/275 [00:23<00:00, 11.77it/s]\n"
     ]
    },
    {
     "name": "stdout",
     "output_type": "stream",
     "text": [
      "Epoch: 11; Loss: 37344.94650268555; Test Loss: 69573.21865081787\n"
     ]
    },
    {
     "name": "stderr",
     "output_type": "stream",
     "text": [
      "100%|████████████████████████████████████████████████████████████████████████████████████████| 275/275 [00:25<00:00, 10.96it/s]\n"
     ]
    },
    {
     "name": "stdout",
     "output_type": "stream",
     "text": [
      "Epoch: 12; Loss: 35259.97687149048; Test Loss: 68291.31255722046\n"
     ]
    },
    {
     "name": "stderr",
     "output_type": "stream",
     "text": [
      "100%|████████████████████████████████████████████████████████████████████████████████████████| 275/275 [00:23<00:00, 11.77it/s]\n"
     ]
    },
    {
     "name": "stdout",
     "output_type": "stream",
     "text": [
      "Epoch: 13; Loss: 34774.32368469238; Test Loss: 70128.72945213318\n"
     ]
    },
    {
     "name": "stderr",
     "output_type": "stream",
     "text": [
      "100%|████████████████████████████████████████████████████████████████████████████████████████| 275/275 [00:23<00:00, 11.77it/s]\n"
     ]
    },
    {
     "name": "stdout",
     "output_type": "stream",
     "text": [
      "Epoch: 14; Loss: 34367.07344055176; Test Loss: 64517.289363861084\n"
     ]
    },
    {
     "name": "stderr",
     "output_type": "stream",
     "text": [
      "100%|████████████████████████████████████████████████████████████████████████████████████████| 275/275 [00:23<00:00, 11.79it/s]\n"
     ]
    },
    {
     "name": "stdout",
     "output_type": "stream",
     "text": [
      "Epoch: 15; Loss: 34087.94969558716; Test Loss: 64260.59979057312\n"
     ]
    },
    {
     "name": "stderr",
     "output_type": "stream",
     "text": [
      "100%|████████████████████████████████████████████████████████████████████████████████████████| 275/275 [00:24<00:00, 11.01it/s]\n"
     ]
    },
    {
     "name": "stdout",
     "output_type": "stream",
     "text": [
      "Epoch: 16; Loss: 39253.41689300537; Test Loss: 63982.686040878296\n"
     ]
    },
    {
     "name": "stderr",
     "output_type": "stream",
     "text": [
      "100%|████████████████████████████████████████████████████████████████████████████████████████| 275/275 [00:23<00:00, 11.79it/s]\n"
     ]
    },
    {
     "name": "stdout",
     "output_type": "stream",
     "text": [
      "Epoch: 17; Loss: 33696.09609222412; Test Loss: 64116.94851875305\n"
     ]
    },
    {
     "name": "stderr",
     "output_type": "stream",
     "text": [
      "100%|████████████████████████████████████████████████████████████████████████████████████████| 275/275 [00:23<00:00, 11.80it/s]\n"
     ]
    },
    {
     "name": "stdout",
     "output_type": "stream",
     "text": [
      "Epoch: 18; Loss: 33439.7018737793; Test Loss: 62960.07576942444\n"
     ]
    },
    {
     "name": "stderr",
     "output_type": "stream",
     "text": [
      "100%|████████████████████████████████████████████████████████████████████████████████████████| 275/275 [00:24<00:00, 11.45it/s]\n"
     ]
    },
    {
     "name": "stdout",
     "output_type": "stream",
     "text": [
      "Epoch: 19; Loss: 33231.4119720459; Test Loss: 63414.529989242554\n"
     ]
    },
    {
     "name": "stderr",
     "output_type": "stream",
     "text": [
      "100%|████████████████████████████████████████████████████████████████████████████████████████| 275/275 [00:24<00:00, 11.41it/s]\n"
     ]
    },
    {
     "name": "stdout",
     "output_type": "stream",
     "text": [
      "Epoch: 20; Loss: 33528.21862792969; Test Loss: 64198.66967201233\n"
     ]
    },
    {
     "name": "stderr",
     "output_type": "stream",
     "text": [
      "100%|████████████████████████████████████████████████████████████████████████████████████████| 275/275 [00:23<00:00, 11.77it/s]\n"
     ]
    },
    {
     "name": "stdout",
     "output_type": "stream",
     "text": [
      "Epoch: 21; Loss: 33123.91159057617; Test Loss: 62405.891607284546\n"
     ]
    },
    {
     "name": "stderr",
     "output_type": "stream",
     "text": [
      "100%|████████████████████████████████████████████████████████████████████████████████████████| 275/275 [00:23<00:00, 11.74it/s]\n"
     ]
    },
    {
     "name": "stdout",
     "output_type": "stream",
     "text": [
      "Epoch: 22; Loss: 32624.351928710938; Test Loss: 62492.674715042114\n"
     ]
    },
    {
     "name": "stderr",
     "output_type": "stream",
     "text": [
      "100%|████████████████████████████████████████████████████████████████████████████████████████| 275/275 [00:24<00:00, 11.11it/s]\n"
     ]
    },
    {
     "name": "stdout",
     "output_type": "stream",
     "text": [
      "Epoch: 23; Loss: 32692.774353027344; Test Loss: 62482.71595954895\n"
     ]
    },
    {
     "name": "stderr",
     "output_type": "stream",
     "text": [
      "100%|████████████████████████████████████████████████████████████████████████████████████████| 275/275 [00:23<00:00, 11.78it/s]\n"
     ]
    },
    {
     "name": "stdout",
     "output_type": "stream",
     "text": [
      "Epoch: 24; Loss: 32527.833568572998; Test Loss: 64123.42633628845\n"
     ]
    },
    {
     "name": "stderr",
     "output_type": "stream",
     "text": [
      "100%|████████████████████████████████████████████████████████████████████████████████████████| 275/275 [00:23<00:00, 11.83it/s]\n"
     ]
    },
    {
     "name": "stdout",
     "output_type": "stream",
     "text": [
      "Epoch: 25; Loss: 32729.608673095703; Test Loss: 64575.148067474365\n"
     ]
    },
    {
     "name": "stderr",
     "output_type": "stream",
     "text": [
      "100%|████████████████████████████████████████████████████████████████████████████████████████| 275/275 [00:23<00:00, 11.79it/s]\n"
     ]
    },
    {
     "name": "stdout",
     "output_type": "stream",
     "text": [
      "Epoch: 26; Loss: 32585.535484313965; Test Loss: 64037.85218048096\n"
     ]
    },
    {
     "name": "stderr",
     "output_type": "stream",
     "text": [
      "100%|████████████████████████████████████████████████████████████████████████████████████████| 275/275 [00:25<00:00, 10.92it/s]\n"
     ]
    },
    {
     "name": "stdout",
     "output_type": "stream",
     "text": [
      "Epoch: 27; Loss: 32540.621856689453; Test Loss: 58861.048990249634\n"
     ]
    },
    {
     "name": "stderr",
     "output_type": "stream",
     "text": [
      "100%|████████████████████████████████████████████████████████████████████████████████████████| 275/275 [00:23<00:00, 11.78it/s]\n"
     ]
    },
    {
     "name": "stdout",
     "output_type": "stream",
     "text": [
      "Epoch: 28; Loss: 32262.860801696777; Test Loss: 62310.73246002197\n"
     ]
    },
    {
     "name": "stderr",
     "output_type": "stream",
     "text": [
      "100%|████████████████████████████████████████████████████████████████████████████████████████| 275/275 [00:23<00:00, 11.76it/s]\n"
     ]
    },
    {
     "name": "stdout",
     "output_type": "stream",
     "text": [
      "Epoch: 29; Loss: 32077.321975708008; Test Loss: 61365.99906539917\n"
     ]
    },
    {
     "name": "stderr",
     "output_type": "stream",
     "text": [
      "100%|████████████████████████████████████████████████████████████████████████████████████████| 275/275 [00:23<00:00, 11.62it/s]\n"
     ]
    },
    {
     "name": "stdout",
     "output_type": "stream",
     "text": [
      "Epoch: 30; Loss: 32290.115825653076; Test Loss: 62180.878032684326\n"
     ]
    },
    {
     "name": "stderr",
     "output_type": "stream",
     "text": [
      "100%|████████████████████████████████████████████████████████████████████████████████████████| 275/275 [00:32<00:00,  8.54it/s]\n"
     ]
    },
    {
     "name": "stdout",
     "output_type": "stream",
     "text": [
      "Epoch: 31; Loss: 31770.214351654053; Test Loss: 63384.885791778564\n"
     ]
    },
    {
     "name": "stderr",
     "output_type": "stream",
     "text": [
      "100%|████████████████████████████████████████████████████████████████████████████████████████| 275/275 [00:25<00:00, 10.89it/s]\n"
     ]
    },
    {
     "name": "stdout",
     "output_type": "stream",
     "text": [
      "Epoch: 32; Loss: 32172.485313415527; Test Loss: 67790.1958732605\n"
     ]
    },
    {
     "name": "stderr",
     "output_type": "stream",
     "text": [
      "100%|████████████████████████████████████████████████████████████████████████████████████████| 275/275 [00:23<00:00, 11.76it/s]\n"
     ]
    },
    {
     "name": "stdout",
     "output_type": "stream",
     "text": [
      "Epoch: 33; Loss: 32014.1664352417; Test Loss: 62485.85102844238\n"
     ]
    },
    {
     "name": "stderr",
     "output_type": "stream",
     "text": [
      "100%|████████████████████████████████████████████████████████████████████████████████████████| 275/275 [00:25<00:00, 10.95it/s]\n"
     ]
    },
    {
     "name": "stdout",
     "output_type": "stream",
     "text": [
      "Epoch: 34; Loss: 31977.01109313965; Test Loss: 62845.21714782715\n"
     ]
    },
    {
     "name": "stderr",
     "output_type": "stream",
     "text": [
      "100%|████████████████████████████████████████████████████████████████████████████████████████| 275/275 [00:23<00:00, 11.73it/s]\n"
     ]
    },
    {
     "name": "stdout",
     "output_type": "stream",
     "text": [
      "Epoch: 35; Loss: 32266.510864257812; Test Loss: 62610.413579940796\n"
     ]
    },
    {
     "name": "stderr",
     "output_type": "stream",
     "text": [
      "100%|████████████████████████████████████████████████████████████████████████████████████████| 275/275 [00:23<00:00, 11.75it/s]\n"
     ]
    },
    {
     "name": "stdout",
     "output_type": "stream",
     "text": [
      "Epoch: 36; Loss: 31842.93252182007; Test Loss: 60536.518907547\n"
     ]
    },
    {
     "name": "stderr",
     "output_type": "stream",
     "text": [
      "100%|████████████████████████████████████████████████████████████████████████████████████████| 275/275 [00:23<00:00, 11.64it/s]\n"
     ]
    },
    {
     "name": "stdout",
     "output_type": "stream",
     "text": [
      "Epoch: 37; Loss: 32036.33642578125; Test Loss: 69159.2629070282\n"
     ]
    },
    {
     "name": "stderr",
     "output_type": "stream",
     "text": [
      "100%|████████████████████████████████████████████████████████████████████████████████████████| 275/275 [00:24<00:00, 11.28it/s]\n"
     ]
    },
    {
     "name": "stdout",
     "output_type": "stream",
     "text": [
      "Epoch: 38; Loss: 31939.500198364258; Test Loss: 61691.8097076416\n"
     ]
    },
    {
     "name": "stderr",
     "output_type": "stream",
     "text": [
      "100%|████████████████████████████████████████████████████████████████████████████████████████| 275/275 [00:23<00:00, 11.77it/s]\n"
     ]
    },
    {
     "name": "stdout",
     "output_type": "stream",
     "text": [
      "Epoch: 39; Loss: 31813.528816223145; Test Loss: 63400.95610618591\n"
     ]
    },
    {
     "name": "stderr",
     "output_type": "stream",
     "text": [
      "100%|████████████████████████████████████████████████████████████████████████████████████████| 275/275 [00:23<00:00, 11.82it/s]\n"
     ]
    },
    {
     "name": "stdout",
     "output_type": "stream",
     "text": [
      "Epoch: 40; Loss: 31659.230533599854; Test Loss: 64084.54666137695\n"
     ]
    },
    {
     "name": "stderr",
     "output_type": "stream",
     "text": [
      "100%|████████████████████████████████████████████████████████████████████████████████████████| 275/275 [00:23<00:00, 11.52it/s]\n"
     ]
    },
    {
     "name": "stdout",
     "output_type": "stream",
     "text": [
      "Epoch: 41; Loss: 31789.322193145752; Test Loss: 63040.64032936096\n"
     ]
    },
    {
     "name": "stderr",
     "output_type": "stream",
     "text": [
      "100%|████████████████████████████████████████████████████████████████████████████████████████| 275/275 [00:24<00:00, 11.45it/s]\n"
     ]
    },
    {
     "name": "stdout",
     "output_type": "stream",
     "text": [
      "Epoch: 42; Loss: 31776.0304107666; Test Loss: 62634.44348335266\n"
     ]
    },
    {
     "name": "stderr",
     "output_type": "stream",
     "text": [
      "100%|████████████████████████████████████████████████████████████████████████████████████████| 275/275 [00:23<00:00, 11.80it/s]\n"
     ]
    },
    {
     "name": "stdout",
     "output_type": "stream",
     "text": [
      "Epoch: 43; Loss: 31546.23041152954; Test Loss: 60606.60872268677\n"
     ]
    },
    {
     "name": "stderr",
     "output_type": "stream",
     "text": [
      "100%|████████████████████████████████████████████████████████████████████████████████████████| 275/275 [00:23<00:00, 11.82it/s]\n"
     ]
    },
    {
     "name": "stdout",
     "output_type": "stream",
     "text": [
      "Epoch: 44; Loss: 31711.528747558594; Test Loss: 61192.1139755249\n"
     ]
    },
    {
     "name": "stderr",
     "output_type": "stream",
     "text": [
      "100%|████████████████████████████████████████████████████████████████████████████████████████| 275/275 [00:24<00:00, 11.15it/s]\n"
     ]
    },
    {
     "name": "stdout",
     "output_type": "stream",
     "text": [
      "Epoch: 45; Loss: 31438.24723815918; Test Loss: 62366.50410270691\n"
     ]
    },
    {
     "name": "stderr",
     "output_type": "stream",
     "text": [
      "100%|████████████████████████████████████████████████████████████████████████████████████████| 275/275 [00:23<00:00, 11.80it/s]\n"
     ]
    },
    {
     "name": "stdout",
     "output_type": "stream",
     "text": [
      "Epoch: 46; Loss: 31485.332569122314; Test Loss: 59283.84027290344\n"
     ]
    },
    {
     "name": "stderr",
     "output_type": "stream",
     "text": [
      "100%|████████████████████████████████████████████████████████████████████████████████████████| 275/275 [00:23<00:00, 11.79it/s]\n"
     ]
    },
    {
     "name": "stdout",
     "output_type": "stream",
     "text": [
      "Epoch: 47; Loss: 31516.596271514893; Test Loss: 60040.50053024292\n"
     ]
    },
    {
     "name": "stderr",
     "output_type": "stream",
     "text": [
      "100%|████████████████████████████████████████████████████████████████████████████████████████| 275/275 [00:23<00:00, 11.81it/s]\n"
     ]
    },
    {
     "name": "stdout",
     "output_type": "stream",
     "text": [
      "Epoch: 48; Loss: 31627.313526153564; Test Loss: 59621.68665885925\n"
     ]
    },
    {
     "name": "stderr",
     "output_type": "stream",
     "text": [
      "100%|████████████████████████████████████████████████████████████████████████████████████████| 275/275 [00:24<00:00, 11.20it/s]\n"
     ]
    },
    {
     "name": "stdout",
     "output_type": "stream",
     "text": [
      "Epoch: 49; Loss: 31377.757362365723; Test Loss: 59619.49256324768\n"
     ]
    },
    {
     "name": "stderr",
     "output_type": "stream",
     "text": [
      "100%|████████████████████████████████████████████████████████████████████████████████████████| 275/275 [00:23<00:00, 11.80it/s]\n"
     ]
    },
    {
     "name": "stdout",
     "output_type": "stream",
     "text": [
      "Epoch: 50; Loss: 31536.31558227539; Test Loss: 59540.72929382324\n"
     ]
    },
    {
     "name": "stderr",
     "output_type": "stream",
     "text": [
      "100%|████████████████████████████████████████████████████████████████████████████████████████| 275/275 [00:23<00:00, 11.80it/s]\n"
     ]
    },
    {
     "name": "stdout",
     "output_type": "stream",
     "text": [
      "Epoch: 51; Loss: 31206.057327270508; Test Loss: 61438.022062301636\n"
     ]
    },
    {
     "name": "stderr",
     "output_type": "stream",
     "text": [
      "100%|████████████████████████████████████████████████████████████████████████████████████████| 275/275 [00:23<00:00, 11.70it/s]\n"
     ]
    },
    {
     "name": "stdout",
     "output_type": "stream",
     "text": [
      "Epoch: 52; Loss: 31353.19784927368; Test Loss: 58263.9245929718\n"
     ]
    },
    {
     "name": "stderr",
     "output_type": "stream",
     "text": [
      "100%|████████████████████████████████████████████████████████████████████████████████████████| 275/275 [00:24<00:00, 11.28it/s]\n"
     ]
    },
    {
     "name": "stdout",
     "output_type": "stream",
     "text": [
      "Epoch: 53; Loss: 31330.62195968628; Test Loss: 58904.20904922485\n"
     ]
    },
    {
     "name": "stderr",
     "output_type": "stream",
     "text": [
      "100%|████████████████████████████████████████████████████████████████████████████████████████| 275/275 [00:23<00:00, 11.82it/s]\n"
     ]
    },
    {
     "name": "stdout",
     "output_type": "stream",
     "text": [
      "Epoch: 54; Loss: 31120.392684936523; Test Loss: 60504.27367019653\n"
     ]
    },
    {
     "name": "stderr",
     "output_type": "stream",
     "text": [
      "100%|████████████████████████████████████████████████████████████████████████████████████████| 275/275 [00:23<00:00, 11.79it/s]\n"
     ]
    },
    {
     "name": "stdout",
     "output_type": "stream",
     "text": [
      "Epoch: 55; Loss: 31487.384742736816; Test Loss: 71139.6710472107\n"
     ]
    },
    {
     "name": "stderr",
     "output_type": "stream",
     "text": [
      "100%|████████████████████████████████████████████████████████████████████████████████████████| 275/275 [00:23<00:00, 11.53it/s]\n"
     ]
    },
    {
     "name": "stdout",
     "output_type": "stream",
     "text": [
      "Epoch: 56; Loss: 31281.676010131836; Test Loss: 62416.58356285095\n"
     ]
    },
    {
     "name": "stderr",
     "output_type": "stream",
     "text": [
      "100%|████████████████████████████████████████████████████████████████████████████████████████| 275/275 [00:23<00:00, 11.54it/s]\n"
     ]
    },
    {
     "name": "stdout",
     "output_type": "stream",
     "text": [
      "Epoch: 57; Loss: 31330.523864746094; Test Loss: 65686.55772399902\n"
     ]
    },
    {
     "name": "stderr",
     "output_type": "stream",
     "text": [
      "100%|████████████████████████████████████████████████████████████████████████████████████████| 275/275 [00:23<00:00, 11.80it/s]\n"
     ]
    },
    {
     "name": "stdout",
     "output_type": "stream",
     "text": [
      "Epoch: 58; Loss: 31054.891708374023; Test Loss: 62164.995641708374\n"
     ]
    },
    {
     "name": "stderr",
     "output_type": "stream",
     "text": [
      "100%|████████████████████████████████████████████████████████████████████████████████████████| 275/275 [00:23<00:00, 11.83it/s]\n"
     ]
    },
    {
     "name": "stdout",
     "output_type": "stream",
     "text": [
      "Epoch: 59; Loss: 31307.556316375732; Test Loss: 64342.106439590454\n"
     ]
    },
    {
     "name": "stderr",
     "output_type": "stream",
     "text": [
      "100%|████████████████████████████████████████████████████████████████████████████████████████| 275/275 [00:24<00:00, 11.03it/s]\n"
     ]
    },
    {
     "name": "stdout",
     "output_type": "stream",
     "text": [
      "Epoch: 60; Loss: 31212.03783416748; Test Loss: 60124.2713470459\n"
     ]
    },
    {
     "name": "stderr",
     "output_type": "stream",
     "text": [
      "100%|████████████████████████████████████████████████████████████████████████████████████████| 275/275 [00:23<00:00, 11.71it/s]\n"
     ]
    },
    {
     "name": "stdout",
     "output_type": "stream",
     "text": [
      "Epoch: 61; Loss: 31233.347076416016; Test Loss: 59062.84935760498\n"
     ]
    },
    {
     "name": "stderr",
     "output_type": "stream",
     "text": [
      "100%|████████████████████████████████████████████████████████████████████████████████████████| 275/275 [00:23<00:00, 11.78it/s]\n"
     ]
    },
    {
     "name": "stdout",
     "output_type": "stream",
     "text": [
      "Epoch: 62; Loss: 31084.09398651123; Test Loss: 60232.30786895752\n"
     ]
    },
    {
     "name": "stderr",
     "output_type": "stream",
     "text": [
      "100%|████████████████████████████████████████████████████████████████████████████████████████| 275/275 [00:23<00:00, 11.78it/s]\n"
     ]
    },
    {
     "name": "stdout",
     "output_type": "stream",
     "text": [
      "Epoch: 63; Loss: 31249.912872314453; Test Loss: 60855.75570678711\n"
     ]
    },
    {
     "name": "stderr",
     "output_type": "stream",
     "text": [
      "100%|████████████████████████████████████████████████████████████████████████████████████████| 275/275 [00:25<00:00, 11.00it/s]\n"
     ]
    },
    {
     "name": "stdout",
     "output_type": "stream",
     "text": [
      "Epoch: 64; Loss: 31176.66524887085; Test Loss: 59502.97692871094\n"
     ]
    },
    {
     "name": "stderr",
     "output_type": "stream",
     "text": [
      "100%|████████████████████████████████████████████████████████████████████████████████████████| 275/275 [00:23<00:00, 11.71it/s]\n"
     ]
    },
    {
     "name": "stdout",
     "output_type": "stream",
     "text": [
      "Epoch: 65; Loss: 31194.1668510437; Test Loss: 61483.98736000061\n"
     ]
    },
    {
     "name": "stderr",
     "output_type": "stream",
     "text": [
      "100%|████████████████████████████████████████████████████████████████████████████████████████| 275/275 [00:23<00:00, 11.75it/s]\n"
     ]
    },
    {
     "name": "stdout",
     "output_type": "stream",
     "text": [
      "Epoch: 66; Loss: 31039.03722000122; Test Loss: 59375.24447631836\n"
     ]
    },
    {
     "name": "stderr",
     "output_type": "stream",
     "text": [
      "100%|████████████████████████████████████████████████████████████████████████████████████████| 275/275 [00:24<00:00, 11.46it/s]\n"
     ]
    },
    {
     "name": "stdout",
     "output_type": "stream",
     "text": [
      "Epoch: 67; Loss: 30878.195476531982; Test Loss: 58671.19668006897\n"
     ]
    },
    {
     "name": "stderr",
     "output_type": "stream",
     "text": [
      "100%|████████████████████████████████████████████████████████████████████████████████████████| 275/275 [00:24<00:00, 11.33it/s]\n"
     ]
    },
    {
     "name": "stdout",
     "output_type": "stream",
     "text": [
      "Epoch: 68; Loss: 31101.62539291382; Test Loss: 59497.98830413818\n"
     ]
    },
    {
     "name": "stderr",
     "output_type": "stream",
     "text": [
      "100%|████████████████████████████████████████████████████████████████████████████████████████| 275/275 [00:23<00:00, 11.76it/s]\n"
     ]
    },
    {
     "name": "stdout",
     "output_type": "stream",
     "text": [
      "Epoch: 69; Loss: 31255.86809539795; Test Loss: 57928.4369392395\n"
     ]
    },
    {
     "name": "stderr",
     "output_type": "stream",
     "text": [
      "100%|████████████████████████████████████████████████████████████████████████████████████████| 275/275 [00:23<00:00, 11.74it/s]\n"
     ]
    },
    {
     "name": "stdout",
     "output_type": "stream",
     "text": [
      "Epoch: 70; Loss: 30859.056114196777; Test Loss: 58360.06322669983\n"
     ]
    },
    {
     "name": "stderr",
     "output_type": "stream",
     "text": [
      "100%|████████████████████████████████████████████████████████████████████████████████████████| 275/275 [00:24<00:00, 11.25it/s]\n"
     ]
    },
    {
     "name": "stdout",
     "output_type": "stream",
     "text": [
      "Epoch: 71; Loss: 30945.903812408447; Test Loss: 59921.462911605835\n"
     ]
    },
    {
     "name": "stderr",
     "output_type": "stream",
     "text": [
      "100%|████████████████████████████████████████████████████████████████████████████████████████| 275/275 [00:23<00:00, 11.69it/s]\n"
     ]
    },
    {
     "name": "stdout",
     "output_type": "stream",
     "text": [
      "Epoch: 72; Loss: 31021.851440429688; Test Loss: 60211.430028915405\n"
     ]
    },
    {
     "name": "stderr",
     "output_type": "stream",
     "text": [
      "100%|████████████████████████████████████████████████████████████████████████████████████████| 275/275 [00:23<00:00, 11.73it/s]\n"
     ]
    },
    {
     "name": "stdout",
     "output_type": "stream",
     "text": [
      "Epoch: 73; Loss: 30954.92714691162; Test Loss: 60183.2161655426\n"
     ]
    },
    {
     "name": "stderr",
     "output_type": "stream",
     "text": [
      "100%|████████████████████████████████████████████████████████████████████████████████████████| 275/275 [00:23<00:00, 11.80it/s]\n"
     ]
    },
    {
     "name": "stdout",
     "output_type": "stream",
     "text": [
      "Epoch: 74; Loss: 31194.60179901123; Test Loss: 60798.046617507935\n"
     ]
    },
    {
     "name": "stderr",
     "output_type": "stream",
     "text": [
      "100%|████████████████████████████████████████████████████████████████████████████████████████| 275/275 [00:25<00:00, 10.83it/s]\n"
     ]
    },
    {
     "name": "stdout",
     "output_type": "stream",
     "text": [
      "Epoch: 75; Loss: 31070.525840759277; Test Loss: 59354.38853645325\n"
     ]
    },
    {
     "name": "stderr",
     "output_type": "stream",
     "text": [
      "100%|████████████████████████████████████████████████████████████████████████████████████████| 275/275 [00:23<00:00, 11.73it/s]\n"
     ]
    },
    {
     "name": "stdout",
     "output_type": "stream",
     "text": [
      "Epoch: 76; Loss: 31174.45948791504; Test Loss: 69144.55572891235\n"
     ]
    },
    {
     "name": "stderr",
     "output_type": "stream",
     "text": [
      "100%|████████████████████████████████████████████████████████████████████████████████████████| 275/275 [00:23<00:00, 11.70it/s]\n"
     ]
    },
    {
     "name": "stdout",
     "output_type": "stream",
     "text": [
      "Epoch: 77; Loss: 30934.80707168579; Test Loss: 59280.320837020874\n"
     ]
    },
    {
     "name": "stderr",
     "output_type": "stream",
     "text": [
      "100%|████████████████████████████████████████████████████████████████████████████████████████| 275/275 [00:23<00:00, 11.72it/s]\n"
     ]
    },
    {
     "name": "stdout",
     "output_type": "stream",
     "text": [
      "Epoch: 78; Loss: 30928.584762573242; Test Loss: 61938.89379310608\n"
     ]
    },
    {
     "name": "stderr",
     "output_type": "stream",
     "text": [
      "100%|████████████████████████████████████████████████████████████████████████████████████████| 275/275 [00:24<00:00, 11.07it/s]\n"
     ]
    },
    {
     "name": "stdout",
     "output_type": "stream",
     "text": [
      "Epoch: 79; Loss: 30884.75291824341; Test Loss: 59649.7091255188\n"
     ]
    },
    {
     "name": "stderr",
     "output_type": "stream",
     "text": [
      "100%|████████████████████████████████████████████████████████████████████████████████████████| 275/275 [00:23<00:00, 11.82it/s]\n"
     ]
    },
    {
     "name": "stdout",
     "output_type": "stream",
     "text": [
      "Epoch: 80; Loss: 31047.251041412354; Test Loss: 63060.00495529175\n"
     ]
    },
    {
     "name": "stderr",
     "output_type": "stream",
     "text": [
      "100%|████████████████████████████████████████████████████████████████████████████████████████| 275/275 [00:23<00:00, 11.75it/s]\n"
     ]
    },
    {
     "name": "stdout",
     "output_type": "stream",
     "text": [
      "Epoch: 81; Loss: 30755.207469940186; Test Loss: 59032.56268310547\n"
     ]
    },
    {
     "name": "stderr",
     "output_type": "stream",
     "text": [
      "100%|████████████████████████████████████████████████████████████████████████████████████████| 275/275 [00:23<00:00, 11.49it/s]\n"
     ]
    },
    {
     "name": "stdout",
     "output_type": "stream",
     "text": [
      "Epoch: 82; Loss: 30642.4167137146; Test Loss: 59811.915309906006\n"
     ]
    },
    {
     "name": "stderr",
     "output_type": "stream",
     "text": [
      "100%|████████████████████████████████████████████████████████████████████████████████████████| 275/275 [00:23<00:00, 11.53it/s]\n"
     ]
    },
    {
     "name": "stdout",
     "output_type": "stream",
     "text": [
      "Epoch: 83; Loss: 31015.34331893921; Test Loss: 59629.43381690979\n"
     ]
    },
    {
     "name": "stderr",
     "output_type": "stream",
     "text": [
      "100%|████████████████████████████████████████████████████████████████████████████████████████| 275/275 [00:23<00:00, 11.74it/s]\n"
     ]
    },
    {
     "name": "stdout",
     "output_type": "stream",
     "text": [
      "Epoch: 84; Loss: 30912.756088256836; Test Loss: 61631.67461967468\n"
     ]
    },
    {
     "name": "stderr",
     "output_type": "stream",
     "text": [
      "100%|████████████████████████████████████████████████████████████████████████████████████████| 275/275 [00:23<00:00, 11.71it/s]\n"
     ]
    },
    {
     "name": "stdout",
     "output_type": "stream",
     "text": [
      "Epoch: 85; Loss: 30863.185497283936; Test Loss: 61497.50419807434\n"
     ]
    },
    {
     "name": "stderr",
     "output_type": "stream",
     "text": [
      "100%|████████████████████████████████████████████████████████████████████████████████████████| 275/275 [00:24<00:00, 11.02it/s]\n"
     ]
    },
    {
     "name": "stdout",
     "output_type": "stream",
     "text": [
      "Epoch: 86; Loss: 31043.876613616943; Test Loss: 60640.17737197876\n"
     ]
    },
    {
     "name": "stderr",
     "output_type": "stream",
     "text": [
      "100%|████████████████████████████████████████████████████████████████████████████████████████| 275/275 [00:23<00:00, 11.75it/s]\n"
     ]
    },
    {
     "name": "stdout",
     "output_type": "stream",
     "text": [
      "Epoch: 87; Loss: 30665.318630218506; Test Loss: 59728.285568237305\n"
     ]
    },
    {
     "name": "stderr",
     "output_type": "stream",
     "text": [
      "100%|████████████████████████████████████████████████████████████████████████████████████████| 275/275 [00:23<00:00, 11.75it/s]\n"
     ]
    },
    {
     "name": "stdout",
     "output_type": "stream",
     "text": [
      "Epoch: 88; Loss: 31147.4487991333; Test Loss: 58179.90757369995\n"
     ]
    },
    {
     "name": "stderr",
     "output_type": "stream",
     "text": [
      "100%|████████████████████████████████████████████████████████████████████████████████████████| 275/275 [00:23<00:00, 11.76it/s]\n"
     ]
    },
    {
     "name": "stdout",
     "output_type": "stream",
     "text": [
      "Epoch: 89; Loss: 30914.44522857666; Test Loss: 60071.09903717041\n"
     ]
    },
    {
     "name": "stderr",
     "output_type": "stream",
     "text": [
      "100%|████████████████████████████████████████████████████████████████████████████████████████| 275/275 [00:25<00:00, 10.92it/s]\n"
     ]
    },
    {
     "name": "stdout",
     "output_type": "stream",
     "text": [
      "Epoch: 90; Loss: 30964.728981018066; Test Loss: 58520.20722961426\n"
     ]
    },
    {
     "name": "stderr",
     "output_type": "stream",
     "text": [
      "100%|████████████████████████████████████████████████████████████████████████████████████████| 275/275 [00:23<00:00, 11.73it/s]\n"
     ]
    },
    {
     "name": "stdout",
     "output_type": "stream",
     "text": [
      "Epoch: 91; Loss: 30785.10216140747; Test Loss: 58938.9517288208\n"
     ]
    },
    {
     "name": "stderr",
     "output_type": "stream",
     "text": [
      "100%|████████████████████████████████████████████████████████████████████████████████████████| 275/275 [00:23<00:00, 11.76it/s]\n"
     ]
    },
    {
     "name": "stdout",
     "output_type": "stream",
     "text": [
      "Epoch: 92; Loss: 31053.523887634277; Test Loss: 60718.51557159424\n"
     ]
    },
    {
     "name": "stderr",
     "output_type": "stream",
     "text": [
      "100%|████████████████████████████████████████████████████████████████████████████████████████| 275/275 [00:23<00:00, 11.54it/s]\n"
     ]
    },
    {
     "name": "stdout",
     "output_type": "stream",
     "text": [
      "Epoch: 93; Loss: 30698.90421295166; Test Loss: 66016.17458724976\n"
     ]
    },
    {
     "name": "stderr",
     "output_type": "stream",
     "text": [
      "100%|████████████████████████████████████████████████████████████████████████████████████████| 275/275 [00:24<00:00, 11.22it/s]\n"
     ]
    },
    {
     "name": "stdout",
     "output_type": "stream",
     "text": [
      "Epoch: 94; Loss: 30831.16035079956; Test Loss: 58507.77581214905\n"
     ]
    },
    {
     "name": "stderr",
     "output_type": "stream",
     "text": [
      "100%|████████████████████████████████████████████████████████████████████████████████████████| 275/275 [00:23<00:00, 11.76it/s]\n"
     ]
    },
    {
     "name": "stdout",
     "output_type": "stream",
     "text": [
      "Epoch: 95; Loss: 30737.15912628174; Test Loss: 65662.72535133362\n"
     ]
    },
    {
     "name": "stderr",
     "output_type": "stream",
     "text": [
      "100%|████████████████████████████████████████████████████████████████████████████████████████| 275/275 [00:23<00:00, 11.78it/s]\n"
     ]
    },
    {
     "name": "stdout",
     "output_type": "stream",
     "text": [
      "Epoch: 96; Loss: 31069.696098327637; Test Loss: 58491.41403198242\n"
     ]
    },
    {
     "name": "stderr",
     "output_type": "stream",
     "text": [
      "100%|████████████████████████████████████████████████████████████████████████████████████████| 275/275 [00:24<00:00, 11.22it/s]\n"
     ]
    },
    {
     "name": "stdout",
     "output_type": "stream",
     "text": [
      "Epoch: 97; Loss: 30868.474266052246; Test Loss: 63202.20079994202\n"
     ]
    },
    {
     "name": "stderr",
     "output_type": "stream",
     "text": [
      "100%|████████████████████████████████████████████████████████████████████████████████████████| 275/275 [00:23<00:00, 11.54it/s]\n"
     ]
    },
    {
     "name": "stdout",
     "output_type": "stream",
     "text": [
      "Epoch: 98; Loss: 30767.019939422607; Test Loss: 59759.9649105072\n"
     ]
    },
    {
     "name": "stderr",
     "output_type": "stream",
     "text": [
      "100%|████████████████████████████████████████████████████████████████████████████████████████| 275/275 [00:23<00:00, 11.74it/s]\n"
     ]
    },
    {
     "name": "stdout",
     "output_type": "stream",
     "text": [
      "Epoch: 99; Loss: 31040.607460021973; Test Loss: 58119.37052536011\n"
     ]
    }
   ],
   "source": [
    "train_losses = []\n",
    "test_losses = []\n",
    "for epoch in range(100):\n",
    "    total_loss = 0\n",
    "    for batch_idx, data in tqdm(enumerate(train_dl), total=len(train_dl)):\n",
    "        optimizer.zero_grad()\n",
    "        \n",
    "        loss = mae(data.to(device))\n",
    "        \n",
    "        loss.backward()\n",
    "        optimizer.step()\n",
    "        total_loss += loss.item()\n",
    "        \n",
    "    with torch.no_grad():\n",
    "        test_loss = get_total_loss(model, test_dl)\n",
    "        train_losses.append(total_loss)\n",
    "        test_losses.append(test_loss)\n",
    "        print(f\"Epoch: {epoch}; Loss: {total_loss}; Test Loss: {test_loss}\")\n",
    "    if test_loss == min(test_losses):\n",
    "        torch.save(v.state_dict(), f\"./trained-vit-{epoch}.pt\")\n",
    "\n",
    "_ = mae.eval()"
   ]
  },
  {
   "cell_type": "code",
   "execution_count": 269,
   "id": "e9194fd9",
   "metadata": {},
   "outputs": [],
   "source": [
    "# torch.save(v.state_dict(), f\"./lastnotbest-trained-vit-{epoch}.pt\")\n",
    "torch.save(mae.state_dict(), f\"./maeklastnotbest-trained-vit-{epoch}.pt\")"
   ]
  },
  {
   "cell_type": "code",
   "execution_count": 257,
   "id": "e32cd7a0",
   "metadata": {},
   "outputs": [
    {
     "data": {
      "text/plain": [
       "6.666666666666667"
      ]
     },
     "execution_count": 257,
     "metadata": {},
     "output_type": "execute_result"
    }
   ],
   "source": [
    "30 * 800 / 60 / 60"
   ]
  },
  {
   "cell_type": "code",
   "execution_count": 272,
   "id": "992c28c7",
   "metadata": {},
   "outputs": [
    {
     "data": {
      "image/png": "[encoded data removed]",
      "text/plain": [
       "<Figure size 1152x720 with 1 Axes>"
      ]
     },
     "metadata": {
      "needs_background": "light"
     },
     "output_type": "display_data"
    }
   ],
   "source": [
    "plt.figure(figsize=(16, 10))\n",
    "ranger = list(range(len(train_losses)))\n",
    "sns.lineplot(x=ranger, y=train_losses, label=\"total train loss\", alpha=0.5)\n",
    "# sns.lineplot(x=ranger, y=adjusted_train_losses, label=\"adjusted train loss\")\n",
    "# ax2 = plt.twinx()\n",
    "# sns.lineplot(x=ranger, y=test_losses, label=\"test loss\", ax=ax2, color=\"orange\", alpha=0.5)\n",
    "sns.lineplot(x=ranger, y=test_losses, label=\"test loss\", color=\"orange\", alpha=0.5)\n",
    "plt.title(\"MAE v1: Train/Test Loss on Pretraining Task\")\n",
    "plt.savefig(\"mae_v1.png\")"
   ]
  },
  {
   "cell_type": "code",
   "execution_count": null,
   "id": "5363ba3f",
   "metadata": {},
   "outputs": [],
   "source": []
  },
  {
   "cell_type": "code",
   "execution_count": null,
   "id": "8d2edb53",
   "metadata": {},
   "outputs": [],
   "source": []
  },
  {
   "cell_type": "code",
   "execution_count": null,
   "id": "f680c7b4",
   "metadata": {},
   "outputs": [],
   "source": []
  },
  {
   "cell_type": "markdown",
   "id": "c8821646",
   "metadata": {},
   "source": [
    "# Finetuning MAE for Task"
   ]
  },
  {
   "cell_type": "code",
   "execution_count": 439,
   "id": "0f955b1c",
   "metadata": {},
   "outputs": [],
   "source": [
    "class FinetuningMusicDataset(torch.utils.data.Dataset):   \n",
    "    def __init__(self, np_file_paths, labels, transforms, seq_len=10000, random_start=True):\n",
    "        self.seq_len = seq_len\n",
    "        self.files = np_file_paths\n",
    "        self.labels = labels\n",
    "        self.transforms = transforms\n",
    "        self.random_start = random_start\n",
    "    def __len__(self):\n",
    "        return len(self.files)\n",
    "\n",
    "    def __getitem__(self, index):\n",
    "        x = np.load(self.files[index])\n",
    "        x = torch.from_numpy(x).float()\n",
    "        if self.random_start and x.shape[-1] > self.seq_len:\n",
    "            # longer than 3000, select random subset\n",
    "            start = random.randint(0, x.shape[-1] - self.seq_len)\n",
    "            x = x[:,start:start+self.seq_len]\n",
    "        else:\n",
    "            x = x[:,:self.seq_len]\n",
    "        x = x.unsqueeze(0)\n",
    "        x = self.transforms(x)\n",
    "        item = {\"input\": x, \"label_ids\":[index], \"labels\": torch.tensor(self.labels[index])}\n",
    "        \n",
    "        return item"
   ]
  },
  {
   "cell_type": "code",
   "execution_count": 440,
   "id": "1a4f2fd7",
   "metadata": {},
   "outputs": [],
   "source": [
    "class AddGaussianNoise(object):\n",
    "    def __init__(self, mean=0., std=1.):\n",
    "        self.std = std\n",
    "        self.mean = mean\n",
    "        \n",
    "    def __call__(self, tensor):\n",
    "        return tensor + torch.randn(tensor.size()) * self.std + self.mean\n",
    "    \n",
    "    def __repr__(self):\n",
    "        return self.__class__.__name__ + '(mean={0}, std={1})'.format(self.mean, self.std)"
   ]
  },
  {
   "cell_type": "code",
   "execution_count": 441,
   "id": "3bc99c8c",
   "metadata": {},
   "outputs": [],
   "source": [
    "composed = transforms.Compose([\n",
    "   transforms.Resize((224, 224)),\n",
    "    AddGaussianNoise(0., 1.)\n",
    "])"
   ]
  },
  {
   "cell_type": "code",
   "execution_count": 442,
   "id": "a50a3bd9",
   "metadata": {},
   "outputs": [
    {
     "data": {
      "text/plain": [
       "torch.Size([1, 224, 224])"
      ]
     },
     "execution_count": 442,
     "metadata": {},
     "output_type": "execute_result"
    }
   ],
   "source": [
    "composed(inp).shape"
   ]
  },
  {
   "cell_type": "code",
   "execution_count": 443,
   "id": "29b4a639",
   "metadata": {},
   "outputs": [
    {
     "data": {
      "text/plain": [
       "torch.Size([1, 224, 224])"
      ]
     },
     "execution_count": 443,
     "metadata": {},
     "output_type": "execute_result"
    }
   ],
   "source": [
    "res.shape"
   ]
  },
  {
   "cell_type": "code",
   "execution_count": 444,
   "id": "f3b05cf0",
   "metadata": {},
   "outputs": [],
   "source": [
    "ft_train_dataset = FinetuningMusicDataset(train_np_files, train_labels, composed, seq_len=SEQ_LEN, random_start=True)\n",
    "ft_test_dataset = FinetuningMusicDataset(test_np_files, test_labels, composed, seq_len=SEQ_LEN, random_start=False)"
   ]
  },
  {
   "cell_type": "code",
   "execution_count": 445,
   "id": "bd8dcfd8",
   "metadata": {},
   "outputs": [],
   "source": [
    "ft_train_dl = DataLoader(\n",
    "    ft_train_dataset,\n",
    "    batch_size=batch_size,\n",
    "    shuffle=True,\n",
    "    num_workers=0,\n",
    "    collate_fn=None,\n",
    "    pin_memory=False,\n",
    " )\n",
    "\n",
    "ft_test_dl = DataLoader(\n",
    "    ft_test_dataset,\n",
    "    batch_size=1,\n",
    "    shuffle=False,\n",
    "    num_workers=0,\n",
    "    collate_fn=None,\n",
    "    pin_memory=False,\n",
    " )"
   ]
  },
  {
   "cell_type": "code",
   "execution_count": 470,
   "id": "647174de",
   "metadata": {},
   "outputs": [],
   "source": [
    "from transformers import ViTConfig, ViTModel\n",
    "from vit_pytorch import ViT, MAE"
   ]
  },
  {
   "cell_type": "code",
   "execution_count": 471,
   "id": "be5de8d7",
   "metadata": {},
   "outputs": [],
   "source": [
    "v_for_downstream = ViT(\n",
    "    image_size = 224,\n",
    "#     patch_size = 32,\n",
    "    patch_size = 16,\n",
    "    num_classes = 15,\n",
    "#     dim = 1024,\n",
    "    dim = 512,\n",
    "    depth = 6,\n",
    "    heads = 8,\n",
    "#     mlp_dim = 2048,\n",
    "    mlp_dim = 512,\n",
    "    channels=1\n",
    ")"
   ]
  },
  {
   "cell_type": "code",
   "execution_count": 472,
   "id": "be5186a4",
   "metadata": {},
   "outputs": [
    {
     "data": {
      "text/plain": [
       "<All keys matched successfully>"
      ]
     },
     "execution_count": 472,
     "metadata": {},
     "output_type": "execute_result"
    }
   ],
   "source": [
    "v_for_downstream.load_state_dict(torch.load(f\"./trained-vit-69.pt\"))"
   ]
  },
  {
   "cell_type": "code",
   "execution_count": 473,
   "id": "66cfc4c3",
   "metadata": {},
   "outputs": [
    {
     "data": {
      "text/plain": [
       "Sequential(\n",
       "  (0): LayerNorm((512,), eps=1e-05, elementwise_affine=True)\n",
       "  (1): Linear(in_features=512, out_features=15, bias=True)\n",
       ")"
      ]
     },
     "execution_count": 473,
     "metadata": {},
     "output_type": "execute_result"
    }
   ],
   "source": [
    "v_for_downstream.mlp_head"
   ]
  },
  {
   "cell_type": "code",
   "execution_count": 476,
   "id": "041c550e",
   "metadata": {},
   "outputs": [],
   "source": [
    "def freeze_all_layers_(module):\n",
    "    set_module_requires_grad_(module, False)"
   ]
  },
  {
   "cell_type": "code",
   "execution_count": 477,
   "id": "1eb46a6d",
   "metadata": {},
   "outputs": [],
   "source": [
    "freeze_all_layers_(v_for_downstream)"
   ]
  },
  {
   "cell_type": "code",
   "execution_count": 478,
   "id": "e0140cb3",
   "metadata": {},
   "outputs": [],
   "source": [
    "new_head = nn.Sequential(\n",
    "    nn.LayerNorm(512),\n",
    "    nn.Linear(512, 512),\n",
    "    nn.Linear(512, 15),\n",
    "#     nn.Sigmoid()\n",
    ")"
   ]
  },
  {
   "cell_type": "code",
   "execution_count": 479,
   "id": "d90a0375",
   "metadata": {},
   "outputs": [],
   "source": [
    "v_for_downstream.mlp_head = new_head"
   ]
  },
  {
   "cell_type": "code",
   "execution_count": 480,
   "id": "b6d0fff4",
   "metadata": {},
   "outputs": [],
   "source": [
    "# model = nn.Sequential(\n",
    "#     v_for_downstream,\n",
    "#     nn.Sigmoid()\n",
    "# )"
   ]
  },
  {
   "cell_type": "code",
   "execution_count": 481,
   "id": "0e37fee1",
   "metadata": {},
   "outputs": [
    {
     "data": {
      "text/plain": [
       "tensor([[ 0.1323,  0.4026,  0.5004,  0.1784,  0.2461,  0.3171,  0.0979, -0.0043,\n",
       "         -0.0513, -0.0998, -0.1268, -0.1027,  0.1976,  0.0807, -0.2799]],\n",
       "       device='cuda:0', grad_fn=<AddmmBackward0>)"
      ]
     },
     "execution_count": 481,
     "metadata": {},
     "output_type": "execute_result"
    }
   ],
   "source": [
    "v_for_downstream.to(device)(go)"
   ]
  },
  {
   "cell_type": "code",
   "execution_count": 482,
   "id": "6d3217ae",
   "metadata": {},
   "outputs": [],
   "source": [
    "model = v_for_downstream.to(device)"
   ]
  },
  {
   "cell_type": "code",
   "execution_count": 483,
   "id": "f50d6015",
   "metadata": {},
   "outputs": [],
   "source": [
    "from tqdm import tqdm\n",
    "import torch.optim as optim"
   ]
  },
  {
   "cell_type": "code",
   "execution_count": null,
   "id": "fc42c054",
   "metadata": {},
   "outputs": [],
   "source": []
  },
  {
   "cell_type": "code",
   "execution_count": 338,
   "id": "8f133589",
   "metadata": {},
   "outputs": [],
   "source": [
    "pos_weight = torch.ones([15]) * (14/1)"
   ]
  },
  {
   "cell_type": "code",
   "execution_count": 340,
   "id": "35ae6b88",
   "metadata": {},
   "outputs": [
    {
     "data": {
      "text/plain": [
       "<generator object Module.parameters at 0x0000013A7AB32740>"
      ]
     },
     "execution_count": 340,
     "metadata": {},
     "output_type": "execute_result"
    }
   ],
   "source": [
    "model.parameters()"
   ]
  },
  {
   "cell_type": "code",
   "execution_count": 341,
   "id": "a0f85dac",
   "metadata": {},
   "outputs": [
    {
     "data": {
      "text/plain": [
       "<generator object Module.parameters at 0x0000013A7AB32B30>"
      ]
     },
     "execution_count": 341,
     "metadata": {},
     "output_type": "execute_result"
    }
   ],
   "source": [
    "model.mlp_head.parameters()"
   ]
  },
  {
   "cell_type": "code",
   "execution_count": 342,
   "id": "29a7e045",
   "metadata": {},
   "outputs": [],
   "source": [
    "# optimizer = optim.AdamW(model.parameters(), lr=1e-3)\n",
    "# optimizer = optim.AdamW(model.parameters(), lr=1e-4)\n",
    "optimizer = optim.AdamW(model.mlp_head.parameters(), lr=1e-3)\n",
    "# criterion = nn.BCELoss()\n",
    "criterion = nn.BCEWithLogitsLoss(pos_weight = pos_weight.to(device))"
   ]
  },
  {
   "cell_type": "code",
   "execution_count": 343,
   "id": "fbdaaf88",
   "metadata": {},
   "outputs": [],
   "source": [
    "def get_mask(targs):\n",
    "    mask = []\n",
    "    for val in targs:\n",
    "        m = int(val) == 1 or random.random() < (1/15)\n",
    "        mask.append(m)\n",
    "    return mask"
   ]
  },
  {
   "cell_type": "code",
   "execution_count": 344,
   "id": "14040d25",
   "metadata": {},
   "outputs": [],
   "source": [
    "def get_total_loss(model, dataloader):\n",
    "    total_loss = 0\n",
    "    for batch_idx, data in enumerate(dataloader):\n",
    "        inputs, labels = data['input'].to(device), data['labels'].to(device)\n",
    "\n",
    "        outputs = model(inputs)\n",
    "        total_loss += criterion(outputs, labels.float())\n",
    "#         for i in range(15):\n",
    "#             cur_loss = criterion(outputs[:,i], labels[:,i].float())\n",
    "#             total_loss += cur_loss\n",
    "    return total_loss.item()"
   ]
  },
  {
   "cell_type": "code",
   "execution_count": 345,
   "id": "a301de6d",
   "metadata": {},
   "outputs": [
    {
     "name": "stderr",
     "output_type": "stream",
     "text": [
      "100%|████████████████████████████████████████████████████████████████████████████████████████| 138/138 [00:18<00:00,  7.40it/s]\n"
     ]
    },
    {
     "name": "stdout",
     "output_type": "stream",
     "text": [
      "Epoch: 0; Loss: 193.64051289964294; Total Loss: 183.9403839111328; Test Loss: 735.5714111328125\n"
     ]
    },
    {
     "name": "stderr",
     "output_type": "stream",
     "text": [
      "100%|████████████████████████████████████████████████████████████████████████████████████████| 138/138 [00:18<00:00,  7.40it/s]\n"
     ]
    },
    {
     "name": "stdout",
     "output_type": "stream",
     "text": [
      "Epoch: 1; Loss: 184.96196274337888; Total Loss: 183.86923217773438; Test Loss: 743.2202758789062\n"
     ]
    },
    {
     "name": "stderr",
     "output_type": "stream",
     "text": [
      "100%|████████████████████████████████████████████████████████████████████████████████████████| 138/138 [00:18<00:00,  7.47it/s]\n"
     ]
    },
    {
     "name": "stdout",
     "output_type": "stream",
     "text": [
      "Epoch: 2; Loss: 184.63577871976426; Total Loss: 181.49673461914062; Test Loss: 730.5820922851562\n"
     ]
    },
    {
     "name": "stderr",
     "output_type": "stream",
     "text": [
      "100%|████████████████████████████████████████████████████████████████████████████████████████| 138/138 [00:18<00:00,  7.63it/s]\n"
     ]
    },
    {
     "name": "stdout",
     "output_type": "stream",
     "text": [
      "Epoch: 3; Loss: 182.39256543158655; Total Loss: 180.75967407226562; Test Loss: 734.1642456054688\n"
     ]
    },
    {
     "name": "stderr",
     "output_type": "stream",
     "text": [
      " 20%|█████████████████▍                                                                       | 27/138 [00:02<00:10, 11.06it/s]\n"
     ]
    },
    {
     "ename": "KeyboardInterrupt",
     "evalue": "",
     "output_type": "error",
     "traceback": [
      "\u001b[1;31m---------------------------------------------------------------------------\u001b[0m",
      "\u001b[1;31mKeyboardInterrupt\u001b[0m                         Traceback (most recent call last)",
      "Input \u001b[1;32mIn [345]\u001b[0m, in \u001b[0;36m<cell line: 5>\u001b[1;34m()\u001b[0m\n\u001b[0;32m     26\u001b[0m         optimizer\u001b[38;5;241m.\u001b[39mstep()\n\u001b[0;32m     27\u001b[0m         \u001b[38;5;66;03m# for bookkeeping\u001b[39;00m\n\u001b[1;32m---> 28\u001b[0m         total_loss \u001b[38;5;241m+\u001b[39m\u001b[38;5;241m=\u001b[39m \u001b[43mloss\u001b[49m\u001b[38;5;241;43m.\u001b[39;49m\u001b[43mitem\u001b[49m\u001b[43m(\u001b[49m\u001b[43m)\u001b[49m\n\u001b[0;32m     29\u001b[0m \u001b[38;5;66;03m#     total_loss.backward()\u001b[39;00m\n\u001b[0;32m     30\u001b[0m         \n\u001b[0;32m     31\u001b[0m \u001b[38;5;66;03m#     total_loss += loss.item()\u001b[39;00m\n\u001b[0;32m     32\u001b[0m \u001b[38;5;66;03m#         break\u001b[39;00m\n\u001b[0;32m     33\u001b[0m     \u001b[38;5;28;01mwith\u001b[39;00m torch\u001b[38;5;241m.\u001b[39mno_grad():\n",
      "\u001b[1;31mKeyboardInterrupt\u001b[0m: "
     ]
    }
   ],
   "source": [
    "model.train()\n",
    "ft_train_losses = []\n",
    "ft_adjusted_train_losses = []\n",
    "ft_test_losses = []\n",
    "for epoch in range(30):\n",
    "# for epoch in range(5):\n",
    "    total_loss = 0\n",
    "#     for batch in train_loader:\n",
    "    for batch_idx, data in tqdm(enumerate(ft_train_dl), total=len(ft_train_dl)):\n",
    "        these_losses = []\n",
    "        optimizer.zero_grad()\n",
    "        inputs, labels = data['input'].to(device), data['labels'].to(device)\n",
    "        outputs = model(inputs)\n",
    "        \n",
    "#         for i in range(15):\n",
    "#             preds = outputs[:,i]\n",
    "#             targs = labels[:,i].float()\n",
    "#             mask = get_mask(targs)\n",
    "#             if sum(mask) == 0:\n",
    "#                 continue\n",
    "#             cur_loss = criterion(preds[mask], targs[mask])\n",
    "#             these_losses.append(cur_loss)\n",
    "        loss = criterion(outputs, labels)\n",
    "#         loss = sum(these_losses)\n",
    "        loss.backward()\n",
    "        optimizer.step()\n",
    "        # for bookkeeping\n",
    "        total_loss += loss.item()\n",
    "#     total_loss.backward()\n",
    "        \n",
    "#     total_loss += loss.item()\n",
    "#         break\n",
    "    with torch.no_grad():\n",
    "        train_total_loss = get_total_loss(model, ft_train_dl)\n",
    "        test_loss = get_total_loss(model, ft_test_dl)\n",
    "        adjusted = total_loss\n",
    "        ft_train_losses.append(train_total_loss)\n",
    "        ft_adjusted_train_losses.append(adjusted)\n",
    "        ft_test_losses.append(test_loss)\n",
    "        print(f\"Epoch: {epoch}; Loss: {adjusted}; Total Loss: {train_total_loss}; Test Loss: {test_loss}\")\n",
    "#         print(f\"Epoch: {epoch}; Loss: {adjusted}; Test Loss: {test_loss}\")\n",
    "\n",
    "_ = model.eval()"
   ]
  },
  {
   "cell_type": "code",
   "execution_count": null,
   "id": "1f5efff6",
   "metadata": {},
   "outputs": [],
   "source": []
  },
  {
   "cell_type": "code",
   "execution_count": 346,
   "id": "f2e59c8b",
   "metadata": {},
   "outputs": [
    {
     "data": {
      "text/plain": [
       "Text(0.5, 1.0, 'MAE v1: Finetuning Train/Test Loss')"
      ]
     },
     "execution_count": 346,
     "metadata": {},
     "output_type": "execute_result"
    },
    {
     "data": {
      "image/png": "[encoded data removed]",
      "text/plain": [
       "<Figure size 1152x720 with 2 Axes>"
      ]
     },
     "metadata": {
      "needs_background": "light"
     },
     "output_type": "display_data"
    }
   ],
   "source": [
    "plt.figure(figsize=(16, 10))\n",
    "ranger = list(range(len(ft_train_losses)))\n",
    "sns.lineplot(x=ranger, y=ft_train_losses, label=\"total train loss\", alpha=0.5)\n",
    "# sns.lineplot(x=ranger, y=adjusted_train_losses, label=\"adjusted train loss\")\n",
    "ax2 = plt.twinx()\n",
    "sns.lineplot(x=ranger, y=ft_test_losses, label=\"test loss\", ax=ax2, color=\"orange\", alpha=0.5)\n",
    "# sns.lineplot(x=ranger, y=ft_test_losses, label=\"test loss\", color=\"orange\", alpha=0.5)\n",
    "plt.title(\"MAE v1: Finetuning Train/Test Loss\")\n",
    "# plt.savefig(\"mae_v1.png\")"
   ]
  },
  {
   "cell_type": "code",
   "execution_count": null,
   "id": "77e8e9a8",
   "metadata": {},
   "outputs": [],
   "source": []
  },
  {
   "cell_type": "code",
   "execution_count": 347,
   "id": "67caacbf",
   "metadata": {},
   "outputs": [],
   "source": [
    "outlabels = torch.zeros_like(outputs)\n",
    "outlabels[outputs >= 0.5] = 1\n",
    "outlabels[outputs < 0.5] = 0"
   ]
  },
  {
   "cell_type": "code",
   "execution_count": 348,
   "id": "5033d632",
   "metadata": {},
   "outputs": [],
   "source": [
    "outlabels[outputs >= 0.5] = 1\n",
    "outlabels[outputs < 0.5] = 0"
   ]
  },
  {
   "cell_type": "code",
   "execution_count": 349,
   "id": "442e2138",
   "metadata": {},
   "outputs": [
    {
     "data": {
      "text/plain": [
       "tensor([0., 0., 0., 0., 0., 0., 0., 0., 0., 0., 0., 0., 1., 1., 0., 0., 0., 0.,\n",
       "        0., 0., 0., 0., 0., 0., 0., 0., 1., 0., 0., 0., 0., 0., 0., 0., 1., 1.,\n",
       "        0., 0., 0., 0., 1., 1., 0., 0., 0., 0., 0., 0., 0., 0., 0., 0., 0., 0.,\n",
       "        1., 0., 0., 0., 0., 0., 0., 0., 0., 0., 0., 0., 0., 1., 1., 1., 0., 0.,\n",
       "        0., 0., 0., 0., 0., 0., 0., 0., 0., 0., 1., 0., 0., 0., 0., 0., 0., 0.,\n",
       "        0., 0., 0., 0., 1., 1., 1., 0., 0., 0., 0., 0., 0., 0., 0., 0., 0., 0.,\n",
       "        1., 1., 0., 0., 0., 0., 0., 0., 0., 0., 0., 0., 0., 0., 0., 0., 0., 0.,\n",
       "        0., 0., 0., 0., 0., 0., 0., 0., 0., 0., 1., 1., 1., 0., 0., 0., 0., 0.,\n",
       "        0., 0., 0., 0., 0., 0., 1., 0., 0., 0., 0., 0., 0., 0., 0., 0., 0., 0.,\n",
       "        0., 0., 1., 0., 0., 0., 0., 0., 0., 0., 0., 0., 0., 0., 0., 0., 1., 1.,\n",
       "        0., 0., 0., 0., 0., 0., 0., 0., 0., 0., 0., 1., 1., 1., 0., 0., 0., 0.,\n",
       "        0., 0., 0., 1., 0., 0., 1., 1., 1., 1., 0., 0., 0., 0., 0., 0., 0., 0.,\n",
       "        0., 0., 0., 1., 1., 1.], device='cuda:0')"
      ]
     },
     "execution_count": 349,
     "metadata": {},
     "output_type": "execute_result"
    }
   ],
   "source": [
    "outlabels[labels == 0]"
   ]
  },
  {
   "cell_type": "code",
   "execution_count": 350,
   "id": "a15805de",
   "metadata": {},
   "outputs": [
    {
     "data": {
      "text/plain": [
       "tensor(4, device='cuda:0')"
      ]
     },
     "execution_count": 350,
     "metadata": {},
     "output_type": "execute_result"
    }
   ],
   "source": [
    "torch.sum(labels[labels == 1] == outlabels[labels == 1])"
   ]
  },
  {
   "cell_type": "code",
   "execution_count": 351,
   "id": "7469497f",
   "metadata": {},
   "outputs": [
    {
     "data": {
      "text/plain": [
       "191"
      ]
     },
     "execution_count": 351,
     "metadata": {},
     "output_type": "execute_result"
    }
   ],
   "source": [
    "torch.sum(outlabels == labels).item()"
   ]
  },
  {
   "cell_type": "code",
   "execution_count": 352,
   "id": "9e1a5789",
   "metadata": {},
   "outputs": [
    {
     "data": {
      "text/plain": [
       "16"
      ]
     },
     "execution_count": 352,
     "metadata": {},
     "output_type": "execute_result"
    }
   ],
   "source": [
    "len(labels)"
   ]
  },
  {
   "cell_type": "code",
   "execution_count": 353,
   "id": "158ac3e7",
   "metadata": {},
   "outputs": [
    {
     "data": {
      "text/plain": [
       "222"
      ]
     },
     "execution_count": 353,
     "metadata": {},
     "output_type": "execute_result"
    }
   ],
   "source": [
    "torch.sum(labels == 0).item()"
   ]
  },
  {
   "cell_type": "code",
   "execution_count": 354,
   "id": "64b6ea01",
   "metadata": {},
   "outputs": [
    {
     "data": {
      "text/plain": [
       "tensor([[-0.8299, -0.2612, -0.2822, -0.3571, -0.3948, -0.0981, -0.5346,  0.4613,\n",
       "          0.4093, -0.0538,  0.3403,  0.3392,  0.4884,  0.6145,  0.5564],\n",
       "        [-0.7982, -0.2667, -0.1813, -0.2258, -0.3268, -0.0038, -0.5952,  0.4399,\n",
       "          0.4783,  0.0319,  0.2845,  0.3417,  0.4716,  0.6028,  0.4156],\n",
       "        [-0.9988, -0.2365, -0.3270, -0.4576, -0.5811, -0.0347, -0.6686,  0.5655,\n",
       "          0.5392, -0.1087,  0.3228,  0.4451,  0.4694,  0.6260,  0.7232],\n",
       "        [-0.6630, -0.2703, -0.1805, -0.1333, -0.2849, -0.0863, -0.5208,  0.4534,\n",
       "          0.3722, -0.0057,  0.3443,  0.2164,  0.4787,  0.5870,  0.3873],\n",
       "        [-0.6273, -0.3323, -0.2319, -0.1485, -0.3330, -0.2155, -0.4367,  0.4873,\n",
       "          0.2954, -0.1014,  0.4146,  0.1876,  0.5325,  0.6257,  0.5198],\n",
       "        [-0.8723, -0.2532, -0.2395, -0.3088, -0.4125, -0.0170, -0.5872,  0.4872,\n",
       "          0.4680,  0.0042,  0.3006,  0.3491,  0.4554,  0.6207,  0.5204],\n",
       "        [-0.7530, -0.2917, -0.3180, -0.3798, -0.3719, -0.2195, -0.4368,  0.4379,\n",
       "          0.3125, -0.1114,  0.4026,  0.3114,  0.5344,  0.6216,  0.6093],\n",
       "        [-0.4740, -0.3291, -0.2477, -0.1585, -0.2222, -0.3317, -0.2982,  0.3902,\n",
       "          0.1623, -0.1513,  0.4826,  0.1627,  0.5892,  0.5740,  0.4927],\n",
       "        [-0.5496, -0.2064, -0.0743,  0.0513, -0.2142,  0.0183, -0.5452,  0.4622,\n",
       "          0.3504,  0.0469,  0.2818,  0.0747,  0.3860,  0.5236,  0.1974],\n",
       "        [-0.6273, -0.3144, -0.2508, -0.1769, -0.2897, -0.2299, -0.4503,  0.4450,\n",
       "          0.3341, -0.1187,  0.4121,  0.2477,  0.5632,  0.5670,  0.5144],\n",
       "        [-0.6339, -0.2995, -0.2563, -0.2024, -0.2776, -0.2352, -0.4675,  0.4302,\n",
       "          0.3139, -0.0981,  0.3955,  0.2188,  0.5279,  0.5818,  0.4691],\n",
       "        [-0.7251, -0.2675, -0.2062, -0.2123, -0.3071, -0.0707, -0.5195,  0.4328,\n",
       "          0.3655,  0.0159,  0.3404,  0.2513,  0.4751,  0.6100,  0.4098],\n",
       "        [-0.6012, -0.3342, -0.2541, -0.1636, -0.3169, -0.2638, -0.4010,  0.4708,\n",
       "          0.2854, -0.1485,  0.4474,  0.2184,  0.5748,  0.5962,  0.5657],\n",
       "        [-0.6556, -0.3390, -0.2308, -0.1797, -0.3285, -0.1931, -0.4374,  0.4530,\n",
       "          0.3187, -0.0879,  0.4167,  0.2594,  0.5649,  0.6140,  0.5331],\n",
       "        [-0.9448, -0.3154, -0.3089, -0.4405, -0.4367, -0.0836, -0.5487,  0.4358,\n",
       "          0.5132, -0.0568,  0.3314,  0.5278,  0.5652,  0.6230,  0.6657],\n",
       "        [-0.6740, -0.3877, -0.3227, -0.3616, -0.3055, -0.3385, -0.3437,  0.3636,\n",
       "          0.3017, -0.1680,  0.4584,  0.4084,  0.6625,  0.6098,  0.6655],\n",
       "        [-0.8299, -0.2612, -0.2822, -0.3571, -0.3948, -0.0981, -0.5346,  0.4613,\n",
       "          0.4093, -0.0538,  0.3403,  0.3392,  0.4884,  0.6145,  0.5564],\n",
       "        [-0.7982, -0.2667, -0.1813, -0.2258, -0.3268, -0.0038, -0.5952,  0.4399,\n",
       "          0.4783,  0.0319,  0.2845,  0.3417,  0.4716,  0.6028,  0.4156],\n",
       "        [-0.9988, -0.2365, -0.3270, -0.4576, -0.5811, -0.0347, -0.6686,  0.5655,\n",
       "          0.5392, -0.1087,  0.3228,  0.4451,  0.4694,  0.6260,  0.7232],\n",
       "        [-0.6630, -0.2703, -0.1805, -0.1333, -0.2849, -0.0863, -0.5208,  0.4534,\n",
       "          0.3722, -0.0057,  0.3443,  0.2164,  0.4787,  0.5870,  0.3873],\n",
       "        [-0.6273, -0.3323, -0.2319, -0.1485, -0.3330, -0.2155, -0.4367,  0.4873,\n",
       "          0.2954, -0.1014,  0.4146,  0.1876,  0.5325,  0.6257,  0.5198],\n",
       "        [-0.8723, -0.2532, -0.2395, -0.3088, -0.4125, -0.0170, -0.5872,  0.4872,\n",
       "          0.4680,  0.0042,  0.3006,  0.3491,  0.4554,  0.6207,  0.5204],\n",
       "        [-0.7530, -0.2917, -0.3180, -0.3798, -0.3719, -0.2195, -0.4368,  0.4379,\n",
       "          0.3125, -0.1114,  0.4026,  0.3114,  0.5344,  0.6216,  0.6093],\n",
       "        [-0.4740, -0.3291, -0.2477, -0.1585, -0.2222, -0.3317, -0.2982,  0.3902,\n",
       "          0.1623, -0.1513,  0.4826,  0.1627,  0.5892,  0.5740,  0.4927],\n",
       "        [-0.5496, -0.2064, -0.0743,  0.0513, -0.2142,  0.0183, -0.5452,  0.4622,\n",
       "          0.3504,  0.0469,  0.2818,  0.0747,  0.3860,  0.5236,  0.1974],\n",
       "        [-0.6273, -0.3144, -0.2508, -0.1769, -0.2897, -0.2299, -0.4503,  0.4450,\n",
       "          0.3341, -0.1187,  0.4121,  0.2477,  0.5632,  0.5670,  0.5144],\n",
       "        [-0.6339, -0.2995, -0.2563, -0.2024, -0.2776, -0.2352, -0.4675,  0.4302,\n",
       "          0.3139, -0.0981,  0.3955,  0.2188,  0.5279,  0.5818,  0.4691],\n",
       "        [-0.7251, -0.2675, -0.2062, -0.2123, -0.3071, -0.0707, -0.5195,  0.4328,\n",
       "          0.3655,  0.0159,  0.3404,  0.2513,  0.4751,  0.6100,  0.4098],\n",
       "        [-0.6012, -0.3342, -0.2541, -0.1636, -0.3169, -0.2638, -0.4010,  0.4708,\n",
       "          0.2854, -0.1485,  0.4474,  0.2184,  0.5748,  0.5962,  0.5657],\n",
       "        [-0.6556, -0.3390, -0.2308, -0.1797, -0.3285, -0.1931, -0.4374,  0.4530,\n",
       "          0.3187, -0.0879,  0.4167,  0.2594,  0.5649,  0.6140,  0.5331],\n",
       "        [-0.9448, -0.3154, -0.3089, -0.4405, -0.4367, -0.0836, -0.5487,  0.4358,\n",
       "          0.5132, -0.0568,  0.3314,  0.5278,  0.5652,  0.6230,  0.6657],\n",
       "        [-0.6740, -0.3877, -0.3227, -0.3616, -0.3055, -0.3385, -0.3437,  0.3636,\n",
       "          0.3017, -0.1680,  0.4584,  0.4084,  0.6625,  0.6098,  0.6655],\n",
       "        [-0.8299, -0.2612, -0.2822, -0.3571, -0.3948, -0.0981, -0.5346,  0.4613,\n",
       "          0.4093, -0.0538,  0.3403,  0.3392,  0.4884,  0.6145,  0.5564],\n",
       "        [-0.7982, -0.2667, -0.1813, -0.2258, -0.3268, -0.0038, -0.5952,  0.4399,\n",
       "          0.4783,  0.0319,  0.2845,  0.3417,  0.4716,  0.6028,  0.4156],\n",
       "        [-0.9988, -0.2365, -0.3270, -0.4576, -0.5811, -0.0347, -0.6686,  0.5655,\n",
       "          0.5392, -0.1087,  0.3228,  0.4451,  0.4694,  0.6260,  0.7232],\n",
       "        [-0.6630, -0.2703, -0.1805, -0.1333, -0.2849, -0.0863, -0.5208,  0.4534,\n",
       "          0.3722, -0.0057,  0.3443,  0.2164,  0.4787,  0.5870,  0.3873],\n",
       "        [-0.6273, -0.3323, -0.2319, -0.1485, -0.3330, -0.2155, -0.4367,  0.4873,\n",
       "          0.2954, -0.1014,  0.4146,  0.1876,  0.5325,  0.6257,  0.5198],\n",
       "        [-0.8723, -0.2532, -0.2395, -0.3088, -0.4125, -0.0170, -0.5872,  0.4872,\n",
       "          0.4680,  0.0042,  0.3006,  0.3491,  0.4554,  0.6207,  0.5204],\n",
       "        [-0.7530, -0.2917, -0.3180, -0.3798, -0.3719, -0.2195, -0.4368,  0.4379,\n",
       "          0.3125, -0.1114,  0.4026,  0.3114,  0.5344,  0.6216,  0.6093],\n",
       "        [-0.4740, -0.3291, -0.2477, -0.1585, -0.2222, -0.3317, -0.2982,  0.3902,\n",
       "          0.1623, -0.1513,  0.4826,  0.1627,  0.5892,  0.5740,  0.4927],\n",
       "        [-0.5496, -0.2064, -0.0743,  0.0513, -0.2142,  0.0183, -0.5452,  0.4622,\n",
       "          0.3504,  0.0469,  0.2818,  0.0747,  0.3860,  0.5236,  0.1974],\n",
       "        [-0.6273, -0.3144, -0.2508, -0.1769, -0.2897, -0.2299, -0.4503,  0.4450,\n",
       "          0.3341, -0.1187,  0.4121,  0.2477,  0.5632,  0.5670,  0.5144],\n",
       "        [-0.6339, -0.2995, -0.2563, -0.2024, -0.2776, -0.2352, -0.4675,  0.4302,\n",
       "          0.3139, -0.0981,  0.3955,  0.2188,  0.5279,  0.5818,  0.4691],\n",
       "        [-0.7251, -0.2675, -0.2062, -0.2123, -0.3071, -0.0707, -0.5195,  0.4328,\n",
       "          0.3655,  0.0159,  0.3404,  0.2513,  0.4751,  0.6100,  0.4098],\n",
       "        [-0.6012, -0.3342, -0.2541, -0.1636, -0.3169, -0.2638, -0.4010,  0.4708,\n",
       "          0.2854, -0.1485,  0.4474,  0.2184,  0.5748,  0.5962,  0.5657],\n",
       "        [-0.6556, -0.3390, -0.2308, -0.1797, -0.3285, -0.1931, -0.4374,  0.4530,\n",
       "          0.3187, -0.0879,  0.4167,  0.2594,  0.5649,  0.6140,  0.5331],\n",
       "        [-0.9448, -0.3154, -0.3089, -0.4405, -0.4367, -0.0836, -0.5487,  0.4358,\n",
       "          0.5132, -0.0568,  0.3314,  0.5278,  0.5652,  0.6230,  0.6657],\n",
       "        [-0.6740, -0.3877, -0.3227, -0.3616, -0.3055, -0.3385, -0.3437,  0.3636,\n",
       "          0.3017, -0.1680,  0.4584,  0.4084,  0.6625,  0.6098,  0.6655]],\n",
       "       device='cuda:0', grad_fn=<CatBackward0>)"
      ]
     },
     "execution_count": 354,
     "metadata": {},
     "output_type": "execute_result"
    }
   ],
   "source": [
    "torch.cat([outputs, outputs, outputs])"
   ]
  },
  {
   "cell_type": "code",
   "execution_count": 355,
   "id": "2629a017",
   "metadata": {},
   "outputs": [
    {
     "name": "stdout",
     "output_type": "stream",
     "text": [
      "0.8220205686630369\n",
      "6794 out of 8265\n",
      "Performance on positive labels\n",
      "0.1621160409556314\n",
      "95 out of 586.0\n",
      "WHAT IF WE JUST PREDICTED ZERO\n",
      "0.9290986085904416\n",
      "7679 out of 8265\n"
     ]
    }
   ],
   "source": [
    "model.eval()\n",
    "\n",
    "combined_preds = []\n",
    "combined_labels = []\n",
    "\n",
    "with torch.no_grad():\n",
    "#     a = model(dataset[2]['input'].to(device))\n",
    "    total_correct = 0\n",
    "    zero_correct = 0\n",
    "    total_values = 0\n",
    "    only_positives = [0, 0]\n",
    "    for batch_idx, data in enumerate(ft_test_dl):\n",
    "        inputs, labels = data['input'].to(device), data['labels'].to(device)\n",
    "\n",
    "        outputs = model(inputs)\n",
    "        combined_preds.append(outputs)\n",
    "        combined_labels.append(labels)\n",
    "        \n",
    "        outlabels = torch.zeros_like(outputs)\n",
    "        outlabels[outputs >= 0.5] = 1\n",
    "        outlabels[outputs < 0.5] = 0\n",
    "        \n",
    "        num_correct = torch.sum(outlabels == labels).item()\n",
    "        num = len(labels) * 15\n",
    "        \n",
    "        total_correct += num_correct\n",
    "        total_values += num\n",
    "        zero_correct += torch.sum(labels == 0).item()\n",
    "        \n",
    "        only_positives[0] += torch.sum(labels).item()\n",
    "        only_positives[1] += torch.sum(labels[labels == 1] == outlabels[labels == 1]).item()\n",
    "        \n",
    "\n",
    "print(total_correct / total_values)\n",
    "\n",
    "print(f\"{total_correct} out of {total_values}\")\n",
    "\n",
    "print(\"Performance on positive labels\")\n",
    "\n",
    "print(only_positives[1] / only_positives[0])\n",
    "\n",
    "print(f\"{only_positives[1]} out of {only_positives[0]}\")\n",
    "\n",
    "print(\"WHAT IF WE JUST PREDICTED ZERO\")\n",
    "\n",
    "print(zero_correct / total_values)\n",
    "\n",
    "print(f\"{zero_correct} out of {total_values}\")"
   ]
  },
  {
   "cell_type": "code",
   "execution_count": 356,
   "id": "9ff61d98",
   "metadata": {},
   "outputs": [
    {
     "data": {
      "text/plain": [
       "(torch.Size([551, 15]), torch.Size([551, 15]))"
      ]
     },
     "execution_count": 356,
     "metadata": {},
     "output_type": "execute_result"
    }
   ],
   "source": [
    "all_preds = torch.cat(combined_preds)\n",
    "all_labels = torch.cat(combined_labels)\n",
    "all_preds.shape, all_labels.shape"
   ]
  },
  {
   "cell_type": "code",
   "execution_count": 357,
   "id": "9a795fea",
   "metadata": {},
   "outputs": [
    {
     "data": {
      "text/plain": [
       "551"
      ]
     },
     "execution_count": 357,
     "metadata": {},
     "output_type": "execute_result"
    }
   ],
   "source": [
    "len(ft_test_dataset)"
   ]
  },
  {
   "cell_type": "code",
   "execution_count": 358,
   "id": "683eef2b",
   "metadata": {},
   "outputs": [],
   "source": [
    "from sklearn import metrics"
   ]
  },
  {
   "cell_type": "code",
   "execution_count": 359,
   "id": "b411a48c",
   "metadata": {},
   "outputs": [
    {
     "name": "stdout",
     "output_type": "stream",
     "text": [
      "Head: 0; AUC: 0.46648697214734947\n",
      "Head: 1; AUC: 0.4360714899467263\n",
      "Head: 2; AUC: 0.5355893536121673\n",
      "Head: 3; AUC: 0.41435591435591435\n",
      "Head: 4; AUC: 0.4240863787375415\n",
      "Head: 5; AUC: 0.49031665253039297\n",
      "Head: 6; AUC: 0.48111275457958813\n",
      "Head: 7; AUC: 0.5113688916294128\n",
      "Head: 8; AUC: 0.4992988133764833\n",
      "Head: 9; AUC: 0.5053270828894096\n",
      "Head: 10; AUC: 0.43517786561264826\n",
      "Head: 11; AUC: 0.5168340506934481\n",
      "Head: 12; AUC: 0.551968771215207\n",
      "Head: 13; AUC: 0.47171418325264486\n",
      "Head: 14; AUC: 0.4846858931365974\n"
     ]
    }
   ],
   "source": [
    "for i in range(15):\n",
    "    preds = all_preds[:,i].cpu()\n",
    "    targs = all_labels[:,i].cpu()\n",
    "#     fpr, tpr, thresholds = metrics.roc_curve(targs, preds, pos_label=1)\n",
    "    fpr, tpr, thresholds = metrics.roc_curve(targs, preds, pos_label=1)\n",
    "    auc = metrics.auc(fpr, tpr)\n",
    "    print(f\"Head: {i}; AUC: {auc}\")"
   ]
  },
  {
   "cell_type": "code",
   "execution_count": 360,
   "id": "83701838",
   "metadata": {},
   "outputs": [],
   "source": [
    "from sklearn.metrics import roc_auc_score"
   ]
  },
  {
   "cell_type": "code",
   "execution_count": 363,
   "id": "ef27acfb",
   "metadata": {},
   "outputs": [
    {
     "data": {
      "text/plain": [
       "0.4846858931365974"
      ]
     },
     "execution_count": 363,
     "metadata": {},
     "output_type": "execute_result"
    }
   ],
   "source": [
    "roc_auc_score(targs, preds)"
   ]
  },
  {
   "cell_type": "code",
   "execution_count": 364,
   "id": "07a9d160",
   "metadata": {},
   "outputs": [
    {
     "data": {
      "text/plain": [
       "tensor([0.5877, 0.4990, 0.4782, 0.4271, 0.5695, 0.5498, 0.5057, 0.3682, 0.4772,\n",
       "        0.3087, 0.6047, 0.4983, 0.3846, 0.4745, 0.4097, 0.5608, 0.4157, 0.6603,\n",
       "        0.6204, 0.6538, 0.2207, 0.4213, 0.3764, 0.5389, 0.4903, 0.3403, 0.5660,\n",
       "        0.4813, 0.3360, 0.2023, 0.4485, 0.5676, 0.4182, 0.6118, 0.6164, 0.2317,\n",
       "        0.6561, 0.3314, 0.2807, 0.5935, 0.5878, 0.3965, 0.4645, 0.3402, 0.3620,\n",
       "        0.4563, 0.5461, 0.5256, 0.5489, 0.4783, 0.3858, 0.5835, 0.5883, 0.5025,\n",
       "        0.3461, 0.4015, 0.5236, 0.5969, 0.6296, 0.4129, 0.3204, 0.6943, 0.4663,\n",
       "        0.4710, 0.2075, 0.4248, 0.2189, 0.5240, 0.1753, 0.5936, 0.4552, 0.4358,\n",
       "        0.3288, 0.5908, 0.4956, 0.2143, 0.2742, 0.6572, 0.4145, 0.3773, 0.3212,\n",
       "        0.4225, 0.4535, 0.5269, 0.6074, 0.3080, 0.3499, 0.3411, 0.5790, 0.4591,\n",
       "        0.3764, 0.6054, 0.6864, 0.6108, 0.5449, 0.5444, 0.2688, 0.2966, 0.7095,\n",
       "        0.3387, 0.4685, 0.5939, 0.3404, 0.4748, 0.3128, 0.4311, 0.4734, 0.3599,\n",
       "        0.4872, 0.3064, 0.4227, 0.4812, 0.3032, 0.4272, 0.4345, 0.3721, 0.2746,\n",
       "        0.4344, 0.2721, 0.2323, 0.4997, 0.5515, 0.4955, 0.5445, 0.4718, 0.3261,\n",
       "        0.3194, 0.4665, 0.3546, 0.3352, 0.3864, 0.5037, 0.7953, 0.4845, 0.3953,\n",
       "        0.3418, 0.7440, 0.3905, 0.6039, 0.5263, 0.7846, 0.4286, 0.2294, 0.5707,\n",
       "        0.6615, 0.4822, 0.3467, 0.4209, 0.6323, 0.4868, 0.7317, 0.6452, 0.5783,\n",
       "        0.5571, 0.5241, 0.6120, 0.4252, 0.4740, 0.3653, 0.4156, 0.5289, 0.7055,\n",
       "        0.4903, 0.4184, 0.5163, 0.2531, 0.1712, 0.3655, 0.5082, 0.5301, 0.4541,\n",
       "        0.5245, 0.6646, 0.4047, 0.3222, 0.4612, 0.4766, 0.3862, 0.4376, 0.5959,\n",
       "        0.2059, 0.5353, 0.5483, 0.4009, 0.2831, 0.4072, 0.5748, 0.4545, 0.5526,\n",
       "        0.5899, 0.4047, 0.7064, 0.2693, 0.5211, 0.7013, 0.3442, 0.2948, 0.5178,\n",
       "        0.5547, 0.5112, 0.3018, 0.5807, 0.6211, 0.5643, 0.6362, 0.5412, 0.4454,\n",
       "        0.4114, 0.5299, 0.6290, 0.4452, 0.5187, 0.3143, 0.1537, 0.3854, 0.4812,\n",
       "        0.4648, 0.3161, 0.5465, 0.4989, 0.6842, 0.6291, 0.6165, 0.2797, 0.5746,\n",
       "        0.6092, 0.6530, 0.4578, 0.4697, 0.4359, 0.3815, 0.3312, 0.6912, 0.5846,\n",
       "        0.4341, 0.5578, 0.5013, 0.2953, 0.4195, 0.4216, 0.3646, 0.7721, 0.4581,\n",
       "        0.5000, 0.3921, 0.4653, 0.5267, 0.7004, 0.5166, 0.3543, 0.5899, 0.4180,\n",
       "        0.3038, 0.3562, 0.6296, 0.6484, 0.3961, 0.6042, 0.4846, 0.6164, 0.4409,\n",
       "        0.5140, 0.3091, 0.6808, 0.6015, 0.6229, 0.4013, 0.7065, 0.4547, 0.4441,\n",
       "        0.4472, 0.6285, 0.2385, 0.5449, 0.4615, 0.5724, 0.6135, 0.5909, 0.5343,\n",
       "        0.4858, 0.6024, 0.3129, 0.3283, 0.3432, 0.5979, 0.5356, 0.3629, 0.5415,\n",
       "        0.4190, 0.5024, 0.6013, 0.3746, 0.5416, 0.3333, 0.4638, 0.2160, 0.5514,\n",
       "        0.3357, 0.4283, 0.5013, 0.5065, 0.5807, 0.3450, 0.4266, 0.4487, 0.4568,\n",
       "        0.4876, 0.4122, 0.6616, 0.4766, 0.4241, 0.4466, 0.3692, 0.4432, 0.5862,\n",
       "        0.5564, 0.3102, 0.4659, 0.5206, 0.4574, 0.4721, 0.5748, 0.4189, 0.4636,\n",
       "        0.3137, 0.5309, 0.5067, 0.5399, 0.6191, 0.5137, 0.6043, 0.4862, 0.8069,\n",
       "        0.4853, 0.3794, 0.5465, 0.4657, 0.5513, 0.5200, 0.3146, 0.5779, 0.4898,\n",
       "        0.4440, 0.4161, 0.4895, 0.5507, 0.5413, 0.7782, 0.4888, 0.3275, 0.4253,\n",
       "        0.3950, 0.4606, 0.5324, 0.3651, 0.6291, 0.4068, 0.6348, 0.3255, 0.5819,\n",
       "        0.4249, 0.3025, 0.5398, 0.5833, 0.5012, 0.4211, 0.6055, 0.4936, 0.3845,\n",
       "        0.2709, 0.1231, 0.3407, 0.3537, 0.2908, 0.4139, 0.5600, 0.4748, 0.4256,\n",
       "        0.4117, 0.4237, 0.5438, 0.3388, 0.7026, 0.5299, 0.3413, 0.6459, 0.6221,\n",
       "        0.4539, 0.7435, 0.2492, 0.4295, 0.3413, 0.5138, 0.4901, 0.5309, 0.4732,\n",
       "        0.3832, 0.2628, 0.6634, 0.3115, 0.4467, 0.4024, 0.8740, 0.3472, 0.3948,\n",
       "        0.4187, 0.7599, 0.6411, 0.4387, 0.3318, 0.4647, 0.3072, 0.3536, 0.4414,\n",
       "        0.3803, 0.3860, 0.2531, 0.4786, 0.4463, 0.7953, 0.3294, 0.5052, 0.5265,\n",
       "        0.6714, 0.3633, 0.5101, 0.4892, 0.3540, 0.4909, 0.2126, 0.4747, 0.3912,\n",
       "        0.4167, 0.4112, 0.4540, 0.2732, 0.4309, 0.1873, 0.2735, 0.6201, 0.3409,\n",
       "        0.3247, 0.4651, 0.3624, 0.3642, 0.7240, 0.6376, 0.5478, 0.4250, 0.4036,\n",
       "        0.5525, 0.6187, 0.1780, 0.4566, 0.3955, 0.6072, 0.4598, 0.3109, 0.3295,\n",
       "        0.5773, 0.3691, 0.4881, 0.5089, 0.5719, 0.3556, 0.5423, 0.5829, 0.4830,\n",
       "        0.5820, 0.4855, 0.2713, 0.2236, 0.5527, 0.4908, 0.2989, 0.4260, 0.6127,\n",
       "        0.4784, 0.4972, 0.6196, 0.4051, 0.3813, 0.2978, 0.3864, 0.6096, 0.5362,\n",
       "        0.3868, 0.6007, 0.6829, 0.4062, 0.3674, 0.4847, 0.5260, 0.4479, 0.3928,\n",
       "        0.3504, 0.4932, 0.4900, 0.4619, 0.3899, 0.5454, 0.4662, 0.5777, 0.2959,\n",
       "        0.6126, 0.7491, 0.7208, 0.5332, 0.6383, 0.4626, 0.3874, 0.4675, 0.5547,\n",
       "        0.4016, 0.4767, 0.5066, 0.1875, 0.3935, 0.5791, 0.4581, 0.6062, 0.5224,\n",
       "        0.3679, 0.3744, 0.3974, 0.3924, 0.4735, 0.2089, 0.5430, 0.4150, 0.1685,\n",
       "        0.4036, 0.3998, 0.5061, 0.6411, 0.2494, 0.7001, 0.4713, 0.4618, 0.5397,\n",
       "        0.4242, 0.4667, 0.5950, 0.5437, 0.5740, 0.6247, 0.3641, 0.3681, 0.4157,\n",
       "        0.3242, 0.4196])"
      ]
     },
     "execution_count": 364,
     "metadata": {},
     "output_type": "execute_result"
    }
   ],
   "source": [
    "preds"
   ]
  },
  {
   "cell_type": "code",
   "execution_count": null,
   "id": "8a1bf2fa",
   "metadata": {},
   "outputs": [],
   "source": []
  },
  {
   "cell_type": "code",
   "execution_count": 365,
   "id": "2eed9bec",
   "metadata": {},
   "outputs": [],
   "source": [
    "import scikitplot as skplt\n",
    "import matplotlib.pyplot as plt"
   ]
  },
  {
   "cell_type": "code",
   "execution_count": null,
   "id": "84a3d13b",
   "metadata": {},
   "outputs": [],
   "source": []
  },
  {
   "cell_type": "code",
   "execution_count": 379,
   "id": "a612554a",
   "metadata": {},
   "outputs": [],
   "source": [
    "from vit_pytorch.learnable_memory_vit import ViT, Adapter"
   ]
  },
  {
   "cell_type": "code",
   "execution_count": null,
   "id": "b170ccda",
   "metadata": {},
   "outputs": [],
   "source": []
  },
  {
   "cell_type": "code",
   "execution_count": 371,
   "id": "eb285c6b",
   "metadata": {},
   "outputs": [
    {
     "data": {
      "image/png": "[encoded data removed]",
      "text/plain": [
       "<Figure size 432x288 with 1 Axes>"
      ]
     },
     "metadata": {
      "needs_background": "light"
     },
     "output_type": "display_data"
    }
   ],
   "source": [
    "fpr, tpr, _ = metrics.roc_curve(targs, preds)\n",
    "auc = metrics.roc_auc_score(targs, preds)\n",
    "plt.plot(fpr,tpr,label=\"model, auc=\"+str(auc))\n",
    "\n",
    "fpr, tpr, _ = metrics.roc_curve(targs, np.zeros_like(targs))\n",
    "auc = metrics.roc_auc_score(targs, np.zeros_like(targs))\n",
    "plt.plot(fpr,tpr,label=\"zero, auc=\"+str(auc))\n",
    "\n",
    "plt.legend(loc=4)\n",
    "plt.show()"
   ]
  },
  {
   "cell_type": "code",
   "execution_count": null,
   "id": "27d43891",
   "metadata": {},
   "outputs": [],
   "source": []
  },
  {
   "cell_type": "code",
   "execution_count": null,
   "id": "86042b00",
   "metadata": {},
   "outputs": [],
   "source": []
  },
  {
   "cell_type": "code",
   "execution_count": null,
   "id": "58d13b9c",
   "metadata": {},
   "outputs": [],
   "source": []
  },
  {
   "cell_type": "code",
   "execution_count": null,
   "id": "d7cbb52f",
   "metadata": {},
   "outputs": [],
   "source": []
  },
  {
   "cell_type": "code",
   "execution_count": null,
   "id": "97213596",
   "metadata": {},
   "outputs": [],
   "source": []
  }
 ],
 "metadata": {
  "kernelspec": {
   "display_name": "ml_env",
   "language": "python",
   "name": "ml_env"
  },
  "language_info": {
   "codemirror_mode": {
    "name": "ipython",
    "version": 3
   },
   "file_extension": ".py",
   "mimetype": "text/x-python",
   "name": "python",
   "nbconvert_exporter": "python",
   "pygments_lexer": "ipython3",
   "version": "3.8.13"
  }
 },
 "nbformat": 4,
 "nbformat_minor": 5
}
