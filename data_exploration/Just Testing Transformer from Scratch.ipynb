{
 "cells": [
  {
   "cell_type": "code",
   "execution_count": 1,
   "id": "8dde38ab",
   "metadata": {},
   "outputs": [],
   "source": [
    "from torch import nn\n",
    "import torch"
   ]
  },
  {
   "cell_type": "code",
   "execution_count": 2,
   "id": "0c0b7a64",
   "metadata": {},
   "outputs": [],
   "source": [
    "from torch.nn.utils.rnn import pad_sequence"
   ]
  },
  {
   "cell_type": "code",
   "execution_count": 3,
   "id": "eb94593b",
   "metadata": {},
   "outputs": [],
   "source": [
    "import numpy as np"
   ]
  },
  {
   "cell_type": "code",
   "execution_count": 4,
   "id": "26f5b02f",
   "metadata": {},
   "outputs": [],
   "source": [
    "import pandas as pd"
   ]
  },
  {
   "cell_type": "code",
   "execution_count": 5,
   "id": "a58fb134",
   "metadata": {},
   "outputs": [],
   "source": [
    "import os"
   ]
  },
  {
   "cell_type": "code",
   "execution_count": 6,
   "id": "42b6ccad",
   "metadata": {},
   "outputs": [],
   "source": [
    "from einops import rearrange"
   ]
  },
  {
   "cell_type": "code",
   "execution_count": 7,
   "id": "7214728f",
   "metadata": {},
   "outputs": [],
   "source": [
    "import random"
   ]
  },
  {
   "cell_type": "code",
   "execution_count": 8,
   "id": "a68cbc3e",
   "metadata": {},
   "outputs": [],
   "source": [
    "from torch.utils.data import DataLoader"
   ]
  },
  {
   "cell_type": "code",
   "execution_count": 9,
   "id": "f41473dd",
   "metadata": {},
   "outputs": [],
   "source": [
    "import torchvision.transforms as T"
   ]
  },
  {
   "cell_type": "code",
   "execution_count": 10,
   "id": "0e72087d",
   "metadata": {},
   "outputs": [],
   "source": [
    "from skimage.util import random_noise"
   ]
  },
  {
   "cell_type": "code",
   "execution_count": 11,
   "id": "65c3dcbb",
   "metadata": {},
   "outputs": [],
   "source": [
    "import matplotlib.pyplot as plt\n",
    "import seaborn as sns\n",
    "sns.set_theme()"
   ]
  },
  {
   "cell_type": "code",
   "execution_count": 12,
   "id": "ef921677",
   "metadata": {},
   "outputs": [
    {
     "name": "stderr",
     "output_type": "stream",
     "text": [
      "C:\\Users\\aag12\\anaconda3\\envs\\ml_env\\lib\\site-packages\\torchaudio\\backend\\utils.py:62: UserWarning: No audio backend is available.\n",
      "  warnings.warn(\"No audio backend is available.\")\n"
     ]
    }
   ],
   "source": [
    "import torchaudio"
   ]
  },
  {
   "cell_type": "code",
   "execution_count": 13,
   "id": "10dd49da",
   "metadata": {},
   "outputs": [],
   "source": [
    "from sklearn import preprocessing"
   ]
  },
  {
   "cell_type": "code",
   "execution_count": 14,
   "id": "0b4914d1",
   "metadata": {},
   "outputs": [],
   "source": [
    "from sklearn.model_selection import train_test_split"
   ]
  },
  {
   "cell_type": "code",
   "execution_count": null,
   "id": "dc6dbff6",
   "metadata": {},
   "outputs": [],
   "source": []
  },
  {
   "cell_type": "markdown",
   "id": "8864ad63",
   "metadata": {},
   "source": [
    "# Defining Dataseat"
   ]
  },
  {
   "cell_type": "code",
   "execution_count": 15,
   "id": "494e5fed",
   "metadata": {},
   "outputs": [],
   "source": [
    "class MusicDataset(torch.utils.data.Dataset):   \n",
    "    def __init__(self, np_file_paths, labels, seq_len=10000, random_start=True, noise=True):\n",
    "        self.seq_len = seq_len\n",
    "        self.files = np_file_paths\n",
    "        self.padder = torch.zeros(96, seq_len)\n",
    "        self.labels = labels\n",
    "        self.noise = noise\n",
    "        self.random_start = random_start\n",
    "#         self.labels = []\n",
    "#         for i in range(len(self.files)):\n",
    "#             label = np.random.randint(0, 10, size=15)\n",
    "#             label[label > 8] = 0\n",
    "#             label[label >= 1] = 1\n",
    "#             self.labels.append(label)\n",
    "#         for i in range(len(self.files)):\n",
    "#             label = np.array([1, 0, 0, 0, 0, 0, 0, 0, 0, 0, 0, 0, 0, 0, 0])\n",
    "#             self.labels.append(label)\n",
    "    def __len__(self):\n",
    "        return len(self.files)\n",
    "\n",
    "#     def __getitem__(self, index):\n",
    "#         return (self.X[index:index+self.seq_len], self.y[index+self.seq_len-1])\n",
    "    def __getitem__(self, index):\n",
    "        x = np.load(self.files[index])\n",
    "        x = torch.from_numpy(x).float()\n",
    "#         print(x.shape)\n",
    "        if self.random_start and x.shape[-1] > self.seq_len:\n",
    "            # longer than 3000, select random subset\n",
    "            start = random.randint(0, x.shape[-1] - self.seq_len)\n",
    "            x = x[:,start:start+self.seq_len]\n",
    "        else:\n",
    "            x = x[:,:self.seq_len]\n",
    "        x = pad_sequence([x.T, self.padder.T], padding_value=-90, batch_first=True)[0].T\n",
    "        x = x.unsqueeze(0)\n",
    "        x = x.permute(0, 2, 1)\n",
    "\n",
    "        if self.noise:\n",
    "#             x = torch.tensor(random_noise(x, mode='gaussian', mean=0, var=0.05, clip=False)).float()\n",
    "            x = torch.tensor(random_noise(x, mode='gaussian', mean=0, var=0.1, clip=False)).float()\n",
    "#         input,label_ids,label\n",
    "        item = {\"input\": x, \"label_ids\":[index], \"labels\": torch.tensor(self.labels[index])}\n",
    "        return item\n",
    "#         return x"
   ]
  },
  {
   "cell_type": "code",
   "execution_count": null,
   "id": "8b81fdb3",
   "metadata": {},
   "outputs": [],
   "source": []
  },
  {
   "cell_type": "code",
   "execution_count": 16,
   "id": "3c432a88",
   "metadata": {},
   "outputs": [],
   "source": [
    "from datasets import load_dataset"
   ]
  },
  {
   "cell_type": "code",
   "execution_count": 17,
   "id": "c2e2a3ed",
   "metadata": {},
   "outputs": [],
   "source": [
    "from datasets import disable_caching\n",
    "disable_caching()"
   ]
  },
  {
   "cell_type": "code",
   "execution_count": 18,
   "id": "d735a169",
   "metadata": {},
   "outputs": [],
   "source": [
    "# good_files = []\n",
    "# for i in range(1, 6):\n",
    "#     new_files = [f\"0{i}/{fname.replace('npy', '')}mp3\" for fname in os.listdir(f\"../../subset_moodtheme/0{i}\")]\n",
    "#     good_files.extend(new_files)\n",
    "\n",
    "# test_files = [f\"00/{fname.replace('npy', '')}mp3\" for fname in os.listdir(\"../../subset_moodtheme/00\")]\n",
    "# print(good_files)\n",
    "# print(test_files)"
   ]
  },
  {
   "cell_type": "code",
   "execution_count": 19,
   "id": "6386c2a5",
   "metadata": {},
   "outputs": [],
   "source": [
    "with open(\"goodfiles.txt\", 'r') as f:\n",
    "    all_files = f.readlines()\n",
    "all_files = [g.strip().replace(\"npy\", 'mp3') for g in all_files if len(g.strip()) > 0]"
   ]
  },
  {
   "cell_type": "code",
   "execution_count": 20,
   "id": "e64a05c5",
   "metadata": {},
   "outputs": [
    {
     "data": {
      "text/plain": [
       "['01/846501.mp3', '34/1288334.mp3', '98/1082098.mp3']"
      ]
     },
     "execution_count": 20,
     "metadata": {},
     "output_type": "execute_result"
    }
   ],
   "source": [
    "all_files[:3]"
   ]
  },
  {
   "cell_type": "code",
   "execution_count": null,
   "id": "ae153e5e",
   "metadata": {},
   "outputs": [],
   "source": []
  },
  {
   "cell_type": "code",
   "execution_count": 21,
   "id": "cc07061d",
   "metadata": {},
   "outputs": [],
   "source": [
    "good_files, test_files = train_test_split(all_files, test_size=0.2)"
   ]
  },
  {
   "cell_type": "code",
   "execution_count": 22,
   "id": "98d6ecc7",
   "metadata": {},
   "outputs": [
    {
     "data": {
      "text/plain": [
       "(2200, 551)"
      ]
     },
     "execution_count": 22,
     "metadata": {},
     "output_type": "execute_result"
    }
   ],
   "source": [
    "len(good_files), len(test_files)"
   ]
  },
  {
   "cell_type": "code",
   "execution_count": 23,
   "id": "b668f4e6",
   "metadata": {},
   "outputs": [],
   "source": [
    "def files_to_labels(files):\n",
    "    col_names = ['TRACK_ID',\n",
    "     'ARTIST_ID',\n",
    "     'ALBUM_ID',\n",
    "     'PATH',\n",
    "     'DURATION',\n",
    "     'TAGS',\n",
    "     'TAGS2',\n",
    "     'TAGS3',\n",
    "     'TAGS4',\n",
    "     'TAGS5',\n",
    "     'TAGS6',\n",
    "     'TAGS7',\n",
    "     'TAGS8',\n",
    "     'TAGS9']\n",
    "    MOODPATH = \"../../../Downloads/autotagging_moodtheme.tsv.txt\"\n",
    "    df = pd.read_csv(MOODPATH, sep='\\t', names=col_names)\n",
    "    df = df[df[\"PATH\"].isin(files)]\n",
    "    inds = {'fast': 0,\n",
    "     'sexy': 1,\n",
    "     'mellow': 2,\n",
    "     'heavy': 3,\n",
    "     'horror': 4,\n",
    "     'travel': 5,\n",
    "     'holiday': 6,\n",
    "     'groovy': 7,\n",
    "     'funny': 8,\n",
    "     'retro': 9,\n",
    "     'hopeful': 10,\n",
    "     'powerful': 11,\n",
    "     'cool': 12,\n",
    "     'nature': 13,\n",
    "     'game': 14}\n",
    "\n",
    "    final_labels = []\n",
    "    for i in range(len(df)):\n",
    "        curr = np.zeros(len(inds))\n",
    "        moods = list(df.iloc[i])[5:]\n",
    "        for theme in moods:\n",
    "            if type(theme) == str and \"mood\" in theme:\n",
    "                check = theme.split(\"---\")[-1]\n",
    "                if check in inds:\n",
    "                    curr[inds[check]] = 1\n",
    "            else:\n",
    "                pass\n",
    "\n",
    "        final_labels.append(curr)\n",
    "    return final_labels"
   ]
  },
  {
   "cell_type": "code",
   "execution_count": 24,
   "id": "07d2d0ea",
   "metadata": {},
   "outputs": [],
   "source": [
    "train_labels = files_to_labels(good_files)"
   ]
  },
  {
   "cell_type": "code",
   "execution_count": 25,
   "id": "d874d298",
   "metadata": {},
   "outputs": [],
   "source": [
    "test_labels = files_to_labels(test_files)"
   ]
  },
  {
   "cell_type": "code",
   "execution_count": 26,
   "id": "678f7c66",
   "metadata": {},
   "outputs": [
    {
     "data": {
      "text/plain": [
       "[array([0., 0., 0., 0., 0., 0., 0., 0., 0., 0., 0., 0., 1., 0., 0.]),\n",
       " array([0., 0., 0., 1., 0., 0., 0., 0., 0., 0., 0., 0., 0., 0., 0.])]"
      ]
     },
     "execution_count": 26,
     "metadata": {},
     "output_type": "execute_result"
    }
   ],
   "source": [
    "train_labels[:2]"
   ]
  },
  {
   "cell_type": "code",
   "execution_count": 27,
   "id": "545d632d",
   "metadata": {},
   "outputs": [],
   "source": [
    "# train_np_files = [(\"../../subset_moodtheme/\" + g).replace(\".mp3\", \".npy\") for g in good_files]\n",
    "# test_np_files = [(\"../../subset_moodtheme/\" + g).replace(\".mp3\", \".npy\") for g in test_files]\n",
    "train_np_files = [\"../../mtg-jamendo-dataset/all_data/\" + g.replace(\"mp3\", \"npy\") for g in good_files]\n",
    "test_np_files = [\"../../mtg-jamendo-dataset/all_data/\" + g.replace(\"mp3\", \"npy\") for g in test_files]"
   ]
  },
  {
   "cell_type": "code",
   "execution_count": 28,
   "id": "e9b18b4c",
   "metadata": {},
   "outputs": [
    {
     "data": {
      "text/plain": [
       "(['../../mtg-jamendo-dataset/all_data/05/108505.npy',\n",
       "  '../../mtg-jamendo-dataset/all_data/65/1283765.npy'],\n",
       " ['../../mtg-jamendo-dataset/all_data/59/1355559.npy',\n",
       "  '../../mtg-jamendo-dataset/all_data/39/1400039.npy'])"
      ]
     },
     "execution_count": 28,
     "metadata": {},
     "output_type": "execute_result"
    }
   ],
   "source": [
    "train_np_files[:2], test_np_files[:2]"
   ]
  },
  {
   "cell_type": "code",
   "execution_count": 29,
   "id": "dd90cdfb",
   "metadata": {},
   "outputs": [],
   "source": [
    "import time"
   ]
  },
  {
   "cell_type": "code",
   "execution_count": 30,
   "id": "284ea16b",
   "metadata": {},
   "outputs": [],
   "source": [
    "# SEQ_LEN = 10000\n",
    "SEQ_LEN = 3000\n",
    "# SEQ_LEN = 5000"
   ]
  },
  {
   "cell_type": "code",
   "execution_count": 31,
   "id": "50166183",
   "metadata": {},
   "outputs": [],
   "source": [
    "train_dataset = MusicDataset(train_np_files, train_labels, seq_len=SEQ_LEN, noise=True, random_start=True)\n",
    "test_dataset = MusicDataset(test_np_files, test_labels, seq_len=SEQ_LEN, noise=False, random_start=True)"
   ]
  },
  {
   "cell_type": "code",
   "execution_count": null,
   "id": "05cb3a0a",
   "metadata": {},
   "outputs": [],
   "source": []
  },
  {
   "cell_type": "markdown",
   "id": "3316f135",
   "metadata": {},
   "source": [
    "# MODEL TESTING\n",
    "run dataset stuff first"
   ]
  },
  {
   "cell_type": "code",
   "execution_count": 32,
   "id": "3802987e",
   "metadata": {},
   "outputs": [
    {
     "data": {
      "text/plain": [
       "2200"
      ]
     },
     "execution_count": 32,
     "metadata": {},
     "output_type": "execute_result"
    }
   ],
   "source": [
    "len(train_dataset)"
   ]
  },
  {
   "cell_type": "code",
   "execution_count": 33,
   "id": "8d6786b6",
   "metadata": {},
   "outputs": [
    {
     "data": {
      "text/plain": [
       "torch.Size([1, 3000, 96])"
      ]
     },
     "execution_count": 33,
     "metadata": {},
     "output_type": "execute_result"
    }
   ],
   "source": [
    "inp = train_dataset[0]['input']\n",
    "# inp = inp.unsqueeze(0)\n",
    "inp.shape"
   ]
  },
  {
   "cell_type": "code",
   "execution_count": null,
   "id": "212baa59",
   "metadata": {},
   "outputs": [],
   "source": []
  },
  {
   "cell_type": "markdown",
   "id": "462bb4bd",
   "metadata": {},
   "source": [
    "### Structure we want\n",
    "\n",
    "* downsample with CNN\n",
    "* feed into transformer\n",
    "* feed into linear layer\n",
    "* profit"
   ]
  },
  {
   "cell_type": "code",
   "execution_count": 34,
   "id": "b8c5d88c",
   "metadata": {},
   "outputs": [
    {
     "data": {
      "text/plain": [
       "torch.Size([1, 3000, 96])"
      ]
     },
     "execution_count": 34,
     "metadata": {},
     "output_type": "execute_result"
    }
   ],
   "source": [
    "inp.shape"
   ]
  },
  {
   "cell_type": "code",
   "execution_count": 35,
   "id": "03779472",
   "metadata": {},
   "outputs": [
    {
     "data": {
      "text/plain": [
       "tensor([[[[-15.7967, -12.0677, -14.6465,  ..., -31.5182, -37.4343, -58.1641],\n",
       "          [-16.4617, -12.7095, -16.7593,  ..., -29.8667, -37.9322, -58.8569],\n",
       "          [-21.6574, -16.9195, -14.8174,  ..., -29.6028, -39.2975, -55.4645],\n",
       "          ...,\n",
       "          [-19.4125, -19.0983, -19.1256,  ..., -42.5181, -47.1971, -66.7183],\n",
       "          [ -6.8851,  -6.9258, -14.1845,  ..., -21.9073, -34.1376, -49.9932],\n",
       "          [ -7.5797, -11.0690, -25.2738,  ..., -26.4352, -39.0534, -50.6404]]]])"
      ]
     },
     "execution_count": 35,
     "metadata": {},
     "output_type": "execute_result"
    }
   ],
   "source": [
    "inp.unsqueeze(0)"
   ]
  },
  {
   "cell_type": "code",
   "execution_count": 36,
   "id": "ffbf3df2",
   "metadata": {},
   "outputs": [],
   "source": [
    "start_data = inp.unsqueeze(0)"
   ]
  },
  {
   "cell_type": "code",
   "execution_count": 71,
   "id": "905a31bd",
   "metadata": {},
   "outputs": [
    {
     "data": {
      "text/plain": [
       "torch.Size([1, 1, 374, 88])"
      ]
     },
     "execution_count": 71,
     "metadata": {},
     "output_type": "execute_result"
    }
   ],
   "source": [
    "conv = nn.Conv2d(1, 1, kernel_size=13, stride=(8, 1),padding=2)\n",
    "# cout = conv(inp)\n",
    "cout = conv(start_data)\n",
    "cout.shape"
   ]
  },
  {
   "cell_type": "code",
   "execution_count": 72,
   "id": "4ff60965",
   "metadata": {},
   "outputs": [
    {
     "data": {
      "text/plain": [
       "torch.Size([1, 1, 374, 88])"
      ]
     },
     "execution_count": 72,
     "metadata": {},
     "output_type": "execute_result"
    }
   ],
   "source": [
    "# reshape so its function of 16\n",
    "# cout = cout[:,:,:320]\n",
    "cout = cout[:,:,:,:]\n",
    "cout.shape"
   ]
  },
  {
   "cell_type": "code",
   "execution_count": 73,
   "id": "4aa259b7",
   "metadata": {},
   "outputs": [],
   "source": [
    "# patch_size = 16"
   ]
  },
  {
   "cell_type": "code",
   "execution_count": 74,
   "id": "274c8ff7",
   "metadata": {},
   "outputs": [
    {
     "data": {
      "text/plain": [
       "torch.Size([1, 1, 374, 88])"
      ]
     },
     "execution_count": 74,
     "metadata": {},
     "output_type": "execute_result"
    }
   ],
   "source": [
    "# # put into patches\n",
    "# patched = rearrange(cout, 'b (h s1) (w s2) -> b (h w) (s1 s2)', s1=patch_size, s2=patch_size)\n",
    "patched = cout\n",
    "patched.shape"
   ]
  },
  {
   "cell_type": "code",
   "execution_count": 75,
   "id": "d23f3504",
   "metadata": {},
   "outputs": [],
   "source": [
    "class Patcher(torch.nn.Module):\n",
    "    def forward(self, x):\n",
    "#         x = x[:,:,:960]\n",
    "#         x = x[:,:,:,:960]\n",
    "        x = x.squeeze(1)\n",
    "#         return rearrange(x, 'b (h s1) (w s2) -> b (h w) (s1 s2)', s1=patch_size, s2=patch_size)\n",
    "        return x"
   ]
  },
  {
   "cell_type": "markdown",
   "id": "4abc1b7d",
   "metadata": {},
   "source": [
    "Copying from:  https://n8henrie.com/2021/08/writing-a-transformer-classifier-in-pytorch/"
   ]
  },
  {
   "cell_type": "code",
   "execution_count": 76,
   "id": "e0c86aca",
   "metadata": {},
   "outputs": [],
   "source": [
    "patched = Patcher()(cout)"
   ]
  },
  {
   "cell_type": "code",
   "execution_count": 77,
   "id": "9bd7fffc",
   "metadata": {},
   "outputs": [
    {
     "data": {
      "text/plain": [
       "torch.Size([1, 374, 88])"
      ]
     },
     "execution_count": 77,
     "metadata": {},
     "output_type": "execute_result"
    }
   ],
   "source": [
    "patched.shape"
   ]
  },
  {
   "cell_type": "code",
   "execution_count": 78,
   "id": "a3d59c74",
   "metadata": {},
   "outputs": [],
   "source": [
    "# encoder_layer = nn.TransformerEncoderLayer(d_model=256, nhead=8)\n",
    "d_model = patched.shape[-1]\n",
    "encoder_layer = nn.TransformerEncoderLayer(d_model=d_model, nhead=8, batch_first=True)\n",
    "transformer_encoder = nn.TransformerEncoder(encoder_layer, num_layers=6)"
   ]
  },
  {
   "cell_type": "code",
   "execution_count": 79,
   "id": "97a750df",
   "metadata": {},
   "outputs": [
    {
     "data": {
      "text/plain": [
       "torch.Size([1, 374, 88])"
      ]
     },
     "execution_count": 79,
     "metadata": {},
     "output_type": "execute_result"
    }
   ],
   "source": [
    "transed = transformer_encoder(patched)\n",
    "transed.shape"
   ]
  },
  {
   "cell_type": "code",
   "execution_count": 82,
   "id": "48f9d39a",
   "metadata": {},
   "outputs": [
    {
     "data": {
      "text/plain": [
       "torch.Size([1, 374, 88])"
      ]
     },
     "execution_count": 82,
     "metadata": {},
     "output_type": "execute_result"
    }
   ],
   "source": [
    "# layer_norm = nn.LayerNorm(256)\n",
    "layer_norm = nn.LayerNorm(d_model)\n",
    "layered = layer_norm(transed)\n",
    "layered.shape"
   ]
  },
  {
   "cell_type": "code",
   "execution_count": 83,
   "id": "f2bccb2c",
   "metadata": {},
   "outputs": [],
   "source": [
    "class BertPooler(nn.Module):\n",
    "    def __init__(self, hidden_size):\n",
    "        super().__init__()\n",
    "        self.dense = nn.Linear(hidden_size, hidden_size)\n",
    "#         self.activation = nn.Tanh()\n",
    "        self.activation = nn.ReLU()\n",
    "\n",
    "    def forward(self, hidden_states):\n",
    "        # We \"pool\" the model by simply taking the hidden state corresponding\n",
    "        # to the first token.\n",
    "#         first_token_tensor = hidden_states[:,0]\n",
    "        first_token_tensor = hidden_states[:,0,:]\n",
    "        pooled_output = self.dense(first_token_tensor)\n",
    "#         pooled_output = self.activation(pooled_output)\n",
    "        return pooled_output"
   ]
  },
  {
   "cell_type": "code",
   "execution_count": 85,
   "id": "b32a10fe",
   "metadata": {},
   "outputs": [
    {
     "data": {
      "text/plain": [
       "torch.Size([1, 88])"
      ]
     },
     "execution_count": 85,
     "metadata": {},
     "output_type": "execute_result"
    }
   ],
   "source": [
    "# bp = BertPooler(256)\n",
    "bp = BertPooler(d_model)\n",
    "bp(layered).shape"
   ]
  },
  {
   "cell_type": "code",
   "execution_count": 86,
   "id": "f0defe3a",
   "metadata": {},
   "outputs": [],
   "source": [
    "lined = nn.Linear(d_model, 15)"
   ]
  },
  {
   "cell_type": "code",
   "execution_count": 87,
   "id": "81dee206",
   "metadata": {},
   "outputs": [],
   "source": [
    "drop = nn.Dropout(0.1)"
   ]
  },
  {
   "cell_type": "code",
   "execution_count": null,
   "id": "8c71df93",
   "metadata": {},
   "outputs": [],
   "source": []
  },
  {
   "cell_type": "code",
   "execution_count": 88,
   "id": "e9851170",
   "metadata": {},
   "outputs": [],
   "source": [
    "class Flatten(torch.nn.Module):\n",
    "    def forward(self, x):\n",
    "        return x.flatten()"
   ]
  },
  {
   "cell_type": "code",
   "execution_count": 89,
   "id": "7f3be440",
   "metadata": {},
   "outputs": [],
   "source": [
    "class Meaner(torch.nn.Module):\n",
    "    def forward(self, x):\n",
    "        return torch.mean(x, dim=1)"
   ]
  },
  {
   "cell_type": "code",
   "execution_count": 90,
   "id": "10f4b3e7",
   "metadata": {},
   "outputs": [
    {
     "name": "stdout",
     "output_type": "stream",
     "text": [
      "tensor([[[[ 0.6492,  0.9630,  0.7460,  ..., -0.6740, -1.1719, -2.9167],\n",
      "          [ 0.5932,  0.9090,  0.5682,  ..., -0.5350, -1.2138, -2.9750],\n",
      "          [ 0.1559,  0.5547,  0.7316,  ..., -0.5128, -1.3288, -2.6894],\n",
      "          ...,\n",
      "          [ 0.3449,  0.3713,  0.3690,  ..., -1.5998, -1.9936, -3.6366],\n",
      "          [ 1.3992,  1.3958,  0.7849,  ...,  0.1349, -0.8945, -2.2290],\n",
      "          [ 1.3408,  1.0471, -0.1485,  ..., -0.2462, -1.3082, -2.2834]]]],\n",
      "       grad_fn=<NativeBatchNormBackward0>)\n",
      "torch.Size([1, 1, 3000, 96])\n",
      "tensor([[[[ 0.6589,  0.7890,  0.6997,  ..., -1.1008, -0.3079,  0.1119],\n",
      "          [ 1.0076,  0.6742,  1.0657,  ..., -1.0542, -0.0285,  0.2337],\n",
      "          [ 0.4240,  1.1219,  1.4148,  ..., -1.0332, -0.2384,  0.0793],\n",
      "          ...,\n",
      "          [ 0.3446,  0.5984,  0.2689,  ..., -1.1811, -0.1963, -0.1152],\n",
      "          [ 0.5451,  1.1091,  1.3210,  ..., -0.8925,  0.0300,  0.0826],\n",
      "          [-0.3545, -0.0976,  0.3215,  ..., -1.4201, -0.4917, -0.2920]]]],\n",
      "       grad_fn=<ConvolutionBackward0>)\n",
      "torch.Size([1, 1, 374, 88])\n",
      "tensor([[[ 0.6589,  0.7890,  0.6997,  ..., -1.1008, -0.3079,  0.1119],\n",
      "         [ 1.0076,  0.6742,  1.0657,  ..., -1.0542, -0.0285,  0.2337],\n",
      "         [ 0.4240,  1.1219,  1.4148,  ..., -1.0332, -0.2384,  0.0793],\n",
      "         ...,\n",
      "         [ 0.3446,  0.5984,  0.2689,  ..., -1.1811, -0.1963, -0.1152],\n",
      "         [ 0.5451,  1.1091,  1.3210,  ..., -0.8925,  0.0300,  0.0826],\n",
      "         [-0.3545, -0.0976,  0.3215,  ..., -1.4201, -0.4917, -0.2920]]],\n",
      "       grad_fn=<SqueezeBackward1>)\n",
      "torch.Size([1, 374, 88])\n",
      "tensor([[[ 1.3831,  1.5582, -0.1180,  ..., -0.4874,  0.4944, -1.2476],\n",
      "         [ 1.3053,  1.5124,  0.4001,  ..., -0.6074,  0.5174, -1.2088],\n",
      "         [ 1.0933,  1.7850,  0.8261,  ..., -0.3385,  0.4954, -1.1070],\n",
      "         ...,\n",
      "         [ 1.5665,  0.5594, -0.2334,  ..., -0.1434,  0.0287, -0.6203],\n",
      "         [ 0.8374,  1.1749,  0.2586,  ..., -0.7863, -0.1670, -0.5737],\n",
      "         [ 0.7607,  0.9229,  0.4142,  ..., -1.0549,  0.5473, -1.0238]]],\n",
      "       grad_fn=<NativeLayerNormBackward0>)\n",
      "torch.Size([1, 374, 88])\n",
      "tensor([[ 1.1385,  1.4845,  0.2764,  0.0384,  0.5831,  0.6814, -0.4690,  2.4514,\n",
      "          1.6571,  0.6472, -0.2952, -0.6144,  0.4407, -0.5859,  1.7900,  0.1747,\n",
      "         -1.0053, -0.4737, -1.4603,  1.9446, -0.2985,  1.3550,  0.1093, -0.7535,\n",
      "          0.5358, -0.8224, -1.0157,  0.9596, -0.3040, -0.4096,  1.1449,  0.8371,\n",
      "          0.7029,  1.6224, -1.1855,  0.8682, -0.3699, -0.9244,  0.7776, -0.5325,\n",
      "          0.7379,  0.9963,  0.4213, -0.0830, -1.4193, -0.4883,  0.4390, -0.9500,\n",
      "         -0.2505,  0.6819,  1.3101,  0.8939, -0.0438, -1.1839,  0.1297, -0.4632,\n",
      "         -0.8293, -0.5352,  0.9580, -0.6287,  0.7324,  0.4454, -0.3000, -1.0810,\n",
      "          0.5389, -0.2599,  1.2840, -1.9584,  0.0606, -0.6790,  0.0662, -1.6511,\n",
      "         -1.1090, -1.2587, -0.4179, -1.0544, -0.9139, -0.7798,  1.0082,  0.1441,\n",
      "         -1.5927, -0.9355,  0.8575,  0.5179, -1.3861, -0.4168,  0.6583, -0.9135]],\n",
      "       grad_fn=<MeanBackward1>)\n",
      "torch.Size([1, 88])\n"
     ]
    }
   ],
   "source": [
    "x = start_data\n",
    "for layer in [torch.nn.BatchNorm2d(1),\n",
    "    conv,\n",
    "    Patcher(),\n",
    "#     Flatten()\n",
    "#     Patcher(),\n",
    "    transformer_encoder,\n",
    "#         Flatten()\n",
    "#     layer_norm,\n",
    "#     bp,\n",
    "#         Flatten()\n",
    "#     drop,]:\n",
    "    Meaner(),\n",
    "             ]:\n",
    "    layer = layer.to(\"cpu\")\n",
    "    x = layer(x.to(\"cpu\"))\n",
    "    print(x)\n",
    "    print(x.shape)"
   ]
  },
  {
   "cell_type": "code",
   "execution_count": 91,
   "id": "9383e681",
   "metadata": {},
   "outputs": [
    {
     "data": {
      "text/plain": [
       "torch.Size([1, 88])"
      ]
     },
     "execution_count": 91,
     "metadata": {},
     "output_type": "execute_result"
    }
   ],
   "source": [
    "x.shape"
   ]
  },
  {
   "cell_type": "code",
   "execution_count": null,
   "id": "f9f58e1a",
   "metadata": {},
   "outputs": [],
   "source": []
  },
  {
   "cell_type": "code",
   "execution_count": 92,
   "id": "c4a805b2",
   "metadata": {},
   "outputs": [
    {
     "data": {
      "text/plain": [
       "torch.Size([1])"
      ]
     },
     "execution_count": 92,
     "metadata": {},
     "output_type": "execute_result"
    }
   ],
   "source": [
    "torch.mean(x, dim=1).shape"
   ]
  },
  {
   "cell_type": "code",
   "execution_count": null,
   "id": "8bb2a6b9",
   "metadata": {},
   "outputs": [],
   "source": []
  },
  {
   "cell_type": "code",
   "execution_count": 93,
   "id": "84ece3a2",
   "metadata": {},
   "outputs": [],
   "source": [
    "mod = nn.Sequential(\n",
    "    torch.nn.BatchNorm2d(1),\n",
    "    conv,\n",
    "    Patcher(),\n",
    "#     Flatten()\n",
    "#     Patcher(),\n",
    "    transformer_encoder,\n",
    "#         Flatten()\n",
    "#     layer_norm,\n",
    "#     bp,\n",
    "#         Flatten()\n",
    "#     drop,\n",
    "#     lined\n",
    ")"
   ]
  },
  {
   "cell_type": "code",
   "execution_count": 94,
   "id": "ad345db2",
   "metadata": {},
   "outputs": [],
   "source": [
    "# mod(start_data).shape"
   ]
  },
  {
   "cell_type": "code",
   "execution_count": 95,
   "id": "428401af",
   "metadata": {},
   "outputs": [],
   "source": [
    "model = mod"
   ]
  },
  {
   "cell_type": "code",
   "execution_count": 96,
   "id": "336b8ad4",
   "metadata": {},
   "outputs": [
    {
     "data": {
      "text/plain": [
       "2365756"
      ]
     },
     "execution_count": 96,
     "metadata": {},
     "output_type": "execute_result"
    }
   ],
   "source": [
    "sum(p.numel() for p in model.parameters())"
   ]
  },
  {
   "cell_type": "code",
   "execution_count": 97,
   "id": "2b000265",
   "metadata": {},
   "outputs": [],
   "source": [
    "heads = [nn.Sequential(nn.Linear(96, 1), nn.Sigmoid()) for i in range(15)]\n",
    "# heads = [nn.Sequential(nn.Linear(10688, 2), nn.Sigmoid()) for i in range(15)]\n",
    "# heads = [nn.Sequential(nn.Linear(10240, 2), nn.Sigmoid()) for i in range(15)]"
   ]
  },
  {
   "cell_type": "code",
   "execution_count": 98,
   "id": "2cb97333",
   "metadata": {},
   "outputs": [],
   "source": [
    "# heads[0](mod(start_data))"
   ]
  },
  {
   "cell_type": "markdown",
   "id": "e24580fe",
   "metadata": {},
   "source": [
    "## Try Training"
   ]
  },
  {
   "cell_type": "code",
   "execution_count": 99,
   "id": "499cd215",
   "metadata": {},
   "outputs": [],
   "source": [
    "from torch.utils.data import DataLoader\n",
    "# from transformers import AdamW\n",
    "import torch.optim as optim\n",
    "from tqdm import tqdm"
   ]
  },
  {
   "cell_type": "code",
   "execution_count": 102,
   "id": "ca37f25f",
   "metadata": {},
   "outputs": [],
   "source": [
    "# batch_size = 8\n",
    "batch_size = 16"
   ]
  },
  {
   "cell_type": "code",
   "execution_count": 103,
   "id": "9798c435",
   "metadata": {},
   "outputs": [],
   "source": [
    "train_dl = DataLoader(\n",
    "    train_dataset,\n",
    "    batch_size=batch_size,\n",
    "    shuffle=True,\n",
    "    num_workers=0,\n",
    "    collate_fn=None,\n",
    "    pin_memory=False,\n",
    " )\n",
    "\n",
    "test_dl = DataLoader(\n",
    "    test_dataset,\n",
    "    batch_size=1,\n",
    "    shuffle=False,\n",
    "    num_workers=0,\n",
    "    collate_fn=None,\n",
    "    pin_memory=False,\n",
    " )"
   ]
  },
  {
   "cell_type": "code",
   "execution_count": null,
   "id": "1cd3fb45",
   "metadata": {},
   "outputs": [],
   "source": []
  },
  {
   "cell_type": "code",
   "execution_count": 105,
   "id": "4975c9a3",
   "metadata": {},
   "outputs": [],
   "source": [
    "# conv = nn.Conv2d(1, 1, kernel_size=5, stride=(5, 1), padding=2)\n",
    "# conv = nn.Conv2d(1, 1, kernel_size=5, stride=(3, 1), padding=2, padding_mode=\"replicate\")\n",
    "conv = nn.Conv2d(1, 1, kernel_size=13, stride=(8, 1), padding=2, padding_mode=\"replicate\")\n",
    "d_model = 88\n",
    "encoder_layer = nn.TransformerEncoderLayer(d_model=d_model, nhead=8, batch_first=True)\n",
    "# encoder_layer = nn.TransformerEncoderLayer(d_model=96, nhead=8, batch_first=True)\n",
    "# encoder_layer = nn.TransformerEncoderLayer(d_model=96, nhead=2, batch_first=True)\n",
    "# transformer_encoder = nn.TransformerEncoder(encoder_layer, num_layers=6)\n",
    "# transformer_encoder = nn.TransformerEncoder(encoder_layer, num_layers=4)\n",
    "transformer_encoder = nn.TransformerEncoder(encoder_layer, num_layers=4)\n",
    "# transformer_encoder = nn.TransformerEncoder(encoder_layer, num_layers=3)\n",
    "layer_norm = nn.LayerNorm(d_model)\n",
    "\n",
    "# layer_norm = nn.LayerNorm(96)\n",
    "# bp = BertPooler(96)\n",
    "# drop = nn.Dropout(0.1)"
   ]
  },
  {
   "cell_type": "code",
   "execution_count": 106,
   "id": "d94371eb",
   "metadata": {},
   "outputs": [],
   "source": [
    "model = nn.Sequential(\n",
    "    torch.nn.BatchNorm2d(1),\n",
    "    conv,\n",
    "    Patcher(),\n",
    "    transformer_encoder,\n",
    "    Meaner(),\n",
    "#     layer_norm,\n",
    "#     bp,\n",
    "#     Flatten(),\n",
    "#     drop,\n",
    ")"
   ]
  },
  {
   "cell_type": "code",
   "execution_count": 107,
   "id": "1849024d",
   "metadata": {},
   "outputs": [],
   "source": [
    "# dim = 96\n",
    "dim = d_model\n",
    "# dim = 96 * 600\n",
    "# heads = [nn.Sequential(nn.Linear(96, 96), nn.ReLU(), nn.Linear(96, 1), nn.Sigmoid()) for i in range(15)]\n",
    "# heads = [nn.Sequential(nn.Linear(dim, 96), nn.ReLU(), nn.Linear(96, 1), nn.Sigmoid()) for i in range(15)]\n",
    "# heads = [nn.Sequential(nn.Linear(dim, 96), nn.ReLU(), nn.Linear(96, 1), nn.Sigmoid()) for i in range(15)]\n",
    "heads = [nn.Sequential(nn.Linear(dim, 1), nn.Sigmoid()) for i in range(15)]"
   ]
  },
  {
   "cell_type": "code",
   "execution_count": 108,
   "id": "1bc8d7f1",
   "metadata": {},
   "outputs": [
    {
     "data": {
      "text/plain": [
       "device(type='cuda')"
      ]
     },
     "execution_count": 108,
     "metadata": {},
     "output_type": "execute_result"
    }
   ],
   "source": [
    "device = torch.device('cuda') if torch.cuda.is_available() else torch.device('cpu')\n",
    "device"
   ]
  },
  {
   "cell_type": "code",
   "execution_count": 109,
   "id": "31a9e6d2",
   "metadata": {},
   "outputs": [],
   "source": [
    "# class_weights = torch.tensor([15]).to(device)"
   ]
  },
  {
   "cell_type": "code",
   "execution_count": 110,
   "id": "ca5c47ca",
   "metadata": {},
   "outputs": [],
   "source": [
    "# optimizer = optim.AdamW(model.parameters(), lr=1e-3)\n",
    "# optimizer = optim.AdamW(model.parameters(), lr=5e-3)\n",
    "# optimizer = optim.AdamW(model.parameters(), lr=1e-2)\n",
    "optimizer = optim.AdamW(model.parameters(), lr=1e-2)\n",
    "# criterion = nn.CrossEntropyLoss()\n",
    "criterion = nn.BCELoss()\n",
    "# criterion = nn.BCELoss(weight=class_weights)\n",
    "# losses = [nn.CrossEntropyLoss() for i in range(15)]"
   ]
  },
  {
   "cell_type": "code",
   "execution_count": null,
   "id": "6123ad9c",
   "metadata": {},
   "outputs": [],
   "source": []
  },
  {
   "cell_type": "code",
   "execution_count": 111,
   "id": "099a29d9",
   "metadata": {},
   "outputs": [],
   "source": [
    "def get_total_loss(model, dataloader):\n",
    "    total_loss = 0\n",
    "    for batch_idx, data in enumerate(dataloader):\n",
    "        inputs, labels = data['input'].to(device), data['labels'].to(device)\n",
    "\n",
    "        outputs = model(inputs)\n",
    "        per_head_outputs = [h(outputs) for h in heads]\n",
    "        \n",
    "        for i in range(15):\n",
    "            cur_loss = criterion(per_head_outputs[i].squeeze(1), labels[:,i].float())\n",
    "            total_loss += cur_loss\n",
    "    return total_loss.item()"
   ]
  },
  {
   "cell_type": "code",
   "execution_count": null,
   "id": "669ac31d",
   "metadata": {},
   "outputs": [],
   "source": []
  },
  {
   "cell_type": "code",
   "execution_count": 112,
   "id": "7745018c",
   "metadata": {},
   "outputs": [],
   "source": [
    "def get_mask(targs):\n",
    "    mask = []\n",
    "    for val in targs:\n",
    "        m = int(val) == 1 or random.random() < 0.05\n",
    "        mask.append(m)\n",
    "#     if sum(mask) == 0:\n",
    "# #         print(\"YIKES\")\n",
    "#         mask[0] = True\n",
    "    return mask"
   ]
  },
  {
   "cell_type": "code",
   "execution_count": 113,
   "id": "9c5407e1",
   "metadata": {},
   "outputs": [],
   "source": [
    "torch.cuda.empty_cache()"
   ]
  },
  {
   "cell_type": "code",
   "execution_count": 114,
   "id": "e3de3b38",
   "metadata": {},
   "outputs": [
    {
     "name": "stderr",
     "output_type": "stream",
     "text": [
      "100%|████████████████████████████████████████████████████████████████████████████████████████| 138/138 [00:34<00:00,  3.98it/s]\n"
     ]
    },
    {
     "name": "stdout",
     "output_type": "stream",
     "text": [
      "Epoch: 0; Loss: 1254.0187096595764; Test Loss: 7204.8623046875\n"
     ]
    },
    {
     "name": "stderr",
     "output_type": "stream",
     "text": [
      "100%|████████████████████████████████████████████████████████████████████████████████████████| 138/138 [00:30<00:00,  4.48it/s]\n"
     ]
    },
    {
     "name": "stdout",
     "output_type": "stream",
     "text": [
      "Epoch: 1; Loss: 1186.4349222183228; Test Loss: 8147.1689453125\n"
     ]
    },
    {
     "name": "stderr",
     "output_type": "stream",
     "text": [
      "100%|████████████████████████████████████████████████████████████████████████████████████████| 138/138 [00:31<00:00,  4.44it/s]\n"
     ]
    },
    {
     "name": "stdout",
     "output_type": "stream",
     "text": [
      "Epoch: 2; Loss: 1218.3740229606628; Test Loss: 7834.25927734375\n"
     ]
    },
    {
     "name": "stderr",
     "output_type": "stream",
     "text": [
      "100%|████████████████████████████████████████████████████████████████████████████████████████| 138/138 [00:30<00:00,  4.47it/s]\n"
     ]
    },
    {
     "name": "stdout",
     "output_type": "stream",
     "text": [
      "Epoch: 3; Loss: 1194.2649641036987; Test Loss: 7159.6904296875\n"
     ]
    },
    {
     "name": "stderr",
     "output_type": "stream",
     "text": [
      "100%|████████████████████████████████████████████████████████████████████████████████████████| 138/138 [00:30<00:00,  4.46it/s]\n"
     ]
    },
    {
     "name": "stdout",
     "output_type": "stream",
     "text": [
      "Epoch: 4; Loss: 1194.5830688476562; Test Loss: 7248.38037109375\n"
     ]
    },
    {
     "name": "stderr",
     "output_type": "stream",
     "text": [
      "100%|████████████████████████████████████████████████████████████████████████████████████████| 138/138 [00:30<00:00,  4.46it/s]\n"
     ]
    },
    {
     "name": "stdout",
     "output_type": "stream",
     "text": [
      "Epoch: 5; Loss: 1184.574514389038; Test Loss: 7736.1748046875\n"
     ]
    },
    {
     "name": "stderr",
     "output_type": "stream",
     "text": [
      "100%|████████████████████████████████████████████████████████████████████████████████████████| 138/138 [00:31<00:00,  4.45it/s]\n"
     ]
    },
    {
     "name": "stdout",
     "output_type": "stream",
     "text": [
      "Epoch: 6; Loss: 1183.2410616874695; Test Loss: 7481.02734375\n"
     ]
    },
    {
     "name": "stderr",
     "output_type": "stream",
     "text": [
      "100%|████████████████████████████████████████████████████████████████████████████████████████| 138/138 [00:30<00:00,  4.53it/s]\n"
     ]
    },
    {
     "name": "stdout",
     "output_type": "stream",
     "text": [
      "Epoch: 7; Loss: 1189.1163921356201; Test Loss: 7179.53857421875\n"
     ]
    },
    {
     "name": "stderr",
     "output_type": "stream",
     "text": [
      "100%|████████████████████████████████████████████████████████████████████████████████████████| 138/138 [00:30<00:00,  4.52it/s]\n"
     ]
    },
    {
     "name": "stdout",
     "output_type": "stream",
     "text": [
      "Epoch: 8; Loss: 1192.6483507156372; Test Loss: 7185.61669921875\n"
     ]
    },
    {
     "name": "stderr",
     "output_type": "stream",
     "text": [
      "100%|████████████████████████████████████████████████████████████████████████████████████████| 138/138 [00:32<00:00,  4.22it/s]\n"
     ]
    },
    {
     "name": "stdout",
     "output_type": "stream",
     "text": [
      "Epoch: 9; Loss: 1198.585114479065; Test Loss: 7392.9287109375\n"
     ]
    }
   ],
   "source": [
    "model = model.to(device)\n",
    "heads = [h.to(device) for h in heads]\n",
    "model.train()\n",
    "for h in heads:\n",
    "    h.train()\n",
    "    \n",
    "train_losses = []\n",
    "adjusted_train_losses = []\n",
    "test_losses = []\n",
    "for epoch in range(10):\n",
    "# for epoch in range(5):\n",
    "    total_loss = 0\n",
    "#     for batch in train_loader:\n",
    "    for batch_idx, data in tqdm(enumerate(train_dl), total=len(train_dl)):\n",
    "        these_losses = []\n",
    "        optimizer.zero_grad()\n",
    "        inputs, labels = data['input'].to(device), data['labels'].to(device)\n",
    "        outputs = model(inputs)\n",
    "        per_head_outputs = [h(outputs) for h in heads]\n",
    "        for i in range(15):\n",
    "            preds = per_head_outputs[i].squeeze(1)\n",
    "            targs = labels[:,i].float()\n",
    "            mask = get_mask(targs)\n",
    "            if sum(mask) == 0:\n",
    "                continue\n",
    "            cur_loss = criterion(preds[mask], targs[mask])\n",
    "            these_losses.append(cur_loss)\n",
    "\n",
    "        loss = sum(these_losses)\n",
    "        loss.backward()\n",
    "        optimizer.step()\n",
    "        # for bookkeeping\n",
    "        total_loss += loss.item()\n",
    "#     total_loss.backward()\n",
    "        \n",
    "#     total_loss += loss.item()\n",
    "#         break\n",
    "    with torch.no_grad():\n",
    "        train_total_loss = get_total_loss(model, train_dl)\n",
    "        test_loss = get_total_loss(model, test_dl)\n",
    "        adjusted = total_loss\n",
    "        train_losses.append(train_total_loss)\n",
    "        adjusted_train_losses.append(adjusted)\n",
    "        test_losses.append(test_loss)\n",
    "    #     print(f\"Epoch: {epoch}; Loss: {adjusted}; Total Loss: {train_total_loss}; Test Loss: {test_loss}\")\n",
    "        print(f\"Epoch: {epoch}; Loss: {adjusted}; Test Loss: {test_loss}\")\n",
    "\n",
    "model.eval()\n",
    "for h in heads:\n",
    "    h.eval()"
   ]
  },
  {
   "cell_type": "code",
   "execution_count": 115,
   "id": "486c6ea6",
   "metadata": {},
   "outputs": [],
   "source": [
    "# adjusted_train_losses = [l.item() for l in adjusted_train_losses]"
   ]
  },
  {
   "cell_type": "code",
   "execution_count": 116,
   "id": "962aafe6",
   "metadata": {},
   "outputs": [
    {
     "data": {
      "text/plain": [
       "(10, 10, 10)"
      ]
     },
     "execution_count": 116,
     "metadata": {},
     "output_type": "execute_result"
    }
   ],
   "source": [
    "len(train_losses), len(test_losses), len(adjusted_train_losses)"
   ]
  },
  {
   "cell_type": "code",
   "execution_count": 119,
   "id": "5ad46d49",
   "metadata": {},
   "outputs": [
    {
     "data": {
      "text/plain": [
       "<AxesSubplot:>"
      ]
     },
     "execution_count": 119,
     "metadata": {},
     "output_type": "execute_result"
    },
    {
     "data": {
      "image/png": "[encoded data removed]",
      "text/plain": [
       "<Figure size 1152x432 with 2 Axes>"
      ]
     },
     "metadata": {
      "needs_background": "light"
     },
     "output_type": "display_data"
    }
   ],
   "source": [
    "plt.figure(figsize=(16, 6))\n",
    "ranger = list(range(len(train_losses)))\n",
    "sns.lineplot(x=ranger, y=train_losses, label=\"total train loss\", alpha=0.5)\n",
    "# sns.lineplot(x=ranger, y=adjusted_train_losses, label=\"adjusted train loss\")\n",
    "ax2 = plt.twinx()\n",
    "sns.lineplot(x=ranger, y=test_losses, label=\"test loss\", ax=ax2, color=\"orange\", alpha=0.5)"
   ]
  },
  {
   "cell_type": "code",
   "execution_count": null,
   "id": "854bb54d",
   "metadata": {},
   "outputs": [],
   "source": []
  },
  {
   "cell_type": "code",
   "execution_count": 120,
   "id": "7fd81a16",
   "metadata": {},
   "outputs": [
    {
     "name": "stdout",
     "output_type": "stream",
     "text": [
      "0.13030852994555353\n",
      "1077 out of 8265\n",
      "Performance on positive labels\n",
      "0.9550173010380623\n",
      "552 out of 578\n",
      "WHAT IF WE JUST PREDICTED ZERO\n",
      "0.9300665456745312\n",
      "7687 out of 8265\n"
     ]
    }
   ],
   "source": [
    "model.eval()\n",
    "for h in heads:\n",
    "    h.eval()\n",
    "# In[ ]:\n",
    "\n",
    "res_per_head = {i:[] for i in range(15)}\n",
    "\n",
    "with torch.no_grad():\n",
    "#     a = model(dataset[2]['input'].to(device))\n",
    "    total_correct = 0\n",
    "    zero_correct = 0\n",
    "    total_values = 0\n",
    "    only_positives = [0, 0]\n",
    "    for batch_idx, data in enumerate(test_dl):\n",
    "        inputs, labels = data['input'].to(device), data['labels'].to(device)\n",
    "\n",
    "        outputs = model(inputs)\n",
    "        per_head_outputs = [h(outputs) for h in heads]\n",
    "        found_not_zero = [0 for i in per_head_outputs[0]]\n",
    "        \n",
    "        for i, per_example_for_head in enumerate(per_head_outputs):\n",
    "            for j, example_res in enumerate(per_example_for_head):\n",
    "                pred = int(example_res.item() >= 0.5)\n",
    "                target = int(labels[j, i])\n",
    "                res_per_head[i].append((example_res.item(), target))\n",
    "                total_correct += int(pred == target)\n",
    "                if target == 1:\n",
    "                    only_positives[0] += 1\n",
    "                    only_positives[1] += pred == target\n",
    "                if pred == 1:\n",
    "                    found_not_zero[j] = 1\n",
    "                zero_correct += int(0 == target)\n",
    "                total_values += 1\n",
    "        \n",
    "#         print(f\"NOT ZERO: {sum(found_not_zero)}\")\n",
    "        # print(outputs)\n",
    "        # outputs[outputs > 0] = 1\n",
    "        # outputs[outputs < 0] = 0\n",
    "        # total_correct += (labels == outputs.to('cpu')).sum()\n",
    "        # total_values += len(labels)\n",
    "\n",
    "print(total_correct / total_values)\n",
    "\n",
    "print(f\"{total_correct} out of {total_values}\")\n",
    "\n",
    "print(\"Performance on positive labels\")\n",
    "\n",
    "print(only_positives[1] / only_positives[0])\n",
    "\n",
    "print(f\"{only_positives[1]} out of {only_positives[0]}\")\n",
    "\n",
    "print(\"WHAT IF WE JUST PREDICTED ZERO\")\n",
    "\n",
    "print(zero_correct / total_values)\n",
    "\n",
    "print(f\"{zero_correct} out of {total_values}\")"
   ]
  },
  {
   "cell_type": "code",
   "execution_count": 121,
   "id": "54f881a3",
   "metadata": {},
   "outputs": [
    {
     "data": {
      "text/plain": [
       "35.0"
      ]
     },
     "execution_count": 121,
     "metadata": {},
     "output_type": "execute_result"
    }
   ],
   "source": [
    "525 / 15"
   ]
  },
  {
   "cell_type": "code",
   "execution_count": null,
   "id": "2c436114",
   "metadata": {},
   "outputs": [],
   "source": []
  },
  {
   "cell_type": "code",
   "execution_count": 122,
   "id": "a01619d9",
   "metadata": {},
   "outputs": [],
   "source": [
    "from sklearn import metrics"
   ]
  },
  {
   "cell_type": "code",
   "execution_count": null,
   "id": "3f48e715",
   "metadata": {},
   "outputs": [],
   "source": []
  },
  {
   "cell_type": "code",
   "execution_count": 123,
   "id": "70f64962",
   "metadata": {},
   "outputs": [
    {
     "name": "stdout",
     "output_type": "stream",
     "text": [
      "weight tensor([[ 0.0430, -0.0002, -0.0519, -0.0600,  0.1049, -0.0852,  0.0382,  0.0729,\n",
      "         -0.0337,  0.0986, -0.0898,  0.0637,  0.0519, -0.0064,  0.0021,  0.0749,\n",
      "          0.0511,  0.0297, -0.0018, -0.0565,  0.0255,  0.0057, -0.0138, -0.0029,\n",
      "          0.0500,  0.0984,  0.0042, -0.0113, -0.0532,  0.0769, -0.0678, -0.0208,\n",
      "          0.0221, -0.1040, -0.0656,  0.0839, -0.0196, -0.0557,  0.0983,  0.0834,\n",
      "         -0.0790, -0.0176, -0.0331,  0.0556,  0.0079, -0.0683,  0.0255,  0.0366,\n",
      "         -0.0043, -0.1007, -0.0959, -0.0951, -0.0475, -0.0916, -0.0656, -0.0565,\n",
      "          0.0717, -0.0980,  0.0328, -0.0573, -0.0080,  0.0975, -0.0717,  0.0838,\n",
      "         -0.0607,  0.0221,  0.0286,  0.0075, -0.0583, -0.0008, -0.0354,  0.0716,\n",
      "          0.0313, -0.0008,  0.0821, -0.0120,  0.0025, -0.0874,  0.0166,  0.0955,\n",
      "          0.0780,  0.0947,  0.0844,  0.0656,  0.0208, -0.0658, -0.0080, -0.0335]],\n",
      "       device='cuda:0')\n",
      "bias tensor([0.0308], device='cuda:0')\n"
     ]
    }
   ],
   "source": [
    "for name, param in heads[0][0].named_parameters():\n",
    "    if param.requires_grad:\n",
    "        print(name, param.data)"
   ]
  },
  {
   "cell_type": "code",
   "execution_count": 124,
   "id": "fff383e1",
   "metadata": {},
   "outputs": [
    {
     "name": "stdout",
     "output_type": "stream",
     "text": [
      "Head: 0; AUC: 0.5518895924020578\n",
      "Head: 1; AUC: 0.511941391941392\n",
      "Head: 2; AUC: 0.4268498168498168\n",
      "Head: 3; AUC: 0.45394528779253634\n",
      "Head: 4; AUC: 0.49393687707641193\n",
      "Head: 5; AUC: 0.46561042211855724\n",
      "Head: 6; AUC: 0.4953522504892368\n",
      "Head: 7; AUC: 0.4826457105435494\n",
      "Head: 8; AUC: 0.5066423425951914\n",
      "Head: 9; AUC: 0.49803149606299213\n",
      "Head: 10; AUC: 0.4836738782051282\n",
      "Head: 11; AUC: 0.5015212609970675\n",
      "Head: 12; AUC: 0.5187923457242263\n",
      "Head: 13; AUC: 0.4814069602801998\n",
      "Head: 14; AUC: 0.46870490620490624\n"
     ]
    }
   ],
   "source": [
    "for i in range(15):\n",
    "    res = res_per_head[i]\n",
    "    res = np.array(res)\n",
    "    preds = res[:,0]\n",
    "    targs = res[:,1]\n",
    "#     fpr, tpr, thresholds = metrics.roc_curve(targs, preds, pos_label=1)\n",
    "    fpr, tpr, thresholds = metrics.roc_curve(targs, preds, pos_label=1)\n",
    "    auc = metrics.auc(fpr, tpr)\n",
    "    print(f\"Head: {i}; AUC: {auc}\")"
   ]
  },
  {
   "cell_type": "code",
   "execution_count": 125,
   "id": "ac70c6ae",
   "metadata": {},
   "outputs": [
    {
     "data": {
      "text/plain": [
       "[(0.6174094080924988, 0),\n",
       " (0.6174095273017883, 0),\n",
       " (0.6174094676971436, 0),\n",
       " (0.6174094080924988, 0),\n",
       " (0.6174094080924988, 0),\n",
       " (0.6174094080924988, 0),\n",
       " (0.6174095869064331, 0),\n",
       " (0.6174094676971436, 0),\n",
       " (0.6174094080924988, 0),\n",
       " (0.6174092888832092, 0),\n",
       " (0.6174095869064331, 0),\n",
       " (0.6174094080924988, 0),\n",
       " (0.6174094676971436, 0),\n",
       " (0.6174094080924988, 0),\n",
       " (0.6174094080924988, 0),\n",
       " (0.6174095869064331, 0),\n",
       " (0.6174094080924988, 0),\n",
       " (0.617409348487854, 0),\n",
       " (0.6174094676971436, 0),\n",
       " (0.6174094080924988, 0),\n",
       " (0.6174094676971436, 0),\n",
       " (0.6174094080924988, 0),\n",
       " (0.6174094080924988, 0),\n",
       " (0.6174094676971436, 0),\n",
       " (0.6174094080924988, 0),\n",
       " (0.6174094080924988, 0),\n",
       " (0.6174094080924988, 0),\n",
       " (0.6174094080924988, 0),\n",
       " (0.6174092888832092, 0),\n",
       " (0.6174094080924988, 0),\n",
       " (0.6174095273017883, 0),\n",
       " (0.6174094080924988, 0),\n",
       " (0.6174094676971436, 0),\n",
       " (0.6174094080924988, 0),\n",
       " (0.6174094676971436, 0),\n",
       " (0.6174095273017883, 0),\n",
       " (0.6174095869064331, 0),\n",
       " (0.6174095869064331, 0),\n",
       " (0.6174094080924988, 0),\n",
       " (0.6174094080924988, 0),\n",
       " (0.6174094676971436, 0),\n",
       " (0.6174094080924988, 0),\n",
       " (0.6174094676971436, 0),\n",
       " (0.6174095273017883, 0),\n",
       " (0.6174094080924988, 0),\n",
       " (0.6174095869064331, 0),\n",
       " (0.6174094080924988, 0),\n",
       " (0.6174094676971436, 1),\n",
       " (0.6174094080924988, 1),\n",
       " (0.6174094080924988, 1),\n",
       " (0.6174095273017883, 1),\n",
       " (0.6174094080924988, 0),\n",
       " (0.6174094676971436, 1),\n",
       " (0.6174094080924988, 0),\n",
       " (0.6174094080924988, 0),\n",
       " (0.6174095869064331, 0),\n",
       " (0.6174095273017883, 0),\n",
       " (0.6174094080924988, 0),\n",
       " (0.6174095869064331, 0),\n",
       " (0.6174094080924988, 0),\n",
       " (0.6174095273017883, 1),\n",
       " (0.6174095869064331, 0),\n",
       " (0.6174094080924988, 0),\n",
       " (0.6174092888832092, 0),\n",
       " (0.617409348487854, 0),\n",
       " (0.6174094080924988, 0),\n",
       " (0.6174095273017883, 0),\n",
       " (0.6174094080924988, 0),\n",
       " (0.6174094080924988, 0),\n",
       " (0.6174094080924988, 0),\n",
       " (0.6174095273017883, 0),\n",
       " (0.6174094080924988, 1),\n",
       " (0.6174095273017883, 0),\n",
       " (0.6174094080924988, 0),\n",
       " (0.6174095869064331, 0),\n",
       " (0.6174095869064331, 0),\n",
       " (0.6174095869064331, 0),\n",
       " (0.6174094080924988, 0),\n",
       " (0.6174094080924988, 0),\n",
       " (0.6174095273017883, 0),\n",
       " (0.6174094676971436, 0),\n",
       " (0.6174095869064331, 0),\n",
       " (0.6174095869064331, 0),\n",
       " (0.6174094676971436, 0),\n",
       " (0.6174094676971436, 1),\n",
       " (0.6174094080924988, 0),\n",
       " (0.6174094080924988, 0),\n",
       " (0.6174092888832092, 0),\n",
       " (0.6174094080924988, 0),\n",
       " (0.6174095273017883, 0),\n",
       " (0.6174095273017883, 0),\n",
       " (0.6174094080924988, 0),\n",
       " (0.6174095273017883, 0),\n",
       " (0.6174094080924988, 0),\n",
       " (0.6174094080924988, 0),\n",
       " (0.6174094676971436, 0),\n",
       " (0.6174094080924988, 0),\n",
       " (0.6174094080924988, 0),\n",
       " (0.6174094676971436, 0),\n",
       " (0.6174094676971436, 0),\n",
       " (0.6174095869064331, 0),\n",
       " (0.617409348487854, 0),\n",
       " (0.6174094080924988, 0),\n",
       " (0.6174094080924988, 0),\n",
       " (0.617409348487854, 0),\n",
       " (0.6174094080924988, 0),\n",
       " (0.6174094080924988, 0),\n",
       " (0.6174094676971436, 0),\n",
       " (0.6174094080924988, 0),\n",
       " (0.6174094080924988, 1),\n",
       " (0.6174094080924988, 0),\n",
       " (0.6174095273017883, 0),\n",
       " (0.6174095869064331, 0),\n",
       " (0.6174094080924988, 0),\n",
       " (0.6174094080924988, 0),\n",
       " (0.6174094080924988, 0),\n",
       " (0.6174095273017883, 0),\n",
       " (0.6174094080924988, 0),\n",
       " (0.6174094080924988, 0),\n",
       " (0.6174095869064331, 0),\n",
       " (0.6174094080924988, 0),\n",
       " (0.6174094080924988, 0),\n",
       " (0.6174094080924988, 1),\n",
       " (0.6174092888832092, 1),\n",
       " (0.6174094080924988, 1),\n",
       " (0.6174094676971436, 0),\n",
       " (0.6174095273017883, 0),\n",
       " (0.6174094676971436, 0),\n",
       " (0.6174095273017883, 0),\n",
       " (0.6174095869064331, 0),\n",
       " (0.6174094676971436, 0),\n",
       " (0.6174095869064331, 0),\n",
       " (0.6174094080924988, 0),\n",
       " (0.6174094676971436, 0),\n",
       " (0.617409348487854, 0),\n",
       " (0.617409348487854, 0),\n",
       " (0.617409348487854, 0),\n",
       " (0.6174094080924988, 0),\n",
       " (0.6174094080924988, 0),\n",
       " (0.6174095273017883, 0),\n",
       " (0.6174094676971436, 0),\n",
       " (0.6174094080924988, 1),\n",
       " (0.6174095869064331, 0),\n",
       " (0.6174095869064331, 0),\n",
       " (0.6174094080924988, 0),\n",
       " (0.6174095869064331, 0),\n",
       " (0.6174094080924988, 1),\n",
       " (0.6174094080924988, 0),\n",
       " (0.6174095273017883, 0),\n",
       " (0.6174095273017883, 0),\n",
       " (0.6174094080924988, 0),\n",
       " (0.6174094080924988, 0),\n",
       " (0.6174092888832092, 0),\n",
       " (0.6174095273017883, 0),\n",
       " (0.6174095273017883, 0),\n",
       " (0.6174095273017883, 0),\n",
       " (0.6174094080924988, 0),\n",
       " (0.6174094676971436, 0),\n",
       " (0.6174094080924988, 0),\n",
       " (0.6174095869064331, 0),\n",
       " (0.6174095273017883, 0),\n",
       " (0.6174095273017883, 0),\n",
       " (0.6174095869064331, 0),\n",
       " (0.6174094080924988, 0),\n",
       " (0.6174094080924988, 0),\n",
       " (0.6174094080924988, 0),\n",
       " (0.6174094676971436, 0),\n",
       " (0.6174095273017883, 0),\n",
       " (0.6174095273017883, 0),\n",
       " (0.6174095273017883, 0),\n",
       " (0.6174095869064331, 0),\n",
       " (0.6174095869064331, 0),\n",
       " (0.6174094080924988, 0),\n",
       " (0.6174095869064331, 0),\n",
       " (0.6174094080924988, 0),\n",
       " (0.6174094676971436, 0),\n",
       " (0.6174094080924988, 0),\n",
       " (0.6174094080924988, 0),\n",
       " (0.6174095273017883, 0),\n",
       " (0.6174094080924988, 0),\n",
       " (0.6174095869064331, 0),\n",
       " (0.6174094676971436, 0),\n",
       " (0.6174094080924988, 0),\n",
       " (0.6174095273017883, 0),\n",
       " (0.6174095273017883, 0),\n",
       " (0.6174094080924988, 0),\n",
       " (0.6174094080924988, 0),\n",
       " (0.6174094080924988, 0),\n",
       " (0.6174095869064331, 0),\n",
       " (0.6174094080924988, 0),\n",
       " (0.6174094080924988, 0),\n",
       " (0.617409348487854, 0),\n",
       " (0.6174095869064331, 1),\n",
       " (0.6174095273017883, 0),\n",
       " (0.6174094080924988, 0),\n",
       " (0.6174094080924988, 0),\n",
       " (0.6174094080924988, 0),\n",
       " (0.6174094080924988, 0),\n",
       " (0.6174094080924988, 0),\n",
       " (0.6174095869064331, 0),\n",
       " (0.6174095273017883, 0),\n",
       " (0.6174095869064331, 0),\n",
       " (0.6174094676971436, 0),\n",
       " (0.6174094080924988, 0),\n",
       " (0.6174095869064331, 1),\n",
       " (0.6174094080924988, 0),\n",
       " (0.6174094080924988, 0),\n",
       " (0.6174094080924988, 0),\n",
       " (0.6174094080924988, 0),\n",
       " (0.6174094080924988, 0),\n",
       " (0.6174094080924988, 0),\n",
       " (0.6174095273017883, 0),\n",
       " (0.6174094080924988, 0),\n",
       " (0.6174094080924988, 0),\n",
       " (0.6174094080924988, 0),\n",
       " (0.6174095869064331, 0),\n",
       " (0.6174094676971436, 0),\n",
       " (0.6174095273017883, 0),\n",
       " (0.6174094080924988, 0),\n",
       " (0.6174095273017883, 0),\n",
       " (0.6174095273017883, 0),\n",
       " (0.6174094080924988, 0),\n",
       " (0.6174094676971436, 1),\n",
       " (0.6174094080924988, 0),\n",
       " (0.6174094080924988, 0),\n",
       " (0.6174095273017883, 0),\n",
       " (0.6174095869064331, 0),\n",
       " (0.6174094676971436, 0),\n",
       " (0.6174094080924988, 0),\n",
       " (0.6174094676971436, 0),\n",
       " (0.6174095273017883, 0),\n",
       " (0.6174094080924988, 0),\n",
       " (0.6174095869064331, 0),\n",
       " (0.6174094080924988, 0),\n",
       " (0.6174094676971436, 0),\n",
       " (0.6174094676971436, 0),\n",
       " (0.6174094080924988, 0),\n",
       " (0.6174094080924988, 0),\n",
       " (0.6174095273017883, 0),\n",
       " (0.6174094080924988, 0),\n",
       " (0.6174094080924988, 0),\n",
       " (0.6174094080924988, 0),\n",
       " (0.6174094080924988, 0),\n",
       " (0.6174094080924988, 0),\n",
       " (0.6174094676971436, 0),\n",
       " (0.6174094080924988, 0),\n",
       " (0.6174094676971436, 0),\n",
       " (0.617409348487854, 1),\n",
       " (0.617409348487854, 1),\n",
       " (0.6174094080924988, 0),\n",
       " (0.6174094080924988, 0),\n",
       " (0.617409348487854, 0),\n",
       " (0.6174094080924988, 0),\n",
       " (0.6174094676971436, 0),\n",
       " (0.6174094080924988, 0),\n",
       " (0.6174094080924988, 0),\n",
       " (0.6174092888832092, 0),\n",
       " (0.6174094080924988, 0),\n",
       " (0.6174094080924988, 0),\n",
       " (0.6174094080924988, 0),\n",
       " (0.6174094080924988, 0),\n",
       " (0.6174094080924988, 0),\n",
       " (0.6174095273017883, 0),\n",
       " (0.6174094080924988, 0),\n",
       " (0.6174094676971436, 0),\n",
       " (0.6174094080924988, 1),\n",
       " (0.6174094080924988, 0),\n",
       " (0.6174094080924988, 0),\n",
       " (0.6174094080924988, 0),\n",
       " (0.6174094080924988, 0),\n",
       " (0.6174094676971436, 0),\n",
       " (0.6174094080924988, 0),\n",
       " (0.6174094676971436, 0),\n",
       " (0.6174094080924988, 1),\n",
       " (0.6174095273017883, 0),\n",
       " (0.6174095273017883, 0),\n",
       " (0.617409348487854, 0),\n",
       " (0.6174094676971436, 0),\n",
       " (0.6174094080924988, 0),\n",
       " (0.6174094080924988, 0),\n",
       " (0.6174094080924988, 0),\n",
       " (0.6174094080924988, 0),\n",
       " (0.6174095273017883, 0),\n",
       " (0.6174094080924988, 0),\n",
       " (0.6174095869064331, 0),\n",
       " (0.6174094676971436, 0),\n",
       " (0.6174094080924988, 0),\n",
       " (0.6174095869064331, 0),\n",
       " (0.6174094080924988, 0),\n",
       " (0.6174094080924988, 0),\n",
       " (0.6174094080924988, 0),\n",
       " (0.6174095869064331, 0),\n",
       " (0.6174095869064331, 0),\n",
       " (0.6174094676971436, 1),\n",
       " (0.6174094080924988, 0),\n",
       " (0.6174094080924988, 1),\n",
       " (0.617409348487854, 0),\n",
       " (0.6174095869064331, 0),\n",
       " (0.6174094080924988, 0),\n",
       " (0.6174094080924988, 0),\n",
       " (0.6174094080924988, 0),\n",
       " (0.6174094676971436, 0),\n",
       " (0.6174094080924988, 0),\n",
       " (0.6174094080924988, 0),\n",
       " (0.6174094676971436, 1),\n",
       " (0.6174094080924988, 0),\n",
       " (0.6174094080924988, 0),\n",
       " (0.6174095273017883, 0),\n",
       " (0.6174094676971436, 0),\n",
       " (0.6174094080924988, 0),\n",
       " (0.6174094080924988, 0),\n",
       " (0.6174094080924988, 0),\n",
       " (0.6174094080924988, 0),\n",
       " (0.6174094080924988, 0),\n",
       " (0.6174094080924988, 0),\n",
       " (0.6174094080924988, 0),\n",
       " (0.6174094080924988, 0),\n",
       " (0.6174094080924988, 0),\n",
       " (0.6174094080924988, 0),\n",
       " (0.6174094080924988, 0),\n",
       " (0.6174094676971436, 0),\n",
       " (0.617409348487854, 0),\n",
       " (0.6174094080924988, 0),\n",
       " (0.6174094080924988, 0),\n",
       " (0.6174094080924988, 0),\n",
       " (0.6174094676971436, 0),\n",
       " (0.6174095273017883, 0),\n",
       " (0.6174094676971436, 0),\n",
       " (0.6174094080924988, 0),\n",
       " (0.6174094676971436, 0),\n",
       " (0.6174094676971436, 0),\n",
       " (0.617409348487854, 0),\n",
       " (0.6174094080924988, 0),\n",
       " (0.6174094080924988, 0),\n",
       " (0.617409348487854, 0),\n",
       " (0.6174094676971436, 0),\n",
       " (0.6174095869064331, 0),\n",
       " (0.6174094080924988, 0),\n",
       " (0.6174095273017883, 0),\n",
       " (0.6174094676971436, 0),\n",
       " (0.617409348487854, 1),\n",
       " (0.6174095869064331, 1),\n",
       " (0.6174094676971436, 0),\n",
       " (0.6174095273017883, 1),\n",
       " (0.6174094676971436, 0),\n",
       " (0.6174095869064331, 0),\n",
       " (0.6174094080924988, 1),\n",
       " (0.6174094080924988, 0),\n",
       " (0.6174095273017883, 0),\n",
       " (0.6174095273017883, 0),\n",
       " (0.6174095869064331, 0),\n",
       " (0.6174094080924988, 0),\n",
       " (0.6174094080924988, 0),\n",
       " (0.6174094080924988, 0),\n",
       " (0.6174094080924988, 0),\n",
       " (0.6174095273017883, 0),\n",
       " (0.6174095273017883, 0),\n",
       " (0.6174095273017883, 1),\n",
       " (0.6174095869064331, 0),\n",
       " (0.6174094080924988, 0),\n",
       " (0.6174094080924988, 0),\n",
       " (0.6174095869064331, 0),\n",
       " (0.6174094080924988, 0),\n",
       " (0.6174094080924988, 1),\n",
       " (0.6174094080924988, 0),\n",
       " (0.6174092888832092, 0),\n",
       " (0.6174094080924988, 0),\n",
       " (0.6174094080924988, 0),\n",
       " (0.6174095869064331, 0),\n",
       " (0.6174094080924988, 0),\n",
       " (0.6174094676971436, 0),\n",
       " (0.6174094080924988, 0),\n",
       " (0.6174094080924988, 0),\n",
       " (0.6174094080924988, 0),\n",
       " (0.6174095273017883, 0),\n",
       " (0.6174094080924988, 0),\n",
       " (0.617409348487854, 0),\n",
       " (0.6174094080924988, 0),\n",
       " (0.6174095869064331, 0),\n",
       " (0.6174094080924988, 0),\n",
       " (0.6174095273017883, 0),\n",
       " (0.6174095869064331, 0),\n",
       " (0.6174094080924988, 0),\n",
       " (0.6174094676971436, 0),\n",
       " (0.6174094080924988, 0),\n",
       " (0.6174094676971436, 0),\n",
       " (0.6174094080924988, 0),\n",
       " (0.6174094080924988, 0),\n",
       " (0.6174095273017883, 0),\n",
       " (0.6174094080924988, 0),\n",
       " (0.6174095273017883, 0),\n",
       " (0.6174095273017883, 0),\n",
       " (0.6174094080924988, 0),\n",
       " (0.6174094676971436, 0),\n",
       " (0.6174094080924988, 0),\n",
       " (0.6174094676971436, 0),\n",
       " (0.6174094676971436, 0),\n",
       " (0.6174094080924988, 0),\n",
       " (0.6174094080924988, 0),\n",
       " (0.6174094080924988, 0),\n",
       " (0.6174094676971436, 0),\n",
       " (0.6174095273017883, 0),\n",
       " (0.6174094080924988, 0),\n",
       " (0.6174095273017883, 0),\n",
       " (0.6174094080924988, 0),\n",
       " (0.6174095869064331, 0),\n",
       " (0.6174094080924988, 0),\n",
       " (0.6174094080924988, 1),\n",
       " (0.6174094080924988, 0),\n",
       " (0.6174094676971436, 0),\n",
       " (0.6174094080924988, 0),\n",
       " (0.617409348487854, 0),\n",
       " (0.6174094676971436, 0),\n",
       " (0.6174094080924988, 0),\n",
       " (0.6174094080924988, 0),\n",
       " (0.6174095869064331, 0),\n",
       " (0.6174094080924988, 0),\n",
       " (0.6174095869064331, 0),\n",
       " (0.6174094080924988, 0),\n",
       " (0.6174094080924988, 0),\n",
       " (0.6174094080924988, 0),\n",
       " (0.617409348487854, 0),\n",
       " (0.6174095273017883, 0),\n",
       " (0.6174094080924988, 0),\n",
       " (0.6174095273017883, 0),\n",
       " (0.6174094080924988, 0),\n",
       " (0.6174094080924988, 0),\n",
       " (0.6174094080924988, 0),\n",
       " (0.6174092888832092, 0),\n",
       " (0.6174095869064331, 0),\n",
       " (0.6174094080924988, 0),\n",
       " (0.6174094080924988, 0),\n",
       " (0.6174094080924988, 0),\n",
       " (0.617409348487854, 1),\n",
       " (0.6174094080924988, 0),\n",
       " (0.6174094080924988, 0),\n",
       " (0.6174095273017883, 0),\n",
       " (0.6174094080924988, 0),\n",
       " (0.6174094080924988, 0),\n",
       " (0.6174094080924988, 0),\n",
       " (0.617409348487854, 0),\n",
       " (0.6174094080924988, 0),\n",
       " (0.6174094080924988, 0),\n",
       " (0.617409348487854, 0),\n",
       " (0.6174094080924988, 0),\n",
       " (0.6174094080924988, 0),\n",
       " (0.6174094080924988, 0),\n",
       " (0.6174095273017883, 0),\n",
       " (0.617409348487854, 0),\n",
       " (0.6174094080924988, 0),\n",
       " (0.6174094080924988, 0),\n",
       " (0.6174095869064331, 0),\n",
       " (0.6174094080924988, 0),\n",
       " (0.6174094080924988, 0),\n",
       " (0.6174094676971436, 0),\n",
       " (0.6174094080924988, 0),\n",
       " (0.6174095869064331, 0),\n",
       " (0.6174094080924988, 0),\n",
       " (0.6174094676971436, 0),\n",
       " (0.6174095869064331, 0),\n",
       " (0.6174095273017883, 0),\n",
       " (0.6174094080924988, 0),\n",
       " (0.6174094080924988, 0),\n",
       " (0.6174094676971436, 0),\n",
       " (0.6174094676971436, 0),\n",
       " (0.6174095869064331, 0),\n",
       " (0.6174094080924988, 0),\n",
       " (0.6174094080924988, 0),\n",
       " (0.6174094080924988, 0),\n",
       " (0.6174094676971436, 0),\n",
       " (0.6174095869064331, 0),\n",
       " (0.6174095869064331, 0),\n",
       " (0.6174095273017883, 0),\n",
       " (0.6174094080924988, 0),\n",
       " (0.6174094080924988, 0),\n",
       " (0.6174095273017883, 0),\n",
       " (0.6174094676971436, 0),\n",
       " (0.6174094080924988, 0),\n",
       " (0.6174094080924988, 0),\n",
       " (0.6174095273017883, 0),\n",
       " (0.6174095869064331, 0),\n",
       " (0.6174094080924988, 0),\n",
       " (0.6174094080924988, 0),\n",
       " (0.6174095273017883, 0),\n",
       " (0.6174095273017883, 0),\n",
       " (0.6174094676971436, 0),\n",
       " (0.6174094080924988, 0),\n",
       " (0.6174094676971436, 1),\n",
       " (0.6174095869064331, 0),\n",
       " (0.6174095869064331, 0),\n",
       " (0.6174094080924988, 0),\n",
       " (0.6174095869064331, 0),\n",
       " (0.6174094080924988, 0),\n",
       " (0.6174095273017883, 0),\n",
       " (0.6174094676971436, 0),\n",
       " (0.6174094080924988, 0),\n",
       " (0.6174094676971436, 0),\n",
       " (0.6174095869064331, 0),\n",
       " (0.6174094676971436, 0),\n",
       " (0.6174094080924988, 0),\n",
       " (0.6174094080924988, 0),\n",
       " (0.6174094080924988, 0),\n",
       " (0.617409348487854, 0),\n",
       " (0.6174095273017883, 0),\n",
       " (0.6174094080924988, 0),\n",
       " (0.6174094080924988, 0),\n",
       " (0.6174094080924988, 0),\n",
       " (0.6174094676971436, 0),\n",
       " (0.6174094080924988, 0),\n",
       " (0.6174094676971436, 1),\n",
       " (0.6174094676971436, 0),\n",
       " (0.6174094676971436, 0),\n",
       " (0.6174095273017883, 0),\n",
       " (0.6174094080924988, 0),\n",
       " (0.617409348487854, 0),\n",
       " (0.6174095869064331, 0),\n",
       " (0.6174094080924988, 0),\n",
       " (0.6174095869064331, 0),\n",
       " (0.6174094080924988, 0),\n",
       " (0.6174094080924988, 0),\n",
       " (0.6174094080924988, 0),\n",
       " (0.6174095273017883, 0),\n",
       " (0.6174094080924988, 0),\n",
       " (0.6174094080924988, 0),\n",
       " (0.6174094080924988, 0),\n",
       " (0.6174095273017883, 0),\n",
       " (0.6174095869064331, 0),\n",
       " (0.6174094080924988, 0),\n",
       " (0.6174094080924988, 0),\n",
       " (0.6174095869064331, 0),\n",
       " (0.6174095273017883, 0),\n",
       " (0.6174094080924988, 0),\n",
       " (0.6174094080924988, 0),\n",
       " (0.6174094080924988, 0),\n",
       " (0.6174094080924988, 0),\n",
       " (0.6174094080924988, 0),\n",
       " (0.6174095869064331, 0),\n",
       " (0.6174094676971436, 0),\n",
       " (0.6174094080924988, 0),\n",
       " (0.6174094080924988, 0),\n",
       " (0.6174095273017883, 0),\n",
       " (0.6174094080924988, 0),\n",
       " (0.6174095273017883, 0),\n",
       " (0.6174094080924988, 0),\n",
       " (0.6174094080924988, 0),\n",
       " (0.6174095273017883, 0),\n",
       " (0.6174094080924988, 0),\n",
       " (0.6174094080924988, 0),\n",
       " (0.6174094676971436, 0),\n",
       " (0.6174094080924988, 0),\n",
       " (0.6174094080924988, 0)]"
      ]
     },
     "execution_count": 125,
     "metadata": {},
     "output_type": "execute_result"
    }
   ],
   "source": [
    "res_per_head[5]"
   ]
  },
  {
   "cell_type": "code",
   "execution_count": 126,
   "id": "1c527b7b",
   "metadata": {},
   "outputs": [
    {
     "data": {
      "text/plain": [
       "array([0.63077128, 0.63077122, 0.63077128, 0.63077128, 0.63077128,\n",
       "       0.63077128, 0.63077122, 0.63077128, 0.63077128, 0.63077128,\n",
       "       0.63077116, 0.63077128, 0.63077122, 0.63077128, 0.63077128,\n",
       "       0.63077122, 0.63077128, 0.63077128, 0.63077128, 0.63077128,\n",
       "       0.63077122, 0.63077128, 0.63077128, 0.63077128, 0.63077128,\n",
       "       0.63077128, 0.63077128, 0.63077128, 0.63077128, 0.63077128,\n",
       "       0.63077122, 0.63077128, 0.63077122, 0.63077128, 0.63077122,\n",
       "       0.63077122, 0.63077116, 0.63077122, 0.63077128, 0.63077128,\n",
       "       0.63077122, 0.63077128, 0.63077128, 0.63077128, 0.63077128,\n",
       "       0.63077116, 0.63077128, 0.63077128, 0.63077128, 0.63077128,\n",
       "       0.63077128, 0.63077128, 0.63077122, 0.63077128, 0.63077128,\n",
       "       0.63077128, 0.63077116, 0.63077128, 0.63077122, 0.63077128,\n",
       "       0.63077122, 0.63077122, 0.63077128, 0.63077128, 0.63077128,\n",
       "       0.63077128, 0.63077122, 0.63077128, 0.63077128, 0.63077128,\n",
       "       0.63077128, 0.63077128, 0.63077122, 0.63077128, 0.63077116,\n",
       "       0.63077116, 0.63077116, 0.63077128, 0.63077128, 0.63077128,\n",
       "       0.63077122, 0.63077122, 0.63077116, 0.63077122, 0.63077128,\n",
       "       0.63077128, 0.63077128, 0.63077128, 0.63077128, 0.63077122,\n",
       "       0.63077122, 0.63077128, 0.63077116, 0.63077128, 0.63077128,\n",
       "       0.63077128, 0.63077128, 0.63077128, 0.63077128, 0.63077128,\n",
       "       0.63077116, 0.63077128, 0.63077128, 0.63077128, 0.63077128,\n",
       "       0.63077128, 0.63077122, 0.63077128, 0.63077128, 0.63077128,\n",
       "       0.63077128, 0.63077122, 0.63077122, 0.63077128, 0.63077128,\n",
       "       0.63077128, 0.63077122, 0.63077128, 0.63077128, 0.63077116,\n",
       "       0.63077128, 0.63077128, 0.63077128, 0.63077128, 0.63077128,\n",
       "       0.63077128, 0.63077122, 0.63077122, 0.63077122, 0.63077116,\n",
       "       0.63077128, 0.63077116, 0.63077128, 0.63077122, 0.63077128,\n",
       "       0.63077128, 0.63077128, 0.63077128, 0.63077128, 0.63077122,\n",
       "       0.63077128, 0.63077128, 0.63077122, 0.63077122, 0.63077128,\n",
       "       0.63077116, 0.63077128, 0.63077128, 0.63077128, 0.63077128,\n",
       "       0.63077128, 0.63077128, 0.63077128, 0.63077122, 0.63077122,\n",
       "       0.63077122, 0.63077122, 0.63077122, 0.63077128, 0.63077122,\n",
       "       0.63077128, 0.63077122, 0.63077116, 0.63077128, 0.63077128,\n",
       "       0.63077128, 0.63077128, 0.63077122, 0.63077128, 0.63077128,\n",
       "       0.63077116, 0.63077122, 0.63077128, 0.63077116, 0.63077128,\n",
       "       0.63077122, 0.63077128, 0.63077128, 0.63077128, 0.63077128,\n",
       "       0.63077122, 0.63077128, 0.63077128, 0.63077122, 0.63077122,\n",
       "       0.63077128, 0.63077128, 0.63077122, 0.63077116, 0.63077128,\n",
       "       0.63077128, 0.63077128, 0.63077116, 0.63077122, 0.63077128,\n",
       "       0.63077128, 0.63077128, 0.63077128, 0.63077122, 0.63077122,\n",
       "       0.63077128, 0.63077122, 0.63077122, 0.63077128, 0.63077116,\n",
       "       0.63077128, 0.63077128, 0.63077128, 0.63077128, 0.63077128,\n",
       "       0.63077128, 0.63077122, 0.63077128, 0.63077128, 0.63077128,\n",
       "       0.63077122, 0.63077122, 0.63077122, 0.63077128, 0.63077122,\n",
       "       0.63077122, 0.63077128, 0.63077128, 0.63077128, 0.63077128,\n",
       "       0.63077128, 0.63077122, 0.63077122, 0.63077128, 0.63077128,\n",
       "       0.63077128, 0.63077128, 0.63077122, 0.63077128, 0.63077128,\n",
       "       0.63077128, 0.63077128, 0.63077128, 0.63077122, 0.63077128,\n",
       "       0.63077128, 0.63077122, 0.63077128, 0.63077128, 0.63077122,\n",
       "       0.63077128, 0.63077122, 0.63077128, 0.63077128, 0.63077128,\n",
       "       0.63077128, 0.63077128, 0.63077128, 0.63077128, 0.63077128,\n",
       "       0.63077128, 0.63077128, 0.63077128, 0.63077128, 0.63077128,\n",
       "       0.63077128, 0.63077128, 0.63077122, 0.63077128, 0.63077122,\n",
       "       0.63077128, 0.63077128, 0.63077128, 0.63077128, 0.63077128,\n",
       "       0.63077122, 0.63077128, 0.63077128, 0.63077128, 0.63077122,\n",
       "       0.63077128, 0.63077128, 0.63077122, 0.63077128, 0.63077128,\n",
       "       0.63077128, 0.63077128, 0.63077122, 0.63077128, 0.63077116,\n",
       "       0.63077122, 0.63077128, 0.63077122, 0.63077128, 0.63077128,\n",
       "       0.63077128, 0.63077116, 0.63077116, 0.63077122, 0.63077128,\n",
       "       0.63077128, 0.63077128, 0.63077116, 0.63077128, 0.63077122,\n",
       "       0.63077122, 0.63077122, 0.63077128, 0.63077128, 0.63077122,\n",
       "       0.63077128, 0.63077128, 0.63077122, 0.63077122, 0.63077128,\n",
       "       0.63077128, 0.63077128, 0.63077128, 0.63077128, 0.63077128,\n",
       "       0.63077128, 0.63077128, 0.63077128, 0.63077128, 0.63077128,\n",
       "       0.63077128, 0.63077128, 0.63077128, 0.63077128, 0.63077128,\n",
       "       0.63077122, 0.63077122, 0.63077128, 0.63077128, 0.63077128,\n",
       "       0.63077128, 0.63077128, 0.63077128, 0.63077122, 0.63077128,\n",
       "       0.63077128, 0.63077122, 0.63077128, 0.63077122, 0.63077128,\n",
       "       0.63077128, 0.63077116, 0.63077128, 0.63077128, 0.63077122,\n",
       "       0.63077122, 0.63077128, 0.63077128, 0.63077122, 0.63077116,\n",
       "       0.63077116, 0.63077128, 0.63077128, 0.63077128, 0.63077128,\n",
       "       0.63077128, 0.63077122, 0.63077122, 0.63077122, 0.63077128,\n",
       "       0.63077128, 0.63077116, 0.63077128, 0.63077128, 0.63077128,\n",
       "       0.63077128, 0.63077128, 0.63077128, 0.63077122, 0.63077128,\n",
       "       0.63077128, 0.63077128, 0.63077128, 0.63077128, 0.63077128,\n",
       "       0.63077128, 0.63077128, 0.63077128, 0.63077128, 0.63077128,\n",
       "       0.63077128, 0.6307711 , 0.63077128, 0.63077122, 0.63077128,\n",
       "       0.63077122, 0.63077128, 0.63077128, 0.63077128, 0.63077128,\n",
       "       0.63077122, 0.63077128, 0.63077128, 0.63077122, 0.63077128,\n",
       "       0.63077128, 0.63077122, 0.63077128, 0.63077128, 0.63077128,\n",
       "       0.63077128, 0.63077122, 0.63077128, 0.63077122, 0.63077128,\n",
       "       0.63077122, 0.63077128, 0.63077128, 0.63077128, 0.63077128,\n",
       "       0.63077128, 0.63077128, 0.63077128, 0.63077128, 0.63077128,\n",
       "       0.63077116, 0.63077128, 0.63077116, 0.63077122, 0.63077128,\n",
       "       0.63077128, 0.63077128, 0.63077122, 0.63077128, 0.63077128,\n",
       "       0.63077128, 0.63077128, 0.63077128, 0.63077128, 0.63077116,\n",
       "       0.63077128, 0.63077128, 0.63077128, 0.63077128, 0.63077128,\n",
       "       0.63077128, 0.63077122, 0.63077128, 0.63077128, 0.63077128,\n",
       "       0.63077128, 0.63077128, 0.63077128, 0.63077128, 0.63077128,\n",
       "       0.63077128, 0.63077128, 0.63077122, 0.63077128, 0.63077128,\n",
       "       0.63077128, 0.63077122, 0.63077128, 0.63077128, 0.63077128,\n",
       "       0.63077128, 0.63077116, 0.63077128, 0.63077122, 0.63077116,\n",
       "       0.63077122, 0.63077128, 0.63077128, 0.63077122, 0.63077122,\n",
       "       0.63077128, 0.63077128, 0.63077128, 0.63077128, 0.63077128,\n",
       "       0.63077122, 0.63077116, 0.63077122, 0.63077128, 0.63077128,\n",
       "       0.63077128, 0.63077122, 0.63077128, 0.63077128, 0.63077122,\n",
       "       0.63077116, 0.63077128, 0.63077128, 0.63077128, 0.63077122,\n",
       "       0.63077122, 0.63077128, 0.63077128, 0.63077116, 0.63077116,\n",
       "       0.63077128, 0.63077122, 0.63077128, 0.63077122, 0.63077122,\n",
       "       0.63077128, 0.63077128, 0.63077122, 0.63077122, 0.63077128,\n",
       "       0.63077128, 0.63077128, 0.63077128, 0.63077122, 0.63077128,\n",
       "       0.63077128, 0.63077128, 0.63077122, 0.63077128, 0.63077122,\n",
       "       0.63077128, 0.63077122, 0.63077122, 0.63077128, 0.63077128,\n",
       "       0.63077122, 0.63077128, 0.63077116, 0.63077128, 0.63077128,\n",
       "       0.63077128, 0.63077128, 0.63077128, 0.63077128, 0.63077128,\n",
       "       0.63077122, 0.63077122, 0.63077128, 0.63077128, 0.63077122,\n",
       "       0.63077116, 0.63077128, 0.63077128, 0.63077128, 0.63077128,\n",
       "       0.63077128, 0.63077128, 0.63077122, 0.63077128, 0.63077128,\n",
       "       0.63077122, 0.63077128, 0.63077122, 0.63077128, 0.63077128,\n",
       "       0.63077122, 0.63077128, 0.63077128, 0.63077122, 0.63077128,\n",
       "       0.63077128])"
      ]
     },
     "execution_count": 126,
     "metadata": {},
     "output_type": "execute_result"
    }
   ],
   "source": [
    "preds"
   ]
  },
  {
   "cell_type": "code",
   "execution_count": null,
   "id": "f9ca1a35",
   "metadata": {},
   "outputs": [],
   "source": []
  },
  {
   "cell_type": "code",
   "execution_count": null,
   "id": "01d949ad",
   "metadata": {},
   "outputs": [],
   "source": []
  },
  {
   "cell_type": "code",
   "execution_count": null,
   "id": "14fe28df",
   "metadata": {},
   "outputs": [],
   "source": []
  },
  {
   "cell_type": "code",
   "execution_count": null,
   "id": "83701838",
   "metadata": {},
   "outputs": [],
   "source": []
  }
 ],
 "metadata": {
  "kernelspec": {
   "display_name": "ml_env",
   "language": "python",
   "name": "ml_env"
  },
  "language_info": {
   "codemirror_mode": {
    "name": "ipython",
    "version": 3
   },
   "file_extension": ".py",
   "mimetype": "text/x-python",
   "name": "python",
   "nbconvert_exporter": "python",
   "pygments_lexer": "ipython3",
   "version": "3.8.13"
  }
 },
 "nbformat": 4,
 "nbformat_minor": 5
}
