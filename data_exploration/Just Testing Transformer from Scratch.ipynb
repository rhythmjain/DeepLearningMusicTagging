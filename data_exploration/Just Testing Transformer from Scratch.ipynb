{
 "cells": [
  {
   "cell_type": "code",
   "execution_count": 1,
   "id": "8dde38ab",
   "metadata": {},
   "outputs": [],
   "source": [
    "from torch import nn\n",
    "import torch"
   ]
  },
  {
   "cell_type": "code",
   "execution_count": 2,
   "id": "0c0b7a64",
   "metadata": {},
   "outputs": [],
   "source": [
    "from torch.nn.utils.rnn import pad_sequence"
   ]
  },
  {
   "cell_type": "code",
   "execution_count": 3,
   "id": "eb94593b",
   "metadata": {},
   "outputs": [],
   "source": [
    "import numpy as np"
   ]
  },
  {
   "cell_type": "code",
   "execution_count": 4,
   "id": "26f5b02f",
   "metadata": {},
   "outputs": [],
   "source": [
    "import pandas as pd"
   ]
  },
  {
   "cell_type": "code",
   "execution_count": 5,
   "id": "a58fb134",
   "metadata": {},
   "outputs": [],
   "source": [
    "import os"
   ]
  },
  {
   "cell_type": "code",
   "execution_count": 6,
   "id": "42b6ccad",
   "metadata": {},
   "outputs": [],
   "source": [
    "from einops import rearrange"
   ]
  },
  {
   "cell_type": "code",
   "execution_count": 7,
   "id": "41e0ceb2",
   "metadata": {},
   "outputs": [],
   "source": [
    "import random"
   ]
  },
  {
   "cell_type": "code",
   "execution_count": 8,
   "id": "d0a6eb01",
   "metadata": {},
   "outputs": [],
   "source": [
    "from torch.utils.data import DataLoader"
   ]
  },
  {
   "cell_type": "code",
   "execution_count": 9,
   "id": "2fcb2bb2",
   "metadata": {},
   "outputs": [],
   "source": [
    "import torchvision.transforms as T"
   ]
  },
  {
   "cell_type": "code",
   "execution_count": 10,
   "id": "bbe632c2",
   "metadata": {},
   "outputs": [],
   "source": [
    "from skimage.util import random_noise"
   ]
  },
  {
   "cell_type": "code",
   "execution_count": 11,
   "id": "32b9a34b",
   "metadata": {},
   "outputs": [],
   "source": [
    "import matplotlib.pyplot as plt\n",
    "import seaborn as sns\n",
    "sns.set_theme()"
   ]
  },
  {
   "cell_type": "code",
   "execution_count": 12,
   "id": "0a9c1222",
   "metadata": {},
   "outputs": [
    {
     "name": "stderr",
     "output_type": "stream",
     "text": [
      "C:\\Users\\aag12\\anaconda3\\envs\\ml_env\\lib\\site-packages\\torchaudio\\backend\\utils.py:62: UserWarning: No audio backend is available.\n",
      "  warnings.warn(\"No audio backend is available.\")\n"
     ]
    }
   ],
   "source": [
    "import torchaudio"
   ]
  },
  {
   "cell_type": "code",
   "execution_count": 13,
   "id": "1e2c08b1",
   "metadata": {},
   "outputs": [],
   "source": [
    "from sklearn import preprocessing"
   ]
  },
  {
   "cell_type": "code",
   "execution_count": null,
   "id": "3b993bf3",
   "metadata": {},
   "outputs": [],
   "source": []
  },
  {
   "cell_type": "code",
   "execution_count": null,
   "id": "f713e88a",
   "metadata": {},
   "outputs": [],
   "source": []
  },
  {
   "cell_type": "markdown",
   "id": "8864ad63",
   "metadata": {},
   "source": [
    "# Defining Dataseat"
   ]
  },
  {
   "cell_type": "code",
   "execution_count": 257,
   "id": "494e5fed",
   "metadata": {},
   "outputs": [],
   "source": [
    "class MusicDataset(torch.utils.data.Dataset):   \n",
    "    def __init__(self, np_file_paths, labels, seq_len=10000, random_start=True, noise=True):\n",
    "        self.seq_len = seq_len\n",
    "        self.files = np_file_paths\n",
    "        self.padder = torch.zeros(96, seq_len)\n",
    "        self.labels = labels\n",
    "        self.noise = noise\n",
    "        self.random_start = random_start\n",
    "#         self.labels = []\n",
    "#         for i in range(len(self.files)):\n",
    "#             label = np.random.randint(0, 10, size=15)\n",
    "#             label[label > 8] = 0\n",
    "#             label[label >= 1] = 1\n",
    "#             self.labels.append(label)\n",
    "#         for i in range(len(self.files)):\n",
    "#             label = np.array([1, 0, 0, 0, 0, 0, 0, 0, 0, 0, 0, 0, 0, 0, 0])\n",
    "#             self.labels.append(label)\n",
    "    def __len__(self):\n",
    "        return len(self.files)\n",
    "\n",
    "#     def __getitem__(self, index):\n",
    "#         return (self.X[index:index+self.seq_len], self.y[index+self.seq_len-1])\n",
    "    def __getitem__(self, index):\n",
    "        x = np.load(self.files[index])\n",
    "        x = torch.from_numpy(x).float()\n",
    "#         print(x.shape)\n",
    "        if self.random_start and x.shape[-1] > self.seq_len:\n",
    "            # longer than 3000, select random subset\n",
    "            start = random.randint(0, x.shape[-1] - self.seq_len)\n",
    "            x = x[:,start:start+self.seq_len]\n",
    "        else:\n",
    "            x = x[:,:self.seq_len]\n",
    "        x = pad_sequence([x.T, self.padder.T], padding_value=-90, batch_first=True)[0].T\n",
    "        x = x.unsqueeze(0)\n",
    "        x = x.permute(0, 2, 1)\n",
    "\n",
    "        if self.noise:\n",
    "#             x = torch.tensor(random_noise(x, mode='gaussian', mean=0, var=0.05, clip=False)).float()\n",
    "            x = torch.tensor(random_noise(x, mode='gaussian', mean=0, var=0.1, clip=False)).float()\n",
    "#         input,label_ids,label\n",
    "        item = {\"input\": x, \"label_ids\":[index], \"labels\": torch.tensor(self.labels[index])}\n",
    "        return item\n",
    "#         return x"
   ]
  },
  {
   "cell_type": "code",
   "execution_count": null,
   "id": "8b81fdb3",
   "metadata": {},
   "outputs": [],
   "source": []
  },
  {
   "cell_type": "code",
   "execution_count": 258,
   "id": "3c432a88",
   "metadata": {},
   "outputs": [],
   "source": [
    "from datasets import load_dataset"
   ]
  },
  {
   "cell_type": "code",
   "execution_count": 259,
   "id": "c2e2a3ed",
   "metadata": {},
   "outputs": [],
   "source": [
    "from datasets import disable_caching\n",
    "disable_caching()"
   ]
  },
  {
   "cell_type": "code",
   "execution_count": 260,
   "id": "877c4529",
   "metadata": {},
   "outputs": [
    {
     "name": "stdout",
     "output_type": "stream",
     "text": [
      "['01/1009701.mp3', '01/1018801.mp3', '01/1052801.mp3', '01/1062501.mp3', '01/1086601.mp3', '01/1121101.mp3', '01/1125001.mp3', '01/1125401.mp3', '01/1157701.mp3', '01/1164201.mp3', '01/1167301.mp3', '01/1189901.mp3', '01/12101.mp3', '01/1210701.mp3', '01/1219101.mp3', '01/1245901.mp3', '01/1264201.mp3', '01/1304001.mp3', '01/1357701.mp3', '01/1380601.mp3', '01/1381001.mp3', '01/1396501.mp3', '01/1398501.mp3', '01/1398801.mp3', '01/1406401.mp3', '01/1420701.mp3', '01/16101.mp3', '01/292501.mp3', '01/361701.mp3', '01/390001.mp3', '01/399201.mp3', '01/554901.mp3', '01/661601.mp3', '01/708401.mp3', '01/718301.mp3', '01/759301.mp3', '01/80501.mp3', '01/824301.mp3', '01/842401.mp3', '01/846501.mp3', '01/913701.mp3', '01/986601.mp3', '02/1029002.mp3', '02/1032802.mp3', '02/1062502.mp3', '02/1066302.mp3', '02/1095102.mp3', '02/1121102.mp3', '02/1125402.mp3', '02/1164202.mp3', '02/1167302.mp3', '02/1189902.mp3', '02/12102.mp3', '02/1211802.mp3', '02/1266502.mp3', '02/1277702.mp3', '02/1337902.mp3', '02/1349402.mp3', '02/1361402.mp3', '02/1380602.mp3', '02/1398502.mp3', '02/389702.mp3', '02/399202.mp3', '02/759302.mp3', '02/80502.mp3', '02/824302.mp3', '02/842402.mp3', '02/913702.mp3', '03/1062503.mp3', '03/1088603.mp3', '03/1121103.mp3', '03/1121503.mp3', '03/1125403.mp3', '03/1162103.mp3', '03/1164203.mp3', '03/1167303.mp3', '03/1211803.mp3', '03/12303.mp3', '03/1250203.mp3', '03/1288403.mp3', '03/1296703.mp3', '03/1304003.mp3', '03/1306203.mp3', '03/1337803.mp3', '03/1347803.mp3', '03/1349403.mp3', '03/1381003.mp3', '03/1394303.mp3', '03/1398803.mp3', '03/1405303.mp3', '03/1418303.mp3', '03/345903.mp3', '03/390003.mp3', '03/661603.mp3', '03/697303.mp3', '03/759303.mp3', '03/783503.mp3', '03/80503.mp3', '03/824303.mp3', '03/842403.mp3', '04/1062504.mp3', '04/1066204.mp3', '04/1121104.mp3', '04/1121404.mp3', '04/1125404.mp3', '04/1151404.mp3', '04/1164204.mp3', '04/1167304.mp3', '04/1304004.mp3', '04/1319504.mp3', '04/1337804.mp3', '04/1371804.mp3', '04/1374304.mp3', '04/1375904.mp3', '04/1394904.mp3', '04/1398804.mp3', '04/1405004.mp3', '04/1420704.mp3', '04/147504.mp3', '04/718304.mp3', '04/759304.mp3', '04/78304.mp3', '04/80504.mp3', '04/843404.mp3', '04/892004.mp3', '05/1024405.mp3', '05/1062505.mp3', '05/108505.mp3', '05/1127605.mp3', '05/1149205.mp3', '05/1164205.mp3', '05/1166105.mp3', '05/1167305.mp3', '05/1176205.mp3', '05/1226705.mp3', '05/1266505.mp3', '05/1288105.mp3', '05/1294205.mp3', '05/1312105.mp3', '05/1313105.mp3', '05/1319505.mp3', '05/1337505.mp3', '05/1346205.mp3', '05/1349705.mp3', '05/1366005.mp3', '05/1381005.mp3', '05/1404705.mp3', '05/1419105.mp3', '05/283205.mp3', '05/395005.mp3', '05/666305.mp3', '05/727905.mp3', '05/80505.mp3', '05/993605.mp3']\n",
      "['00/1052800.mp3', '00/1062500.mp3', '00/1069400.mp3', '00/1079400.mp3', '00/1103000.mp3', '00/1125400.mp3', '00/1164200.mp3', '00/1167300.mp3', '00/1168500.mp3', '00/1189900.mp3', '00/12100.mp3', '00/1210700.mp3', '00/1226700.mp3', '00/1277700.mp3', '00/1288400.mp3', '00/1295900.mp3', '00/1319500.mp3', '00/1330500.mp3', '00/1337800.mp3', '00/1339600.mp3', '00/1371800.mp3', '00/1381000.mp3', '00/1383900.mp3', '00/1398500.mp3', '00/16000.mp3', '00/390000.mp3', '00/468500.mp3', '00/506100.mp3', '00/699100.mp3', '00/757500.mp3', '00/759300.mp3', '00/80500.mp3', '00/818600.mp3', '00/913700.mp3', '00/985000.mp3']\n"
     ]
    }
   ],
   "source": [
    "good_files = []\n",
    "for i in range(1, 6):\n",
    "    new_files = [f\"0{i}/{fname.replace('npy', '')}mp3\" for fname in os.listdir(f\"../../subset_moodtheme/0{i}\")]\n",
    "    good_files.extend(new_files)\n",
    "\n",
    "test_files = [f\"00/{fname.replace('npy', '')}mp3\" for fname in os.listdir(\"../../subset_moodtheme/00\")]\n",
    "print(good_files)\n",
    "print(test_files)"
   ]
  },
  {
   "cell_type": "code",
   "execution_count": 261,
   "id": "b668f4e6",
   "metadata": {},
   "outputs": [],
   "source": [
    "def files_to_labels(files):\n",
    "    col_names = ['TRACK_ID',\n",
    "     'ARTIST_ID',\n",
    "     'ALBUM_ID',\n",
    "     'PATH',\n",
    "     'DURATION',\n",
    "     'TAGS',\n",
    "     'TAGS2',\n",
    "     'TAGS3',\n",
    "     'TAGS4',\n",
    "     'TAGS5',\n",
    "     'TAGS6',\n",
    "     'TAGS7',\n",
    "     'TAGS8',\n",
    "     'TAGS9']\n",
    "    MOODPATH = \"../../../Downloads/autotagging_moodtheme.tsv.txt\"\n",
    "    df = pd.read_csv(MOODPATH, sep='\\t', names=col_names)\n",
    "    df = df[df[\"PATH\"].isin(files)]\n",
    "    inds = {'fast': 0,\n",
    "     'sexy': 1,\n",
    "     'mellow': 2,\n",
    "     'heavy': 3,\n",
    "     'horror': 4,\n",
    "     'travel': 5,\n",
    "     'holiday': 6,\n",
    "     'groovy': 7,\n",
    "     'funny': 8,\n",
    "     'retro': 9,\n",
    "     'hopeful': 10,\n",
    "     'powerful': 11,\n",
    "     'cool': 12,\n",
    "     'nature': 13,\n",
    "     'game': 14}\n",
    "\n",
    "    final_labels = []\n",
    "    for i in range(len(df)):\n",
    "        curr = np.zeros(len(inds))\n",
    "        moods = list(df.iloc[i])[5:]\n",
    "        for theme in moods:\n",
    "            if type(theme) == str and \"mood\" in theme:\n",
    "                check = theme.split(\"---\")[-1]\n",
    "                if check in inds:\n",
    "                    curr[inds[check]] = 1\n",
    "            else:\n",
    "                pass\n",
    "\n",
    "        final_labels.append(curr)\n",
    "    return final_labels"
   ]
  },
  {
   "cell_type": "code",
   "execution_count": 262,
   "id": "07d2d0ea",
   "metadata": {},
   "outputs": [],
   "source": [
    "train_labels = files_to_labels(good_files)"
   ]
  },
  {
   "cell_type": "code",
   "execution_count": 263,
   "id": "d874d298",
   "metadata": {},
   "outputs": [],
   "source": [
    "test_labels = files_to_labels(test_files)"
   ]
  },
  {
   "cell_type": "code",
   "execution_count": 264,
   "id": "545d632d",
   "metadata": {},
   "outputs": [],
   "source": [
    "train_np_files = [(\"../../subset_moodtheme/\" + g).replace(\".mp3\", \".npy\") for g in good_files]\n",
    "test_np_files = [(\"../../subset_moodtheme/\" + g).replace(\".mp3\", \".npy\") for g in test_files]"
   ]
  },
  {
   "cell_type": "code",
   "execution_count": 265,
   "id": "dd90cdfb",
   "metadata": {},
   "outputs": [],
   "source": [
    "import time"
   ]
  },
  {
   "cell_type": "code",
   "execution_count": 266,
   "id": "284ea16b",
   "metadata": {},
   "outputs": [],
   "source": [
    "# SEQ_LEN = 10000\n",
    "SEQ_LEN = 3000"
   ]
  },
  {
   "cell_type": "code",
   "execution_count": 267,
   "id": "50166183",
   "metadata": {},
   "outputs": [],
   "source": [
    "train_dataset = MusicDataset(train_np_files, train_labels, seq_len=SEQ_LEN, noise=True, random_start=True)\n",
    "test_dataset = MusicDataset(test_np_files, test_labels, seq_len=SEQ_LEN, noise=False, random_start=True)"
   ]
  },
  {
   "cell_type": "code",
   "execution_count": null,
   "id": "05cb3a0a",
   "metadata": {},
   "outputs": [],
   "source": []
  },
  {
   "cell_type": "markdown",
   "id": "3316f135",
   "metadata": {},
   "source": [
    "# MODEL TESTING\n",
    "run dataset stuff first"
   ]
  },
  {
   "cell_type": "code",
   "execution_count": 268,
   "id": "8d6786b6",
   "metadata": {},
   "outputs": [
    {
     "data": {
      "text/plain": [
       "torch.Size([1, 3000, 96])"
      ]
     },
     "execution_count": 268,
     "metadata": {},
     "output_type": "execute_result"
    }
   ],
   "source": [
    "inp = train_dataset[0]['input']\n",
    "# inp = inp.unsqueeze(0)\n",
    "inp.shape"
   ]
  },
  {
   "cell_type": "code",
   "execution_count": null,
   "id": "bebc8128",
   "metadata": {},
   "outputs": [],
   "source": []
  },
  {
   "cell_type": "markdown",
   "id": "462bb4bd",
   "metadata": {},
   "source": [
    "### Structure we want\n",
    "\n",
    "* downsample with CNN\n",
    "* feed into transformer\n",
    "* feed into linear layer\n",
    "* profit"
   ]
  },
  {
   "cell_type": "code",
   "execution_count": 269,
   "id": "b8c5d88c",
   "metadata": {},
   "outputs": [
    {
     "data": {
      "text/plain": [
       "torch.Size([1, 3000, 96])"
      ]
     },
     "execution_count": 269,
     "metadata": {},
     "output_type": "execute_result"
    }
   ],
   "source": [
    "inp.shape"
   ]
  },
  {
   "cell_type": "code",
   "execution_count": 270,
   "id": "bc030b8d",
   "metadata": {},
   "outputs": [
    {
     "data": {
      "text/plain": [
       "tensor([[[[-24.1062, -20.0227, -12.8959,  ..., -28.0032, -41.6930, -47.4088],\n",
       "          [-22.8492, -13.3860,  -7.8995,  ..., -25.2028, -37.8572, -48.9817],\n",
       "          [-17.1321, -11.9545, -11.6908,  ..., -25.0727, -35.9073, -49.9044],\n",
       "          ...,\n",
       "          [-10.1696,   3.4769,   6.4229,  ..., -26.3150, -35.8217, -39.9241],\n",
       "          [ -9.5209,   0.9223,   3.4324,  ..., -30.7213, -35.2412, -38.9164],\n",
       "          [ -5.7139,   3.1678,   3.8869,  ..., -29.6498, -32.9822, -39.6100]]]])"
      ]
     },
     "execution_count": 270,
     "metadata": {},
     "output_type": "execute_result"
    }
   ],
   "source": [
    "inp.unsqueeze(0)"
   ]
  },
  {
   "cell_type": "code",
   "execution_count": 271,
   "id": "935b500f",
   "metadata": {},
   "outputs": [],
   "source": [
    "start_data = inp.unsqueeze(0)"
   ]
  },
  {
   "cell_type": "code",
   "execution_count": 272,
   "id": "905a31bd",
   "metadata": {},
   "outputs": [
    {
     "data": {
      "text/plain": [
       "torch.Size([1, 1, 600, 96])"
      ]
     },
     "execution_count": 272,
     "metadata": {},
     "output_type": "execute_result"
    }
   ],
   "source": [
    "conv = nn.Conv2d(1, 1, kernel_size=5, stride=(5, 1),padding=2)\n",
    "# cout = conv(inp)\n",
    "cout = conv(start_data)\n",
    "cout.shape"
   ]
  },
  {
   "cell_type": "code",
   "execution_count": 273,
   "id": "4ff60965",
   "metadata": {},
   "outputs": [
    {
     "data": {
      "text/plain": [
       "torch.Size([1, 1, 600, 96])"
      ]
     },
     "execution_count": 273,
     "metadata": {},
     "output_type": "execute_result"
    }
   ],
   "source": [
    "# reshape so its function of 16\n",
    "# cout = cout[:,:,:320]\n",
    "cout = cout[:,:,:,:]\n",
    "cout.shape"
   ]
  },
  {
   "cell_type": "code",
   "execution_count": 274,
   "id": "4aa259b7",
   "metadata": {},
   "outputs": [],
   "source": [
    "# patch_size = 16"
   ]
  },
  {
   "cell_type": "code",
   "execution_count": 275,
   "id": "274c8ff7",
   "metadata": {},
   "outputs": [
    {
     "data": {
      "text/plain": [
       "torch.Size([1, 1, 600, 96])"
      ]
     },
     "execution_count": 275,
     "metadata": {},
     "output_type": "execute_result"
    }
   ],
   "source": [
    "# # put into patches\n",
    "# patched = rearrange(cout, 'b (h s1) (w s2) -> b (h w) (s1 s2)', s1=patch_size, s2=patch_size)\n",
    "patched = cout\n",
    "patched.shape"
   ]
  },
  {
   "cell_type": "code",
   "execution_count": 276,
   "id": "d23f3504",
   "metadata": {},
   "outputs": [],
   "source": [
    "class Patcher(torch.nn.Module):\n",
    "    def forward(self, x):\n",
    "#         x = x[:,:,:960]\n",
    "#         x = x[:,:,:,:960]\n",
    "        x = x.squeeze(1)\n",
    "#         return rearrange(x, 'b (h s1) (w s2) -> b (h w) (s1 s2)', s1=patch_size, s2=patch_size)\n",
    "        return x"
   ]
  },
  {
   "cell_type": "markdown",
   "id": "4abc1b7d",
   "metadata": {},
   "source": [
    "Copying from:  https://n8henrie.com/2021/08/writing-a-transformer-classifier-in-pytorch/"
   ]
  },
  {
   "cell_type": "code",
   "execution_count": 277,
   "id": "cd5d1194",
   "metadata": {},
   "outputs": [],
   "source": [
    "patched = Patcher()(cout)"
   ]
  },
  {
   "cell_type": "code",
   "execution_count": 278,
   "id": "8a8437cb",
   "metadata": {},
   "outputs": [
    {
     "data": {
      "text/plain": [
       "torch.Size([1, 600, 96])"
      ]
     },
     "execution_count": 278,
     "metadata": {},
     "output_type": "execute_result"
    }
   ],
   "source": [
    "patched.shape"
   ]
  },
  {
   "cell_type": "code",
   "execution_count": 279,
   "id": "a3d59c74",
   "metadata": {},
   "outputs": [],
   "source": [
    "# encoder_layer = nn.TransformerEncoderLayer(d_model=256, nhead=8)\n",
    "encoder_layer = nn.TransformerEncoderLayer(d_model=96, nhead=8, batch_first=True)\n",
    "transformer_encoder = nn.TransformerEncoder(encoder_layer, num_layers=6)"
   ]
  },
  {
   "cell_type": "code",
   "execution_count": 280,
   "id": "97a750df",
   "metadata": {},
   "outputs": [
    {
     "data": {
      "text/plain": [
       "torch.Size([1, 600, 96])"
      ]
     },
     "execution_count": 280,
     "metadata": {},
     "output_type": "execute_result"
    }
   ],
   "source": [
    "transed = transformer_encoder(patched)\n",
    "transed.shape"
   ]
  },
  {
   "cell_type": "code",
   "execution_count": 281,
   "id": "48f9d39a",
   "metadata": {},
   "outputs": [
    {
     "data": {
      "text/plain": [
       "torch.Size([1, 600, 96])"
      ]
     },
     "execution_count": 281,
     "metadata": {},
     "output_type": "execute_result"
    }
   ],
   "source": [
    "# layer_norm = nn.LayerNorm(256)\n",
    "layer_norm = nn.LayerNorm(96)\n",
    "layered = layer_norm(transed)\n",
    "layered.shape"
   ]
  },
  {
   "cell_type": "code",
   "execution_count": 282,
   "id": "f2bccb2c",
   "metadata": {},
   "outputs": [],
   "source": [
    "class BertPooler(nn.Module):\n",
    "    def __init__(self, hidden_size):\n",
    "        super().__init__()\n",
    "        self.dense = nn.Linear(hidden_size, hidden_size)\n",
    "        self.activation = nn.Tanh()\n",
    "\n",
    "    def forward(self, hidden_states):\n",
    "        # We \"pool\" the model by simply taking the hidden state corresponding\n",
    "        # to the first token.\n",
    "#         first_token_tensor = hidden_states[:,0]\n",
    "        first_token_tensor = hidden_states[:,0,:]\n",
    "        pooled_output = self.dense(first_token_tensor)\n",
    "        pooled_output = self.activation(pooled_output)\n",
    "        return pooled_output"
   ]
  },
  {
   "cell_type": "code",
   "execution_count": 283,
   "id": "b32a10fe",
   "metadata": {},
   "outputs": [
    {
     "data": {
      "text/plain": [
       "torch.Size([1, 96])"
      ]
     },
     "execution_count": 283,
     "metadata": {},
     "output_type": "execute_result"
    }
   ],
   "source": [
    "# bp = BertPooler(256)\n",
    "bp = BertPooler(96)\n",
    "bp(layered).shape"
   ]
  },
  {
   "cell_type": "code",
   "execution_count": 284,
   "id": "f0defe3a",
   "metadata": {},
   "outputs": [],
   "source": [
    "lined = nn.Linear(96, 15)"
   ]
  },
  {
   "cell_type": "code",
   "execution_count": 285,
   "id": "28f41dec",
   "metadata": {},
   "outputs": [
    {
     "data": {
      "text/plain": [
       "torch.Size([1, 15])"
      ]
     },
     "execution_count": 285,
     "metadata": {},
     "output_type": "execute_result"
    }
   ],
   "source": [
    "lined(first).shape"
   ]
  },
  {
   "cell_type": "code",
   "execution_count": 286,
   "id": "81dee206",
   "metadata": {},
   "outputs": [],
   "source": [
    "drop = nn.Dropout(0.1)"
   ]
  },
  {
   "cell_type": "code",
   "execution_count": null,
   "id": "8c71df93",
   "metadata": {},
   "outputs": [],
   "source": []
  },
  {
   "cell_type": "code",
   "execution_count": 287,
   "id": "e9851170",
   "metadata": {},
   "outputs": [],
   "source": [
    "class Flatten(torch.nn.Module):\n",
    "    def forward(self, x):\n",
    "        return x.flatten()"
   ]
  },
  {
   "cell_type": "code",
   "execution_count": null,
   "id": "06b8e7b9",
   "metadata": {},
   "outputs": [],
   "source": []
  },
  {
   "cell_type": "code",
   "execution_count": 288,
   "id": "8023f743",
   "metadata": {},
   "outputs": [
    {
     "name": "stdout",
     "output_type": "stream",
     "text": [
      "torch.Size([1, 1, 3000, 96])\n",
      "torch.Size([1, 1, 600, 96])\n",
      "torch.Size([1, 600, 96])\n",
      "torch.Size([1, 600, 96])\n",
      "torch.Size([1, 600, 96])\n",
      "torch.Size([1, 96])\n",
      "torch.Size([1, 96])\n"
     ]
    }
   ],
   "source": [
    "x = start_data\n",
    "for layer in [torch.nn.BatchNorm2d(1),\n",
    "    conv,\n",
    "    Patcher(),\n",
    "#     Flatten()\n",
    "#     Patcher(),\n",
    "    transformer_encoder,\n",
    "#         Flatten()\n",
    "    layer_norm,\n",
    "    bp,\n",
    "#         Flatten()\n",
    "    drop,]:\n",
    "    x = layer(x)\n",
    "    print(x.shape)"
   ]
  },
  {
   "cell_type": "code",
   "execution_count": 289,
   "id": "84ece3a2",
   "metadata": {},
   "outputs": [],
   "source": [
    "mod = nn.Sequential(\n",
    "    torch.nn.BatchNorm2d(1),\n",
    "    conv,\n",
    "    Patcher(),\n",
    "#     Flatten()\n",
    "#     Patcher(),\n",
    "    transformer_encoder,\n",
    "#         Flatten()\n",
    "    layer_norm,\n",
    "    bp,\n",
    "#         Flatten()\n",
    "    drop,\n",
    "#     lined\n",
    ")"
   ]
  },
  {
   "cell_type": "code",
   "execution_count": 290,
   "id": "ad345db2",
   "metadata": {},
   "outputs": [],
   "source": [
    "# mod(start_data).shape"
   ]
  },
  {
   "cell_type": "code",
   "execution_count": 291,
   "id": "428401af",
   "metadata": {},
   "outputs": [],
   "source": [
    "model = mod"
   ]
  },
  {
   "cell_type": "code",
   "execution_count": 292,
   "id": "336b8ad4",
   "metadata": {},
   "outputs": [
    {
     "data": {
      "text/plain": [
       "2607484"
      ]
     },
     "execution_count": 292,
     "metadata": {},
     "output_type": "execute_result"
    }
   ],
   "source": [
    "sum(p.numel() for p in model.parameters())"
   ]
  },
  {
   "cell_type": "code",
   "execution_count": 293,
   "id": "2b000265",
   "metadata": {},
   "outputs": [],
   "source": [
    "heads = [nn.Sequential(nn.Linear(96, 1), nn.Sigmoid()) for i in range(15)]\n",
    "# heads = [nn.Sequential(nn.Linear(10688, 2), nn.Sigmoid()) for i in range(15)]\n",
    "# heads = [nn.Sequential(nn.Linear(10240, 2), nn.Sigmoid()) for i in range(15)]"
   ]
  },
  {
   "cell_type": "code",
   "execution_count": 294,
   "id": "2cb97333",
   "metadata": {},
   "outputs": [],
   "source": [
    "# heads[0](mod(start_data))"
   ]
  },
  {
   "cell_type": "markdown",
   "id": "e24580fe",
   "metadata": {},
   "source": [
    "## Try Training"
   ]
  },
  {
   "cell_type": "code",
   "execution_count": 344,
   "id": "45c72a69",
   "metadata": {},
   "outputs": [],
   "source": [
    "from torch.utils.data import DataLoader\n",
    "# from transformers import AdamW\n",
    "import torch.optim as optim\n",
    "from tqdm import tqdm"
   ]
  },
  {
   "cell_type": "code",
   "execution_count": 345,
   "id": "59556df4",
   "metadata": {},
   "outputs": [],
   "source": [
    "batch_size = 8"
   ]
  },
  {
   "cell_type": "code",
   "execution_count": 346,
   "id": "40c818a4",
   "metadata": {},
   "outputs": [],
   "source": [
    "train_dl = DataLoader(\n",
    "    train_dataset,\n",
    "    batch_size=batch_size,\n",
    "    shuffle=True,\n",
    "    num_workers=0,\n",
    "    collate_fn=None,\n",
    "    pin_memory=False,\n",
    " )\n",
    "\n",
    "test_dl = DataLoader(\n",
    "    test_dataset,\n",
    "    batch_size=1,\n",
    "    shuffle=False,\n",
    "    num_workers=0,\n",
    "    collate_fn=None,\n",
    "    pin_memory=False,\n",
    " )"
   ]
  },
  {
   "cell_type": "code",
   "execution_count": null,
   "id": "ffd6c423",
   "metadata": {},
   "outputs": [],
   "source": []
  },
  {
   "cell_type": "code",
   "execution_count": 347,
   "id": "aef4a747",
   "metadata": {},
   "outputs": [],
   "source": [
    "conv = nn.Conv2d(1, 1, kernel_size=5, stride=(5, 1),padding=2)\n",
    "encoder_layer = nn.TransformerEncoderLayer(d_model=96, nhead=8, batch_first=True)\n",
    "# encoder_layer = nn.TransformerEncoderLayer(d_model=96, nhead=2, batch_first=True)\n",
    "transformer_encoder = nn.TransformerEncoder(encoder_layer, num_layers=6)\n",
    "# transformer_encoder = nn.TransformerEncoder(encoder_layer, num_layers=3)\n",
    "layer_norm = nn.LayerNorm(96)\n",
    "bp = BertPooler(96)\n",
    "drop = nn.Dropout(0.1)"
   ]
  },
  {
   "cell_type": "code",
   "execution_count": 348,
   "id": "da935526",
   "metadata": {},
   "outputs": [],
   "source": [
    "model = nn.Sequential(\n",
    "    torch.nn.BatchNorm2d(1),\n",
    "    conv,\n",
    "    Patcher(),\n",
    "    transformer_encoder,\n",
    "    layer_norm,\n",
    "    bp,\n",
    "    drop,\n",
    ")"
   ]
  },
  {
   "cell_type": "code",
   "execution_count": 349,
   "id": "6b103cef",
   "metadata": {},
   "outputs": [],
   "source": [
    "heads = [nn.Sequential(nn.Linear(96, 96), nn.ReLU(), nn.Linear(96, 1), nn.Sigmoid()) for i in range(15)]"
   ]
  },
  {
   "cell_type": "code",
   "execution_count": 350,
   "id": "c508d3ac",
   "metadata": {},
   "outputs": [
    {
     "data": {
      "text/plain": [
       "device(type='cuda')"
      ]
     },
     "execution_count": 350,
     "metadata": {},
     "output_type": "execute_result"
    }
   ],
   "source": [
    "device = torch.device('cuda') if torch.cuda.is_available() else torch.device('cpu')\n",
    "device"
   ]
  },
  {
   "cell_type": "code",
   "execution_count": 351,
   "id": "dbb9c07a",
   "metadata": {},
   "outputs": [],
   "source": [
    "# class_weights = torch.tensor([15]).to(device)"
   ]
  },
  {
   "cell_type": "code",
   "execution_count": 352,
   "id": "ca5c47ca",
   "metadata": {},
   "outputs": [],
   "source": [
    "# optimizer = optim.AdamW(model.parameters(), lr=1e-3)\n",
    "# optimizer = optim.AdamW(model.parameters(), lr=5e-3)\n",
    "# optimizer = optim.AdamW(model.parameters(), lr=1e-2)\n",
    "optimizer = optim.AdamW(model.parameters(), lr=1e-1)\n",
    "# criterion = nn.CrossEntropyLoss()\n",
    "criterion = nn.BCELoss()\n",
    "# criterion = nn.BCELoss(weight=class_weights)\n",
    "# losses = [nn.CrossEntropyLoss() for i in range(15)]"
   ]
  },
  {
   "cell_type": "code",
   "execution_count": null,
   "id": "ba9d5329",
   "metadata": {},
   "outputs": [],
   "source": []
  },
  {
   "cell_type": "code",
   "execution_count": 353,
   "id": "a7a903bf",
   "metadata": {},
   "outputs": [],
   "source": [
    "def get_total_loss(model, dataloader):\n",
    "    total_loss = 0\n",
    "    for batch_idx, data in enumerate(dataloader):\n",
    "        inputs, labels = data['input'].to(device), data['labels'].to(device)\n",
    "\n",
    "        outputs = model(inputs)\n",
    "        per_head_outputs = [h(outputs) for h in heads]\n",
    "        \n",
    "        for i in range(15):\n",
    "            cur_loss = criterion(per_head_outputs[i].squeeze(1), labels[:,i].float())\n",
    "            total_loss += cur_loss\n",
    "    return total_loss.item()"
   ]
  },
  {
   "cell_type": "code",
   "execution_count": null,
   "id": "0e3bc4a7",
   "metadata": {},
   "outputs": [],
   "source": []
  },
  {
   "cell_type": "code",
   "execution_count": null,
   "id": "92d59a4f",
   "metadata": {},
   "outputs": [],
   "source": []
  },
  {
   "cell_type": "code",
   "execution_count": 354,
   "id": "98e045ac",
   "metadata": {},
   "outputs": [],
   "source": [
    "def get_mask(targs):\n",
    "    mask = []\n",
    "    for val in targs:\n",
    "        m = int(val) == 1 or random.random() < 0.1\n",
    "        mask.append(m)\n",
    "    if sum(mask) == 0:\n",
    "#         print(\"YIKES\")\n",
    "        mask[0] = True\n",
    "    return mask"
   ]
  },
  {
   "cell_type": "code",
   "execution_count": null,
   "id": "e3de3b38",
   "metadata": {},
   "outputs": [
    {
     "name": "stderr",
     "output_type": "stream",
     "text": [
      "\r",
      "  0%|                                                                                                   | 0/20 [00:00<?, ?it/s]"
     ]
    }
   ],
   "source": [
    "model = model.to(device)\n",
    "heads = [h.to(device) for h in heads]\n",
    "model.train()\n",
    "for h in heads:\n",
    "    h.train()\n",
    "    \n",
    "train_losses = []\n",
    "adjusted_train_losses = []\n",
    "test_losses = []\n",
    "# for epoch in range(10):\n",
    "for epoch in range(10):\n",
    "    total_loss = 0\n",
    "#     for batch in train_loader:\n",
    "    for batch_idx, data in tqdm(enumerate(train_dl), total=len(train_dl)):\n",
    "        these_losses = []\n",
    "        optimizer.zero_grad()\n",
    "        inputs, labels = data['input'].to(device), data['labels'].to(device)\n",
    "        outputs = model(inputs)\n",
    "        per_head_outputs = [h(outputs) for h in heads]\n",
    "        for i in range(15):\n",
    "            preds = per_head_outputs[i].squeeze(1)\n",
    "            targs = labels[:,i].float()\n",
    "            mask = get_mask(targs)\n",
    "            cur_loss = criterion(preds[mask], targs[mask])\n",
    "            these_losses.append(cur_loss)\n",
    "\n",
    "        loss = sum(these_losses)\n",
    "        loss.backward()\n",
    "        optimizer.step()\n",
    "        # for bookkeeping\n",
    "        total_loss += loss\n",
    "#     total_loss.backward()\n",
    "        \n",
    "#     total_loss += loss.item()\n",
    "#         break\n",
    "    with torch.no_grad():\n",
    "        train_total_loss = get_total_loss(model, train_dl)\n",
    "        test_loss = get_total_loss(model, test_dl)\n",
    "        adjusted = total_loss\n",
    "        train_losses.append(train_total_loss)\n",
    "        adjusted_train_losses.append(adjusted.item())\n",
    "        test_losses.append(test_loss)\n",
    "    #     print(f\"Epoch: {epoch}; Loss: {adjusted}; Total Loss: {train_total_loss}; Test Loss: {test_loss}\")\n",
    "        print(f\"Epoch: {epoch}; Loss: {adjusted}; Test Loss: {test_loss}\")\n",
    "\n",
    "model.eval()\n",
    "for h in heads:\n",
    "    h.eval()"
   ]
  },
  {
   "cell_type": "code",
   "execution_count": null,
   "id": "f12b65bc",
   "metadata": {},
   "outputs": [],
   "source": []
  },
  {
   "cell_type": "code",
   "execution_count": null,
   "id": "9fb113ce",
   "metadata": {},
   "outputs": [],
   "source": [
    "# adjusted_train_losses = [l.item() for l in adjusted_train_losses]"
   ]
  },
  {
   "cell_type": "code",
   "execution_count": 254,
   "id": "b2ee4b84",
   "metadata": {},
   "outputs": [
    {
     "data": {
      "text/plain": [
       "(10, 10, 10)"
      ]
     },
     "execution_count": 254,
     "metadata": {},
     "output_type": "execute_result"
    }
   ],
   "source": [
    "len(train_losses), len(test_losses), len(adjusted_train_losses)"
   ]
  },
  {
   "cell_type": "code",
   "execution_count": 255,
   "id": "5a75a2aa",
   "metadata": {},
   "outputs": [
    {
     "data": {
      "text/plain": [
       "<AxesSubplot:>"
      ]
     },
     "execution_count": 255,
     "metadata": {},
     "output_type": "execute_result"
    },
    {
     "data": {
      "image/png": "[encoded data removed]",
      "text/plain": [
       "<Figure size 1152x432 with 2 Axes>"
      ]
     },
     "metadata": {
      "needs_background": "light"
     },
     "output_type": "display_data"
    }
   ],
   "source": [
    "plt.figure(figsize=(16, 6))\n",
    "ranger = list(range(len(train_losses)))\n",
    "sns.lineplot(x=ranger, y=train_losses, label=\"total train loss\", alpha=0.5)\n",
    "# sns.lineplot(x=ranger, y=adjusted_train_losses, label=\"adjusted train loss\")\n",
    "ax2 = plt.twinx()\n",
    "sns.lineplot(x=ranger, y=test_losses, label=\"test loss\", ax=ax2, color=\"orange\", alpha=0.5)"
   ]
  },
  {
   "cell_type": "code",
   "execution_count": null,
   "id": "854bb54d",
   "metadata": {},
   "outputs": [],
   "source": []
  },
  {
   "cell_type": "code",
   "execution_count": 256,
   "id": "8bee0c07",
   "metadata": {},
   "outputs": [
    {
     "name": "stdout",
     "output_type": "stream",
     "text": [
      "NOT ZERO: 0\n",
      "NOT ZERO: 0\n",
      "NOT ZERO: 0\n",
      "NOT ZERO: 0\n",
      "NOT ZERO: 0\n",
      "NOT ZERO: 0\n",
      "NOT ZERO: 0\n",
      "NOT ZERO: 0\n",
      "NOT ZERO: 0\n",
      "NOT ZERO: 0\n",
      "NOT ZERO: 0\n",
      "NOT ZERO: 0\n",
      "NOT ZERO: 0\n",
      "NOT ZERO: 0\n",
      "NOT ZERO: 0\n",
      "NOT ZERO: 0\n",
      "NOT ZERO: 0\n",
      "NOT ZERO: 0\n",
      "NOT ZERO: 0\n",
      "NOT ZERO: 0\n",
      "NOT ZERO: 0\n",
      "NOT ZERO: 0\n",
      "NOT ZERO: 0\n",
      "NOT ZERO: 0\n",
      "NOT ZERO: 0\n",
      "NOT ZERO: 0\n",
      "NOT ZERO: 0\n",
      "NOT ZERO: 0\n",
      "NOT ZERO: 0\n",
      "NOT ZERO: 0\n",
      "NOT ZERO: 0\n",
      "NOT ZERO: 0\n",
      "NOT ZERO: 0\n",
      "NOT ZERO: 0\n",
      "NOT ZERO: 0\n",
      "0.9276190476190476\n",
      "487 out of 525\n",
      "JUST ZERO\n",
      "0.9276190476190476\n",
      "487 out of 525\n"
     ]
    }
   ],
   "source": [
    "model.eval()\n",
    "for h in heads:\n",
    "    h.eval()\n",
    "# In[ ]:\n",
    "\n",
    "\n",
    "with torch.no_grad():\n",
    "#     a = model(dataset[2]['input'].to(device))\n",
    "    total_correct = 0\n",
    "    zero_correct = 0\n",
    "    total_values = 0\n",
    "    for batch_idx, data in enumerate(test_dl):\n",
    "        inputs, labels = data['input'].to(device), data['labels'].to(device)\n",
    "\n",
    "        outputs = model(inputs)\n",
    "        per_head_outputs = [h(outputs) for h in heads]\n",
    "        found_not_zero = [0 for i in per_head_outputs[0]]\n",
    "        \n",
    "        for i, per_example_for_head in enumerate(per_head_outputs):\n",
    "            for j, example_res in enumerate(per_example_for_head):\n",
    "                pred = int(example_res.item() >= 0.5)\n",
    "                target = int(labels[j, i])\n",
    "                \n",
    "                total_correct += int(pred == target)\n",
    "                if pred == 1:\n",
    "                    found_not_zero[j] = 1\n",
    "                zero_correct += int(0 == target)\n",
    "                total_values += 1\n",
    "        \n",
    "        print(f\"NOT ZERO: {sum(found_not_zero)}\")\n",
    "        # print(outputs)\n",
    "        # outputs[outputs > 0] = 1\n",
    "        # outputs[outputs < 0] = 0\n",
    "        # total_correct += (labels == outputs.to('cpu')).sum()\n",
    "        # total_values += len(labels)\n",
    "\n",
    "print(total_correct / total_values)\n",
    "\n",
    "print(f\"{total_correct} out of {total_values}\")\n",
    "\n",
    "print(\"JUST ZERO\")\n",
    "\n",
    "print(zero_correct / total_values)\n",
    "\n",
    "print(f\"{zero_correct} out of {total_values}\")"
   ]
  },
  {
   "cell_type": "code",
   "execution_count": 248,
   "id": "54f881a3",
   "metadata": {},
   "outputs": [
    {
     "data": {
      "text/plain": [
       "35.0"
      ]
     },
     "execution_count": 248,
     "metadata": {},
     "output_type": "execute_result"
    }
   ],
   "source": [
    "525 / 15"
   ]
  },
  {
   "cell_type": "code",
   "execution_count": null,
   "id": "01d949ad",
   "metadata": {},
   "outputs": [],
   "source": []
  },
  {
   "cell_type": "code",
   "execution_count": null,
   "id": "14fe28df",
   "metadata": {},
   "outputs": [],
   "source": []
  },
  {
   "cell_type": "code",
   "execution_count": null,
   "id": "83701838",
   "metadata": {},
   "outputs": [],
   "source": []
  },
  {
   "cell_type": "code",
   "execution_count": null,
   "id": "50a8a8a3",
   "metadata": {},
   "outputs": [],
   "source": []
  },
  {
   "cell_type": "code",
   "execution_count": null,
   "id": "b2da0c51",
   "metadata": {},
   "outputs": [],
   "source": []
  }
 ],
 "metadata": {
  "kernelspec": {
   "display_name": "ml_env",
   "language": "python",
   "name": "ml_env"
  },
  "language_info": {
   "codemirror_mode": {
    "name": "ipython",
    "version": 3
   },
   "file_extension": ".py",
   "mimetype": "text/x-python",
   "name": "python",
   "nbconvert_exporter": "python",
   "pygments_lexer": "ipython3",
   "version": "3.8.13"
  }
 },
 "nbformat": 4,
 "nbformat_minor": 5
}
