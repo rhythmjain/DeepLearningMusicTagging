{
 "cells": [
  {
   "cell_type": "code",
   "execution_count": 1,
   "id": "8dde38ab",
   "metadata": {},
   "outputs": [],
   "source": [
    "from torch import nn\n",
    "import torch"
   ]
  },
  {
   "cell_type": "code",
   "execution_count": 2,
   "id": "0c0b7a64",
   "metadata": {},
   "outputs": [],
   "source": [
    "from torch.nn.utils.rnn import pad_sequence"
   ]
  },
  {
   "cell_type": "code",
   "execution_count": 3,
   "id": "eb94593b",
   "metadata": {},
   "outputs": [],
   "source": [
    "import numpy as np"
   ]
  },
  {
   "cell_type": "code",
   "execution_count": 4,
   "id": "26f5b02f",
   "metadata": {},
   "outputs": [],
   "source": [
    "import pandas as pd"
   ]
  },
  {
   "cell_type": "code",
   "execution_count": 5,
   "id": "a58fb134",
   "metadata": {},
   "outputs": [],
   "source": [
    "import os"
   ]
  },
  {
   "cell_type": "code",
   "execution_count": 6,
   "id": "42b6ccad",
   "metadata": {},
   "outputs": [],
   "source": [
    "from einops import rearrange"
   ]
  },
  {
   "cell_type": "code",
   "execution_count": 7,
   "id": "7214728f",
   "metadata": {},
   "outputs": [],
   "source": [
    "import random"
   ]
  },
  {
   "cell_type": "code",
   "execution_count": 8,
   "id": "a68cbc3e",
   "metadata": {},
   "outputs": [],
   "source": [
    "from torch.utils.data import DataLoader"
   ]
  },
  {
   "cell_type": "code",
   "execution_count": 9,
   "id": "f41473dd",
   "metadata": {},
   "outputs": [],
   "source": [
    "import torchvision.transforms as T"
   ]
  },
  {
   "cell_type": "code",
   "execution_count": 10,
   "id": "0e72087d",
   "metadata": {},
   "outputs": [],
   "source": [
    "from skimage.util import random_noise"
   ]
  },
  {
   "cell_type": "code",
   "execution_count": 11,
   "id": "65c3dcbb",
   "metadata": {},
   "outputs": [],
   "source": [
    "import matplotlib.pyplot as plt\n",
    "import seaborn as sns\n",
    "sns.set_theme()"
   ]
  },
  {
   "cell_type": "code",
   "execution_count": 12,
   "id": "ef921677",
   "metadata": {},
   "outputs": [
    {
     "name": "stderr",
     "output_type": "stream",
     "text": [
      "C:\\Users\\aag12\\anaconda3\\envs\\ml_env\\lib\\site-packages\\torchaudio\\backend\\utils.py:62: UserWarning: No audio backend is available.\n",
      "  warnings.warn(\"No audio backend is available.\")\n"
     ]
    }
   ],
   "source": [
    "import torchaudio"
   ]
  },
  {
   "cell_type": "code",
   "execution_count": 13,
   "id": "10dd49da",
   "metadata": {},
   "outputs": [],
   "source": [
    "from sklearn import preprocessing"
   ]
  },
  {
   "cell_type": "code",
   "execution_count": 14,
   "id": "0b4914d1",
   "metadata": {},
   "outputs": [],
   "source": [
    "from sklearn.model_selection import train_test_split"
   ]
  },
  {
   "cell_type": "code",
   "execution_count": null,
   "id": "dc6dbff6",
   "metadata": {},
   "outputs": [],
   "source": []
  },
  {
   "cell_type": "markdown",
   "id": "8864ad63",
   "metadata": {},
   "source": [
    "# Defining Dataseat"
   ]
  },
  {
   "cell_type": "code",
   "execution_count": 15,
   "id": "3c432a88",
   "metadata": {},
   "outputs": [],
   "source": [
    "from datasets import load_dataset"
   ]
  },
  {
   "cell_type": "code",
   "execution_count": 16,
   "id": "c2e2a3ed",
   "metadata": {},
   "outputs": [],
   "source": [
    "from datasets import disable_caching\n",
    "disable_caching()"
   ]
  },
  {
   "cell_type": "code",
   "execution_count": 17,
   "id": "d735a169",
   "metadata": {},
   "outputs": [],
   "source": [
    "# good_files = []\n",
    "# for i in range(1, 6):\n",
    "#     new_files = [f\"0{i}/{fname.replace('npy', '')}mp3\" for fname in os.listdir(f\"../../subset_moodtheme/0{i}\")]\n",
    "#     good_files.extend(new_files)\n",
    "\n",
    "# test_files = [f\"00/{fname.replace('npy', '')}mp3\" for fname in os.listdir(\"../../subset_moodtheme/00\")]\n",
    "# print(good_files)\n",
    "# print(test_files)"
   ]
  },
  {
   "cell_type": "code",
   "execution_count": 18,
   "id": "6386c2a5",
   "metadata": {},
   "outputs": [],
   "source": [
    "with open(\"goodfiles.txt\", 'r') as f:\n",
    "    all_files = f.readlines()\n",
    "all_files = [g.strip().replace(\"npy\", 'mp3') for g in all_files if len(g.strip()) > 0]"
   ]
  },
  {
   "cell_type": "code",
   "execution_count": 19,
   "id": "e64a05c5",
   "metadata": {},
   "outputs": [
    {
     "data": {
      "text/plain": [
       "['01/846501.mp3', '34/1288334.mp3', '98/1082098.mp3']"
      ]
     },
     "execution_count": 19,
     "metadata": {},
     "output_type": "execute_result"
    }
   ],
   "source": [
    "all_files[:3]"
   ]
  },
  {
   "cell_type": "code",
   "execution_count": null,
   "id": "ae153e5e",
   "metadata": {},
   "outputs": [],
   "source": []
  },
  {
   "cell_type": "code",
   "execution_count": 20,
   "id": "cc07061d",
   "metadata": {},
   "outputs": [],
   "source": [
    "good_files, test_files = train_test_split(all_files, test_size=0.2)"
   ]
  },
  {
   "cell_type": "code",
   "execution_count": 21,
   "id": "98d6ecc7",
   "metadata": {},
   "outputs": [
    {
     "data": {
      "text/plain": [
       "(2200, 551)"
      ]
     },
     "execution_count": 21,
     "metadata": {},
     "output_type": "execute_result"
    }
   ],
   "source": [
    "len(good_files), len(test_files)"
   ]
  },
  {
   "cell_type": "code",
   "execution_count": 22,
   "id": "b668f4e6",
   "metadata": {},
   "outputs": [],
   "source": [
    "def files_to_labels(files):\n",
    "    col_names = ['TRACK_ID',\n",
    "     'ARTIST_ID',\n",
    "     'ALBUM_ID',\n",
    "     'PATH',\n",
    "     'DURATION',\n",
    "     'TAGS',\n",
    "     'TAGS2',\n",
    "     'TAGS3',\n",
    "     'TAGS4',\n",
    "     'TAGS5',\n",
    "     'TAGS6',\n",
    "     'TAGS7',\n",
    "     'TAGS8',\n",
    "     'TAGS9']\n",
    "    MOODPATH = \"../../../Downloads/autotagging_moodtheme.tsv.txt\"\n",
    "    df = pd.read_csv(MOODPATH, sep='\\t', names=col_names)\n",
    "    df = df[df[\"PATH\"].isin(files)]\n",
    "    inds = {'fast': 0,\n",
    "     'sexy': 1,\n",
    "     'mellow': 2,\n",
    "     'heavy': 3,\n",
    "     'horror': 4,\n",
    "     'travel': 5,\n",
    "     'holiday': 6,\n",
    "     'groovy': 7,\n",
    "     'funny': 8,\n",
    "     'retro': 9,\n",
    "     'hopeful': 10,\n",
    "     'powerful': 11,\n",
    "     'cool': 12,\n",
    "     'nature': 13,\n",
    "     'game': 14}\n",
    "\n",
    "    final_labels = []\n",
    "    for i in range(len(df)):\n",
    "        curr = np.zeros(len(inds))\n",
    "        moods = list(df.iloc[i])[5:]\n",
    "        for theme in moods:\n",
    "            if type(theme) == str and \"mood\" in theme:\n",
    "                check = theme.split(\"---\")[-1]\n",
    "                if check in inds:\n",
    "                    curr[inds[check]] = 1\n",
    "            else:\n",
    "                pass\n",
    "\n",
    "        final_labels.append(curr)\n",
    "    return final_labels"
   ]
  },
  {
   "cell_type": "code",
   "execution_count": 23,
   "id": "0bb7f856",
   "metadata": {},
   "outputs": [
    {
     "data": {
      "text/plain": [
       "'48/1352848.mp3'"
      ]
     },
     "execution_count": 23,
     "metadata": {},
     "output_type": "execute_result"
    }
   ],
   "source": [
    "good_files[0]"
   ]
  },
  {
   "cell_type": "code",
   "execution_count": 24,
   "id": "c2682ea7",
   "metadata": {},
   "outputs": [
    {
     "data": {
      "text/plain": [
       "9140.625"
      ]
     },
     "execution_count": 24,
     "metadata": {},
     "output_type": "execute_result"
    }
   ],
   "source": [
    "195 * 12000 / 256"
   ]
  },
  {
   "cell_type": "code",
   "execution_count": 25,
   "id": "d5afc52f",
   "metadata": {},
   "outputs": [
    {
     "data": {
      "text/plain": [
       "53.01025641025641"
      ]
     },
     "execution_count": 25,
     "metadata": {},
     "output_type": "execute_result"
    }
   ],
   "source": [
    "10337 / 195"
   ]
  },
  {
   "cell_type": "code",
   "execution_count": null,
   "id": "5b09d0b3",
   "metadata": {},
   "outputs": [],
   "source": []
  },
  {
   "cell_type": "code",
   "execution_count": 26,
   "id": "07d2d0ea",
   "metadata": {},
   "outputs": [],
   "source": [
    "train_labels = files_to_labels(good_files)"
   ]
  },
  {
   "cell_type": "code",
   "execution_count": 27,
   "id": "d874d298",
   "metadata": {},
   "outputs": [],
   "source": [
    "test_labels = files_to_labels(test_files)"
   ]
  },
  {
   "cell_type": "code",
   "execution_count": 28,
   "id": "678f7c66",
   "metadata": {},
   "outputs": [
    {
     "data": {
      "text/plain": [
       "[array([0., 0., 0., 0., 0., 0., 0., 0., 0., 0., 0., 0., 1., 0., 0.]),\n",
       " array([0., 0., 0., 0., 0., 0., 0., 0., 0., 0., 0., 0., 1., 0., 0.])]"
      ]
     },
     "execution_count": 28,
     "metadata": {},
     "output_type": "execute_result"
    }
   ],
   "source": [
    "train_labels[:2]"
   ]
  },
  {
   "cell_type": "code",
   "execution_count": 29,
   "id": "545d632d",
   "metadata": {},
   "outputs": [],
   "source": [
    "# train_np_files = [(\"../../subset_moodtheme/\" + g).replace(\".mp3\", \".npy\") for g in good_files]\n",
    "# test_np_files = [(\"../../subset_moodtheme/\" + g).replace(\".mp3\", \".npy\") for g in test_files]\n",
    "train_np_files = [\"../../mtg-jamendo-dataset/all_data/\" + g.replace(\"mp3\", \"npy\") for g in good_files]\n",
    "test_np_files = [\"../../mtg-jamendo-dataset/all_data/\" + g.replace(\"mp3\", \"npy\") for g in test_files]"
   ]
  },
  {
   "cell_type": "code",
   "execution_count": 30,
   "id": "e9b18b4c",
   "metadata": {},
   "outputs": [
    {
     "data": {
      "text/plain": [
       "(['../../mtg-jamendo-dataset/all_data/48/1352848.npy',\n",
       "  '../../mtg-jamendo-dataset/all_data/26/1093426.npy'],\n",
       " ['../../mtg-jamendo-dataset/all_data/66/959966.npy',\n",
       "  '../../mtg-jamendo-dataset/all_data/97/1167297.npy'])"
      ]
     },
     "execution_count": 30,
     "metadata": {},
     "output_type": "execute_result"
    }
   ],
   "source": [
    "train_np_files[:2], test_np_files[:2]"
   ]
  },
  {
   "cell_type": "code",
   "execution_count": 31,
   "id": "dd90cdfb",
   "metadata": {},
   "outputs": [],
   "source": [
    "import time"
   ]
  },
  {
   "cell_type": "code",
   "execution_count": 32,
   "id": "284ea16b",
   "metadata": {},
   "outputs": [],
   "source": [
    "# SEQ_LEN = 10000\n",
    "SEQ_LEN = 3000\n",
    "# SEQ_LEN = 5000"
   ]
  },
  {
   "cell_type": "markdown",
   "id": "4bc34141",
   "metadata": {},
   "source": [
    "# Dataset"
   ]
  },
  {
   "cell_type": "code",
   "execution_count": 33,
   "id": "41b7382f",
   "metadata": {},
   "outputs": [],
   "source": [
    "from torchvision import transforms"
   ]
  },
  {
   "cell_type": "code",
   "execution_count": 34,
   "id": "607d4798",
   "metadata": {},
   "outputs": [],
   "source": [
    "class MusicDataset(torch.utils.data.Dataset):   \n",
    "    def __init__(self, np_file_paths, labels, transforms, seq_len=10000, random_start=True, rolling=False, upsample_factor=10):\n",
    "        self.seq_len = seq_len\n",
    "        self.files = np_file_paths\n",
    "        self.labels = labels\n",
    "        self.transforms = transforms\n",
    "        self.random_start = random_start\n",
    "        self.upsample_factor = upsample_factor\n",
    "        self.rolling = rolling\n",
    "        \n",
    "    def __len__(self):\n",
    "        return len(self.files) * self.upsample_factor\n",
    "\n",
    "    def __getitem__(self, index):\n",
    "        if index > len(self.files) * self.upsample_factor:\n",
    "            self.files[index]\n",
    "        effective_index = index % len(self.files)\n",
    "        fname = self.files[effective_index]\n",
    "        x = np.load(fname)\n",
    "        x = torch.from_numpy(x).float()\n",
    "        rolls = []\n",
    "        if self.rolling:\n",
    "            cur_start = 0\n",
    "            while cur_start < x.shape[1]:\n",
    "                old_x = x[:,cur_start:cur_start + self.seq_len].unsqueeze(0)\n",
    "                # clamp between bounds and scale\n",
    "                compressed_x = (torch.clamp(old_x, min=-90, max=30) + 90) / 120\n",
    "\n",
    "                new_x = self.transforms(compressed_x)\n",
    "                cur_start += self.seq_len\n",
    "                rolls.append(new_x)\n",
    "        if self.random_start and x.shape[-1] > self.seq_len:\n",
    "            # longer than seqlen, select random subset\n",
    "            start = random.randint(0, x.shape[-1] - self.seq_len)\n",
    "            x = x[:,start:start+self.seq_len]    \n",
    "        else:\n",
    "            x = x[:,:self.seq_len]\n",
    "\n",
    "        old_x = x.unsqueeze(0)\n",
    "        compressed_x = (torch.clamp(old_x, min=-90, max=30) + 90) / 120\n",
    "        x = self.transforms(compressed_x)\n",
    "        \n",
    "#         item = {\"input\": x, \"label_ids\":[effective_index], \"labels\": torch.tensor(self.labels[effective_index]), \"pixel_values\":x}\n",
    "        item = {\"input\": x, \"rolls\":rolls, \"label_ids\":[effective_index], \"labels\": torch.tensor(self.labels[effective_index]), \"pixel_values\":x}\n",
    "#         item = {\"input\": x, \"pixel_values\":x}\n",
    "        \n",
    "        return item"
   ]
  },
  {
   "cell_type": "code",
   "execution_count": 35,
   "id": "6e5863bb",
   "metadata": {},
   "outputs": [],
   "source": [
    "class AddGaussianNoise(object):\n",
    "    def __init__(self, mean=0., std=1.):\n",
    "        self.std = std\n",
    "        self.mean = mean\n",
    "        \n",
    "    def __call__(self, tensor):\n",
    "        return tensor + torch.randn(tensor.size()) * self.std + self.mean\n",
    "    \n",
    "    def __repr__(self):\n",
    "        return self.__class__.__name__ + '(mean={0}, std={1})'.format(self.mean, self.std)"
   ]
  },
  {
   "cell_type": "code",
   "execution_count": 36,
   "id": "47de11a0",
   "metadata": {},
   "outputs": [],
   "source": [
    "# img_size = 224\n",
    "img_size = 496\n",
    "noise_composed = transforms.Compose([\n",
    "#    transforms.Resize((img_size, img_size)),\n",
    "       transforms.Resize((96, img_size)),\n",
    "#     transforms.Normalize((0.5542), (0.1604)),\n",
    "#     AddGaussianNoise(0., 0.04)\n",
    "])\n",
    "nonoise_composed = transforms.Compose([\n",
    "#    transforms.Resize((img_size, img_size)),\n",
    "       transforms.Resize((96, img_size)),\n",
    "#     transforms.Normalize((0.5542), (0.1604))\n",
    "])"
   ]
  },
  {
   "cell_type": "code",
   "execution_count": 37,
   "id": "59d7afb6",
   "metadata": {},
   "outputs": [],
   "source": [
    "# ft_train_dataset = MusicDataset(train_np_files, train_labels, noise_composed, seq_len=SEQ_LEN, random_start=True, upsample_factor=2)\n",
    "# ft_test_dataset = MusicDataset(test_np_files, test_labels, nonoise_composed, seq_len=SEQ_LEN, random_start=False, upsample_factor=1)\n",
    "\n",
    "ft_train_dataset = MusicDataset(train_np_files, train_labels, noise_composed, seq_len=SEQ_LEN, random_start=False, upsample_factor=2)\n",
    "ft_test_dataset = MusicDataset(test_np_files, test_labels, nonoise_composed, seq_len=SEQ_LEN, random_start=False, upsample_factor=1)"
   ]
  },
  {
   "cell_type": "code",
   "execution_count": 38,
   "id": "181819ca",
   "metadata": {},
   "outputs": [],
   "source": [
    "ft_random_test_dataset = MusicDataset(test_np_files, test_labels, nonoise_composed, seq_len=SEQ_LEN, random_start=True, upsample_factor=1)"
   ]
  },
  {
   "cell_type": "code",
   "execution_count": 39,
   "id": "d792553e",
   "metadata": {},
   "outputs": [],
   "source": [
    "ft_roll_test_dataset = MusicDataset(test_np_files, test_labels, nonoise_composed, seq_len=SEQ_LEN, rolling=True, random_start=False, upsample_factor=1)\n",
    "ft_roll_train_dataset = MusicDataset(train_np_files, train_labels, nonoise_composed, seq_len=SEQ_LEN, rolling=True, random_start=False, upsample_factor=1)"
   ]
  },
  {
   "cell_type": "code",
   "execution_count": null,
   "id": "46c23656",
   "metadata": {},
   "outputs": [],
   "source": []
  },
  {
   "cell_type": "code",
   "execution_count": null,
   "id": "a82b24ac",
   "metadata": {},
   "outputs": [],
   "source": []
  },
  {
   "cell_type": "code",
   "execution_count": 40,
   "id": "22ab1b9f",
   "metadata": {},
   "outputs": [],
   "source": [
    "batch_size = 8"
   ]
  },
  {
   "cell_type": "code",
   "execution_count": 41,
   "id": "c7ba2a63",
   "metadata": {},
   "outputs": [],
   "source": [
    "# train_dl = DataLoader(\n",
    "#     pt_train_dataset,\n",
    "#     batch_size=batch_size,\n",
    "#     shuffle=True,\n",
    "#     num_workers=0,\n",
    "#     collate_fn=None,\n",
    "#     pin_memory=False,\n",
    "#  )\n",
    "\n",
    "# test_dl = DataLoader(\n",
    "#     pt_test_dataset,\n",
    "#     batch_size=1,\n",
    "#     shuffle=False,\n",
    "#     num_workers=0,\n",
    "#     collate_fn=None,\n",
    "#     pin_memory=False,\n",
    "#  )"
   ]
  },
  {
   "cell_type": "code",
   "execution_count": null,
   "id": "cf574a31",
   "metadata": {},
   "outputs": [],
   "source": []
  },
  {
   "cell_type": "code",
   "execution_count": null,
   "id": "51eb638d",
   "metadata": {},
   "outputs": [],
   "source": []
  },
  {
   "cell_type": "code",
   "execution_count": null,
   "id": "003da31f",
   "metadata": {},
   "outputs": [],
   "source": []
  },
  {
   "cell_type": "markdown",
   "id": "82d06691",
   "metadata": {},
   "source": [
    "## VIT SMALL"
   ]
  },
  {
   "cell_type": "code",
   "execution_count": 42,
   "id": "1dac1ed5",
   "metadata": {},
   "outputs": [],
   "source": [
    "from vit_pytorch.vit_for_small_dataset import ViT"
   ]
  },
  {
   "cell_type": "code",
   "execution_count": 43,
   "id": "e688cba8",
   "metadata": {},
   "outputs": [],
   "source": [
    "from tqdm import tqdm\n",
    "import torch.optim as optim"
   ]
  },
  {
   "cell_type": "code",
   "execution_count": 44,
   "id": "10401d7c",
   "metadata": {},
   "outputs": [],
   "source": [
    "class MultiHeadedOutput(nn.Module):\n",
    "    def __init__(self):\n",
    "        super(MultiHeadedOutput, self).__init__()\n",
    "        \n",
    "        self.heads = nn.ModuleList([\n",
    "            nn.Sequential(\n",
    "                    nn.LayerNorm(512),\n",
    "                    nn.Linear(512, 1024),\n",
    "                    nn.LeakyReLU(), \n",
    "                    nn.Dropout(0.1),\n",
    "                    nn.Linear(1024, 512),\n",
    "                    nn.LeakyReLU(), \n",
    "                    nn.Linear(512, 1)\n",
    "#                     nn.Linear(512, 2)\n",
    "            ) for i in range(15)\n",
    "#             ) for i in range(1)\n",
    "        ])\n",
    "        \n",
    "    def forward(self, x: torch.Tensor):\n",
    "        outputs = torch.stack([h(x) for h in self.heads], dim=1)\n",
    "        return outputs"
   ]
  },
  {
   "cell_type": "markdown",
   "id": "c8821646",
   "metadata": {},
   "source": [
    "# Finetuning MAE for Task"
   ]
  },
  {
   "cell_type": "code",
   "execution_count": 45,
   "id": "f39073fc",
   "metadata": {},
   "outputs": [],
   "source": [
    "h = MultiHeadedOutput()"
   ]
  },
  {
   "cell_type": "code",
   "execution_count": 46,
   "id": "99d8c99f",
   "metadata": {},
   "outputs": [],
   "source": [
    "device = torch.device('cuda') if torch.cuda.is_available() else torch.device('cpu')"
   ]
  },
  {
   "cell_type": "code",
   "execution_count": 47,
   "id": "eb3e1cd7",
   "metadata": {},
   "outputs": [],
   "source": [
    "# batch_size = 32\n",
    "# batch_size = 64\n",
    "batch_size = 128"
   ]
  },
  {
   "cell_type": "code",
   "execution_count": 48,
   "id": "bd8dcfd8",
   "metadata": {},
   "outputs": [],
   "source": [
    "ft_train_dl = DataLoader(\n",
    "    ft_train_dataset,\n",
    "    batch_size=batch_size,\n",
    "    shuffle=True,\n",
    "    num_workers=0,\n",
    "    collate_fn=None,\n",
    "    pin_memory=False,\n",
    " )\n",
    "\n",
    "ft_test_dl = DataLoader(\n",
    "    ft_test_dataset,\n",
    "    batch_size=1,\n",
    "    shuffle=False,\n",
    "    num_workers=0,\n",
    "    collate_fn=None,\n",
    "    pin_memory=False,\n",
    " )\n",
    "\n",
    "\n",
    "ft_random_test_dl = DataLoader(\n",
    "    ft_random_test_dataset,\n",
    "    batch_size=1,\n",
    "    shuffle=False,\n",
    "    num_workers=0,\n",
    "    collate_fn=None,\n",
    "    pin_memory=False,\n",
    " )\n"
   ]
  },
  {
   "cell_type": "code",
   "execution_count": 49,
   "id": "647174de",
   "metadata": {},
   "outputs": [],
   "source": [
    "from transformers import ViTConfig, ViTModel\n",
    "# from vit_pytorch import ViT, MAE\n",
    "from vit_pytorch.vit_for_small_dataset import ViT"
   ]
  },
  {
   "cell_type": "code",
   "execution_count": 50,
   "id": "be5de8d7",
   "metadata": {},
   "outputs": [],
   "source": [
    "v_for_downstream = ViT(\n",
    "    image_size = (96, 496),\n",
    "    patch_size = 16,\n",
    "    num_classes = 15,\n",
    "    dim = 512,\n",
    "#     depth = 6,\n",
    "#     heads = 16,\n",
    "    depth = 4,\n",
    "    heads = 6,\n",
    "    mlp_dim = 512,\n",
    "    dropout = 0.1,\n",
    "    emb_dropout = 0.1,\n",
    "    channels=1\n",
    ")"
   ]
  },
  {
   "cell_type": "code",
   "execution_count": 51,
   "id": "16008b62",
   "metadata": {},
   "outputs": [
    {
     "data": {
      "text/plain": [
       "Sequential(\n",
       "  (0): LayerNorm((512,), eps=1e-05, elementwise_affine=True)\n",
       "  (1): Linear(in_features=512, out_features=15, bias=True)\n",
       ")"
      ]
     },
     "execution_count": 51,
     "metadata": {},
     "output_type": "execute_result"
    }
   ],
   "source": [
    "v_for_downstream.mlp_head"
   ]
  },
  {
   "cell_type": "code",
   "execution_count": 52,
   "id": "589f3967",
   "metadata": {},
   "outputs": [],
   "source": [
    "def set_module_requires_grad_(module, requires_grad):\n",
    "    for param in module.parameters():\n",
    "        param.requires_grad = requires_grad\n",
    "def freeze_all_layers_(module):\n",
    "    set_module_requires_grad_(module, False)"
   ]
  },
  {
   "cell_type": "code",
   "execution_count": 53,
   "id": "cb794574",
   "metadata": {},
   "outputs": [],
   "source": [
    "new_head = MultiHeadedOutput()"
   ]
  },
  {
   "cell_type": "code",
   "execution_count": 54,
   "id": "10b3920e",
   "metadata": {},
   "outputs": [],
   "source": [
    "v_for_downstream.mlp_head = new_head"
   ]
  },
  {
   "cell_type": "code",
   "execution_count": 55,
   "id": "d9fb8fae",
   "metadata": {},
   "outputs": [],
   "source": [
    "model = v_for_downstream"
   ]
  },
  {
   "cell_type": "code",
   "execution_count": 56,
   "id": "0a0b7f45",
   "metadata": {},
   "outputs": [],
   "source": [
    "model = model.to(device)"
   ]
  },
  {
   "cell_type": "code",
   "execution_count": null,
   "id": "af70528e",
   "metadata": {},
   "outputs": [],
   "source": []
  },
  {
   "cell_type": "code",
   "execution_count": 57,
   "id": "f50d6015",
   "metadata": {},
   "outputs": [],
   "source": [
    "from tqdm import tqdm\n",
    "import torch.optim as optim"
   ]
  },
  {
   "cell_type": "code",
   "execution_count": null,
   "id": "3b1fd579",
   "metadata": {},
   "outputs": [],
   "source": []
  },
  {
   "cell_type": "code",
   "execution_count": 58,
   "id": "99f6e3fb",
   "metadata": {},
   "outputs": [
    {
     "name": "stderr",
     "output_type": "stream",
     "text": [
      "C:\\Users\\aag12\\AppData\\Local\\Temp\\ipykernel_38852\\2238443094.py:1: UserWarning: Creating a tensor from a list of numpy.ndarrays is extremely slow. Please consider converting the list to a single numpy.ndarray with numpy.array() before converting to a tensor. (Triggered internally at C:\\cb\\pytorch_1000000000000\\work\\torch\\csrc\\utils\\tensor_new.cpp:233.)\n",
      "  pos_weight = 1 / (torch.sum(torch.tensor(test_labels), dim=0) / len(test_labels))\n",
      "C:\\Users\\aag12\\AppData\\Local\\Temp\\ipykernel_38852\\2238443094.py:2: UserWarning: To copy construct from a tensor, it is recommended to use sourceTensor.clone().detach() or sourceTensor.clone().detach().requires_grad_(True), rather than torch.tensor(sourceTensor).\n",
      "  pos_weight = 0 * torch.tensor(pos_weight) + 1\n"
     ]
    }
   ],
   "source": [
    "pos_weight = 1 / (torch.sum(torch.tensor(test_labels), dim=0) / len(test_labels))\n",
    "pos_weight = 0 * torch.tensor(pos_weight) + 1\n",
    "# pos_weight = pos_weight / 2"
   ]
  },
  {
   "cell_type": "code",
   "execution_count": 59,
   "id": "fc3c1af9",
   "metadata": {},
   "outputs": [
    {
     "data": {
      "text/plain": [
       "tensor([1., 1., 1., 1., 1., 1., 1., 1., 1., 1., 1., 1., 1., 1., 1.],\n",
       "       dtype=torch.float64)"
      ]
     },
     "execution_count": 59,
     "metadata": {},
     "output_type": "execute_result"
    }
   ],
   "source": [
    "pos_weight"
   ]
  },
  {
   "cell_type": "code",
   "execution_count": 60,
   "id": "29a7e045",
   "metadata": {},
   "outputs": [],
   "source": [
    "# optimizer = optim.AdamW(model.parameters(), lr=1e-3)\n",
    "# optimizer = optim.AdamW(model.parameters(), lr=1e-4)\n",
    "# optimizer = optim.AdamW(model.mlp_head.parameters(), lr=1e-3)\n",
    "# optimizer = optim.AdamW(model.mlp_head.parameters(), lr=1e-2)\n",
    "optimizer = optim.AdamW(model.mlp_head.parameters(), lr=3e-5, weight_decay=0.05, betas=(0.9, 0.95))\n",
    "# optimizer = optim.AdamW(model.mlp_head.parameters(), lr=1e-3, weight_decay=0.1, betas=(0.9, 0.95))\n",
    "# optimizer = optim.AdamW(model.mlp_head.parameters(), lr=5e-3, weight_decay=0.1, betas=(0.9, 0.95))\n",
    "# criterion = nn.BCELoss()\n",
    "# criterion = nn.BCEWithLogitsLoss(pos_weight = pos_weight.to(device))\n",
    "# criterions = [nn.BCEWithLogitsLoss(pos_weight=pos_weight[i].unsqueeze(0).to(device)) for i in range(15)]\n",
    "criterions = [nn.BCEWithLogitsLoss() for i in range(15)]"
   ]
  },
  {
   "cell_type": "code",
   "execution_count": null,
   "id": "eec7a3eb",
   "metadata": {},
   "outputs": [],
   "source": []
  },
  {
   "cell_type": "code",
   "execution_count": 61,
   "id": "fbdaaf88",
   "metadata": {},
   "outputs": [],
   "source": [
    "def get_mask(targs):\n",
    "    mask = []\n",
    "    for val in targs:\n",
    "        m = int(val) == 1 or random.random() < (1/15)\n",
    "        mask.append(m)\n",
    "    return mask"
   ]
  },
  {
   "cell_type": "code",
   "execution_count": 62,
   "id": "14040d25",
   "metadata": {},
   "outputs": [],
   "source": [
    "def get_total_loss(model, dataloader):\n",
    "    total_loss = 0\n",
    "    for batch_idx, data in enumerate(dataloader):\n",
    "        inputs, labels = data['input'].to(device), data['labels'].to(device)\n",
    "\n",
    "        outputs = model(inputs)\n",
    "\n",
    "#         total_loss += criterion(outputs, labels.float())\n",
    "        for i in range(15):\n",
    "            criterion = criterions[i]\n",
    "#             target = torch.zeros_like(outputs[:,i])\n",
    "#             target = outputs[:,i,1]\n",
    "#             target[:,labels[:,i].long()] = 1\n",
    "#             for ind in range(len(target)):\n",
    "#                 target[ind,labels[ind,i].long()] = 1\n",
    "#             target = target.to(device)\n",
    "#             total_loss += criterion(outputs[:,i], target)\n",
    "#             total_loss += criterion(outputs[:,i], labels[:,i])\n",
    "            total_loss += criterion(outputs[:,i,0], labels[:,i])\n",
    "    return total_loss.item()"
   ]
  },
  {
   "cell_type": "code",
   "execution_count": null,
   "id": "9486c6fc",
   "metadata": {},
   "outputs": [],
   "source": []
  },
  {
   "cell_type": "code",
   "execution_count": 64,
   "id": "a301de6d",
   "metadata": {},
   "outputs": [
    {
     "name": "stderr",
     "output_type": "stream",
     "text": [
      "100%|██████████████████████████████████████████████████████████████████████████████████████████| 35/35 [00:48<00:00,  1.38s/it]\n"
     ]
    },
    {
     "name": "stdout",
     "output_type": "stream",
     "text": [
      "Epoch: 0; Total Loss: 205.49754866518683; Test Loss: 2078.778688196093\n"
     ]
    },
    {
     "name": "stderr",
     "output_type": "stream",
     "text": [
      "100%|██████████████████████████████████████████████████████████████████████████████████████████| 35/35 [00:39<00:00,  1.13s/it]\n"
     ]
    },
    {
     "name": "stdout",
     "output_type": "stream",
     "text": [
      "Epoch: 1; Total Loss: 133.20868206121182; Test Loss: 2078.5395095981658\n"
     ]
    },
    {
     "name": "stderr",
     "output_type": "stream",
     "text": [
      "100%|██████████████████████████████████████████████████████████████████████████████████████████| 35/35 [00:41<00:00,  1.18s/it]\n"
     ]
    },
    {
     "name": "stdout",
     "output_type": "stream",
     "text": [
      "Epoch: 2; Total Loss: 132.53571232668278; Test Loss: 2072.513253238052\n"
     ]
    },
    {
     "name": "stderr",
     "output_type": "stream",
     "text": [
      "100%|██████████████████████████████████████████████████████████████████████████████████████████| 35/35 [00:38<00:00,  1.11s/it]\n"
     ]
    },
    {
     "name": "stdout",
     "output_type": "stream",
     "text": [
      "Epoch: 3; Total Loss: 132.74238805120208; Test Loss: 2080.8327669762075\n"
     ]
    },
    {
     "name": "stderr",
     "output_type": "stream",
     "text": [
      "100%|██████████████████████████████████████████████████████████████████████████████████████████| 35/35 [00:40<00:00,  1.15s/it]\n"
     ]
    },
    {
     "name": "stdout",
     "output_type": "stream",
     "text": [
      "Epoch: 4; Total Loss: 132.65179702865134; Test Loss: 2077.8955909200013\n"
     ]
    },
    {
     "name": "stderr",
     "output_type": "stream",
     "text": [
      "100%|██████████████████████████████████████████████████████████████████████████████████████████| 35/35 [00:42<00:00,  1.21s/it]\n"
     ]
    },
    {
     "name": "stdout",
     "output_type": "stream",
     "text": [
      "Epoch: 5; Total Loss: 132.6398768435174; Test Loss: 2083.387766016647\n"
     ]
    },
    {
     "name": "stderr",
     "output_type": "stream",
     "text": [
      "100%|██████████████████████████████████████████████████████████████████████████████████████████| 35/35 [00:40<00:00,  1.16s/it]\n"
     ]
    },
    {
     "name": "stdout",
     "output_type": "stream",
     "text": [
      "Epoch: 6; Total Loss: 132.6242459466254; Test Loss: 2078.5912033319473\n"
     ]
    },
    {
     "name": "stderr",
     "output_type": "stream",
     "text": [
      "100%|██████████████████████████████████████████████████████████████████████████████████████████| 35/35 [00:41<00:00,  1.17s/it]\n"
     ]
    },
    {
     "name": "stdout",
     "output_type": "stream",
     "text": [
      "Epoch: 7; Total Loss: 132.58005256777201; Test Loss: 2077.745145946741\n"
     ]
    },
    {
     "name": "stderr",
     "output_type": "stream",
     "text": [
      "100%|██████████████████████████████████████████████████████████████████████████████████████████| 35/35 [00:41<00:00,  1.18s/it]\n"
     ]
    },
    {
     "name": "stdout",
     "output_type": "stream",
     "text": [
      "Epoch: 8; Total Loss: 132.63490434916457; Test Loss: 2076.3672503083944\n"
     ]
    },
    {
     "name": "stderr",
     "output_type": "stream",
     "text": [
      "100%|██████████████████████████████████████████████████████████████████████████████████████████| 35/35 [00:40<00:00,  1.16s/it]\n"
     ]
    },
    {
     "name": "stdout",
     "output_type": "stream",
     "text": [
      "Epoch: 9; Total Loss: 132.7075645996762; Test Loss: 2075.591903489083\n"
     ]
    }
   ],
   "source": [
    "model.train()\n",
    "ft_train_losses = []\n",
    "ft_test_losses = []\n",
    "for epoch in range(10):\n",
    "# for epoch in range(5):\n",
    "    total_loss = 0\n",
    "#     for batch in train_loader:\n",
    "    for batch_idx, data in tqdm(enumerate(ft_train_dl), total=len(ft_train_dl)):\n",
    "        these_losses = []\n",
    "        optimizer.zero_grad()\n",
    "        inputs, labels = data['input'].to(device), data['labels'].to(device)\n",
    "        outputs = model(inputs)\n",
    "        \n",
    "#         loss = criterion(outputs, labels)\n",
    "        loss = 0\n",
    "        for i in range(15):\n",
    "            criterion = criterions[i]\n",
    "#             target = torch.zeros_like(outputs[:,i])\n",
    "#             target = outputs[:,i, 1]\n",
    "#             target[:,labels[:,i].long()] = 1\n",
    "#             for ind in range(len(target)):\n",
    "#                 target[ind,labels[ind,i].long()] = 1\n",
    "#             target = target.to(device)\n",
    "#             loss += criterion(outputs[:,i,1], target)\n",
    "            \n",
    "            cur_outs = outputs[:,i,0]\n",
    "            cur_targs = labels[:,i]\n",
    "            \n",
    "            num_pos = int(cur_targs.sum()) - 2\n",
    "            num_neg_to_include = max(num_pos, 1)\n",
    "            pos_outs = cur_outs[cur_targs == 1]\n",
    "            neg_outs = cur_outs[cur_targs == 0]\n",
    "            \n",
    "            pos_targs = cur_targs[cur_targs == 1]\n",
    "            neg_targs = cur_targs[cur_targs == 0]\n",
    "            \n",
    "            balanced_outs = torch.cat([pos_outs, neg_outs[:num_neg_to_include]])\n",
    "            balanced_targs = torch.cat([pos_targs, neg_targs[:num_neg_to_include]])\n",
    "            \n",
    "            loss += criterion(cur_outs, cur_targs)\n",
    "        loss.backward()\n",
    "        optimizer.step()\n",
    "        # for bookkeeping\n",
    "        total_loss += loss.item()\n",
    "        \n",
    "    with torch.no_grad():\n",
    "        train_total_loss = total_loss\n",
    "        test_loss = get_total_loss(model, ft_test_dl)\n",
    "        ft_train_losses.append(train_total_loss)\n",
    "        ft_test_losses.append(test_loss)\n",
    "        print(f\"Epoch: {epoch}; Total Loss: {train_total_loss}; Test Loss: {test_loss}\")\n",
    "#         print(f\"Epoch: {epoch}; Loss: {adjusted}; Test Loss: {test_loss}\")\n",
    "\n",
    "_ = model.eval()"
   ]
  },
  {
   "cell_type": "code",
   "execution_count": null,
   "id": "1f5efff6",
   "metadata": {},
   "outputs": [],
   "source": []
  },
  {
   "cell_type": "code",
   "execution_count": 65,
   "id": "f2e59c8b",
   "metadata": {},
   "outputs": [
    {
     "data": {
      "text/plain": [
       "Text(0.5, 1.0, 'MAE v2 (no norm): Finetuning Train/Test Loss')"
      ]
     },
     "execution_count": 65,
     "metadata": {},
     "output_type": "execute_result"
    },
    {
     "data": {
      "image/png": "[encoded data removed]",
      "text/plain": [
       "<Figure size 1152x720 with 2 Axes>"
      ]
     },
     "metadata": {
      "needs_background": "light"
     },
     "output_type": "display_data"
    }
   ],
   "source": [
    "plt.figure(figsize=(16, 10))\n",
    "ranger = list(range(len(ft_train_losses)))\n",
    "sns.lineplot(x=ranger, y=ft_train_losses, label=\"total train loss\", alpha=1)\n",
    "# sns.lineplot(x=ranger, y=adjusted_train_losses, label=\"adjusted train loss\")\n",
    "ax2 = plt.twinx()\n",
    "sns.lineplot(x=ranger, y=ft_test_losses, label=\"test loss\", ax=ax2, color=\"orange\", alpha=1)\n",
    "# sns.lineplot(x=ranger, y=ft_test_losses, label=\"test loss\", color=\"orange\", alpha=0.5)\n",
    "# plt.title(\"MAE v1: Finetuning Train/Test Loss\")\n",
    "plt.title(\"MAE v2 (no norm): Finetuning Train/Test Loss\")\n",
    "# plt.savefig(\"mae_v1.png\")"
   ]
  },
  {
   "cell_type": "code",
   "execution_count": null,
   "id": "4c814ff7",
   "metadata": {},
   "outputs": [],
   "source": []
  },
  {
   "cell_type": "code",
   "execution_count": null,
   "id": "1ec49f4f",
   "metadata": {},
   "outputs": [],
   "source": []
  },
  {
   "cell_type": "code",
   "execution_count": 69,
   "id": "2629a017",
   "metadata": {},
   "outputs": [
    {
     "name": "stdout",
     "output_type": "stream",
     "text": [
      "0.9304295220810648\n",
      "7690 out of 8265\n",
      "Performance on positive labels\n",
      "0.0\n",
      "0 out of 575.0\n",
      "WHAT IF WE JUST PREDICTED ZERO\n",
      "0.9304295220810648\n",
      "7690 out of 8265\n"
     ]
    }
   ],
   "source": [
    "model.eval()\n",
    "\n",
    "combined_preds = []\n",
    "combined_labels = []\n",
    "\n",
    "with torch.no_grad():\n",
    "#     a = model(dataset[2]['input'].to(device))\n",
    "    total_correct = 0\n",
    "    zero_correct = 0\n",
    "    total_values = 0\n",
    "    only_positives = [0, 0]\n",
    "    for batch_idx, data in enumerate(ft_test_dl):\n",
    "#     for batch_idx, data in enumerate(ft_random_test_dl):\n",
    "#     for batch_idx, data in enumerate(ft_roll_test_dataset):\n",
    "#     for batch_idx, data in enumerate(ft_roll_train_dataset):\n",
    "#     for batch_idx, data in enumerate(ft_train_dl):\n",
    "        if 'rolls' not in data or len(data['rolls']) == 0:\n",
    "            inputs, labels = data['input'].to(device), data['labels'].to(device)\n",
    "            outputs = model(inputs)\n",
    "            outputs = torch.sigmoid(outputs[:,:,0])\n",
    "        else:\n",
    "            all_outputs = []\n",
    "            labels = data['labels'].to(device)\n",
    "            labels = labels.unsqueeze(0)\n",
    "            for inputs in data['rolls']:\n",
    "                cur_inputs = inputs.unsqueeze(0).to(device)\n",
    "                outputs = model(cur_inputs)\n",
    "                outputs = torch.sigmoid(outputs[:,:,0])\n",
    "                all_outputs.append(outputs)\n",
    "            outputs = torch.cat(all_outputs).mean(dim=0)\n",
    "            outputs = outputs.unsqueeze(0)\n",
    "#         combined_preds.append(outputs)\n",
    "        combined_labels.append(labels)\n",
    "        \n",
    "        outlabels = torch.zeros_like(outputs)\n",
    "#         outlabels = torch.argmax(outputs, dim=-1)\n",
    "#         outlabels = torch.outputs\n",
    "        combined_preds.append(outputs)\n",
    "        outlabels[outputs >= 0.5] = 1\n",
    "        outlabels[outputs < 0.5] = 0\n",
    "        \n",
    "        num_correct = torch.sum(outlabels == labels).item()\n",
    "        \n",
    "        num = len(labels) * 15\n",
    "        \n",
    "        total_correct += num_correct\n",
    "        total_values += num\n",
    "        zero_correct += torch.sum(labels == 0).item()\n",
    "        \n",
    "        only_positives[0] += torch.sum(labels).item()\n",
    "        only_positives[1] += torch.sum(labels[labels == 1] == outlabels[labels == 1]).item()\n",
    "        \n",
    "\n",
    "print(total_correct / total_values)\n",
    "\n",
    "print(f\"{total_correct} out of {total_values}\")\n",
    "\n",
    "print(\"Performance on positive labels\")\n",
    "\n",
    "print(only_positives[1] / only_positives[0])\n",
    "\n",
    "print(f\"{only_positives[1]} out of {only_positives[0]}\")\n",
    "\n",
    "print(\"WHAT IF WE JUST PREDICTED ZERO\")\n",
    "\n",
    "print(zero_correct / total_values)\n",
    "\n",
    "print(f\"{zero_correct} out of {total_values}\")"
   ]
  },
  {
   "cell_type": "code",
   "execution_count": 70,
   "id": "9ff61d98",
   "metadata": {},
   "outputs": [
    {
     "data": {
      "text/plain": [
       "(torch.Size([551, 15]), torch.Size([551, 15]))"
      ]
     },
     "execution_count": 70,
     "metadata": {},
     "output_type": "execute_result"
    }
   ],
   "source": [
    "all_preds = torch.cat(combined_preds)\n",
    "all_labels = torch.cat(combined_labels)\n",
    "all_preds.shape, all_labels.shape"
   ]
  },
  {
   "cell_type": "code",
   "execution_count": 71,
   "id": "9a795fea",
   "metadata": {},
   "outputs": [
    {
     "data": {
      "text/plain": [
       "551"
      ]
     },
     "execution_count": 71,
     "metadata": {},
     "output_type": "execute_result"
    }
   ],
   "source": [
    "len(ft_test_dataset)"
   ]
  },
  {
   "cell_type": "code",
   "execution_count": 72,
   "id": "683eef2b",
   "metadata": {},
   "outputs": [],
   "source": [
    "from sklearn import metrics"
   ]
  },
  {
   "cell_type": "code",
   "execution_count": 73,
   "id": "af7a9704",
   "metadata": {},
   "outputs": [
    {
     "data": {
      "text/plain": [
       "tensor([ 3.0853,  3.6298,  6.8966,  6.1706,  6.8966,  6.5336,  6.8966,  6.5336,\n",
       "         5.9891,  8.3485,  8.1670,  7.2595,  8.8929,  8.3485, 10.7078],\n",
       "       device='cuda:0', dtype=torch.float64)"
      ]
     },
     "execution_count": 73,
     "metadata": {},
     "output_type": "execute_result"
    }
   ],
   "source": [
    "torch.cat(combined_labels).sum(dim=0) / len(combined_labels) * 100"
   ]
  },
  {
   "cell_type": "code",
   "execution_count": 74,
   "id": "b411a48c",
   "metadata": {},
   "outputs": [
    {
     "name": "stdout",
     "output_type": "stream",
     "text": [
      "Head: 0; AUC: 0.544393038114122\n",
      "Head: 1; AUC: 0.47900188323917137\n",
      "Head: 2; AUC: 0.5563250230840259\n",
      "Head: 3; AUC: 0.5054613721697576\n",
      "Head: 4; AUC: 0.49764029957935774\n",
      "Head: 5; AUC: 0.4665318230852211\n",
      "Head: 6; AUC: 0.43698060941828254\n",
      "Head: 7; AUC: 0.523705501618123\n",
      "Head: 8; AUC: 0.49432549432549433\n",
      "Head: 9; AUC: 0.55469220835127\n",
      "Head: 10; AUC: 0.5203776899429073\n",
      "Head: 11; AUC: 0.4900195694716243\n",
      "Head: 12; AUC: 0.5385397186763152\n",
      "Head: 13; AUC: 0.5179724494188549\n",
      "Head: 14; AUC: 0.45993523494556976\n"
     ]
    }
   ],
   "source": [
    "aucs = []\n",
    "for i in range(15):\n",
    "    preds = all_preds[:,i].cpu()\n",
    "    targs = all_labels[:,i].cpu()\n",
    "#     fpr, tpr, thresholds = metrics.roc_curve(targs, preds, pos_label=1)\n",
    "    fpr, tpr, thresholds = metrics.roc_curve(targs, preds, pos_label=1)\n",
    "    auc = metrics.auc(fpr, tpr)\n",
    "    aucs.append(auc)\n",
    "    print(f\"Head: {i}; AUC: {auc}\")"
   ]
  },
  {
   "cell_type": "code",
   "execution_count": 75,
   "id": "ee9bca68",
   "metadata": {},
   "outputs": [],
   "source": [
    "good_aucs = [a for a in aucs if a > 0.5]"
   ]
  },
  {
   "cell_type": "code",
   "execution_count": 76,
   "id": "1df9300b",
   "metadata": {},
   "outputs": [
    {
     "data": {
      "text/plain": [
       "0.532683375171922"
      ]
     },
     "execution_count": 76,
     "metadata": {},
     "output_type": "execute_result"
    }
   ],
   "source": [
    "sum(good_aucs) / len(good_aucs)"
   ]
  },
  {
   "cell_type": "code",
   "execution_count": 77,
   "id": "db110d20",
   "metadata": {},
   "outputs": [
    {
     "data": {
      "text/plain": [
       "0.5057267943626731"
      ]
     },
     "execution_count": 77,
     "metadata": {},
     "output_type": "execute_result"
    }
   ],
   "source": [
    "sum(aucs) / (len(aucs))"
   ]
  },
  {
   "cell_type": "code",
   "execution_count": null,
   "id": "3d2309b5",
   "metadata": {},
   "outputs": [],
   "source": []
  },
  {
   "cell_type": "code",
   "execution_count": null,
   "id": "83701838",
   "metadata": {},
   "outputs": [],
   "source": [
    "from sklearn.metrics import roc_auc_score"
   ]
  },
  {
   "cell_type": "code",
   "execution_count": null,
   "id": "80e81aba",
   "metadata": {},
   "outputs": [],
   "source": [
    "roc_auc_score(targs, preds)"
   ]
  },
  {
   "cell_type": "code",
   "execution_count": null,
   "id": "bcb0dd84",
   "metadata": {},
   "outputs": [],
   "source": []
  },
  {
   "cell_type": "code",
   "execution_count": null,
   "id": "0b089756",
   "metadata": {},
   "outputs": [],
   "source": [
    "import scikitplot as skplt\n",
    "import matplotlib.pyplot as plt"
   ]
  },
  {
   "cell_type": "code",
   "execution_count": null,
   "id": "3927effd",
   "metadata": {},
   "outputs": [],
   "source": []
  },
  {
   "cell_type": "code",
   "execution_count": null,
   "id": "1f1991d2",
   "metadata": {},
   "outputs": [],
   "source": [
    "from vit_pytorch.learnable_memory_vit import ViT, Adapter"
   ]
  },
  {
   "cell_type": "code",
   "execution_count": null,
   "id": "57b64beb",
   "metadata": {},
   "outputs": [],
   "source": []
  },
  {
   "cell_type": "code",
   "execution_count": null,
   "id": "bad99b7b",
   "metadata": {},
   "outputs": [],
   "source": [
    "plt.figure(figsize=(16, 10))\n",
    "preds = all_preds[:,3].cpu()\n",
    "targs = all_labels[:,3].cpu()\n",
    "fpr, tpr, _ = metrics.roc_curve(targs, preds)\n",
    "auc = metrics.roc_auc_score(targs, preds)\n",
    "plt.plot(fpr,tpr,label=\"MAE v1 model, feature 3, auc=\"+str(auc))\n",
    "\n",
    "fpr, tpr, _ = metrics.roc_curve(targs, np.zeros_like(targs))\n",
    "auc = metrics.roc_auc_score(targs, np.zeros_like(targs))\n",
    "plt.plot(fpr,tpr,label=\"y=x, auc=\"+str(auc))\n",
    "\n",
    "plt.legend(loc=4)\n",
    "plt.show()"
   ]
  },
  {
   "cell_type": "code",
   "execution_count": null,
   "id": "fbb34ad5",
   "metadata": {},
   "outputs": [],
   "source": []
  },
  {
   "cell_type": "code",
   "execution_count": null,
   "id": "ed2870b0",
   "metadata": {},
   "outputs": [],
   "source": []
  },
  {
   "cell_type": "markdown",
   "id": "7032030a",
   "metadata": {},
   "source": [
    "# SMALL HFACE TESTING"
   ]
  },
  {
   "cell_type": "code",
   "execution_count": null,
   "id": "ae863a2b",
   "metadata": {},
   "outputs": [],
   "source": [
    "device = torch.device('cuda' if torch.cuda.is_available() else 'cpu')"
   ]
  },
  {
   "cell_type": "code",
   "execution_count": null,
   "id": "617c7720",
   "metadata": {},
   "outputs": [],
   "source": [
    "from transformers import ViTForImageClassification, ViTMAEForPreTraining, ViTMAEConfig, ViTFeatureExtractor"
   ]
  },
  {
   "cell_type": "code",
   "execution_count": null,
   "id": "5899d913",
   "metadata": {},
   "outputs": [],
   "source": [
    "from transformers import Trainer, TrainingArguments\n",
    "from transformers.trainer_utils import get_last_checkpoint"
   ]
  },
  {
   "cell_type": "code",
   "execution_count": null,
   "id": "84bc56c7",
   "metadata": {},
   "outputs": [],
   "source": [
    "configuration = ViTMAEConfig(\n",
    "                    image_size=224, \n",
    "                    num_channels=1, \n",
    "#                     norm_pix_loss=True, \n",
    "                    num_attention_heads=6, \n",
    "                    num_hidden_layers=3,\n",
    "                    decoder_intermediate_size=1024,\n",
    "                    intermediate_size=2048,\n",
    "                    num_labels=15\n",
    ")"
   ]
  },
  {
   "cell_type": "code",
   "execution_count": null,
   "id": "d70ca6ab",
   "metadata": {},
   "outputs": [],
   "source": [
    "v = ViTMAEForPreTraining.from_pretrained(\"hface_test_v0/final_mae.pt/\")"
   ]
  },
  {
   "cell_type": "code",
   "execution_count": null,
   "id": "fc6af427",
   "metadata": {},
   "outputs": [],
   "source": [
    "vit_for_class = ViTForImageClassification(configuration)"
   ]
  },
  {
   "cell_type": "code",
   "execution_count": null,
   "id": "2eac6dff",
   "metadata": {},
   "outputs": [],
   "source": [
    "vit_for_class.vit.load_state_dict(v.vit.state_dict())"
   ]
  },
  {
   "cell_type": "code",
   "execution_count": null,
   "id": "16af8259",
   "metadata": {},
   "outputs": [],
   "source": [
    "model = vit_for_class"
   ]
  },
  {
   "cell_type": "code",
   "execution_count": null,
   "id": "d222d36c",
   "metadata": {},
   "outputs": [],
   "source": [
    "class MultiHeadedOutput(nn.Module):\n",
    "    def __init__(self):\n",
    "        super(MultiHeadedOutput, self).__init__()\n",
    "        \n",
    "        self.heads = nn.ModuleList([\n",
    "            nn.Sequential(\n",
    "                    nn.Linear(768, 512),\n",
    "                    nn.LeakyReLU(), \n",
    "                    nn.Linear(512, 1)\n",
    "            ) for i in range(15)\n",
    "#             ) for i in range(1)\n",
    "        ])\n",
    "        \n",
    "    def forward(self, x: torch.Tensor):\n",
    "        outputs = torch.concat([h(x) for h in self.heads], dim=1)\n",
    "        return outputs"
   ]
  },
  {
   "cell_type": "code",
   "execution_count": null,
   "id": "aeee757b",
   "metadata": {},
   "outputs": [],
   "source": [
    "model.classifier = MultiHeadedOutput().to(device)"
   ]
  },
  {
   "cell_type": "code",
   "execution_count": null,
   "id": "4ecd0f01",
   "metadata": {},
   "outputs": [],
   "source": [
    "# for p in model.classifier.parameters():\n",
    "#     print(p)\n",
    "#     print(p.requires_grad)"
   ]
  },
  {
   "cell_type": "code",
   "execution_count": null,
   "id": "dc896388",
   "metadata": {},
   "outputs": [],
   "source": [
    "_ = model.to(device)"
   ]
  },
  {
   "cell_type": "code",
   "execution_count": null,
   "id": "00dafb90",
   "metadata": {},
   "outputs": [],
   "source": [
    "test_inp = ft_test_dataset[0]['input']\n",
    "\n",
    "test_inp = torch.stack([test_inp, test_inp, test_inp]).to(device)"
   ]
  },
  {
   "cell_type": "code",
   "execution_count": null,
   "id": "131a097c",
   "metadata": {},
   "outputs": [],
   "source": [
    "test_inp.shape, test_inp.device"
   ]
  },
  {
   "cell_type": "code",
   "execution_count": null,
   "id": "1a1a3853",
   "metadata": {},
   "outputs": [],
   "source": [
    "model.device"
   ]
  },
  {
   "cell_type": "code",
   "execution_count": null,
   "id": "8bcdead4",
   "metadata": {},
   "outputs": [],
   "source": [
    "# model"
   ]
  },
  {
   "cell_type": "code",
   "execution_count": null,
   "id": "be82f2a5",
   "metadata": {},
   "outputs": [],
   "source": [
    "model(test_inp)"
   ]
  },
  {
   "cell_type": "code",
   "execution_count": null,
   "id": "0080b161",
   "metadata": {},
   "outputs": [],
   "source": []
  },
  {
   "cell_type": "code",
   "execution_count": null,
   "id": "74fe8da5",
   "metadata": {},
   "outputs": [],
   "source": [
    "! rm -rf hface_classtest_v0/"
   ]
  },
  {
   "cell_type": "code",
   "execution_count": null,
   "id": "6db053f7",
   "metadata": {},
   "outputs": [],
   "source": [
    "import torch.optim as optim"
   ]
  },
  {
   "cell_type": "code",
   "execution_count": null,
   "id": "987ccc09",
   "metadata": {},
   "outputs": [],
   "source": [
    "training_args = TrainingArguments(\n",
    "    \"hface_classtest_v0\",\n",
    "#     learning_rate=1.5e-4,\n",
    "    learning_rate=5e-4,\n",
    "    weight_decay=0.05,\n",
    "#     num_train_epochs=10,\n",
    "    num_train_epochs=5,\n",
    "#     per_device_train_batch_size=8,\n",
    "    per_device_train_batch_size=32,\n",
    "    per_device_eval_batch_size=1,\n",
    "    logging_steps=10,\n",
    "    lr_scheduler_type=\"cosine\",\n",
    "    warmup_ratio=0.05,\n",
    "    evaluation_strategy=\"epoch\",\n",
    "    save_strategy=\"epoch\",\n",
    "    load_best_model_at_end=True,\n",
    "    save_total_limit=3,\n",
    "    label_names=[\"labels\"],\n",
    "    disable_tqdm=True,\n",
    "    report_to=\"none\",\n",
    ")"
   ]
  },
  {
   "cell_type": "code",
   "execution_count": null,
   "id": "a2afde5a",
   "metadata": {},
   "outputs": [],
   "source": [
    "pos_weight = 1 / (torch.sum(torch.tensor(test_labels), dim=0) / len(test_labels))\n",
    "# pos_weight = pos_weight / 2"
   ]
  },
  {
   "cell_type": "code",
   "execution_count": null,
   "id": "2efeab28",
   "metadata": {},
   "outputs": [],
   "source": [
    "pos_weight"
   ]
  },
  {
   "cell_type": "code",
   "execution_count": null,
   "id": "42bf7cc3",
   "metadata": {},
   "outputs": [],
   "source": [
    "torch.clamp(torch.tensor(0.001), torch.tensor(0.05), torch.tensor(0.95))"
   ]
  },
  {
   "cell_type": "code",
   "execution_count": null,
   "id": "45e3108a",
   "metadata": {},
   "outputs": [],
   "source": [
    "pos_weight / 0.8"
   ]
  },
  {
   "cell_type": "code",
   "execution_count": null,
   "id": "cc10d1cb",
   "metadata": {},
   "outputs": [],
   "source": [
    "class WeightedTrainer(Trainer):\n",
    "    def __init__(self, *args, **kwargs):\n",
    "        super().__init__(*args, **kwargs)\n",
    "        self.rolling_mean_matrix = None\n",
    "        self.max_factor = torch.tensor(1.5).to(device)\n",
    "        self.min_factor = torch.tensor(0.8).to(device)\n",
    "        \n",
    "    def compute_loss(self, model, inputs, return_outputs=False):\n",
    "        labels = inputs.get(\"labels\")\n",
    "        outputs = model(inputs.get(\"pixel_values\"))\n",
    "        logits = outputs.get('logits')\n",
    "        preds = torch.sigmoid(torch.tensor(logits))\n",
    "        preds[preds >= 0.5] = 1\n",
    "        preds[preds < 0.5] = 0\n",
    "        mean = preds.mean(dim=0)\n",
    "        if self.rolling_mean_matrix is None:\n",
    "            self.rolling_mean_matrix = []\n",
    "        \n",
    "        this_batch_weight = pos_weight.to(device)\n",
    "        \n",
    "        self.rolling_mean_matrix.append(mean)\n",
    "        cur_means = torch.stack(self.rolling_mean_matrix).mean(dim=0)\n",
    "        for i in range(cur_means.shape[0]):\n",
    "            if cur_means[i] > 0:\n",
    "                factor = torch.clamp((cur_means[i] / 0.5), self.min_factor, self.max_factor)\n",
    "#                 this_batch_weight[i] = this_batch_weight[i] / factor\n",
    "                this_batch_weight[i] = factor\n",
    "        \n",
    "        if len(self.rolling_mean_matrix) > 5:\n",
    "            self.rolling_mean_matrix = self.rolling_mean_matrix[1:]\n",
    "        \n",
    "        \n",
    "        loss_fct = nn.BCEWithLogitsLoss(pos_weight = this_batch_weight, reduction=\"sum\")\n",
    "        loss = loss_fct(logits, labels)\n",
    "        return (loss, outputs) if return_outputs else loss"
   ]
  },
  {
   "cell_type": "code",
   "execution_count": null,
   "id": "e619dc60",
   "metadata": {},
   "outputs": [],
   "source": [
    "model"
   ]
  },
  {
   "cell_type": "code",
   "execution_count": null,
   "id": "9b46b332",
   "metadata": {},
   "outputs": [],
   "source": [
    "for p in model.vit.parameters():\n",
    "    p.requires_grad = False"
   ]
  },
  {
   "cell_type": "code",
   "execution_count": null,
   "id": "d9a2b698",
   "metadata": {},
   "outputs": [],
   "source": [
    "import transformers"
   ]
  },
  {
   "cell_type": "code",
   "execution_count": null,
   "id": "339e87ab",
   "metadata": {},
   "outputs": [],
   "source": [
    "optimizer = optim.AdamW(model.classifier.parameters(), lr=1e-3, weight_decay=0.05, betas=(0.9, 0.95))"
   ]
  },
  {
   "cell_type": "code",
   "execution_count": null,
   "id": "bdae8e4e",
   "metadata": {},
   "outputs": [],
   "source": [
    "lr = transformers.get_linear_schedule_with_warmup(optimizer, num_warmup_steps=0, num_training_steps=5 * len(ft_train_dataset))"
   ]
  },
  {
   "cell_type": "code",
   "execution_count": null,
   "id": "f163873c",
   "metadata": {},
   "outputs": [],
   "source": [
    "trainer = WeightedTrainer(\n",
    "        model=model,\n",
    "        args=training_args,\n",
    "        train_dataset=ft_train_dataset,\n",
    "        eval_dataset=ft_test_dataset,\n",
    "        optimizers=[optimizer, lr]\n",
    "    )"
   ]
  },
  {
   "cell_type": "code",
   "execution_count": null,
   "id": "ba0aa22d",
   "metadata": {},
   "outputs": [],
   "source": [
    "# trainer.evaluate()\n",
    "# # trainer.predict(ft_train_dataset)"
   ]
  },
  {
   "cell_type": "code",
   "execution_count": null,
   "id": "2bcc8592",
   "metadata": {},
   "outputs": [],
   "source": [
    "trainer.evaluate()"
   ]
  },
  {
   "cell_type": "code",
   "execution_count": null,
   "id": "a9efa6fa",
   "metadata": {},
   "outputs": [],
   "source": [
    "# preds = trainer.predict(ft_test_dataset)"
   ]
  },
  {
   "cell_type": "code",
   "execution_count": null,
   "id": "491aef81",
   "metadata": {},
   "outputs": [],
   "source": [
    "trainer.train()"
   ]
  },
  {
   "cell_type": "code",
   "execution_count": null,
   "id": "623b042d",
   "metadata": {},
   "outputs": [],
   "source": []
  },
  {
   "cell_type": "code",
   "execution_count": null,
   "id": "ae30e467",
   "metadata": {},
   "outputs": [],
   "source": [
    "# trainer.evaluate(ft_train_dataset)"
   ]
  },
  {
   "cell_type": "code",
   "execution_count": null,
   "id": "7d4b3e90",
   "metadata": {},
   "outputs": [],
   "source": [
    "# trainer.evaluate(ft_test_dataset)"
   ]
  },
  {
   "cell_type": "code",
   "execution_count": null,
   "id": "cab68e59",
   "metadata": {},
   "outputs": [],
   "source": []
  },
  {
   "cell_type": "code",
   "execution_count": null,
   "id": "10048de6",
   "metadata": {},
   "outputs": [],
   "source": [
    "test_preds = trainer.predict(ft_test_dataset)"
   ]
  },
  {
   "cell_type": "code",
   "execution_count": null,
   "id": "0c15a7e9",
   "metadata": {},
   "outputs": [],
   "source": [
    "test_preds.metrics"
   ]
  },
  {
   "cell_type": "code",
   "execution_count": null,
   "id": "157abd92",
   "metadata": {},
   "outputs": [],
   "source": [
    "labels = torch.stack([ft_test_dataset[i]['labels'] for i in range(len(ft_test_dataset))])"
   ]
  },
  {
   "cell_type": "code",
   "execution_count": null,
   "id": "fd33c196",
   "metadata": {},
   "outputs": [],
   "source": [
    "labels.shape"
   ]
  },
  {
   "cell_type": "code",
   "execution_count": null,
   "id": "fe13a177",
   "metadata": {},
   "outputs": [],
   "source": [
    "labels.sum(dim=0)"
   ]
  },
  {
   "cell_type": "code",
   "execution_count": null,
   "id": "366edbc7",
   "metadata": {},
   "outputs": [],
   "source": [
    "preds = torch.sigmoid(torch.tensor(test_preds.predictions))\n",
    "\n",
    "preds[preds >= 0.5] = 1\n",
    "preds[preds < 0.5] = 0"
   ]
  },
  {
   "cell_type": "code",
   "execution_count": null,
   "id": "b2170ccc",
   "metadata": {},
   "outputs": [],
   "source": [
    "num_correct = torch.sum(preds == labels).item()\n",
    "num = len(labels) * 15\n",
    "zero_correct = torch.sum(labels == 0).item()"
   ]
  },
  {
   "cell_type": "code",
   "execution_count": null,
   "id": "cfae2d5c",
   "metadata": {},
   "outputs": [],
   "source": [
    "num_correct / num"
   ]
  },
  {
   "cell_type": "code",
   "execution_count": null,
   "id": "854f28c4",
   "metadata": {},
   "outputs": [],
   "source": [
    "preds = torch.sigmoid(torch.tensor(test_preds.predictions))"
   ]
  },
  {
   "cell_type": "code",
   "execution_count": null,
   "id": "1820f11f",
   "metadata": {},
   "outputs": [],
   "source": [
    "preds"
   ]
  },
  {
   "cell_type": "code",
   "execution_count": null,
   "id": "d742272e",
   "metadata": {},
   "outputs": [],
   "source": [
    "preds[preds >= 0.5] = 1\n",
    "preds[preds < 0.5] = 0"
   ]
  },
  {
   "cell_type": "code",
   "execution_count": null,
   "id": "cb161131",
   "metadata": {},
   "outputs": [],
   "source": [
    "preds"
   ]
  },
  {
   "cell_type": "code",
   "execution_count": null,
   "id": "25adccd0",
   "metadata": {},
   "outputs": [],
   "source": [
    "torch.sum(labels[labels == 1] == preds[labels == 1]).item() / torch.sum(labels).item()"
   ]
  },
  {
   "cell_type": "code",
   "execution_count": null,
   "id": "9650567c",
   "metadata": {},
   "outputs": [],
   "source": [
    "all_preds = preds\n",
    "all_labels = labels"
   ]
  },
  {
   "cell_type": "code",
   "execution_count": null,
   "id": "c85dffe4",
   "metadata": {},
   "outputs": [],
   "source": [
    "from sklearn import metrics"
   ]
  },
  {
   "cell_type": "code",
   "execution_count": null,
   "id": "eaf29686",
   "metadata": {},
   "outputs": [],
   "source": [
    "all_preds.mean(dim=0)"
   ]
  },
  {
   "cell_type": "code",
   "execution_count": null,
   "id": "7b07fe7c",
   "metadata": {},
   "outputs": [],
   "source": [
    "aucs = []\n",
    "for i in range(15):\n",
    "    cur_preds = all_preds[:,i].cpu()\n",
    "    targs = all_labels[:,i].cpu()\n",
    "#     fpr, tpr, thresholds = metrics.roc_curve(targs, preds, pos_label=1)\n",
    "    fpr, tpr, thresholds = metrics.roc_curve(targs, cur_preds, pos_label=1)\n",
    "    auc = metrics.auc(fpr, tpr)\n",
    "    aucs.append(auc)\n",
    "    print(f\"Head: {i}; AUC: {auc}\")"
   ]
  },
  {
   "cell_type": "code",
   "execution_count": null,
   "id": "8354e203",
   "metadata": {},
   "outputs": [],
   "source": [
    "sum(aucs) / len(aucs)"
   ]
  },
  {
   "cell_type": "code",
   "execution_count": null,
   "id": "60ca696e",
   "metadata": {},
   "outputs": [],
   "source": []
  },
  {
   "cell_type": "code",
   "execution_count": null,
   "id": "49883f3d",
   "metadata": {},
   "outputs": [],
   "source": []
  },
  {
   "cell_type": "code",
   "execution_count": null,
   "id": "bd785fe5",
   "metadata": {},
   "outputs": [],
   "source": []
  },
  {
   "cell_type": "code",
   "execution_count": null,
   "id": "97213596",
   "metadata": {},
   "outputs": [],
   "source": []
  }
 ],
 "metadata": {
  "kernelspec": {
   "display_name": "ml_env",
   "language": "python",
   "name": "ml_env"
  },
  "language_info": {
   "codemirror_mode": {
    "name": "ipython",
    "version": 3
   },
   "file_extension": ".py",
   "mimetype": "text/x-python",
   "name": "python",
   "nbconvert_exporter": "python",
   "pygments_lexer": "ipython3",
   "version": "3.8.13"
  }
 },
 "nbformat": 4,
 "nbformat_minor": 5
}
