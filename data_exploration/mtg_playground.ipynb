{
  "nbformat": 4,
  "nbformat_minor": 0,
  "metadata": {
    "colab": {
      "provenance": [],
      "collapsed_sections": []
    },
    "kernelspec": {
      "name": "python3",
      "display_name": "Python 3"
    },
    "language_info": {
      "name": "python"
    }
  },
  "cells": [
    {
      "cell_type": "code",
      "execution_count": 52,
      "metadata": {
        "colab": {
          "base_uri": "https://localhost:8080/"
        },
        "id": "NylLimUoBNv5",
        "outputId": "eaf35e78-3ef4-4ace-fb67-9252f53a9b22"
      },
      "outputs": [
        {
          "output_type": "stream",
          "name": "stdout",
          "text": [
            "Drive already mounted at /content/drive; to attempt to forcibly remount, call drive.mount(\"/content/drive\", force_remount=True).\n"
          ]
        }
      ],
      "source": [
        "from google.colab import drive\n",
        "drive.mount('/content/drive')"
      ]
    },
    {
      "cell_type": "code",
      "source": [
        "%cd /content/drive/MyDrive/cs7643/mtg-jamendo-dataset/"
      ],
      "metadata": {
        "colab": {
          "base_uri": "https://localhost:8080/"
        },
        "id": "0Yj29pclBUkF",
        "outputId": "e89e20f0-f05b-4373-f688-578008984db3"
      },
      "execution_count": 53,
      "outputs": [
        {
          "output_type": "stream",
          "name": "stdout",
          "text": [
            "/content/drive/MyDrive/cs7643/mtg-jamendo-dataset\n"
          ]
        }
      ]
    },
    {
      "cell_type": "code",
      "source": [
        "import pandas as pd\n",
        "import numpy as np\n",
        "import matplotlib.pyplot as plt\n",
        "from collections import Counter"
      ],
      "metadata": {
        "id": "eRRm4AstCy6o"
      },
      "execution_count": 54,
      "outputs": []
    },
    {
      "cell_type": "code",
      "source": [
        "import librosa"
      ],
      "metadata": {
        "id": "LhuU_qQpHJMI"
      },
      "execution_count": 55,
      "outputs": []
    },
    {
      "cell_type": "code",
      "source": [
        "data_file = \"data/autotagging_moodtheme.tsv\""
      ],
      "metadata": {
        "id": "KM8oVUyuE-DY"
      },
      "execution_count": 57,
      "outputs": []
    },
    {
      "cell_type": "code",
      "source": [
        "longest_row = 0\n",
        "headers = []\n",
        "with open(data_file, 'r') as f:\n",
        "  lines = f.readlines()\n",
        "  headers = lines[0].split('\\t')\n",
        "  for l in lines:\n",
        "    lenrow = len(l.split('\\t')) + 1\n",
        "    if lenrow > longest_row:\n",
        "      longest_row = lenrow\n",
        "longest_row"
      ],
      "metadata": {
        "colab": {
          "base_uri": "https://localhost:8080/"
        },
        "id": "AywRXM0-E4Dr",
        "outputId": "10b89cd8-ba6c-4c13-ec5e-96ed25e3fe48"
      },
      "execution_count": 58,
      "outputs": [
        {
          "output_type": "execute_result",
          "data": {
            "text/plain": [
              "14"
            ]
          },
          "metadata": {},
          "execution_count": 58
        }
      ]
    },
    {
      "cell_type": "code",
      "source": [
        "headers = [h.strip() for h in headers]\n",
        "headers"
      ],
      "metadata": {
        "colab": {
          "base_uri": "https://localhost:8080/"
        },
        "id": "GJhxHbHoFVxB",
        "outputId": "79cccfd7-606e-483e-c93b-a5a6ffc9efa4"
      },
      "execution_count": 59,
      "outputs": [
        {
          "output_type": "execute_result",
          "data": {
            "text/plain": [
              "['TRACK_ID', 'ARTIST_ID', 'ALBUM_ID', 'PATH', 'DURATION', 'TAGS']"
            ]
          },
          "metadata": {},
          "execution_count": 59
        }
      ]
    },
    {
      "cell_type": "code",
      "source": [
        "additional_column_names = [\"TAGS\" + str(i - 4) for i in range(len(headers), longest_row)]\n",
        "additional_column_names"
      ],
      "metadata": {
        "id": "fd38-Ys8F1Gf",
        "colab": {
          "base_uri": "https://localhost:8080/"
        },
        "outputId": "89ccec61-7113-4318-ffa9-fe3732ed0f4f"
      },
      "execution_count": 60,
      "outputs": [
        {
          "output_type": "execute_result",
          "data": {
            "text/plain": [
              "['TAGS2', 'TAGS3', 'TAGS4', 'TAGS5', 'TAGS6', 'TAGS7', 'TAGS8', 'TAGS9']"
            ]
          },
          "metadata": {},
          "execution_count": 60
        }
      ]
    },
    {
      "cell_type": "code",
      "source": [
        "col_names = headers + additional_column_names\n",
        "col_names"
      ],
      "metadata": {
        "id": "Dd1XAYeIGdqp",
        "colab": {
          "base_uri": "https://localhost:8080/"
        },
        "outputId": "ffcfb3d6-e0be-4ea4-8773-60387019e008"
      },
      "execution_count": 61,
      "outputs": [
        {
          "output_type": "execute_result",
          "data": {
            "text/plain": [
              "['TRACK_ID',\n",
              " 'ARTIST_ID',\n",
              " 'ALBUM_ID',\n",
              " 'PATH',\n",
              " 'DURATION',\n",
              " 'TAGS',\n",
              " 'TAGS2',\n",
              " 'TAGS3',\n",
              " 'TAGS4',\n",
              " 'TAGS5',\n",
              " 'TAGS6',\n",
              " 'TAGS7',\n",
              " 'TAGS8',\n",
              " 'TAGS9']"
            ]
          },
          "metadata": {},
          "execution_count": 61
        }
      ]
    },
    {
      "cell_type": "code",
      "source": [
        "df = pd.read_csv(data_file, sep='\\t', names=col_names)"
      ],
      "metadata": {
        "id": "zrpe5zmpDb8x"
      },
      "execution_count": 62,
      "outputs": []
    },
    {
      "cell_type": "code",
      "source": [
        "df.head()"
      ],
      "metadata": {
        "colab": {
          "base_uri": "https://localhost:8080/",
          "height": 206
        },
        "id": "rZWGZrJ7Ds4y",
        "outputId": "e8bd2ebc-e869-4a91-8368-426ebccdedce"
      },
      "execution_count": 63,
      "outputs": [
        {
          "output_type": "execute_result",
          "data": {
            "text/plain": [
              "        TRACK_ID      ARTIST_ID      ALBUM_ID         PATH  DURATION  \\\n",
              "0       TRACK_ID      ARTIST_ID      ALBUM_ID         PATH  DURATION   \n",
              "1  track_0000948  artist_000087  album_000149   48/948.mp3     212.7   \n",
              "2  track_0000950  artist_000087  album_000149   50/950.mp3     248.0   \n",
              "3  track_0000951  artist_000087  album_000149   51/951.mp3     199.7   \n",
              "4  track_0002165  artist_000326  album_000347  65/2165.mp3     229.0   \n",
              "\n",
              "                      TAGS TAGS2 TAGS3 TAGS4 TAGS5 TAGS6 TAGS7 TAGS8  TAGS9  \n",
              "0                     TAGS   NaN   NaN   NaN   NaN   NaN   NaN   NaN    NaN  \n",
              "1  mood/theme---background   NaN   NaN   NaN   NaN   NaN   NaN   NaN    NaN  \n",
              "2  mood/theme---background   NaN   NaN   NaN   NaN   NaN   NaN   NaN    NaN  \n",
              "3  mood/theme---background   NaN   NaN   NaN   NaN   NaN   NaN   NaN    NaN  \n",
              "4        mood/theme---film   NaN   NaN   NaN   NaN   NaN   NaN   NaN    NaN  "
            ],
            "text/html": [
              "\n",
              "  <div id=\"df-59d7726d-0ba9-4c42-a532-fe66f46abffe\">\n",
              "    <div class=\"colab-df-container\">\n",
              "      <div>\n",
              "<style scoped>\n",
              "    .dataframe tbody tr th:only-of-type {\n",
              "        vertical-align: middle;\n",
              "    }\n",
              "\n",
              "    .dataframe tbody tr th {\n",
              "        vertical-align: top;\n",
              "    }\n",
              "\n",
              "    .dataframe thead th {\n",
              "        text-align: right;\n",
              "    }\n",
              "</style>\n",
              "<table border=\"1\" class=\"dataframe\">\n",
              "  <thead>\n",
              "    <tr style=\"text-align: right;\">\n",
              "      <th></th>\n",
              "      <th>TRACK_ID</th>\n",
              "      <th>ARTIST_ID</th>\n",
              "      <th>ALBUM_ID</th>\n",
              "      <th>PATH</th>\n",
              "      <th>DURATION</th>\n",
              "      <th>TAGS</th>\n",
              "      <th>TAGS2</th>\n",
              "      <th>TAGS3</th>\n",
              "      <th>TAGS4</th>\n",
              "      <th>TAGS5</th>\n",
              "      <th>TAGS6</th>\n",
              "      <th>TAGS7</th>\n",
              "      <th>TAGS8</th>\n",
              "      <th>TAGS9</th>\n",
              "    </tr>\n",
              "  </thead>\n",
              "  <tbody>\n",
              "    <tr>\n",
              "      <th>0</th>\n",
              "      <td>TRACK_ID</td>\n",
              "      <td>ARTIST_ID</td>\n",
              "      <td>ALBUM_ID</td>\n",
              "      <td>PATH</td>\n",
              "      <td>DURATION</td>\n",
              "      <td>TAGS</td>\n",
              "      <td>NaN</td>\n",
              "      <td>NaN</td>\n",
              "      <td>NaN</td>\n",
              "      <td>NaN</td>\n",
              "      <td>NaN</td>\n",
              "      <td>NaN</td>\n",
              "      <td>NaN</td>\n",
              "      <td>NaN</td>\n",
              "    </tr>\n",
              "    <tr>\n",
              "      <th>1</th>\n",
              "      <td>track_0000948</td>\n",
              "      <td>artist_000087</td>\n",
              "      <td>album_000149</td>\n",
              "      <td>48/948.mp3</td>\n",
              "      <td>212.7</td>\n",
              "      <td>mood/theme---background</td>\n",
              "      <td>NaN</td>\n",
              "      <td>NaN</td>\n",
              "      <td>NaN</td>\n",
              "      <td>NaN</td>\n",
              "      <td>NaN</td>\n",
              "      <td>NaN</td>\n",
              "      <td>NaN</td>\n",
              "      <td>NaN</td>\n",
              "    </tr>\n",
              "    <tr>\n",
              "      <th>2</th>\n",
              "      <td>track_0000950</td>\n",
              "      <td>artist_000087</td>\n",
              "      <td>album_000149</td>\n",
              "      <td>50/950.mp3</td>\n",
              "      <td>248.0</td>\n",
              "      <td>mood/theme---background</td>\n",
              "      <td>NaN</td>\n",
              "      <td>NaN</td>\n",
              "      <td>NaN</td>\n",
              "      <td>NaN</td>\n",
              "      <td>NaN</td>\n",
              "      <td>NaN</td>\n",
              "      <td>NaN</td>\n",
              "      <td>NaN</td>\n",
              "    </tr>\n",
              "    <tr>\n",
              "      <th>3</th>\n",
              "      <td>track_0000951</td>\n",
              "      <td>artist_000087</td>\n",
              "      <td>album_000149</td>\n",
              "      <td>51/951.mp3</td>\n",
              "      <td>199.7</td>\n",
              "      <td>mood/theme---background</td>\n",
              "      <td>NaN</td>\n",
              "      <td>NaN</td>\n",
              "      <td>NaN</td>\n",
              "      <td>NaN</td>\n",
              "      <td>NaN</td>\n",
              "      <td>NaN</td>\n",
              "      <td>NaN</td>\n",
              "      <td>NaN</td>\n",
              "    </tr>\n",
              "    <tr>\n",
              "      <th>4</th>\n",
              "      <td>track_0002165</td>\n",
              "      <td>artist_000326</td>\n",
              "      <td>album_000347</td>\n",
              "      <td>65/2165.mp3</td>\n",
              "      <td>229.0</td>\n",
              "      <td>mood/theme---film</td>\n",
              "      <td>NaN</td>\n",
              "      <td>NaN</td>\n",
              "      <td>NaN</td>\n",
              "      <td>NaN</td>\n",
              "      <td>NaN</td>\n",
              "      <td>NaN</td>\n",
              "      <td>NaN</td>\n",
              "      <td>NaN</td>\n",
              "    </tr>\n",
              "  </tbody>\n",
              "</table>\n",
              "</div>\n",
              "      <button class=\"colab-df-convert\" onclick=\"convertToInteractive('df-59d7726d-0ba9-4c42-a532-fe66f46abffe')\"\n",
              "              title=\"Convert this dataframe to an interactive table.\"\n",
              "              style=\"display:none;\">\n",
              "        \n",
              "  <svg xmlns=\"http://www.w3.org/2000/svg\" height=\"24px\"viewBox=\"0 0 24 24\"\n",
              "       width=\"24px\">\n",
              "    <path d=\"M0 0h24v24H0V0z\" fill=\"none\"/>\n",
              "    <path d=\"M18.56 5.44l.94 2.06.94-2.06 2.06-.94-2.06-.94-.94-2.06-.94 2.06-2.06.94zm-11 1L8.5 8.5l.94-2.06 2.06-.94-2.06-.94L8.5 2.5l-.94 2.06-2.06.94zm10 10l.94 2.06.94-2.06 2.06-.94-2.06-.94-.94-2.06-.94 2.06-2.06.94z\"/><path d=\"M17.41 7.96l-1.37-1.37c-.4-.4-.92-.59-1.43-.59-.52 0-1.04.2-1.43.59L10.3 9.45l-7.72 7.72c-.78.78-.78 2.05 0 2.83L4 21.41c.39.39.9.59 1.41.59.51 0 1.02-.2 1.41-.59l7.78-7.78 2.81-2.81c.8-.78.8-2.07 0-2.86zM5.41 20L4 18.59l7.72-7.72 1.47 1.35L5.41 20z\"/>\n",
              "  </svg>\n",
              "      </button>\n",
              "      \n",
              "  <style>\n",
              "    .colab-df-container {\n",
              "      display:flex;\n",
              "      flex-wrap:wrap;\n",
              "      gap: 12px;\n",
              "    }\n",
              "\n",
              "    .colab-df-convert {\n",
              "      background-color: #E8F0FE;\n",
              "      border: none;\n",
              "      border-radius: 50%;\n",
              "      cursor: pointer;\n",
              "      display: none;\n",
              "      fill: #1967D2;\n",
              "      height: 32px;\n",
              "      padding: 0 0 0 0;\n",
              "      width: 32px;\n",
              "    }\n",
              "\n",
              "    .colab-df-convert:hover {\n",
              "      background-color: #E2EBFA;\n",
              "      box-shadow: 0px 1px 2px rgba(60, 64, 67, 0.3), 0px 1px 3px 1px rgba(60, 64, 67, 0.15);\n",
              "      fill: #174EA6;\n",
              "    }\n",
              "\n",
              "    [theme=dark] .colab-df-convert {\n",
              "      background-color: #3B4455;\n",
              "      fill: #D2E3FC;\n",
              "    }\n",
              "\n",
              "    [theme=dark] .colab-df-convert:hover {\n",
              "      background-color: #434B5C;\n",
              "      box-shadow: 0px 1px 3px 1px rgba(0, 0, 0, 0.15);\n",
              "      filter: drop-shadow(0px 1px 2px rgba(0, 0, 0, 0.3));\n",
              "      fill: #FFFFFF;\n",
              "    }\n",
              "  </style>\n",
              "\n",
              "      <script>\n",
              "        const buttonEl =\n",
              "          document.querySelector('#df-59d7726d-0ba9-4c42-a532-fe66f46abffe button.colab-df-convert');\n",
              "        buttonEl.style.display =\n",
              "          google.colab.kernel.accessAllowed ? 'block' : 'none';\n",
              "\n",
              "        async function convertToInteractive(key) {\n",
              "          const element = document.querySelector('#df-59d7726d-0ba9-4c42-a532-fe66f46abffe');\n",
              "          const dataTable =\n",
              "            await google.colab.kernel.invokeFunction('convertToInteractive',\n",
              "                                                     [key], {});\n",
              "          if (!dataTable) return;\n",
              "\n",
              "          const docLinkHtml = 'Like what you see? Visit the ' +\n",
              "            '<a target=\"_blank\" href=https://colab.research.google.com/notebooks/data_table.ipynb>data table notebook</a>'\n",
              "            + ' to learn more about interactive tables.';\n",
              "          element.innerHTML = '';\n",
              "          dataTable['output_type'] = 'display_data';\n",
              "          await google.colab.output.renderOutput(dataTable, element);\n",
              "          const docLink = document.createElement('div');\n",
              "          docLink.innerHTML = docLinkHtml;\n",
              "          element.appendChild(docLink);\n",
              "        }\n",
              "      </script>\n",
              "    </div>\n",
              "  </div>\n",
              "  "
            ]
          },
          "metadata": {},
          "execution_count": 63
        }
      ]
    },
    {
      "cell_type": "code",
      "source": [
        "moods = dict()\n",
        "for i in range(len(headers) - 1, longest_row):\n",
        "  for j in range(len(df)):\n",
        "    col = df.columns[i]\n",
        "    mood = df.iloc[j][col]\n",
        "    if type(mood) == str and \"mood\" in mood:\n",
        "      g = mood.split(\"---\")[-1]\n",
        "      if g in moods:\n",
        "        moods[g] += 1\n",
        "      else:\n",
        "        moods.update({g : 1})"
      ],
      "metadata": {
        "id": "QbRtr8yvGqQJ"
      },
      "execution_count": 66,
      "outputs": []
    },
    {
      "cell_type": "code",
      "source": [
        "moods"
      ],
      "metadata": {
        "id": "Qa9z0QMDGuD-",
        "colab": {
          "base_uri": "https://localhost:8080/"
        },
        "outputId": "8cc02904-ccf6-42b6-d148-2b5848bf5096"
      },
      "execution_count": 67,
      "outputs": [
        {
          "output_type": "execute_result",
          "data": {
            "text/plain": [
              "{'background': 496,\n",
              " 'film': 1502,\n",
              " 'melancholic': 441,\n",
              " 'calm': 457,\n",
              " 'melodic': 1213,\n",
              " 'children': 456,\n",
              " 'meditative': 742,\n",
              " 'cool': 251,\n",
              " 'documentary': 612,\n",
              " 'emotional': 1271,\n",
              " 'relaxing': 1350,\n",
              " 'love': 909,\n",
              " 'drama': 424,\n",
              " 'adventure': 448,\n",
              " 'heavy': 156,\n",
              " 'dark': 1202,\n",
              " 'energetic': 1357,\n",
              " 'retro': 213,\n",
              " 'ballad': 334,\n",
              " 'advertising': 673,\n",
              " 'epic': 982,\n",
              " 'action': 407,\n",
              " 'dramatic': 317,\n",
              " 'deep': 635,\n",
              " 'inspiring': 877,\n",
              " 'soft': 465,\n",
              " 'fun': 480,\n",
              " 'horror': 158,\n",
              " 'funny': 203,\n",
              " 'positive': 539,\n",
              " 'sad': 749,\n",
              " 'happy': 1657,\n",
              " 'summer': 505,\n",
              " 'dream': 951,\n",
              " 'romantic': 627,\n",
              " 'hopeful': 216,\n",
              " 'groovy': 194,\n",
              " 'space': 503,\n",
              " 'soundscape': 480,\n",
              " 'slow': 437,\n",
              " 'sport': 297,\n",
              " 'sexy': 122,\n",
              " 'fast': 119,\n",
              " 'nature': 259,\n",
              " 'commercial': 428,\n",
              " 'mellow': 154,\n",
              " 'holiday': 176,\n",
              " 'ambiental': 460,\n",
              " 'uplifting': 693,\n",
              " 'christmas': 623,\n",
              " 'game': 261,\n",
              " 'travel': 171,\n",
              " 'motivational': 635,\n",
              " 'party': 266,\n",
              " 'upbeat': 444,\n",
              " 'movie': 413,\n",
              " 'powerful': 238,\n",
              " 'corporate': 609,\n",
              " 'trailer': 270}"
            ]
          },
          "metadata": {},
          "execution_count": 67
        }
      ]
    },
    {
      "cell_type": "code",
      "source": [
        "counts = sorted(list(moods.items()), key=lambda x : x[1])\n",
        "counts"
      ],
      "metadata": {
        "colab": {
          "base_uri": "https://localhost:8080/"
        },
        "id": "3t6xJ_x0bFxd",
        "outputId": "f372f7a0-09ee-4e82-f074-40710bbd6f31"
      },
      "execution_count": 68,
      "outputs": [
        {
          "output_type": "execute_result",
          "data": {
            "text/plain": [
              "[('fast', 119),\n",
              " ('sexy', 122),\n",
              " ('mellow', 154),\n",
              " ('heavy', 156),\n",
              " ('horror', 158),\n",
              " ('travel', 171),\n",
              " ('holiday', 176),\n",
              " ('groovy', 194),\n",
              " ('funny', 203),\n",
              " ('retro', 213),\n",
              " ('hopeful', 216),\n",
              " ('powerful', 238),\n",
              " ('cool', 251),\n",
              " ('nature', 259),\n",
              " ('game', 261),\n",
              " ('party', 266),\n",
              " ('trailer', 270),\n",
              " ('sport', 297),\n",
              " ('dramatic', 317),\n",
              " ('ballad', 334),\n",
              " ('action', 407),\n",
              " ('movie', 413),\n",
              " ('drama', 424),\n",
              " ('commercial', 428),\n",
              " ('slow', 437),\n",
              " ('melancholic', 441),\n",
              " ('upbeat', 444),\n",
              " ('adventure', 448),\n",
              " ('children', 456),\n",
              " ('calm', 457),\n",
              " ('ambiental', 460),\n",
              " ('soft', 465),\n",
              " ('fun', 480),\n",
              " ('soundscape', 480),\n",
              " ('background', 496),\n",
              " ('space', 503),\n",
              " ('summer', 505),\n",
              " ('positive', 539),\n",
              " ('corporate', 609),\n",
              " ('documentary', 612),\n",
              " ('christmas', 623),\n",
              " ('romantic', 627),\n",
              " ('deep', 635),\n",
              " ('motivational', 635),\n",
              " ('advertising', 673),\n",
              " ('uplifting', 693),\n",
              " ('meditative', 742),\n",
              " ('sad', 749),\n",
              " ('inspiring', 877),\n",
              " ('love', 909),\n",
              " ('dream', 951),\n",
              " ('epic', 982),\n",
              " ('dark', 1202),\n",
              " ('melodic', 1213),\n",
              " ('emotional', 1271),\n",
              " ('relaxing', 1350),\n",
              " ('energetic', 1357),\n",
              " ('film', 1502),\n",
              " ('happy', 1657)]"
            ]
          },
          "metadata": {},
          "execution_count": 68
        }
      ]
    },
    {
      "cell_type": "code",
      "source": [
        "total_moods = len(counts)\n",
        "total_moods"
      ],
      "metadata": {
        "colab": {
          "base_uri": "https://localhost:8080/"
        },
        "id": "iJR4fdFdcIKA",
        "outputId": "c57a38f2-c6ba-4dbe-e8ab-43f43a9fb369"
      },
      "execution_count": 70,
      "outputs": [
        {
          "output_type": "execute_result",
          "data": {
            "text/plain": [
              "59"
            ]
          },
          "metadata": {},
          "execution_count": 70
        }
      ]
    },
    {
      "cell_type": "code",
      "source": [
        "how_many = 15"
      ],
      "metadata": {
        "id": "EUzI-LFReUG5"
      },
      "execution_count": 126,
      "outputs": []
    },
    {
      "cell_type": "code",
      "source": [
        "x = [x[0] for x in counts[:how_many]]\n",
        "y = [x[1] for x in counts[:how_many]]"
      ],
      "metadata": {
        "id": "icSXVOVPdAyQ"
      },
      "execution_count": 127,
      "outputs": []
    },
    {
      "cell_type": "code",
      "source": [
        "plt.figure(figsize=(14, 10), dpi=100)\n",
        "plt.barh(x, y)\n",
        "# plt.xticks(rotation=90)"
      ],
      "metadata": {
        "colab": {
          "base_uri": "https://localhost:8080/",
          "height": 832
        },
        "id": "_2-ueIfidVJF",
        "outputId": "55989ceb-6a28-4e85-f05a-9f5c28a29a6f"
      },
      "execution_count": 128,
      "outputs": [
        {
          "output_type": "execute_result",
          "data": {
            "text/plain": [
              "<BarContainer object of 15 artists>"
            ]
          },
          "metadata": {},
          "execution_count": 128
        },
        {
          "output_type": "display_data",
          "data": {
            "text/plain": [
              "<Figure size 1400x1000 with 1 Axes>"
            ],
            "image/png": "[encoded data removed]"
          },
          "metadata": {
            "needs_background": "light"
          }
        }
      ]
    },
    {
      "cell_type": "code",
      "source": [
        "from numpy.ma.extras import count_masked\n",
        "def how_many_below(pct):\n",
        "  total_songs = set()\n",
        "  num = int(pct * total_moods) + 1\n",
        "  print(num)\n",
        "  rare = counts[:num]\n",
        "  for mood in rare:\n",
        "    print(mood)\n",
        "    for i in range(len(df)):\n",
        "      check = \"mood/theme---\" + str(mood[0])\n",
        "      row = list(df.iloc[i])\n",
        "      if check in list(df.iloc[i]):\n",
        "        total_songs.add(row[3])\n",
        "  return total_songs"
      ],
      "metadata": {
        "id": "KlLqcooj1dcb"
      },
      "execution_count": 116,
      "outputs": []
    },
    {
      "cell_type": "code",
      "source": [
        "total_songs = how_many_below(0.25)"
      ],
      "metadata": {
        "colab": {
          "base_uri": "https://localhost:8080/"
        },
        "id": "4zOchfCn1-nr",
        "outputId": "0d028418-200d-4556-bd25-b5a18a384d1a"
      },
      "execution_count": 117,
      "outputs": [
        {
          "output_type": "stream",
          "name": "stdout",
          "text": [
            "15\n",
            "('fast', 119)\n",
            "('sexy', 122)\n",
            "('mellow', 154)\n",
            "('heavy', 156)\n",
            "('horror', 158)\n",
            "('travel', 171)\n",
            "('holiday', 176)\n",
            "('groovy', 194)\n",
            "('funny', 203)\n",
            "('retro', 213)\n",
            "('hopeful', 216)\n",
            "('powerful', 238)\n",
            "('cool', 251)\n",
            "('nature', 259)\n",
            "('game', 261)\n"
          ]
        }
      ]
    },
    {
      "cell_type": "code",
      "source": [
        "print(len(total_songs))"
      ],
      "metadata": {
        "colab": {
          "base_uri": "https://localhost:8080/"
        },
        "id": "W5opdNq7734I",
        "outputId": "f76c10e8-5976-4f5a-bb31-1b5cacd5d2bc"
      },
      "execution_count": 118,
      "outputs": [
        {
          "output_type": "stream",
          "name": "stdout",
          "text": [
            "2751\n"
          ]
        }
      ]
    },
    {
      "cell_type": "code",
      "source": [
        "sum([x[1] for x in counts[:15]])"
      ],
      "metadata": {
        "colab": {
          "base_uri": "https://localhost:8080/"
        },
        "id": "4pcpsZpX3S2t",
        "outputId": "71c8786a-aa39-4977-cb6b-9fdcef72397d"
      },
      "execution_count": 119,
      "outputs": [
        {
          "output_type": "execute_result",
          "data": {
            "text/plain": [
              "2891"
            ]
          },
          "metadata": {},
          "execution_count": 119
        }
      ]
    },
    {
      "cell_type": "code",
      "source": [
        "num_in_first = 0\n",
        "soi = []\n",
        "for j in range(6):\n",
        "  print(j)\n",
        "  for path in total_songs:\n",
        "    check = \"0\" + str(j)\n",
        "    comp = path.split(\"/\")[0]\n",
        "    if check == comp:\n",
        "      num_in_first += 1\n",
        "      soi.append(path)\n",
        "num_in_first"
      ],
      "metadata": {
        "colab": {
          "base_uri": "https://localhost:8080/"
        },
        "id": "rhq-XNDR70bX",
        "outputId": "624ce608-b03f-47b0-d292-c7b2d38fdf46"
      },
      "execution_count": 124,
      "outputs": [
        {
          "output_type": "stream",
          "name": "stdout",
          "text": [
            "0\n",
            "1\n",
            "2\n",
            "3\n",
            "4\n",
            "5\n"
          ]
        },
        {
          "output_type": "execute_result",
          "data": {
            "text/plain": [
              "189"
            ]
          },
          "metadata": {},
          "execution_count": 124
        }
      ]
    },
    {
      "cell_type": "code",
      "source": [
        "soi"
      ],
      "metadata": {
        "colab": {
          "base_uri": "https://localhost:8080/"
        },
        "id": "jpKiXmkZ9DEb",
        "outputId": "6e901a25-7934-4b27-cd75-9a1dd9bbf220"
      },
      "execution_count": 125,
      "outputs": [
        {
          "output_type": "execute_result",
          "data": {
            "text/plain": [
              "['00/1164200.mp3',\n",
              " '00/12100.mp3',\n",
              " '00/1295900.mp3',\n",
              " '00/985000.mp3',\n",
              " '00/1398500.mp3',\n",
              " '00/1210700.mp3',\n",
              " '00/818600.mp3',\n",
              " '00/1339600.mp3',\n",
              " '00/506100.mp3',\n",
              " '00/390000.mp3',\n",
              " '00/16000.mp3',\n",
              " '00/1052800.mp3',\n",
              " '00/699100.mp3',\n",
              " '00/1330500.mp3',\n",
              " '00/1125400.mp3',\n",
              " '00/1319500.mp3',\n",
              " '00/1337800.mp3',\n",
              " '00/1277700.mp3',\n",
              " '00/1069400.mp3',\n",
              " '00/1371800.mp3',\n",
              " '00/1079400.mp3',\n",
              " '00/1062500.mp3',\n",
              " '00/1168500.mp3',\n",
              " '00/757500.mp3',\n",
              " '00/468500.mp3',\n",
              " '00/1381000.mp3',\n",
              " '00/1103000.mp3',\n",
              " '00/1189900.mp3',\n",
              " '00/759300.mp3',\n",
              " '00/913700.mp3',\n",
              " '00/1167300.mp3',\n",
              " '00/1226700.mp3',\n",
              " '00/1383900.mp3',\n",
              " '00/1288400.mp3',\n",
              " '00/80500.mp3',\n",
              " '01/16101.mp3',\n",
              " '01/1052801.mp3',\n",
              " '01/12101.mp3',\n",
              " '01/1121101.mp3',\n",
              " '01/986601.mp3',\n",
              " '01/1125001.mp3',\n",
              " '01/1086601.mp3',\n",
              " '01/1219101.mp3',\n",
              " '01/759301.mp3',\n",
              " '01/1018801.mp3',\n",
              " '01/824301.mp3',\n",
              " '01/1167301.mp3',\n",
              " '01/1380601.mp3',\n",
              " '01/661601.mp3',\n",
              " '01/1398501.mp3',\n",
              " '01/390001.mp3',\n",
              " '01/80501.mp3',\n",
              " '01/1125401.mp3',\n",
              " '01/399201.mp3',\n",
              " '01/1210701.mp3',\n",
              " '01/554901.mp3',\n",
              " '01/292501.mp3',\n",
              " '01/842401.mp3',\n",
              " '01/1157701.mp3',\n",
              " '01/1245901.mp3',\n",
              " '01/1062501.mp3',\n",
              " '01/1189901.mp3',\n",
              " '01/1398801.mp3',\n",
              " '01/1357701.mp3',\n",
              " '01/1164201.mp3',\n",
              " '01/1396501.mp3',\n",
              " '01/1304001.mp3',\n",
              " '01/913701.mp3',\n",
              " '01/718301.mp3',\n",
              " '01/1381001.mp3',\n",
              " '01/1264201.mp3',\n",
              " '01/361701.mp3',\n",
              " '01/1420701.mp3',\n",
              " '01/1406401.mp3',\n",
              " '01/708401.mp3',\n",
              " '01/1009701.mp3',\n",
              " '01/846501.mp3',\n",
              " '02/389702.mp3',\n",
              " '02/913702.mp3',\n",
              " '02/1337902.mp3',\n",
              " '02/1095102.mp3',\n",
              " '02/399202.mp3',\n",
              " '02/1167302.mp3',\n",
              " '02/80502.mp3',\n",
              " '02/1029002.mp3',\n",
              " '02/1361402.mp3',\n",
              " '02/842402.mp3',\n",
              " '02/1121102.mp3',\n",
              " '02/1189902.mp3',\n",
              " '02/12102.mp3',\n",
              " '02/1266502.mp3',\n",
              " '02/759302.mp3',\n",
              " '02/824302.mp3',\n",
              " '02/1398502.mp3',\n",
              " '02/1211802.mp3',\n",
              " '02/1380602.mp3',\n",
              " '02/1277702.mp3',\n",
              " '02/1062502.mp3',\n",
              " '02/1032802.mp3',\n",
              " '02/1349402.mp3',\n",
              " '02/1164202.mp3',\n",
              " '02/1125402.mp3',\n",
              " '02/1066302.mp3',\n",
              " '03/1405303.mp3',\n",
              " '03/1211803.mp3',\n",
              " '03/1288403.mp3',\n",
              " '03/1121503.mp3',\n",
              " '03/1347803.mp3',\n",
              " '03/1381003.mp3',\n",
              " '03/824303.mp3',\n",
              " '03/842403.mp3',\n",
              " '03/1167303.mp3',\n",
              " '03/783503.mp3',\n",
              " '03/1162103.mp3',\n",
              " '03/1062503.mp3',\n",
              " '03/1349403.mp3',\n",
              " '03/697303.mp3',\n",
              " '03/1125403.mp3',\n",
              " '03/661603.mp3',\n",
              " '03/1418303.mp3',\n",
              " '03/80503.mp3',\n",
              " '03/390003.mp3',\n",
              " '03/12303.mp3',\n",
              " '03/1121103.mp3',\n",
              " '03/759303.mp3',\n",
              " '03/345903.mp3',\n",
              " '03/1304003.mp3',\n",
              " '03/1250203.mp3',\n",
              " '03/1088603.mp3',\n",
              " '03/1337803.mp3',\n",
              " '03/1398803.mp3',\n",
              " '03/1164203.mp3',\n",
              " '03/1394303.mp3',\n",
              " '03/1306203.mp3',\n",
              " '03/1296703.mp3',\n",
              " '04/1374304.mp3',\n",
              " '04/759304.mp3',\n",
              " '04/147504.mp3',\n",
              " '04/1405004.mp3',\n",
              " '04/843404.mp3',\n",
              " '04/1319504.mp3',\n",
              " '04/1337804.mp3',\n",
              " '04/1121104.mp3',\n",
              " '04/1398804.mp3',\n",
              " '04/80504.mp3',\n",
              " '04/1394904.mp3',\n",
              " '04/1062504.mp3',\n",
              " '04/1420704.mp3',\n",
              " '04/1167304.mp3',\n",
              " '04/1371804.mp3',\n",
              " '04/1121404.mp3',\n",
              " '04/1304004.mp3',\n",
              " '04/1164204.mp3',\n",
              " '04/892004.mp3',\n",
              " '04/718304.mp3',\n",
              " '04/1125404.mp3',\n",
              " '04/78304.mp3',\n",
              " '04/1066204.mp3',\n",
              " '04/1151404.mp3',\n",
              " '04/1375904.mp3',\n",
              " '05/666305.mp3',\n",
              " '05/1024405.mp3',\n",
              " '05/1419105.mp3',\n",
              " '05/1337505.mp3',\n",
              " '05/1312105.mp3',\n",
              " '05/1226705.mp3',\n",
              " '05/1346205.mp3',\n",
              " '05/1167305.mp3',\n",
              " '05/1062505.mp3',\n",
              " '05/1149205.mp3',\n",
              " '05/108505.mp3',\n",
              " '05/1404705.mp3',\n",
              " '05/1319505.mp3',\n",
              " '05/283205.mp3',\n",
              " '05/993605.mp3',\n",
              " '05/1266505.mp3',\n",
              " '05/1176205.mp3',\n",
              " '05/1349705.mp3',\n",
              " '05/1164205.mp3',\n",
              " '05/1166105.mp3',\n",
              " '05/1381005.mp3',\n",
              " '05/395005.mp3',\n",
              " '05/1366005.mp3',\n",
              " '05/80505.mp3',\n",
              " '05/1313105.mp3',\n",
              " '05/1127605.mp3',\n",
              " '05/1294205.mp3',\n",
              " '05/1288105.mp3',\n",
              " '05/727905.mp3']"
            ]
          },
          "metadata": {},
          "execution_count": 125
        }
      ]
    },
    {
      "cell_type": "code",
      "source": [
        "inds = dict()\n",
        "for i, mood in enumerate(counts[:int(0.25 * total_moods) + 1]):\n",
        "  inds.update({mood[0] : i})\n",
        "inds"
      ],
      "metadata": {
        "colab": {
          "base_uri": "https://localhost:8080/"
        },
        "id": "IBLh_Pfs_OMc",
        "outputId": "dab04857-a5ea-4ef7-e76c-52a9ca928274"
      },
      "execution_count": 135,
      "outputs": [
        {
          "output_type": "execute_result",
          "data": {
            "text/plain": [
              "{'fast': 0,\n",
              " 'sexy': 1,\n",
              " 'mellow': 2,\n",
              " 'heavy': 3,\n",
              " 'horror': 4,\n",
              " 'travel': 5,\n",
              " 'holiday': 6,\n",
              " 'groovy': 7,\n",
              " 'funny': 8,\n",
              " 'retro': 9,\n",
              " 'hopeful': 10,\n",
              " 'powerful': 11,\n",
              " 'cool': 12,\n",
              " 'nature': 13,\n",
              " 'game': 14}"
            ]
          },
          "metadata": {},
          "execution_count": 135
        }
      ]
    },
    {
      "cell_type": "code",
      "source": [
        "def sudo_one_hot(df, soi, inds):\n",
        "  mini_df = df[df['PATH'].isin(soi)]\n",
        "  final = []\n",
        "  for i in range(len(mini_df)):\n",
        "    curr = np.zeros(len(inds))\n",
        "    moods = list(mini_df.iloc[i])[5:]\n",
        "    for theme in moods:\n",
        "      if type(theme) == str and \"mood\" in theme:\n",
        "        check = theme.split(\"---\")[-1]\n",
        "        if check in inds:\n",
        "          curr[inds[check]] = 1\n",
        "      else:\n",
        "        break\n",
        "    final.append(curr)\n",
        "  return final"
      ],
      "metadata": {
        "id": "BSPZM-To96y8"
      },
      "execution_count": 149,
      "outputs": []
    },
    {
      "cell_type": "code",
      "source": [
        "onehot = sudo_one_hot(df, soi, inds)"
      ],
      "metadata": {
        "id": "Qaqg7i0x-WMy"
      },
      "execution_count": 150,
      "outputs": []
    },
    {
      "cell_type": "code",
      "source": [
        "onehot[1]"
      ],
      "metadata": {
        "colab": {
          "base_uri": "https://localhost:8080/"
        },
        "id": "TOHZhvzWBAjD",
        "outputId": "20912398-722c-48d6-dfd2-318dfa63b92e"
      },
      "execution_count": 152,
      "outputs": [
        {
          "output_type": "execute_result",
          "data": {
            "text/plain": [
              "array([0., 0., 0., 1., 0., 0., 0., 0., 0., 0., 0., 0., 0., 0., 0.])"
            ]
          },
          "metadata": {},
          "execution_count": 152
        }
      ]
    },
    {
      "cell_type": "markdown",
      "source": [
        "##Downloading (ignore)"
      ],
      "metadata": {
        "id": "-eGTlIKQDa2d"
      }
    },
    {
      "cell_type": "code",
      "source": [
        "import requests\n",
        "import tarfile\n",
        "import wget\n",
        "import time\n",
        "from io import BytesIO"
      ],
      "metadata": {
        "id": "7LfFdfYo1BZq"
      },
      "execution_count": 111,
      "outputs": []
    },
    {
      "cell_type": "code",
      "source": [
        "def get_arr_from_tar(filename):\n",
        "  arr = None\n",
        "  tar = tarfile.open(filename)\n",
        "  for member in tar.getmembers()[1:]:\n",
        "      array_file = BytesIO()\n",
        "      array_file.write(tar.extractfile(member).read())\n",
        "      array_file.seek(0)\n",
        "      arr = np.load(array_file)\n",
        "  tar.close()\n",
        "  return arr"
      ],
      "metadata": {
        "id": "WGOuxkq14CaE"
      },
      "execution_count": 114,
      "outputs": []
    },
    {
      "cell_type": "code",
      "source": [
        "def download(output_dir=\"moodtheme_melspecs\"):\n",
        "  start = time.time()\n",
        "  for i in range(10):\n",
        "    url = \"https://cdn.freesound.org/mtg-jamendo/autotagging_moodtheme/melspecs/autotagging_moodtheme_melspecs-0\" + str(i) + \".tar\"\n",
        "    print(url)\n",
        "    r = wget.download(url)\n",
        "    arr = get_arr_from_tar(r)\n",
        "    print(arr.shape)\n",
        "    print(time.time() - start)"
      ],
      "metadata": {
        "id": "uCMvJQArft25"
      },
      "execution_count": 112,
      "outputs": []
    },
    {
      "cell_type": "code",
      "source": [
        "download()"
      ],
      "metadata": {
        "id": "xedNFR351SU4"
      },
      "execution_count": null,
      "outputs": []
    },
    {
      "cell_type": "code",
      "source": [],
      "metadata": {
        "id": "z0hUMFRk1UuB"
      },
      "execution_count": null,
      "outputs": []
    }
  ]
}